{
 "cells": [
  {
   "cell_type": "markdown",
   "metadata": {},
   "source": [
    "Question 1\n",
    "====\n",
    "\n",
    "$$ \n",
    "\\newcommand{\\x}{\\mathbf{x}}\n",
    "\\newcommand{\\W}{\\mathbf{W}}\n",
    "\\newcommand{\\a}{\\mathbf{a}}\n",
    "\\newcommand{\\b}{\\mathbf{b}}\n",
    "\\newcommand{\\w}{\\mathbf{w}}\n",
    "$$\n",
    "\n",
    "> A Boltzmann Machine takes the form:\n",
    ">\n",
    "> $$ P(\\x | \\W,\\a,\\b) = \\frac{1}{Z} \\exp \\left( \\frac{1}{2} \\x^{T} \\W \\x + \\b^{T} \\x \\right) $$\n",
    "> \n",
    "> 1. Show that the probability $ P(x_{i} =1|x_{rest}) = 1/(1+\\exp(-\\w_{i}^{T} \\x -b_{i})) $, where $ \\w_{i}^{T} $ is the $i$th row of $\\w$.\n",
    "> Write a matlab (Python) function `samplebm(W,b,n)` to generate from a Boltzmann machine with weight matrix `W` and `b` a column vector of biases.\n",
    "> The function should return a `d * n` matrix, where `n` is the number of samples.\n",
    "> You should do the sampling by choosing a random initialisation and Gibbs sampling (can be done in 6 lines of clean Matlab (_how many lines in Theano?_) code).\n",
    "> This will help you understand the working of the Boltzmann machine, and the working of Gibbs sampling.\n",
    "> If you do this you will probably remember both.\n",
    "\n",
    "Been looking for a chance to try out a new way of writing [Theano][] code, and it seems like this question could use some worked solutions. In any case, if you were really wanting to write a practical model like this you would probably want to write it in Theano over Matlab.\n",
    "\n",
    "The new method involves using [Sympy to do code generation][codegen] for Theano code. This should be really cool, because I'll be able to $\\LaTeX$ pretty print as I go, and at the end I'll have a stupidly fast Theano implementation.\n",
    "\n",
    "[theano]: http://deeplearning.net/software/theano/\n",
    "[codegen]: http://matthewrocklin.com/blog/work/2013/03/19/SymPy-Theano-part-1/"
   ]
  },
  {
   "cell_type": "code",
   "execution_count": null,
   "metadata": {
    "collapsed": true
   },
   "outputs": [],
   "source": []
  },
  {
   "cell_type": "code",
   "execution_count": null,
   "metadata": {
    "collapsed": true
   },
   "outputs": [],
   "source": []
  }
 ],
 "metadata": {
  "kernelspec": {
   "display_name": "Python 2",
   "language": "python",
   "name": "python2"
  },
  "language_info": {
   "codemirror_mode": {
    "name": "ipython",
    "version": 2
   },
   "file_extension": ".py",
   "mimetype": "text/x-python",
   "name": "python",
   "nbconvert_exporter": "python",
   "pygments_lexer": "ipython2",
   "version": "2.7.8"
  }
 },
 "nbformat": 4,
 "nbformat_minor": 0
}
