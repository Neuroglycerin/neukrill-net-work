{
 "cells": [
  {
   "cell_type": "markdown",
   "metadata": {},
   "source": [
    "Checking the model with superclass hierarchy with no augmentation. (It was manually switched off in the .json file)"
   ]
  },
  {
   "cell_type": "code",
   "execution_count": 9,
   "metadata": {
    "collapsed": false
   },
   "outputs": [
    {
     "name": "stdout",
     "output_type": "stream",
     "text": [
      "/afs/inf.ed.ac.uk/user/s13/s1320903/Neuroglycerin/neukrill-net-work\n"
     ]
    }
   ],
   "source": [
    "cd .."
   ]
  },
  {
   "cell_type": "markdown",
   "metadata": {},
   "source": [
    "Run the modification of check_test_score.py so that it can work with superclass representation."
   ]
  },
  {
   "cell_type": "code",
   "execution_count": 1,
   "metadata": {
    "collapsed": false
   },
   "outputs": [
    {
     "name": "stderr",
     "output_type": "stream",
     "text": [
      "Using gpu device 1: Tesla K40c\n"
     ]
    }
   ],
   "source": [
    "import numpy as np\n",
    "import pylearn2.utils\n",
    "import pylearn2.config\n",
    "import theano\n",
    "import neukrill_net.dense_dataset\n",
    "import neukrill_net.utils\n",
    "import sklearn.metrics\n",
    "import argparse\n",
    "import os\n",
    "import pylearn2.config.yaml_parse"
   ]
  },
  {
   "cell_type": "markdown",
   "metadata": {},
   "source": [
    "Check which core is free."
   ]
  },
  {
   "cell_type": "code",
   "execution_count": 6,
   "metadata": {
    "collapsed": false
   },
   "outputs": [
    {
     "name": "stdout",
     "output_type": "stream",
     "text": [
      "env: THEANO_FLAGS='device=gpu3,floatX=float32,base_compiledir=~/.theano/stonesoup3'\n"
     ]
    }
   ],
   "source": [
    "%env THEANO_FLAGS = 'device=gpu3,floatX=float32,base_compiledir=~/.theano/stonesoup3'"
   ]
  },
  {
   "cell_type": "code",
   "execution_count": 31,
   "metadata": {
    "collapsed": false
   },
   "outputs": [],
   "source": [
    "verbose = False\n",
    "augment = 1\n",
    "settings = neukrill_net.utils.Settings(\"settings.json\")"
   ]
  },
  {
   "cell_type": "markdown",
   "metadata": {},
   "source": [
    "Give the path to .json."
   ]
  },
  {
   "cell_type": "code",
   "execution_count": 14,
   "metadata": {
    "collapsed": false
   },
   "outputs": [],
   "source": [
    "run_settings = neukrill_net.utils.load_run_settings('run_settings/alexnet_based_extra_convlayer_with_superclasses.json', \n",
    "            settings, force=True)"
   ]
  },
  {
   "cell_type": "code",
   "execution_count": 49,
   "metadata": {
    "collapsed": false
   },
   "outputs": [],
   "source": [
    "model = pylearn2.utils.serial.load(run_settings['pickle abspath'])"
   ]
  },
  {
   "cell_type": "code",
   "execution_count": 50,
   "metadata": {
    "collapsed": false
   },
   "outputs": [
    {
     "name": "stdout",
     "output_type": "stream",
     "text": [
      "(3089, 188)\n"
     ]
    }
   ],
   "source": [
    "# format the YAML\n",
    "yaml_string = neukrill_net.utils.format_yaml(run_settings, settings)\n",
    "# load proxied objects\n",
    "proxied = pylearn2.config.yaml_parse.load(yaml_string, instantiate=False)\n",
    "# pull out proxied dataset\n",
    "proxdata = proxied.keywords['dataset']\n",
    "# force loading of dataset and switch to test dataset\n",
    "proxdata.keywords['force'] = True\n",
    "proxdata.keywords['training_set_mode'] = 'test'\n",
    "proxdata.keywords['verbose'] = False\n",
    "# then instantiate the dataset\n",
    "dataset = pylearn2.config.yaml_parse._instantiate(proxdata)"
   ]
  },
  {
   "cell_type": "code",
   "execution_count": 51,
   "metadata": {
    "collapsed": true
   },
   "outputs": [],
   "source": [
    "if hasattr(dataset.X, 'shape'):\n",
    "    N_examples = dataset.X.shape[0]\n",
    "else:\n",
    "    N_examples = len(dataset.X)\n",
    "batch_size = 500\n",
    "while N_examples%batch_size != 0:\n",
    "    batch_size += 1\n",
    "n_batches = int(N_examples/batch_size)"
   ]
  },
  {
   "cell_type": "code",
   "execution_count": 52,
   "metadata": {
    "collapsed": true
   },
   "outputs": [],
   "source": [
    "model.set_batch_size(batch_size)\n",
    "X = model.get_input_space().make_batch_theano()\n",
    "Y = model.fprop(X)\n",
    "f = theano.function([X],Y)"
   ]
  },
  {
   "cell_type": "code",
   "execution_count": 53,
   "metadata": {
    "collapsed": false
   },
   "outputs": [],
   "source": [
    "import neukrill_net.encoding as enc\n",
    "hier = enc.get_hierarchy()\n",
    "lengths = sum([len(array) for array in hier])\n",
    "y = np.zeros((N_examples*augment,lengths))\n",
    "# get the data specs from the cost function using the model\n",
    "pcost = proxied.keywords['algorithm'].keywords['cost']\n",
    "cost = pylearn2.config.yaml_parse._instantiate(pcost)\n",
    "data_specs = cost.get_data_specs(model)"
   ]
  },
  {
   "cell_type": "code",
   "execution_count": 54,
   "metadata": {
    "collapsed": false
   },
   "outputs": [],
   "source": [
    "i = 0 \n",
    "for _ in range(augment):\n",
    "    # make sequential iterator\n",
    "    iterator = dataset.iterator(batch_size=batch_size,num_batches=n_batches,\n",
    "                        mode='even_sequential', data_specs=data_specs)\n",
    "    for batch in iterator:\n",
    "        if verbose:\n",
    "            print(\"    Batch {0} of {1}\".format(i+1,n_batches*augment))\n",
    "        y[i*batch_size:(i+1)*batch_size,:] = f(batch[0])\n",
    "        i += 1"
   ]
  },
  {
   "cell_type": "markdown",
   "metadata": {},
   "source": [
    "Best .pkl scores as:"
   ]
  },
  {
   "cell_type": "code",
   "execution_count": 47,
   "metadata": {
    "collapsed": false
   },
   "outputs": [
    {
     "name": "stdout",
     "output_type": "stream",
     "text": [
      "Log loss: 1.49980241373\n"
     ]
    }
   ],
   "source": [
    "logloss = sklearn.metrics.log_loss(dataset.y[:, :len(settings.classes)], y[:, :len(settings.classes)])\n",
    "print(\"Log loss: {0}\".format(logloss))"
   ]
  },
  {
   "cell_type": "markdown",
   "metadata": {},
   "source": [
    "Recent .pkl scores as: (rerun relevant cells with a different path)"
   ]
  },
  {
   "cell_type": "code",
   "execution_count": 55,
   "metadata": {
    "collapsed": false
   },
   "outputs": [
    {
     "name": "stdout",
     "output_type": "stream",
     "text": [
      "Log loss: 1.51845664465\n"
     ]
    }
   ],
   "source": [
    "logloss = sklearn.metrics.log_loss(dataset.y[:, :len(settings.classes)], y[:, :len(settings.classes)])\n",
    "print(\"Log loss: {0}\".format(logloss))"
   ]
  },
  {
   "cell_type": "code",
   "execution_count": 62,
   "metadata": {
    "collapsed": false
   },
   "outputs": [
    {
     "name": "stdout",
     "output_type": "stream",
     "text": [
      "env: THEANO_FLAGS=device=gpu2,floatX=float32,base_compiledir=~/.theano/stonesoup2\n"
     ]
    }
   ],
   "source": [
    "%env THEANO_FLAGS = device=gpu2,floatX=float32,base_compiledir=~/.theano/stonesoup2"
   ]
  },
  {
   "cell_type": "code",
   "execution_count": 63,
   "metadata": {
    "collapsed": false,
    "scrolled": true
   },
   "outputs": [
    {
     "data": {
      "text/plain": [
       "{'ASPELL_CONF': 'master british',\n",
       " 'BASH': '/bin/bash',\n",
       " 'BASH_FUNC__command_not_found()': '() {  echo \"bash: $1: command not found\" 1>&2\\n}',\n",
       " 'BASH_FUNC_colloq()': '() {  more /usr/local/alert/misc/coll\\n}',\n",
       " 'BASH_FUNC_command_not_found_handle()': '() {  unset command_not_found_handle;\\n if [[ \"$IFS\" != \\' \\t\\n\\' ]]; then\\n _command_not_found $*;\\n fi;\\n function dbg () \\n { \\n [[ -n $CRICHTON_DEBUG ]] && echo $1 1>&2\\n };\\n SORT=\"/usr/bin/_SortBashRC\";\\n PATTERN=\\'[0-9][0-9][0-9].*\\';\\n if [[ -n $CRICHTON_DEBUG ]]; then\\n modules=$($SORT $CRICHTON_SYS/$PATTERN $CRICHTON_USR/$PATTERN);\\n else\\n modules=$($SORT $CRICHTON_SYS/$PATTERN $CRICHTON_USR/$PATTERN 2>&-);\\n fi;\\n dbg \"- Found $(/bin/echo $modules | /usr/bin/wc -w 2>&-) modules.\";\\n for mod in ${modules} _command_not_found;\\n do\\n dbg \"-- $(/bin/basename $mod 2>&-)\";\\n CRICHTON_SYS=$CRICHTON_SYS CRICHTON_USR=$CRICHTON_USR \"$mod\" $*;\\n exit=$?;\\n dbg \"[exit $exit]\";\\n [[ $exit == 255 ]] && { \\n _command_not_found $1;\\n break\\n };\\n [[ $exit == 0 ]] && break;\\n done;\\n return 127\\n}',\n",
       " 'BASH_FUNC_gnu()': '() {  command gnu -u $LOGNAME $*\\n}',\n",
       " 'BASH_FUNC_module()': '() {  eval `/usr/bin/modulecmd bash $*`\\n}',\n",
       " 'BASH_FUNC_purge()': '() {  rm -f *~ .*~ \\\\#*\\\\# tmp*\\n}',\n",
       " 'BASH_FUNC_resize()': '() {  eval `command resize`\\n}',\n",
       " 'BASH_FUNC_rvirsh()': '() {  KVMHOST=$1;\\n shift;\\n if [ \"$KVMHOST\" ]; then\\n if [ \"$KVMHOST\" = \".\" ]; then\\n URI=\"qemu:///system\";\\n else\\n URI=\"qemu+ssh://$KVMHOST/system\";\\n fi;\\n else\\n URI=\"qemu:///system\";\\n fi;\\n virsh --connect $URI $@\\n}',\n",
       " 'BASH_FUNC_setpath()': '() {  if [ -f /usr/bin/pathfix ]; then\\n pathfix_binary=/usr/bin/pathfix;\\n else\\n pathfix_binary=/usr/local/bin/pathfix;\\n fi;\\n new_PATH=`$pathfix_binary $@`;\\n [ \"$new_PATH\" ] && PATH=\"$new_PATH\";\\n export PATH\\n}',\n",
       " 'BASH_FUNC_setup()': '() {  source /usr/local/share/setup/setup.sh $*\\n}',\n",
       " 'CLICOLOR': '1',\n",
       " 'CRICHTON_SYS': '/etc/crichton.d',\n",
       " 'CRICHTON_USR': '/afs/inf.ed.ac.uk/user/s13/s1320903/.crichton.d',\n",
       " 'CUDA_ROOT': '/opt/cuda-5.0.35',\n",
       " 'CVS_RSH': 'ssh',\n",
       " 'EDITOR': '/usr/bin/emacs',\n",
       " 'ENVIRONMENT': 'fc5 ',\n",
       " 'ENV_ROOT': '/usr/share/defenv/bash',\n",
       " 'GIT_PAGER': 'cat',\n",
       " 'GNUSTEP_MAKEFILES': '/usr/lib64/GNUstep/Makefiles',\n",
       " 'G_BROKEN_FILENAMES': '1',\n",
       " 'HOME': '/afs/inf.ed.ac.uk/user/s13/s1320903',\n",
       " 'IDEA_JDK': '/usr/lib/jvm/java-sun',\n",
       " 'JPY_PARENT_PID': '74537',\n",
       " 'KDEDIRS': '/usr',\n",
       " 'KDE_IS_PRELINKED': '1',\n",
       " 'KRB5CCNAME': '/tmp/krb5cc_1024708_Fr20rB',\n",
       " 'LANG': 'en_GB.UTF-8',\n",
       " 'LD_LIBRARY_PATH': '/opt/cuda-5.0.35/lib:/opt/cuda-5.0.35/lib64',\n",
       " 'LESSOPEN': '|/usr/bin/lesspipe.sh %s',\n",
       " 'LOADEDMODULES': '',\n",
       " 'LOGNAME': 's1320903',\n",
       " 'LS_COLORS': 'rs=0:di=01;34:ln=01;36:mh=00:pi=40;33:so=01;35:do=01;35:bd=40;33;01:cd=40;33;01:or=40;31;01:mi=01;05;37;41:su=37;41:sg=30;43:ca=30;41:tw=30;42:ow=34;42:st=37;44:ex=01;32:*.tar=01;31:*.tgz=01;31:*.arj=01;31:*.taz=01;31:*.lzh=01;31:*.lzma=01;31:*.tlz=01;31:*.txz=01;31:*.zip=01;31:*.z=01;31:*.Z=01;31:*.dz=01;31:*.gz=01;31:*.lz=01;31:*.xz=01;31:*.bz2=01;31:*.tbz=01;31:*.tbz2=01;31:*.bz=01;31:*.tz=01;31:*.deb=01;31:*.rpm=01;31:*.jar=01;31:*.rar=01;31:*.ace=01;31:*.zoo=01;31:*.cpio=01;31:*.7z=01;31:*.rz=01;31:*.jpg=01;35:*.jpeg=01;35:*.gif=01;35:*.bmp=01;35:*.pbm=01;35:*.pgm=01;35:*.ppm=01;35:*.tga=01;35:*.xbm=01;35:*.xpm=01;35:*.tif=01;35:*.tiff=01;35:*.png=01;35:*.svg=01;35:*.svgz=01;35:*.mng=01;35:*.pcx=01;35:*.mov=01;35:*.mpg=01;35:*.mpeg=01;35:*.m2v=01;35:*.mkv=01;35:*.ogm=01;35:*.mp4=01;35:*.m4v=01;35:*.mp4v=01;35:*.vob=01;35:*.qt=01;35:*.nuv=01;35:*.wmv=01;35:*.asf=01;35:*.rm=01;35:*.rmvb=01;35:*.flc=01;35:*.avi=01;35:*.fli=01;35:*.flv=01;35:*.gl=01;35:*.dl=01;35:*.xcf=01;35:*.xwd=01;35:*.yuv=01;35:*.cgm=01;35:*.emf=01;35:*.axv=01;35:*.anx=01;35:*.ogv=01;35:*.ogx=01;35:*.aac=01;36:*.au=01;36:*.flac=01;36:*.mid=01;36:*.midi=01;36:*.mka=01;36:*.mp3=01;36:*.mpc=01;36:*.ogg=01;36:*.ra=01;36:*.wav=01;36:*.axa=01;36:*.oga=01;36:*.spx=01;36:*.xspf=01;36:',\n",
       " 'MAIL': '/var/mail/s1320903',\n",
       " 'MAPPATH': '/etc/amd:/etc',\n",
       " 'MODULEPATH': '/usr/share/Modules/modulefiles:/etc/modulefiles',\n",
       " 'MODULESHOME': '/usr/share/Modules',\n",
       " 'PAGER': 'cat',\n",
       " 'PATH': '/afs/inf.ed.ac.uk/user/s13/s1320903/Neuroglycerin/venv/bin:/afs/inf.ed.ac.uk/user/s13/s1320903/Neuroglycerin/venv/bin:/usr/lib64/qt-3.3/bin:/usr/lpp/mmfs/bin:/usr/local/bin/:/usr/local/sbin:/usr/bin:/bin:/opt/sicstus-4.0.1/bin',\n",
       " 'PWD': '/afs/inf.ed.ac.uk/user/s13/s1320903/Neuroglycerin/neukrill-net-work/notebooks',\n",
       " 'PYCHARM_JDK': '/usr/lib/jvm/java-sun',\n",
       " 'QTDIR': '/usr/lib64/qt-3.3',\n",
       " 'QTINC': '/usr/lib64/qt-3.3/include',\n",
       " 'QTLIB': '/usr/lib64/qt-3.3/lib',\n",
       " 'ROLES': ' ',\n",
       " 'SHELL': '/bin/bash',\n",
       " 'SHLVL': '3',\n",
       " 'SHORT_HOSTNAME': 'stonesoup',\n",
       " 'SSH_ASKPASS': '/usr/libexec/openssh/gnome-ssh-askpass',\n",
       " 'SSH_CLIENT': '129.215.91.176 37570 22',\n",
       " 'SSH_CONNECTION': '129.215.91.176 37570 129.215.33.107 22',\n",
       " 'SSH_TTY': '/dev/pts/21',\n",
       " 'STY': '73222.pts-21.stonesoup',\n",
       " 'SshAgent': '/usr/bin/ssh-agent',\n",
       " 'TERM': 'xterm-color',\n",
       " 'TERMCAP': 'SC|screen|VT 100/ANSI X3.64 virtual terminal:\\\\\\n\\t:DO=\\\\E[%dB:LE=\\\\E[%dD:RI=\\\\E[%dC:UP=\\\\E[%dA:bs:bt=\\\\E[Z:\\\\\\n\\t:cd=\\\\E[J:ce=\\\\E[K:cl=\\\\E[H\\\\E[J:cm=\\\\E[%i%d;%dH:ct=\\\\E[3g:\\\\\\n\\t:do=^J:nd=\\\\E[C:pt:rc=\\\\E8:rs=\\\\Ec:sc=\\\\E7:st=\\\\EH:up=\\\\EM:\\\\\\n\\t:le=^H:bl=^G:cr=^M:it#8:ho=\\\\E[H:nw=\\\\EE:ta=^I:is=\\\\E)0:\\\\\\n\\t:li#24:co#80:am:xn:xv:LP:sr=\\\\EM:al=\\\\E[L:AL=\\\\E[%dL:\\\\\\n\\t:cs=\\\\E[%i%d;%dr:dl=\\\\E[M:DL=\\\\E[%dM:dc=\\\\E[P:DC=\\\\E[%dP:\\\\\\n\\t:im=\\\\E[4h:ei=\\\\E[4l:mi:IC=\\\\E[%d@:ks=\\\\E[?1h\\\\E=:\\\\\\n\\t:ke=\\\\E[?1l\\\\E>:vi=\\\\E[?25l:ve=\\\\E[34h\\\\E[?25h:vs=\\\\E[34l:\\\\\\n\\t:ti=\\\\E[?1049h:te=\\\\E[?1049l:us=\\\\E[4m:ue=\\\\E[24m:so=\\\\E[3m:\\\\\\n\\t:se=\\\\E[23m:mb=\\\\E[5m:md=\\\\E[1m:mr=\\\\E[7m:me=\\\\E[m:ms:\\\\\\n\\t:Co#8:pa#64:AF=\\\\E[3%dm:AB=\\\\E[4%dm:op=\\\\E[39;49m:AX:\\\\\\n\\t:vb=\\\\Eg:G0:as=\\\\E(0:ae=\\\\E(B:\\\\\\n\\t:ac=\\\\140\\\\140aaffggjjkkllmmnnooppqqrrssttuuvvwwxxyyzz{{||}}~~..--++,,hhII00:\\\\\\n\\t:po=\\\\E[5i:pf=\\\\E[4i:k0=\\\\E[10~:k1=\\\\EOP:k2=\\\\EOQ:k3=\\\\EOR:\\\\\\n\\t:k4=\\\\EOS:k5=\\\\E[15~:k6=\\\\E[17~:k7=\\\\E[18~:k8=\\\\E[19~:\\\\\\n\\t:k9=\\\\E[20~:k;=\\\\E[21~:F1=\\\\E[23~:F2=\\\\E[24~:F3=\\\\E[1;2P:\\\\\\n\\t:F4=\\\\E[1;2Q:F5=\\\\E[1;2R:F6=\\\\E[1;2S:F7=\\\\E[15;2~:\\\\\\n\\t:F8=\\\\E[17;2~:F9=\\\\E[18;2~:FA=\\\\E[19;2~:kb=\\x7f:K2=\\\\EOE:\\\\\\n\\t:kB=\\\\E[Z:kF=\\\\E[1;2B:kR=\\\\E[1;2A:*4=\\\\E[3;2~:*7=\\\\E[1;2F:\\\\\\n\\t:#2=\\\\E[1;2H:#3=\\\\E[2;2~:#4=\\\\E[1;2D:%c=\\\\E[6;2~:%e=\\\\E[5;2~:\\\\\\n\\t:%i=\\\\E[1;2C:kh=\\\\E[1~:@1=\\\\E[1~:kH=\\\\E[4~:@7=\\\\E[4~:\\\\\\n\\t:kN=\\\\E[6~:kP=\\\\E[5~:kI=\\\\E[2~:kD=\\\\E[3~:ku=\\\\EOA:kd=\\\\EOB:\\\\\\n\\t:kr=\\\\EOC:kl=\\\\EOD:km:',\n",
       " 'THEANO_FLAGS': 'device=gpu2,floatX=float32,base_compiledir=~/.theano/stonesoup2',\n",
       " 'USER': 's1320903',\n",
       " 'VIRTUAL_ENV': '/afs/inf.ed.ac.uk/user/s13/s1320903/Neuroglycerin/venv',\n",
       " 'WINDOW': '0',\n",
       " 'XPRINTER': 'xp_ps_spooldir_tmp_Xprintjobs',\n",
       " '_': '/usr/bin/krenew'}"
      ]
     },
     "execution_count": 63,
     "metadata": {},
     "output_type": "execute_result"
    }
   ],
   "source": [
    "%env"
   ]
  },
  {
   "cell_type": "markdown",
   "metadata": {},
   "source": [
    "Check the same model with 8 augmentation."
   ]
  },
  {
   "cell_type": "code",
   "execution_count": 64,
   "metadata": {
    "collapsed": false
   },
   "outputs": [
    {
     "name": "stdout",
     "output_type": "stream",
     "text": [
      "(24712, 188)\n"
     ]
    }
   ],
   "source": [
    "import numpy as np\n",
    "import pylearn2.utils\n",
    "import pylearn2.config\n",
    "import theano\n",
    "import neukrill_net.dense_dataset\n",
    "import neukrill_net.utils\n",
    "import sklearn.metrics\n",
    "import argparse\n",
    "import os\n",
    "import pylearn2.config.yaml_parse\n",
    "\n",
    "verbose = False\n",
    "augment = 1\n",
    "settings = neukrill_net.utils.Settings(\"settings.json\")\n",
    "\n",
    "run_settings = neukrill_net.utils.load_run_settings('run_settings/alexnet_based_extra_convlayer_with_superclasses_aug.json', \n",
    "            settings, force=True)\n",
    "\n",
    "model = pylearn2.utils.serial.load(run_settings['pickle abspath'])\n",
    "\n",
    "# format the YAML\n",
    "yaml_string = neukrill_net.utils.format_yaml(run_settings, settings)\n",
    "# load proxied objects\n",
    "proxied = pylearn2.config.yaml_parse.load(yaml_string, instantiate=False)\n",
    "# pull out proxied dataset\n",
    "proxdata = proxied.keywords['dataset']\n",
    "# force loading of dataset and switch to test dataset\n",
    "proxdata.keywords['force'] = True\n",
    "proxdata.keywords['training_set_mode'] = 'test'\n",
    "proxdata.keywords['verbose'] = False\n",
    "# then instantiate the dataset\n",
    "dataset = pylearn2.config.yaml_parse._instantiate(proxdata)\n",
    "\n",
    "if hasattr(dataset.X, 'shape'):\n",
    "    N_examples = dataset.X.shape[0]\n",
    "else:\n",
    "    N_examples = len(dataset.X)\n",
    "batch_size = 500\n",
    "while N_examples%batch_size != 0:\n",
    "    batch_size += 1\n",
    "n_batches = int(N_examples/batch_size)\n",
    "\n",
    "model.set_batch_size(batch_size)\n",
    "X = model.get_input_space().make_batch_theano()\n",
    "Y = model.fprop(X)\n",
    "f = theano.function([X],Y)\n",
    "\n",
    "import neukrill_net.encoding as enc\n",
    "hier = enc.get_hierarchy()\n",
    "lengths = sum([len(array) for array in hier])\n",
    "y = np.zeros((N_examples*augment,lengths))\n",
    "# get the data specs from the cost function using the model\n",
    "pcost = proxied.keywords['algorithm'].keywords['cost']\n",
    "cost = pylearn2.config.yaml_parse._instantiate(pcost)\n",
    "data_specs = cost.get_data_specs(model)\n",
    "\n",
    "i = 0 \n",
    "for _ in range(augment):\n",
    "    # make sequential iterator\n",
    "    iterator = dataset.iterator(batch_size=batch_size,num_batches=n_batches,\n",
    "                        mode='even_sequential', data_specs=data_specs)\n",
    "    for batch in iterator:\n",
    "        if verbose:\n",
    "            print(\"    Batch {0} of {1}\".format(i+1,n_batches*augment))\n",
    "        y[i*batch_size:(i+1)*batch_size,:] = f(batch[0])\n",
    "        i += 1"
   ]
  },
  {
   "cell_type": "markdown",
   "metadata": {},
   "source": [
    "Best .pkl scored as:"
   ]
  },
  {
   "cell_type": "code",
   "execution_count": 65,
   "metadata": {
    "collapsed": false
   },
   "outputs": [
    {
     "name": "stdout",
     "output_type": "stream",
     "text": [
      "Log loss: 2.02097272697\n"
     ]
    }
   ],
   "source": [
    "logloss = sklearn.metrics.log_loss(dataset.y[:, :len(settings.classes)], y[:, :len(settings.classes)])\n",
    "print(\"Log loss: {0}\".format(logloss))"
   ]
  },
  {
   "cell_type": "markdown",
   "metadata": {},
   "source": [
    "Strange. Not as good as we hoped. Is there a problem with augmentation?"
   ]
  },
  {
   "cell_type": "markdown",
   "metadata": {},
   "source": [
    "Let's plot the nll."
   ]
  },
  {
   "cell_type": "code",
   "execution_count": 67,
   "metadata": {
    "collapsed": false
   },
   "outputs": [],
   "source": [
    "import pylearn2.utils\n",
    "import pylearn2.config\n",
    "import theano\n",
    "import neukrill_net.dense_dataset\n",
    "import neukrill_net.utils\n",
    "import numpy as np\n",
    "%matplotlib inline\n",
    "import matplotlib.pyplot as plt\n",
    "#import holoviews as hl\n",
    "#load_ext holoviews.ipython\n",
    "import sklearn.metrics"
   ]
  },
  {
   "cell_type": "code",
   "execution_count": 73,
   "metadata": {
    "collapsed": false
   },
   "outputs": [],
   "source": [
    "m = pylearn2.utils.serial.load(\n",
    "    \"/disk/scratch/neuroglycerin/models/alexnet_based_extra_convlayer_with_superclasses_aug_recent.pkl\")"
   ]
  },
  {
   "cell_type": "code",
   "execution_count": 75,
   "metadata": {
    "collapsed": false
   },
   "outputs": [
    {
     "data": {
      "text/plain": [
       "[<matplotlib.lines.Line2D at 0x7f6a5374a4d0>]"
      ]
     },
     "execution_count": 75,
     "metadata": {},
     "output_type": "execute_result"
    },
    {
     "data": {
      "image/png": "[encoded data removed]",
      "text/plain": [
       "<matplotlib.figure.Figure at 0x7f6a537c5b10>"
      ]
     },
     "metadata": {},
     "output_type": "display_data"
    }
   ],
   "source": [
    "channel = m.monitor.channels[\"valid_y_y_1_nll\"]\n",
    "plt.plot(channel.example_record,channel.val_record)"
   ]
  },
  {
   "cell_type": "markdown",
   "metadata": {},
   "source": [
    "Looks like it's pretty stable at 4 and had this random strange glitch which gave the best result."
   ]
  },
  {
   "cell_type": "markdown",
   "metadata": {},
   "source": [
    "Look at the best pkl of the none-aug model again: (just to confirm that it was indeed good)"
   ]
  },
  {
   "cell_type": "code",
   "execution_count": 76,
   "metadata": {
    "collapsed": false
   },
   "outputs": [
    {
     "name": "stdout",
     "output_type": "stream",
     "text": [
      "(3089, 188)\n"
     ]
    }
   ],
   "source": [
    "import numpy as np\n",
    "import pylearn2.utils\n",
    "import pylearn2.config\n",
    "import theano\n",
    "import neukrill_net.dense_dataset\n",
    "import neukrill_net.utils\n",
    "import sklearn.metrics\n",
    "import argparse\n",
    "import os\n",
    "import pylearn2.config.yaml_parse\n",
    "\n",
    "verbose = False\n",
    "augment = 1\n",
    "settings = neukrill_net.utils.Settings(\"settings.json\")\n",
    "\n",
    "run_settings = neukrill_net.utils.load_run_settings('run_settings/alexnet_based_extra_convlayer_with_superclasses.json', \n",
    "            settings, force=True)\n",
    "\n",
    "model = pylearn2.utils.serial.load(run_settings['pickle abspath'])\n",
    "\n",
    "# format the YAML\n",
    "yaml_string = neukrill_net.utils.format_yaml(run_settings, settings)\n",
    "# load proxied objects\n",
    "proxied = pylearn2.config.yaml_parse.load(yaml_string, instantiate=False)\n",
    "# pull out proxied dataset\n",
    "proxdata = proxied.keywords['dataset']\n",
    "# force loading of dataset and switch to test dataset\n",
    "proxdata.keywords['force'] = True\n",
    "proxdata.keywords['training_set_mode'] = 'test'\n",
    "proxdata.keywords['verbose'] = False\n",
    "# then instantiate the dataset\n",
    "dataset = pylearn2.config.yaml_parse._instantiate(proxdata)\n",
    "\n",
    "if hasattr(dataset.X, 'shape'):\n",
    "    N_examples = dataset.X.shape[0]\n",
    "else:\n",
    "    N_examples = len(dataset.X)\n",
    "batch_size = 500\n",
    "while N_examples%batch_size != 0:\n",
    "    batch_size += 1\n",
    "n_batches = int(N_examples/batch_size)\n",
    "\n",
    "model.set_batch_size(batch_size)\n",
    "X = model.get_input_space().make_batch_theano()\n",
    "Y = model.fprop(X)\n",
    "f = theano.function([X],Y)\n",
    "\n",
    "import neukrill_net.encoding as enc\n",
    "hier = enc.get_hierarchy()\n",
    "lengths = sum([len(array) for array in hier])\n",
    "y = np.zeros((N_examples*augment,lengths))\n",
    "# get the data specs from the cost function using the model\n",
    "pcost = proxied.keywords['algorithm'].keywords['cost']\n",
    "cost = pylearn2.config.yaml_parse._instantiate(pcost)\n",
    "data_specs = cost.get_data_specs(model)\n",
    "\n",
    "i = 0 \n",
    "for _ in range(augment):\n",
    "    # make sequential iterator\n",
    "    iterator = dataset.iterator(batch_size=batch_size,num_batches=n_batches,\n",
    "                        mode='even_sequential', data_specs=data_specs)\n",
    "    for batch in iterator:\n",
    "        if verbose:\n",
    "            print(\"    Batch {0} of {1}\".format(i+1,n_batches*augment))\n",
    "        y[i*batch_size:(i+1)*batch_size,:] = f(batch[0])\n",
    "        i += 1"
   ]
  },
  {
   "cell_type": "code",
   "execution_count": 77,
   "metadata": {
    "collapsed": false
   },
   "outputs": [
    {
     "name": "stdout",
     "output_type": "stream",
     "text": [
      "Log loss: 1.49980241373\n"
     ]
    }
   ],
   "source": [
    "logloss = sklearn.metrics.log_loss(dataset.y[:, :len(settings.classes)], y[:, :len(settings.classes)])\n",
    "print(\"Log loss: {0}\".format(logloss))"
   ]
  },
  {
   "cell_type": "markdown",
   "metadata": {},
   "source": [
    "It was. Annoying. Let's plot the nll too:"
   ]
  },
  {
   "cell_type": "code",
   "execution_count": 78,
   "metadata": {
    "collapsed": true
   },
   "outputs": [],
   "source": [
    "m = pylearn2.utils.serial.load(\n",
    "    \"/disk/scratch/neuroglycerin/models/alexnet_based_extra_convlayer_with_superclasses.pkl\")"
   ]
  },
  {
   "cell_type": "code",
   "execution_count": 79,
   "metadata": {
    "collapsed": false
   },
   "outputs": [
    {
     "data": {
      "text/plain": [
       "[<matplotlib.lines.Line2D at 0x7f6a5a676450>]"
      ]
     },
     "execution_count": 79,
     "metadata": {},
     "output_type": "execute_result"
    },
    {
     "data": {
      "image/png": "[encoded data removed]",
      "text/plain": [
       "<matplotlib.figure.Figure at 0x7f6a5a3ec210>"
      ]
     },
     "metadata": {},
     "output_type": "display_data"
    }
   ],
   "source": [
    "channel = m.monitor.channels[\"valid_y_y_1_nll\"]\n",
    "plt.plot(channel.example_record,channel.val_record)"
   ]
  },
  {
   "cell_type": "markdown",
   "metadata": {},
   "source": [
    "That's way nicer. Looks like it was working fine."
   ]
  },
  {
   "cell_type": "markdown",
   "metadata": {},
   "source": [
    "Now we are going to modify the dense dataset class so that for each image, the same exact image is produced. This was we will mimic the augmentation but effectively will run on exactly the same dataset. We can use the same .json and .yaml files too."
   ]
  }
 ],
 "metadata": {
  "kernelspec": {
   "display_name": "Python 2",
   "language": "python",
   "name": "python2"
  },
  "language_info": {
   "codemirror_mode": {
    "name": "ipython",
    "version": 2
   },
   "file_extension": ".py",
   "mimetype": "text/x-python",
   "name": "python",
   "nbconvert_exporter": "python",
   "pygments_lexer": "ipython2",
   "version": "2.7.8"
  }
 },
 "nbformat": 4,
 "nbformat_minor": 0
}
