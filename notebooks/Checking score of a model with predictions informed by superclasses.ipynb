{
 "cells": [
  {
   "cell_type": "code",
   "execution_count": 11,
   "metadata": {
    "collapsed": false
   },
   "outputs": [
    {
     "name": "stdout",
     "output_type": "stream",
     "text": [
      "/afs/inf.ed.ac.uk/user/s13/s1320903/Neuroglycerin/neukrill-net-work\n"
     ]
    }
   ],
   "source": [
    "cd .."
   ]
  },
  {
   "cell_type": "code",
   "execution_count": 17,
   "metadata": {
    "collapsed": false
   },
   "outputs": [
    {
     "name": "stdout",
     "output_type": "stream",
     "text": [
      "The holoviews.ipython extension is already loaded. To reload it, use:\n",
      "  %reload_ext holoviews.ipython\n"
     ]
    }
   ],
   "source": [
    "import pylearn2.utils\n",
    "import pylearn2.config\n",
    "import theano\n",
    "import neukrill_net.utils\n",
    "import numpy as np\n",
    "%matplotlib inline\n",
    "import matplotlib.pyplot as plt\n",
    "import holoviews as hl\n",
    "%load_ext holoviews.ipython\n",
    "import sklearn.metrics\n",
    "import pickle\n",
    "import neukrill_net.utils\n",
    "import neukrill_net.encoding as enc\n",
    "import neukrill_net.taxonomy as t"
   ]
  },
  {
   "cell_type": "code",
   "execution_count": 46,
   "metadata": {
    "collapsed": false
   },
   "outputs": [],
   "source": [
    "settings = neukrill_net.utils.Settings(\"settings.json\")\n",
    "run_settings = neukrill_net.utils.load_run_settings('run_settings/experiment_setting_colnorms_higher_aug.json', \n",
    "            settings, force=True)\n",
    "model = pylearn2.utils.serial.load(run_settings['pickle abspath'])"
   ]
  },
  {
   "cell_type": "code",
   "execution_count": 47,
   "metadata": {
    "collapsed": false
   },
   "outputs": [],
   "source": [
    "# format the YAML\n",
    "yaml_string = neukrill_net.utils.format_yaml(run_settings, settings)\n",
    "# load proxied objects\n",
    "proxied = pylearn2.config.yaml_parse.load(yaml_string, instantiate=False)\n",
    "# pull out proxied dataset\n",
    "proxdata = proxied.keywords['dataset']\n",
    "# force loading of dataset and switch to test dataset\n",
    "proxdata.keywords['force'] = True\n",
    "proxdata.keywords['training_set_mode'] = 'test'\n",
    "proxdata.keywords['verbose'] = False\n",
    "# then instantiate the dataset\n",
    "dataset = pylearn2.config.yaml_parse._instantiate(proxdata)"
   ]
  },
  {
   "cell_type": "code",
   "execution_count": 48,
   "metadata": {
    "collapsed": false
   },
   "outputs": [],
   "source": [
    "if hasattr(dataset.X, 'shape'):\n",
    "    N_examples = dataset.X.shape[0]\n",
    "else:\n",
    "    N_examples = len(dataset.X)\n",
    "batch_size = 500\n",
    "while N_examples%batch_size != 0:\n",
    "    batch_size += 1\n",
    "n_batches = int(N_examples/batch_size)\n",
    "#n_classes = len(settings.classes)"
   ]
  },
  {
   "cell_type": "code",
   "execution_count": 49,
   "metadata": {
    "collapsed": true
   },
   "outputs": [],
   "source": [
    "model.set_batch_size(batch_size)\n",
    "X = model.get_input_space().make_batch_theano()\n",
    "Y = model.fprop(X)\n",
    "if type(X) == tuple:\n",
    "    f = theano.function(X,Y)\n",
    "else:\n",
    "    f = theano.function([X],Y)"
   ]
  },
  {
   "cell_type": "code",
   "execution_count": 50,
   "metadata": {
    "collapsed": false
   },
   "outputs": [],
   "source": [
    "augment = 1\n",
    "y = np.zeros((N_examples*augment,188))\n",
    "# get the data specs from the cost function using the model\n",
    "pcost = proxied.keywords['algorithm'].keywords['cost']\n",
    "cost = pylearn2.config.yaml_parse._instantiate(pcost)\n",
    "data_specs = cost.get_data_specs(model)\n",
    "i = 0"
   ]
  },
  {
   "cell_type": "code",
   "execution_count": 51,
   "metadata": {
    "collapsed": false
   },
   "outputs": [],
   "source": [
    "for _ in range(augment):\n",
    "    # make sequential iterator\n",
    "    iterator = dataset.iterator(batch_size=batch_size,num_batches=n_batches,\n",
    "                        mode='even_sequential', data_specs=data_specs)\n",
    "    for batch in iterator:\n",
    "        if type(X) == tuple:\n",
    "            y[i*batch_size:(i+1)*batch_size,:] = f(batch[0],batch[1])\n",
    "        else:\n",
    "            y[i*batch_size:(i+1)*batch_size,:] = f(batch[0])\n",
    "        i += 1"
   ]
  },
  {
   "cell_type": "code",
   "execution_count": 52,
   "metadata": {
    "collapsed": true
   },
   "outputs": [],
   "source": [
    "af = run_settings.get(\"augmentation_factor\",1)\n",
    "if af > 1:\n",
    "    y_collapsed = np.zeros((int(N_examples/af), 188)) \n",
    "    for i,(low,high) in enumerate(zip(range(0,dataset.y.shape[0],af),\n",
    "                                range(af,dataset.y.shape[0]+af,af))):\n",
    "        y_collapsed[i,:] = np.mean(y[low:high,:], axis=0)\n",
    "    y = y_collapsed\n",
    "    # and collapse labels\n",
    "    labels = dataset.y[range(0,dataset.y.shape[0],af)]\n",
    "elif augment > 1:\n",
    "    y_collapsed = np.zeros((N_examples,188))\n",
    "    # different kind of augmentation, has to be collapsed differently\n",
    "    for row in range(N_examples):\n",
    "        y_collapsed[row,:] = np.mean(np.vstack([r for r in \n",
    "            y[[i for i in range(row,N_examples*augment,N_examples)],:]]), \n",
    "            axis=0)\n",
    "    y = y_collapsed            \n",
    "    labels = dataset.y\n",
    "else:\n",
    "    labels = dataset.y"
   ]
  },
  {
   "cell_type": "code",
   "execution_count": 53,
   "metadata": {
    "collapsed": false
   },
   "outputs": [
    {
     "data": {
      "text/plain": [
       "(3089, 188)"
      ]
     },
     "execution_count": 53,
     "metadata": {},
     "output_type": "execute_result"
    }
   ],
   "source": [
    "y.shape"
   ]
  },
  {
   "cell_type": "code",
   "execution_count": 59,
   "metadata": {
    "collapsed": false
   },
   "outputs": [
    {
     "data": {
      "text/plain": [
       "(3089, 188)"
      ]
     },
     "execution_count": 59,
     "metadata": {},
     "output_type": "execute_result"
    }
   ],
   "source": [
    "predictions = np.zeros(y.shape)\n",
    "np.copyto(predictions, y)\n",
    "predictions.shape"
   ]
  },
  {
   "cell_type": "markdown",
   "metadata": {},
   "source": [
    "Predict with the classes."
   ]
  },
  {
   "cell_type": "code",
   "execution_count": 60,
   "metadata": {
    "collapsed": false
   },
   "outputs": [
    {
     "name": "stdout",
     "output_type": "stream",
     "text": [
      "Log loss: 0.935334935387\n"
     ]
    }
   ],
   "source": [
    "class_predictions = predictions[:, :121]\n",
    "labels = labels[:, :121]\n",
    "logloss = sklearn.metrics.log_loss(labels,class_predictions)\n",
    "print(\"Log loss: {0}\".format(logloss))"
   ]
  },
  {
   "cell_type": "markdown",
   "metadata": {},
   "source": [
    "Now let's try with superclasses."
   ]
  },
  {
   "cell_type": "code",
   "execution_count": 31,
   "metadata": {
    "collapsed": false
   },
   "outputs": [
    {
     "data": {
      "text/plain": [
       "(3089, 38)"
      ]
     },
     "execution_count": 31,
     "metadata": {},
     "output_type": "execute_result"
    }
   ],
   "source": [
    "superclasses = predictions[:,121:(121+38)]\n",
    "superclasses.shape"
   ]
  },
  {
   "cell_type": "code",
   "execution_count": 61,
   "metadata": {
    "collapsed": true
   },
   "outputs": [],
   "source": [
    "import neukrill_net.taxonomy as t\n",
    "only_leaf_children = []\n",
    "hier = enc.get_hierarchy(settings)\n",
    "\n",
    "layer = t.TaxonomyLayer(1)\n",
    "\n",
    "for s in hier[1]:\n",
    "    flag = True\n",
    "    for key, values in t.superclasses.items():\n",
    "        for i, v in enumerate(values):\n",
    "            if v == s and i != 1:\n",
    "                flag = False\n",
    "    if flag:\n",
    "        if s not in only_leaf_children:\n",
    "            only_leaf_children.append(s)"
   ]
  },
  {
   "cell_type": "code",
   "execution_count": 33,
   "metadata": {
    "collapsed": true
   },
   "outputs": [],
   "source": [
    "import neukrill_net.taxonomy as t\n",
    "layer = t.TaxonomyLayer(1)\n",
    "\n",
    "backmap = {}\n",
    "for i, c in enumerate(settings.classes):\n",
    "    j = int(np.where(np.array(hier[1]) == layer[c])[0])\n",
    "    if hier[1][j] in only_leaf_children:\n",
    "        try:\n",
    "            backmap[j] += [i]\n",
    "        except:\n",
    "            backmap[j] = [i]"
   ]
  },
  {
   "cell_type": "code",
   "execution_count": 34,
   "metadata": {
    "collapsed": false
   },
   "outputs": [
    {
     "name": "stdout",
     "output_type": "stream",
     "text": [
      "0\n",
      "1000\n",
      "2000\n",
      "3000\n"
     ]
    }
   ],
   "source": [
    "class_predictions = predictions[:, 0:121]\n",
    "nr = class_predictions\n",
    "weight = 0.01\n",
    "\n",
    "for index,r in enumerate(superclasses):\n",
    "    if index%1000 == 0:\n",
    "        print index\n",
    "    for i,j in enumerate(r):\n",
    "        priors = []\n",
    "        if i in backmap:\n",
    "            d = sum([settings.class_priors[k] for k in backmap[i]])\n",
    "            for a in backmap[i]:\n",
    "                priors.append(settings.class_priors[a]/d)\n",
    "            nr[index,backmap[i]] = nr[index, backmap[i]]*(1-weight) + (weight)*j*np.array(priors)"
   ]
  },
  {
   "cell_type": "code",
   "execution_count": 33,
   "metadata": {
    "collapsed": false,
    "scrolled": true
   },
   "outputs": [
    {
     "data": {
      "text/plain": [
       "(3089, 121)"
      ]
     },
     "execution_count": 33,
     "metadata": {},
     "output_type": "execute_result"
    }
   ],
   "source": [
    "nr.shape"
   ]
  },
  {
   "cell_type": "markdown",
   "metadata": {},
   "source": [
    "With weight=0 it's the same."
   ]
  },
  {
   "cell_type": "code",
   "execution_count": 18,
   "metadata": {
    "collapsed": false
   },
   "outputs": [
    {
     "name": "stdout",
     "output_type": "stream",
     "text": [
      "Log loss: 0.935334935387\n"
     ]
    }
   ],
   "source": [
    "logloss = sklearn.metrics.log_loss(labels,nr)\n",
    "print(\"Log loss: {0}\".format(logloss))"
   ]
  },
  {
   "cell_type": "markdown",
   "metadata": {},
   "source": [
    "With weight=0.01."
   ]
  },
  {
   "cell_type": "code",
   "execution_count": 22,
   "metadata": {
    "collapsed": false,
    "scrolled": true
   },
   "outputs": [
    {
     "name": "stdout",
     "output_type": "stream",
     "text": [
      "Log loss: 0.933100272368\n"
     ]
    }
   ],
   "source": [
    "logloss = sklearn.metrics.log_loss(labels,nr)\n",
    "print(\"Log loss: {0}\".format(logloss))"
   ]
  },
  {
   "cell_type": "markdown",
   "metadata": {},
   "source": [
    "With weight=0.02."
   ]
  },
  {
   "cell_type": "code",
   "execution_count": 35,
   "metadata": {
    "collapsed": false,
    "scrolled": true
   },
   "outputs": [
    {
     "name": "stdout",
     "output_type": "stream",
     "text": [
      "Log loss: 0.933426465862\n"
     ]
    }
   ],
   "source": [
    "logloss = sklearn.metrics.log_loss(labels,nr)\n",
    "print(\"Log loss: {0}\".format(logloss))"
   ]
  },
  {
   "cell_type": "markdown",
   "metadata": {},
   "source": [
    "Log loss plot"
   ]
  },
  {
   "cell_type": "code",
   "execution_count": 37,
   "metadata": {
    "collapsed": true
   },
   "outputs": [],
   "source": [
    "N = y.shape[0]"
   ]
  },
  {
   "cell_type": "code",
   "execution_count": 47,
   "metadata": {
    "collapsed": true
   },
   "outputs": [],
   "source": [
    "logloss = lambda x: -(1./N)*np.log(x[0][x[1]])"
   ]
  },
  {
   "cell_type": "code",
   "execution_count": 48,
   "metadata": {
    "collapsed": false
   },
   "outputs": [],
   "source": [
    "ilabels = np.where(labels)[1]"
   ]
  },
  {
   "cell_type": "code",
   "execution_count": 49,
   "metadata": {
    "collapsed": false
   },
   "outputs": [],
   "source": [
    "ll = []\n",
    "for i,(p,l) in enumerate(zip(y,ilabels)):\n",
    "    ll.append((i,logloss((p,l))))"
   ]
  },
  {
   "cell_type": "code",
   "execution_count": 52,
   "metadata": {
    "collapsed": false,
    "scrolled": true
   },
   "outputs": [
    {
     "data": {
      "image/png": "[encoded data removed]",
      "text/plain": [
       "<matplotlib.figure.Figure at 0x7f4153b4ce50>"
      ]
     },
     "metadata": {},
     "output_type": "display_data"
    }
   ],
   "source": [
    "h=plt.hist(zip(*ll)[1], bins=50)"
   ]
  },
  {
   "cell_type": "code",
   "execution_count": 56,
   "metadata": {
    "collapsed": false
   },
   "outputs": [
    {
     "data": {
      "text/plain": [
       "1512"
      ]
     },
     "execution_count": 56,
     "metadata": {},
     "output_type": "execute_result"
    }
   ],
   "source": [
    "worst = int(np.where(np.array(ll)[:,1]==max(np.array(ll)[:,1]))[0])\n",
    "worst"
   ]
  },
  {
   "cell_type": "code",
   "execution_count": 59,
   "metadata": {
    "collapsed": false
   },
   "outputs": [
    {
     "data": {
      "text/plain": [
       "(1512, 0.0050517058948519487)"
      ]
     },
     "execution_count": 59,
     "metadata": {},
     "output_type": "execute_result"
    }
   ],
   "source": [
    "ll[1512]"
   ]
  },
  {
   "cell_type": "markdown",
   "metadata": {},
   "source": [
    "What does the worst log loss correspond to?"
   ]
  },
  {
   "cell_type": "code",
   "execution_count": 58,
   "metadata": {
    "collapsed": false
   },
   "outputs": [
    {
     "data": {
      "text/plain": [
       "u'echinoderm_seacucumber_auricularia_larva'"
      ]
     },
     "execution_count": 58,
     "metadata": {},
     "output_type": "execute_result"
    }
   ],
   "source": [
    "settings.classes[ilabels[worst]]"
   ]
  },
  {
   "cell_type": "code",
   "execution_count": 64,
   "metadata": {
    "collapsed": false
   },
   "outputs": [
    {
     "data": {
      "text/plain": [
       "35"
      ]
     },
     "execution_count": 64,
     "metadata": {},
     "output_type": "execute_result"
    }
   ],
   "source": [
    "misclass = int(np.where(y[worst,:121] == max(y[worst,:121]))[0])\n",
    "misclass"
   ]
  },
  {
   "cell_type": "markdown",
   "metadata": {},
   "source": [
    "It was misclassified as:"
   ]
  },
  {
   "cell_type": "code",
   "execution_count": 65,
   "metadata": {
    "collapsed": false,
    "scrolled": true
   },
   "outputs": [
    {
     "data": {
      "text/plain": [
       "u'detritus_other'"
      ]
     },
     "execution_count": 65,
     "metadata": {},
     "output_type": "execute_result"
    }
   ],
   "source": [
    "settings.classes[misclass]"
   ]
  },
  {
   "cell_type": "markdown",
   "metadata": {},
   "source": [
    "Looks like this:"
   ]
  },
  {
   "cell_type": "code",
   "execution_count": 60,
   "metadata": {
    "collapsed": false,
    "scrolled": true
   },
   "outputs": [
    {
     "data": {
      "text/html": [
       "<center><img src='data:image/png;base64,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' style='max-width:100%'/><center/>"
      ],
      "text/plain": [
       "Image.Image   (z)"
      ]
     },
     "execution_count": 60,
     "metadata": {},
     "output_type": "execute_result"
    }
   ],
   "source": [
    "hl.Image(dataset.X[worst])"
   ]
  },
  {
   "cell_type": "code",
   "execution_count": 70,
   "metadata": {
    "collapsed": false,
    "scrolled": true
   },
   "outputs": [
    {
     "data": {
      "text/html": [
       "<center><img src='data:image/png;base64,iVBORw0KGgoAAAANSUhEUgAABFkAAAUdCAYAAAAjI5zwAAAABHNCSVQICAgIfAhkiAAAAAlwSFlzAAALEgAACxIB0t1+/AAAIABJREFUeJzs3XuYFNWZ+PG3VVBZNIgoBKRnVO4Dwwwg92jABDSzqANRotEBoqwJyua2kpiNSsBIYrKa3STeiAlkXVeUEQghSuIVEwGNrHghDGB+04PCqKBoBAWU+v3BQzP11jtT1XR1Vff09/M8PA/vqVOXrqk+XX36nLcSjuM4AgAAAAAAgKwcFfcBAAAAAAAAtAZ0sgAAAAAAAISAThYAAAAAAIAQ0MkCAAAAAAAQAjpZAAAAAAAAQkAnCwAAAAAAQAhi72TZtGmTjBw5UioqKmTUqFGyZcsWT53Zs2dL586dpbKyUiorK2XmzJnpZXv27JHJkydL//79ZcCAAbJixYooDx9AgaCtARAF2hoAuUY7A+S3Y+I+gJqaGpk1a5ZMnDhRFi9eLDU1NfLss8+66iQSCZkyZYrceuutnvXnzJkjnTt3lkWLFkkqlZJhw4bJhg0bpGPHjlG9BAAFgLYGQBRoawDkGu0MkN9iHcmybds22bx5s0ycOFFERCZNmiR1dXXS2Njoqes4jrmNJUuWyPTp00VEpKSkREaMGCErV67M3UEDKDi0NQCiQFsDINdoZ4D8F2snSyqVkmQymY4TiYR0795dUqmUp+4DDzwgZWVlMmbMGFm1apVrGyUlJem4pKTEXB9A8aKtARAF2hoAuUY7A+S/2HOyBDFjxgxJpVLy6quvyg033CDV1dWyY8eOjLaxd+/eHB0dgNaCtgZAFLJta2hnAPjhngaIT6w5WZLJpDQ0NKRjx3Fk69atrp5VEZFTTjkl/f+xY8dK7969Zf369XLuuedKMpmU+vp6KS8vFxGR+vp6GT58uGdfxx13XI5eBZCfmhsiWoxoa4Dcoa05LKq2hnYGxYi25iDuaYDcCqOtiXUkS7du3aRHjx5SW1srIiK1tbXSq1cv6dKli6te0zmGL7/8smzcuFH69OkjIiLV1dUyf/58ETk49G3NmjUybtw4c3+O4/CPf0XxD27xtjUfqn/67+W3fL/6F//1xT/+HfoHtyjbmrj/9vzjX5T/cBjfn/jHv9z9C0vCCXNrR6Curk6mTZsmu3fvlvbt28uCBQukZ8+eUlVVJXPnzpVBgwZJTU2NvPjii3LgwAE55phjZPbs2XLRRReJyMFHkE2dOlU2bNggIiLz5s2TCRMmePaTSCRCPXFAPuN694qvrflI1dC/Cvkt/1jFsT8UDkijrfGKoq3hvKPYcM278f0JyI2wrvnYO1miQiOBYsL1Hh86WVBMaGviwXlHseGajwfnHcUmrGueu3UAyCm/+cx+zbDfcr9OGgAAAABRKYinCwEAAAAAAOQ7OlkAAAAAAABCQCcLAAAAAABACMjJAgCh29Xk/x3UMr9Etnq5puuTgwUAAADIF4xkAQAAAAAACAGdLAAAAAAAACGgkwUAAAAAACAEdLIAAAAAAACEgMS3ABA6ney2qQ986upm+SOf5QAAAADyBSNZAAAAAAAAQkAnCwAAAAAAQAjoZAEAAAAAAAgBk/sBIKd2qfgvKh6lYr8cLZrO2XJckIMCAAAAkAOMZAEAAAAAAAgBnSwAAAAAAAAhoJMFAAAAAAAgBHSyAAAAAAAAhIDEtwAQuqbJaBt96urEuJkmviXRLQAAAJAvGMkCAAAAAAAQAjpZAAAAAAAAQkAnCwAAAAAAQAjoZAEAAAAAAAhBwnEcJ+6DiEIikZAieakA13uM/M/9xyr2S2z7kYp1ffKXIz60NfHgvKPYcM3Hg/OOYhPWNc9IFgAAAAAAgBDQyQIAAAAAABACOlkAAAAAAABCwGR+AMgpvxwsOufKcT4xAAAAgHzFSBYAAAAAAIAQMJIFAAAAWcjkqWm6rqbXzfSJbJlu32/9bI+nUcVdfOr7jW7MVNPj1cf6uop3qLgiy337yfRcA0BhYCQLAAAAAABACOhkAQAAAAAACAHThRDQB0ZZ+xC3bw0Jzeby1MNtRewht9Z+rbKg61p4mxU3v79/a09sm+nQ+rDXD7KNTPcR9nB+AABgC+MzfJeKO2S5z2zrW/zuLfyWB/kuFcZxIgjOLAAAALKQTe4Mv1vRsHOo+Mn0ePSPUPoHKJ2DRR+Pjv2+OGVavyl9rLf5bEt/Mf2sivWXvjg60QEg/zBdCAAAAAAAIAR0sgAAAAAAAISAcXkIKGj+lSDDcq3LLuyhxlZZ0Lwy2awLoGV+w8MzzXfiN5Te2ka2Q9z9hufz0QoAQDjC+Ez1y8GS7T6PZJqiXsfvfifTqYTWPnTsl6smjMeoF+c9UXG+agAAAIQkk5v/sBNFh30r26jiTj719Q8ufp2496q4t4pTKp7is71MOqbVvnZsc8edTlT1H1fx0xnsS8T/2Py+mFoPMQCA/Bf7dKFNmzbJyJEjpaKiQkaNGiVbtmzx1Jk9e7aUlZVJeXm5lJeXy/Lly9PLpk6dKt27d5fKykqprKyUefPmRXn4AAoEbQ2AKNDWAIgCbQ2Qv2IfyVJTUyOzZs2SiRMnyuLFi6WmpkaeffZZV51zzjlHrr/+ejn22GPlpZdektGjR8u2bdukffv2kkgk5Prrr5cZM2bE9AoAFALaGgBRoK0BEAXaGiB/xTqSZdu2bbJ582aZOHGiiIhMmjRJ6urqpLHRPVRzzJgxcuyxx4qISHl5ubRt21Z27NiRXu44TnQHDaDg0NYAiAJtDYAo0NYA+S3WkSypVEqSyWQ6TiQS0r17d0mlUtKlSxdznYULF0ppaamUlpamy26//Xb5xS9+IWeccYb8+Mc/lv79++f60IuQNS/WmovrN1fYqtPctoIkcGqOVe+vRtkQo8xKaBs0yW3Q84Qo0dZEKdMksH5z9n+p4jdUXKLiq332F+SY9GvYoWKdGI73OA6irTnEL9liS7JNju23vk5krz/fdQ6WTBNa+r12nWPlC+7wrSfd8ak6D8o9PvvXvnf4vw+pHCybVdXu77vjK15XFfS51vlr9DWu6+tz75f4kwcMNKe42xq/NuBfjHXOVHGdim9RsV+iXL+E+kG+1/i1VXq5fv/oYwzy4A79ntLb8KuPoGKfLpSJVatWyY033iiPPfZYumzevHnpxuT++++X8ePHS0NDgxx99NFxHSaAAkdbAyAKtDUAokBbA0Qr1ulCyWRSGhoa0rHjOLJ161YpKdG/TIqsXr1aLr/8clm2bJn07NkzXd60t/ayyy4Tx3Gkvr4+p8cNoLDQ1gCIAm0NgCjQ1gD5LdZOlm7dukmPHj2ktrZWRERqa2ulV69enmFuzz//vEyePFlqa2uloqLCtazp3MPHH39c9u/fL6eddlruDx5AwaCtARAF2hoAUaCtAfJbwok541FdXZ1MmzZNdu/eLe3bt5cFCxZIz549paqqSubOnSuDBg2SoUOHSiqVkq5du6bXu++++6SsrEzOPfdc2bFjh+zfv19OPPFE+elPfyqjR4/27CeRSJDcKStHmmskmxwl2eRksTxllAXNyRJUfuRk4Xr3oq2JSiHkZPHLqaCRk6U5XO9eUbQ1reu8Z5rjJNucLX77z3R71ud+S9tb6A5rr3LHf1fVr/umKrjVZ/tr3OEHIw7//0uqqkrRIpfqfS9QBTqfjKbzOTyuYn2uR6lY58M5LJFo04qu+XAUb1vTWnKyaNnmZLFkmmOFnCxhXfOxd7JEJT8biUISdodHEDqhmog3qVoz7kh4ywYZ9YZPNwpvM8oKq5Hheo8P597vA1q/r/VN9SUq3ukO71/lju9W1R8wDunT+u+hb4ZeVPFwFWebSLP14nqPR+s673SyuNDJYqKTJR4F0dY0qHv+i71VXnvOHZeq5UfPVQXf1695pTu8+Tx3rH+zPW+/9yA8Mk3C73fvYfFLPh2ko6a4hHXNxzpdCAAAAAAAoLWgkwUAAAAAACAEdLIAAAAAAACEgJwsiIE1f3mXUWblXzHmbl/Vxlv2jrFqtVF2jlGWtK4T6/iseYzW/Mjo8zNwvceHc6/55TO4UcW17nDHBnf8G3fYOMsdd7nSOIRf6bnRel7zsSo+V8W/81k/02S/rQfXezzy77z7vQdayruS6ftFf87qHCVzfNb3O1bVBnnarCqf7WuqDVxzvDtWbZpco+Jyv79zBom8X1D3SyrNhCdfaCe/fFb63NyrYv230TlXdGLzPs1uP/+u+eKQH+fd5z2rc7IMNTbxtooHqPjF/6cKXnWHY//ZFTY+6V68T62ddH5mHMTXVazbMt0W6ffXkbSzfu2rX065THNcFT5ysgAAAAAAAOQROlkAAAAAAABCQCcLAAAAAABACIpn4jgAAABi0PR2M4McIiIi8mcVf9un/n+oWOdQ+V7Ly1dtc8dn698jH1bxhSpWiU2Wz3fH96nq/6rijHOwZJAjarDa9mC97Y0qvkzF693h+ypnlj5V7fupAp3fTue20/kerDx3AJD/6GRBQNYHnXX5BEmIZNWxktxa+yzxlDyv86yJyFlW8ksr366RM9e+AbSS3FobjD7JLZBf9PvHJ3HbX+a640dU9S+rWH2f6fJ/avnXrGP6q4p126Xanx3qIDrpb0H/5bM9AAAQCf3AisanjErDVez3fcV98/Hik81Ua+6QPEluRbzfG/y+M/glpfVbLuLfKet3Hri/OVJMFwIAAAAAAAgBnSwAAAAAAAAhYAwQAAAAsuA3JD2TuvUq/oM7bHjOHT+tqv9exTUPuePjVHyDO2xc7Y67DDzgLvj2Re5YpSmR3ioereJF16uCW1ScybnMlpq+8H5fd/wlVX2nis9UsZ6CfY7K2XK5Wt72tBaPjinYAAoVI1kAAAAAAABCwEgWBHSkvyZYyWutbRlJZJef4ClquMBbbZ2xtbP0wwhERD5nlH36V0ah9bawktwGSfILFBu/J12oJ3/oN/BiFQ9TsX4r6vf1YP00CxGRSSp+Q8Upd9jpErVcPxEDAABEw+/rqr4x0EluRfzv2dU2rn/WFd6jat+o4i76tkHWGPsoVbF+qMY/qfhxFethcfr7lPXgDn3ugiTLbUmUI+3i3Gf2GMkCAAAAAAAQgsLoCgIAAECe8HtUu9b0V2K/W886FS9zh2ow3FvqiepvqrUHvOyOd/7NHT+h6l+sc6rUqFjnYNED3UaquO90VeCXg8XvMa9+56+l0YR62UZ3WKUWf0rFPX12vVLFf1exHmg4XB+Pfu2MGAZQmBjJAgAAAAAAEAJGsiBkmf661UK9W71Fya7eso+2GZtrNMq+9DWj8Eqf48pUkPmQQDF5RcXfcYcz/+KOtyx3x0N8Nr9ZxY9v8NbRT7w422ebOkeLZw6zX94Z3vMAAOTGkYx40uvoLwql7vDb7vCXP3LHibfV6p3eVQU634pxDI8f7wofVjnmJh41xl2gR8k9s18V/I+xT61MxT1U7DdybouK9bm3crxkOhqvdWAkCwAAAAAAQAiKoysJAAAAIfG7fczmCRbjW16skqjocWdnqTwi+1QOFj341bM3/fOjziuic7I8r2L9C/fn5rvjq1R8vB5lq39x1zt8QcWZ5HTRdVVCm2cmqOVTVKyf1KaehnL1Hnf8DVW9r6MK/K4T6wmVAJD/GMkCAAAAAAAQAjpZAAAAAAAAQsB0obwRdsLUKBKw3miU/VXFfzHqvGeU3e0t+odRrdpbdOEvjXq7ZhqFtxllFmt4atChzrylIOIerq2Tgr2o4j4q1vUzTfDml4Q10ySt+r35axXrN6Aeyj5HxW+o+GF3+J8/VMv3usPn5rnjR1T1e8TLkwvO75yeq+LHjY02le05t9rrlurzmFMAQLHw+8wL8pmoy1Ti232nu2M1TTAxQq3e6feqoF7FFf7HcK87HK1qrzngjofrRP96A3K1sU8/6tw9p54UoG7JXvydO66oVJtbZ315y/AYPH+rwvxuxUgWAAAAAACAEBRm1xAAAADyVEsJTPWvlH4jvV51hy+XuMKzJja4l69zh5+owbP91NZfU/EnKlFuBxUn1A/eOver/NkdblS//G79V3d8gtzpiruqzSX7qoLrE+74CvWYV50Z2HV+9blVB2P++t7ctkREdrvDu09Wy9f6rK+vE7/lAFAYGMkCAAAAAAAQAkay5I2gf4oocq1YvmeUfcpb9IFKkKDzJYiIDEx4yy7xFjn6qYUiktATFkWkdLWxD5lllAU9T9mcTz2vUIR8CcWo6ftll1qmf5nT8S0q9rt+Mn1UakuP9xTxTMD1/M6rf5nU1PJa9cBU/QRQz/vtO2r3x7vjoR1V/Xfc4dPGId2n4rFqm23PUBV0Ehf9N9F/0w7GTpvKdr5xGPPRAQAoRH6faX6j40S8n7P93aEaALbzfHd8sh4w9rV/dsfXquVl+nHlIp77td+6w1NVTrlTb1WrD9Pb0697hrHPO4yyFrah0rz8txqJp+92Bv6fO04c0eizTEc3FgZGsgAAAAAAAISgMLuGAAAAEJNMR3M1/aVS33pmeis63h3unu8K/5RyL+6t1k6qkbO9Fn1T1dA/H6vj265G46rtvaxysixUW1Nj7zw5WD6n4mRPVTBWxfoJbPIFFd/f5P/6F2O/HCzqCSzSRcVqlPNb6tWdukLV/7rP/vTITL/rCgDyEyNZAAAAAAAAQkAnCwAAAAAAQAiYLpQ3wk6Yav1prURQAf1tnrfsbaPe/7rDfXd5q9QZq+00yj470Cj8xYlG4atG2WlGmR6GKmInCbXOu7WudY5JOAkRkfom/9dJxzqpWF/oOsmqX2Jbv0dg6utU1/cbzu13Tde7w1tU9rdSn9U9x6vijWrxmWr5FrV8gHcPO1UyuZOfVBXe0O3v8JaPKeMh7Jkmgss0mTHtDgCgtdKf0d9yh/e7H4MuOpe9iMhwnYhWfa6eN8EVnlyz3L18odropr+7416Xqu1b3+vUPo9RWWPbL3PHc9SDAN5SSfulRMXW9zy/e8IX3aGaX9ld1X5MxRNUguBgyXf1ufGbQlqYiXAL4ygBAACQJ/w6GnUuD925nIlFatfuHCyL3nMvHqHWTr6uCrrpL1t+N/xq+aefd8f9znKFA9QY8etXueNfqa3vV/EBFeunnsjVKv7Ms+74HLV8eNO/lf6y4pdzRceqA/hP6gc4vbnGb7jjYSo+W5+NKQIArQHThQAAAAAAAEJAJwsAAAAAAEAI6GQBAAAAAAAIQcJxHD05tVVKJBLSOl6qlUjJSnRkJUrMIrnuoIS3rJ+36In/ccfLvVXkO0ZZl08ZhT8xyqY/YxTqJJUidroh6/Vb9bJJVWT9LaJPfdR6rvfCc/Dcb21SopMwq+twu0pk9ulM/25+SVL1da/f8zpzrF7uc/wvqONfq6rP0K9nl4pvVfH33OEtJ7jjB1X1Y1X8efF46ofu+LPX6UOoVgVvqvhxFetzZLUtTfkldcuUT7LgCBPh0tbEI//OeybJmv2S8Kv3xz73/cdT6j3/D7X2hLNVwdM664lOHGIlym/BB+p+qEot76li1Ty8pu6TNqjqEzq6Y+cdd5zQ90v/puLv65uzpjvsr5b55J/xbUt+7A4v/K4r/PB37sXHX6JW1/d5ydWqoCL9v0Ti+Dy75otD/rU1IrJcvQe/qpb3MNZ5+veqQL9x/6riISr2S76q722svFWZJrXX/N6fVtv6ior7+GzDfYyvJdz3YP+hat+h2itPLl4RkXUTVMHvjEpN+eWKyq2wrnlGsgAAAAAAAIQg9k6WTZs2yciRI6WiokJGjRolW7boX1VFPvnkE7nmmmukX79+0q9fP7n33nsDLQOAQ2hrAOQa7QyAKNDWAPkt9kc419TUyKxZs2TixImyePFiqampkWefdT+Obv78+fLGG2/Ihg0bZNeuXVJRUSEjR46Uvn37trgMAA6hrQGQa7QzAKJAWwPkN99Olo8++kiOOy4387u3bdsmmzdvlokTJ4qIyKRJk+Tqq6+WxsZG6dLl8PyrJUuWyLXXXisiIh06dJDq6mpZunSp9O3bVx5++GGZOXOmuaywBM2XEvRvoef9iYi8aJRZExcNJxhl13qLuqq5xl8wVuuyxyj8L6Ns+jeNwtFGmfVarXmO1rkLmqcFuda62pr6Jv/X83I7u8NP63wgfvkKNL85vX5zdl9Qsb7+db6Cf3KH29TiGef7HI9uh2pVPMcdDnSHr/27Oz5TH56eFi0i7+gCfcy1S9zxpEdVBb/rUuds+RcV36LiL6vYL6eK3zxu2qxM5KqtKe57Gr92puk1qj93fdqwm93hOrU4peKuq9zx4A/aqN35zbVXIwLuUklWrnGH+w6447Zb3bHO0dJdLd6sYp2DRWdU6PyeOz71JlVhucry8s3Kw///0oeqsv5bZNqWuD/fPtE5WNqp6jpfTVe9vZ1ZHk/+aF33NHFTH+z1arG+bH5rbUPnYNF0Dhb9uet3LVo5WDS/fG663dRto9/61vVWYZQ1pV+n+/7lTJVHaZjOi9dbxbqBExHvH0jTryPIucx/vtOFSktL5dvf/ra89tproe88lUpJMplMx4lEQrp37y6pVMpTr6TkcCadkpKSdJ2GhoZmlwEoHLQ1AKKQq7aGdgbAIdzTAMXNt5Nl/fr10qFDBxk7dqycf/758vvf6+zM0XMcRxIJ42k3AAoWbQ2AKORbW0M7A7Q++dbOiNDWAFHy7WTp3Lmz3HDDDfLaa6/JVVddJTNmzJDTTz9dfvKTn8iHH+phh5lJJpPS0NCQjh3Hka1bt7p6Vg/Vq6+vT8dNe2b1svr6eiktLc3quABEj7YGQBRy1dbQzgA4hHsaoLgFerrQnj175Fe/+pXMmTNHevToITfffLNs3rxZzjvvvKx23q1bN+nRo4fU1h6ck19bWyu9evVyzScUEamurpZ7771XHMeRXbt2ydKlS+XCCy/0XQagsNDWAIhCLtoa2hkATXFPAxSvhOM4LWYAu/baa6W2tlYuuOACmTlzpvTv3z+9bMCAAfLyyy9ndQB1dXUybdo02b17t7Rv314WLFggPXv2lKqqKpk7d64MGjRIDhw4INdee6089dRTIiLyrW99S6666ioRkRaXuV5oIiE+LzUPWQldraSYQRMEGRkhzXW9j4GTF3S2MhEZ/Ctv2Y3q3FtJbn9q/B0ajOGLyX8YK1tJnaJIjGYlyLX+Fn5JSKNRiNd762prmiaz1e87fRPz9QxfiV+iM31d+iVVnahinZR1ozu87fvuWL/Hv6riTuo63KHe65105sM33OHNqv6PVfVzVPy2ePziOXd87adUhV13qQKVIG+WyuSmp62fouLnVXy5ilXuYPmKThY8RcWTJV/R1rgVzz2NXzuk71+aLtef2TPc4YV3usKHVTJV91Lvni9Q8fQSVTBSxerP/a7KNPukqv53FevND1KxfrvrvLiqhfVoq+J6FevmR7+8Pjc0Ceboa6alBMUi9r1PEy8d7wp3qkTlJ5+t6usHJlysz5Z6eoL0Sf8v/ms+M63rnibu866uU53MWms/2yhUWfN9k876fbfK9F7MKvNLjOz3IAT9frXq6zqNLa+zXN3vLFbV9f2MbtC+ot/0IiIrjbKmMj0Puf3eF9Y173uUJSUlsmHDBjnppJM8y1au9Dtp/nr37u155JiIyIoVK9L/P+qoo+SOO+4w129pGYDCQVsDIAq5bGtoZwCIcE8DFDvfTpbrrruu2WVdu3qevQYAR4S2BkAUaGsA5BrtDFDcAuVkAQAAAAAAQMuiSGaBQMLO72Hlcwn6537BWzS4nVHvXG+Rns5ZH3CXSWsOX9DXH2QOYibrWnOQ8yPXCgrFw03+7zdvV9PvXX3t+c371de+33vhRhX3UPFgd/i2OydLw4/ci5M6wcB9x/rsX+cbOdMdrnOHjjo9iQFqdVVfxJujQVbogqtVrM7pZ9TiOhW/o+JbVHyuyjvwN3WQHzzijrequO8ktUH9N/W7ZoCw+bVD+hp88fB/P6x0LxrlDh/6P3es316X+BzJeyp+V+VQOkknLTnDHaZUThadckD/OjlMxUmVpKVe7V9v7ywV9+msCtRHyFL1AvXr71OjCuZc2vzGfD+PfJb/rzs8uaNarnNmVatY5qhYf/4AIp72pf1Qd/x1lXit72zvJr76hCrQb7QHVdxSXikR//xFQXJI6nZTbyPTz/IgeWDcyZHlFp9Hei9UN3mee7bTVBxG10K0OVhyhZEsAAAAAAAAIaCTBQAAAAAAIAR0sgAAAAAAAISgMCc5AQAAICbW3P+mnlLx04f/u0st2uMOL9Y//53gDt9SOUmMNEwuJ41WBfeqeIk77Po7dzxeVddZE3QOFlH7K/2cinVSlmtVPKGtO75lnyu86D9U/d0qPkXFMqvJ//1ysCxU8YUqVq/+iz771suP+aYq0Elb/HJWAEBhoJMlb1h/iqAJXbNJ1Pqf3qJbvuEtW2+s+sXTvWUXq8fSJRuNFa2kvE8bZUFlk+TWWte6CckmuS6KT9PrJdNEtfq9q7+RdPBZv6VjseovU/GVKv4vd6hyuCZ1TjR9Dy173WEnn+P5+HZ3rJq3hD48/QXlN3r/IsltqmDUz7yVWvIpFfdTcRsVn6sfzznRHfbVyR53qOU6cy6JbgEAxUrfR/3FHY5QH8L6vkRE5LurWt7FDpUA9pi7VIUpPscU5DuBX3Jcv/tFP7oHVsT7Be637lDfAurE/t/rpApKVaxfU9Dvsy2t49fZWhjfv5guBAAAAAAAEAI6WQAAAAAAAEJQGONtAAAAkCf8bh/1FLaKw//99FD3oo1qupx8WcXuJCqn9nHP/9uqhrdP0IfyTDtVoJKY/N09TUBP0NQpTw6ouDHljrvoHC1XqXiIivte7I4/fkhatE/F/6riW50WVtZTDdXf8cOp7vj4R1V9laFm8HYV67+7jv2G/RfmtAAA0BjJAgAAAAAAEIIi6yL+gYp1zngRkeEBt2Ulm/XL2n5I0ERGQZPcWvvVP22IiLzgLXruWW/ZI96iGX/2lo140Ft2hfMvquTXxnFYSRqDvq5sEtCGXQ9oTkvXUKbXl05068ca8EDLAAAgAElEQVQvsZqmk6KdpuIad1inEtOeoaq3vd5nfz6v/5gn3XHtGHd8vHryhtzvDr+/yLvNruqX4TdUcu9u6jU/rh6J8Zja3gZ36KinkSREZdqdo5L0ybdV/IqKX5WWZfrrMAAArYUakfWlr7lC59I7PWtsVnGvzqrgGP3YL/096uqgB9cCv8/mTD+717jDy77vrfKGip923z+8/Jx78QA10FBWqKF4VfrpA0G++2Z7T1KY9zSMZAEAAAAAAAhBYXYNAQAAICZ+jxHvouK1zfxfxH8klnrkeUd3DpXP6D1XqwL9S+uv3esvv8G9WP/ifbKK9eC9Lh1VwQAV91SxHjz4iBppp0/PYmnZrdNVQUvn0+exs8frnZ2jYv13139nve9MR1ZqmT7CFgDyAyNZAAAAAAAAQlBkI1k+UbGVByRobpBMe+P99mH9Kawya786D4qIfDjfW/YbY9VfGGV13iKdbV9E5ASjTD6e7Y6P6WXVMmRzPgEclul76WEV63f7He6wq1r8tIqHzHPHvQarCqNUrH8J7eEOj9e/0p6p4kk+sYiMd/9yLTer5Z9TOVj2q+X6l2nV+CVGq+V99AG8p2J9jvurWLf9+tdjn1+jAQBotVSuusvdOViWGWt00wWN+vuJzn+n740yZY3CyjR/mk/9ihGucJEeJSciL6r4uIT7y+BNp6sK+vFsVf9o6QDRAkayAAAAAAAAhIBOFgAAAAAAgBAwxhgAAAAZ0Ilu9ZQ2/Sj4lh5/qm9F9XQ6NYz/cXfY5x1V/VgV36UqqEeuT+jtjp9XU6ZL1OZO/bMqGKWTxX7PHV6/SVr0d3e470F3rB4IL6X6EatSo2J9PptOUddTDRtVrKdb6unt+u+u6X23dCxB6gNAYWIkCwAAAAAAQAiKrMt4lor9euQPCZK8SCS75LVB/xRG0tyHjCS3F+tkkSLyB2+9X/zNW+1ZY6+nGGUX6QSYIiKXqPjh24xKQQU9xwCa5/dITd0O6uRvKrH2V8rc8ehvuGP9ONOM6V/A7/GpH+ARn90+dMd33qIq1Kp4oIp/rWLdhutf3nU7pX8t7iSZIdEtAAAmlZtV5+MX8eZz9T5LPdOHBviMuDNl+ZCPHSqJ/+fcYbWR+LZSxSfqCn/Xz7xXQ+l4jPoRYyQLAAAAAABACPg5DAAAABnQv27qnCx6hFxLv4bq0XX6F2G1/HjHHXfT6//VHX61SsXqsfF/cudMOWut2tz3z1AFr6nY5zGr81QSGblVxTtcUdtburvi0itU9e4qXvUZd6yPv+np6KmW3XyXKpiiYv3Lu36tfo+k1XGmv+Tr6woACgMjWQAAAAAAAEJQZCNZguZgCSKbeXVBT7v1y4+eAygiO611d3hK6ld4ay0z1rRe2Rij7EWd8l5EKup1SZW3UmBFdnkCofD7ZVG3g2tUfKWKX1XxEHfYS+//v1R8porVr8i+OWP0cv0r95G0Ezo/l3oaSMbtu99c7Exzqvj9DTV9zrKc9w0AQKFY5n7k1rWJ5zxVzjxdl7yoYnVv4/kc1p+resjYOT71LRk+bauTSj7zU/f9XNufevN29vrweHdBva7xsM8xcT9xpBjJAgAAAAAAEAKGCgAAACAD+vZRj1DL5MkbfqOM9b78fmEeruI3W97e53Xsczi+LvSJNXXuznzAHU/7kjt+0h2+r35AX6y23vTpkBP0w9tu9hs1l+mourBH3YU5Ah0AosNIFgAAAAAAgBDQyQIAAAAAABCCIpsu5E0I5GWdkmxOU0uPLfTbh3W8nbxF+41q85d4itYZ1S41ys4yyvYZZRUDjcJ1QfrtjOS95pDQoOeEpEzAYfp9ox+BqTNg6/TX41XcqGI9LUAnxl2o4v7SMt1GZjo83O+RoiLeNiLTffgl4/Xbnh6jr/l9Tvglx6MNBAAUq7+4ojP/2MZbxfNFRk8r1IapWN876Xsj/d3G+L6W9XS7I/g+qh953/cHPiv4Pba9yLoOssCZAgAAQAb8brx1Dpam9f3yfvjlXNEdx7qT0+cJHR7ZPk1Db19/2dJPMfmsz/bU0yGnu5+cIh3dT045UfWTf0VvbnST/39TL9RPk8v2a4Ffh3GmT1YDgMLEdCEAAAAAAIAQ0MkCAAAAAAAQAjpZAAAAAAAAQpBwHMfxr1b4EomEHPlLzWaOaNhpb4xjWWUkeFprrPqkUWas6plKLSJygVE26S6j8Ejn91rnmJRBRyq76x3ZyP9zv1HFf1Gxzk+g8gPIEyq+TMX5Nsc/yDYzzfGg+SWm1fxyUvit73e80cn/67114rznE7/3r06QqdvcEhUPaXl3f0u4Y/2cg94q/nyT/594vVp4S8v7yiNc8/EonvOucynpL0P6c/51FffwqS+Seb6nTO8Nao2yk1WcUvGUjI6oGIR1zTOSBQAAAAAAIAR0sgAAAAAAAISAThYAAAAAAIAQxJr0Ys+ePTJt2jR59dVXJZFIyI9+9COpqqry1Fu6dKnMmTNHPv74Y9m7d6/U1NTIv//7v4uIyIIFC+Qb3/iGnH766SIicsYZZ0htrTUnTcSeHxdEpnPojoSeYy8SeJ792ca8sbONetdZK3/LKHvaKHsh2LF4BJ2TaF2KQXPhkLsFzYu+nYmb3/umj098iYr1/F2dP0DnYPE7nkzfr375S4LQ7ZBug/Tc60xztujtZXqMmb7GKD6TkKnia2sAxKH42hq/z3C/+tY6+nPWSkjZ0vo6B4tf/Vzwu1exynQOllzkvYNIzGduzpw50rlzZ1m0aJGkUikZNmyYbNiwQTp27Oiqd9ppp8kf//hH6dSpk7z//vsyePBgGTZsmHzuc58TEZFx48bJgw8+GMdLAJDnaGcARIG2BrYuKh6v4gy/MPbtqmL9hVJ/iRrW5P9n+uxLy7aTHLlAWwPkv1inCy1ZskSmT58uIiIlJSUyYsQIWblypafekCFDpFOnTiIicuKJJ0p5ebm8/vrhrM7FkfUawJGgnQEQBdoaAFGgrQHyX6ydLKlUSkpKDg89LykpkVRKD01327hxozzzzDNy3nnnicjBxyw9/fTTUl5eLsOHD5clS/Sz7AAUM9oZAFGgrQEQBdoaIP/ldNzfoEGDZOvWrZ7yRCIhjY2NGW9v+/btctFFF8kdd9whXbocHH45YcIEueyyy6RNmzayfv16GT9+vPTo0UMGDBiQ9fEDyH+0MwCiQFsDIAq0NUDhy2kny7p161pcnkwmpb6+XsrLy0VEpL6+XoYPH27Wfeutt2TcuHEya9Ys+eIXv5gubzr/cODAgTJ27FhZu3ZtM41EviQLtBIyBUxyayYoCvpntBrm2wKuawmSWMo651kk+WU+MJT8a2film2i2KjnZ2eadO1IcgRkmiRP1/drnzJNyqfp16S357d/8iZEgbYG4Qh6v3OIfj+/oeI1Kn5TxYOb/P+0LPeNKNDWaJkml7c+g/0+J/0S3PutfySfw37rZHo/p/MxWfTr1OdK7zPb+5viFet0oerqapk/f76IHBz6tmbNGhk3bpyn3s6dO+Xzn/+8XHPNNfKVr3zFtezNNw9/mDQ0NMgzzzyTbnQAgHYGQBRoawBEgbYGyH+xdrLcdNNN8uabb0r//v2lqqpK5s+fn+5Zvemmm+Tuu+8WEZEf/ehHsmXLFrn77rulsrJSKisrZeHChSIi8rOf/UwGDBgg5eXlcv7558sNN9wgQ4cOje01AcgvtDMAokBbAyAKtDVA/ks4RZJaOpFI5FEW7SDTbHKxrjVdSD9aMBNHeixBpwtlMzWquOXX9V5c8u/c5/tUkkynC+Vi6Gq22yze6UL5d70XB857Psn1+89v+7mcLpQ/uObjkZ/nPdP7BmudQpgu5FdfC7JPpgv5Ceuaz7e7bQAAAKBAZJsHy297ftu3c3EE4/eFS++r9X/BAoAwMJIFaIW43uPDuUcx4XqPB+c9n4XdyeK3/Wx+Ly2cThau+Xi03vOe76N8EZewrvlYc7IAAAAAAAC0FnSyAAAAAAAAhICxUQAAAEAgftMMMr219kt8nen29fpN4w5qmV9Sbb4mAMCRoPUEAAAAABSAljoSRezOw2w7Q4HMMF0IAAAAAAAgBHSyAAAAAAAAhICxUgAAAEAgYT9iOdvl+jHMeqpEJo9d3qVincMFABAEI1kAAAAAAABCwEgWAAAAAEAB0KPF/EZzHck2+YqM7DCSBQAAAAAAIAR0sgAAAAAAAISAsVAAAABAKPS0A79pCH6x3/b9pkY0nUqht62T4upEt2FMwwCA4kMnCwAAAACgAOjOwU4B1sm08xPIDtOFAAAAAAAAQkAnCwAAAAAAQAgYGwUAAAAE4jfNQE9l8Fs/U2HnbGkJOVgA4EgwkgUAAAAAACAEjGQBAAAAAOShTJ/QZY0W8xtBxldihIuRLAAAAAAAACGg2w4AAAAIJNtb51zfenNrDwBxYyQLAAAAAABACOhkAQAAAAAACAFjCgEAAAAAeSjTx5YH2Uam2+QrMzLDSBYAAAAAAIAQ0MkCAAAAAAAQAjpZAAAAAAAAQsAEMwAAAABAAdJfZ60cLXzlRbQYyQIAAAAAABACOlkAAAAAAABCQCcLAAAAAABACOhkAQAAAAAACAFZgAAAAAAABUAnttVfZ4N8vbWS42a6DaB5jGQBAAAAAAAIAZ0sAAAAAAAAIaCTBQAAAAAAIARMOAMAAAAAFIAwvr7yFRi5FdtIlj179sjkyZOlf//+MmDAAFmxYoVZ76mnnpJ27dpJZWWlVFZWyogRI1zL586dK3379pV+/frJzTffHMWhAyggtDUAokBbAyDXaGeAwhBbN96cOXOkc+fOsmjRIkmlUjJs2DDZsGGDdOzY0VO3rKxMnn/+eU/5o48+KsuWLZOXXnpJHMeRkSNHytChQ2XcuHFRvAQABYC2BkAUaGsA5BrtDFAYYhvJsmTJEpk+fbqIiJSUlMiIESNk5cqVGW3j4YcflilTpkibNm2kbdu2csUVV0htbW0uDhdAgaKtARAF2hoAuUY7AxSG2DpZUqmUlJSUpOOSkhJJpVJm3U2bNkllZaUMGjRI7rnnnnR5Q0ODaxvJZNLcxt69e0M88mjt3bu3YI+fY49HoR53rtDWBFPo1zzHHr1CPe5ciaqtKeTzXsjXu0hhH3+hHzsO4p4mmEK/3jn2eIR57DmbLjRo0CDZunWrpzyRSEhjY2Pg7QwePFi2b98u7dq1k/r6ehk/frx069ZNqqqqAm/j2GOPTe8bQOtCWwMgCvnS1tDOAK1XvrQzIrQ1QDZy1smybt26Fpcnk0mpr6+X8vJyERGpr6+X4cOHe+qdcMIJ6f+XlpbKpEmTZPXq1VJVVZXexiGpVEpKS0vN/TmOk/mLAJD3aGsARCGf2hraGaB1yqd2RoS2BjhSsU0Xqq6ulvnz54vIwTf3mjVrzIRLb731VvoN/s4778ijjz6abliqq6vlv//7v2Xfvn2yd+9eue+++6S6ujq6FwEg79HWAIgCbQ2AXKOdAQpDbE8Xuummm2Tq1KnSv39/ERGZP39+OjP2TTfdJF27dpWrr75aHnzwQbnrrrvk6KOPlo8++kiuuOIKueSSS0RE5Pzzz5fnnntOBg4cKCIil156qYwfPz6eFwQgL9HWAIgCbQ2AXKOdAQpDwmEcGAAAAAAAQNZimy4Utj179sjkyZOlf//+MmDAAFmxYoVZ76mnnpJ27dpJZWWlVFZWyogRI1zL586dK3379pV+/frJzTffHMWhBz72pUuXyqBBg6S8vFx69+4tP/zhD9PLFixYIB06dEi/rkmTJuX0mDdt2iQjR46UiooKGTVqlGzZssVT55NPPpFrrrlG+vXrJ/369ZN777030LJcC3Lss2fPlrKyMikvL5fy8nJZvnx5etnUqVOle/fu6XM9b968vDv2zp07p49v5syZ6WVBrzU0j7YmuramkNsZEdoa2prs0NbQ1gRVqG0N7Uz8CrmdEaGt4ftTuMcealvjtBLf+c53nJkzZzqO4zj19fVO586dnZ07d3rqPfnkk86QIUPMbTzyyCPO4MGDnX379jl79+51Bg8e7KxcuTKnx+04wY/9+eefd95++23HcRznvffec3r06OH86U9/chzHcX7zm984F198cc6P9ZBhw4Y5tbW1juM4zkMPPeSMGDHCU+fOO+90LrzwQsdxHOfdd991SkpKnA0bNvguy4djf+KJJ5yPPvrIcRzHWb9+vXPCCSc4//jHPxzHcZypU6c6v/zlLyM5Vi3Isc+ePdu57rrrzPWDXmtoHm1NdG1NIbczjkNbQ1uTHdoa2pqgCrWtoZ2JXyG3M45DW8P3p2DiaGtazUiWJUuWyPTp00Xk4DPjR4wYIStXrsxoGw8//LBMmTJF2rRpI23btpUrrrhCamtrc3G4LkGPfciQIdKpUycRETnxxBOlvLxcXn/99fRyJ6KZX9u2bZPNmzfLxIkTRURk0qRJUldX53m03JIlS+TKK68UEZEOHTpIdXW1LF26VEQOnuvmluXDsY8ZMyb96Lry8nJp27at7NixI708qnPdVNBjF2n++MJ4nxQ72pporv9CbmcyOX7aGjSHtoa2Jszjz7e2hnYmPxRyOyNCW8P3J39xtTWtppMllUpJSUlJOi4pKZFUKmXW3bRpk1RWVsqgQYPknnvuSZc3NDS4tpFMJpvdRpgyOfZDNm7cKM8884ycd955InLwGfZPP/20lJeXy/Dhw2XJkiU5Pd5kMpmOE4mEdO/e3XPMLb0ufa6DvOYwBD32phYuXCilpaWux9vdfvvt0rdvX6mqqpJXXnkll4eclsmxP/DAA1JWViZjxoyRVatWubYRx3lvTWhromlrCrmdOXRctDW0NdmgraGtCaJQ2xramfxQyO2MCG0N35/8xdXWxPZ0oUwNGjRItm7d6ilPJBJmT1RzBg8eLNu3b5d27dpJfX29jB8/Xrp16yZVVVVhHq5LWMd+yPbt2+Wiiy6SO+64Q7p06SIiIhMmTJDLLrtM2rRpI+vXr5fx48dLjx49ZMCAAVkff1gcx5FEIhH3YWRk1apVcuONN8pjjz2WLps3b176vN9///0yfvx4aWhokKOPPjquw3SZMWOG3HDDDXLUUUfJE088IdXV1VJXV5fuwUfLaGsOK8S2phDbGRHammJEW3MYbU10Cq2toZ3JTiG3MyK0NSKF2dYUWjsjEn5bUzAjWdatWydvv/22599bb70lRx11lCSTSamvr0/Xr6+vd/WcHXLCCSdIu3btRESktLRUJk2aJKtXrxYR8WwjlUqZ24jr2EUOPvd+3LhxMmvWLPniF7+YLu/YsaO0adNGREQGDhwoY8eOlbVr12Z97JZkMikNDQ3p2HEc2bp1q6uH71A9fT4P1cnkNYcp6LGLiKxevVouv/xyWbZsmfTs2TNdfqiBEBG57LLLxHEc12vJlaDHfsopp8hRRx18a48dO1Z69+4t69evT28jjvNeSGhrDoq7rSnkdubQvmlrDh8rbY0Xbc1BtDXZKdS2hnYmGoXczoR5/CK0Ndko1HZGJMa2xidPTMGYNWuWc+211zqO03JCmjfffNM5cOCA4ziOs3PnTqeystJZtGiR4ziO84c//MEZMmSIs3fvXuejjz5yBg8e7Dz66KN5c+w7duxwysvLnTvvvNOzrLGxMf3/VCrlnHbaac7atWtzdsxDhw51Fi9e7DjOwQRCw4cP99S54447nAsuuMA5cOCAJzlTS8tyLcixP/fcc0737t2d5557zrNs+/bt6f8/9thjTqdOndJJnnItyLE3Pb6XXnrJOemkk5zXX3/dcZzg1xqaR1sTXVtTyO1M0OOnrUFzaGtoa8I8/nxsa2hn4lfI7Uwmx09bE82x52M74zjxtDWtppNl9+7dzsUXX+yUlZU5ZWVlzu9+97v0shtvvNG56667HMdxnJ///OdOWVmZU15e7vTq1cuZO3euazuzZ892+vTp4/Tp08f5wQ9+kFfH/m//9m9Ou3btnIqKivS/BQsWOI7jON/97ned/v37OwMGDHD69evn3H333Tk95o0bNzojRoxwysvLnZEjRzqbNm1yHMdxvvCFLzgvvPCC4ziO88knnzhf+9rXnL59+zp9+/Z15s+fn16/pWW5FuTYzzrrLOfUU091netXXnnFcRzHGTt2rFNeXu707dvXGTZsmPPMM8/k1bFfccUVzoABA5yysjJn4MCBzpIlS9Lrt3StIRjamujamkJuZ4IeP20NmkNbQ1sT5vHnY1tDOxO/Qm5nMjl+2ppojj0f25mgxx52W5NwnBjS/AIAAAAAALQyBZOTBQAAAAAAIJ/RyQIAAAAAABACOlkAAAAAAABCQCcLAAAAAABACOhkAQAAAAAACAGdLAAAAAAAACGgkwUAAAAAACAEdLIAAAAAAACEgE4WhG7jxo2STCaloaFBRER+8IMfyKWXXhrzUQFobWhrAESBtgZArtHOtC5Hz549e3bcB4HWpVOnTnLKKafIrFmzJJlMyk9+8hP5/e9/L23bto370AC0IrQ1AKJAWwMg12hnWpeE4zhO3AeB1mnq1Kny0EMPyZ///GeprKyM+3AAtFK0NQCiQFsDINdoZ1oHpgshJ/bt2yevvvqqnHTSSdLY2Bj34QBopWhrAESBtgZArtHOtB50siAnrrvuOjnrrLPkj3/8o3z1q1+VN954I+5DAtAK0dYAiAJtDYBco51pPY6J+wDQ+ixdulRWrVola9eulbZt28pNN90kl156qTz11FNy1FH06wEIB20NgCjQ1gDINdqZ1oWcLAAAAAAAACGgWwwAAAAAACAEdLIAAAAAAACEgE4WAAAAAACAENDJAgAAAAAAEAI6WQAAAAAAAEJAJwsAAAAAAEAI6GQBAAAAAAAIAZ0sAAAAAAAAIaCTBQAAAAAAIAR0sgAAAAAAAISAThYAAAAAAIAQ0MkCAAAAAAAQAjpZAAAAAAAAQkAnCwAAAAAAQAjoZAEAAAAAAAgBnSwAAAAAAAAhoJMFAAAAAAAgBHSyAAAAAAAAhIBOFgAAAAAAgBDQyQIAAAAAABACOlkAAAAAAABCQCcLAAAAAABACOhkAQAAAAAACAGdLAAAAAAAACGgkwUAAAAAACAEdLIAAAAAAACEgE4WAAAAAACAENDJAgAAAAAAEAI6WQAAAAAAAEJAJwsAAAAAAEAI6GQBAAAAAAAIAZ0sAAAAAAAAIaCTBQAAAAAAIAR0sgAAAAAAAISAThYAAAAAAIAQ0MkCAAAAAAAQAjpZAAAAAAAAQkAnCwAAAAAAQAjoZAEAAAAAAAgBnSwAAAAAAAAhoJMFAAAAAAAgBHSyAAAAAAAAhIBOFgAAAAAAgBDQyQIAAAAAABACOlkAAAAAAABCQCcLAAAAAABACGLvZNm0aZOMHDlSKioqZNSoUbJlyxZPndmzZ0vnzp2lsrJSKisrZebMmelle/bskcmTJ0v//v1lwIABsmLFiigPH0CBoK0BEAXaGgC5RjsD5Ldj4j6AmpoamTVrlkycOFEWL14sNTU18uyzz7rqJBIJmTJlitx6662e9efMmSOdO3eWRYsWSSqVkmHDhsmGDRukY8eOUb0EAAWAtgZAFGhrAOQa7QyQ32IdybJt2zbZvHmzTJw4UUREJk2aJHV1ddLY2Oip6ziOuY0lS5bI9OnTRUSkpKRERowYIStXrszdQQMoOLQ1AKJAWwMg12hngPwXaydLKpWSZDKZjhOJhHTv3l1SqZSn7gMPPCBlZWUyZswYWbVqlWsbJSUl6bikpMRcH0Dxoq0BEAXaGgC5RjsD5L/Yc7IEMWPGDEmlUvLqq6/KDTfcINXV1bJjx46MtrF3794cHR2A1oK2BkAUsm1raGcA+OGeBohPrDlZksmkNDQ0pGPHcWTr1q2unlURkVNOOSX9/7Fjx0rv3r1l/fr1cu6550oymZT6+nopLy8XEZH6+noZPny4Z1/HHXdcjl4FkJ+aGyJajGhrgNyhrTksqraGdgbFiLbmIO5pgNwKo62JtZOlW7du0qNHD6mtrZVJkyZJbW2t9OrVS7p06eKq19jYmC57+eWXZePGjdKnTx8REamurpb58+fLz3/+c0mlUrJmzRr59a9/be6PxhnFIpFIxH0IeSX6tmaBKpli1PrIKLNuZj42yv7HKJsccHuWXUZZh4DrfhBwv9brsOp555SLdDHKdD2rzl+Nsj4BjyPox2PQc2e9fmsfQa+L/EBb4xZlW8M9DYoJbc1hfH8CciestibhxPzOqaurk2nTpsnu3bulffv2smDBAunZs6dUVVXJ3LlzZdCgQVJTUyMvvviiHDhwQI455hiZPXu2XHTRRSJy8BFkU6dOlQ0bNoiIyLx582TChAme/SQSCRoJFA2ud69o25oFqpROFjpZWm8nC22NWxRtDecdxYZr3o3vT0BuhHXNx97JEhUaCRQTrvf42Of+l0bNa7LYi9Wx0d4os76wW50C642yYQH3a3VuBO08sDpUSo0yi7U9LZvOiWw6wazXH3a9/EBbEw/OO4oN13w8OO8oNmFd8wWR+BYAAAAAACDf0ckCAAAAAAAQAqYLAa0Q13t8gp97a+qNNS0kmykv2UxRsVjrBp26ZLGm5AQ9Pj3tyZq2FFTQ85TNa81m3fydQkRbEw/OO4oN13w8OO8oNkwXAgAAAAAAyCN0sgAAAAAAAISAThYAAAAAAIAQ5MekbgBoVXQODaupDZqPw3rkcgejLJucH0E/CqzcINZjmHsYZdk8EnmFUXahUaYtM8qs11pllC00yqzzaR1H2B+t+ZuTBQAAAG6MZAEAAAAAAAgBnSwAAAAAAAAhoJMFAAAAAAAgBEzqBoDQ6fwjQXOj9DbK6gKum01znk2+FCv/ilXP2p7Feh3DAtbTTjbKhhhlQXPNvGaUjTLKuhhl2fx9gp47AAAAxI2RLAAAAAAAACGgkwUAAAAAACAETBcCgNDVqvjLRh2r+X3VKAs6lZvZ4uIAACAASURBVCfolJKwp/IElc1jiK3pN0G2Pzpgvb8aZdYUrx1GmfX3sVjnOJtpWnx8AwAA5CNGsgAAAAAAAISAThYAAAAAAIAQ0MkCAAAAAAAQAiZ1A0Do5qh4slHHysdh5QEZaJStMMqsRz2fY5RZrI+CsPOFWPUs1n4XGmVXH+FxbDHKgj7W+QOjLEi+mOZEkQsHAAAAUWIkCwAAAAAAQAjoZAEAAAAAAAhBwnEcJ+6DiEIikZAieakA13uMDp77X6nSKwOu3c0oeyPLIwqTNV0m6JSXeqPsL0aZ9bhrawrRLhVbU2qs7VvneL1RZj2uebxRZk01CjrVylJYj2umrYkH5x3Fhms+Hpx3FJuwrnlGsgAAAAAAAISAThYAAAAAAIAQ0MkCAAAAAAAQAnKyAK0Q13t87HMfdp4Na3tWWTaPXLbyilh0bhQRO3dLj4DbC9Myo+xko6zUKDst3EMJ/ZHY+YG2Jh6cdxQbrvl4cN5RbMjJAgAAAAAAkEfoZAEAAAAAAAgBnSwAAAAAAAAhICcL0Apxvcfn4Ln/UJVauTcsVn6T9kZZ0BwdVn4Pi5UvxNpvUEHzj1ivt4NRZuV40efA2qe1raDHZokrr0rQ/DhBX0d4aGviwXlHseGajwfnHcWGnCwAAAAAAAB5hE4WAAAAAACAEOTvcyEBoGDpaRtBp8UEnd4S9HHNQacBWWVBp8aEPTVojVFmfVS9qeIqo44l6OOvg55jS9jTr6KfBgQAwEHW57dlbcB1J2ew76DTnq37hKDrNlc3k8/ebKYTiwT/Sm5Nnxax7zGCTl3O9phgYSQLAAAAAABACOhkAQAAAAAACAGdLAAAAAAAACFgshUA5JyVeyToXNls8nFYc3St+bxWPWu/QdctC1hvlLfotdu9ZX83Vi1RcUejTqd3jcKgeWAeN8r6G2XW39F6rfqARURKjbJs8t4AAAAgbnSyAAAAAAAM+seJFc3UqzXKBhpl9QH24VeuBf3hKgzWDx9BfwzJ5JgajbIuGawfFN0BucB0IQAAAAAAgBDE3smyadMmGTlypFRUVMioUaNky5YtnjqzZ8+WsrIyKS8vl/Lyclm+fHl62dSpU6V79+5SWVkplZWVMm/evCgPH0CBoK0BEAXaGgBRoK0B8lfCcRwnzgMYPny4zJo1SyZOnCiLFy+W2267TZ599llXnSeffFJGjhwpxx57rLz00ksyevRo2bZtm7Rv316mTZsmZ511lsyYMaPF/SQSCYn5peYRPaQu22Fiu1Tc0tA+ndNB79svz0Cmx+5XXy/3q++3v6bDBePLmcD17hVvW2MNY7XKrGvGqmcNS7XygAQdvmrlWgmaa6S3t2i7kUTlh8aq+42ytUaZNdpY73aQUefPRtknRtlWo+wMo+wco8w6naPaGoVXG2W3GGXWObbkR54W2hqvKNoazjuKDde8V3xtTbbThS40yuKeLpTJ+kGnCwU99uZkO10oyilUrUdYbU2sZ3rbtm2yefNmmThxooiITJo0Sa6++mppbGyULl0OX0RjxoxJ/7+8vFzatm0rO3bskPbtD96M0ugCaAltDYAo0NYAiEK0bY3uQOjcTD2rUyFllL1glE0KcByHBO08sOo1J+iPVyJ250c2P5yJ2MdvdahYx9ncvoJ+zbd+aBMJ/qMPLLFOF0qlUpJMJtNxIpGQ7t27SyplvSEPWrhwoZSWlkppaWm67Pbbb5e+fftKVVWVvPLKK7k8ZAAFiLYGQBRoawBEgbYGyG8FNWZo1apVcuONN8pjjz2WLps3b166x/b++++X8ePHS0NDgxx99NFxHSaAApd9W3O3iq2pIkF/dbHqBf11IeivKEH3EfBXoUeMsmuMsm8bZTu9Re/+1lt20lBVYL1UYyaTtDHKrClE/2qU1RllA4wy+Z5RNsQoC/qI7bAf7Y18wX0NgCjQ1gDRinUkSzKZlIaGhnTsOI5s3bpVSkpKPHVXr14tl19+uSxbtkx69uyZLm86JO6yyy4Tx3Gkvr4+p8cNoLDQ1gCIAm0NgCjQ1gD5LdZOlm7dukmPHj2ktvZgoqTa2lrp1auX600vIvL888/L5MmTpba2VioqKlzLGhsPz4t7/PHHZf/+/XLaaafl/uABFAzaGgBRoK3x85HxL0wfq3+5pPcV5v6s83Sk5y6Xx4m40NYA+S32pwvV1dXJtGnTZPfu3dK+fXtZsGCB9OzZU6qqqmTu3LkyaNAgGTp0qKRSKenatWt6vfvuu0/Kysrk3HPPlR07dsj+/fvlxBNPlJ/+9KcyevRoz37ISp6JbJ/gk8m6mt9Ngx4ir+tHPYQ+kycrRYfr3SvatuYuVWpNF7JEkQk+7CcdGXNyfm08XWiEsao1Xehlb9G7r3vLPNOFJhvbOsUos6YLrTPKZhllQacLnTjbKLSmC1UZZYU1XYi2xiuKtqZwz3uun4oV9tMTM9lXmPsL2oES5Ny1jieMFO41nzvRtTUfBjyirxhlVo4Yaz6u9SHenKD3Mc0Jen/TzFOU9l3kLfuTUe89o6yymUPq29EofMMoy6S9bB3v/aiF1dbE3skSFRrnTNDJEhydLHA7eO67qlLrg1JfOyL24w+/bJRZ17m1PSvnR9D3ZNAvQxd4i+5a7i3rbqz6O6PMGl9p3aP9SMXlZxuVDB+s8pa1tx65bJz37b/xllkdOcfMNAoHG2VTjLKg8uPmibYmHoV73ulkCYZOFq1wr/nCRieLgU6WVi2stibW6UIAAAAAAACtBZ0sAAAAAAAAIWDMEAAAAADAoKeobGmm3gtGmZG3zcxH1twUuaDTY6x6zW0z6DQaa/qTiNxklP2+mV1pA5sp7/OOt+z7lxgVrXnWzbFevzWNHLlAJwsAhM6ag6xZH3RXBty+9cEZNB/QQqPMyg1i3bD8p1HWxVtkHcr/GWU9jLIDRtk/GWUbVPxXI9fKbmO9fkZZ133esqON/Cu9rMGfVkLbUUZZN6MsaH6KXOexAHLlSPOmBVnPShId5AtEkG0Hec8d6S20tW29raA5I/Q5sNazjjPufHYA0LrRyQLxTxalP8T9bmJauqz8Ptj1ujrWxxr2jYE+Pp2c6w4V50eiWwAAAABA/MjJAgAAAAAAEAJGsgBA6II0rdk8Wi/oUHJre9bUoKDrft0oq/cWfUmP+BKRFW28ZZ8xNndiL6PQsGOTO+50vlFprVFmPTrSGpFmvVZrekLQKQvZzINmKD8AAEChoJMFAAAAAGDQP8Q0NlOvxiizctRZ61tJ2pqTzQ9SzbnbW7TKSEYrIrLVKKv3FjUYv8Ek/97M7kuMsqOWe8u+N7iZDVhJh4O+/ubSRtBNkA2mCwEAAAAAAISALiqI/2WQaaLbXS2s65fItqVtifgnmtVPP9HTFvSj5PqrWD95xeoZbqq5x8OJMMQfAFA8rF9Dg3wOrjDK9C/dQZ+AFkSQW98gTxw60qcSBZnuGeQJRCLeeyzrb3CkfxcAwJGikwUAQufXeSiS3U1u0BvpoMYZZX80yqzX0ckoM8bIVp0drJ50NsqML1idJhv1jlTQcxf08ajZfLQGPRY+vgEAAPIRd2kAAAAAAIP+uljaTL0uRpmVbP5po6y5bQYdiZXJwwSsur/1Fm1rZvUD3qL3jd+MVhurbtljb3L037xlba3T1H2dvYErthiFVp6bIKPtEAZysgAAAAAAAISAkSwAELogUz6ymTsf9hQVa2qQlf3/tIDbs3InWb+efM8ou9Aos16b/tXG+sVmmVH2KaNsuFFmCfu8AwAAoLVhJAsAAAAAAEAI+AmuKOhfx3XsNxfPL+u9zm7f0hOA9KRFvycXqW39KeGOv6Wq16t4v4pP3uSOe6tn0A9T9efpX9p/rWLeQgAA2J+HQZ7IU2+UrVexNbKuj1FWFqBOkMTkmeR3aCpIboMgORGCHpMW5G/QXD0AQFhoZQEAAAAABt3B19zUYWuK7hCj7MrsDseUScdkwOnapzSz+lZvkZWO1qgmu5rZ5E6j7OK1RqGVW1hE5AorwfAfmqmMKNDJAgChC/JrZhTNbzaPA7Zuoqzbg5ZGrjWlf2EWESkxyqzHOlsj3qwcLJqV38WSzeOveeQyAAAADiMnCwAAAAAAQAjoZAEAAAAAAAgB45eLgt+f2S8JnF+sNR3u/1e17GoVn6ni19zhF9yJap1H3ItTau1/qLid3tv7quAEFX9TxaLnOP6Liu9RcdNzydsLAAAAhSzo/aw1RTfotN1s950Ja0q3fvKFiBx4zlz73T97y3SqbhGRl42yfs0ckZW/pfQ9b9lZVp4WERFZ2dwCJch09nzQ3FTswvluVThHCgAFY4WKrXwkVs4T60Mlmw9Eq4m/1yibEnBdK/+K9dQPK6+KfjKXSPAneLweYN1So47lKaPss0bZFqMs6D6ywccyWhN9PVvthfX1ROdr6m/UsdoP9cjBNx7xVvlExclqYzu/Ncp0bqiAyTM9bbjVpus202oHrPWC5IQqlC9VANB6MF0IAAAAAAAgBHSyAAAAAAAAhIBxyQAQunNUbD2C2BK0Sc7mscFXZrE9i/XabjHKrClTOkeTiMgao8x6HR+p2JrKZA2T/6xRZk0Nsh5XnU8fmUGnWgEAACBK3JEBAAAAAApUJj88WHX1gy5ERH5urr3XKFtnlL1tlD3WzBF1N8qeMMra1NnrV6w64C08u5mdBZbNjzn6h7BDguaIKvwuisJ/BQhAJ1Tz+1VdvzH8krbp+k1+xT5nnnuRSp/9/v9zPz1Ip8R7U8WfUbnwSvWu9eOFBqr4chXPGKQKdNpu/RbRTxPSR9xJAAAAAADFiU4WAAAA5IC+zexi1LnNKNM/BlmPJ33RKFM/lHQ2qjyt4ueXeOv0PMFbVv7/2bv3MKmKM/Hjb6sQRSRoUFBkZhIRuY5cVG5ujBhFg7dhokSMiPFCAhKzMWJMvKLGX+JushsjRpGsmsSIMoK3VRPvGq/RFY0sgmZnBkVi0KAxCCie3x84c97zdp0+1fSZvkx/P8/Tz1RVn3O6+nR3TXedqrfsRZkHHQd3TVu0/tNRNtDk7RUiEfe5s/haDwDlgNYYAFK3tUt9uspcI88Kabp9h3+6lmF2DfN01W+u5/H+5ChzLdW61lFmf8z4/LgRcS8HXee5bznh3zcAAEA54lsaAAAAAKBC5RPA3/Xzt3920aE9nHvvIu9nlbnir6xylE2MqZEr1P7Lzsd2G361o/CLrlFzZznKCo2f4kIXA0s4AwAAAAAApIBupqqQNHXB5u0SqhdFsy89Fs3bDtB3VXqYua8umt3p/6L5lWbzfUw+qwv4WtvLPMvk7VKytq84aYpB0vZ2jnQhS+ECAAAAACoZnSwAkDrb2ebb1BYyNNOXqy6uzkFXXXxjt7g6L19zlLniubhipuzpse9yxzaO4b/OY7kec6mjzDXQ1/e1LWQpRAAAAFQKvuEBAACgCFydja6OWtuJ6urgPMRRZjpW//LV7E3swkGuPuGslYREspYqemXn7E1+5tjN9lcf7Nim8V9NQVzkBmtrO/TtOXd1eAMAthadLAAAAACACpXPSGDfkaV2vfctuh49Iqus7s7s7dY49m2JqdHomHLrvZjyzbdml2174XeyC4e4At/GnbtCRuAW2sVQaCDj0ivPWgFARbNN6wLHNid7Hsv3H43vNCBfvv8eXFdAXZHqbfwiEfdXENcSzn/22G6gYxvX8/edjuQqKwT/bgEAAKoBqwsBAAAAAACkgEtrRZF0NTnpZdjaObe++8+NZl+6NJqvrzH5rmb/s03++DB5+HBzX/TKdebGSZH8qCNfiG5u50pnrSYUN3AuTtJqQoVuz0cKAAAAAKoVvwgBAAAAABUqn+nRrinNrqnP9kLxp+y1ZRE52BGTZZVjVxt3u806R9kwR9mmmP1fdJSN+p2j8LJmR2Hc9Gjfaej5xG4ptOuhcrouSl7TFStWyPTp02X9+vWy4447yo033ij9+0ejw2/evFm+/e1vy8MPPywiImeffbaceuqpifcBQJvStjWFtEmFNNOF7Ouz4oeI//LPvnFPrnaUuULC/cnkxzi2ud9R5jonrrJentsBIb7TJHF9hlzxmrb2WMdEswMCxza2bevr2Mb1k8f8jLnGscndjjL79Fxhp+Q/Td61ctIkR5k9B74/dlhNqNLR1gDlreTfGKdNmyZz5syRyZMny6JFi2TatGny5JNPRraZP3++vPnmm7Js2TJZt26dDB8+XMaNGyeDBg3KeR8AtKGtAdDRaGcAFANtDVDeEgPfbtjgGlKVjtWrV8vKlStl8uTJIiLS2Ngor776qqxZE43bsXjx4vbe1Z49e0pDQ4MsWbJERERuv/322PsAVA7aGgDF0FFtDe0MgDZ8pwGqW2InS11dnZx99tny+uuvp/7gLS0tUlMTBlXNZDLSr18/aWlpydqutra2PV9bW9u+TWtra+x9ACoHbQ2AYuiotoZ2BkAbvtMA1S1xutDSpUvluuuukwkTJsjgwYNl1qxZcuSRRxajbrGCIJBMJlPSOuTHnmbbu510v41vYOcT2/vt8Wx+ucmvjWbrLzP3/9Dk7Zxfm9f1sXW1k5PviWbvtvOEHzV5Oye50JWbUC46V1vjsyKY79x519Uw37givlzxB3xX1lrjKHPFWnGFZXMFlZvlKPM5VzZGi4hIb0eZMyCCx/HRWZRbW1N532kAJCm3dkaks7c1vvHhRAr+//7FAVlFx312RVbZXxwLoK6MOaTrG1etoyzOR65CV4yoy/ZyFG7M45E64rtRPkGLK0fiSJbevXvLBRdcIK+//rqcdtppMnPmTPn85z8vV155pXz44YcFPXhNTY20tra254MgkFWrVkV6Vtu2a25ubs/rnll7X3Nzs9TV1RVULwDFR1sDoBg6qq2hnQHQhu80QHVL7GQREVm/fr1cf/31MnfuXOnfv79cdtllsnLlSjn88MMLevC+fftK//79pampSUREmpqaZMCAAdKnT3S0Q0NDgyxYsECCIJB169bJkiVL5Jhjjkm8D0Bloa0BUAwd0dbQzgDQ+E4DVK/EMT9nnnmmNDU1ydFHHy2//e1vZejQLUOtTzzxRBk2zLWCd35uuukmOeWUU2Tu3LnSvXt3uemmm0REZNKkSXLppZfKyJEjZcaMGfLyyy/LkCFDRETk/PPPb49+nes+AJWjc7U1tmn1XQ7Z51hxZb5cdfGdGuQa0umaGuSa4vSqo8w1Xei7jrKf5qrUp/ZzlL3hKPOdkuVSyJBWph+Vi45sa/hOU2o+SxrbKQSOMf3ONsFMP+z5fvYmuzp2+3eTP+S47G3eui2a/5xjWklXO5VbJHs6t+/0Up8prShE5/pOAyBfmSAIglwbXHnllXLaaafJzjvvnHXf6tWrZY899uiwyqUpk8lIwlMtoqSYK2nHZLFsTJafm3xfk08zJov9YWnjORCTJQ3l9X7307nbmkI6WXxjt/gqRl1cX/TvcJRNcZRtbSeLi6uTxcaFEnHX13VO6GSxaGtKoxLPe2n4fGZ92zDTyXK+o5PF1cz9h8l7dbI4jrPVnSyuuBSV18lSae/5ztDOiFTeeS+Ob2cXnXxVVtGHN2VvdnnMEf/pKHONKxoYs7/rk193mKNwjqPskFNijur67uV7Ua5QcW13x7dVab3nE2t6zjnnxN5XKQ1E6SV1muTLfvm3x7/a5Pub/ESTn5fweDYopv2A5XobJdXV9YNHs3VN6rRBpaKtAVAMtDUAOhrtDFDdvGKyAAAAAAAAILfyHx8IABWvGFODfKcB+U6D8Y3d4hqkutZR5poa5BsLxWcIvOs5uEbKuc5n2lODAAAAUK0YyQIAAAAAAJACRrIAAACgE/L5musbLHZpNDvr89mbXHa6Y78LTf6P2ZvsbqNRugJO3uwo+6vJ24UMRAoLdg5UinxGn/oGu48bbev3WDsckV325Xvd2y52lLU4ysbFPFbX3o5C12Dej1x7u1Z/FHG2VTLK84HyeT3SXkWzPFT+MwCAiuT6B+Q7Xci1XSFTXlyP4ZoaZINgx23Xy1HW7ChzLf/s+nHh+qJjy37r2KbRUeYbGd/3SxgAAAAQopOlKJJWE7LLGNseQfvDxh7vGybvutpRiHyX69L1zWclIpHk1YOS9q+8ZQkBAAAAAJ0DMVkAAAAAAABSwGV+AAAAAEAnEvczN2mGQZu4Kdd9s4v2cWzmiH8yMuaITzjKdnKUuSZti4jsNthR6KrTl117fzbmqE2Osh0dZb4rOYoUvnJjIatwFld51goAOr1CAn2lvZ3vPy3fLyau7VzLOrvKXPZzlNmphac6tnHFVXnNUdbfUeb7XAEAAIAQnSwAAACoErZT2dWh6up4rotmdw8897NftSc5trGrC7lWBNrLUWZX/5jg2OZ2R1lS/DsAQCHoZCkLdpiV/ednr8a+aPLX5fl49vj2bZCUt4F67UoiuQLlJr3l7D96+9y5ugwAAAAAKE8EvgUAAAAAAEgBI1kAIHU+S4n7Bv/y3fdGR5krTolv/BXX8Y5xlPmOLhvqKPuRo2yuo8wV6s2OmHM9L1fd7Mi7OPx7BACgchUaZDVuGt3Z2UU/cHyfOW99VlGPz7uPeMb/ZZft9hnHhtvGVOkLjjLX7MHtGhyFe8Yc1PX8Sz2joHK+mzGSBQAAAAAAIAV0sgAAAAAAAKSgcsbcAEDFsE2r7xQdF9cyxL7DNQsZKtvkKDvZUeaq3xuOMtcyyUd71iVXMO1cXM/fNfy1kNenkLrwLxioHD4r8rg+57bMtd88k7cLHIi4p1L2Nfnhjm0edJQ1OsoAAGnhG15RJK2QY+MN2JfFrj5k85Zd/cf+Qy90qb6kx8/Ffkmx58I+d3u/PZe8hQEAAIDqVejvgXwuSrkudP08u2jwadll/+o+4m67OgrvdJS5+l9FRPZ2lO3r2vAgR9nAmIM2O8p8l7yPez2q53cb04UAAAAAAABSQCcLAAAAAABACqpnzA4AlEwh8Vd893Ut1+ziOyT2JkeZq34urzjKXM/DFT/gCUfZfo4yO2TVdwlnF9fzKuR4LoX8u/V9X/AvHQAAoNQYyQIAAAAAAJACLnsVRdLVTxv4ts7kk64e25fRbp8UqDYpmGzS2yQpsK9mg+4mXVXP59gAAAAdwX5/sYsMiPgtDOATJNK1GptrdOHVJj/esc2BjjK+WwHJ4n6juH4XnZhddJJdNUxEZGLMMffJLpo8Pbvs2pjdBzvKdnAVuhY/6R1zUNfz7+UoozvBhZEsAAAAAAAAKaDrCQBSZ3v/PZvax3bILvtiUEA97JLpIv5XLHs6ylxXNe5wlB3jKDvDUTbHUea66uricyXWNQpwraNsz618TJHixEbhKjMAAEClYCQLAAAAAABAChjJAgAAAACoUD6xjnIpdFSqa8Tpg44y1yhhEedI2a6OOC+zXXGXRNwxonzjpyyNOWat5zHzUejrVDk657MCgJK60eQ9l1f+4j88j+/6J+WaBuMThFHEPQ3G9YXBNf3I9Q/fVb+fez6Gi0/9bABxEfeXGdc5ecRR9iVHWSFfwnyXzubfMgAAQCXj21xZSHoZkn6I/Njkz03Y3n7Zt8f3/TEQt38u+Ua0T6qbPXdbGQsDAABUgaTvDa5tXNv5dmLbDmBX56/9buRaAcRVz6Tve65jAwA6GjFZAAAAAAAAUkAnCwAAAAAAQAqYSwEAqbMxWBY6tjnIUeYafu4bL8W17z6OslcdZfc4ylzLMLuGubuCrbmGtbu2+62j7GxHmYs9L666uWLIuLiWjX7RUTbc83guPtMPAABA/vL5Sev63+v6ruWathfHNy5c3PcS38d6Jqb8ckfZ7x1ljzrK9oo55r6OMroOfDGSBQAAAAAAIAV0RxVFUjDWPRP2t72eNn9WnvVJetk78m2RT5Bcl1LWHQAAAACAePwiBYDU2Y7VRsc2vtNHXB2TrmGtrik/rqlBLhMdZb7/HlzTlJY7ygY6ylwdxK7n66rLaybfy/NYriG9rmG6dQXs63vuCvkX7LsiCoDctnZ5ddewf1d74JoyYNm2ynXsrV1CvtCLWwCAfPGNDAAAAABQpQqN6eLbmdlRP71/6Chb6ijzjekXV+5b/7jO6+rpeiAmCwAAAAAAQAroZAEAAAAAAEhBSTtZ1q9fL1OmTJGhQ4fKsGHD5J57XDEFRJYsWSIjR46U+vp62WeffeTyy8Nlqm644Qbp2bOnjBgxQkaMGCGNja7YBwCqVWnamSZz285xc3Ft9znHbXvHbZLj5vKx49bdcfvAcVvnuLkMdNxcx+vpuLnOgT2fTbIlZoq+uZ7DG45bH8dtg+PmOp7r+bv29T3vrpsv3/cUioXvNACKgbYGKH8l/VY2d+5c6d27tyxcuFBaWlpk9OjRsmzZMtlll10i2+25557y+9//Xnr16iXvv/++jBo1SkaPHi1f/vKXRUTksMMOk1tvvbUUT8FToafZ7m8Dq/HlGohTPe0MgFKirQFQDLQ1QPkr6a/zxYsXy6JFi0REpLa2VsaOHSv333+/nHDCCZHt9ttvv/Z0jx49pL6+Xt544432siAIilNhABWHdgZAMdDWVCpXIEifUWWulYR8VxzammNvLdfoOlYcqmS0NS75jgT1KYvj+ky5PrP5fPZ86x+3neu4rg60ax1lB8Uc07Vqo69CuxgqP3BuSacLtbS0SG1tbXu+trZWWlpacu6zfPlyefzxx+Xwww8XEZFMJiOPPvqo1NfXy5gxY2Tx4sUdWmcAlYV2BkAx0NYAKAbaGqD8dWh30MiRI2XVqlVZ5ZlMRtasWZP38d566y059thjZd68edKnz5ZlpY466iiZOnWqdOnSRZYuXSoTJ06U/v37y7BhwwquP4DyV57tjJ3b3NexjesLkatJfsez5lt7NTaf47nq94ajzHU1d6CjzFU/12O45orbfV37uZ6Dq757OsqWO8rqPB8DnVF5tjUAOhvaGqDydWgnywsvvJDz/pqa/gI1IAAAIABJREFUGmlubpb6+noREWlubpYxY8Y4t3377bflsMMOkzlz5shXv/rV9nI9/3DfffeVCRMmyDPPPEMjAVQJ2hkAxUBbA6AYaGuAylfS6UINDQ0yf/58Edky9O3pp5+Www47LGu7d955Rw499FCZNWuWfOMb34jc99e//rU93draKo8//nh7owMAtDMAioG2BkAx0Na4uFbci7sVyrX6oItrJcg4vnV3HTOfEbUzHLf+MbdSrmLYUa9d8WSCEkY9Wr9+vUyfPl2WLVsmIiJXXHGFHHXUUSIictFFF8kee+whM2bMkHPOOUfmzZsnAwYMaN/3O9/5jpx88sly3nnnyd133y2ZTEY2b94sZ511lpxxxhlZj5XJZMo4wFPSkH77pvIZJo9qVt7v9+IqZjsj0hHn3ndKjSuY2QxH2Y2OspMdZa6Aba7H9Q0A55p+099R5uKa4lO3lfv1cZS5pjf19Dg+aGtCfKfpTHzbXSutwLdp6hyBb3nPh2hrgI6T1nu+pJ0sxVTejQSdLEhXeb/fOzc6WUToZKketDWlwXlHteE9Xxqcd1SbtN7zJZ0uBAAAAAAA0FnQyQIAAAAAAJACpguVBaYLIV3l/X7v3Lac++tN6RTHlr7z9Bc4yk50lLnm2PtO+XGVudol36lBrn3Xem7nmuLjXjUhyve5uh6z8uITlAvamtLgvKPa8J4vDc47qk1a73l+nZeE/ZKfb6cJLxsAAAAAAOWG6UIAAAAAAAApoJMFAAAAAAAgBcRkKYl8pwsxPQj5Ka/3e3Vxn3tXHBDfpZR9P/8LHWWNnsdb4yhzLWHsG7vkakeZa7nmQzyP54rnYpdidsVkKSTWiu/S2dWNtqY0OO+oNrznS4PzjmrDEs4AAAAAAABlhE4WAAAAAACAFDBdqCzku4QzkFt5v987ty3n/kNTmva0Fd+pLE2OMt8pRL7TmVz+5Ch73VF2jKPMda5edJQNNPl1SZX6lJ1mhELQ1pQG5x3Vhvd8aXDeUW2YLgQAAAAAAFBG6GQBAAAAAABIAZ0sAAAAAAAAKSAmS1kgJgvSVd7v987Nfe59l1d2xUE5tfBKbZWjHWXzHGW+7ZNrieU6R9kbjrI9HWW23XQd39W2umK+FBIzp7rR1pQG5x3Vhvd8aXDeUW3Ses/z670s8DIAAAAAAFDpmC4EAAAAAACQAjpZAAAAAAAAUsA8FQBInY0P4ooX4irzjb/i2telkHgpd3ru63KGo+znBRzPVT8bR6W7YxtXTBbXOUmKi5VrXwAAACDESBYAAAAAAIAU0MkCAAAAAACQApZwBjoh3u+l4z73Hzi2dE1vcVnjKOvjKPOdGuPLd9npBY4y17Qn37qsc5T90VE23uR7OrbxmWaUz3awaGtKg/OOasN7vjQ476g2ab3nGckCAAAAAACQAjpZAAAAAAAAUkAnCwAAAAAAQAqIyQJ0QrzfS2fLub/elLpilLjigLjim8xylPnGeClkCWNX/VyP4RszpqPjnvge31XfXp6PwRLOFm1NaXDeUW14z5cG5x3VhpgsAAAAAAAAZYROFgAAAAAAgBQwXQjohHi/l86Wc/+hKU17OeC0l2v2PZ7vNCXXtKcpnvu6pvO4zp+tn+85ZspPmmhrSoPzjmrDe740OO+oNkwXAgAAAAAAKCN0sgAAAAAAAKSAThYAAAAAAIAUEJMF6IR4v5dOYefeFfPkakfZuY6yax1lM7ayHiIi6xxlPQs4nsvWxl+J285nv7Tj2VQ32prS4Lyj2vCeLw3OO6oNMVkAAAAAAADKCJ0sAAAAAAAAKaCTBQAAAAAAIAXEZAE6Id7vpbPl3F9vSqc4ttzaOCMi7tgt3T33XeAoO9FR5qqfq8xVF9+4Ki6uOC2uWDA+58oVf8WFmCxbi7amNDjvqDa850uD845qQ0wWAAAAAACAMkInCwAAAAAAQApK1smyfv16mTJligwdOlSGDRsm99xzj3O7Rx55RLp16yYjRoyQESNGyNixYyP3X3rppTJo0CAZPHiwXHbZZcWoOoAKUpq25lRz297zts5x2+C4dXfcXNu5nOy4ueriy7Xvdo7bx47bE47bB46b67nZYwGlxfcaAB2NdgaoDCWbiD537lzp3bu3LFy4UFpaWmT06NGybNky2WWXXbK2HTJkiDz33HNZ5ffdd5/ccccd8tJLL0kQBDJu3Dg54IAD5LDDDivGUwBQAWhrABQDbQ2AjkY7A1SGko1kWbx4sZx++ukiIlJbWytjx46V+++/P69j3H777XLyySdLly5dpGvXrnLSSSdJU1NTR1QXQIWirQFQDLQ1ADoa7QxQGUrWydLS0iK1tbXt+draWmlpaXFuu2LFChkxYoSMHDlSrrvuuvby1tbWyDFqamqcx9i4cWOKNS+ujRs3Vmz9qXtpVGq9OwptjZ9Kf89T9+Kr1Hp3lGK1NZV83iv5/S5S2fWv9LpjC77T+Kn09zt1L400695h04VGjhwpq1atyirPZDKyZo1riU63UaNGyVtvvSXdunWT5uZmmThxovTt21cmTZrkfYzPfOYz7Y8NoHOhrQFQDOXS1tDOAJ1XubQzIrQ1QCE6rJPlhRdeyHl/TU2NNDc3S319vYiINDc3y5gxY7K222mnndrTdXV10tjYKE899ZRMmjSp/RhtWlpapK6uzvl4rPEOdE60NQCKoZzaGtoZoHMqp3ZGhLYG2Folmy7U0NAg8+fPF5EtH+6nn37aGXDp7bffbv+Av/vuu3Lfffe1NywNDQ3y61//WjZt2iQbN26U3/zmN9LQ0FC8JwGg7NHWACgG2hoAHY12BqgMJVtd6KKLLpLp06fL0KFDRURk/vz57ZGxL7roItljjz1kxowZcuutt8ovf/lL2XbbbWXDhg1y0kknyfHHHy8iIkcccYQ8++yzsu+++4qIyAknnCATJ04szRMCUJZoawAUA20NgI5GOwNUhkzAODAAAAAAAICClWy6UNrWr18vU6ZMkaFDh8qwYcPknnvucW73yCOPSLdu3WTEiBEyYsQIGTt2bOT+Sy+9VAYNGiSDBw+Wyy67rBhV9677kiVLZOTIkVJfXy/77LOPXH755e333XDDDdKzZ8/259XY2NihdV6xYoWMGzdOhg8fLuPHj5fXXnsta5vNmzfLrFmzZPDgwTJ48GBZsGCB130dzafuF198sQwZMkTq6+ulvr5e7rrrrvb7pk+fLv369Ws/11dccUXZ1b13797t9Zs9e3b7fb7vNcSjrSleW1PJ7YwIbQ1tTWFoa2hrfFVqW0M7U3qV3M6I0Nbw+ynduqfa1gSdxLnnnhvMnj07CIIgaG5uDnr37h288847Wds9/PDDwX777ec8xr333huMGjUq2LRpU7Bx48Zg1KhRwf3339+h9Q4C/7o/99xzwd/+9rcgCILgvffeC/r37x/84Q9/CIIgCP7rv/4rOO644zq8rm1Gjx4dNDU1BUEQBLfddlswduzYrG2uueaa4JhjjgmCIAj+/ve/B7W1tcGyZcsS7yuHuj/00EPBhg0bgiAIgqVLlwY77bRT8I9//CMIgiCYPn16cPXVVxelrpZP3S+++OLgnHPOce7v+15DPNqa4rU1ldzOBAFtDW1NYWhraGt8VWpbQztTepXczgQBbQ2/n/yUoq3pNCNZFi9eLKeffrqIbFkzfuzYsXL//ffndYzbb79dTj75ZOnSpYt07dpVTjrpJGlqauqI6kb41n2//faTXr16iYhIjx49pL6+Xt544432+4MizfxavXq1rFy5UiZPniwiIo2NjfLqq69mLS23ePFiOfXUU0VEpGfPntLQ0CBLliwRkS3nOu6+cqj7wQcf3L50XX19vXTt2lXWrl3bfn+xzrXmW3eR+Pql8TmpdrQ1xXn/V3I7k0/9aWsQh7aGtibN+pdbW0M7Ux4quZ0Roa3h91OyUrU1naaTpaWlRWpra9vztbW10tLS4tx2xYoVMmLECBk5cqRcd9117eWtra2RY9TU1MQeI0351L3N8uXL5fHHH5fDDz9cRLasYf/oo49KfX29jBkzRhYvXtyh9a2pqWnPZzIZ6devX1adcz0ve659nnMafOuu3XjjjVJXVxdZ3u5nP/uZDBo0SCZNmiR//vOfO7LK7fKp+y233CJDhgyRgw8+WB577LHIMUpx3jsT2pritDWV3M601Yu2hramELQ1tDU+KrWtoZ0pD5XczojQ1vD7KVmp2pqSrS6Ur5EjR8qqVauyyjOZjLMnKs6oUaPkrbfekm7duklzc7NMnDhR+vbtK5MmTUqzuhFp1b3NW2+9Jccee6zMmzdP+vTpIyIiRx11lEydOlW6dOkiS5culYkTJ0r//v1l2LBhBdc/LUEQSCaTKXU18vLYY4/JhRdeKA888EB72RVXXNF+3m+++WaZOHGitLa2yrbbbluqakbMnDlTLrjgAtlmm23koYcekoaGBnn11Vfbe/CRG21NqBLbmkpsZ0Roa6oRbU2ItqZ4Kq2toZ0pTCW3MyK0NSKV2dZUWjsjkn5bUzEjWV544QX529/+lnV7++23ZZtttpGamhppbm5u3765uTnSc9Zmp512km7duomISF1dnTQ2NspTTz0lIpJ1jJaWFucxSlV3kS3r3h922GEyZ84c+epXv9pevssuu0iXLl1ERGTfffeVCRMmyDPPPFNw3V1qamqktbW1PR8EgaxatSrSw9e2nT2fbdvk85zT5Ft3EZGnnnpKvv71r8sdd9whe++9d3t5WwMhIjJ16lQJgiDyXDqKb9133XVX2WabLR/tCRMmyD777CNLly5tP0Ypznsloa3ZotRtTSW3M22PTVsT1pW2JhttzRa0NYWp1LaGdqY4KrmdSbP+IrQ1hajUdkakhG1NQpyYijFnzpzgzDPPDIIgd0Cav/71r8Enn3wSBEEQvPPOO8GIESOChQsXBkEQBP/93/8d7LfffsHGjRuDDRs2BKNGjQruu+++sqn72rVrg/r6+uCaa67Jum/NmjXt6ZaWlmDPPfcMnnnmmQ6r8wEHHBAsWrQoCIItAYTGjBmTtc28efOCo48+Ovjkk0+ygjPluq+j+dT92WefDfr16xc8++yzWfe99dZb7ekHHngg6NWrV3uQp47mU3ddv5deeinYeeedgzfeeCMIAv/3GuLR1hSvrankdsa3/rQ1iENbQ1uTZv3Lsa2hnSm9Sm5n8qk/bU1x6l6O7UwQlKat6TSdLP/85z+D4447LhgyZEgwZMiQ4M4772y/78ILLwx++ctfBkEQBFdddVUwZMiQoL6+PhgwYEBw6aWXRo5z8cUXBwMHDgwGDhwYXHLJJWVV9+9973tBt27dguHDh7ffbrjhhiAIguD73/9+MHTo0GDYsGHB4MGDg2uvvbZD67x8+fJg7NixQX19fTBu3LhgxYoVQRAEwVe+8pXg+eefD4IgCDZv3hx861vfCgYNGhQMGjQomD9/fvv+ue7raD5133///YPddtstcq7//Oc/B0EQBBMmTAjq6+uDQYMGBaNHjw4ef/zxsqr7SSedFAwbNiwYMmRIsO+++waLFy9u3z/Xew1+aGuK19ZUcjvjW3/aGsShraGtSbP+5djW0M6UXiW3M/nUn7amOHUvx3bGt+5ptzWZIChBmF8AAAAAAIBOpmJisgAAAAAAAJQzOlkAAAAAAABSQCcLAAAAAABACuhkAQAAAAAASAGdLAAAAAAAACmgkwUAAAAAACAFdLIAAAAAAACkgE4WAAAAAACAFNDJgtQtX75campqpLW1VURELrnkEjnhhBNKXCsAnQ1tDYBioK0B0NFoZzqXbS+++OKLS10JdC69evWSXXfdVebMmSM1NTVy5ZVXyt133y1du3YtddUAdCK0NQCKgbYGQEejnelcMkEQBKWuBDqn6dOny2233SZPPPGEjBgxotTVAdBJ0dYAKAbaGgAdjXamc2C6EDrEpk2b5JVXXpGdd95Z1qxZU+rqAOikaGsAFANtDYCORjvTedDJgg5xzjnnyP777y+///3v5Zvf/Ka8+eabpa4SgE6ItgZAMdDWAOhotDOdx3alrgA6nyVLlshjjz0mzzzzjHTt2lUuuugiOeGEE+SRRx6RbbahXw9AOmhrABQDbQ2AjkY707kQkwUAAAAAACAFdIsBAAAAAACkgE4WAAAAAACAFNDJAgAAAAAAkAI6WQAAAAAAAFJAJwsAAAAAAEAK6GQBAAAAAABIAZ0sAAAAAAAAKaCTBQAAAAAAIAV0sgAAAAAAAKSAThYAAAAAAIAU0MkCAAAAAACQAjpZAAAAAAAAUkAnCwAAAAAAQAroZAEAAAAAAEgBnSwAAAAAAAApoJMFAAAAAAAgBXSyAAAAAAAApIBOFgAAAAAAgBTQyQIAAAAAAJACOlkAAAAAAABSQCcLAAAAAABACuhkAQAAAAAASAGdLAAAAAAAACmgkwUAAAAAACAFdLIAAAAAAACkgE4WAAAAAACAFNDJAgAAAAAAkAI6WQAAAAAAAFJAJwsAAAAAAEAK6GQBAAAAAABIAZ0sAAAAAAAAKaCTBQAAAAAAIAV0sgAAAAAAAKSAThYAAAAAAIAU0MkCAAAAAACQAjpZAAAAAAAAUkAnCwAAAAAAQAroZAEAAAAAAEgBnSwAAAAAAAApoJMFAAAAAAAgBXSyAAAAAAAApIBOFgAAAAAAgBTQyQIAAAAAAJACOlkAAAAAAABSQCcLAAAAAABACuhkAQAAAAAASEHJO1lWrFgh48aNk+HDh8v48ePltddey9rm4osvlt69e8uIESNkxIgRMnv27Pb71q9fL1OmTJGhQ4fKsGHD5J577ilm9QFUCNoaAMVAWwOgo9HOAOVtu1JXYNq0aTJnzhyZPHmyLFq0SKZNmyZPPvlkZJtMJiMnn3yy/OQnP8naf+7cudK7d29ZuHChtLS0yOjRo2XZsmWyyy67FOspAKgAtDUAioG2BkBHo50ByltJR7KsXr1aVq5cKZMnTxYRkcbGRnn11VdlzZo1WdsGQeA8xuLFi+X0008XEZHa2loZO3as3H///R1XaQAVh7YGQDHQ1gDoaLQzQPkraSdLS0uL1NTUtOczmYz069dPWlpasra95ZZbZMiQIXLwwQfLY489FjlGbW1te762tta5P4DqRVsDoBhoawB0NNoZoPyVPCaLj5kzZ0pLS4u88sorcsEFF0hDQ4OsXbs2r2Ns3Lixg2oHoLOgrQFQDIW2NbQzAJLwnQYonZLGZKmpqZHW1tb2fBAEsmrVqkjPqojIrrvu2p6eMGGC7LPPPrJ06VI55JBDpKamRpqbm6W+vl5ERJqbm2XMmDFZj7X99tt30LMAylPcENFqRFsDdBzamlCx2hraGVQj2pot+E4DdKw02pqSdrL07dtX+vfvL01NTdLY2ChNTU0yYMAA6dOnT2S7NWvWtJe9/PLLsnz5chk4cKCIiDQ0NMj8+fPlqquukpaWFnn66aflV7/6lfPxwhP2J1X6jErPMnvouY26Th+odPeYZ6e2eWWn6F29VbrXbJX5uUpvUGndwH1sHqcYL6HP871WpW9S6T+a7Z5Q6QNVep1K9/Soh63LxzFpfe7izqn1okr3iUn72GDyPnXRdd8uplwk+t7UttQxk+niUb/qUbq2xsW+lvZ94vqMrTN5+xmxx7Ds+z3Xe9PF1lmkDOKmowxkMplSV6GsFLOt4QcnqgltTai032mSvj8k3V+K3zGAv7TampK/s2+66SY55ZRTZO7cudK9e3e56aYtP9AnTZokl156qYwcOVLmzJkjL774onzyySey3Xbbya9+9Svp27eviIhcdNFFMn36dBk6dKiIiMyfP5/I2ACy0NYAKAbaGgAdjXYGKG+ZoEouhWQymZirPmeo9E/Nffrqse4djuubmhwmv7I4TO9nNvuqStefoDJ6BEjJ+78UnxEgl6v0P1X6ILPdjiqthyXGPV89esV3yGLcCBDfc5rvKJM0+Y5gsqN62mwZBZHJdOEqZ4lktzX5XrXxGTXSbPJ1Cce82uRnmPwdJj/R5F2ja7hahVz/W9GROO+oNrznSyP7vDOSBZ1bWm1Nlb2z2z7YM1WZDgBlp2DoHxa60RgdJs9aFqZXhsmn7w3TWTMc+6l0vf0xU4h8OwF8t4/r3ND76+ehe5WON/t8O+Yx46b7xE1PEvGbYuTzHHP9Q9CP4TM9abuYtG9dfD+Suo65HhMAAABIQ9IFz6TvoUn35zudGShPFbG6EAAAAAAAQLmrssvebU9XB2O9R6WXmu33UWk1PeNHavTKIrXJ+2EyZxjKd3VmvKN+Iv6jTPQjxe0T1wvse1yf/e2cqDZ2utDNMfvHTR3Sr48+VyJ+o1d03eMC+OY6D8tVWj/HQkePxJ3fuGPZ4ZXFmLoEAAAAAMgHv84AoEPlmjbmyvsMja3Lsw522p2tk08MFssew8YJYogvAAAAqk+VdbK0jR54RZXpJYWPMdvreBxqWd9bVfE7YbJ5Y5j+kv6NcrQ57DcbVCZuWWA90iHXD56OisdRyLH0ebPLYuuToUeG6Oe7IEy+fWaY3u10c6x5Kq0Dd+q6T4wplxzl+sdiL5XWo2qGqHRdzLFyBffK9/zmChxWZR9jAAAAFEmuGIhJgWxdwfxzbc8FGnQOxGQBAAAAAABIQZVdAm/rHdW9qllr/yi6t1YtS3ygKn49TNaqkSxyu0ofer057qkqresSN3pF9yDbHt60enx9l1SLG0HhuyLQiTH76xWfng+TH6niy+ZHD3W8yg/opu7YU6U/p9Jxr3WuSOb6WN9VafXCS6NKz415DF+MUAEAAACASsVIFgAAAAAAgBRU6aXyuBEYuUZzqNgeV6ribcNkZg9VfujDKvOlHHWJG72i66JH1KjYMCISjQfis9qOb1ySuPOyfUx53Dm1o0SmxGy3RqXVeeh7RJhedW/0UC0qPUCNOHlrRZjePW7lnrjnZMXs06RWmDpUpXvo0S5J81ZdjxHHnked1/v7BCxFceUaKSWS/fq/4TjGnibvO/KszRSTt/vb901ScF6R/EfV5VtnAAAAoPLwLTdnQKaYQKU7PBWm//NOtc0olc41DUnLd7rPUJP3WfY5riMnbkljS9cxbunhXEGx4ug66mDEakrRHy4N05vN7ruo9IOqY6VObzTcox52VZSYc/G26uT5iyrvojd6zfOx414f3/eDXoZ8L5Wu89wfAAAASJLre739Dm23tT817YUnfoqic2K6EAAAAAAAQAqqrPuwbaSHftpbEzhWj1LRyxDHjSq5xOz/w5h9JKbc9hJretRF3LHinmPcqBZ7X1y9NN1znWt6UtyoDb08sgoeu1IV15lDLVbpfVV6nN4ori6+U2xUfX+uindS6R300tIDYx7D1iVf9jXsq9J9cmwHAAAAACiWKutkAYBiy7fjy8Zf8ZEU7ySpDutM3nY8uvZP6jQkBgsAAACqT5V96016url+FMQFGo0bvaKHVtyYXDURiY4miRtpkSsgpc+omLjtfQOmTlNp/cPrVzHb5xoho8+pHgGi9jlGFffVyzSLyB/Wh+lD9WiSn6q0fo7NKl0n8fQPzg3u4jkSk9mawLM+r4+lRw4R7BYAAAAAykGVdbIAAAAAAPJnR77+0eTHm3xSIFwraUVGoDJUaSeLz/LEVtzSxXEjD+5QaTvSIO6062P5rgL0tErr0SA+K/x4rmrzViZM6wEjg1X6J99WGZ8Vfexj6ueuVmzqq8vXRnc/VJ/jk1U6bqRRXczj2QZ9uUovDZMNqrjHZSrTXwoTN5JFyxWNvUo/xgAAAABQZvh1BgCpy9WJlxQvxdXRZqccnprw+PleCbJ18vnXYOvp8zwAAACAzq1KO1kKHQXgs48e3XC/uU+vBqN/iOjRJ0+o9IEq3WSO9bxKq1EXMiOmXvrHl+eqOn9Wxf+i0v309j9Q6dtzPEZc3JntY7bR+9vROfqHpj7W5Sp9dsxj5Fph6k2VVq/PIf+jyuNG6+QaHRQX4yeuXrlGWfURAAAAAEB5qdJOFgAAAABAbvrC4JqEbW3MlnxjshCDBZ1DlXWytI0M8ImJYvP5niq9/cQc2+mGSzdMelTKUJUebfZ/TaVvVmm9LI8e9RC3us+15rhnhclDVfCVTcvC9K1q8/fvDdPfjBuVYh9f25p4NNpXVDrXKBUX+9o25vn4W/M+8VlRKNexquyjCwAAAAAVgF9qOcUFZs33tOVaGlr/cNcBV/WUFd0LfKE5lp7Ls61Kx01J0vTzOyZmGxGRV8LkvSoI7uNqE90PpAPl7n6wOdbJMWlN1/cNlba94boDZJZKT/I4bq7XMK7DJ+48Fvox2pr4Fz7BclE6uZZHt1P+bEek63NhY7BcbfKzJLdcHcgi2XVMiiMTVwYAAABUt21KXQEAAAAAAIDOoMouRbY9Xd/pGXEjBOL235ppH/oq9jsqfYZK55jWs2JTmB5wQMxjxNVRP3ad2SfmufxDFb+r0otVWq3ALPs8HD3s9Y+qjJ6WExf8VS9LbenzogMNjw+TVz0ZpmfPjtn3J+a4esSMz2vtUz8RvwC3PuVWlX2MAQAAAKBM8esMAAAAAOCgLxLai5/9TT7pp2XSdGR+mqJzqNJ3ctwIgVxBWvMd0RAX0FYkGi9FH+sQj8cwsVMG6PgOM2P2iXuOelSMGv0hItFlo9U+d4TJX78Xpg96KkzXfFHtutoc9pZPwvT+O4XpvQK1ke+51udVPfe+4eiVD9Xj7/DvV4WZPdSut82PHravrkshHxEbdNdn2WYAAAAAQKXi1x0AdCjbOWiDTNtm2F7lEcnusEsKdGu3913lK65O/KsAAAAAfGSCIAiSN6t8mUxG0nuqcSMSNP3D6nJzn149pC7Px37R5J9Rab28sz6ujjGyY5j83vowrUKXiEg0rkqvbu3JX2fWi8tJtSrzI5W2g3hmx2x37iKV0bFa9LnO8UPv9S7tyYfUyMVmtYl65pHBjaOON8cKiIlPAAAgAElEQVRaeJ7K6NWc9Mif21Vax5nRcsVk0eKWid76Fa3Sfb8jH9nnPil+z9Z0suQr306WXKtZ+WJIcDWgrSkNzjuqDe/50kg+7/l+X+C7AcpbWm0N72QAAAAAQIKkTpWkC4yFXjQCKkOVdbK0NQxrVNkrKm0bBj2sP99RBa+p9Hvmvl4qne8ohuHmWHoURc+YtPIjNRLlZ2Hy2k+im804UWX+Jdznq+6jipym0lM/UgfqEtnsEfU4X+qm72kUN8/G2A7w+dSuKv2QSutajXrA7vXbMPnSFWH652oTPYDo5YNURr8etu5xr2ncqIIq+3gCAAAAQIWrsl9xbU/3u6rseZXWgWdFsmMn2ONYC1Rad9jYH9H6x/eamHJfZ6m0/hGvHv+eHcL0BWFyierwiPR3iMia34fpPmrZ5h1U/4MsU+nzj1IZdX7+Fj3ulw5TmdnbSDLdgfGguU89jjr1L6stdIhh3e3UrA9jn/y81jCtX5KFYfJF1Tc2/L7HwszhcZ1mIn4Bk6vsI1mV7Gt8o8m7Ot2S4riUo9+a/KkJ2xd6dcxHocOUk+rgs7R72q9dvtPRAAAA0JF8fuUCAAAAAAAgQZVd4vp0KMLHt4VF23VV9/eReD7LCuupR5Njyu0+e6q0z9ShXGJeTvW0LlKjV/RAFD07yN7XZ1uVmfoLldHLPttpTJ9qMPmTlqiMjnz7iEp/KUxepkaJNESnHsl1YXLJvWH6L2qTVSqtpw7108exsXz3jjnAv4TJ4c2qXJ+sw5MCiraJ++gxwgUAAAAAKhW/3AAAAFBF7IprIsmrruXLddGkkK/dvivPuR7XVea7rws/H6pX0mtfDYFtC12BsaP3L3TFp2p4DTtelbWSnwYl1SMXeug30lfM9nr94ZhAspFTOFWl91NpO8oj7s3rsxx0rn0+cJfvGyZ3UltsVmkTOkV0hBV5/BSV0XEV9GPrOqo4Myedbo78U5VeGybvOzhM61OtgvO+o+LJiEQXUf6dSuvnqM+8HnCi3wJHvhs97g73q4wOmTNLpfUS15GRMLmW9/Z5P33gsQ0qS77NbFwQ6ELk++PB5x+03cb+k06KwWIV+sXN9QPEluX7mVpj8na0Y9IXE7uG/dbUIUmV/RsHAAAoc8RkAQAAAAAASEGVXQL79CpjZNjG+2Gyhx59IhJ/euJGJOj9c60yo8WMPonwHbalt1N1fzhM6lEeuuY67IqIyLaRhUF+5fHYcXFmhpjtXlVptSbyFUe2J+9SYVh07JQ7zJFaVFo/F7WAdCSkyo4x5Xeb4x63SGWOUGk94uVJlb5F732PSuuYNSLxMX/iRq/ku2w4AAAAAKCUGMkCAAAAAACQgiq7PL5gy59uqqjHSJWxpyMuvkZcLBK9vx69YgOsbR+zneY7iiFXDJBPqcE6B6livYjOhKFmn6nXxzyeHpnybZUerdI6EspZZn+dv6Q99Ws1euUFtYUeYaNHrohEn7keoaNHv+j1iPRAlF1ithERkX+o9GCVVisYyTSVHqJj1kxS6VwjkHTtC30PoPw0qbSNsXK1yc+S/F1r8jPyvN/GCrHvVZt3BYm070n7PrbxSmx8kzrHMXPtnzSiz/UZSYp/YuPK2OeZa8U5H2sdZUnn2so3gF2hAfWAauAbp6qQQLC++/oez1XmG8C3kH0B5Jb0fzff7zP2eDZv97fHz/f/vj0e3yPSUGVn7dN/KLvrX84/UOlcH4KPPcrj2NOs865gjbkeI9cHLaYuE8PkwDNUernaJjLlRSQatFJPgdlHpfUPNT0NyPbYaGoe0pkXtyf/pLZ4R6U3xjyySPTM6Y4V3eGipw7pYVs6Vq3uZhMRkd4qrXuiZuveOf2+OVul9evxhDnwgfaREuT6eOrX+sEw+ezheT4GAAAAACAtJZ8utGLFChk3bpwMHz5cxo8fL6+99lrWNhdffLEMGTJE6uvrpb6+Xu666672+6ZPny79+vWTESNGyIgRI+SKK64oZvUBVAjaGgDFQFsDoBhoa4DyVfKRLNOmTZM5c+bI5MmTZdGiRTJt2jR58sknI9scdNBBct5558lnPvMZeemll+TAAw+U1atXS/fu3SWTych5550nM2fO9Hi0gZ/+PUSV5Vou1We6hh6Wr4fk6+1zDcOKGzKmx2nkOlbcPmrIZ/eGMH2teuy3w4ZWdrPhX5tVWk+BUcNiIvWKO1dmasSwM9uTL/45LD5SbbJYpTdJvB+q9M6qu7D5kzCtl6nWSzjrMThmBWfp979hOjNO3/NeTE30831apd+xGyr6ddTTrvqqtJ4gpYIE28f8UI1emZ7jIatccdsaANWKtgZAMdDWAOWrpJ0sq1evlpUrV8rkyZNFRKSxsVFmzJgha9askT59wrnwBx98cHu6vr5eunbtKmvXrpXu3bd0JARBUNyKA6goxW9rXLE42tgYLPnO1RXJjrFipwqeavL2MZJilVg+8/ST5gznGx/lDZO38VFsnXz+nSWda/u62WPauDL9TT4p1g06O77XVArXVG3X59XVrrj2dW3nOp5rWrfvV3HXdn9ylNmVMkXcbbhv/BXfc4Vioq0ppnxjlCR917Cx+d40+VqTt9/5rHxjtdnvOvb7GZ/vNJS0k6WlpUVqamra85lMRvr16yctLS2RBkK78cYbpa6uTurq6trLfvazn8kvfvEL+cIXviA//vGPZejQuJggbW9au7RuG98fO1PD5Eu/C9P1+sdTrjgqEnNfzBLMkX+iOvaJiMgxKq1H6HxDpW9XabUQ8vZqJIuNeHLz58P0VN0A+8STmRwmh98VuWehGr2if548qtL6Z8oeKq2D1YqI7KxXilYjTuqOV+X/ESafUCFSdAwX+7NILxV9rI7/+924YKY6eJx+78WNfLH0e0CPWNHnd57ZR/3Yu0gVt52H/xUoxW9rAFQj2hoAxUBbA5S3kk8Xysdjjz0mF154oTzwwAPtZVdccUV7Y3LzzTfLxIkTpbW1Vbbddtu4wwBATrQ1AIqBtgZAMdDWAMVV0k6WmpoaaW1tbc8HQSCrVq2S2lo7TErkqaeekq9//ety5513yt57h0u+6N7aqVOnyve+9z1pbm6Wvfbay/GIo81fEa8lkEUkOtpADauqH5y1Zfb2nsOubsmEaT1A5TmVXmr2mX1CmD5SLX48T6Vr9KgLtaRQsyper5fRERE9pfN9Va9hqnz8hyqjnuPTavTK69HDHqHSepDIP1Va1+TLKp01bmZXldYDcXQHvgpHc7AayVKjBuo8/n/Rw+pRNQephYN2fvdrYeayJWor/WLpYTTmyUdGGqnFtM9SJ1vP8qhT6R52NJSKBXSTKl7x6d8FAqX4bQ2AakRbA6AYaGuA8lbS1YX69u0r/fv3l6amLdMwmpqaZMCAAVnD3J577jmZMmWKNDU1yfDhwyP3rVkTTpt48MEH5aOPPpI999xTAKANbQ2AYqCtAVAMtDVAecsEJY549Oqrr8opp5wi//znP6V79+5yww03yN577y2TJk2SSy+9VEaOHCkHHHCAtLS0yB57hBE6fvOb38iQIUPkkEMOkbVr18pHH30kPXr0kH/7t3+TAw88MOtxMpmMBEHbCjpqFIF34C8ddyNuHz3aIGalnyw3tqeCzPT2dEYN+Xj/3jDd4zNmdx3yRMdF0oNnlt2gMt8Nk1eqdXX+Yo6rhnO8r+J79DhYbfPQv6rMj1RaxbwZp0bUmMe57a9huova5NjPhukPVViTVaaKAy5VmfN7hOm73g/TeuTPb1S6IaZcREStTiSqLvIvKn2t/tio1/1B9Uz2N8ftcUCY7vtse/L21WHx5LFq+6+o9Pl65IyIfP3YcP/fqv2Dy0REJJM5n2BmRnHbGn3u7bCik03eDii0UYJERJpM3ga2TWJHQn1g8klBaYsR+NA+hq2zbUdzxbqKY8/1JSZv56L3NXk7lHChyc81+ez3R/4B9Mpb9vsdxWhrOO+FKiQAbSFs8GyR7KDeMeZlsstGOrYbc7qj8KeOMt/vv+WB93w22ppisd+Z7GfHfq57mfzxJm9WH735sWj+2mhWbjH53e3rYb8/vWjyY0w+6XtI0vPt3NJ6z5e8k6VYtpywX3yai/uBYt9khfzDzTUNSa2a8cswBOu13wqL9bSaj1R6L32HiMhOYXLNrWFa972cfoHK6Ck2OqqsmhYjIvJ3tXqw/lnxJR19VgWxzf7Af+o086VA96bozo3PqbT6nfP3e8L0zrq+IiJ3qvQoNXXp7R3C9G7/ozZSwWM3zQ/TtjHTnRv/rdKzL1MZvYC08pZ6vqZ/SZ/I29TuOpSxnng0THfwnCkR71wepv+hyute2/I305+I8aVCJ8vWopOlEvEFvDQ474Wik6XSfjjxni8NzrsInSyV1VYUKq33fEmnCwEAAAAAAHQWlX0JLW9tPXO+V2B1T58+VfpKc9IVYJdvh0k1GkP3c+6sR4zoh9PDFkSkWU0lul+V76s3UqNdRAcMb5zdntz81asix9XBXyNnS0eo1Rd1d9cbqR7V64+SKHUer1HDVFo3hWm1KvbO+vTaYOfv6ox69rvpsT/6dVNXmbuqaVOvDYoeV694PVXfETN6RdtdDTWquzd63/fDpD6nevKang32kJoqtacauSIiskyl1UQpqatPriIAAAAAoGNUWScLABTbFJO3za6dcmK3F8meYpTEDh21Hcv5dg67/lXYaVB2CpMdbpp0zHynH9nn6DOc9Q2Tt0N67ZBfO03rJyZvh9zu51EH+7w71/QhAACAaldl3+Ymfvo3Loit75fduB8ocXFYcsQa+GqY3Fnt8vbiML2bGt7wK7UMsYiIHvCyb0xa9CrTk85TmTBY7bZnREeyyHVhMjLlVx9YL+ccu2S1Dpxit1Pnt0YVnztBZZ4Pk5NVQFsRkXNU+sVm93Ej9LznH4RJG/hW/046R5+vuJFN/6nSKu7LELME3tfDiLoHxYxq0cF9X1ZpHWNHJBrC5m8qvWy9AACAnNL++uuKW+WKr+WKv+KID3Nal+yyd7OLIiOV2+wxP7us5rrsMmf9XN9vXR3m1RWjAdXOvt/t591+ri80+Vej2bXLovk3o9k1JkRLnwuiebnethn2ItVBJn+IydvfZlbaMfeqEzFZAAAAAAAAUlBlI1na1oePW5Ui1+mIG8UQt00uKujHN3YM0xeFcUkiAxLqwuRI0xmqB7YcqwN66MEgkVgmevULVd9rF0WOe+y6cIjNi2rVot30MsZ9u6mMPie5Vlbyecv9XqVV3JYXjo1upofxyFkqHfdaXa3So8Lkw/8VPe5KnfmRuMU9hp5+sDG6y7nhdj2OVKsEnBgme6o4N3riglrtesv+Kq3D5DznqioAAAAAoCiqrJMFAIpBd8Ldb+6zQ68bc+zbJmmZZzvEO2moZ9LUSJ8OYxuDJWnJ5aQ6JEmKM+NjT5N/3eTteb3D5O1zcg3BBwAAQDWrsk6Wti/pcV/Oc33p9zlV+gv4uphye6xjwuT/3daerLtebfKnMDncrC706Oow/Y4aOPG5aWqjw9WKN5HH1j/2zA+9hQ3hYy5SAWK+pTc6W6XjYrLkEjfiJSbeyWlm9006o3/I6jEgo1W6v0qr+Yn1Q6LHrddjQ+JGrOh0XFBS+55Rz3eIWn/9sHBUyyo1kmWc2vOK2uiRXmwJ019Q5fzkAwAgiSvOiOt7nu/3Gdd2rvgrrsetzSp5zsYVF5H9bb+2iDsUjCOci/v7rSv+iuuAxF9BtUuKgWLu/+Ol0bxZbFSPYBeRyE9BEZE+/2Pu/5bJ6x+GIpLddpm2Z62pQK9vR/Py84TjYWsQkwUAAAAAACAFVdZV9einf3XU5bgRFIWKG/UgEr1ScKt7s29eEqZvuzhM6+VnRKRWjWT5nF7552s3qIweaaFHeeiezmZTRxWLZLOur+5u1UvNxp07uySqvnLic4Xo5jB5vunq1XFVIr26OqaLfu51Kq3r+yVz3KSlZ0WivdZxV3nsFaGYc6SGn+izdZS+anW9jsIiMrxOrbSkBhR97/9t+XvOagEAAAAAFFmVdbK0/XjONxaAlSuwaxv9w9v+aNf36WPpl0MFqP1OmHzb/HiOBESNLPkVN4VFd6yox573+ehmM/+uMnFLfen6fhyTdg2XbaOnVOnOl5jz+/6z0d17qI6VZ8PlkeUANRVHdx6tVc+x14fuxxARv6Gxuo4qOK/oZZv1WtAi0feBms/1UZhUYZBFrtdhbM1EoF3UEo26+mebvyiRmCmBIiJyo8knLQ1ojycistDkZyTUJykGS1Kd1jqOmfSYudo9l6R22dbZ5psd+9gYLPeY/PJo9lkzpNZ0akujmVqYxadjNel5FCrptQYAAEBHYroQAAAAAABACqrsEtekT//GjT7xXb0irjxuZEauK9X6WOoK5JXhyIyH1OiVZeZIetVm6fH/YuqiH1+/5Oqxm82B5VqVPlel40be+Aa+1Ve3465sqxEqd4VrRi8/OrrVwKPV6JU7To851qQwqU/eF/WVexuBStcr7uq6fo5TYrax9PkaGCYPDJMb9EynyEiYn0YPNUelH1XpXT2rAgBA1SokmKtrSrHreI5RiXftlFXUenT2Zi84jrb/E47CLzvKdr/eUej6uu8aNbk1q7YBnV3SCoz/Hs3aD/Aikx9t8vajaD/XowabArsq5Zsm3xLN9jre3G9XUkRHYCQLAAAAAABACqpsJEvb040bneB7OuKW9e0Zs02uOfL6PhXP4z/C5N/UFnpxYRGRMyOhVPSICtfSfCLRKzA/CJN7m82e/36YHjVL3RF39Udf/VBxC042Y29uHKkfRKX1efhhmJwZJh8wjzhwpc7FLF78rHr8L3ZTd+SKJ+G6uiNS+BUevf9k9XBXtCcPHaQ2uSVc2lm+ZkbqfE2t7zZhRJh++dO/ZvU4AAAAAEDHq7JOFgAosk1dovmugdnABp11Ba1eYPK2k9Aew06Bs029He5uH7Mp4fFcx7CdkPYx3zD5Z0zeBgh+zeQHmvzTJj9csk02eVPHFSbQ7VKz+Z9MvjEuoHibNP6l5hu41g77jetgBwAAQDFUWSdL25fXXMsru7b3FRdrJddjfDtM3tfqPNQmtbUOxSEikZWWRX6u0j+Jefx9wuTNKtiLHbyhh8/EroYUs4zxB2r0iB0hs0JNVBwQd77UQsZq+rKdwiiH6kzMa6VjnBygz8PVKq3XShaJf3/kGp3UJibGjj3WbfuHaX0aVPGHJ4TpHb6sVhMSEemlRu7sdkuYPqTtx7b58QgAAAAA6HBV1skCAAAA+HBdUPGdOuzY7ifZRTV7ZJdtWJ1dpq8/tfvatxyF9sJRoVzngJ8PqGZ/Nvlzo9nZf4zmX7srmt9Pcltp8g+a0AtmgLR8MeF4NhBu1kjkpMC+fN63RpWdtUJiavicKn38uFEa9j41+mTXq5xHPam3yphFZuRrA3Lc6fAH9Z/731T5/ma7U3Qm13Np89kw+TtVfH43s13ccHv17eHKFe3J1v8Ni4faXfbVGfX63KNimVyhNnn//TD9E71zrvdF3IiVtSq9p0rnWj1JHUutCLTm2TDdR7WD96s9jz3MHOo/1HPUo4Xs9AYAAAAAQNFUWSdLG59OA5Ho6dHxBPrEbOMr5of7KNWj8M5EdYeeKNPf7PQjycsuKv0VlT7SbNf9FyoTNwWmOUy+ojowblKbZK2sbOMwtFHnVHXS6FlLNbruIqbOKn6DWsn67+vD9M6RkA9jVDou0K1I/PujWaWnqbR+kLPMPuq9sjlMrlJbdPtrmD5WzeyKTt8y+S8eHKaXPpxVU5RY1/ui+Y8z0fx2STFaRLJjrFhJsUKuNvlZzq1Ck0zep05rTd5+dmyno12C0K5POsbkbYwW2/a5rt7aSYa3R7MPmbsXm/yrJv/sztH8ATVmA3u1yMW2N0mxbJKuKBWyFC0AAADSxhLOAAAAAAAAKajSkSxb87R7eeyvV3mIW85ZJHrlUd+nV89oidnGPnbcY2rqyumo51R6vNrGjjBxrdRhqVE1Qy4L05vOD9NPq6EkIiJj9DxG/VxUHR9RVdQXs4eZh99tkbsuR4fJndVK1DL+w5jH9g1+rLdTV/ofVKN4/qJGkpyuhqWIiMgZYVKtYtJPbRG5pq1nNC200670FfmDwuQRO2z5e4EAAFAiacfxKEZckAsdZa45uH90lL3nKLs2u+gfjs0asouOsYMPRUTWzXYUekwTF5HsGAwi/qPgqvSnApRcMwBeNHm7EmCukAmu+62k0ZxbEz/EfjZ/ZfL2A/i8yc81+TdN3oya/c/Lzf0bo9lnr4jm7doV15n8b00+8ZweYvIP2gMYhZ5zn4Vj7D75vi/KHyNZAAAAAAAAUlCl3dNxPWy+PXG6t03v09NjG3tcn2Wfc71McaNX4ka46B7mf+Z4jFwBXNvo56Eiaz+jRlboIRsiEh8LQj1+DzXiZJnufVVDVEQkGtNB1eUcHWb7Ufc2kfNjn1/css26J1rFkHlVjWRRK1TLHqZnenuVV6flZbWJDjsz6m69s36tcviL32boYB+ouCvdP4re90nSzq7e+4Umb2OwJF01mGHy+5i8/ZzaOiTFfBGJftZERKaY/FSTn2jy9jGWm7y9Ymvjrcx01Mk+z72i2WEvRPN3R7PPmxAre5uH7PG71mjB1+zVYlfbme9VPXt/rvZKJPuKNTFbAAAAiomRLAAAAAAAACmospEsbVd74+Z52SuG+kqqXtUn7rTpq8m+c8n0Vca40S/rYsrt/vrx9eiVe1RarxqSa7RKXL301Wp7JbrNgSptVwjR4lZsalZp19xnV730+Y4bvRI36igXvY++rL1Apf8lTOoFT/QazCKRC+2bVagaPfhEx2cRvXS375zT49pi45zvvh8AAAAA0GGqrJMFAAAAHcv362UxAtq6/MBR9tnsog9sBErJDkopIrJvJrvs+OyiwM7MFJHMgdlldU85HkPmOMp8z1Uh59RegBTpDEEpkQ/9eVln7st1kVYkevVRJPm9k++U16QptSLR6f4iIq+bvF38wzL3N62O5hvFsJ+3c6PZ13eI5g/YJZqXd6NZOxv7NyY/wRyv6xfMBjZSrn1N7GuadCE6aZqzT3uT71TpymtzqqyTZe2nf/WoCf1htu9iPdJCxzLxeaE/jknn2j9mtZ2tGnWh6REnPqsRicSPytExDnR0bh1/QTdwOd5ij6lxG1/UDYxe9UjX3cZz0fWKO98q6nnT2DDdeIraZp45rj5H+r2i/8m8EiYdX6REJCuMxjvqrabjsOyh0gP1qkA7xhw3i36+P/z0LyNZSqp7EH9f1w9Ngf1i71qlosnk843sbvd/1V23WK4fQrbMjmy70eRtTJV7TN7+Q7UrFIyKZt/6ZjS/u/2SIpL1PDc9HM3b0Wb/E82aiC1Zr8yEn5mCr33OFJgVBEQk+wvkWpOvM3n7hdGep1yjGwEAAFBsVdbJ0vbl87WY++2v2iEq7TNFSH951h0YZlnAN1UA1L46LI7+Qh7XEWN/2PhMUdrOY5tc++gv9XUqbYNpupgfBB+o3tY7VfmfVK/td3Vnl94ol7hAwWeFST0v5+P/Upvbpdt0x8oaldZTxtQPRh3I9NgwGZgrUbpjRXfjHFurMvp36nj9g9C+/3SHj+2RBgAAAACUAoFvAQAAAAAAUlClI1n009ajFvRIhVziAq7q0SuXhMnvmaV81SAKGaqGQdzcJUz31VMKci3n7DPCJi74qy+fQMFxU3fMvt9X6QdU+od6I71scy5xgXtVUNoVz4ZpvbL031R6d9d84yRqitFuas7B+nC4zD/MHio8brR3U8/HHt9NZb4U//Br1Xuq12fUHWfH7wMAQFGkHcfD9d0laen6HP73iuyyv2UXye+yizb9MrvMNQHzHUfZl/Z1FP6ih6PwFUfZno4yO/1QxG/p+Lh9Xee58mIhIG3NKm2n2Pcyefsmt6Otk2Ku2HzS9Gi7vZ2KLBIZ1S4iye/p5mj2R2dG83UJu+ecdSDRdVVERPYy99sJF8Oi2Xeui+Y/Z2ZCy5u2/bWLkNj6+YalaLM105LzjbVT+e1OlXWyAEAxxE0jFMn+Z2YjfdgAZCIiZ5j8MQmPb+OhnJqw/RCTt1/wbdA0EZGTTd7+Q7wj4TFtnWaa/CSTNz9jdh8ZzX9gI6iIyLYmb39EmSr/3cSy+0s0m/W96u/PRvM737YpWnBcdpWSv1C+aPLDTd6e53y/uAAAAKAjVVkni2sJZ532jWQcd9pUpNMZF7cnXzY9jvpRej8Wpmt08Onf+PbgxY0myTX6xSVXT3Hc1aK40Ss5Hk/HptThTvTvp/cXh2nXBZ52cT8mVCBJ/btrmUrP/VaO4+rnpUc6xT1H9YP0iTDmTI/9zGGnqbQe5hLpoXZdvRIRGR3N9jpYZXQPfeX3/AIAAABApSImCwAAAAAAQAqqbCSLXSpTxH9Ob9yIETW0/7KvtSfvU6NXFpkj6dgcD6n0HDUiP/ObuFETuZaDLiT2StISsEnHjSs3o4PmqLSec9hbpdUKPfLQ0ypj5xTqYfL6PKghQV9Tq/DcrJcBsnNK48S97pp67t0/CtPf6RLdbLBK61E1UxtUpk6lcy0DrufA9syxHQAAAACgWKqskwUAAAAdy3fqquvCgCtormt6sGtfz8c90VE2OLvoIUc4qrscu57rKBv2WUfhLFdlXIE6+zjKXHwDAru2843f5Hs8dF4/V2n73jSf17eWRfO722Mlve+S4owlhXbYx3FMG+vOBpE2x3z+89G8DaU3NUg4/k9M/gfR7FJz9w/fj+Y/Y+4/NJp92dz9paz2zIQYkPEm/6DJ289z0oIgvouwaEmve0Kw4AoMh1BlrWTbB1ePAsgVuyRu9Rq1moxMbk8FF4SlevSKDce4q0r/NWa7UfJjldMrxuR6k+X7cub6EHXQm7n7CWF6PxW2/zS1TaRac1X6v83B4mLQ6A/m5jA5Na5SuRp0n5WVYt5D3+1nWukAACAASURBVBwX3eWWJ8O0Hs4kN8ccVzfa9rW10dzjtkNp6NfBBoC1AWPt+2+hZLPrVNjAtvY/rA0quyDhfhsLyLYNrl8k9p/4MyZ/q8k3m7x9nt8w+edN3n5JeMPkHYFvd+gazX9kAtPuFM3ubL7Y/GNjNG+/F2UtFHKRyR93fHadIp93EYm09SIiQ03efqG1eQLdAgAAlJMq+0VW9+nfuM4F+2NH/1jXP3gfDZM/Wt+evFtt8a5KqwkkIhL9KbKjSq9S6VGnnR9mrtfrG+fqwdV11N2ucVNefDtS9HHjvtD7TiNS84VOUJ0sO6iz1/NItfm9Ydp2DEf4TOuJ6xjJtVzchpjtfM6dWbHla/oxr/U41h9Vure5r1al9fu2yj7SAAAAAFBGSh74dsWKFTJu3DgZPny4jB8/Xl57zS4OLrJ582aZNWuWDB48WAYPHiwLFizwug8A2tDWAOhotDMAioG2BihvJb/sPW3aNJkzZ45MnjxZFi1aJNOmTZMnn3wyss38+fPlzTfflGXLlsm6detk+PDhMm7cOBk0aFDO+7K1Bb61g77b2Hl8dSqtGy81suNPYfIvags9KkVPDxKJjl7RvVzqUNJHtXVj9s2Emdl2XIwexRAXANVnZIfvNCSfpZ1zBeAdHiZ3V1OH9KgP/TKo2T7Zo3h8lqmOOw8bYraxx4obueNz7q6LKbfiAtw25qjH6Bz3waW4bQ2AakQ7A6AYaGuA8pbYybJhwwbZfvuOic+xevVqWblypUyevCWuSWNjo8yYMUPWrFkjffqE884XL14sZ555poiI9OzZUxoaGmTJkiUyaNAguf3222X27NnO+wBUjs7V1uSKd2Q79Wwn2QzHPs0mb+O6WFebvI22mKtjUcRvOpyNJWKnW9pj2M5tG9PFRpazdbzJ5N+MZrsfJVleMSEq+5n7TRiZD00Mlolm8ydN/lGTP261KXj/tuw69fiRKbCxZ34oudkAe0nnreTXUspOR7U1fKfRXG2g65z7vg62fRERedFR1t/vcDs5ys7MLtrDEfj2K45d+6x3FP7cUXb6vzoKD3SUuZ6v64KK6/y5zj3tQLF1ru80zSpt/+eY6ey7N5j78131MunCoT2n9vj2f6pI9vvfBr7dMZq1/8tnHpFQJ9sWNZn83GjWBHR73fzb38tWz/zbf9fcnVXfpsXRfON9ZoOk96UNjHuGydvvMTZun09Q8qQAx5XfZiU+g7q6OjnxxBNl5syZstdee6X64C0tLVJTU9Oez2Qy0q9fP2lpaYk0Ei0tLVJbG8agqK2tleXLl4uISGtra+x92dr+8eh3qw74eEiO2up/3OrHwTvXtCf1UfXolRZzpF1UWg/U0J8RHRJyzM9UZrb9YaIbkzUq7ROZPteoFH1fXADgXEsMu45j/TRMvqnCj+sRi5HBRVuzWoF+fB0o07ZgPnxH/rTJ9WMoLn7OdjHb2Pdm5Tc+VudqawCUq45qa2hnALThOw1Q3RJjsixdulR69uwpEyZMkCOOOELuvvvupF06XBAEkslkkjcEUDFoawAUQ7m1NbQzQOdTbu2MCG0NUEyJnSy9e/eWCy64QF5//XU57bTTZObMmfL5z39errzySvnwww8LevCamhppbW1tzwdBIKtWrYr0rLZt19zc3J7XPbP2vubmZqmrq4t5xDUSHe0hsmXMVtttO3P7QN0+VrfG8LajtN/elfDWom7vm9s/1e0f6na3um2vbm//X3iT016I3iL6qJumn4dmn6+++Rx3e4/bGnNrUre54e0nEt4WqZs+kZsy0VvkNVmgbnPC2x8z4U0uVDdtnbnF2aBuPnqaW9x9mn5OepuPzU3Tr28+9SsvnautAVCuOqqtoZ0B0IbvNEB185pzsH79ernpppvkmmuukf79+8upp54qjz76qBx++OHy6KN2Vrq/vn37Sv/+/aWpqUkaGxulqalJBgwYEBnqJiLS0NAgCxYskKOOOkree+89WbJkidx7772J9wGoLJ2nrblfpRvNfUnNrquT7CCTt5MQbcebjcGSNPf1xoQ6uOqcFBfGPqaNcLLQ5O1zsJ2680z+2yb/uewqDLHzis10y68/HMnuYKYxrzRxFv5qjvaEyY98L5rf69zsKsk1NlDDMSZvz72dmmg7ZrE1OqKt4TuN5ppS64oz4ppq7HqPu+I0DPXcN3vVFT1bud2o67OKBl5wWnaZK/7KDkF22Qn/n707j5OqOhP//xQCUQRGEYWAdHcisjU0q7KZOKIRE0QFVOIGqFGMaDRxINFxIaCSn5lJvjMZcWFMxFEnqC2gEoNxA42CJo6IYQCXdIMCKiauqCje3x9Mdz33qXOXom5tXZ/361Wv1znnbqduV52uOnXOc1wjBuY4ylz3IJeA9nGnVrv+1yRdl8rWcj7T6DeM/THSxue4JMtnE/V5w74mbd6+3u1nC5HMmCHX+bO/+NKft+/xkea+dDbbtx9ltnczO5jn9D/+7CH2LWZitsjz/qwNwSJ2kNSdN5uCWn92lmmb7EdKu2KLub6cOc2f39fkz3HFsLGfGSc79mlZIjtZLrroIqmvr5cTTjhB7rrrLunff/c/tTPOOEMGDBiQcwXuuOMOOfvss2XOnDnSvn17ueOO3cENx40bJ3PnzpUhQ4bI9OnTZe3atVJbu/tFcuWVVzYHZgrblqkpfoluhOwHfy3oH5V6N4xKJ49R78F1am8dg0XEH7CoQaXVqXyrE/1GpWeZFdZSN6s3SutX1BYda8Z+iG8SFmMkKK6JLg86Xu3ziYq1IiJyk0qrxYU2qe8dOhblKXem0383i/Xsf1obcdKDlfRgnwXqTp6yQW34ozlB0EiQ/QL2ibv6UtBKULo86DUX9qGpZXwAalltDYBSlc+2hnYGgAifaYBKF9nJUl1dLevWrZP9998/Y9vy5csdR2Snd+/eGUuOiYgsW7asOd2qVSuZP9/+ihm9DUD5oK0BUAj5bGtoZwCI8JkGqHSRnSwzZ84M3Natmx0OVeqaRq0ELfEXtsxYwAiFE9LJAVel03pQum0C9fiL3uKmVxLVAwrtCLbL1Mk6nn9oOnOLXs5Uj2QJGn0SZ3qALY8xguIn/uxaNWLl4MvS6dlqH73i0oHqCdsBil/+dzo9RJW/o9J6UMt4PTpwoPqr9Fpqzhx0v/TrI2hkSdAIIJHgYf5B9zHsXHFWfCovLautAVCqaGsA5BvtDFDZWt46sKGaOleCOhri3g51fN3s5mTNEen0MDVZ/0Nz9Mcq3UGl9RQ9Pd1Id8Q8aM6lO2yu1GEVbtHThcK+rEeVi8SaFhR0rlX+Lb9Tad0B8q5K65mReraP7WDSUwbtdMEmvrXkG1Ra9+TIOHPUkyr9mkqfG3AVLc69TuKYltGx0nJtTyd/3cG/6Rw7d9/MAXS+BuyEWRt/xEYLsWxHnp2zbOPG2P1dr7HRJr/a5G2noo2LYK85y+TtcvWuedZajLgxq27y53/pzy5wxVpQbFe0nTb9jskf8rLrLDZOzBUmHxVPISpmS4X9WwcAACgxfBoDAABAgpIOoOoKmhv3I+yfM4uGtnPsd3RmUWbcW/8PNmGqvukojHsPXPdvT364aeKKNdcy4rmhEO5X6aiOfisq8H5YTEiRzNd91PvAriAqkjmDYag/+86Vvuymn/k3V603h9/5lYg62KCuh/izZnFYz9yilA3ZY/Y/wWyWZbZgusmbe/oNs3mDyf/N5G1s46OH+PP/ayr4kSOA8mZT1jdqUYio103po5MllJ6g0j4grea8TJndnByvRrL0MWfVQW31iBX9K6i+8lqV3tecS48AWaTmGE2+/PV0Zp4+IuhPHneqVJb77OXP6tEnOkzvYSqtR+fot62eQiXiH+HzVMA19L3/u1r5Y/++56kttu56FFDQP4+A0T3z90mn7QLpF/w/lbGrv+RC19+OigAAAAAAFIr9GggAAAAAAIA9UKEjWeI+7ThL9qpRLWenk3up4Sp9VDxaEZE+asjKt9SyxP+ihmvpNdD1yAw7rkIv++yL0qBDD8wLer5hSzgHCYofErAM8RH+o7s9m07r56UH7uqRPnogzMEhtdLPXY/20SOC9veN7rs1YC8RfxyH9gH7qdfGn9Uy2rry5u/uP5e+dzo6jV5eXIu5HPRO19hmAAAAAEAhVGgnCwDkkwqSfI4NmGw79ez2f3Ocz8zn9U0UFBHpbvJvmrztpLPzhW1QWbvd9a/CBro90uTtJGHbTWonOf8ook4rTN5ezwaUFZGdT/jz9raYSLXnmWnWC80cRdtv2sPkR5hOZbk0s0qZz9N2rNq/lc3nGhgXAAAA+VShnSxx45Lo/YJW1VEfaFurVUPm/FTto+K2WD9Kj8E4PrWzOa2/fugRH3bxC70Sz9f1Bt/CHl8EpPVzsl/89AmCjg9Y1lqXm+BN+qvg5yr9TkC6owTTz1fHcdHxmnxfL47RmYCRIBmC9lPPd7Eq/r5Kr7HnCgraFDR6RYu5HLT9MwIAUHCuz1lxg7nmEqTV0Ul9vaO3M+P/s4ic/LXMslMcS+1WbcsscwbmtR3D2cglyK3rWFdnay7BdVFZgr472G0ima8h+94N+77hOj6sLq79lzqOsT9m/bs/a+K4VpnAt/JDez7zC0zniDp9YZYyNE1cylbvIpP/janfFrN99P+TrPyDyfcz+TYmf7RtByf6s33nmO3bJUNfGz235QW6tYjJAgAAAAAAkIAK67Ju6jqMs2JM2H4BMVl8vXA/jnEeEZGPm1N9/jnddXj9dek9DuqUTq8yy2qNUNs+0Nv00jux/sxhozm0oOcScPzn/qyeMHCiSut+bX2IXl1IPVURETlHBXJZoob46HEhvjEi83UmrIdU/0rVWaV1T/Xp6aTuEdahXnaZ0463UzBc4sbJCRhddFBTd7xZTg0AAAAAkHcV1skSNTc97tCkoCkzcY8PCHR67VHNyYNmqVgCz6STI/SazyK+zpSOelaSDZfQLOhPfr7JT1FpHWggaKnngPOeU+XL7r90U3P6G7qOuo+mIZ3crEbk+aZDiYgMTCffVwF1a9QuvhALVQ+pTNiS1TGm73xxbzqt6/6ySt8YfZpMceMntA5INw3ZO35PLo68sK812yFpx22+L5mmm7wdbmuDjWQ77HKcyUfFaBGRD1L+fMfxWV5zkMnbYf5jTf4ak7d1/ItkaGsmHPb4wJ9fafY3IVyGnODP2ygwNSNNwVPtTMHHEs01NUKLGpodtT8AAAAKqcI6WQAAAFqCn5q87ZgUERkR81yuzr49WXUwTNz4K67r/sBR9ufMoueeySx7OLPowqczy0bek1l2lmd/gBIR+bWjzNWpHPe55RIbJen9AJew10+2r624I+ebZBvM3RVwyQben+LPbjAxU+yvum0vj7hmxD1obX7BqT/Kn9+nrTngbn/2SvOjUrd7/fk3Tdyp7ub5PnayP/+ouZz5Ad97wJ9PiQkCM+eP5gQ29ujLksnxQ5iPbUOjYu+UvvKrcSKyHI0RKmhp56CgsCLBDcTj6aT+AfY4FcTpuDfMMeo6z16QTt+ndtG/OHdUwXl97C/fOgrTQpXur9L6DRE0uuc1/2mXVqfTP1dvWr1Ws3q6R6pfmj80NRS15LWemaMnyvhjWd2m0kertP176L+pfl7q+bZWN/g7qvE6r5e7ghnnyva1FrexcX3IBgAAAAAUAoFvAQAAAAAAElBhI1maRgPEXcJZj2jQozaCRqzEGdUiEm+onK7LiQHl5twz1EgWvXKgXg/6cH28XubMxCH5y8Z0ulYPWzPLnrnqETp0uDGdnKnu19sd0mk1wGXQoerQteZUKl7LoSror37qPXwHLFdpPXolLH5FULwENWKke9DoIHtsjCWvA8sZEly+7OtgucnbGCxxhpjXmrwZMRYZDyUqZkuMIM0Zo+Jsve016iOucUnEBe34/tER1xcRGerPHm7vY6M/u9o/ZHhAb/9mmWHyF9tlDW1sHFed7HvUtpdRf7tcl7cEAABAPjGSBQAAAAAAIAH8xOWz0OSnBuwXtMxu3OBvmj5Grzqk1xu+Pt7xX1XxQNaqkSi+gTP6ejqQkvlVuFb3v8UZaSEB5WEBq9QvtnpRjmEq/V21OtGJm8RHDVP5RkM6/fz7zl3Ev4JK3PgoQfFzgv7urQP2CZNLrBaR6NVJAAAtzy6Td/0viBt8NZdVqeKM2Aoqc13XEWz2kwWZZb9xHPofjjIbHk0y12cTEengKJMvZmeWte6VWebESl9A7rJ9H93vKLPv+Pn+rB2UusLkh83z53uZUbIZI2vtKqU9/dl9zjPbDzH5SeH5sWZ1x2vN7seYQLefm+0DTN40fqkjzPY+Jp8xAtve3/6Sybb/drSz/TuXfxcFI1kAAAAAAAASUP7dRFlperp65MAqldYjSfT+VtAohqDVdmxvnR5aoq/xakC9dLnpDdW/IP0qPXrlftXJOFF3mK7Qq8/oJczs0lp6+a9fSDR973QPbsyX2A0qrX+d+lN69EqDWVKsRvW07lLPV3fI9vHFVPhRwMXDesn1L3T6OdaEHOM6Nuw6QbF/Pgoot/i1rLTZv4/9hcK2D673zD+YvI2NZJb388VxctUhKu5HWDyhIHYfe82wmFeu/ZeZvG2f7f42gIpIZhwYs/rWVrNsoz3Fn0y+/dmmwC7lGvXLjEjmfco2fk7Ufa6wf+sAAAAlpkI/jekPrfeo9JFmv6BpQVrQLdTHhgW61R0o/xiQ1l827Frvql5qheLn1R4TX9f76yFpejqU/QJ0ZMA2ndb3pGvAPiFBHj9p05zcODddrPtSOvxrOm3v4ocqDqZettm31LPvS9MIcbOBSPUXsb0DyvUX5aDpXHE7P/QwO/2FK2wqWtDfAQAAAABQLBXayQIAAFDOZpl81KioJq74ca6yXOKqxP146Yjncq8j/sopNoaBiPwuc7//+N/M3Z5xXPVAR9lJNi6DiMipjrL744zuDRL3PgNwixoV62oH7c+0Ju7TOWbFxiMu9ec7xatZMPsD+a0R+0fE+Oz+iT9/k/2x147iHWjydhSubcNtjBXbRtmRxZ0ley1/FG7Le0axrFbpBpW+wuwXNEIgTqDSsA87ukGw039c++hRJSGjFtR76DtrVPkP9E76+LA/f9Cy0dkG+rVD3bukk+qp6+ZGD7wZpdI2btOLKq1Hr9TonXzPPWiJbTvVQo8c0g3vXSptl8xtEnZPgkZG6ddK0LQrS9f/o4A0AAAAAKCQKrSTBQCKxXbE2U4+V+eajeRuf0WwU96i4qFENf32+DGOfR6PuIZlOwBtR7Q9fpzJR/2y8objmiYGi11R4KtX+fNnzXGcQ7P32dY5zkgC17ommv3FLe7oBAAAAJSCCutkaRpJEBTjJOzDbFAQ0jijOcICFQYFyNUftHX0xUHBlxmZTn5DB2XRQU5m2oCZTcKGgukvfbqOceLUmHt60Y7m5K+3pIv1GA+97PIMlVa7i4iIHqyjh/76vqIcPUFlguprh83tq9L6funXio7UawOZNgn7u+ttQTF79GtjqdmmRxrpuD5RQxABAAAAAPnCEs4AAAAAAAAJqNCRLHrcRHeVDrsd2a7gEnauoJguQceEjF7Rx+gR/W1V2rWyaQY7lD8oHkjQaB/9nEJWZVLDT3TslQNU+tsqvY+KTXVIg/9UHR5Jpw/S3YV6DWe5OqOmu4UtsT1MpfXz1VMFGlU66O8WNkUjTlwfPeIqbAUk/fpoWpb7poBzAgBahiSnkuWySl3cj5Kukb+O6XPvuo7dnlHSYFd5l8wxnyLuZ3aUo+xFO1xWRAY1uOpipzJmo8I+dgM5i5rubNvBVY5znGvyfzH5Yf5sL3u8nQVwiMnb70xRwXntdjuiPdt2wgZBjxtjNEjYqriu88Wpb7bT1u09K7+VVBnJAgAAAAAAkIAK61JverpBv0LYXrKQERkZ5xSJF59FJDj2So7X6HVtOv31K9XhtwecSwv7RaxBpfU96RNQHnKu6nTywKedxTJCxZbx/dxkOqLXqfTmL9PpGhUj9ADfKkD9Ayple2wnqrTu7VYVdvyqtlucESp2P+3pgHITsDPw3H0CylFYQTGcXOxr4egY57fL5U2N2N++XrL9ReGRiO2uc9r8JVnWIeqXnttM3v5SJZI5Sm2GYx/N/nLymMn/yeRtYN049zXqFyIr278VAAAAiqnCPq01fdnRnSxB01xE/J0e2Xa4hAn6kB1n2knYNX6sdrtMlQcF2g3rvNH5GpU+VaXvUWn9RVLfKzNsb690Ut+Fk3QvyzNqgNVW1Xsy3H+qfZ9Ip/XUo6Ht9F46QGxQR1DYl0E9+FiPTbadHq5z2b9VnNfQ3TGuESbbL3AAAAAAgKQwXQgAAAAAACABFTaSpUmcYLNWMQPuJBlEVy/NrKccxH1+B0fv4rPCnz05nZy6VpW/cLHKqOWRv6qex+N6uIvI5lQ6St0QvcE3mEPfh7gjkPQ9PTEg/UVAOuw+6uu8odL6nupAvWEjjfQIIR2wq0Lf0gBQcezoWxfX/4Rc/k/EnRbtuoarvnbqo4h87thtweKMohccu53mKDvMUbbTUTZooKPwhbi/RToC+Dqnisa9L+UX5BHID/uesdOAbQRsV/hrO7V3m8nbwLU2MO5Ckw8KP9DEtpPZBimPmn5t24dszx8ViDfqfFHfBeP8n7B1sH/n8m8D+UYGAInT/6BuMdts7BD7j8T1jyUqynpU3A77AeEMk683eRu3yvWvYpHJT3bso/1/Jt/T5CdFXNPGQ7H30fVPPWxlNled7HQ7M0cx477YD3v5+FBATBYAAIBywqe1smM/1MfpvdRf0HTvo/7w3mCOqQk4l+0Ndp1Lf9G4xr/beBWY9ajvqg2/UOmAl+Uq//qKDSo98WvptPfXdDrlPpOEx0eJ87aIEz/H/q30Fzgdb+V6lQ76++hgvCL+v49eWu5uAQAAAAAUBzFZAAAAAAAAEsBIlrJjR678IJ3c9Kt0ukrPTL414FxBKwjZbXpExtEB+wTFD7EvMTWloP16Va4nQ+t4JWoKwS/9Z/pQpdeq0Su9VXnbwNgnSb70g0bFhK30o2PVBMVX0UvUqnWpM9hpFwCAlm9Pp6fFjaviksv/TtfIW0ddXLFRVmcWTfy2Y782jjLXv+ITHGWTbnYUupaGd3FdJO59Lv/YA0Dh2HbENhh2FLlI5pRrO437cZM/3eRHmHxUOxj1no5qG+z5o65nzxc16yGqflHxUqw9mQEQFWsn2zgzpYdOFgBInO4gsx++kwjuZQO72Vghlo2XYuuw3eSjYr64zmnZQJA/Nvk3JFxUzBdbp7sizicissbk7YczG6sm6l9kIT4E8AUMAACgnNDJUnbMF4s/qtErvu9d/51O3qBXxdFfVPSH97DgirpHU39hDOqJDTrWblMjS15al07foXb5wW/S6c3+M+mQlOpoGfAVvZcO6Kl/kdJfjuI+96D7FVQedt5/UGnbQ+66dm+zTf+sZ3vkAQAAAADFQEwWAAAAAACABBS1k2XHjh0yefJk6d+/vwwYMECWLbNrne+2ZMkSGTJkiNTV1Unv3r3luuuua952++23y3777SeDBw+WwYMHy6RJdhnQluZY/2M/ST9u6Jh+dJX0Q65QD+0j9WhtHlpn9dD0/l+oh7a3eehjGtOP+yT9eFQ91qrHfv5HH0k/PlAPOVA9Mq7f9Ah6Hq45g67nGKfcXnObeujaB927S9KPTxb4Hy89l37IBvX4VDJHD1U22hkAhUBbA6AQaGuA0lfU6UJz5syRLl26yKJFi6SxsVGGDx8u69atk06dOvn2O/jgg+WRRx6Rzp07ywcffCBDhw6V4cOHyzHHHCMiIscee6zcc889Ma7Y9CW2jGdJffKEP+8L93BkOtnvQVWulwvWX+T1lBn7xTxov7Cgti6240DnD0kndWzer6v00yr9rv9M+lVyoN5wps7oKUJ78ncPmhak6fPqwE02XkODSv8o4PiAa//NbPI9YV2vMn5t50nh2xkR/+vOvgfse+1EiWZfe3Ypdft3d3V2hpkeow5WVOC2sMDPIpmdtlbQcvFN4rzW/2jyo00+KlaNDcQWFU8nbIogWrrCtzV72qFeiDg/ruCTMWMYfdNzlDn2m+k6+EeOshWOsj/Hq4uT67677qnr/R83GC5tB4IV53NNsUS9Z/pE5EVETjX5RpOvNvmogNe5/q+P+swWxbZBtv2xn79yDYybbf32pO1refHnijqSZfHixXLeeeeJiEh1dbWMHDlSli9fnrHfsGHDpHPn3R/IO3bsKHV1dfLGG+mgiZ7n+IcMAEI7A6AwaGsAFAJtDVD6itpV3tjYKNXV6d7D6upqaWy0vYt+69evl6eeekpuvPFGERFJpVKyYsUKqaurk3bt2smPf/xjmTBhQsSVsx2NUUL2Mf1i275Mp19To1dG6Z3iLLsc9gutPiYoEGyQsCW7VPBW3el6qErfmU5+YBYj0TUZozccH3S9oOcRVsc4r4+g0Su21/aIGOcK+Pt0P8rs91qMc0GkmO0MgEpCWwOgEGhrgNKX1x6GIUOGyObNmzPKU6mUbNu2Levzbd26VU466SSZP3++dO3aVURExo8fL6effrq0adNG1qxZI2PHjpWePXvKgAEDcq4/gNJHOwOgEGhrABQCbQ1Q/vLayfLCCy+Ebq+qqpKGhgapq6sTEZGGhgYZMcK9nO3bb78txx57rMyaNUtOPvnk5nI9/3DgwIEyZswYWb16dQtuJP7dn11zUTqt291v/lBlgkZm7MmInmzjf4TNwTs9nXzipnT6q73ULhubkx0fN4e/lU6+rooH6c58G4KhWcy54T5BzyXoXPb+BI0CWqXS+vWvr6fi7YiI/K+KzdNXBzSOE9+jZaGdAVAItDUACoG2Bih/RZ0rM2HCBFmwYIH86le/ksbGRlm1apX8+te/ztjv3XfflW9961syY8YMOeecc3zb3nrrLenSpYuIaAh7vwAAIABJREFUiGzatEmeeuopufTSSwtSfwClr/TambDpaXt6jqggbFFBzt4zeRs0Ldcg1yL+XmCR/1v6LGT/qI5Qu7+rR/Vok7fBdqOmPGYb6BaVrPBtTakECnQFgo37Q4brPRS3TXT9ov+LmMe6xA1o6yrLIdBvuU1bR9GV3ueafMo1SKyISKGD+0bVMdvPcFZU2x8VGDeqbYo6Porr+dtzZvsZr/zayZRXxKhHO3bskGnTpsm6detERGTevHkyfvx4ERG55pprpFu3bjJ9+nSZOXOmzJ8/X3r1So9wuPTSS2Xq1Kly+eWXy0MPPSSpVEp27doll1xyiZx//vkZ10qlUuJ5n/9fLtdVZvTx2cYoyVXYagJBzyvJF2auzzfoPl6t0nPSyZtTzckPvh9cE73m0uTrVOaKT1QmKM5MmHy9qV9Vaf1BUf8Soa99o//w7WoEU+er1Ibd9273652AZiKFbWdEXPc+23+2cWR7zlw7WeKIqlNUJ0uUqA8lDY5jbBuVbSdL1AeNfPxtywttTVrhP9OUyn2P2zmR9LGuTpZs25Wk6hK3kyWXTqXKVlqv+eKq3LZGpDy+fGf72SDXTg0r1/NVdidLUq/5onayFBKdLPm4Pp0se45OlpaKTpYgdLK0RLQ1xVFa951OFjpZ8q+0XvOVo/TuO50s0ehkyUVSr/lSfGXmUT6ebqGH6yYx1aBJrjFZ4pw3rKHR1zxEpdWQxi3pZMdO4tP4t3Ta91HrTJ0Jqq9+s8cd0pttB1NYA6Gv2TlgH22GP9tZT4PoGaMuAAAAAIB8q7CRLE1PNe6Su7kGiS2EoE6MoDrq/fV9COu1DPpVWx+vrxe34ynonqq1mv+pR3Py+X/1H71cpYep9HGeXuZ6l0rH7SQJ2i/b10DYPdXb9CiCXH6FE2mqYyrVpsR+eagc0SNZ9uQXAvsradRIk6hfALL9heA2R9m5WdYh218x7P5RvwwlEcw66j6EjSQUKZ0YGYVTer9yVgbuOyoNr/ni4L6j0iT1mm8VvQsAAAAAAACilNKQjALak18bS3VUS7bXD1rO2d4T/Uu5HmnRPiCtBY2WCTtGU6M5uqWTr5u99BShD/WGM79Mp3+RjukiBy1RO41T6Xz9DcPOG2ekkGZ/Qdfn1vd4T2JpAAAAAACSwEgWAAAAAACABBR7GEaRxF0dKGjESimNasklTkjQc7KCRkfEOdeejKxQxy9NJzeH1EqPcll/Vzrd5x21Ybk6mfyDSg8KOXMu8Vnivh7i7Bc2+orRK6UtKhZJnJWuhpr8hj2vjohEx3ixdZ66B9ewr2u7gpG9D+tNvo/Jv2HydqUgl6hVk7Jts7NdXQgAAACVhpEsAAAAAAAACaiwkSxNvzrGGZUSti3uCJB82JNfTvWv0kHHh42UCHruujzoeHs9vUTQDe5D7lVrM49KJ09e6d/tP1Vax2d5SKX76OEvf/xNOj36SLXhH931EJF4zyvX10CuKxVp/LIOAAAAAMXCSBYAAAAAAIAEVNhIFtfTDRvJor2o0sOSqc4e2ZM/2Z6spqQFjdpoH7CPHldysDmXHkHyx3Ry+4PptI6j8u10ctfP/Gdaq9JfV2k95uPx/02njzoinU55K9ReNt6EjuOgYzjEGbkTJs7ol1xHTFXYW7pkLVLpSRH73mLyrlgjr5n8UpMfZ/L2dbDN5O01hpv8hSY/2VEnew0b5yVq/7AVs1xsneO8B6PiFdk23+ajrmHrHDYaEgAAAJWgQj8Bxpn+YretUen+Kp1rB0augjqG4vxpw770x+lQCAoKqztWTODJT0am03rdZT2t51SV7pwebPW6qKWZxd+xor0ekH5Fpaf7pg6dY86gemOKHtg4zrWZIgQAAAAApYDpQgAAAAAAAAmosJEsrsC3Wtjt6KrS2S7lG1SPsGPClpbO5Rp6SH/QdJ+4x+yd5T4i8kuV1oODzlTpoZ7K/Ftz6kC51HeqsSr9sErbRVud5U+r9OhfmD31SJa4y33HEef1sSdvyQp7GwMAAABAieLbGQAkzhXDJMi5Jm/jrYhkdoKeGHFOu39X515pqyO2x9He5G3MFVsHW8eeEdttx2ac+Ce2Dla2naVRU/P4lwoAAFDp+EQYSn+g7hKwT75uYdBombiBGYO+DLyh0vpLTdjz0F+e9JeWoCC4mqnfFSqS7R/U+JNv/YfaSdf9kubUoFP9I1lkeTr50PvpdLXapYdKD9LH6hgwmxb7z1ulM7kGuwUAAAAAVApisgAAAAAAACSAkSyh9O2xQ9mTOm+2wkZT6FEmegRG+4B0mFyWEg6LXfJAOvmtl1V5f4m06If+/CXpAC8D/j1d3Entcope6Ghflf5cpavOMxcKqn+c+wsAAAAAqFSMZAEAAAAAAEhAyvM8L3q38pdKpST6qYYFUsx2FaFc46jEHe0StKpPHGFBHIOun20dPzL5oPguQTFogq4tIn/eJ50el042vJVO16gQMLJFpX+g0ud8GFLHiSo9OSBdeuK93pEPu+/9J6okiVg+cYK8hqk3efu+nGTycdqSqCCw20x+P5O364DZwLj2OeZ6D/ZEttcsRh2Li7amOLjvqDS85ouD+45Kk9RrvuV/AsxK2If6OB0ue9JJEnb9JvoL0V1mm/4ic03A8UGdGXuy5HSQTwPSs8x++rkcqdK608J+GWti6jv0r+n0kq81J2tuUvs8pNJ6zedzhqiM/UK5MJ28SAXF/b5K1+rVXQiICwAAAABguhAAAAAAAEAiGMmSqFyCxVp6NMgilZ5j9tPn1iNZ9FB8PTIkLCitlu2onL1jpEX80xLUiBGZrtJBy0TbenROJ0eoJaBHqLlAP/8ynZ6p5w79TgKtmpZOv6PK16h0bfDhAAAAAIDKRCcLACROdy7uZbbNN/lzTT7bmE+uYz41eRtzJWoK4EKTnxqjDktN/kiTt9PybJ2zjXdin2M+VvnK9l8k/1IBAAAqHZ8IQ2UbbyUoeKsNAKlGYASO1HhRpe2XFy1oSEXQF444cV9E4gXn1ccEjZY5wBzvC4wScC5d97Avg0FLU9ekkzNfi3kupY1Kd1Dp3non4rAAAAAAAPyIyQIAAAAAAJAARrLEXsY42xglL6v0a2bbcJU+OOAa76u0WpM4gz5XnDoGlduRL3HiogStAtSg0reabatVWg8NCRp5E7YUtq7L1IB00P76+TX4dxt6cTr9n8vVhg0B5wUAAAAAgE4WAMizz0w+29gjLnYK4dEmH9QBGveaZ5j8jY5j7JQ5e4yt44kmb+/DGybf2eSjpui57hv/4gAAAFBYfAKNfQtyicGx3eQPdu7lr8vodPKT59Lp180htf1VJihGihZ3daGg+xLn+D4h9eip0uNUWset6Rpwjahgn6794sTP6WO2/XvAMUHi3tM4Kz5pxH0BAAAAgHJCTBYAAAAAAIAEVNhIlqaRHnqEQL5ugR5NYUey6BENQfFOVB33+X46XbvCnEuNeMl59IoWFI9GHx/nvFebfHeVHqTSSS6/muvfNM50jYC/lW80ka1H0N8nzkpOFfZWBQAAAIAylPI8zyt2JQohlUqJ523+v5ye65/klAzd6aAD3z5g9pui0roucTpJ3jPb9NSaoCCxcZ6jnbIS1JkS1CkU1CFg65ttrIgwQZ0huQQstscEHR90Lj3taZnZNkelGwOO35MOsUy7X+8V8dYuOdH33r4nbOwSV+DmsPeni31vVJv8mxHHR51PRKTe5CebfLZ1bjD5oGmVTeh4LAW0NcXBfUel4TVfHNx3VJqkXvNMFwIAAAAAAEhAhf0UWMinq6/VxWwLmkoUNI1Jl9sVN4KEBYx1Cbs3cUZUBI34sNOAgvbbk+Cvcf6euf7Nsz3++nTy17/yb3pcpRek0ul9dG8pwW4BAAAAoFwxkgUAAAAAACABFTaSpSkeSL6edtAohBqTD4o1EGf0iS2PE3MkTnwWO5JEn0vHjBiu0kFLLQedx9ZFSzL4a64BY3N5fdyVTq43m2pUep5KzwmKw5JMfBYAAAAAQGFUWCcLABSbDf58RoxjojrZPjJ5O03PBrq1nZ12BbSuEm2SyUcFug3rIBbJ7HyO+vcU1jEc9xwAAABAsirsE2g+RgMErUTzmkrb2xxnlZqgcvscgmKZhB0TwwcqZsjFqlytJi0jPlQZ/aUubCRJti+5oJWCwrZlO7onybeB+gLd9W/+TctV+h2VnnOhysxXaUavAAAAAEA5ISYLAAAAAABAAorWybJjxw6ZPHmy9O/fXwYMGCDLli1z7vfkk09Ku3btZPDgwTJ48GAZOXKkb/vcuXOlb9++0q9fP7n22mtzrNUX5pGtvdVjqHoMNA+9X2v1+FQ9guoVRp8ryEfqEVT3vUWulebHvXekH3KSegSeS9fjo5D94tiT566fS5z9k9Q5/fiT+B9Pq0dX9Qj8uweVIxul2dYAaGloawDkG+0MUB6KNl1ozpw50qVLF1m0aJE0NjbK8OHDZd26ddKpU6eMfWtra+X555/PKP/9738vS5culZdeekk8z5NRo0bJ4YcfLscee2zAVZu+qCf5tIOWIa4JOSbbgKZhHQxxAtnqffS0Ht3pYRrpV9PJRlW8/q10uo/corZMV2kdz8HGhsj2ue9JsNs9OT7OeeOc64R08tPn/Jt0KI7ZesNolX5ZpYfFuB6iFKet0e+tsPeASOb74BbJNN3k7TnsNaxtJm9jrtil4aPqKCJym8nb2DLvmbyNRRP1fnrV5HtGHF9hs19RcorT1gCoJLQzQHko2kiWxYsXy3nnnSciItXV1TJy5EhZvnx5xFF+999/v0ydOlXatGkjbdu2lbPOOkvq6+vzUV0AZYq2BkAh0NYAyDfaGaA8FO2nv8bGRqmurm7OV1dXS2Njo3PfjRs3yuDBgyWVSskFF1wg559/voiIbNq0SY4//vjm/aqqquThhx8OuWrU0831dsQNVBq0X7blIsEjLeLURf/63d2/6evp5PGquM9XVGbr7HT6q5PVhrCVSbIN5qp/DbcroOhftvP1Us72vP+cTt7/gH/TH9XIlsMvVxvU8CBGrySuOG0NgEpDWwMg32hngPKQt06WIUOGyObNmzPKU6mUbNtmh64HGzp0qGzdulXatWsnDQ0NMnbsWOnevbuMGzcu9jk+++yz2PuWmqa6f+UrX4nYs/RQ9+Io59f7nqCtSUb5v+Z3lXHdy/m+V45SaWvK+b6X8+tdpLzr3xLqXglKpZ0RKe/73hJe79S98JJ8zeetk+WFF14I3V5VVSUNDQ1SV1cnIiINDQ0yYsSIjP06dOjQnK6pqZFJkybJs88+K+PGjWs+R5PGxkapqanJOEfTHzqVSmVsQ5b0a6+b3tC3wBUpd/MCyucWtBYtQWm2NR0ytuXmgoTPlw/fK3YFgLwqlbaGzzRAy1Uq7YwIbQ2Qi6LFZJkwYYIsWLBARHa/uVetWuUMuPT222+L53kiIvK3v/1Nfv/73zc3LBMmTJD/+q//kp07d8pnn30md955p0yYMMF5Pc/zePCoqAd2o63hwSO/D+xWyLam2H9zHjyK8QCfaXjwKMQjCUWLyXLNNdfItGnTpH///iIismDBgubI2Ndcc41069ZNpk+fLvfcc4/cfPPNstdee8mnn34qZ511lpx66qkiIvLtb39bnnvuORk4cKCIiJx22mkyduzY4jwhACWJtgZAIdDWAMg32hmgPKS8pLprAAAAAAAAKljRpgslbceOHTJ58mTp37+/DBgwQJYtW+bc78knn5R27drJ4MGDZfDgwTJy5Ejf9rlz50rfvn2lX79+cu211xai6rHrvmTJEhkyZIjU1dVJ79695brrrmvedvvtt8t+++3X/LwmTZqU1zpv3LhRRo0aJYMGDZLRo0fLq6++mrHPrl27ZMaMGdKvXz/p16+f3HbbbbG25Vucus+ePVtqa2ulrq5O6urq5MEHH2zeNm3aNOnRo0fzvZ43Lyi+SvHq3qVLl+b6XXzxxc3b4r7WEIy2pnBtTTm3MyK0NbQ1uaGtoa2Jq1zbGtqZ4ivndkaEtobvT8nWPdG2xmshfvzjH3sXX3yx53me19DQ4HXp0sV79913M/Z74oknvGHDhjnP8fDDD3tDhw71du7c6X322Wfe0KFDveXLl+e13p4Xv+7PP/+8984773ie53nvv/++17NnT+8Pf/iD53me95vf/MY75ZRT8l7XJsOHD/fq6+s9z/O8e++91xs5cmTGPjfddJN34oknep7neX//+9+96upqb926dZHbSqHujz/+uPfpp596nud5a9as8Tp06OB9+OGHnud53rRp07wbb7yxIHW14tR99uzZ3syZM53Hx32tIRhtTeHamnJuZzyPtoa2Jje0NbQ1cZVrW0M7U3zl3M54Hm0N35/iKUZb02JGsixevFjOO+88Edm9ZvzIkSNl+fLlWZ3j/vvvl6lTp0qbNm2kbdu2ctZZZ0l9fX0+qusTt+7Dhg2Tzp07i4hIx44dpa6uTt54443m7V6BZn5t2bJFXnnlFZk4caKIiEyaNEk2bNiQsbTc4sWL5dxzzxURkf32208mTJggS5YsEZHd9zpoWynU/aijjmqOql5XVydt27aV7du3N28v1L3W4tZdJLh+SbxPKh1tTWFe/+XczmRTf9oaBKGtoa1Jsv6l1tbQzpSGcm5nRGhr+P4UrVhtTYvpZGlsbJTq6urmfHV1tTQ2Njr33bhxowwePFiGDBkit956a3P5pk2bfOeoqqoKPEeSsql7k/Xr18tTTz0lxx13nIjsXl5txYoVUldXJyNGjJDFixfntb5VVVXN+VQqJT169Mioc9jzsvc6znNOQty6awsXLpSamhrf8na//OUvpW/fvjJu3Dh5+eWX81nlZtnU/be//a3U1tbKUUcdJStXrvSdoxj3vSWhrSlMW1PO7UxTvWhraGtyQVtDWxNHubY1tDOloZzbGRHaGr4/RStWW1O01YWyNWTIENm8eXNGeSqVcvZEBRk6dKhs3bpV2rVrJw0NDTJ27Fjp3r27jBs3Lsnq+iRV9yZbt26Vk046SebPny9du3YVEZHx48fL6aefLm3atJE1a9bI2LFjpWfPnjJgwICc658Uz/MklUoVuxpZWblypVx99dXy6KOPNpfNmzev+b7ffffdMnbsWNm0aZPstddexaqmz4UXXihXXXWVtGrVSh5//HGZMGGCbNiwobkHH+Foa9LKsa0px3ZGhLamEtHWpNHWFE65tTW0M7kp53ZGhLZGpDzbmnJrZ0SSb2vKZiTLCy+8IO+8807G4+2335ZWrVpJVVWVNDQ0NO/f0NDg6zlr0qFDB2nXrp2IiNTU1MikSZPk2WefFRHJOEdjY6PzHMWqu8jude+PPfZYmTVrlpx88snN5Z06dZI2bdqIiMjAgQNlzJgxsnr16pzr7lJVVSWbNm1qznueJ5s3b/b18DXtZ+9n0z7ZPOckxa27iMizzz4rZ555pixdulQOPfTQ5vKmBkJE5PTTTxfP83zPJV/i1v3AAw+UVq12v7XHjBkjvXv3ljVr1jSfoxj3vZzQ1uxW7LamnNuZpmvT1qTrSluTibZmN9qa3JRrW0M7Uxjl3M4kWX8R2ppclGs7I1LEtiYiTkzZmDVrlnfRRRd5nhcekOatt97yvvzyS8/zPO/dd9/1Bg8e7C1atMjzPM/73e9+5w0bNsz77LPPvE8//dQbOnSo9/vf/75k6r59+3avrq7Ou+mmmzK2bdu2rTnd2NjoHXzwwd7q1avzVufDDz/cu++++zzP2x1AaMSIERn7zJ8/3zvhhBO8L7/8MiM4U9i2fItT9+eee87r0aOH99xzz2Vs27p1a3P60Ucf9Tp37twc5Cnf4tRd1++ll17y9t9/f++NN97wPC/+aw3BaGsK19aUczsTt/60NQhCW0Nbk2T9S7GtoZ0pvnJuZ7KpP21NYepeiu2M5xWnrWkxnSwff/yxd8opp3i1tbVebW2t98ADDzRvu/rqq72bb77Z8zzP+9WvfuXV1tZ6dXV1Xq9evby5c+f6zjN79myvT58+Xp8+fbyf/vSnJVX3f/qnf/LatWvnDRo0qPlx++23e57neT/5yU+8/v37ewMGDPD69evn3XLLLXmt8/r1672RI0d6dXV13qhRo7yNGzd6nud53/nOd7w///nPnud53q5du7zvf//7Xt++fb2+fft6CxYsaD4+bFu+xan7YYcd5h100EG+e/3yyy97nud5Y8aM8erq6ry+fft6w4cP95566qmSqvtZZ53lDRgwwKutrfUGDhzoLV68uPn4sNca4qGtKVxbU87tTNz609YgCG0NbU2S9S/FtoZ2pvjKuZ3Jpv60NYWpeym2M3HrnnRbk/K8IoT5BQAAAAAAaGHKJiYLAAAAAABAKaOTBQAAAAAAIAF0sgAAAAAAACSAThYAAAAAAIAE0MkCAAAAAACQADpZAAAAAAAAEkAnCwAAAAAAQALoZAEAAAAAAEgAnSxI3Pr166Wqqko2bdokIiI//elP5bTTTityrQC0NLQ1AAqBtgZAvtHOtCx7zZ49e3axK4GWpXPnznLggQfKrFmzpKqqSn7+85/LQw89JG3bti121QC0ILQ1AAqBtgZAvtHOtCwpz/O8YlcCLdO0adPk3nvvlaeffloGDx5c7OoAaKFoawAUAm0NgHyjnWkZmC6EvNi5c6f85S9/kf3331+2bdtW7OoAaKFoawAUAm0NgHyjnWk56GRBXsycOVMOO+wweeSRR+SCCy6QN998s9hVAtAC0dYAKATaGgD5RjvTcrQudgXQ8ixZskRWrlwpq1evlrZt28o111wjp512mjz55JPSqhX9egCSQVsDoBBoawDkG+1My0JMFgAAAAAAgATQLQYAAAAAAJAAOlkAAAAAAAASQCcLAAAAAABAAuhkAQAAAAAASACdLAAAAAAAAAmgkwUAAAAAACABdLIAAAAAAAAkgE4WAAAAAACABNDJAgAAAAAAkAA6WQAAAAAAABJAJwsAAAAAAEAC6GQBAAAAAABIAJ0sAAAAAAAACaCTBQAAAAAAIAF0sgAAAAAAACSAThYAAAAAAIAE0MkCAAAAAACQADpZAAAAAAAAEkAnCwAAAAAAQALoZAEAAAAAAEgAnSwAAAAAAAAJoJMFAAAAAAAgAXSyAAAAAAAAJIBOFgAAAAAAgATQyQIAAAAAAJAAOlkAAAAAAAASQCcLAAAAAABAAuhkAQAAAAAASACdLAAAAAAAAAmgkwUAAAAAACABdLIAAAAAAAAkgE4WAAAAAACABNDJAgAAAAAAkAA6WQAAAAAAABJAJwsAAAAAAEAC6GQBAAAAAABIAJ0sAAAAAAAACaCTBQAAAAAAIAF0sgAAAAAAACSAThYAAAAAAIAE0MkCAAAAAACQADpZAAAAAAAAEkAnCwAAAAAAQALoZAEAAAAAAEgAnSwAAAAAAAAJoJMFAAAAAAAgAXSyAAAAAAAAJKDonSwbN26UUaNGyaBBg2T06NHy6quvZuwze/Zs6dKliwwePFgGDx4sF198cfO2HTt2yOTJk6V///4yYMAAWbZsWSGrD6BM0NYAKATaGgD5RjsDlLbWxa7AlClTZNasWTJx4kS57777ZMqUKfLMM8/49kmlUjJ16lS54YYbMo6fM2eOdOnSRRYtWiSNjY0yfPhwWbdunXTq1KlQTwFAGaCtAVAItDUA8o12BihtRR3JsmXLFnnllVdk4sSJIiIyadIk2bBhg2zbti1jX8/znOdYvHixnHfeeSIiUl1dLSNHjpTly5fnr9IAyg5tDYBCoK0BkG+0M0DpK2onS2Njo1RVVTXnU6mU9OjRQxobGzP2/e1vfyu1tbVy1FFHycqVK33nqK6ubs5XV1c7j//ss88Srj2AckFbA6AQCtXW0M4AlYvPNEDpK/p0oTguvPBCueqqq6RVq1by+OOPy4QJE2TDhg3SuXPn2OfYe++981hDoPQE/XqBYLQ1QPZoa7KXa1tDO4NKRFuTHT7TAHsmibamqJ0sVVVVsmnTpua853myefNmX8+qiMiBBx7YnB4zZoz07t1b1qxZI0cffbRUVVVJQ0OD1NXViYhIQ0ODjBgxwnk9GmdUilQqVewqlBTaGiA/aGv8CtnW0M6gktDWpBX+M83tpmSqY69PHWWuDpovHGV3Ocomxzyfy3uOsv1iHvtRzOu6nodrv8wpXCJdc9jvT46yPjHrEvdrf9z757oHrmvEfW2UhqTamqJOF+revbv07NlT6uvrRUSkvr5eevXqJV27+l9Ueo7h2rVrZf369dKnz+4X1IQJE2TBggUisnvo26pVq+TYY48t0DMAUA5oawAUAm0NgHyjnQFKX8or8k8hGzZskLPPPls+/vhjad++vdx+++1y6KGHyrhx42Tu3LkyZMgQmTJlirz44ovy5ZdfSuvWrWX27Nly0kknicjuJcimTZsm69atExGRefPmyfjx4zOuk0ql+NUHFYPXeybaGiB5vN4zFaKt4b6j0vCa9yvuZ5obHTWakcOzcY0eae8oc42IcI26WOMoGx7zuq7RI3FHZ7hGo9Q4ylxc53PJZQRILqONXPcg6f1KQ1JtTdE7WQqFxhmVhNd78XDvUUl4vRcH9x2Vhtd8cdDJIkIniwidLNkr6nQhAAAAAACAloKRLEALxOu9eLj3qCS83ouD+45Kw2u+OOLfd9eoENdohVxGYuQycsLFdWzcUTUurpEicevnGpHjGlUTV9x7lcvzzeXY0h3dwkgWAAAAAACAEkInCwAAAAAAQALoZAEAAAAAAEhAaUx+AgAAAACUGBs/w/X1MW4sDlfskf0cZbnE+4j79dYVF8S1QlBPR1kuK/Usc5Sd6ChzWeoocz3fcY6yhY4y1z111SXpLoPSjcmSFEayAAAAAAAAJIBOFgAAAAAAgATQyQIAAAAAAJCAljX5CQAAAACQEBt/JG5slN6Osg0xj83lK2ou8VKVvW4mAAAgAElEQVRc8Vdc+7nO5+J6HsNj7udygKNsmKMsbryZ1xxlox1lXR1lufyN4t6/8sVIFgAAAAAAgATQyQIAAAAAAJAApgsBAAAAABzqTf4Mxz6ur5R/cZTFncoTdzpJ0lN54splCWLX1Ju41zgi5n5/cpS5pnltd5S5/kYurvucy1StltUtwUgWAAAAAACABNDJAgAAAAAAkAA6WQAAAAAAABLQsiY/AQAAAAASMsfkJzv2ccXicMUAGegoW+Yocy31fKSjzMX19TbpWCGu/Vxc113oKJueQ11edZTFXdb5I0dZ3JgxLoWIh1MeGMkCAAAAAACQADpZAAAAAAAAEkAnCwAAAAAAQAJSnud5xa5EIaRSKamQpwrwei8i7j0qCa/34uC+o9Lwmi+O3ff9P03puTGP7u4oezPHGiXJFY8kbkyRBkfZHx1lZzjKXHFa3nOUueKWuK7hus9rHGXbHWVjHWWueC5xY9q4xI0tUxqSamsYyQIAAAAAAJAAOlkAAAAAAAASwHQhoAXi9V483HtUEl7vxcF9R6XhNV8c7vue9PQP1/lcZbksueya7uLimrbjmlbUM+b5krbUUXaAo6zGUXZwslVJfFns0sB0IQAAAAAAgBJCJwsAAAAAAEAC6GQBAAAAAABIADFZgBaI13vxcO9RSXi9Fwf3HZWG13xx7L7vn5jSuEv3uuKbtHeUxY3P4Yrt4eKKFeK6blxxY4+4nu9+jjJXjJe4cWRc58tleeVixVWJGyMn7vNITlJtTelGnWnR7As16s8Q1ajY4/N9/qjjW8fc5rLN5LtG7G/fpLm+GaPq+4bJ2zXnB+V4/TBRdYv7zwcAAAAAkA9MFwIAAAAAAEgAnSwAAAAAAAAJYLoQALQ42U4ts9vtvGLXHOBsr5nr/lacqYJR++R6nwAAaOns/864sUfixg9xTXeP8z9dxB1rxVUWN/ZI0vFXVjnKXJ8l3nKUjXOUubjuX9yyXGK35BLnpvCxVgqNT4xFkWvsjKg/W65fbrKtX9j17DYb7Mm+QW0MFlsXm4/60pTt/pat7y8izqcb3X8022wDle3bjy98AAAAAFDKmC4EAAAAAACQAH4KBwAAAADE4JoWE3eJ31ymibimp7iWQ3bt57pu3GNrY+43OrPotV9mlr3uOLTaUdbJUdb5747CuNOUHnOU9XeUuf6WrufrqnSNoyyXaVnli5EsAAAAAAAACWAkS1HkGkckV0n/2beZfOeQfW1PaFSckttMvrfJN5r81IjzxQmWGXK97Vv8+c4dzf66l3hFlteKqltU7BxXrzAqU67v8TiBbnO9ZraxoOz+cdrFbNtae41sAwLnGm/LdU0AAACUE0ayAAAAAAAAJKDoP5lt3LhRpk2bJjt27JB9991XFi5cKD179vTtM3v2bLn33ntlr732EhGR6667TsaPHy8iItOmTZPHHntMOnfePXri1FNPlcsvv7ywTwJAyaOtAVAItDUACqF4bU3c5YFdXzNd+8VdHjjufq5YK3HjjBySWbTVEUTlOsehnz+XWbbasd9AR5kdqC8iMsRR9vT+mWW7HPttdpR93VF2pKPMNVB4dFtH4XRH2fWOMpeWH6el6J0sU6ZMkVmzZsnEiRPlvvvukylTpsgzzzzj2+fII4+Uyy+/XL7yla/ISy+9JEcccYRs2bJF2rdvL6lUSi6//HK58MILi/QMAJQD2hoAhUBbU2hR0/6yFTUt0LJf6LKd2pht/aP2D5sWGTUl0sp2ijUKibYGKF1F7WTZsmWLvPLKKzJx4kQREZk0aZJMnz5dtm3bJl27dm3e76ijjmpO19XVSdu2bWX79u3Svv3uHkjP8wpb8cRl+0/PivqHG/VPMup4+wHC9vzaGCz6+GzjLNi8jbHyHX/27Sf8+YNsHJRbI65vXeHP3mtisLxidu/xgT9/1hsqY++zjV3T1eTt/tl+cHP1yEOEtia6DTjf5O0vORsc57S/VkR9EbHXzLZdyvaLhUjme8jWMdu2zh4ftT8qDW0NgEKgrQFKW1FjsjQ2NkpVVVVzPpVKSY8ePaSx0QYzTVu4cKHU1NRITU1Nc9kvf/lL6du3r4wbN05efvnlfFYZQBmirQFQCLQ1AAqBtgYobUWfLpSNlStXytVXXy2PPvpoc9m8efOae2zvvvtuGTt2rGzatKl57iEAZIu2BkAh0NYAKITc2ppbTN4ViyNu/BXXfnFHgbqmq+VyjZgrAj7sKJvhKLvMUfZuZtHf78gs2/9wx7Gup+uK3dLGUeaK0/IDR5lroPIAR5kd6S8iIsMcZXFj5Lj+Ri1rOmJRR7JUVVXJpk2bmvOe58nmzZuluro6Y99nn31WzjzzTFm6dKkceuihzeV6SNzpp58unudJQ0NDXusNoLzQ1gAoBNoaAIVAWwOUtqJ2snTv3l169uwp9fX1IiJSX18vvXr18r3pRUSef/55mTx5stTX18ugQYN827ZtS8e5eOyxx+Tzzz+Xgw8+OP+VB1A2aGsAFAJtTTG0Ng/rC/OI0t48oo63++9tHp9GPGz97fZsn6/drusSdex75mGfC0oFbQ1Q2lJekSMebdiwQc4++2z5+OOPpX379nL77bfLoYceKuPGjZO5c+fKkCFD5PDDD5fGxkbp1q1b83F33nmn1NbWytFHHy3bt2+Xzz//XDp27Cj/8i//IkcccUTGdVKpVAsK7pRtMNlcA+NGXT/sfFHBLi17roX+bP33/Hm7qtrMH5qCGyLOv8qf/WikP/9ds7uJgyun2evfrjI2aK9lh889ZvL2Po82eRtwOC2VatOCXu/JoK1RNqX8+VP82dfMKoQ1jlPsNdcUXGmf83J/9trj/Hk7yvS4zx1X0bJdccN1jGvIqhYVfDoquG/lKYvXe4EVoq3hvmcj19V7rGxn2kd97sk2KHg+ZbuyUuHwms9UuLamm7nym47a2NeOiEi9o+wMR5nrNe46n2sqStz3Y9zlgU/ILLr5wcyyHo5DH3CUuYYzuMLm/MxRVvdNR6HDRyszy9q7llx23Putv8ksO9BxaOuLHYVDHWVR333CxJ36lV9JtTVFj8nSu3fvjOXGRESWLVvWnH7uOce64//nscfsF1MAyERbA6AQaGsAFAJtDVC6ijpdCAAAAAAAoKWgkwUAAAAAACABRZ8uVJmi5gfnez6wjVMyJ+L4qPraOZd6juO4kG0upq6rTAyWR8zuGUuo/SLi/Pa5mMAQ7U1ciJ+addFMmAk5255fz0WMmle9yOTt38XGXDnE5O1caYLSAQAAIEmuICKWK17KuTHP74qXEjce0EJHmSsuiOsz8r85yrpmFrmq8j+Osp6Osi8dZfs6ytY5yv7kiLXysWO/fo6ybjszy/ZyxF/p5Rpv4Vqa2caFFBHp7iiLG/sm7n7li04WAGhxsgz0aD4/HWL/5w5wHHPlX03BMn92zPG+7LYn/Jvtv/8q70ZTconJ2yC09jm5/jnb+2A/BEbdJ/vJytbBnq+YASsB7Bb1Q1XU+9iK+qgc9b63x0f9sJZ0u6Hr9wOzbb7Jl06gWwAoZ0wXAgAAAAAASAAjWQAAAAAADnG+Luay/G6ckahB53NNDYp7rB0xKyLSkFn0XTviS0SWtcks+4bjdB17OQodtm/MLOv8bceOqx1ldoSaiHtUmuv52pF9QWWuEX9RowDDtPyRvnSylKRsY7RYT5v8ZRH7/6vJ2zgqV4RvX7nFn/+mHiB1vzn2RJM/3599cIE/f6fZ3bYjdVHrmGcb/8ZsH2rOn7Ek/HqTP12l1/g3fWAmXNpxZO3tpMr3TD4qBourUQQAAAAAFAqdLABQaapM5+G2J80OI0w+zi8OZ/hyLz4RsFtQlTJ+YbFxDqJ+MYnzy0tULIaoTtmo+8C/VAAAgErHJ0IAAAC0EFEfbbMNdGtHldrjsxwhGzlK1bIroNipC71Nvr/J69VX/hxxLdeKH1rLH+IPAEmgkwUAAAAA4BBnxcJcOuBcYRGyDZWgHesoe8RR5noenR1ljpGy474Zbz/p4ihzxJHpPNmxXy7i3j/X3811X3LpMohbl5bVLdGynk3ZyHJ51cj9G0z+d/7spuf8+RVm94dMfsq9/vzeJn+VP7vtWX++60C1KPxlJ/k3mjAlGT/AHGHyiy43BdebfLb3MlfmV54P+vrz31Xpd82hh5i8jZl1pInZcqbZ3vbgiLrlEoAKAAAAAJArlnAGAAAAAABIACNZAKDFiWra7bz7PQl0a85x+TO+7K1m76tNvuup9nyrTL7G5G3cgn1N/jF7QskcGpdtoNuoQLlRclnSck8VenQfAAAAND59AQAAAAAc4sTUiBtXpRAxQFzxV7Y5yqKm4TdxBad2BYm+wlF2oqPM9dxedZT1dJQtdZT9g6PM/ngWJOl7jybcRQAAAJQJ+8XN5qNG4tn9o5aLj1r9J9sRb+Z8f0j58z8yuzeY/Ocmf8BGf773g/78cJWeZ78E/trk+VoAAEmgNS2IbD8A2H/4UX+mDSZvejn/1Z99+9/9+bfM0QPW+vPv/q8//7jZ/xQbvHaKSttAt3blwlEm3/c8UxAV6Dbqw1HUvct26cX1/uw4s1l3Jh8acenlJv+6yfcz+RG2Lva5s7QiAAAAABQTnSwAAAAAAIc4P+IV4itlLksBu6YG2V9+RaJHrjWpdZRVO8pcyzq7Rru5pga5uKYfueSyBHZlLrmcNO4OALR42Y56svu75jLX+LOX+bM3/syfT71jDu/8d1NgP9iYOjy2jy97/zH+zRNbHZVZRTtS7ik7zv6uzGN87Ico+yEoauSca461vff2HNmOxgMAAEApYQlnAAAAAACABPATWUFE3eZclwkdG77ZBFFpNJsPM0Gpd5oYLFuirma76nRsERuT5XmTt79uH7PAn/+eye/zfXOA/cXdXvDPJp9tTBe7vwlo89R4s32qSk8y28ySs9N3+POXmt37eqYg6nXiGpIIAAAAACgUOlkAAABQJqI+ukYFsI/KW/YHjD+Z/HSTP8TkX/Nnv+NfDch72L/Z/hD2ocm3s1f7wBR0MPkf6swPzMbzTf5Wk4+6l6gMy0zeFY/EFfMk7hLOcblef7c5yqY6ylzHuuKvuKZHu37EtCtzibifr+u6b8Q8tsZR5vKko+wfHWWuKcxxr5GLymw3KvNZA0CLFhWDJWq7zTs+dOz8mj9vVsdKjTT7d37IFDSY/KDwOpjPUUeYvVd9aSsoMuIVW2I/jNkvR1HMfXuujT9/nT/74gOZZxg02BS8YL9CZVmHjL8V/9YBAACKiZgsAAAAAAAACeAnr5IQFVvD/lIZNXzzL/7sWv+SYodN3OTf/oI/u+t9f76fObsZ+Cq7TAyX/VQ+ZX7stmFJ5Gl/dr355XezGdnaQW7y5buZ01X1NQWXp/z5s+wKJCZgTeS9tUNt7a/vYef62J+95QCzfXXE8VHxYrKN5QMAAAAASBKdLAAAAAAAhyNNPu6PenG/ZrrikcQ937k5nM/F9dyud5S54tK4piCvcpS5noedCizijhnjimnzj44yV/yV92LWpVjixrQpD+VbcwAAAFSYbFdkzDYGld3ffME6cp4/v9mf/eCv/sC2NqLVWyb/Df9gY6mxl7dhmwaa/Jkmf+EQU6BHydqP/TbQra1tZwEAZI9OFgBocaKi92c7BbF/5inMTLt3v+3PH2Bn5n3/eH/+IrO9NmLJ8jv82YPMd4ODbsisogy3BfZ5X2jy8x0nCTnexNH9LzPd0fUb1MD/8edTWU/zy/ZvBwAAgELi01hB2OFZro/eWtRqEdn+2cb6sx8v8GX/YNYL7G2OrjrVn++16IdmD/vtRtVvq4mJYs611sRkWWjO9DeTtzFYjjH5qkNNwRiTl89M/jsmf7fJ279FWAwWEf+vQF3Ntiv82bfNszvILpF3ScS17K95Ua8rAAAAIBtRMQGzKXP9sJDL19G4U0xcyzC7fpBy1W9OzPPZ5d1FnD9SyXZHmeszfNzP9a4loWtiHltKWla3BKsLAQAAAAAAJIBOFgAAAAAAgAS0rHE5AADJDNz4I3/2bv9S6PJ1s/sIGx/FMXz2uPG+7AFTHvRvX2hOuvF1f77XaeaEts7mmq1NMJP2S/35OT/OrOPb+5gCE2EyY5hxVHyTF/1ZM7eyh9n70cwayfhv25KouDD2vkRNHyVGCwAAQDHx6asgoubUJR3NfZG5vD8Gy6L3/ZtHmqOr7NS+7vYLV9SHfrX9q8/7N/U7zJcdYMZSXb7Sn/9Pc+bPTf5Lk7fBODNWU/vGM/68XZVuhP1b2S8s9m9l467ovJmv+QezIoE91bZL/fnhJv9NezemCgAAlSUqPoTN2yVUr/FnXzIfPOxHHBscboDJ1/izHf7qz79idrdx72zYPLmloymYYfJ2Odls4v5F7Ws/0+SyFC5ajj3tvI8Kwp8EV11cr1tXXeLGbnG9p1xLJLviubjipRwc89j1jrKeMc/nuu4aR5ltgERyW3qbroUmTBcCAAAAAABIAJ0sAAAAAAAACaCTBQAAAAAAIAFMnAKAFsfMPX7QBLqdaXa3U3xXLDMF4xzXuNqfXfiA2W7m6vay/25sbAA7X9rOix4UkXc46JOIaxxh8i+bfJ/wa/7oQ1+2x2UdfHkbykFERFab/BDzt3nBzqO299WKihMFAEAu7P/v2xz7xI0TGDfOT9xYK3HF/crrio1iAzWJuP/X2v/HIiL9HWX2s0bQfvYziIj7HsSN++IqywXdCGG4O0VhvzxEfSiOalTMn3Hnd33ZJ02g23bm6KpvmoLuNrysffNGvUnVF5mP/IFuM2I4HerPHmCW5zj5Ln9+nTl8TCd/3jPfalJPmwNG2Hw/U2BWD8lo9Ozfyja8+kucaai/9TN//sSf+LKfmO9S+5xqTl3zPX++qtbsEONLJwAAOcvyc0nosdl+FI06fo4/+9Jcf76uyuTbmuMvM3nzz/g4+7/W/8UqtdDfKT30+Bf8u9sYmhmBbs2HtkhRiyvs6b4ifE0AgD3DdCEAAAAAAIAEFL2TZePGjTJq1CgZNGiQjB49Wl59NXNJrF27dsmMGTOkX79+0q9fP7nttttibQOAJrQ1APKNdgZAIRS3rTnX8WjteLi49kv6WNfjI8fD5QvHY2/H42DHY5jjcZvj4fInx8NVl+WOx18cj22Oh+t8yJeijwOcMmWKzJo1SyZOnCj33XefTJkyRZ555hnfPgsWLJA333xT1q1bJ++9954MGjRIRo0aJX379g3dBgBNaGsA5BvtDIBCoK0BSltkJ8unn34qe+9tgwUmY8uWLfLKK6/IxIkTRURk0qRJMn36dNm2bZt07ZqOfbF48WK56KKLRERkv/32kwkTJsiSJUukb9++cv/998vFF1/s3Fa67P2Mml9s4364gjIp1/qzZjawNJp8t5X+/NCP2pjLeeHXE9N7frMKtDLDv2nnl/58283mVCZGiwnRIq+YvI3BYkNJdTFTmw+6xuzwoIny8sPB/vx3beBM+7fIpp/SPxd6l43BYoPlmHsh3ez53s2hLqWHtiZJJqhsg9lsXzp32ONdgW6tYSZvfxWKej1GxQawrwX73rPtpqtdjDqH3R4V18g+x/N9uUNM6Ibh9zhO0dvkbSOX8cex7HPINsYC8tXWVF47AyAIn2mAyhY5XaimpkYuu+wyee211xK/eGNjo1RVpQOQpVIp6dGjhzQ2NmbsV11d3Zyvrq5u3mfTpk2B2wCUD9oaAIWQr7aGdgZAEz7TAJUt8qfvNWvWyK233ipjxoyRfv36yYwZM+T4448vRN0CeZ4nqVSqqHUAkCzaGgCFUGptTXm2M1EjbsO2Ry3Xbrfbc9m8XbZwuz9bZ4b3yj+bvB0VZ/NR9bWrDi7zZx+yo+xWmLwdOZjLyk0oFaXWzojk0tbEWRHM9bp17edaDtm1Xy6v8/ccZXFHfbqWYXatqmpXIxVxj4ad4SiLe6/+5Cjr4ihzLf/sQttRSJEjWbp06SJXXXWVvPbaa/K9731PLrzwQvna174mP//5z+WTT+xUiuxUVVXJpk2bmvOe58nmzZt9PatN+zU0NDTndc+s3dbQ0CA1NTU51QtA4dHWACiEfLU1tDMAmvCZBqhssbq0duzYIXfccYfcdNNN0rNnTzn33HNlxYoVctxxx8mKFbZHPr7u3btLz549pb6+XiZNmiT19fXSq1cv33xCEZEJEybIbbfdJuPHj5f3339flixZIg8//HDkttIRFQcg6lcc+yvIhf7siTf5svebWB/2btiz25gtQ22H6CjT673Wn/27CYTyhEq/bk5VbfJD/urP72vyNmTLOyZ/p8m3NfnfmfyBJibMqOf8+T4mREvu8XOUly7wZW0/+wE2xMVAe6khpuCQiLqUH9qapJg242wJz7efbQrs69z1urb7RP1KFPVLd7a/JkfVxyXb97P9Rcvs/+B/h55+6iOOKthG7ZxvmoLlJh/1/8OK84sj8tHWVF47AyAMn2mAyhX56euiiy6S+vp6OeGEE+Suu+6S/v13fwM/44wzZMCAATlX4I477pCzzz5b5syZI+3bt5c77tgdgXHcuHEyd+5cGTJkiEyfPl3Wrl0rtbW1IiJy5ZVXNgdmCtsGoHzQ1gAohHy2NbQzAET4TANUushOlurqalm3bp3sv//+GduWL7e/uGWvd+/eGUuOiYgsW5ae09qqVSuZP3++8/iwbQDKB20NgELIZ1tDOwNApKV9prFfF+0IfJHIlU8DzxVUFperLnHjr7hGwLrir7hG825wlLlisvzIUfaLsEopdoi7iMgbjrK4sW9c4owCDsJI2TCRd2fmzJmB27p1y1hTFgD2CG0NgEKgrQGQb7QzQGWjC6ogouIA2N5fE7H6k8H+/Gh/9t7/8ef/Zs52akRt3jf5v5sV3PYfZXb4uj/baGKy6JADNrLycJOvMkFaGsy1bfiCw0y+jw2ybTpul5gnZ597nymmYM5p4SeMjIcQst2Ebzigk9l+pMlPsCeYY/I9I+oCAEA+ZPu/MYz9DGTPfaPJ2/99Y00+6td5GxHN/uod9dE4qr52tSHL1tf+Eh93RAAAoFTRyQIALY7pyG1/uD9/iYn43He2P3/B4+Z8riUD7zH5bJdhjfqSFhUY1x6/J19MooLtmi9L10csfbnwZ6ZgsmMnOxQ513/DBLoFABRS3P+3cZcqdok7JclV5rpu3GlFrmk22x1lrv/vcafouPZzdVS7noerE9d1T+PeF+RL5BLOAAAAAAAAiEYnCwAAAAAAQALoZAEAAAAAAEgAk7cLImoO3JMmv8KftTHadvizp9iusg7+7Nsm+OsLEbXZ/whTcJvJL/Znuz3gz+uQbnbWoQ10K+ZaNceYvI18e5HJj2/rz1+/05c96V/N/h+b/IEmL7NMPiqY30KTP1GlzbM/OeLadnvrH5oCGxk3KmYFAAD5EPW/cZvJ6zgC9kONPdc5Jn933ErFFHd51ya5BsqNCmwbdTxxl1AOXJ9B48Zkce2XS0wR1zVc73v73g7ar7OjrMFR5lr+2bVcsysmi6vsLkfZJEdZ3DbNdQ0CbecLLTUAtDj2S8sf/dmRbfx5G6/1JyujL7HdBIFtfbPZYWpEnaL+/UQFxo1atS0O2wu7xuTv8GeXms0bTP4K+0GsxnFN+7yy7Sy1+0cdz795AACAQmK6EAAAAAAAQALoZAEAAAAAAEgA44gLIuo22/lwg/zZrx7uz6+367WfYfL+ICoH9dniy282Q9zH2+o81c4UmEAmr/unCdgZjXrvL822bY3+fFcbo+V7Jj/M5Pue4s9/ca+E2mnyPzD5G7zw4zPmUpu/5SfT/Pl9fq8yY/3bhm41eft3t/moYf9MCwAAAECxuT6Dxv1cmvR+cWPBRMWWCtvPfhcLKnOxX25EMr9viIic6yhzxVV51VHW01EW9/kiCXwrA4AWz/zz/u73fVnvtJt8+VfM0b26OE7Z2kaltj2Y0+NWLkDUv6c9+fe1yp89/Up//k2z+wp/x+fa5/ybB5j+b1lmeonHuT4gRX3IyfXfMv/WAQAAiolPYwAAAEhQV5PXHb32l9gXTf7WLK8VMeI0Mm9XQrIBrKNW7sh2tHJUUG8AQLmjkwUAAAAA4BBnenouyyu7jl3oKHONDo07Nch1vhMdZXE7Pfs7yq53lM1xlMVdOtr13Fz1cy0x7cLX/kLibheE/ZXF/qphf/FZHZGPauzMG7qTP4bKN+zVJ5gC+wb+tf/4B6/yb7ZTCw5Q6a/ba3UyBQNM/lCTtyuqPmxisNhbc5+Eu+E8UxB1LyOWnd3HXvBIlbZ/d/t3ttfO9detPVnCFgAAAACQFFYXAgAAAAAASAAjWQCgxTPDUM/0B7pdavbubg/f1iv6nHJ/9tXysSOxsl09K8aQ4UEjfdlFZqScjQyxd+o3vvw1XzM72KXZxn0YVkEAAABUADpZAAAAkIWo6a025oD+uGmnztq8ZQPT2inXNp+tqOtHsVODI6YZZ2y395KP5ig19jUZNw6Ki2sJ4rjT43OZFl/vKJvqKHPV7w1HmWuJ5BNi1iUqmHYY1z1wtYG5/I1yqQvtVxPuREHYF7/9h3ywyUctfWr/bPbDjHnzPubP9vmb2f0rJn+z2eEBf3Z8b3/++Q3+fLVKH/S0OfdoG8PkCn/28o0S6nV/duc9/vwWs3uNXWJVppi8vZdRHxzth71JIcdHffCLWvEg6oMXb18AAAAAKCXEZAEAAAAAAEgAP4UDQKUxoUNWmM021EjmMl8i2a9+FTHiLufzO2z3r4wmx/izE8zTGmwO72jP97pdis0MpWOFLwAAgIr3/7N373FWVXXjx79HBZOQwFBQZGZK5DYwMIBys1RM0cgLoOEl8RZSIvU8ldjFC97iyfplTyWGRKmViTqCGinlFctr+kgmDyD6zIAXNLBERcXL/v0BM/u7v2etvfeZc+ZcZj7v12terLXP3vvss+ewZu+1v+u76GQBAAAAABbTDXgAACAASURBVKSQT/6VtNuelXK9tA83bnAscx2fy7OOZa7PMdyxzOZNEBEZ5VjmerDk+mxpH0C5Pls++3PJpxsh7XejcrsqKvfIK4r9UtucLDZ3R1KDYb+Y9omweX23IFrvY7f/W7T6lUmmbpLC/TmaN+WAx8zuLvi0qjxvXkyYMWSeSSAjV5r6pkit8/f7Ruo1p5rV+5r6is9E6/bYzamQ/U398l+YBTZplm6scp0tJSk5XhL7vQIAAAAAFBOdLAAAAMhB0kMAOzywRpWTnh4nJYFPmg0o36TxSQnwrXwflBVgaCQAoKzQyQIAAAAAcEiKxPZYsVv2ss8G2ctSc0Vsp+2kdOWBc3WI3u5Ydqxj2dmOZXMcyw6KOygl7dTWrvU2OZbZmWtzed9iDNtp/53LdLIAQEdze3Ru83Mzj0fq+33KbvC0Yyd2TLG9WLF/QO3YvIMT1rda8XS6p8nw+6PoE+fOP4rus/875oKw0e7wtoRjav8XDQAAAIjHFM4AAAAAAAAFQCRLUdjTbMcT5zq1qR3/m/R+SU+Yx5j6q/H7O9zWEw4nlg3Bc4Xkaebc7XdTtH7GidH6/dHqFvPw/Faz9z1N/WgbbXd5UsjkBzGvWW09LhwAAAAAUEx0sgAAAAAAHK439ZTTK3/2zeR1RMSdG8WVZyQp6XWztPlNXDlexjuWuY7vpynfwyXt8dmH8CLuB/Gu8/KAY9khjmX55F9JO312x+xu6JifGgAAAG0k7vIy6UbkB6Z+fsL6SdG6aW8EfNsnyTXqNOn4kqKRuXQHgHJHSw0AHc5fI7X9/tQp+vI2u74dUugy2tSXmfpGU7dPaHqaer7D7dKuo+xmZj0YdEnCBrneLAEAAKC94wqwKJIuvG3oV65PNZKe4thwOJu7I8UsHRH5zKhh921vtOwsJock7M+EE86Izpoie0RnTelmZmY70+7OzrT2n3YFGyKZz3+hpKdrSfvO9ekcAAAAAKAt0ckCAAAAAHCwDxgXO9Y52LHMlSskbT4S17YDHMvWOJbZSFoR98QarvwmNupWxP1Q07Xe7xzLvulY5uI6L67jc+WRcbFPjUWyH2SLiAxPuT8XVzcCD4CbMYUzAAAAAABAARDJAgAdjp2GPXCvFssO9XvS1O1TGZux3z6lsuvbP09JwxJdT0+StrFPuz5p6jUJ21v8SUVHkTSsed+Ybe2TWFv/eo7HUoj8TfnINVGuVerjBwAUGi13UeR6mnP9g5u0vs3Bkq98LijshZkNhRto6g2mXm3qs+LrgzPR+vfM6jby8HBT7/YdsyCfz17o/2789wUAAEBbstfuUx3rpB064rqOdg2VcQ35cQ0NcpnoWJb2mtk1TGm1Y5m9XxFxdxC7Pq/rWNY5ltkJAXz7c0317Lr3q8lj27Tnr9C5Kiv3XofhQgAAAAAAAAVAJwsAAAAAAEABlLSTZevWrTJt2jQZMmSIDB06VJYtc4WGiSxdulRGjBghdXV1MmDAALniiitaXrvuuuuke/fuUl9fL/X19TJ1qiuEDUBHRTsDoBhoawAUA20NUP5KOtDp0ksvlV69esnixYulqalJRo8eLatWrZI99tgjst6+++4rf/rTn6Rnz56yZcsWGTlypIwePVo+97nPiYjIEUccITfffHMpPgIKzo6FtOMqk3KimHGdg/YxdTvu8zRTH23q+yW8n6XHE1buOML2pGO2M/Z7nuP/m6z1XeNkXVMLxu2jX47rtwX7OZIScNr2IWlqQv7Pd2Qds60BUGzFb2tsfsRpKY/U9TfRJpgXEdnsWDYp5Xu4/i67coq4pj5Oe23jyr/i2l/SdVEzez5F3FNMuzQ6lrmur1x5blzn5UXHMtfvzbVt2umai5HPpfyUNJJlyZIlMmPGDBERqa6ulrFjx8ry5cuz1hs1apT07Lk9+U+3bt2krq5OXnwx/FIEQWtmxgDQEdDOACiGjtXW7GJ+8tm2q/nJZ99A+9ex2hqgMpW0k6WpqUmqq8PZYqqrq6WpqSl2m9WrV8tDDz0kRx55pIiIZDIZefDBB6Wurk7GjBkjS5YsadNjBlBZaGcAFANtDYBioK0Byl+bPiIYMWKEbNiwIWt5JpORjRs35ry/V155RY477jiZP3++9O69fVjJ0UcfLSeffLJ06tRJVq5cKRMnTpR+/frJ0KFD8z5+AOWPdgZAMdDWACgG2hqg8rVpJ8tTTz0V+3pVVZU0NjZKXV2diIg0NjbKmDFjnOu+9tprcsQRR8icOXPk+OOPb1muxx8OGzZMJkyYII899hiNBNBB0M4AKAbaGgDFUH5tjU2K28exjiuSxnWb6cq/4uLK05Y2B0ja/bmOz5WjxJV/xZWnxXV8rvdwJRlOu63rc7iOeV/HstWOZTUp3wO5KulwocmTJ8vChQtFZHvo26OPPipHHHFE1nqbN2+Www8/XGbNmiVnnnlm5LVXX321pbx+/Xp56KGHWhodtAe5jtW2r79kfpaZn4PNz3jzM8r8JGEcebnpmO3Mx8zPBwk/Sevb/1e7yPaLDv1j2X3k+nqu67uOMWmb0xJ+kj6jfb93zQ86ko7Z1gAoNtoaoPyVtJPl4osvlldffVWGDBkikyZNkoULF7b0rF588cWyYMECERH5r//6L1m3bp0sWLCgZaqx66+/XkREfvKTn8jQoUOlrq5OjjrqKLnwwgvlwAMPLNlnAlBeaGcAFANtjZZLp679IfEtEIe2Bih/maCDpJbOZDJk0S4L9mlyoS+gkvb/qKm/auojTd0Vblf++L6XTnme+1ynHk7z/9RGdtjp/ZL2kWtb0Jq2I98pl+1ntCG0dvtcp86ufOX5fW//yv+8x/3fy7ctQEdU/t/59qnw5z3tsJgFjmUzHcuudyw7zbHMFV3qet+0Ux+7ht64plJ2cQ3vqclj296OZflMMd2xFeo7X9JIFgAAAAAAgPaCxwUosqQnWPnuL2n/7sRg6SU92f4g5jWgVHJt6tP8P3U92cnlPfM9prbaRkv6jBb/5wEAADo6IlkAAAAAAAAKgJwsKLFCR7Ik7T/fJ9uVEcnC97102ue5TzuGGh1N+/y+l7/yP+/kZEFhlf93vn3aft5/aZZOc6yZNvJzkWPZKY5lrmvotHlVXMtcbVLa/CuubTelXM+VQyVtVH3az+t6XyJrW6tQbQ1/yQAAAJAHe5GfS8cJl6IAgPaFv2xoY0kXWrl+Be3+bC9vrvu329u6zcSdbx4KAAAAAEB7xXAhtLFChwHn+rSs0J0slYHve+mU57lP+p7bzkM6C5FOeX7f27/yO++5/G2mfUHuyu873zG4z7treEraqZTT/v9f7Fg2NeX+NjqWua7n0w6pudqxzDVd82Ep9+caauSahtk1XCifYUAM/U6DKZwBAAAAAADKCJ0sAAAAAAAABUCMENpYoWf/yfd1OzuQHSaRaxjev029MocXAQDQelxOAgDQjL+KAAAAAAAHmxvE9UDyrJT7cuUFcS1z5V9pSLmeK79J2pwxLqMdy553LEs7lXLanDH2Qa6P6/O6cNtfTJxtAGj37B/+pIiu1uyTPycAAAAAOVkAAAAAAAAKgEePKLF8p2TONedL0hN7+4Tf7t+G/dnwPr19a6IDAAAAAACVik4WAAAAAICDfcC42LGOKzeKKw+KK3dL2tvRaSnXc3Hlczks5bHs61jW07HMlX/lRcey4Y5lrnwuroe1rvVszhzfsaCY6GQBgHbP/rF1XRxoSRFmIvz5AOBH+wAA6LjIyQIAAAAAAFAAPGoAAAAAADjY4Siu4SmuZWmndXZt65L2ttW1vztSbutytmPZT/PYX9rhPWmHC7nOi2s9F7oC2gpnFm0sKZFt0pjBtI2ET6ET4yYh2S0AAAAAdFQMFwIAAAAAACgAIlkAoN3JdSr0NIluLf58AAAAABZXyQAAAAAABzu03zVdc9rh8hsdy3o7luUzq6HrWNJOO73IsWx+gY/lXsey8Y5l3R3L8snJwrTOxUQnC9pYvl+xtv6K8l8AAAAAAFAY5GQBAAAAAAAoAB7jA0C7k+usWknbp/lTkZQHBgAAAGj/MkEQBKU+iGLIZDLSQT4qwPe9hCrj3Oc6NTqdLHCrjO97+8N5R0fDd740tp/3X5qlZznWfNexzJXfZJZj2VuOZa5cJvnkI3Edn+s90uaMce2v0DlP0r6H65h7pnwPrtWsQrU1DBcCAAAAAAAoADpZAAAAAAAACoDhQkA7xPe9dCrj3DNcCIVRGd/39ofzjo6G73xpbD/v75ilhR4Wk890zfnsL+0wJdewp2kpt3UN5XGdP9fxpT3PXG8VUqHaGn4rANDh2KafDhIAAACgEBguBAAAAAAAUAB0sgAAAAAAABQAOVmAdojve+lU5rkvxHAhhhx1RJX5fa98nHd0NHznSyO/8+7KeXK1Y9n5jmULHMtmtvI4RET+7VjWPY/9uZQq/0qhc9p0bEzhDAAAAAAAUEbo5gKAdi8pyiTpT0Ga2Yj4cwIAAAAQyQIAAAAAAFAA5GQB2iG+76VTnuc+33wpRLLArTy/7+0f5x0dDd/50th+3n9plk5zrJlPnhFX7pauKbdd5Fh2imOZ6/hcy1zHkjaviosrT4srF0zac5XmekyEa7LWIycLAAAAAABAGSlZJ8vWrVtl2rRpMmTIEBk6dKgsW7bMud4DDzwgXbp0kfr6eqmvr5exY8dGXr/ssstk0KBBMnjwYLn88suLcegAKghtjcj2Jxr6J9/tXT9Ax0ZbA6Ct0c4AlaFkV8aXXnqp9OrVSxYvXixNTU0yevRoWbVqleyxxx5Z69bW1soTTzyRtfzuu++W22+/Xf7+979LEAQybtw4OfDAA+WII44oxkcAUAFoawAUA20NgLZWmnbmLFNPO2Wwa9pk17AY19Cgd1Nue1rKY0k7zCbt0CDX/h51LOudx3vwAKuSlSySZcmSJTJjxgwREamurpaxY8fK8uXLc9rHbbfdJqeddpp06tRJOnfuLKeeeqo0NDS0xeECqFC0NQCKgbYGQFujnQEqQ8k6WZqamqS6urqlXl1dLU1NTc51165dK/X19TJixAi59tprW5avX78+so+qqirvPgB0TLQ1AIqBtgZAW6OdASpDm8UhjRgxQjZs2JC1PJPJyMaNrkzLbiNHjpRXXnlFunTpIo2NjTJx4kTp06ePTJo0KfU+3nvvvdTrlpvmY991111LfCS549hLo5K/761BW1MY7eE7z7EXVyV/31ujXNqaSj7vlfx9F6ns428Px94RlEs7I1LZ5709fN933bXyhgtV8nkXKex3vs1+e0899VTs61VVVdLY2Ch1dXUiItLY2ChjxozJWm/33XdvKdfU1MjUqVPlkUcekUmTJrXso1lTU5PU1NRk7aP5F53JZFrxSQCUM9oaAMVQLm0N7QzQfpVLOyNCWwPko2TDhSZPniwLFy4Uke3/uR999FFnwqXXXnutZa7q119/Xe6+++6WhmXy5Mnym9/8RrZt2ybvvfee/Pa3v5XJkyc73y8IAn746VA/2I62hh9+2vYH2xWzrSn175wffkrxA65p+OGnGD+FULI4pIsvvlhOP/10GTJkiIiILFy4sCUz9sUXXyz77LOPzJw5U26++Wb5xS9+ITvvvLO8++67cuqpp8oXv/hFERE56qij5PHHH5dhw4aJiMhJJ50kEydOLM0HAlCWaGsAFANtDYC2RjsDVIZMUKjuGgAAAAAAgA6sZMOFCm3r1q0ybdo0GTJkiAwdOlSWLVvmXO+BBx6QLl26SH19vdTX18vYsWMjr1922WUyaNAgGTx4sFx++eXFOPTUx7506VIZMWKE1NXVyYABA+SKK65oee26666T7t27t3yuqVOntukxr127VsaNGyfDhw+X8ePHy7p167LW+fDDD2XWrFkyePBgGTx4sCxatCjVa20tzbHPnTtXamtrpa6uTurq6uTOO+9see3000+Xvn37tpzrefPmld2x9+rVq+X4Zs+e3fJa2u8a/GhritfWVHI7I0JbQ1uTH9oa2pq0KrWtoZ0pvUpuZ0Roa7h/KuyxF7StCdqJ888/P5g9e3YQBEHQ2NgY9OrVK9i8eXPWevfff38watQo5z7uuuuuYOTIkcG2bduC9957Lxg5cmSwfPnyNj3uIEh/7E888UTwz3/+MwiCIHjjjTeCfv36BX/+85+DIAiCX//618EJJ5zQ5sfabPTo0UFDQ0MQBEFwyy23BGPHjs1a55prrgmOPfbYIAiC4F//+ldQXV0drFq1KvG1cjj2++67L3j33XeDIAiClStXBrvvvnvw5ptvBkEQBKeffnpw9dVXF+VYrTTHPnfu3OC8885zbp/2uwY/2pritTWV3M4EAW0NbU1+aGtoa9Kq1LaGdqb0KrmdCQLaGu6f0ilFW9NuIlmWLFkiM2bMEJHtc8aPHTtWli9fntM+brvtNjnttNOkU6dO0rlzZzn11FOloaGhLQ43Iu2xjxo1Snr27CkiIt26dZO6ujp58cUXW14PijTy6+WXX5bnnntOpkyZIiIiU6dOlTVr1mRNLbdkyRI566yzRESke/fuMnnyZFm6dKmIbD/XvtfK4dgPPfTQlqzqdXV10rlzZ9m0aVPL68U611raYxfxH18h/p90dLQ1xfn+V3I7k8vx09bAh7aGtqaQx19ubQ3tTHmo5HZGhLaG+6dkpWpr2k0nS1NTk1RXV7fUq6urpampybnu2rVrpb6+XkaMGCHXXntty/L169dH9lFVVeXdRyHlcuzNVq9eLQ899JAceeSRIrJ9erUHH3xQ6urqZMyYMbJkyZI2Pd6qqqqWeiaTkb59+2Ydc9znsuc6zWcuhLTHrl1//fVSU1MTmd7uqquukkGDBsmkSZPkH//4R1secotcjv2mm26S2tpaOfTQQ2XFihWRfZTivLcntDXFaWsquZ1pPi7aGtqafNDW0NakUaltDe1MeajkdkaEtob7p2SlamtKNrtQrkaMGCEbNmzIWp7JZJw9UT4jR46UV155Rbp06SKNjY0yceJE6dOnj0yaNKmQhxtRqGNv9sorr8hxxx0n8+fPl969e4uIyNFHHy0nn3yydOrUSVauXCkTJ06Ufv36ydChQ/M+/kIJgkAymUypDyMnK1askIsuukjuueeelmXz5s1rOe833nijTJw4UdavXy8777xzqQ4z4pxzzpELL7xQdtppJ7nvvvtk8uTJsmbNmpYefMSjrQlVYltTie2MCG1NR0RbE6KtKZ5Ka2toZ/JTye2MCG2NSGW2NZXWzogUvq2pmEiWp556Sv75z39m/bz22muy0047SVVVlTQ2Nras39jYGOk5a7b77rtLly5dRESkpqZGpk6dKo888oiISNY+mpqanPso1bGLbJ/3/ogjjpA5c+bI8ccf37J8jz32kE6dOomIyLBhw2TChAny2GOP5X3sLlVVVbJ+/fqWehAEsmHDhkgPX/N69nw2r5PLZy6ktMcuIvLII4/Il770Jbn99ttl//33b1ne3ECIiJx88skSBEHks7SVtMe+5557yk47bf+vPWHCBBkwYICsXLmyZR+lOO+VhLZmu1K3NZXczjS/N21NeKy0Ndloa7ajrclPpbY1tDPFUcntTCGPX4S2Jh+V2s6IlLCtScgTUzHmzJkTnHvuuUEQxCekefXVV4OPPvooCIIg2Lx5c1BfXx8sXrw4CIIg+OMf/xiMGjUqeO+994J33303GDlyZHD33XeXzbFv2rQpqKurC6655pqs1zZu3NhSbmpqCvbdd9/gsccea7NjPvDAA4Nbb701CILtCYTGjBmTtc78+fODY445Jvjoo4+ykjPFvdbW0hz7448/HvTt2zd4/PHHs1575ZVXWsr33HNP0LNnz5YkT20tzbHr4/v73/8e9OjRI3jxxReDIEj/XYMfbU3x2ppKbmfSHj9tDXxoa2hrCnn85djW0M6UXiW3M7kcP21NcY69HNuZIChNW9NuOlnefvvt4IQTTghqa2uD2tra4I477mh57aKLLgp+8YtfBEEQBD/72c+C2traoK6uLujfv39w2WWXRfYzd+7cYODAgcHAgQODSy65pKyO/Vvf+lbQpUuXYPjw4S0/1113XRAEQfDtb387GDJkSDB06NBg8ODBwYIFC9r0mFevXh2MHTs2qKurC8aNGxesXbs2CIIg+PznPx88+eSTQRAEwYcffhh89atfDQYNGhQMGjQoWLhwYcv2ca+1tTTHfsABBwR77bVX5Fz/4x//CIIgCCZMmBDU1dUFgwYNCkaPHh089NBDZXXsp556ajB06NCgtrY2GDZsWLBkyZKW7eO+a0iHtqZ4bU0ltzNpj5+2Bj60NbQ1hTz+cmxraGdKr5LbmVyOn7amOMdeju1M2mMvdFuTCYISpPkFAAAAAABoZyomJwsAAAAAAEA5o5MFAAAAAACgAOhkAQAAAAAAKAA6WQAAAAAAAAqAThYAAAAAAIACoJMFAAAAAACgAOhkAQAAAAAAKAA6WQAAAAAAAAqAThYU3OrVq6WqqkrWr18vIiKXXHKJnHTSSSU+KgDtDW0NgGKgrQHQ1mhn2ped586dO7fUB4H2pWfPnrLnnnvKnDlzpKqqSn74wx/KH/7wB+ncuXOpDw1AO0JbA6AYaGsAtDXamfYlEwRBUOqDQPt0+umnyy233CJ/+ctfpL6+vtSHA6Cdoq0BUAy0NQDaGu1M+8BwIbSJbdu2ybPPPis9evSQjRs3lvpwALRTtDUAioG2BkBbo51pP+hkQZs477zz5IADDpA//elP8pWvfEVeeumlUh8SgHaItgZAMdDWAGhrtDPtxy6lPgC0P0uXLpUVK1bIY489Jp07d5aLL75YTjrpJHnggQdkp53o1wNQGLQ1AIqBtgZAW6OdaV/IyQIAAAAAAFAAdIsBAAAAAAAUAJ0sAAAAAAAABUAnCwAAAAAAQAHQyQIAAAAAAFAAdLIAAAAAAAAUAJ0sAAAAAAAABUAnCwAAAAAAQAHQyQIAAAAAAFAAdLIAAAAAAAAUAJ0sAAAAAAAABUAnCwAAAAAAQAHQyQIAAAAAAFAAdLIAAAAAAAAUAJ0sAAAAAAAABUAnCwAAAAAAQAHQyQIAAAAAAFAAdLIAAAAAAAAUAJ0sAAAAAAAABUAnCwAAAAAAQAHQyQIAAAAAAFAAdLIAAAAAAAAUAJ0sAAAAAAAABUAnCwAAAAAAQAHQyQIAAAAAAFAAdLIAAAAAAAAUAJ0sAAAAAAAABUAnCwAAAAAAQAHQyQIAAAAAAFAAdLIAAAAAAAAUAJ0sAAAAAAAABUAnCwAAAAAAQAHQyQIAAAAAAFAAdLIAAAAAAAAUAJ0sAAAAAAAABUAnCwAAAAAAQAHQyQIAAAAAAFAAdLIAAAAAAAAUAJ0sAAAAAAAABUAnCwAAAAAAQAHQyQIAAAAAAFAAdLIAAAAAAAAUAJ0sAAAAAAAABUAnCwAAAAAAQAHQyQIAAAAAAFAAdLIAAAAAAAAUAJ0sAAAAAAAABUAnCwAAAAAAQAGUvJNl7dq1Mm7cOBk+fLiMHz9e1q1bl7XO3LlzpVevXlJfXy/19fUye/bslte2bt0q06ZNkyFDhsjQoUNl2bJlxTx8ABWCtgZAMdDWAGhrtDNAedul1Acwffp0mTNnjkyZMkVuvfVWmT59ujz88MORdTKZjJx22mly5ZVXZm1/6aWXSq9evWTx4sXS1NQko0ePllWrVskee+xRrI8AoALQ1gAoBtoaAG2NdgYobyWNZHn55ZflueeekylTpoiIyNSpU2XNmjWycePGrHWDIHDuY8mSJTJjxgwREamurpaxY8fK8uXL2+6gAVQc2hoAxUBbA6Ct0c4A5a+knSxNTU1SVVXVUs9kMtK3b19pamrKWvemm26S2tpaOfTQQ2XFihWRfVRXV7fUq6urndu/9957BT56AJWCtgZAMRSrraGdATourmmA8lfy4UJpnHPOOXLhhRfKTjvtJPfdd59MnjxZ1qxZIz179ky9j4997GNteIRA+fE9vYAfbQ2QO9qa3OXb1tDOoCOirckN1zRA6xSirSlpJ0tVVZWsX7++pR4EgWzYsCHSsyoisueee7aUJ0yYIAMGDJCVK1fKYYcdJlVVVdLY2Ch1dXUiItLY2Chjxoxxvh+NMzqKTCZT6kMoK7Q1QNugrYkqZlsTtjN/U0sfU+VZZgs9lKC3Kr+lyl09n+ytaPXZ3cNyL7W852xV+akqv6vK9qbtA1UuxmVpms8rIrJAlW9Q5b+q8l9U+SBV/rfZV/ccj+UDT1kkev7izmuzp1W5t3nN1pPEvZ/vNd/vVy/PHuYS2n6MmUynFMfXMZTXNY39fr7rWMf+P0v6/+Hahxb33XO97mKPuyLiDlAEhbquKelwoT59+ki/fv2koaFBREQaGhqkf//+0rt3tNHXYwyfeeYZWb16tQwcOFBERCZPniwLFy4Uke2hb48++qgcccQRRfoEACoBbQ2AYqCtAdDWaGeA8pcJSvzIdc2aNXLGGWfI22+/LV27dpXrrrtO9t9/f5k0aZJcdtllMmLECJk+fbo8/fTT8tFHH8kuu+wic+fOleOOO05Etk9Bdvrpp8uqVatERGTevHly9NFHZ71PJpPh6TI6DL7v2WhrgMLj+56tGG2N/7yfrco/Nq/pp8f6Zsz3BHdKWPz8kuhLo1T5eFWuO0lVdPRHOT0lThP9ISJyhSq/rcoHq/LHVVlHAcR9Xh29kuaJu91XrpE/pY4iShPhYiKlIrZHQWQynWhrlNJd07QmAiRpm0ZTr0nY39WmPtPUb3dsM9HUbXRNUjQMkS8dRaGua0reyVIsXAiiI+H7Xjqce3QkfN9LY/t5f39H7Rz1yiZVttO2dvWUR4fFr68Ky8+FxUfviu5pzFGqMlmVZ1ynKqeocmtuSFrTAZBPp4G9idLDbHSv0hdV+WuqrIcL2X3puq9jRXeC+YYXiaTrJPKtY4dp+IZL+c6jb7iPG2PdigAAIABJREFUfS3NvuKGRGW/J21NadDJ0oxOlo6iUG1NSYcLAQAAAAAAtBd0wwEAAFSc5ks4nYh1mSqvNOsPUGU1POP7KnrlVrXKlrAYm4bydV0Z7zg+kfQRJvqdfNvEDbHx7TtN9IfddpRzrehwoRs929sEovo1/TvS58sXvRKX+NaXONd3Hlabuv6MvoiVtHznOE2EC1ECANoXWjEAAAAAQIK4HEGuukhy7qGaHI/BDvWxx2SHBrm2sew+bJ4gprJGbuhkAQAAqDjNkQPPqmV6SuFjzfo6H4fKN3KzWrw5LDa+F5YPsfcnx6jyV3RSFt+UwDrKIe5mJ99oijT7bQ197vTU2PpE6KgQG/uzKCy+dm5Y3muGWme+KuucEnE3kL7PpZfrm8WeZj0dVVOryjWefcVFJOV6jn1JcFuzLwAoL+RkAQAAAAAAKAC6igEAACpOcySAjgKwuUA0nfNDTUmsJ8V5PixWq0gWuc3s6vBfqspZqqyPxRe9Yme4+ZinnK80eWDi1tGv+aJvfDMonWPWezIsvq8WX74wLH9Rlft3USvta/b1SVX2/b59+VHsvr6hyuqXL1NV+VLPe6RVjGmiAaC8EMkCAAAAAABQAHQpAwAAVCxfzoy4PBcqr8cP1eKdw2JmH7X88PvNvg7xHIsvekUfi51FR+WHieQCSTPbTtxlbJrzkjYviC9CZ5pnnY1mX+pc9DkqLG+4Kyw3qdX7q4iTV9ZGd7W3b+Ye3+fSYqJ1GtQsU4ercjcd7aJ/J64Ep773cXnXU7bbJyUsRXHZ35X9rrl+9y+auo2oyjUnzzRTt9u7vjNJCXrt50iKqiOPEOLxjQAAAGgX0t74qvJuj4Tl/75DrTNSleOGIWmtGe4zRJXTJFmNS6Lrm9JY08cYN7WzHtbk6/DR9DE+a15Tw4r+fFlY/lCtsocq36s6Vmrs+wxPcSxpzoOIvKY6eV5QyzvpldalfG/f7yjNd+Kvpr6fKtek2B4AygvDhQAAAAAAAAqASBYAAICK0xzpoS/lWhNJoqNU9DTEvqgSEZFLVPl7nm3Es/wtzzoi0agL377iPqPePk00R9xlsG9oTJqIDT01skgkeexzanGNKi9R5WGqPM4el+9Y0gyxMUM9fqrKu6vybnpq6YGe94iLmkpDn68+5rXenvUAoDLQyQIAAAAASNCaTi+bgyVJUr6TpGOwM5iJZHc82n0kdRqSgwW54RsCAABQcZIu4eJuCt71LPdFKujQChGR6xPeWyQaSRIXZeFLSpsmKibuM6ZJmDpdle1N16882/giZPQ51dEfZptj1eI+aqrmP28Ny4frSJIfm33pz9ioyjXipm843/W/NEc8ldYknk2TW0ezOW9IdgugspGTBQAAAAAAoACIZAEAAKhYaaYntnxTF/uiDm4326fJnaL35cuVYl97VJV1NEia2X1EUs1q80omLOuAkcFmvSu/pippZvSJmw5azdrUR7+2KSwers/xaapsz6+u13jeU5+H1aq8Mrqryarc7XJV6Sf5SZO7xRdN5aoDQGWhFQMAAAAAOPg68ETS5UuxHW12uOFZCe9v3zMpJ4vr9jbX4ZW55mwBouhkAQAAqFi+nCqt2d7HRjYsV2U9E4y+EdHRJ39R5YPMvhpU+UlV1lEXMz3HZW++Usyq8w+1+DOq3Ndu811Vvs3zHr68M/YGzZfHRZ8jfaOp93WF2dc3Pe/je/+XVNncKB72P6rii9bxRQfZ702a9XyRVvo7BACVj5wsAAAAAAAABUAkCwAAQMVpjgpIkxPF1nO9/LPrT/Ssp6MZ9NQ1OipliNlmtCqvU+UbVVlPyaOjHmzkin7/Bar89bB4uEq+sm1VWL7Z7GrLXWH5KzrqwheVotlz74t+8W3/eVXOdfpau81Uz3vHvX9rvitpZhRKM2MUAFQ+WjUAAIB2z5eYtTWXgr7t9U27Triqh6zYJLYXqbIey7OzKvuGJFn6Mx7rWefZsHiXSoL7kFlN9wXpZLl7H6peOM1TtvQxv6jK+lzoDpBZqjwp5X5zTUBsX9PyvT1Is33csZP/orzETY3eYOq2I08k+/+GzcFytanPknhxHcgi7s7DpFwy3BKjsBguBAAAAAAAUAB02wEAAFSc5ku4tEMzfNEBvu3jIg18l4/6KfZmVT5ble0TZTWsZ+22sNz/QM97xE0PrN+/xrOe2v5Ntfh1s6slqqxmYJYB94flXz6oXtDDcuyQHn3MA8VNnxedaHh8dLWfPRyWZ8/2bH+lKutoGXu+0ky1rMVNkZ3mu5M2gorbEwCVjUgWAAAAAACAAqCrGAAAoGL5ogPikpymiTTQbPSJTmqr86XofR2W8j1U7pT+Or/DOZ5t4j6jTnarI0D0tNFqm9vD4m/eiO7p4EfCctVn1Qsvq/JNH4XlA3YPy/sF5rjSnG99TtVn76MiV0TkHfX+u/2/n4WVfdRKtyxU2+tjyfeyX0ev2O9E3PTOANCx0AoCAAAAABLEdJKKiPvWMq5DTiQ50a1dP+0sWRqJblFcmSAIbHd7u5TJZKSDfFSA73sJce7RkfB9L43Cnve4PBvN7I3VFaqsZw6pacX7P63Kj6myntpZ71fnGPl4dFff2hqWdQCIzqnSs0tL8TcZtb5xarWqfF+VdcDJbM86599q9qbztejz7bnRe75TS/G+ftGXGlVZf3q92sgvqsri76iKnslJJBr5c5sqPyhuab4rIv5pqls/qxVtTWlkn/ek3D2t6WTJVWs6WeLyEaXB7EQdRaHaGnKyAAAAAAAAFADdbgAAABWn+cnsRrXsWVW2T151WH+uEQXrTF0nMOmpyq2JYBiuyjqCorunrHzfRKJcFRYXqHQpM09R63wm3OZ49163+7Iqn/y+2lkYZfKAeo9Duqj1I5ErVoqn+E/7X9pTle9T5U6qPPIevcXvwuLf50V39lNV1kFEzxysKvp3oo89LjLAF1nAbQeAjoHWDgAAoOI0X8J9Qy17UpV14lmR7NwJdj/WIlW2HTb6JlrfeG/0LE/r66qsb+LV+y/bLSxfGN16qer00H0eG/8UlnuraZt3U/0PssocygVHq4o6R/8Mi4ccoVaZnTY4XHdg3Ot+D3XqnzFb6zTDuuupUa+kP/z89WHZ/koWh8WnVf/Y8LtXhJUjfR1naacI51ajfbO/3+sd69hOtzR5XMrN70z9rIT1Xf8f7OfMdxhV0hAm37JcjqE1w8PyVYr3LDyGCwEAAAAAABRAZXQFAUBF+XfyKpHY7KRtp6V836Tef83V/OeyvWvdtE9h7JOTuO3TPA2KYxPkibhD2XN5n3yPCSiEHWEIH9wSLtqls3q9t/ilmVJYDz2aYrbXr+lt9lXlNEOH4nj+T6mPdfFH0Zd0MMopnuW9d1aVk3+uKnrKZ5HoMCZlsiqfulRVdObbB8xGh4TFy1WUyGQ1yOfasLj0rrD8gtnTBlXWQ4f66pX0KKr9PRuLiHwmLA5vVMv1CTsyTVJRkdzay7j1AaDyEckCAAAAAABQAHQjAwAAVJwdCUl11EI3HQ32ebO+jpLzJJKNXBaerMqjzHo6ysMXwZZ2OmjfNm+5lw8Li7ubrT9UZZU6RXR2FXnoDFXReRXichGoXDOnzlDLf6zKm8Li3YdGd6VPt0rOu1nllNETKP9ele1n1GdeB5zor8EXXg/Luy1XL+iUOSIis1RZT3MdySfsm7bZRl36vlNvpVgHlaM1t45xiaBbI210lZY0hbN93UbcJuVgsdKcp6ToX3sMtt6a/0+2EbARj0k5WtL+v89H++ieIJIFAAAAAACgANpHVxEAAECHsuMJow7ZkC1hsZuNPvFd8vkiXPT2NreR70myJ/okIm3uJr2eOvb7w6KN8tBHr1Ov7ByZGORXKd/fl2umVpXXqLKaD3neFyJ7ulOlYdG5U25X5SZV1p9DTR4tItG0Kh/3LP+DKp9wq6ocZXamIl7kYVW+Sa+0TJV13pq4nD++6JVcpw4HgMpECwcABWfDJ5c51mnwbDvMsawxxXv4lvkUK3mrK8ltLolv0x6TDYFtFncj0Fr86QQAAIAbV4oAAAAVZ9H2f7qoRd1GqIq9xPPl1tBlX6SBjVzxRaz4IlzSRjD4jlFRwToHm5f0RDoThqjKyb/0vJ+OSvmaeW20KutMKF/3lC9pKf1GRa6IiDylyjrCRkev6E+uI3QiswaJiJqPKBKIsodnHXlTlQebnalZjGS6KtfqvDWTVDkuCkl/gny/Bygv+qGQza9ytanPktwtMPWZOb5u84S4vqd2mY3Os99H+x22D4fsg50ax3taSflOLHtMSQ/SXA/P7OfM98HTJlO3nyFNpGJSfpx81y8PlXGUAAAAUHZcPO+t75y/q8pxF/QfpFgeZxdPOU2Umn2PHI9lYlgceHb0pYGrVSUy5EUnrdSRhQNU2d6o6aFAQ8RNjUM6d25L8W9mrc2q/J7n3fWZ0x0rdkiUHj6kEyvqXLW6q016qbLuhRIRma176PR355uqrH8nf1HlgyR3aad5vjcsPn5kK94HAEqr5Ilv165dK+PGjZPhw4fL+PHjZd26dVnrzJ07V2pra6Wurk7q6urkzjvvbHnt9NNPl759+0p9fb3U19fLvHnzinn4ACoEbQ2AYqCtAVAMtDVA+Sp5JMv06dNlzpw5MmXKFLn11ltl+vTp8vDDD0fWOfjgg+U73/mO7LrrrvL3v/9dDjroIHn55Zela9eukslk5Dvf+Y6cc845JfoEACpBcdsa+zS3l2MdX9hnk2PZk45luUyJmDb/Stqn2CLuJ9auEHFXrhTf+7jCTNMeuy8E1nWc+eR+EckOvxVp3ZSSaI+K19YM3PHvYWpZXLuQZqiGDsvXIfl2/TRRMZr+fxi3L9826v9X18lheYFpH14LbyBlL53+tVGV9fAXFRYTO6Wrfk0Njxh6bkvx6X+Ei6Npb0WWqPI2cfueKvdQj0AbP4qup6ep1lM46zgcPYyo7/+G5cw4+65veI5Gf95HVXmzXVHRv0c99KqPKuu/bypRsD3376joldNj3rKD4x4KKF8l7WR5+eWX5bnnnpMpU6aIiMjUqVNl5syZsnHjRundO7xgPvTQQ1vKdXV10rlzZ9m0aZN07br9j24QBMU9cAAVhbYGQDHQ1gAohuK2NTYPh2ZzsKR9sKHZHCv24cpZpm7fI5ek/82SHozYY7CfoTX5UV40dftwyB5T0m16mhwv9ndn92kfhPUz9TT5buBS0k6WpqYmqaqqaqlnMhnp27evNDU1RRoI7frrr5eamhqpqalpWXbVVVfJz3/+c/n0pz8tP/jBD2TIEN/YWQAdEW0NgGIobltTvePf8Y7XRNInWTw5LP7992G5Tt88xeVR8S33TMGclbFE5z45VpV1hM6ZqnybKutJkEXkYyqSRWc8ufFTYflkfVOZJp+MiMiUsDg8fI/FKnpF35o8aLbWtyn7qLJOVttDzxKtIk5qvmh29pOw+BeVIkXncdHvp8/QcTb/7zd8CU11tJ7+7vkiXyz9PdARK/ocz1dlc6N3sSo3n4v/FShc1wDlreTDhXKxYsUKueiii+See+5pWTZv3ryWxuTGG2+UiRMnyvr162XnnXf27QYAYtHWACgG2hoAxUBbAxRXSTtZqqqqZP369S31IAhkw4YNUl1dnbXuI488Il/60pfkjjvukP33D9Oj697ak08+Wb71rW9JY2Oj7Lfffm178EXTmrC7tNLmOiiUtpyCK+4JVLPWTCsmUmF9kXCgrQFQDMVta0abf0VSTYEsItG/dSrsvc7O8etaP2nfO9yUCcs6QOUJs95KVZ59Ulj+gpr4eL4qV+mICz2dkERTr2xVU+noNBVb1HENVcvHv2MOTH3GR1WEzPNh8Si1tg4SedvsSU/q8zlVjly57KnKetohG5SgUtIcqiJZqlSwzkP/F5Z1VM3BetIgEenx+olh5fKl6hX9C9OhNOrDRyKNRCITan9dnXA90qNGlbvp75SZovcGVV67499FAoXrGqC8lfTusU+fPtKvXz9paGiQqVOnSkNDg/Tv3z8rzO2JJ56QadOmSUNDgwwfPjzymh57eO+998r7778v++67rwBAs9K3Na7wW1dCWBF34tvRjmX5StMxKeK/mXItvz170bbjspf92bNLVyR6vWPZoD0cC1/y7DRtp3QuHawkuYVb6dsaAB0BbQ1Q3jJBibOrrVmzRs444wx5++23pWvXrnLdddfJ/vvvL5MmTZLLLrtMRowYIQceeKA0NTXJPvuEI1l/+9vfSm1trRx22GGyadMmef/996Vbt27yox/9SA466KCs98lkMhWaSI5IlnSIZNEq9/vedorb1tgnoi5nepa7Olm+5lg2LcV7NHN9r9POJOT7f+Pafln2onbZyYJmtDXZitHWbD/vzbPnqAiC1B2AOueGbxv9f8L+jfVtc31LKcic3lLOqJCPLXdFt+i2q6rolCo6F6b+b7zqOlX5RnRnP1Tz6ryglqtwji0qt0e3Q9U69/1ndF/yfVVWeW/Gqaga9R63vBqWO5k9HfeJsPyOauc2qHX6X6YqF3QLy3duie5MR/78VpUne5br2YnUcYiIyGdUeYH+f6x+9/eqT3OAWqXbgdF99Xm8pXjby+HiKWPVOp9X5QtU5MyXon8nbvud2j64XEREMpkLaGuM4rU1+rzbkKLTTN31d9MmT20wdZvYNon9e21n/EuTCDdtzqrWct2X2OO27WguMzyKZJ/rSxzr2Id8fUx9pakvNvVLTd1e97blvV1pFOq6puSdLMVSuReCdLKkQyeLVrnf98pHJ4tBJ0u7RltTGtvP+8931Hw3KPb7m8/3Oe6GRM2Y8Ysw/eqCr4aL9bCa982e9tMv7h4WN94clnXfy4wLVUUPsRGJZpVVQ2P+pZpVfUtxiG5KVBJbERHZ2/O9/rIabqR7U3THxifNNuo+51+qmeyhj/cOVR6p/oa8tlt0X3v9j6qo5LHbFoZlPfpGd2z80RzX7MtV5Xvi9Ir6vKp/yd6b3aI296UyHqo7ecLZr2XzFdF9vanKNeu2/5vpx6xbpUAnS2vRyVKpCnVds1MBjgUAAAAAAKDDq/zuJgAoO/aJyDrHOk96th3gWDbJsSzfKDfXummevDRz/flwROdcnL1I/uBY5jPMsWzg69nLLrDznDa7w7Pccn12cq+gnDU/vW1NtJb+/6ufMqd5AmypSDv1303/j+yhI0bsQ20VttCohhItV6tEmgEV7SJ2EpSps1uKHx7/s5ayTv4aOVs6Q619oLu3rqj24ZdHq+XqPF6jQlTWb4vuS82M3UOfYn38kWZNffq9bOyP/t2pp8yd1dCpdYPCsp7xWs3WvZ0nekXbW4Ua1ahf0Lejq+nzqgew6dFg96loxX1V9Moq85ZqsJTU1CUfIgCUGzpZykprb5rSbmfD6dLcQKTdd5qwu9Z+3ey+Xfux7+e6MbSf37Wda99tHVIIAAAAlDs7VNleN9vhJq5t7BCjJEnX4a3pHLbHbYdB2SFMrnuIuP215l4hbe6rZi+aek/HOnaSBTtU60pTt/dPoxKOwX5uhl4365ifGgAAoKJN3PGvL4lt2rHyvhuUuOmg9WvqfY4Piz3UJq8tCct76dAGEfmVmoZYB7wM85RFzzI96TvmuMJktTufHUayyLVhcYReXe9YT+csItHzpz//HZ511PmtMrs6f4KqqCjGKSqp7Xlqlacb3fvNomeS+W5Y1Plh9D3SefZ8+aKb/luVVd6XWjW175d0Rl2Rg1Vkiz5bOrnvM6qs8+zYFDb/VOVVWwUAKg45WQAAAAAAAAqASBYAAICKM3zHv7nkTWrmi2DwrRNHJf048+Nh+eIwL0kkGKEmuvUINRWNCmqR43TEiw4EieRhsTNfqGNecGu4r3+HITZPq1mL9tJTGPfpYvalz4svqiftZfSfVFnlbnlKzb4WmTTt66ocF5F0tSqPDIv3/zosP6e31dNSW77vhB6C8F5YPD/62bt9Qc1CdEpY7K5y3eiBC2rG60gOFpFoqpwnXIcKAGWOThYAKDh7UWzHxIqITPds65rC2bV9vxyOJ21Tn8sY4gXZi1Y4EtJuyF4kje49rncMea56wbFitWPZTnc6ForId0c6FrqSDufy2RlzDADoKPTfvOXmNfuHe2rC9iLZfy9tNmw7hDHp73OaoZFJncY2B0vSdMu57t8l35yP+5r684517Lm93dTt57pWUBhcFQIAAFSc5gt034V53EV/mss/ffFtL9T1a3pfx4bF/7ulpVjzS7XK36J7Gq5mF3rw5bC8WQVNfFL3SR+pZrvJ+hz6hk/d7C2eHL7frSpBzFf1tt80+/LlZPGJy2HjyXfyZbU4MiGRvpG1neyjVVl3th8WFutqVVnHhcTdjOqyLzGpL7pHRGqDsHxEGNWyQUWyjFOrz1Od5U+bZwufVmVu+QBUIjpZSsr+sUvbg7nM1F1PuV1/IFuT6bq1T8DTzEqUduaiNDMHpZmByNULbffl2jezCQEAAAAAktHJAgAAUHEe3PHvwWpZa/KFpGH35YtouNm9ylcuCcu3zI3uSg0prFaRLJ/UM/+ceJ2q6IdI9iGTnm2nUZVVLpIP9fGqyJvEqWld76mHNaR9IHNjWLxAv78e2qjDfXQ+F5Ho569RZX28h6hy0tSzzfRDJt/QCH3uYr5fKvxEn62j9YiMX4aZWIbXqFmWRCJBRd/6r+3/nveyAEDFoJMFAArONq01jnV6O5aJiHzNsexBxzLXPn3DA1wX/2nzivj2eUP2ItdF8EfZi7Z4rvkfcSxb55i+86D/zV7W2XWKRET6PpW97NR1jhVdOW5c0XYiRLehPDT/R2pNLgAtbphLM3vT7Zs22ncTrhLU/kd0T6+pdkMnQ5UVuuIbvmLbUfX+8z8Vls/5l1pHT8Gs2fbvA0/Z13brIVU2p4TnHG95PCx3Ux0rj6uG80A1DEdEIp1Hm9Rn7PmO+z0Sc0m4jlFHTKtpmyPzQduGXI3pej8sflyv8kudxlb1xOyxMLorffjfNP+iBDxDAkVE5HpTd33fkqLNF5v6zITjScrBYo/JdVybcnxP+30vRI6WuM5rkewEdjYHix3ZsDr7LR6/K1q3efKm1kq8pN9dUr0Q0uTcKT9M4QwAAAAAAFAAldEVBAAAAGXSjn990SdpZ67wLY+LzPBFr+h9qaePPwwjM+4zEW+rVFnP2izd/stzLL6ku+b9G/VyPRva+aocN/wlTeJbX0SPpaJU7gznjV59TLh44DEqeuX2GTH7mhQW9cn7rH56r+ZQjhxX3NN1/Rnt0CkXe74GhsWDwuK7kdFOOhLmx2FxjtmVjkzcM8WhAECZIZIFAAAAAACgAIhkKSl7+tPOttNo6isd67hmHBpo6q5xeHad1uZtSPPVSpvXIM3TuLgnUHHS/A74bwIAKDfNf5t8f+/S/u3S2+ttunvWidtGL1e5PH4SFv9p9qQnGD73U/oVHU1hI2ma2TwJ3w2L+6vFT347LI+cpV6Iiz7R1xrqeuk0FT5y/Qj9Jqpsz9f3wuI5YfEetcbA5/T6MRMXP67e/7Nd1Au+nBK+3FIi+eWXsttOUW85r6V4+CC1yk3h1M5yoorWOfF/oruaUB+Wn9nx72WtOUYAKA3uHgGg4OwFtk1WJiJyu2fbUY5lZzmW5SttklvfDZxjuSus2yZZExFHKlrfqpFBAs02O5ad8Jhnp64clae6kgv/0bMDAAAgIiLbOkXrnW1iZlfSWZu4epGp2w5Cu49TTN1ev9jOVlei7IaE97T7sJ2I9j1fNHV7EWITBIuI2KT79sH2o6Y+3NSnmLo5xrUmya1I9nP4v5n6VF9S8WaF6CrI9UG8vfLzdbKXNzpZAAAAKk7zhau+lIu7rMt1FqK4WYd876M6MO9e79zVNrNFJB3H93Xlp6p8pee9B0R3dqNK+KIPPxI+48snY8+PWu8tFT2iI2TWqi7j/nHnS0UX7x4WR+tVDteVmN+VznFyoD4XV6uy7piP+374ZlDSPHl27L5uOSAs61OhFr9zUlje7XNqRqGeJnJnr5vC8mHNN9yOG0gAKFPkZAEAAAAAACgAIlkAAAAqTj75NHLNmxaXG02/pqJP9vyZc6+n9jIL1CQzcmJ/zwsefzZTFf1IlVUEhZyhV4qLONE+ERZ/rxZfoPOg+ELtTV68H65tKa7/33DxEL3OMF1Rv59lGYmYp8pbtoTlK/UOfJ8rLpppkyrrIa6+GZTMvtSMQBsfD8u9m8LycrX6cUeoyk/MZ9TRQnZ4AwBUADpZAKDg0jStrvG6ccsL9b658l2sj85e9NHjWYv+9Zfs1VypukXC/IbaYMcyV+6Wmjfc+zzAmatluWuhQz43scWUb+JTVLa0nQb6+6DzCfT2rJOW5/s3UvUmbJ6oXrBtRz9V/r7kZA9T/7wqf0GVu/5cVXzDXxqj+3pWdWDcoJZHZldOmQxKddLokUtV+vj18ercDXomaxH519aw3CPy52KMKvuS3cZ9PxpVeboq6zf5uiqb78qHYVG30V1eDcvH6dFd//SURUQ+e2hYXnl/1pGihDrfHa1/YDrIdrE5WkSSc6xYSXlCrjb1Wc61oiaZetIxbTJ1+3/HJs2eauqOi5/I/1GR7Bwttv2z+fhs23lbtHqf4y2XmPoaU3+8R7R+YJVZoUniFWJyEvt6XELyysFwIQAAAAAAgALgMVdZcf06XFMx2+fA1Y51hjiW2Z7Db2Sv8pJJLPZh9ipSNdmx8AZTd/VCxk0B2czVA2qX2QzgItnnzrWfNEn/KuXJNQAAIq27lOuZYns9w4Od3UH/PfUNIdEzZzR51rHvH/eezdST05FPRF8aOV5VdJSJnaXDpV+0Wnt5WN52QVh+VIWSjPmH2kB/DvN09wF1iPph9lBV3utW97EcE91VDzUbtYx/x/P+vt9p3LlXT/rvVVE8L6hIkhkqLEXOju5KXZr2VYsjV1V6RNMSbim2AAAgAElEQVRiPezKPJGXg8PiUbtt//dCAYCKQSQLAAAAAABAARDJAgAAULHS5uTxraejLvQ23T3r2PU+8KynYxjSTjPti17xRbgMNOu97XkfX/JWzZ6f88PiYyqyIhJN7MsFYT5jNxVxsuow9YIOU9E5HdSxnPdZs+8H3etFzpH+jL7flYjIFaqs8sisUZEsapZq2Udl3f2YzsArkdOi82vptDMj/6A30L+rGC+kWw1t6C2Vd6Xr+9HXPkqzAxslvtjUbQ6WpMjzmaZupnJ3Zn6zx5CU9+VBU59m6ieb+kRTd+1/tanb5N4258o5pm4/537R6tCnJMsfotUnTYqV/c1bdvv9+uiCE+3oAdt+2vPqygeVtI7dp/0bkXQM5YlOFgDokFwXMa4/Cb6Lna85lmXPJvKeYy3HZYCIZOc+FBG5x7Gsr2OZK9+biEgnm+RNRIavcFwV2vuYnKU9nz5pLkx8+FMOAABQLrgyAwAAqDjNHXu+zjjbcaefour8I2nyd6Tt8NNPGH0RMjriwr7my++io1eWqbKdMcQXseI7Lv202j6J1g5SZTtDSDPfjE0i0Zl7/urZ3hcFZJ+o6/Piizzysb9r/Vh7kSp/JizqCU/0xGzmIfuHKlWNDj6JdIpHpu/2fQ7jhObcOBf41wGAMkNOFgAAAAAAgAIgkqWsuH4d9mmISPYYPtfYtOWOZU+b+mPZq/QydfsARUTkCTvpuojsv3u0XjfCseG9pp7mqYuIyH+buh2DLRJNWS/iPm8u/BcAAFSiTTv+1X/vdCSH/QOuIy3039E0USpxswP6tvfNtpP2b7/v77OOOLFRMb59+45X5zhYYLbRORh8OU6UFSpm47N7mBf1rEf6+HVOF31cH3jKIpFruYaxYXnqGWqd+aqsz5G9NvquKj8bFr8obiqVxmaTJkHnYdlHlQfqWYE+7tlvFv2Zv7fjXyJZSqZr4H+t8ztmwSccK71h6g2mHjfrlet1u71jXHCipBlPbWTb9aZu78WWmbprCLC9fxkZrb7ylWh9b9uOmM+57f5o3XXr9z/Rqh2ubX8zE64yC078pFlgB4HbfCmbJFuNqdv71ricX671KwN3mADQIaWZ0lzE/2eiX/aiw7tlLdpDtmQtc+VeERHZ4FjmCuC3t1Ui0Qv86PtnG361Y+FnbWeuiMjXPXvNJ3+KD3+OkavmC891ntftHW2tKqcZIqQvnm3nxUVh8SWVALWPDpDWF+Nx/z98HQppOm9ak7dI//+tUWWbTNNHbf/WbmH5DrXK316PbvIN3eF1hySLSxSs2iU9LueDX6tNfqVe0B0rG82+dDuubhp12qrjwmLwSFi2ba5ul4+rVhXdiI/XN4X6c+nOHpHoGCUAqDwMFwIAAAAAACgAHp0BAABUnOZIFn0pp6MWHNFmTr6Eqzp65ZLoJt9S0SsqgEKGqBCIGzuF5T56SIG99EwzvbMv2qU1l7FpEwX7hu+o5d9Wi/VUaN8T4zC7wMGXtHdRdLW1j4dlPbO0DhHc2xVtl0QNMdpLjTvYGobLvKnWVqlxRcQ8tdV5gsd3UZVD3G+9yUwH3XNXVfmmexsAKGN0sgAAAAAAHHzDCEWyhxLaLB8i2YN8zzb1YxPe3+ZDOSth/VrHsmdN/Xemfpqp287Y2xPe0x7TOY517GxoJsfK3iaf5Vsmg8rOZnM79trRf/yvl6P1F8zrNXb9x6P1Hrdsiy44wb6DzZfiyp9ic4ION3V74PY7Rk4WAAAAFIVrCmddjovM0HyXgirL6cy5kVeeudb9Lr1WhOWq89ULv02bO8UXVZMm2sXyRbz48lHZY0wRMaOTPul0JzYP5xY1YUB26qodfDcSJpGkvu9apcqXftWzvf5cNvGt7zOqG9K/hHlnuo1Sq0w3u9JhLkP1C/bmttnosNjzUPOazoeVb74rACg+OlnKnutiIE0PnytdpA1XdYQSv3B8tL579irO5P1ZswnZaYpE5Nke0brNYC3i/ltq//ZO/U/HSq7Pa7nOZZr/Au2jRxWISnvh6rshcf3fyZ6OrPMx9VnLajx5H21KRhGRJsey0Y5lPq5nah/enL1s54v+I3thrS/xrevctbZ9ac26ad67Ld4HAAAASbjaAgAAqDiuqTLTdrj5IkZUWP/lJ7YU71aRKyIit6qyzs1xnyrPUdH4md/GRYX4ZhTKN/dKmuiVuP36XlPnbo5arCd5ss+Z1Aw9ct+jqjJGlfUDHX0edEiQiJyoZuK5UU8DNF+StSK6qev7Yfk/VJ6dwWYTHVVz8mRVqVFlX26dnmZn3T3rAUBlYHYhAAAAAACAAiCSBQAAoOI0Rz7oKIC43CW+2WvUTDIypaUUXBgu1ZErItG0IHuq8quedUbKD1TNzhaTa66YOL5Zddoor0fXk8LyqN+H5S+b9SKHdakq/1GVfTlobCTHh2HxZN+B+X7XcedBH6Tne/SVcWH5poejm0emG7rRs1+dAFW/h41k0bhVKT39O7AJYG3CWDvEXiSS30lERDabuk1se4qp26SyixJed+UBsm2DfQ87EPkxU7fjjBtN3X7GMx3H8KSpjzf1F03dJL7drXO0/r5JSutI8dBj12j9zfei9ZVm/WF2Bxeb+glfNAtuNPUfSLYhpm5zQ9l6+0jLQMsFAB1Sa4YVaK4/gjZjvDhn3zzUk5Nlg2OZKy2UnadAxORZVLY5ltk89yIiI3/vWHh5o2ev+zqWuf6cus5xLsMW8v0TzZ/49q1mx7++/6P2Zkd/9/T/IpVL6ftbW4p/UGu8bvakBpBEbkU+rsr6//PIL18QVn5p5zdOMXQpMnzEt76r7qL3G3cx7/v/o5er8UInqUZkN332RKT7F9Qmd4XlK33vHfcZfevp49KfS//e7XclbQdMMzVry4n2/CxIsa+/qrIeU1Vt1tPfXdoxAJWn5MOF1q5dK+PGjZPhw4fL+PHjZd26dVnrfPjhhzJr1iwZPHiwDB48WBYtWpTqNQBoRlsDoK3RzgAoBtoaoLyVvHt4+vTpMmfOHJkyZYrceuutMn36dHn44WgI4sKFC+Wll16SVatWyb///W8ZPny4jBs3TgYNGhT7Wvvg+hXZsKrW7ssxL33/wCxwhf31cSyzz5Ydz4qvMfU/ZK/i/Gg2ykz+27GSnTnJzkUvku5Js2ud9hG21tHR1gBoa8VtZ5oT39qA72YDTL1GlfUNmfr7/bew+IJaw0aZ6SFCOnpFP7lTu5Le6v5tzLBMdGezdVyMvubwJT9NG9mRZhhSmuS49jW9jYre21sNHdIRHyLRX8WH+oUUQ3Rij8U3ZbfveOOuZ9Kcu2s9yy1fgtupnmOxQzW47krCNQ1Q3hI7Wd5991352MfaZizryy+/LM8995xMmbJ9DPDUqVNl5syZsnHjRundO7zbXrJkiZx77rkiItK9e3eZPHmyLF26VAYNGiS33XabzJ492/kagMpBWwOgGNqqraGdAdCsfV3T+IYkimR3Tro6yGaaeqOp27wu1tWmPivhGFy3t0m/C5tLxD5kttvbzm3bUdhdstnjvMHUX4pWux4drT97Z7Te12xu08iIyDsmB8tE87rJrKQHj4qIyAkvmwVbbonWu33frGDzzoiI2CGiln1Qb89dmt9v+Uk8ypqaGjnllFPknHPOkf3226+gb97U1CRVVVUt9UwmI3379pWmpqZII9HU1CTV1eF4zerqalm9erWIiKxfv977GoDKQVsDoBjaqq0pfjvTfOOjL1B1wkcb4an1U2V1c7A5DDnVe9WRKyIiTaq8hyrrIA19ba5TQo65yuxstr450RfoG1U5bQSvLzJFL/clhbUX8rlO+/zjsPjS3tGX9EiMSIBRmpvwuBsMnSjTlSsqSdrcL818eXLiXtvFs85hnnXaB65pgI4tsVVbuXKlXHvttTJhwgQZPHiwzJo1S77whS8kbdamgiCQTCaTvCKAikFbU2yuGwjXRXaeF7+f7Z+16IRPrHWu+sIb2cuec6znej5k0ybGed+10DV88XLfhfF7nuVWW9w4pE1YDJ9ya2vadzsDdEzl1s6I0NYAxZSY+LZXr15y4YUXyvPPPy9f/vKX5ZxzzpFPfepT8sMf/lDeeeedvN68qqpK1q9f31IPgkA2bNgQ6VltXq+xsbGlrntm7WuNjY1SU1OT13EBKD7aGgDF0FZtTfHbmY0SjfYQ2T4BZ/PPLubnLfXzgfqZGv58XFp+Xpfwp8n8bFE/b6ufN9XPH9TPx9TPa/8X/ZEvPxX+RPRWP5r+HJb9zM0/afb7sZQ/G9VPg/q5NPy5UqI/t6offSK3ZcKfyO9kkfqZE/35ayb8kYvUj/Zv9RPnXfWTRnf1k/Y1/bn0Onq5pX/HuRxf+eCaBujYUj1m27p1q9xwww1yzTXXSL9+/eSss86SBx98UI488kh58EE7eiu9Pn36SL9+/aShoUGmTp0qDQ0N0r9//0iom4jI5MmTZdGiRXL00UfLG2+8IUuXLpW77ror8TUAlYW2BkAxtEVbQzsDQGs/1zTLVXmqeS3NraTtJDvY1JtM3Xa82RwstoPV5oG5PsUx2ONOygtj39NmN1ls6q7OQ9uxO9/Uv2bqn4xWa+81r5s8MF+6P+sdd1sSrT+3NVp/1az/F1MfYSKM9zvfrHDNT80Cx6QqWefeRk27Om0rX+L/jHPPPVcaGhrkmGOOkd/97ncyZMj2qV5OOeUUGTp0aN4HcMMNN8gZZ5whl156qXTt2lVuuGF7EqBJkybJZZddJiNGjJCZM2fKM888I7W127O1X3DBBS2JmeJeQ5I0s+24hg84Yvqz/gP1yl6l+5Zo3Q7yFhH5f45lh50Qrb9yS/Y6nzQhmJ0vd+zIlXgpqdEVqdSES5WGtgZAMbRlW1PcdqY5f4m+cLcX/pov54a6QRkXFj+n7rdWmS10HpbXVblRldWuIrMT/drsa47KV5L5hRrKsIseLKhzzbgu4pv5coz48rPo5XE3Amq9d1S+FT1roppcaL2579D5KE/4bVj+l5qsp8dJncTJBivpgJ+F6myesEa98FdVjosC0Tc3aWY60ufL3nR297zm+97F5YCp/NmFuKYBOrbEu8Xq6mpZtWqV9OjRI+u15cuXO7bIzYABA7KmHBMRWbZsWUt5p512kvnzbW9f8msAKgdtDYBiaMu2hnYGgAjXNEBHl9jJct5553lf22effQp6MAA6LtqaYks7tWS+U1A6nqwf6058+zU7m6GIXOFY7yXHMt+z2oFp13UE38m9H7l3etjZjoU/dixzhcDmGwmXJtoOcdpPW9P8f6uf5/W474UnOuGYsDj0wrBsJyfVt3Y6/mKAuOlU0XaQhI5e/6baWbez9w8rC/RUpjqSJS76xBeZIZ7lKaMnvh0Wn1ERK/t+MyzPNZvoWZf2VB9YZ0z56PdheYRa/k+zLx3YcrRuIIep30r/29ULcedLf0d8bb0vCiguxN93LtPM+GS3r8z2rf20MwBag3EPAAAAFae5c8U3RCbtJZ7avm5uS7HmoLA8ygzUf1OV31bl3VX5f1RZDzeyHTF3qrLusLlAp1VYoIcL+W7ULd9raYYUxezr0bD4R7WG7vzYbLbW3bV6tI/uYNIjqJ+IORI9PCsyPkv35MgkVX5AlZ83ezsr5p2apT3f+WxjO2Uqs2Ol/doUFn+1e/SlMwOz7iLJZr8DNgeLyT2SlSnEst8Xmw/F5o1xbWO/Y+NN/TFTt52K6xLec47jGGx3tT1uKyFvzKPXROtXZe9h4dbsZZrtdh1m6raTd79/2D3YPDHfdbxL0sO6pJwtldldkTi7EAAAAAAAAJJVZtcQAAAAcqAHp3T1lNWYl+lzW4pHm0gWPQxPJ7XVESv6Cah+52fMUX1clXUEyGI1xmjad14IK/P01nGXsb5oiLSXvp71dg6LOvpEp+k9wGyiI3R0JIseRqUjfB5SZTtHgD73/1LzEPQYNEO9oo9dRwHFPVH2RPjM3y0s60ezX/mJ2d7OAJMPffyuyAgAKG90ssBozVRsItl/uFdmrzLrU9H65TOy15GLHMv+Gq3u7QrBs/kQbnSs4wo/tFOP2XHBIu0hyz2QLW04ti/biev/hWvd9GHfux2Vvexzjhkll2Qvygo+bjbOsayzK/+KnVlRROR9z05ljWPZXx3LRqZ8I5H058nVRvOnHAAAoFxwZQYAAFCx0l7KpZmuV3WenhEWd9bhKiIyUOWkHahCVg5XUxL/SPVFvqy2tZEZ+hGN7hSNZGnQqQfmxX1eX74Vn7jcIZ5piA8Ki/s8Epb15+pi9qRPnwqEkX09R6U/+8fNazoqqMeu+pVrPWvpPA62c1yvp74fT6qptPXBq9979r70+dMZatJ0LMdMB73ty57tAaB80ckCAAAAAHBQCZLPtMmS/23qrmTK/23q+5m6TRXdx9TtnII28nOaqbsSytp17C2wTXR7sKkvM3XbRbra1L/hOAZ7XHauNfueJqnstvujdXtabJZaEZmxa7R+/XvR+v7RqvQ19TEHmQX/Yd/Bfk5Xp6r9fdl6volxyxOdLAAAABXLdylnL2T1er5ZddTF7C5q1pBLLzH7+qY4fSOMwfhCZltLWd9+2EgWPfmFnoXn03qlyMQeH3jKItHP5YnS8G5vz6PntaFhUd8K6tGF9l5H17uJm/68OofL62a9yO3F53RFR4P4pleOiRjRn1ePyfyqKkdGgscNpfZFr2gpp4O29/AAUAGYXQgAAAAAAKAAiGQBAOzg+pOQS1imK3mrDfuV6DQamiPR7AjHan9xLNvds0vXQ9C9BjsWuo7pc45lIiLyCceyBscym01BxP+E13Xu0ycNdnNtz5/99qM56sT3fzRtiLUnJ0sk6uH8lPt6u6U08HthPMb3rwjX2GuP6BaPqlCNMeq1LTqEI/L/szU5aHzi2jfP9qqd0gMGjlVl2+7opk3PLqRPxZkqkctSFd5jW4xIfb6u+CJLdH6UnuY13UacHBZ1E6dTvXyoykfb4Rc+afLkxAwn2Kv5r8BTAgCVgqstJHBdpLv+SNr1arJX2TswC9LeAEwyddfsQjYE1o73FHHP/jHB1G9LsW9mGwIAlFpSB2jav1W+ITNpt/ckOb380JbiXnNULoGHo1uP0fM+q86UbnpEkk2X0CLuMvZsVZ6uyjrJQFxHpmffZ1a1FHvcvr6l/Bl9jLZ/pjEsblA5ESJDooaFxTdUQt0as6tIioWqP6iK77OkGbojIh/cEpb18f9Dla9Ot6uoNB319lzr+qU7/v1Ca94cBWe/Z/bL7noI8YapzzR12y1pk43keh1u7xtEsvOhmE7CLZlovdvROb7ncFO3eWhERCaa+sWmbo/x2Wi1sxls2HdLtL7C8ZYmjcuIY6J1mwWmZqxZ8JBN4/22xPPNSKnZNiHpgVJl5GCxGC4EAAAAAABQAESyAAAAVCzfU8DWXOL5pnaOSwrre8p4X1jUD2CPvD262pEvut/nka+E5VvVKvqJczcbIavpp996xpPrVXmIKtsn1b4In+fD4u3VYfmHaqJqPU+ziIj6yAerp81v6nXUlNd6VI4dJBMdQrlIlQ9TZf070b9T+11Rn3kXdZI/f3xYntHffZCxiZXTiEs6rNmn/wBQ/uhkAQDskG8OEFc4rWMWku9+3735d7ZmLer2qezVzv6/7GV77Zq9TESyb3ZETIz+DnbkoIjILpM9O7VTN4q4P3upQ1z5Ew8AAFBsXIEBAABUnOZO0bRTOOuIBt0p6ItY8UW12HqaBLP6WI6NeU3td5aKZHlQraLngz7QfkYdJaNykTy7NizX3qjW+Wn2obqOxdsB3RQWz1Pn6zWTilsFuQzfXy1/RpVVrpb9VdJf/dFFRPpGastVWXfq6ige/buOy5egIkb6+CKE4r4TvsgU3/K0tyDcqpQX+x1abuo2/4prG/sAotbUnzf1pHwoaXK2JCRqzoqKs8ds38Mmu7f7/3r8+4lIdhr/8QnHMDJaPdCexybJ8thVkepQm+R/lqnP3scssPlx7DHFtQPNkn5/Sf/H842aKw1ysgAAAAAAABRAZXQFoQLZHl+R+PHOccvsdvMd6zxt6pc61nFMJZuVDfxexzpTHcsAAChn15v6aZ71fFPstmb4oN5Gzzqk/257hgva7fdWuUCeUZEokcAZe4x6dg71VLhWP1NME2Vh+SJ89PlS1yp2Qo5RqnxiODuRHBvOTqRDVD7TGJafMIEB0UgWPYtKms8SN4TR97vfxbNOnLTn1SfNDCUAUL6IZAEAAAAAACgAIlkAoEPKt/lP+5Tb9eTTkwdh8Jezl/1n9qK99nRse4fn7W2Qm4jI/o5lw1wbH+zZ6UDHskbHMtdnz2UmGP5EI07z90N/px5VZR1Jote3fBEMXT3LRaLRqjq0RL/HOs9x6eUiIv1UWUUw/CyMXrlNRXNMmaFWf9DOPDNdlZ9VZZ2s+seSjj5/Kr9Lmv+XV5r6r1X5b2H0SqNqt2oOCssfqs9rsrvIwEhOhW94DsAXcWIjRPRnrPFs49s+LqrFl//HlyvGKnXScPjZ342N9nZFstv/M58wdXtNsNjUbR4newxJOT9EknOJWPZ1+55xOa9c64uILDN120bbbWwCFZsHxrR/r1wlWewu/mbqXc8wC35l6vb3aY/Rnqc0vwu7z6RzXZnXQpV51AAAAJDoBevNqmw7CdPcIPsuC+0NhC/Zre5AOcRTtjcaugNEHZeanfgJtcaUF/S2+5l96SFR+iboYM/yuKmoe3vW8ww3eqdTS3HtZdE96T7g3f9fWNZn8U2VA1NP2xyZ5lnE3DSNsa/uoJOR6hsx+xn1a/pm2TekK23nx79VWd90+Tr07A0rnSwAKhvDhQAAAAAAAAqASBYAAICK9ZgqN6ryd816vuiANElK40LAdZRLvxTr2Agbz3GpIXyfX6mWfy1uW9/x6+EGvuiVtEMgdeRQr7CoPvq1ZgsdfDNOld9XZT2yUUev1Ni3j3x+35TKeriFjhyyU+X+TpXttLnNfOclbniE/r74hl1p9vf2lqcMAJWBThYAQIG4LsZdf2ZOcW/+/9u79yirqjvB47+LAWMl2EhAiEJVdUKEoqgLRaFQkBkbjBCDREtUGlsGlo7iM6ZnAibpERC0mUnWxDVxxAdti3k4QUXwFcXY+EBHwAmrMYZGoukqIIKKJj6CYAt7/qDrnt/91dnnnnvrvuv7Wess9nnts++5pzbn7LvPb88JGznMxlwQ6fqSsYicNy88zztDlo0MWXZc2ELfg+WgkGVhn31AyDL+2wUAVIuoEb462cY1M2RWl9gk6818pngocf5ftXlMMfMbMhzDso1/cUZQnW7m/2Tm7efYY+bt/ZC5Z/riDV0POSdstFXNnmtb7kwxVuxnCGNfL40Tt6XycbeHAgn7A7KVqO8XDStOZWp/PftJyDa3hSybZOa/GrJNnGBWAAAUU+f/Tbqngo5vEnUj6wtAGrc3h29YX72/Lziujbw4JvwQrUHyP+igLDrAyQJPEG0RSS+jrzeFLmPU/+06L3W+rjmQSv7jm8Fie9egh12+WqXVLqI76+jY3l2i35zRpmZ8ZdbBKz+n0vZ86etFR+u1wUw7RQ3nrNf5Yvbo6+NhlbaBTXVsH9svCADKHzFZAAAAAAAA8oCeLAAAABXnoPlXRORklY66xcu2R2ZUXr6YLr59PD1X7D66N38flQ55WzCc7qXi6zkb1dtHfy7PyEyq+4mOu/IFk9NZKn3c5UH6y+1Buu9TQfpE/ROoHcNZFnUp6VG+XkTjVNp+Xv2qQIdK+767qPg9cWL76F5XvhGQRNKvkc5huW/35AkA5YeeLAAAAAAAAHlATxYA6JHiBqn1Cds27v6+X9H/KWRZ2Lv9NuKBiPTxBNO91sZdEukaH0okuyC120KW1cXMMxvd/Y5Q3TqvBRtMsZP9O/P0xgjNUyS30Xb032ucY0Qc55SbgvSX/pvafVVEXpqvl0q7SutzMsJsp9d58lJ/9gNfCF0sIiITVHwZmazSlwbJ7Wrx7iNBut7ECP1C2ihAo8LLlfY9nKfSvzXbqULLfk9ecXqo2O18x9B00M6ofO33guLzxXAKE3YdnJFhH/t/5dwM22eqQ+L8P/lUhvU2Tzt/XQ5lsNvY+5u7zfylZt4G271aMrP3S/Y+y8bIsr3KMn0uX/ylKLl8X5WnOj8VAABAVet82NGNLL5XXETSGz2ybXCJ4rvJjvPKSdR216tN/qtaHjXssq+RSKfrVfpClb7f5KUfJvX52hQkjwmS+iyca1tZ/q/qOL5XtaCMD5KfeyZI61ePWmpMXmlBYn0NQfrz6odBHWxWJP31nbDR3Wxe+vzGHRTgvhjHiJLLQxwAlBaNLMggTkts2HZh28QZTShsKDD7H2zIr9ixhk67PmSZFZY3AAAAAACZ0cgCAABQseIEm7WyDXybT/kMomtf/dOvHcT5jEMyb9LFc0Hy/CA59zdqk63Xmn3U8MhfVJ9lQ9DlZXciGNB5rN61S0eOqGGUw7bR59QOlXyOZzudjtvTaY9K6/OqA/X6yqV6B4lIerBeHlUAVB5qLgDokeJW/7737OP0KPMJ67EmEt4t3L6DnM1xREQ2hyy7OWRZ2PvZz4UsExH5csiy0SHL+C8WAFDp9P+5d5p1Nm5IWKNcVHyosPWZXim818zbmGxrQspgY1fZPFeb+VkheWj/w8wPM/MzQ/axx7TxUOy5tOchamS2sDKJdL2vGm/m7Xmx91yFaJAnJgsAAABQQNkE1RRJf0CzPVH0zXu7Std78rJBHn156QeNxUFyhgrKOvmv1TY/Mnl5brc3Bb1X2tXi8/4ySLt/Td8lEZ6T+OPsxL3VjxNDxxfkWCQ93srfq7T+jnReOiBvvcnrxyp9nwBApWEIZwAAAAAAgDygJwsAAABKRPde+VaQ3HVrkK6drba5KyIv3yhCvt4YZ3i2EfHHD9HL1SsFn9+hltvXB3W8EvUawS1B8kO1xRX3fWUAAB7RSURBVG9U75XhJqc+3tgn+byl9/WKiRrpR79eqWOs6PgqeohaMzZ1GvvqBQBUFhpZkANfjAYt7NKy7/mFdQuOM1Rf2PuBNu+w48e53EsZDBAAAAAoJ7pxzN6n23vrXO6j7dDiNk6IZeOl2DLsD9knU9yXTDFYbCw5O2LpHsksU9wXW6afZ8hvm5kPiw1n49VkehbKJuZdrnrGsxaNLACAHHQncG42/8EW4r+pvwtZZm9WRPzlDBuOPmxZNmUPO0/8F42eQF37L6reK2nPXf8nSP5Aj4hjH1L036yv94nupaEfGKN+QPLtr5erXiWvbE/f/Scq/a17gvTuIKnDUeq9m461ZdFBPXWgTP1wFOezi/jPl2+5L18Rkb9Q6QkSTh9f99GxAcptcFUAqCzEZAEAAAAAAMiDkjayHDhwQGbNmiWjRo2SpqYmefzxx0O3W7dunYwdO1aSyaQMHz5cbr45GH5z1apV0q9fP2lubpbm5maZOTNsyCwAPRX1DIBioK7J1dRg6ifB9IPjg2mwBJN8X03WR2r6jJq0AWrSPmOmT9WkfVZNevuOYHpQ0qen1fQbNanPO0KC6QM1yUAzpR1fT77PEvczxlmuj7fPTPoT+M7ddcH08cpgemVL+iSvqemgdO2B07NR1wDlr6R9kZcuXSqDBg2S1atXS0dHh4wfP162b98u/fv3T9tuyJAh8tRTT8mAAQPkgw8+kJaWFhk/frx87WtfExGRqVOnyv3331+KjwCgzFHPACiG4tc1nQ+wFf5a2cfPBOm0cA+nB8mRj6rleqhg+xCvX5k56Nkuzms1UXyvz3w5SNrYvF9S6RdU+t0gqa+SgXrfi+3x9StC2X73YQ1GYXS+viG2280+/8Wzv+f476nFA+12uQxB3XMUv67R15y9hmwD2DmSmb3u7FDq9juPe912mh+jDFameJOZYkbaRtswUUPGi2S+1l8085PMfFhcGZtnphiWmWLX8PcYV0nP1Nq1a+XBBx8UEZG6ujppbW2V9evXy+zZs9O2GzcuiEx+/PHHSzKZlD17ggBDzrniFBhAxaGe8YkTwFrE/99E3P8+wn6B9AVWC9s27GYqbtl924blGXaj6YsLcHrIsjg3WFG689+x73xwM1RM1DUAioG6Bih/Jb0D6+jokLq6utR8XV2ddHR0RO6zY8cO2bhxo9x2220iIpJIJOS5556TZDIpNTU1cv3110tbW1tBy41cH3rsg5VtTQ3bJq58RcOO+5CHSkE9A6AYSlfX5NIbo4wcp95c33ckSL+heq9M1DvEHXZZp32BXH1DFUfxHUMFb7U/en9FpX8WJD9QA5LokkzR+54ddXzfZ/GVMe714eu9oo/31Zh5ea7Pkyer5W/EzAsi3NcAlaCg/xuPHTtWdu/e3WV5IpGQffv2ZZ3f3r175dxzz5UVK1bI4MFHR3KYMWOGXHTRRdK7d2/Ztm2bTJs2TYYNGyZNTU3dLj+A8kc9A6AYqGsAFAN1DVD5CtrIsnXr1sj1tbW10t7eLslkUkRE2tvbZcKE8GHf3n77bZk6daosXLhQzj///NRy/f7h6NGjZcqUKbJ582YqCaCHoJ4BUAzUNYXy4yC57ZogrZ8l/+PfqpmonhnZ9urJJfaHr+fuRUHymdvTV33xFLXZzlTy+A1qm7eC5O/V4jG2g4INw5CSS49e32fx5RV3OOhNKq3/BvTx1GuX/6Li8oiINOigxnFifFQX6hqg8pV0dKG2tjZZuXKliBzt+rZp0yaZOnVql+3effddOfPMM+Xqq6+WSy65JG3dW28F/yvt2rVLNm7cmKp0AIB6BkAxUNcAKIbyqmvsiFWZRr6Kk8enZrLrPzKT9aeQKdMx7WTZMu0xU6bP8KkcbbzUU6ZjTDLTIjPNMlOcc5/p+7JlQK4SroRRjw4cOCDz5s2T7du3i4jI8uXLZcaMGSIisnjxYjnppJNk/vz5smDBAlmxYoWcckrwS8C3v/1tmTt3rnzve9+Txx57TBKJhBw+fFiuu+46ufzyy7scK5FIEOCpoHKJPp3PmCz5Uh0xWbjeA8WsZ0Q49+hZuN4Dxb+n+bd/n8ulU7Kvx0cuMUq6yzc8b3eDbmd77Fw+r+88LjLbLQ2SdyRSyQ+uDC+J7tcx62ZJ9/2P1Ywv1oxPITuwv67SuhuS7mGhj39bkNyvejCJiAy4Qc0cPXfUNYHSPj9lus66Wx/FydM+P9hnh7BGlUyjA1mZymRf2xqcZf4imUdRajfzto6yAffj1GFRPdDCymBVYNyvLOWrrilpI0sxUTkXGo0s5YTrvXQ49+hJuN5Lg0aWQhybRpbuoZGlGtHI4kMjS7XKV11T/WcKRZLLpVTqBpUwldegAgDoiQpxC1eK/wNzGf3GpzsxWeLmG2fI9C+bdepVjTeD5PFBWAzpeC9Ipz2+XWyP4yuzfniKe3+VbSNT1PnVxxwQsV2nq9XmZ5h1w2KUBQDKF40sAAAAFSvOcLsi5XvL5xuS2LeNZrfX58LXgOD7Rdv+Ou4bAjpOWeaadaoR4cA9qeTLqmFlvdp6nN61Nip8YpyGlaiGlGyviahGlmx7CmgjYh4T5SdTz4gw9m8t07VjrwF7rdv1ca7Fu838pWY+Uy8Te4w4f0v2XPl68XXKtrEx7G/Flst+P5nKwI/PuSpp4FsAAAAAAIBqUa4/awAAACCjXH5p9PUeKfVtYbbHt9v7ep/oX511vIbPe9KWPke+nkNRVLyGk4KkHqpZvyL0od714iPpWf0oiOkiJ65TK6ardKG+x6h84/QW0vQv6FExN7rTQwYASoOeLAAAAAAAAHlQ6p8sAAAAkLO4owP5eqyUU6+WbI9v4wnECaLr6xkRN69celao/R8Okrs9ueoeLjt+np7TiHfUzHqVmfyFSo/x5BwVPyPOuY97TXQ36DC9V8qXvYYyxUcJ02LmX8u9OCISL8aLLbeNm5SJvabtCEb2POwIycPGHtpj5u1oQZY9Zi5xYaxsRxdCXPRkAQAAAAAAyAN6sgAAAFSczl8c4/RKiVqXzyGUc5HtL6f6F+mofX09JXyf3eYVZ///qdI/8BflATWM0MQgef7zQfof1OY6PstjJqsRuvvLi8FIRTLpdLXirzwFieo9ks9eTNn2QopbLgCoDPRkAQAAAAAAyAN6sgAAAFScsFu4qJ4Z2j+r9Lj8FCdn2d6K5jKakubrsREVW0L3LRmi0rr3yItBcv+j6VnpOCpnBcnD/z1I/0Zt8iWVtpEkNvxLkJ781SCdcM+prXS8CR3HwcZw0J8x2/Ma1VPKt10uvaZ4VCm91So9M8O2d4Yss7FG3jDzD5v56WbeXgP7zLzNf3xIGa4y87MyHMPGebHs9lExnXxsuTP9DWaKVRRW58ftodfJljvu3zkszhQAAEDFivv6i163TaVHqXR3GzC6y9cwFPd2Nc658H3GqKCwumFFNVp83Bqk9bjL+pUeEZELVXpA0In89xIMz6wbVrTfR8z/TqXnp706dIlao1piyuqBKerYvCIEoLLxuhAAAAAAAEAe0JMFAACg4oQFvtWibvEGq3S2w/j6yhG1T9wgp9kew3bp16/8xNlHb2/LFWO7W9Ri3TnoYpNVi1Mz/yuVGijfTqWnqS2eUGk7aKv41r2g0pN+pGZ0T5aoVxyy/V4K+boPjycAKhu1GAAAAAAghI1fEuXSkGU25op9HeycDHna7QeHbhXYnGF9HDZGk32d0JbBlnFYSJ6Z4qNkep3PlsHqbgN2GJoKcsWZAwAAqHr6ZnqQZ5tC3Rb6esvY+TjDJmt7zLx+sPF9Fv3wpB9a7Pb2IauTKuP3VRTbX6n+J2f+b7OPLv91qdSYC4OeLLI+SD72fpCuMzkNVekxeoWOA7NrbZCu9ZVDpPQxeACgOhGTBQAAAAAAIA/oyQIAAFD19C1fWFf2fOSbizij/egeGJ/3pKN0dxhhX+ySR4Lkma+q5XrEpgir/zZIXxcEeGn6cbC4v9nlAj3Q0edU+t9UuvYyNRMVdyXOOQYAZIueLAAAAAAAAHmQcM65zJtVvkQiIT3kowJc7yXEuUdPwvVeGvHOe1QQxWxHEepuHJW4PUZ8I/rE5Yvd4jt+PssY1WPEVy61/NfHBenpQbL9rfQ96lUYGHlTpb+l0pd86Cnjeeb4szzp8kNdUxpHz/vHakk+4vhkCvCayRozb0cZmxmyT6b6JFMA2H1mvp+Zt+OAhQXntZ+zu+chF9kesxRlLK181TXVf6YAAAB6nKgb+jgNLrk0QEQdv5N9IPq5SusHmcWe/aMaM3JpMPI56EkvVGn9WU5XadtgYR/IOqnytvxrkF73l6lk/e1ml8dUWo/7fMlYNaMfKO8NkteogLgiIleq+UY9wgsBcQGgO3hdCAAAAAAAIA/oyQIAAAAjqidLtrePuifIarNuqSdf3ZNFd8XXvUJ0viL5fXXpszHS+rUE1WNE5pu8fENF6/SAIDlBDQE9Qb8HJCI/PBKkF+h3h34poTbNC9LvmHXbVLoxfHcAQPZoZAEAAAAAhNANi8eYdSvM/KUh+3c37odtTLUxV+K8AnivmZ+bIY+HzfzpZt7GeMmlIdoe037OQozyle2jP00FueLMAQAAVL1s463oByv7MKBjp6geGN5eGv+s0vbhRfN1p/A9bETdxup4KXF6uNhYMb4eM19Q6bSgKBF56fL7Hgh9Q1PXp2+24I0YeSm9VbqvWTdczxCHBQDyhZgsAAAAAAAAeUBPFgAAgKoQ1bOhOyMHvWrmdW+K8So9xHOM91XajEmcRucVp4xRZfcNr+zrbeMbAUhEpF2l71LpzSqtu4VEdfP/1JPWZZnrSVt6H/0Z24Nky7VB+h/Wm/1fi8gbAJArGlkAAAAAABkcMvP5GDbdvkJ4hpmPagCNe7y/MfO3mXn7upzd3pbxHDNvz8OekDIMMPOZXtHLFKsG5YxvCwAAoCrkMnJOLvar9BDPNrosk4Lkx1vSN/u9SjeOUjM6ronvISvu6EK+86L3jzonIzxlGabS01Vax6wRERnsOU6c3jpxH7R0vrq8P/ZsHyXOefmTmY8a9SlTXgBQXYjJAgAAAAAAkAf0ZAEAAKg4nT09dO+AQt3W2d4UuieL7tHgi3eiynjclelZNT6nZlSPl1i9V+L2jPDFo9H7x+0Vs0ilT1bpMSqdz6FXu/udxhne1h5Hf/aPPNtEvcIRZzQnHkEAVK+Ec86VuhDFkEgkpId8VIDrvYQ49+hJuN5L4+h53/3vc/o9/3y+jqEbHWzg20dU+j+ptC5L3Fd8dCONfq3GFyA27mf0NcbECYJrj6nX6fJmGysiiq8xJG654uQb9eqRLy/96tPjKr3UbNfh2T+XRrGuqGtKI/N5t6+NhQ3RboM3x23Q7GSv2zoz/4cM+8fJc42Zn2Xmsy1ze8gy36uVnWh4LAf5qmt4XQgAAAAAACAPaDIDAACoOMW8hbPHGqTS+hdh/RqR7zUm+wuwHXEjjC9YbJQ4AWKj+HqMfD7GNr7Ar1HHj/t9dud7z2Xfvw+S/3hrkN5gNluZCNLH6V+BCXYLoOehJwsAAAAAAEAe0JMFAACg4nTGAynUrVxUD4R6lfbFGYjb+8QXMyTOkMZRZfTFXtExI8artI4HE5W3L4hunH3tPtnGVIm7T3e2t34eJHeoxfVms+UqvTROPBx6uACoXjSyAAAAAACyZIM//02MfTI1sH1k5u1oXTbQbdToZ51sI6o108xnCnRrj2nnwxqfMz1222Pa7XlsryR8WwAAABWnED0BfL1K3jDb+Ual8d1WRt1uRg2jnGn7mD5Q8UKuVcv1aNITPjQ7xYm9kstttK8njG953J4shRoeWT1ED34vSK83m72j0kuvUjMrVJreKwB6BmKyAAAAAAAA5EHJGlkOHDggs2bNklGjRklTU5M8/vjjods9++yzUlNTI83NzdLc3Cytra1p65ctWyYNDQ0ycuRIuemmm4pRdAAVhLoGQDGUX13zqZmy9Vk1tZhptJr0dp9R00E15VIunZfPR2bylP8mSU0P/CSY5Fw1Realy+LbJq5sP/tnzRRnn3waEEz/T4LpBTMNVpP3u/ctR1zlV88ACFOy14WWLl0qgwYNktWrV0tHR4eMHz9etm/fLv379++ybWNjo7z88stdlj/55JPy8MMPyyuvvCLOOZk4caKcdtppMnXq1GJ8BAAVgLoGQDEUv67pfEjP562cbxji+oh9sg1mGtW44Nvfdwwbq0E3fKiHz9eDZIfaYsdbQXqE3Gnymq/SOp6DPmYugVxzCXab7f5x842T1zeD5MEtQdqG4liiZyap9KsqPS7G8RClNPc0+u/K/s1lil0iIpF/W2F52GNY+8y8jbcSNix8pnLebeZtbJk/mXn7BxDnb+l1Mz8sQx5E9ahkJevJsnbtWrnssstERKSurk5aW1tl/Xr7gme0hx56SObOnSu9e/eWPn36yJw5c2TNmjWFKC6ACkVdA6AYqGsAFBr1DFAZStZE1tHRIXV1dan5uro66ejoCN12586d0tzcLIlEQq644gq5/PLLRURk165dcvbZZ6e2q62tlSeeeKKwBQdQUahrABRD8euaTLdw3b3Fi9szw7ddtstF/MFb45ZF/wJ+cpD8UpA8W20x4lg1s3dJelZfnKVmfCOT5BLIVf8irkdB0b9qF+r2PJd8/y5IPvRIkH5xS/pmp31PzaguQvReySvuaYDKULBGlrFjx8ru3bu7LE8kErJvn+3m5dfS0iJ79+6VmpoaaW9vl2nTpsnJJ58s06dPj53HoUOHYm9bbjrLfuyxx2bYsvxQ9tKo5Os9F9Q1+VEN1zxlL65Kvt5zUS51TSWf90q+3kUqu/zVUPaeoFzqGZHKPu/VcL0fe2zlvS5UyeddJL/XfMG+va1bt0aur62tlfb2dkkmkyIi0t7eLhMmTOiyXd++fVPp+vp6mTlzprz00ksyffr0VB6dOjo6pL6+vksenV90IpHosg5AZaOuAVAM5VLXUM/kkb6fPsmubChiQarBcs/yZUUtRaUrl3pGRNc1fbus654r8pxfIfznUhcAFa5kMVna2tpk5cqVInL0j3vTpk2hAZfefvttcc6JiMh7770nTz75ZKpiaWtrk5/+9KfyySefyKFDh+RnP/uZtLW1hR7POcfE1KMmHEVdw8RU2AlHFbOuKfV3zsRUignc0zAxFWPKh5L1Q1q8eLHMmzdPRo0aJSIiK1euTEXGXrx4sZx00kkyf/58uf/+++WOO+6QY445Rg4ePChz5syRCy+8UEREzjrrLNmyZYuMHj1aRERmz54t06ZNK80HAlCWqGsAFAN1DYBCo54BKkPC5au5BgAAAAAAoAcr2etC+XbgwAGZNWuWjBo1SpqamuTxxx8P3e7ZZ5+VmpoaaW5ulubmZmltbU1bv2zZMmloaJCRI0fKTTfdVIyixy77unXrZOzYsZJMJmX48OFy8803p9atWrVK+vXrl/pcM2fOLGiZd+7cKRMnTpQxY8bIpEmT5PXX7djvIocPH5arr75aRo4cKSNHjpS777471rpCi1P2JUuWSGNjoySTSUkmk/Loo4+m1s2bN0+GDh2aOtfLl/veQy5d2QcNGpQq37XXXptaF/dagx91TfHqmkquZ0Soa6hruoe6hromrkqta6hnSq+S6xkR6hqen/Jb9rzWNa5KXH/99e7aa691zjnX3t7uBg0a5N59990u2z3zzDNu3LhxoXk88cQTrqWlxX3yySfu0KFDrqWlxa1fv76g5XYuftlffvll98477zjnnHv//ffdsGHD3K9+9SvnnHP33HOPu+CCCwpe1k7jx493a9ascc4598ADD7jW1tYu29x+++3unHPOcc4598c//tHV1dW57du3Z1xXDmXfsGGDO3jwoHPOuW3btrm+ffu6Dz/80Dnn3Lx589xtt91WlLJaccq+ZMkSt2DBgtD9415r8KOuKV5dU8n1jHPUNdQ13UNdQ10TV6XWNdQzpVfJ9Yxz1DU8P8VTirqmanqyrF27Vi677DIROTpmfGtrq6xfvz6rPB566CGZO3eu9O7dW/r06SNz5syRNWvWFKK4aeKWfdy4cTJgwAARETn++OMlmUzKnj17Uutdkd78evPNN+V3v/udnHfeeSIiMnPmTHnttde6DC23du1aufTSS0VEpF+/ftLW1ibr1q0TkaPn2reuHMo+efLkVFT1ZDIpffr0kf3796fWF+tca3HLLuIvXz7+Tno66priXP+VXM9kU37qGvhQ11DX5LP85VbXUM+Uh0quZ0Soa3h+yqxUdU3VNLJ0dHRIXV1dar6urk46OjpCt925c6c0NzfL2LFj5a677kot37VrV1oetbW13jzyKZuyd9qxY4ds3LhRvv71r4vI0aEcn3vuOUkmkzJhwgRZu3ZtQctbW1ubmk8kEjJ06NAuZY76XPZcx/nM+RC37Nq9994r9fX1acPb3XLLLdLQ0CDTp0+XV199tZBFTsmm7L/4xS+ksbFRJk+eLM8//3xaHqU479WEuqY4dU0l1zOd5aKuoa7pDuoa6po4KrWuoZ4pD5Vcz4hQ1/D8lFmp6pqSjS6UrbFjx8ru3bu7LE8kEqEtUT4tLS2yd+9eqampkfb2dpk2bZqcfPLJMn369HwWN02+yt5p7969cu6558qKFStk8ODBIiIyY8YMueiii6R3796ybds2mTZtmgwbNkyampq6Xf58cc5JIpEodTGy8vzzz8uiRYvk6aefTi1bvnx56rzfd999Mm3aNNm1a5ccc8wxpSpmmquuukpuuOEG6dWrl2zYsEHa2trktddeS7XgIxp1TaAS65pKrGdEqGt6IuqaAHVN8VRaXUM90z2VXM+IUNeIVGZdU2n1jEj+65qK6cmydetWeeedd7pMb7/9tvTq1Utqa2ulvb09tX17e3tay1mnvn37Sk1NjYiI1NfXy8yZM+Wll14SEemSR0dHR2gepSq7yNFx76dOnSoLFy6U888/P7W8f//+0rt3bxERGT16tEyZMkU2b97c7bKHqa2tlV27dqXmnXOye/futBa+zu3s+ezcJpvPnE9xyy4i8tJLL8nFF18sDz/8sHzlK19JLe+sIERELrroInHOpX2WQolb9oEDB0qvXkf/tKdMmSLDhw+Xbdu2pfIoxXmvJNQ1R5W6rqnkeqbz2NQ1QVmpa7qirjmKuqZ7KrWuoZ4pjkquZ/JZfhHqmu6o1HpGpIR1TYY4MRVj4cKF7pprrnHORQekeeutt9yRI0ecc869++67rrm52a1evdo559wvf/lLN27cOHfo0CF38OBB19LS4p588smyKfv+/ftdMpl0t99+e5d1+/btS6U7OjrckCFD3ObNmwtW5tNOO809+OCDzrmjAYQmTJjQZZsVK1a4b37zm+7IkSNdgjNFrSu0OGXfsmWLGzp0qNuyZUuXdXv37k2ln376aTdgwIBUkKdCi1N2Xb5XXnnFnXDCCW7Pnj3OufjXGvyoa4pX11RyPRO3/NQ18KGuoa7JZ/nLsa6hnim9Sq5nsik/dU1xyl6O9YxzpalrqqaR5c9//rO74IILXGNjo2tsbHSPPPJIat2iRYvcHXfc4Zxz7tZbb3WNjY0umUy6U045xS1btiwtnyVLlrgRI0a4ESNGuBtvvLGsyv6d73zH1dTUuDFjxqSmVatWOeec++53v+tGjRrlmpqa3MiRI92dd95Z0DLv2LHDtba2umQy6SZOnOh27tzpnHPuG9/4hvv1r3/tnHPu8OHD7sorr3QNDQ2uoaHBrVy5MrV/1LpCi1P2U0891Z144olp5/rVV191zjk3ZcoUl0wmXUNDgxs/frzbuHFjWZV9zpw5rqmpyTU2NrrRo0e7tWvXpvaPutYQD3VN8eqaSq5n4pafugY+1DXUNfksfznWNdQzpVfJ9Uw25aeuKU7Zy7GeiVv2fNc1CedKEOYXAAAAAACgylRMTBYAAAAAAIByRiMLAAAAAABAHtDIAgAAAAAAkAc0sgAAAAAAAOQBjSwAAAAAAAB5QCMLAAAAAABAHtDIAgAAAAAAkAc0sgAAAAAAAOQBjSzIux07dkhtba3s2rVLRERuvPFGmT17dolLBaDaUNcAKAbqGgCFRj1TXY5ZsmTJklIXAtVlwIABMnDgQFm4cKHU1tbKD3/4Q3nsscekT58+pS4agCpCXQOgGKhrABQa9Ux1STjnXKkLgeo0b948eeCBB+SFF16Q5ubmUhcHQJWirgFQDNQ1AAqNeqY68LoQCuKTTz6R3/72t3LCCSfIvn37Sl0cAFWKugZAMVDXACg06pnqQSMLCmLBggVy6qmnylNPPSVXXHGF/OEPfyh1kQBUIeoaAMVAXQOg0KhnqsdnSl0AVJ9169bJ888/L5s3b5Y+ffrI4sWLZfbs2fLss89Kr1606wHID+oaAMVAXQOg0KhnqgsxWQAAAAAAAPKAZjEAAAAAAIA8oJEFAAAAAAAgD2hkAQAAAAAAyAMaWQAAAAAAAPKARhYAAAAAAIA8oJEFAAAAAAAgD2hkAQAAAAAAyAMaWQAAAAAAAPLg/wMsAnz0cE2PFwAAAABJRU5ErkJggg==' style='max-width:100%'/><center/>"
      ],
      "text/plain": [
       "   Image\n",
       "      I     : Image.Image   (z)\n",
       "      II    : Image.Image   (z)\n",
       "      III   : Image.Image   (z)\n",
       "      IV    : Image.Image   (z)\n",
       "      V     : Image.Image   (z)\n",
       "      VI    : Image.Image   (z)\n",
       "      VII   : Image.Image   (z)\n",
       "      VIII  : Image.Image   (z)\n",
       "      IX    : Image.Image   (z)\n",
       "      X     : Image.Image   (z)\n",
       "      XI    : Image.Image   (z)\n",
       "      XII   : Image.Image   (z)\n",
       "      XIII  : Image.Image   (z)\n",
       "      XIV   : Image.Image   (z)\n",
       "      XV    : Image.Image   (z)\n",
       "      XVI   : Image.Image   (z)\n",
       "      XVII  : Image.Image   (z)\n",
       "      XVIII : Image.Image   (z)\n",
       "      XIX   : Image.Image   (z)\n",
       "      XX    : Image.Image   (z)"
      ]
     },
     "execution_count": 70,
     "metadata": {},
     "output_type": "execute_result"
    }
   ],
   "source": [
    "for d in np.where(ilabels == misclass)[0][:10]:\n",
    "    try:\n",
    "        c += hl.Image(dataset.X[d])\n",
    "    except:\n",
    "        c = hl.Image(dataset.X[d])\n",
    "c"
   ]
  },
  {
   "cell_type": "code",
   "execution_count": 71,
   "metadata": {
    "collapsed": true
   },
   "outputs": [
    {
     "data": {
      "text/plain": [
       "['calycophoran_siphonophores',\n",
       " 'copepods',\n",
       " 'crustaceans',\n",
       " 'ctenophores',\n",
       " 'cyclopoid_copepods',\n",
       " 'echinoderm',\n",
       " 'gastropods',\n",
       " 'gelatinous zooplankton',\n",
       " 'hydromedusae',\n",
       " 'no_class',\n",
       " 'other_invert_larvae',\n",
       " 'pelagic_tunicates',\n",
       " 'plankton',\n",
       " 'protists',\n",
       " 'shrimp_like',\n",
       " 'siphonophores']"
      ]
     },
     "execution_count": 71,
     "metadata": {},
     "output_type": "execute_result"
    }
   ],
   "source": [
    "hier[2]"
   ]
  },
  {
   "cell_type": "code",
   "execution_count": 74,
   "metadata": {
    "collapsed": false
   },
   "outputs": [
    {
     "data": {
      "text/plain": [
       "(3089, 188)"
      ]
     },
     "execution_count": 74,
     "metadata": {},
     "output_type": "execute_result"
    }
   ],
   "source": [
    "np.copyto(predictions, y)\n",
    "y.shape"
   ]
  },
  {
   "cell_type": "code",
   "execution_count": 75,
   "metadata": {
    "collapsed": false
   },
   "outputs": [
    {
     "name": "stdout",
     "output_type": "stream",
     "text": [
      "Log loss: 0.935334935387\n"
     ]
    }
   ],
   "source": [
    "labels = labels[:, :121]\n",
    "logloss = sklearn.metrics.log_loss(labels,predictions[:, :121])\n",
    "print(\"Log loss: {0}\".format(logloss))"
   ]
  },
  {
   "cell_type": "code",
   "execution_count": 81,
   "metadata": {
    "collapsed": false,
    "scrolled": true
   },
   "outputs": [
    {
     "data": {
      "text/plain": [
       "(3089, 16)"
      ]
     },
     "execution_count": 81,
     "metadata": {},
     "output_type": "execute_result"
    }
   ],
   "source": [
    "superclasses2 = predictions[:,(121+38):(121+38+16)]\n",
    "superclasses2.shape"
   ]
  },
  {
   "cell_type": "markdown",
   "metadata": {},
   "source": [
    "Get children of each second parent superclass."
   ]
  },
  {
   "cell_type": "code",
   "execution_count": 42,
   "metadata": {
    "collapsed": false
   },
   "outputs": [],
   "source": [
    "superclass2_children = {}\n",
    "settings = neukrill_net.utils.Settings(\"settings.json\")\n",
    "hier = enc.get_hierarchy(settings)\n",
    "\n",
    "for s in hier[2]:\n",
    "    children = []\n",
    "    for key, values in t.superclasses.items():\n",
    "        for i, v in enumerate(values):\n",
    "            if s == v:\n",
    "                if i > 0:\n",
    "                    if values[i-1] not in children:\n",
    "                        children.append(values[i-1])\n",
    "    superclass2_children[s] = children"
   ]
  },
  {
   "cell_type": "code",
   "execution_count": 43,
   "metadata": {
    "collapsed": false,
    "scrolled": true
   },
   "outputs": [
    {
     "data": {
      "text/plain": [
       "{'calycophoran_siphonophores': ['rocketship',\n",
       "  'sphaeronectes',\n",
       "  'siphonophore_calycophoran_abylidae'],\n",
       " 'copepods': ['calanoid', 'cyclopoid_copepods'],\n",
       " 'crustaceans': ['shrimp_like',\n",
       "  'copepods',\n",
       "  'stomatopod',\n",
       "  'amphipods',\n",
       "  'crustacean_other'],\n",
       " 'ctenophores': ['ctenophore_cestid', 'ctenophore_lobate', 'cydippid'],\n",
       " 'cyclopoid_copepods': ['oithona', 'copepod_cyclopoid_copilia'],\n",
       " 'echinoderm': ['seastar',\n",
       "  'echinoderm_seacucumber_auricularia_larva',\n",
       "  'pluteus'],\n",
       " 'gastropods': ['pteropods', 'heteropod'],\n",
       " 'gelatinous zooplankton': ['ctenophores',\n",
       "  'pelagic_tunicates',\n",
       "  'hydromedusae',\n",
       "  'siphonophores',\n",
       "  'ephyra',\n",
       "  'jellies_tentacles'],\n",
       " 'hydromedusae': ['other_hydromedusae',\n",
       "  'sub_hydromedusae2',\n",
       "  'sub_hydromedusae1'],\n",
       " 'no_class': ['artifacts', 'artifacts_edge'],\n",
       " 'other_invert_larvae': ['echinoderm',\n",
       "  'tornaria_acorn_worm_larvae',\n",
       "  'trochophore_larvae',\n",
       "  'invertebrate_larvae_other_A',\n",
       "  'invertebrate_larvae_other_B'],\n",
       " 'pelagic_tunicates': ['appendicularians', 'tunicate'],\n",
       " 'plankton': ['other_invert_larvae',\n",
       "  'unknown',\n",
       "  'crustaceans',\n",
       "  'gastropods',\n",
       "  'gelatinous zooplankton',\n",
       "  'detritus',\n",
       "  'chaetognaths',\n",
       "  'protists',\n",
       "  'chordate_type1',\n",
       "  'trichodesmium',\n",
       "  'fish',\n",
       "  'diatoms',\n",
       "  'polychaete'],\n",
       " 'protists': ['acantharia',\n",
       "  'radiolarian',\n",
       "  'sub_protists',\n",
       "  'protist_noctiluca'],\n",
       " 'shrimp_like': ['decapods_all', 'shrimp-like_other', 'euphausiids_all_ages'],\n",
       " 'siphonophores': ['calycophoran_siphonophores',\n",
       "  'physonect',\n",
       "  'siphonophore_other_parts',\n",
       "  'siphonophore_partial']}"
      ]
     },
     "execution_count": 43,
     "metadata": {},
     "output_type": "execute_result"
    }
   ],
   "source": [
    "superclass2_children"
   ]
  },
  {
   "cell_type": "code",
   "execution_count": 72,
   "metadata": {
    "collapsed": false
   },
   "outputs": [
    {
     "data": {
      "text/plain": [
       "(3089, 121)"
      ]
     },
     "execution_count": 72,
     "metadata": {},
     "output_type": "execute_result"
    }
   ],
   "source": [
    "nr = class_predictions\n",
    "weight = 0.01\n",
    "nr.shape"
   ]
  },
  {
   "cell_type": "code",
   "execution_count": 148,
   "metadata": {
    "collapsed": false
   },
   "outputs": [
    {
     "name": "stdout",
     "output_type": "stream",
     "text": [
      "acantharia\n",
      "acantharia\n",
      "acantharia\n",
      "[  9.94898095e-01   8.29245158e-04   4.27219143e-03]\n",
      "[  9.94085805e-01   9.54560106e-04   4.95917146e-03]\n",
      "radiolarian\n",
      "radiolarian\n",
      "[ 0.03774202  0.02077784]\n",
      "[ 0.04381403  0.02412063]\n",
      "sub_protists\n",
      "sub_protists\n",
      "sub_protists\n",
      "sub_protists\n",
      "[ 0.00358086  0.01233393  0.03885892  0.0037466 ]\n",
      "[ 0.00415695  0.01431824  0.04511056  0.00434936]\n",
      "calanoid\n",
      "calanoid\n",
      "calanoid\n",
      "calanoid\n",
      "calanoid\n",
      "calanoid\n",
      "calanoid\n",
      "calanoid\n",
      "calanoid\n",
      "calanoid\n",
      "[ 0.02286404  0.00580834  0.00322312  0.00597621  0.00211518  0.00960222\n",
      "  0.00355887  0.00164514  0.00292096  0.00080578]\n",
      "[ 0.02654245  0.0067428   0.00374167  0.00693768  0.00245547  0.01114705\n",
      "  0.00413142  0.00190981  0.00339089  0.00093542]\n",
      "other_hydromedusae\n",
      "other_hydromedusae\n",
      "other_hydromedusae\n",
      "other_hydromedusae\n",
      "other_hydromedusae\n",
      "other_hydromedusae\n",
      "other_hydromedusae\n",
      "other_hydromedusae\n",
      "other_hydromedusae\n",
      "other_hydromedusae\n",
      "other_hydromedusae\n",
      "other_hydromedusae\n",
      "[ 0.00050232  0.00795334  0.01724619  0.01146956  0.00627895  0.00318134\n",
      "  0.00179997  0.00234414  0.00058604  0.00255344  0.00313948  0.00146509]\n",
      "[ 0.00058313  0.00923289  0.0200208   0.0133148   0.00728913  0.00369316\n",
      "  0.00208955  0.00272127  0.00068032  0.00296424  0.00364456  0.0017008 ]\n",
      "sub_hydromedusae2\n",
      "sub_hydromedusae2\n",
      "sub_hydromedusae2\n",
      "sub_hydromedusae2\n",
      "sub_hydromedusae2\n",
      "[ 0.00586532  0.01492989  0.00546541  0.03123725  0.00102199]\n",
      "[ 0.00680894  0.01733185  0.00634469  0.03626276  0.00118641]\n",
      "sub_hydromedusae1\n",
      "sub_hydromedusae1\n",
      "sub_hydromedusae1\n",
      "sub_hydromedusae1\n",
      "[ 0.01935422  0.03489856  0.00137156  0.00289551]\n",
      "[ 0.02246797  0.04051311  0.00159222  0.00336135]\n",
      "pteropods\n",
      "pteropods\n",
      "pteropods\n",
      "[ 0.0040901   0.02045049  0.03397927]\n",
      "[ 0.00474812  0.0237406   0.03944593]\n",
      "rocketship\n",
      "rocketship\n",
      "[ 0.01278346  0.04573639]\n",
      "[ 0.01484009  0.05309456]\n",
      "sphaeronectes\n",
      "sphaeronectes\n",
      "sphaeronectes\n",
      "[ 0.02168748  0.00690607  0.0299263 ]\n",
      "[ 0.02517661  0.00801713  0.03474091]\n",
      "oithona\n",
      "oithona\n",
      "[ 0.02519605  0.0333238 ]\n",
      "[ 0.02924964  0.03868501]\n",
      "cydippid\n",
      "cydippid\n",
      "[ 0.02587193  0.03264792]\n",
      "[ 0.03003427  0.03790038]\n",
      "appendicularians\n",
      "appendicularians\n",
      "appendicularians\n",
      "appendicularians\n",
      "[ 0.00063009  0.02095058  0.02740903  0.00953015]\n",
      "[ 0.00073146  0.02432115  0.03181865  0.01106338]\n",
      "tunicate\n",
      "tunicate\n",
      "tunicate\n",
      "tunicate\n",
      "tunicate\n",
      "[ 0.01693488  0.01608621  0.01357877  0.00910395  0.00281605]\n",
      "[ 0.0196594   0.01867419  0.01576335  0.01056861  0.0032691 ]\n",
      "unknown\n",
      "unknown\n",
      "unknown\n",
      "[ 0.02712207  0.02022987  0.01116791]\n",
      "[ 0.03148553  0.0234845   0.01296463]\n",
      "detritus\n",
      "detritus\n",
      "detritus\n",
      "detritus\n",
      "[ 0.00973543  0.01056683  0.0245129   0.01370469]\n",
      "[ 0.01130169  0.01226684  0.02845659  0.01590954]\n",
      "chaetognaths\n",
      "chaetognaths\n",
      "chaetognaths\n",
      "[ 0.01385236  0.03287174  0.01179575]\n",
      "[ 0.01608096  0.03816021  0.01369348]\n",
      "trichodesmium\n",
      "trichodesmium\n",
      "trichodesmium\n",
      "trichodesmium\n",
      "[ 0.01211818  0.00092427  0.03387271  0.0116047 ]\n",
      "[ 0.01406778  0.00107297  0.03932222  0.01347169]\n",
      "fish\n",
      "fish\n",
      "fish\n",
      "fish\n",
      "fish\n",
      "fish\n",
      "[ 0.00182875  0.00566911  0.01554434  0.0208477   0.01170397  0.00292599]\n",
      "[ 0.00212296  0.00658117  0.01804514  0.02420172  0.01358693  0.00339673]\n",
      "diatoms\n",
      "diatoms\n",
      "[ 0.0298055   0.02871435]\n",
      "[ 0.03460067  0.03333398]\n",
      "seastar\n",
      "seastar\n",
      "[ 0.0244627   0.03405716]\n",
      "[ 0.02839831  0.03953634]\n",
      "pluteus\n",
      "pluteus\n",
      "pluteus\n",
      "pluteus\n",
      "pluteus\n",
      "[ 0.01449412  0.01594349  0.00489175  0.00652234  0.01666819]\n",
      "[ 0.01682596  0.01850851  0.00567875  0.00757166  0.01934981]\n",
      "decapods_all\n",
      "decapods_all\n",
      "decapods_all\n",
      "decapods_all\n",
      "[ 0.00746773  0.00665307  0.02077387  0.02362518]\n",
      "[ 0.00866916  0.00772343  0.02411601  0.02742605]\n",
      "euphausiids_all_ages\n",
      "euphausiids_all_ages\n",
      "[ 0.0127802   0.04573965]\n",
      "[ 0.0148363   0.05309835]\n",
      "physonect\n",
      "physonect\n",
      "[ 0.05027209  0.00824776]\n",
      "[ 0.05835997  0.00957468]\n"
     ]
    }
   ],
   "source": [
    "layer = t.TaxonomyLayer(1)\n",
    "row = nr[1,:]\n",
    "weight = 0.01\n",
    "\n",
    "for key, value in superclass2_children.items():\n",
    "    for i,v in enumerate(value):\n",
    "        if v in only_leaf_children:\n",
    "            update = {}\n",
    "            for i, c in enumerate(settings.classes):\n",
    "                if v == layer[c]:\n",
    "                    print v\n",
    "                    update[i] = settings.class_priors[i]\n",
    "            denom = sum(v for k,v in update.items())\n",
    "            indUpdate = [k for k,v in update.items()]\n",
    "            print row[indUpdate]\n",
    "            row[indUpdate] = row[indUpdate] * (1-weight) + [v for k,v in update.items()/denom * weight]\n",
    "            print row[indUpdate]"
   ]
  },
  {
   "cell_type": "code",
   "execution_count": 157,
   "metadata": {
    "collapsed": false
   },
   "outputs": [
    {
     "data": {
      "text/plain": [
       "array([ True,  True,  True,  True,  True,  True,  True,  True,  True,\n",
       "        True,  True,  True,  True,  True,  True,  True,  True,  True,\n",
       "        True,  True,  True,  True,  True,  True,  True,  True,  True,\n",
       "        True,  True,  True,  True,  True,  True,  True,  True,  True,\n",
       "        True,  True,  True,  True,  True,  True,  True,  True,  True,\n",
       "        True,  True,  True,  True,  True,  True,  True,  True,  True,\n",
       "        True,  True,  True,  True,  True,  True,  True,  True,  True,\n",
       "        True,  True,  True,  True,  True,  True,  True,  True,  True,\n",
       "        True,  True,  True,  True,  True,  True,  True,  True,  True,\n",
       "        True,  True,  True,  True,  True,  True,  True,  True,  True,\n",
       "        True,  True,  True,  True,  True,  True,  True,  True,  True,\n",
       "        True,  True,  True,  True,  True,  True,  True,  True,  True,\n",
       "        True,  True,  True,  True,  True,  True,  True,  True,  True,\n",
       "        True,  True,  True,  True], dtype=bool)"
      ]
     },
     "execution_count": 157,
     "metadata": {},
     "output_type": "execute_result"
    }
   ],
   "source": [
    "row == predictions[1,:121]"
   ]
  },
  {
   "cell_type": "code",
   "execution_count": 62,
   "metadata": {
    "collapsed": false,
    "scrolled": true
   },
   "outputs": [
    {
     "data": {
      "text/plain": [
       "['acantharia',\n",
       " 'appendicularians',\n",
       " 'calanoid',\n",
       " 'chaetognaths',\n",
       " 'cydippid',\n",
       " 'decapods_all',\n",
       " 'detritus',\n",
       " 'diatoms',\n",
       " 'euphausiids_all_ages',\n",
       " 'fish',\n",
       " 'no_class',\n",
       " 'oithona',\n",
       " 'other_hydromedusae',\n",
       " 'physonect',\n",
       " 'pluteus',\n",
       " 'pteropods',\n",
       " 'radiolarian',\n",
       " 'rocketship',\n",
       " 'seastar',\n",
       " 'sphaeronectes',\n",
       " 'sub_hydromedusae1',\n",
       " 'sub_hydromedusae2',\n",
       " 'sub_protists',\n",
       " 'trichodesmium',\n",
       " 'tunicate',\n",
       " 'unknown']"
      ]
     },
     "execution_count": 62,
     "metadata": {},
     "output_type": "execute_result"
    }
   ],
   "source": [
    "only_leaf_children"
   ]
  },
  {
   "cell_type": "code",
   "execution_count": 88,
   "metadata": {
    "collapsed": false,
    "scrolled": true
   },
   "outputs": [
    {
     "data": {
      "text/plain": [
       "u'siphonophore_calycophoran_rocketship_adult'"
      ]
     },
     "execution_count": 88,
     "metadata": {},
     "output_type": "execute_result"
    }
   ],
   "source": [
    "settings.classes[97]"
   ]
  },
  {
   "cell_type": "code",
   "execution_count": 65,
   "metadata": {
    "collapsed": false
   },
   "outputs": [
    {
     "data": {
      "text/plain": [
       "'rocketship'"
      ]
     },
     "execution_count": 65,
     "metadata": {},
     "output_type": "execute_result"
    }
   ],
   "source": [
    "layer['siphonophore_calycophoran_rocketship_adult']"
   ]
  }
 ],
 "metadata": {
  "kernelspec": {
   "display_name": "Python 2",
   "language": "python",
   "name": "python2"
  },
  "language_info": {
   "codemirror_mode": {
    "name": "ipython",
    "version": 2
   },
   "file_extension": ".py",
   "mimetype": "text/x-python",
   "name": "python",
   "nbconvert_exporter": "python",
   "pygments_lexer": "ipython2",
   "version": "2.7.8"
  }
 },
 "nbformat": 4,
 "nbformat_minor": 0
}
