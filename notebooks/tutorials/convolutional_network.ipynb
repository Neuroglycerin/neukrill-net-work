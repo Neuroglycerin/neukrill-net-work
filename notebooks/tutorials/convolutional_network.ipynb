{
 "cells": [
  {
   "cell_type": "markdown",
   "metadata": {},
   "source": [
    "# pylearn2 tutorial: Convolutional network\n",
    "by [Ian Goodfellow](http://www-etud.iro.umontreal.ca/~goodfeli)\n",
    "\n",
    "## Introduction\n",
    "This ipython notebook will teach you the basics of how convolutional networks work, and show you how to use multilayer perceptrons in pylearn2.\n",
    "\n",
    "To do this, we will go over several concepts:\n",
    "\n",
    "Part 1: What pylearn2 is doing for you in this example\n",
    "\n",
    "   - Review of multilayer perceptrons, and how convolutional networks are similar\n",
    "\n",
    "   - Convolution and the equivariance property\n",
    "\n",
    "   - Pooling and the invariance property\n",
    "\n",
    "   - A note on using convolution in research papers\n",
    "\n",
    "Part 2: How to use pylearn2 to train a convolutional network\n",
    "\n",
    "    - pylearn2 Spaces\n",
    "\n",
    "    - MNIST classification example\n",
    "\n",
    "\n",
    "Note that this won't explain in detail how the individual classes are implemented. The classes\n",
    "follow pretty good naming conventions and have pretty good docstrings, but if you have trouble\n",
    "understanding them, write to me and I might add a part 3 explaining how some of the parts work\n",
    "under the hood.\n",
    "\n",
    "Please write to pylearn-dev@googlegroups.com if you encounter any problem with this tutorial."
   ]
  },
  {
   "cell_type": "markdown",
   "metadata": {},
   "source": [
    "## Requirements\n",
    "\n",
    "Before running this notebook, you must have installed pylearn2.\n",
    "Follow the [download and installation instructions](http://deeplearning.net/software/pylearn2/#download-and-installation)\n",
    "if you have not yet done so.\n",
    "\n",
    "This tutorial also assumes you already know about multilayer perceptrons, and know how to train and evaluate a multilayer perceptron in pylearn2. If not, work through multilayer_perceptron.ipynb before starting this tutorial.\n",
    "\n",
    "It's also strongly recommend that you run this notebook with THEANO_FLAGS=\"device=gpu\". This is a processing intensive example and the GPU will make it run a lot faster, if you have one available. Execute the next cell to verify that you are using the GPU.\n"
   ]
  },
  {
   "cell_type": "code",
   "execution_count": 1,
   "metadata": {
    "collapsed": false
   },
   "outputs": [
    {
     "name": "stdout",
     "output_type": "stream",
     "text": [
      "gpu0\n"
     ]
    },
    {
     "name": "stderr",
     "output_type": "stream",
     "text": [
      "Using gpu device 0: Tesla K40c\n"
     ]
    }
   ],
   "source": [
    "import theano\n",
    "print theano.config.device"
   ]
  },
  {
   "cell_type": "markdown",
   "metadata": {},
   "source": [
    "## Part 1: What pylearn2 is doing for you in this example\n",
    "\n",
    "In this part, we won't get into any specifics of pylearn2 yet. We'll just discuss what a convolutional network is. If you already know about convolutional networks, feel free to skip to part 2.\n",
    "\n",
    "\n",
    "### Review of multilayer perceptrons, and how convolutional networks are similar\n",
    "\n",
    "In multilayer_perceptron.ipynb, we saw how the multilayer perceptron (MLP) is a versatile model that can do many things. In this series of tutorials, we think of it as a classification model that learns to map an input vector $x$ to a probability distribution $p(y\\mid x)$ where $y$ is a categorical value with $k$ different values. Using a dataset $\\mathcal{D}$ of $(x, y)$, we can train any such probabilistic model by maximizing the log likelihood,\n",
    "\n",
    "$$ \\sum_{x,y \\in \\mathcal{D} } \\log P(y \\mid x). $$\n",
    "\n",
    "The multilayer perceptron defines $P(y \\mid x)$ to be the composition of several simpler functions. Each function being composed can be thought of as another \"layer\" or \"stage\" of processing.\n",
    "\n",
    "A convolutional network is nothing but a multilayer perceptron where some layers take a very special form, which we will call \"convolutional layers\". These layers are specially designed for processing inputs where the indices of the elements have some topological significance.\n",
    "\n",
    "For example, if we represent a grayscale image as an array $I$ with the array indices corresponding to physical locations in the image, then we know that the element $I_{i,j}$ represents something that is spatially close to the element $I_{i+1,j}$. This is in contrast to a vector representation of an image. If $I$ is a vector, then $I_i$ might not be very close at all to $I_{i+1}$, depending on whether the image was converted to vector form in row-major or column major format and depending on whether $i$ is close to the end of a row or column.\n",
    "\n",
    "Other kinds of data with topological in the indices include time series data, where some series $S$ can be indexed by a time variable $t$. We know that $S_t$ and $S_{t+1}$ come from close together in time. We can also think of the (row, column, time) indices of video data as providing topological information.\n",
    "\n",
    "Suppose $T$ is a function that can translate (move) an input in the space defined by its indices by some amount $x$.\n",
    "In other words,\n",
    "$T(S,x)_i = S_j$ where $j=i-x$ (a MathJax or ipython bug seems to prevent me from putting $i-x$ in a subscript).\n",
    "Convolutional layers are an example of a function $f$ designed with the property $f(T(S,x)) \\approx f(S)$ for small x.\n",
    "\n",
    "This means if a neural network can recognize a handwritten digit in one position, it can recognize it when it is slightly shifted to a nearby position. Being able to recognize shifted versions of previously seen inputs greatly improves the generalization performance of convolutional networks.\n",
    "\n",
    "\n",
    "## Convolution and the equivariance property\n",
    "\n",
    "TODO\n",
    "\n",
    "## Pooling and the invariance property\n",
    "\n",
    "TODO\n",
    "\n",
    "## A note on using convolution in research papers\n",
    "\n",
    "TODO"
   ]
  },
  {
   "cell_type": "markdown",
   "metadata": {},
   "source": [
    "#Part 2: How to use pylearn2 to train an MLP\n",
    "\n",
    "Now that we've described the theory of what we're going to do, it's time to do it! This part describes\n",
    "how to use pylearn2 to run the algorithms described above.\n",
    "\n",
    "As in the MLP tutorial, we will use the convolutional net to do optical character recognition on the MNIST dataset.\n",
    "\n"
   ]
  },
  {
   "cell_type": "markdown",
   "metadata": {},
   "source": [
    "## pylearn2 Spaces\n",
    "\n",
    "In many places in pylearn2, we would like to be able to process several different kinds of data. In previous tutorials, we've just talked about data that could be preprocessed into a vector representation. Our algorithms all worked on vector spaces. However, it's often useful to format data in other ways. The pylearn2 Space object is used to specify the format for data. The VectorSpace class represents the typical vector formatted data we've used so far. The only thing it needs to encode about the data is its dimensionality, i.e., how many elements the vector has. In this tutorial we will start to explicitly represent images as having 2D structure, so we need to use the Conv2DSpace. The Conv2DSpace object describes how to represent a collection of images as a 4-tensor.\n",
    "\n",
    "One thing the Conv2DSpace object needs to describe is the shape of the space--how big is the image in terms of rows and columns of pixels? Also, the image may have multiple channels. In this example, we use a grayscale input image, so the input only has one channel. Color images require three channels to store the red, green, and blue pixels at each location. We can also think of the output of each convolution layer as living in a Conv2DSpace, where each kernel outputs a different channel. Finally, the Conv2DSpace specifies what each axis of the 4-tensor means. The default is for the first axis to index over different examples, the second axis to index over channels, and the last two to index over rows and columns, respectively. This is the format that theano's 2D convolution code uses, but other libraries exist that use other formats and we often need to convert between them."
   ]
  },
  {
   "cell_type": "markdown",
   "metadata": {},
   "source": [
    "## MNIST classification example"
   ]
  },
  {
   "cell_type": "markdown",
   "metadata": {},
   "source": [
    "Setting up a convolutional network in pylearn2 is essentially the same as setting up any other MLP. In the YAML experiment description below, there are really just two things to take note of.\n",
    "\n",
    "First, rather than using \"nvis\" to specify the input that the MLP will take, we use a parameter called \"input_space\". \"nvis\" is actually shorthand; if you pass an integer n to nvis, it will set input_space to VectorSpace(n). Now that we are using a convolutional network, we need the input to be formatted as a collection of images so that the convolution operator will have a 2D space to work on.\n",
    "\n",
    "Second, we make a few layers of the network be \"ConvRectifiedLinear\" layers. Putting some convolutional layers in the network makes those layers invariant to small translations, so the job of the remaining layers is much easier.\n",
    "\n",
    "We don't need to do anything special to make the Softmax layer on top work with these convolutional layers. The MLP class will tell the Softmax class that its input is now coming from a Conv2DSpace. The Softmax layer will then use the Conv2DSpace's convert method to convert the 2D output from the convolutional layer into a batch of vector-valued examples.\n",
    "\n",
    "The model and training is defined in conv.yaml file. Here we load it and set some of it's hyper-parameters."
   ]
  },
  {
   "cell_type": "code",
   "execution_count": 2,
   "metadata": {
    "collapsed": false
   },
   "outputs": [
    {
     "name": "stdout",
     "output_type": "stream",
     "text": [
      "--2015-02-18 15:15:15--  https://raw.githubusercontent.com/lisa-lab/pylearn2/master/pylearn2/scripts/tutorials/convolutional_network/conv.yaml\n",
      "Resolving raw.githubusercontent.com... 23.235.43.133\n",
      "Connecting to raw.githubusercontent.com|23.235.43.133|:443... connected.\n",
      "HTTP request sent, awaiting response... 200 OK\n",
      "Length: 3239 (3.2K) [text/plain]\n",
      "Saving to: `conv.yaml'\n",
      "\n",
      "100%[======================================>] 3,239       --.-K/s   in 0s      \n",
      "\n",
      "2015-02-18 15:15:15 (99.2 MB/s) - `conv.yaml' saved [3239/3239]\n",
      "\n"
     ]
    }
   ],
   "source": [
    "!wget https://raw.githubusercontent.com/lisa-lab/pylearn2/master/pylearn2/scripts/tutorials/convolutional_network/conv.yaml"
   ]
  },
  {
   "cell_type": "code",
   "execution_count": 2,
   "metadata": {
    "collapsed": false
   },
   "outputs": [
    {
     "name": "stdout",
     "output_type": "stream",
     "text": [
      "!obj:pylearn2.train.Train {\n",
      "    dataset: &train !obj:pylearn2.datasets.mnist.MNIST {\n",
      "        which_set: 'train',\n",
      "        start: 0,\n",
      "        stop: 50000\n",
      "    },\n",
      "    model: !obj:pylearn2.models.mlp.MLP {\n",
      "        batch_size: 100,\n",
      "        input_space: !obj:pylearn2.space.Conv2DSpace {\n",
      "            shape: [28, 28],\n",
      "            num_channels: 1\n",
      "        },\n",
      "        layers: [ !obj:pylearn2.models.mlp.ConvRectifiedLinear {\n",
      "                     layer_name: 'h2',\n",
      "                     output_channels: 64,\n",
      "                     irange: .05,\n",
      "                     kernel_shape: [5, 5],\n",
      "                     pool_shape: [4, 4],\n",
      "                     pool_stride: [2, 2],\n",
      "                     max_kernel_norm: 1.9365\n",
      "                 }, !obj:pylearn2.models.mlp.ConvRectifiedLinear {\n",
      "                     layer_name: 'h3',\n",
      "                     output_channels: 64,\n",
      "                     irange: .05,\n",
      "                     kernel_shape: [5, 5],\n",
      "                     pool_shape: [4, 4],\n",
      "                     pool_stride: [2, 2],\n",
      "                     max_kernel_norm: 1.9365\n",
      "                 }, !obj:pylearn2.models.mlp.Softmax {\n",
      "                     max_col_norm: 1.9365,\n",
      "                     layer_name: 'y',\n",
      "                     n_classes: 10,\n",
      "                     istdev: .05\n",
      "                 }\n",
      "                ],\n",
      "    },\n",
      "    algorithm: !obj:pylearn2.training_algorithms.sgd.SGD {\n",
      "        batch_size: 100,\n",
      "        learning_rate: .01,\n",
      "        learning_rule: !obj:pylearn2.training_algorithms.learning_rule.Momentum {\n",
      "            init_momentum: .5\n",
      "        },\n",
      "        monitoring_dataset:\n",
      "            {\n",
      "                'valid' : !obj:pylearn2.datasets.mnist.MNIST {\n",
      "                              which_set: 'train',\n",
      "                              start: 50000,\n",
      "                              stop:  60000\n",
      "                          },\n",
      "                'test'  : !obj:pylearn2.datasets.mnist.MNIST {\n",
      "                              which_set: 'test',\n",
      "                              stop: 10000\n",
      "                          }\n",
      "            },\n",
      "        cost: !obj:pylearn2.costs.cost.SumOfCosts { costs: [\n",
      "            !obj:pylearn2.costs.cost.MethodCost {\n",
      "                method: 'cost_from_X'\n",
      "            }, !obj:pylearn2.costs.mlp.WeightDecay {\n",
      "                coeffs: [ .00005, .00005, .00005 ]\n",
      "            }\n",
      "            ]\n",
      "        },\n",
      "        termination_criterion: !obj:pylearn2.termination_criteria.And {\n",
      "            criteria: [\n",
      "                !obj:pylearn2.termination_criteria.MonitorBased {\n",
      "                    channel_name: \"valid_y_misclass\",\n",
      "                    prop_decrease: 0.50,\n",
      "                    N: 10\n",
      "                },\n",
      "                !obj:pylearn2.termination_criteria.EpochCounter {\n",
      "                    max_epochs: 500\n",
      "                },\n",
      "            ]\n",
      "        },\n",
      "    },\n",
      "    extensions:\n",
      "        [ !obj:pylearn2.train_extensions.best_params.MonitorBasedSaveBest {\n",
      "             channel_name: 'valid_y_misclass',\n",
      "             save_path: \"./convolutional_network_best.pkl\"\n",
      "        }, !obj:pylearn2.training_algorithms.learning_rule.MomentumAdjustor {\n",
      "            start: 1,\n",
      "            saturate: 10,\n",
      "            final_momentum: .99\n",
      "        }\n",
      "    ]\n",
      "}\n",
      "\n",
      "\n",
      "\n"
     ]
    }
   ],
   "source": [
    "train = open('conv.yaml', 'r').read()\n",
    "train_params = {'train_stop': 50000,\n",
    "                    'valid_stop': 60000,\n",
    "                    'test_stop': 10000,\n",
    "                    'batch_size': 100,\n",
    "                    'output_channels_h2': 64, \n",
    "                    'output_channels_h3': 64,  \n",
    "                    'max_epochs': 500,\n",
    "                    'save_path': '.'}\n",
    "train = train % (train_params)\n",
    "print train"
   ]
  },
  {
   "cell_type": "markdown",
   "metadata": {},
   "source": [
    "Now, we use pylearn2's yaml_parse.load to construct the Train object, and run its main loop. The same thing could be accomplished by running pylearn2's train.py script on a file containing the yaml string.\n",
    "\n",
    "Execute the next cell to train the model. This will take several minutes and possible as much as a few hours depending on how fast your computer is."
   ]
  },
  {
   "cell_type": "markdown",
   "metadata": {},
   "source": [
    "Make sure the dataset is present:"
   ]
  },
  {
   "cell_type": "code",
   "execution_count": 41,
   "metadata": {
    "collapsed": false
   },
   "outputs": [
    {
     "name": "stdout",
     "output_type": "stream",
     "text": [
      "/afs/inf.ed.ac.uk/user/s08/s0805516/repos/neukrill-net-work/notebooks\n"
     ]
    }
   ],
   "source": [
    "%%bash\n",
    "mkdir -p /disk/scratch/neuroglycerin/mnist/\n",
    "cd /disk/scratch/neuroglycerin/mnist/\n",
    "wget http://yann.lecun.com/exdb/mnist/train-images-idx3-ubyte.gz\n",
    "wget http://yann.lecun.com/exdb/mnist/train-labels-idx1-ubyte.gz\n",
    "wget http://yann.lecun.com/exdb/mnist/t10k-images-idx3-ubyte.gz\n",
    "wget http://yann.lecun.com/exdb/mnist/t10k-labels-idx1-ubyte.gz\n",
    "gzip -d *\n",
    "cd -"
   ]
  },
  {
   "cell_type": "markdown",
   "metadata": {},
   "source": [
    "And make sure the pylearn2 environment variable for it is set:"
   ]
  },
  {
   "cell_type": "code",
   "execution_count": 38,
   "metadata": {
    "collapsed": false
   },
   "outputs": [
    {
     "name": "stdout",
     "output_type": "stream",
     "text": [
      "env: PYLEARN2_DATA_PATH=/disk/scratch/neuroglycerin\n",
      "/disk/scratch/neuroglycerin\r\n"
     ]
    }
   ],
   "source": [
    "%env PYLEARN2_DATA_PATH=/disk/scratch/neuroglycerin\n",
    "!echo $PYLEARN2_DATA_PATH"
   ]
  },
  {
   "cell_type": "code",
   "execution_count": 9,
   "metadata": {
    "collapsed": false
   },
   "outputs": [
    {
     "name": "stdout",
     "output_type": "stream",
     "text": [
      "Automatic pdb calling has been turned ON\n"
     ]
    }
   ],
   "source": [
    "%pdb"
   ]
  },
  {
   "cell_type": "code",
   "execution_count": 11,
   "metadata": {
    "collapsed": false
   },
   "outputs": [
    {
     "name": "stdout",
     "output_type": "stream",
     "text": [
      "Input shape: (28, 28)\n",
      "Detector space: (24, 24)\n"
     ]
    },
    {
     "ename": "TypeError",
     "evalue": "cannot concatenate 'str' and 'NoneType' objects",
     "output_type": "error",
     "traceback": [
      "\u001b[1;31m---------------------------------------------------------------------------\u001b[0m",
      "\u001b[1;31mTypeError\u001b[0m                                 Traceback (most recent call last)",
      "\u001b[1;32m<ipython-input-11-a29d25125a51>\u001b[0m in \u001b[0;36m<module>\u001b[1;34m()\u001b[0m\n\u001b[0;32m      1\u001b[0m \u001b[1;32mfrom\u001b[0m \u001b[0mpylearn2\u001b[0m\u001b[1;33m.\u001b[0m\u001b[0mconfig\u001b[0m \u001b[1;32mimport\u001b[0m \u001b[0myaml_parse\u001b[0m\u001b[1;33m\u001b[0m\u001b[0m\n\u001b[1;32m----> 2\u001b[1;33m \u001b[0mtrain\u001b[0m \u001b[1;33m=\u001b[0m \u001b[0myaml_parse\u001b[0m\u001b[1;33m.\u001b[0m\u001b[0mload\u001b[0m\u001b[1;33m(\u001b[0m\u001b[0mtrain\u001b[0m\u001b[1;33m)\u001b[0m\u001b[1;33m\u001b[0m\u001b[0m\n\u001b[0m\u001b[0;32m      3\u001b[0m \u001b[0mtrain\u001b[0m\u001b[1;33m.\u001b[0m\u001b[0mmain_loop\u001b[0m\u001b[1;33m(\u001b[0m\u001b[1;33m)\u001b[0m\u001b[1;33m\u001b[0m\u001b[0m\n",
      "\u001b[1;32m/afs/inf.ed.ac.uk/user/s08/s0805516/repos/pylearn2/pylearn2/config/yaml_parse.pyc\u001b[0m in \u001b[0;36mload\u001b[1;34m(stream, environ, instantiate, **kwargs)\u001b[0m\n\u001b[0;32m    211\u001b[0m     \u001b[0mproxy_graph\u001b[0m \u001b[1;33m=\u001b[0m \u001b[0myaml\u001b[0m\u001b[1;33m.\u001b[0m\u001b[0mload\u001b[0m\u001b[1;33m(\u001b[0m\u001b[0mstring\u001b[0m\u001b[1;33m,\u001b[0m \u001b[1;33m**\u001b[0m\u001b[0mkwargs\u001b[0m\u001b[1;33m)\u001b[0m\u001b[1;33m\u001b[0m\u001b[0m\n\u001b[0;32m    212\u001b[0m     \u001b[1;32mif\u001b[0m \u001b[0minstantiate\u001b[0m\u001b[1;33m:\u001b[0m\u001b[1;33m\u001b[0m\u001b[0m\n\u001b[1;32m--> 213\u001b[1;33m         \u001b[1;32mreturn\u001b[0m \u001b[0m_instantiate\u001b[0m\u001b[1;33m(\u001b[0m\u001b[0mproxy_graph\u001b[0m\u001b[1;33m)\u001b[0m\u001b[1;33m\u001b[0m\u001b[0m\n\u001b[0m\u001b[0;32m    214\u001b[0m     \u001b[1;32melse\u001b[0m\u001b[1;33m:\u001b[0m\u001b[1;33m\u001b[0m\u001b[0m\n\u001b[0;32m    215\u001b[0m         \u001b[1;32mreturn\u001b[0m \u001b[0mproxy_graph\u001b[0m\u001b[1;33m\u001b[0m\u001b[0m\n",
      "\u001b[1;32m/afs/inf.ed.ac.uk/user/s08/s0805516/repos/pylearn2/pylearn2/config/yaml_parse.pyc\u001b[0m in \u001b[0;36m_instantiate\u001b[1;34m(proxy, bindings)\u001b[0m\n\u001b[0;32m    154\u001b[0m         \u001b[0mbindings\u001b[0m \u001b[1;33m=\u001b[0m \u001b[1;33m{\u001b[0m\u001b[1;33m}\u001b[0m\u001b[1;33m\u001b[0m\u001b[0m\n\u001b[0;32m    155\u001b[0m     \u001b[1;32mif\u001b[0m \u001b[0misinstance\u001b[0m\u001b[1;33m(\u001b[0m\u001b[0mproxy\u001b[0m\u001b[1;33m,\u001b[0m \u001b[0mProxy\u001b[0m\u001b[1;33m)\u001b[0m\u001b[1;33m:\u001b[0m\u001b[1;33m\u001b[0m\u001b[0m\n\u001b[1;32m--> 156\u001b[1;33m         \u001b[1;32mreturn\u001b[0m \u001b[0m_instantiate_proxy_tuple\u001b[0m\u001b[1;33m(\u001b[0m\u001b[0mproxy\u001b[0m\u001b[1;33m,\u001b[0m \u001b[0mbindings\u001b[0m\u001b[1;33m)\u001b[0m\u001b[1;33m\u001b[0m\u001b[0m\n\u001b[0m\u001b[0;32m    157\u001b[0m     \u001b[1;32melif\u001b[0m \u001b[0misinstance\u001b[0m\u001b[1;33m(\u001b[0m\u001b[0mproxy\u001b[0m\u001b[1;33m,\u001b[0m \u001b[0mdict\u001b[0m\u001b[1;33m)\u001b[0m\u001b[1;33m:\u001b[0m\u001b[1;33m\u001b[0m\u001b[0m\n\u001b[0;32m    158\u001b[0m         \u001b[1;31m# Recurse on the keys too, for backward compatibility.\u001b[0m\u001b[1;33m\u001b[0m\u001b[1;33m\u001b[0m\u001b[0m\n",
      "\u001b[1;32m/afs/inf.ed.ac.uk/user/s08/s0805516/repos/pylearn2/pylearn2/config/yaml_parse.pyc\u001b[0m in \u001b[0;36m_instantiate_proxy_tuple\u001b[1;34m(proxy, bindings)\u001b[0m\n\u001b[0;32m    119\u001b[0m                                           'supported in proxy instantiation')\n\u001b[0;32m    120\u001b[0m             kwargs = dict((k, _instantiate(v, bindings))\n\u001b[1;32m--> 121\u001b[1;33m                           for k, v in six.iteritems(proxy.keywords))\n\u001b[0m\u001b[0;32m    122\u001b[0m             \u001b[0mobj\u001b[0m \u001b[1;33m=\u001b[0m \u001b[0mchecked_call\u001b[0m\u001b[1;33m(\u001b[0m\u001b[0mproxy\u001b[0m\u001b[1;33m.\u001b[0m\u001b[0mcallable\u001b[0m\u001b[1;33m,\u001b[0m \u001b[0mkwargs\u001b[0m\u001b[1;33m)\u001b[0m\u001b[1;33m\u001b[0m\u001b[0m\n\u001b[0;32m    123\u001b[0m         \u001b[1;32mtry\u001b[0m\u001b[1;33m:\u001b[0m\u001b[1;33m\u001b[0m\u001b[0m\n",
      "\u001b[1;32m/afs/inf.ed.ac.uk/user/s08/s0805516/repos/pylearn2/pylearn2/config/yaml_parse.pyc\u001b[0m in \u001b[0;36m<genexpr>\u001b[1;34m((k, v))\u001b[0m\n\u001b[0;32m    119\u001b[0m                                           'supported in proxy instantiation')\n\u001b[0;32m    120\u001b[0m             kwargs = dict((k, _instantiate(v, bindings))\n\u001b[1;32m--> 121\u001b[1;33m                           for k, v in six.iteritems(proxy.keywords))\n\u001b[0m\u001b[0;32m    122\u001b[0m             \u001b[0mobj\u001b[0m \u001b[1;33m=\u001b[0m \u001b[0mchecked_call\u001b[0m\u001b[1;33m(\u001b[0m\u001b[0mproxy\u001b[0m\u001b[1;33m.\u001b[0m\u001b[0mcallable\u001b[0m\u001b[1;33m,\u001b[0m \u001b[0mkwargs\u001b[0m\u001b[1;33m)\u001b[0m\u001b[1;33m\u001b[0m\u001b[0m\n\u001b[0;32m    123\u001b[0m         \u001b[1;32mtry\u001b[0m\u001b[1;33m:\u001b[0m\u001b[1;33m\u001b[0m\u001b[0m\n",
      "\u001b[1;32m/afs/inf.ed.ac.uk/user/s08/s0805516/repos/pylearn2/pylearn2/config/yaml_parse.pyc\u001b[0m in \u001b[0;36m_instantiate\u001b[1;34m(proxy, bindings)\u001b[0m\n\u001b[0;32m    154\u001b[0m         \u001b[0mbindings\u001b[0m \u001b[1;33m=\u001b[0m \u001b[1;33m{\u001b[0m\u001b[1;33m}\u001b[0m\u001b[1;33m\u001b[0m\u001b[0m\n\u001b[0;32m    155\u001b[0m     \u001b[1;32mif\u001b[0m \u001b[0misinstance\u001b[0m\u001b[1;33m(\u001b[0m\u001b[0mproxy\u001b[0m\u001b[1;33m,\u001b[0m \u001b[0mProxy\u001b[0m\u001b[1;33m)\u001b[0m\u001b[1;33m:\u001b[0m\u001b[1;33m\u001b[0m\u001b[0m\n\u001b[1;32m--> 156\u001b[1;33m         \u001b[1;32mreturn\u001b[0m \u001b[0m_instantiate_proxy_tuple\u001b[0m\u001b[1;33m(\u001b[0m\u001b[0mproxy\u001b[0m\u001b[1;33m,\u001b[0m \u001b[0mbindings\u001b[0m\u001b[1;33m)\u001b[0m\u001b[1;33m\u001b[0m\u001b[0m\n\u001b[0m\u001b[0;32m    157\u001b[0m     \u001b[1;32melif\u001b[0m \u001b[0misinstance\u001b[0m\u001b[1;33m(\u001b[0m\u001b[0mproxy\u001b[0m\u001b[1;33m,\u001b[0m \u001b[0mdict\u001b[0m\u001b[1;33m)\u001b[0m\u001b[1;33m:\u001b[0m\u001b[1;33m\u001b[0m\u001b[0m\n\u001b[0;32m    158\u001b[0m         \u001b[1;31m# Recurse on the keys too, for backward compatibility.\u001b[0m\u001b[1;33m\u001b[0m\u001b[1;33m\u001b[0m\u001b[0m\n",
      "\u001b[1;32m/afs/inf.ed.ac.uk/user/s08/s0805516/repos/pylearn2/pylearn2/config/yaml_parse.pyc\u001b[0m in \u001b[0;36m_instantiate_proxy_tuple\u001b[1;34m(proxy, bindings)\u001b[0m\n\u001b[0;32m    120\u001b[0m             kwargs = dict((k, _instantiate(v, bindings))\n\u001b[0;32m    121\u001b[0m                           for k, v in six.iteritems(proxy.keywords))\n\u001b[1;32m--> 122\u001b[1;33m             \u001b[0mobj\u001b[0m \u001b[1;33m=\u001b[0m \u001b[0mchecked_call\u001b[0m\u001b[1;33m(\u001b[0m\u001b[0mproxy\u001b[0m\u001b[1;33m.\u001b[0m\u001b[0mcallable\u001b[0m\u001b[1;33m,\u001b[0m \u001b[0mkwargs\u001b[0m\u001b[1;33m)\u001b[0m\u001b[1;33m\u001b[0m\u001b[0m\n\u001b[0m\u001b[0;32m    123\u001b[0m         \u001b[1;32mtry\u001b[0m\u001b[1;33m:\u001b[0m\u001b[1;33m\u001b[0m\u001b[0m\n\u001b[0;32m    124\u001b[0m             \u001b[0mobj\u001b[0m\u001b[1;33m.\u001b[0m\u001b[0myaml_src\u001b[0m \u001b[1;33m=\u001b[0m \u001b[0mproxy\u001b[0m\u001b[1;33m.\u001b[0m\u001b[0myaml_src\u001b[0m\u001b[1;33m\u001b[0m\u001b[0m\n",
      "\u001b[1;32m/afs/inf.ed.ac.uk/user/s08/s0805516/repos/pylearn2/pylearn2/utils/call_check.pyc\u001b[0m in \u001b[0;36mchecked_call\u001b[1;34m(to_call, kwargs)\u001b[0m\n\u001b[0;32m     97\u001b[0m     \"\"\"\n\u001b[0;32m     98\u001b[0m     \u001b[1;32mtry\u001b[0m\u001b[1;33m:\u001b[0m\u001b[1;33m\u001b[0m\u001b[0m\n\u001b[1;32m---> 99\u001b[1;33m         \u001b[1;32mreturn\u001b[0m \u001b[0mto_call\u001b[0m\u001b[1;33m(\u001b[0m\u001b[1;33m**\u001b[0m\u001b[0mkwargs\u001b[0m\u001b[1;33m)\u001b[0m\u001b[1;33m\u001b[0m\u001b[0m\n\u001b[0m\u001b[0;32m    100\u001b[0m     \u001b[1;32mexcept\u001b[0m \u001b[0mTypeError\u001b[0m\u001b[1;33m:\u001b[0m\u001b[1;33m\u001b[0m\u001b[0m\n\u001b[0;32m    101\u001b[0m         \u001b[0mcheck_call_arguments\u001b[0m\u001b[1;33m(\u001b[0m\u001b[0mto_call\u001b[0m\u001b[1;33m,\u001b[0m \u001b[0mkwargs\u001b[0m\u001b[1;33m)\u001b[0m\u001b[1;33m\u001b[0m\u001b[0m\n",
      "\u001b[1;32m/afs/inf.ed.ac.uk/user/s08/s0805516/repos/pylearn2/pylearn2/models/mlp.pyc\u001b[0m in \u001b[0;36m__init__\u001b[1;34m(self, layers, batch_size, input_space, input_source, target_source, nvis, seed, layer_name, monitor_targets, **kwargs)\u001b[0m\n\u001b[0;32m    486\u001b[0m             \u001b[0mself\u001b[0m\u001b[1;33m.\u001b[0m\u001b[0minput_space\u001b[0m \u001b[1;33m=\u001b[0m \u001b[0minput_space\u001b[0m\u001b[1;33m\u001b[0m\u001b[0m\n\u001b[0;32m    487\u001b[0m \u001b[1;33m\u001b[0m\u001b[0m\n\u001b[1;32m--> 488\u001b[1;33m             \u001b[0mself\u001b[0m\u001b[1;33m.\u001b[0m\u001b[0m_update_layer_input_spaces\u001b[0m\u001b[1;33m(\u001b[0m\u001b[1;33m)\u001b[0m\u001b[1;33m\u001b[0m\u001b[0m\n\u001b[0m\u001b[0;32m    489\u001b[0m         \u001b[1;32melse\u001b[0m\u001b[1;33m:\u001b[0m\u001b[1;33m\u001b[0m\u001b[0m\n\u001b[0;32m    490\u001b[0m             \u001b[0mself\u001b[0m\u001b[1;33m.\u001b[0m\u001b[0m_nested\u001b[0m \u001b[1;33m=\u001b[0m \u001b[0mTrue\u001b[0m\u001b[1;33m\u001b[0m\u001b[0m\n",
      "\u001b[1;32m/afs/inf.ed.ac.uk/user/s08/s0805516/repos/pylearn2/pylearn2/models/mlp.pyc\u001b[0m in \u001b[0;36m_update_layer_input_spaces\u001b[1;34m(self)\u001b[0m\n\u001b[0;32m    551\u001b[0m         \u001b[0mlayers\u001b[0m \u001b[1;33m=\u001b[0m \u001b[0mself\u001b[0m\u001b[1;33m.\u001b[0m\u001b[0mlayers\u001b[0m\u001b[1;33m\u001b[0m\u001b[0m\n\u001b[0;32m    552\u001b[0m         \u001b[1;32mtry\u001b[0m\u001b[1;33m:\u001b[0m\u001b[1;33m\u001b[0m\u001b[0m\n\u001b[1;32m--> 553\u001b[1;33m             \u001b[0mlayers\u001b[0m\u001b[1;33m[\u001b[0m\u001b[1;36m0\u001b[0m\u001b[1;33m]\u001b[0m\u001b[1;33m.\u001b[0m\u001b[0mset_input_space\u001b[0m\u001b[1;33m(\u001b[0m\u001b[0mself\u001b[0m\u001b[1;33m.\u001b[0m\u001b[0mget_input_space\u001b[0m\u001b[1;33m(\u001b[0m\u001b[1;33m)\u001b[0m\u001b[1;33m)\u001b[0m\u001b[1;33m\u001b[0m\u001b[0m\n\u001b[0m\u001b[0;32m    554\u001b[0m         \u001b[1;32mexcept\u001b[0m \u001b[0mBadInputSpaceError\u001b[0m \u001b[1;32mas\u001b[0m \u001b[0me\u001b[0m\u001b[1;33m:\u001b[0m\u001b[1;33m\u001b[0m\u001b[0m\n\u001b[0;32m    555\u001b[0m             raise TypeError(\"Layer 0 (\" + str(layers[0]) + \" of type \" +\n",
      "\u001b[1;32m/afs/inf.ed.ac.uk/user/s08/s0805516/repos/pylearn2/pylearn2/sandbox/rnn/models/mlp_hook.py\u001b[0m in \u001b[0;36mouter\u001b[1;34m(self, input_space)\u001b[0m\n\u001b[0;32m    335\u001b[0m                         \u001b[0mself\u001b[0m\u001b[1;33m.\u001b[0m\u001b[0m_requires_reshape\u001b[0m \u001b[1;33m=\u001b[0m \u001b[0mTrue\u001b[0m\u001b[1;33m\u001b[0m\u001b[0m\n\u001b[0;32m    336\u001b[0m                         \u001b[0minput_space\u001b[0m \u001b[1;33m=\u001b[0m \u001b[0minput_space\u001b[0m\u001b[1;33m.\u001b[0m\u001b[0mspace\u001b[0m\u001b[1;33m\u001b[0m\u001b[0m\n\u001b[1;32m--> 337\u001b[1;33m             \u001b[1;32mreturn\u001b[0m \u001b[0mset_input_space\u001b[0m\u001b[1;33m(\u001b[0m\u001b[0mself\u001b[0m\u001b[1;33m,\u001b[0m \u001b[0minput_space\u001b[0m\u001b[1;33m)\u001b[0m\u001b[1;33m\u001b[0m\u001b[0m\n\u001b[0m\u001b[0;32m    338\u001b[0m         \u001b[1;32mreturn\u001b[0m \u001b[0mouter\u001b[0m\u001b[1;33m\u001b[0m\u001b[0m\n\u001b[0;32m    339\u001b[0m \u001b[1;33m\u001b[0m\u001b[0m\n",
      "\u001b[1;32m/afs/inf.ed.ac.uk/user/s08/s0805516/repos/pylearn2/pylearn2/sandbox/rnn/models/mlp_hook.py\u001b[0m in \u001b[0;36mouter\u001b[1;34m(self, input_space)\u001b[0m\n\u001b[0;32m    335\u001b[0m                         \u001b[0mself\u001b[0m\u001b[1;33m.\u001b[0m\u001b[0m_requires_reshape\u001b[0m \u001b[1;33m=\u001b[0m \u001b[0mTrue\u001b[0m\u001b[1;33m\u001b[0m\u001b[0m\n\u001b[0;32m    336\u001b[0m                         \u001b[0minput_space\u001b[0m \u001b[1;33m=\u001b[0m \u001b[0minput_space\u001b[0m\u001b[1;33m.\u001b[0m\u001b[0mspace\u001b[0m\u001b[1;33m\u001b[0m\u001b[0m\n\u001b[1;32m--> 337\u001b[1;33m             \u001b[1;32mreturn\u001b[0m \u001b[0mset_input_space\u001b[0m\u001b[1;33m(\u001b[0m\u001b[0mself\u001b[0m\u001b[1;33m,\u001b[0m \u001b[0minput_space\u001b[0m\u001b[1;33m)\u001b[0m\u001b[1;33m\u001b[0m\u001b[0m\n\u001b[0m\u001b[0;32m    338\u001b[0m         \u001b[1;32mreturn\u001b[0m \u001b[0mouter\u001b[0m\u001b[1;33m\u001b[0m\u001b[0m\n\u001b[0;32m    339\u001b[0m \u001b[1;33m\u001b[0m\u001b[0m\n",
      "\u001b[1;32m/afs/inf.ed.ac.uk/user/s08/s0805516/repos/pylearn2/pylearn2/models/mlp.pyc\u001b[0m in \u001b[0;36mset_input_space\u001b[1;34m(self, space)\u001b[0m\n\u001b[0;32m   3096\u001b[0m         \u001b[0mlogger\u001b[0m\u001b[1;33m.\u001b[0m\u001b[0minfo\u001b[0m\u001b[1;33m(\u001b[0m\u001b[1;34m'Detector space: {0}'\u001b[0m\u001b[1;33m.\u001b[0m\u001b[0mformat\u001b[0m\u001b[1;33m(\u001b[0m\u001b[0mself\u001b[0m\u001b[1;33m.\u001b[0m\u001b[0mdetector_space\u001b[0m\u001b[1;33m.\u001b[0m\u001b[0mshape\u001b[0m\u001b[1;33m)\u001b[0m\u001b[1;33m)\u001b[0m\u001b[1;33m\u001b[0m\u001b[0m\n\u001b[0;32m   3097\u001b[0m \u001b[1;33m\u001b[0m\u001b[0m\n\u001b[1;32m-> 3098\u001b[1;33m         \u001b[0mself\u001b[0m\u001b[1;33m.\u001b[0m\u001b[0minitialize_output_space\u001b[0m\u001b[1;33m(\u001b[0m\u001b[1;33m)\u001b[0m\u001b[1;33m\u001b[0m\u001b[0m\n\u001b[0m\u001b[0;32m   3099\u001b[0m \u001b[1;33m\u001b[0m\u001b[0m\n\u001b[0;32m   3100\u001b[0m     \u001b[1;33m@\u001b[0m\u001b[0mwraps\u001b[0m\u001b[1;33m(\u001b[0m\u001b[0mLayer\u001b[0m\u001b[1;33m.\u001b[0m\u001b[0m_modify_updates\u001b[0m\u001b[1;33m)\u001b[0m\u001b[1;33m\u001b[0m\u001b[0m\n",
      "\u001b[1;32m/afs/inf.ed.ac.uk/user/s08/s0805516/repos/pylearn2/pylearn2/models/mlp.pyc\u001b[0m in \u001b[0;36minitialize_output_space\u001b[1;34m(self)\u001b[0m\n\u001b[0;32m   3026\u001b[0m                                    \u001b[0mpool_shape\u001b[0m\u001b[1;33m=\u001b[0m\u001b[0mself\u001b[0m\u001b[1;33m.\u001b[0m\u001b[0mpool_shape\u001b[0m\u001b[1;33m,\u001b[0m\u001b[1;33m\u001b[0m\u001b[0m\n\u001b[0;32m   3027\u001b[0m                                    \u001b[0mpool_stride\u001b[0m\u001b[1;33m=\u001b[0m\u001b[0mself\u001b[0m\u001b[1;33m.\u001b[0m\u001b[0mpool_stride\u001b[0m\u001b[1;33m,\u001b[0m\u001b[1;33m\u001b[0m\u001b[0m\n\u001b[1;32m-> 3028\u001b[1;33m                                    image_shape=self.detector_space.shape)\n\u001b[0m\u001b[0;32m   3029\u001b[0m             \u001b[1;32melif\u001b[0m \u001b[0mself\u001b[0m\u001b[1;33m.\u001b[0m\u001b[0mpool_type\u001b[0m \u001b[1;33m==\u001b[0m \u001b[1;34m'mean'\u001b[0m\u001b[1;33m:\u001b[0m\u001b[1;33m\u001b[0m\u001b[0m\n\u001b[0;32m   3030\u001b[0m                 dummy_p = mean_pool(bc01=dummy_detector,\n",
      "\u001b[1;32m/afs/inf.ed.ac.uk/user/s08/s0805516/repos/pylearn2/pylearn2/models/mlp.pyc\u001b[0m in \u001b[0;36mmax_pool\u001b[1;34m(bc01, pool_shape, pool_stride, image_shape, try_dnn)\u001b[0m\n\u001b[0;32m   3568\u001b[0m                            col_within_pool:col_stop:cs]\n\u001b[0;32m   3569\u001b[0m                 cur.name = ('max_pool_cur_' + bc01.name + '_' +\n\u001b[1;32m-> 3570\u001b[1;33m                             str(row_within_pool) + '_' + str(col_within_pool))\n\u001b[0m\u001b[0;32m   3571\u001b[0m                 \u001b[1;32mif\u001b[0m \u001b[0mmx\u001b[0m \u001b[1;32mis\u001b[0m \u001b[0mNone\u001b[0m\u001b[1;33m:\u001b[0m\u001b[1;33m\u001b[0m\u001b[0m\n\u001b[0;32m   3572\u001b[0m                     \u001b[0mmx\u001b[0m \u001b[1;33m=\u001b[0m \u001b[0mcur\u001b[0m\u001b[1;33m\u001b[0m\u001b[0m\n",
      "\u001b[1;31mTypeError\u001b[0m: cannot concatenate 'str' and 'NoneType' objects"
     ]
    },
    {
     "name": "stdout",
     "output_type": "stream",
     "text": [
      "> \u001b[1;32m/afs/inf.ed.ac.uk/user/s08/s0805516/repos/pylearn2/pylearn2/models/mlp.py\u001b[0m(3570)\u001b[0;36mmax_pool\u001b[1;34m()\u001b[0m\n",
      "\u001b[1;32m   3569 \u001b[1;33m                cur.name = ('max_pool_cur_' + bc01.name + '_' +\n",
      "\u001b[0m\u001b[1;32m-> 3570 \u001b[1;33m                            str(row_within_pool) + '_' + str(col_within_pool))\n",
      "\u001b[0m\u001b[1;32m   3571 \u001b[1;33m                \u001b[1;32mif\u001b[0m \u001b[0mmx\u001b[0m \u001b[1;32mis\u001b[0m \u001b[0mNone\u001b[0m\u001b[1;33m:\u001b[0m\u001b[1;33m\u001b[0m\u001b[0m\n",
      "\u001b[0m\n",
      "ipdb> print bc01\n",
      "<CudaNdarrayType(float32, 4D)>\n",
      "ipdb> exit\n"
     ]
    }
   ],
   "source": [
    "from pylearn2.config import yaml_parse\n",
    "train = yaml_parse.load(train)\n",
    "train.main_loop()"
   ]
  },
  {
   "cell_type": "markdown",
   "metadata": {},
   "source": [
    "__Giving up on that yaml file__. Trying the `mnist.yaml` that is supplied with the repo:"
   ]
  },
  {
   "cell_type": "code",
   "execution_count": 17,
   "metadata": {
    "collapsed": false
   },
   "outputs": [
    {
     "name": "stdout",
     "output_type": "stream",
     "text": [
      "Automatic pdb calling has been turned OFF\n"
     ]
    }
   ],
   "source": [
    "%pdb"
   ]
  },
  {
   "cell_type": "code",
   "execution_count": 43,
   "metadata": {
    "collapsed": false
   },
   "outputs": [
    {
     "name": "stdout",
     "output_type": "stream",
     "text": [
      "Input shape: (28, 28)\n",
      "Detector space: (21, 21)\n",
      "Output space: (10, 10)\n",
      "Input shape: (10, 10)\n",
      "Detector space: (9, 9)\n",
      "Output space: (4, 4)\n",
      "Input shape: (4, 4)\n",
      "Detector space: (6, 6)\n",
      "Output space: (3, 3)\n"
     ]
    },
    {
     "name": "stderr",
     "output_type": "stream",
     "text": [
      "INFO:pylearn2.training_algorithms.sgd:Parameter and initial learning rate summary:\n"
     ]
    },
    {
     "name": "stdout",
     "output_type": "stream",
     "text": [
      "Parameter and initial learning rate summary:\n"
     ]
    },
    {
     "name": "stderr",
     "output_type": "stream",
     "text": [
      "INFO:pylearn2.training_algorithms.sgd:\th0_W: 0.0500000007451\n"
     ]
    },
    {
     "name": "stdout",
     "output_type": "stream",
     "text": [
      "\th0_W: 0.0500000007451\n"
     ]
    },
    {
     "name": "stderr",
     "output_type": "stream",
     "text": [
      "INFO:pylearn2.training_algorithms.sgd:\th0_b: 0.0500000007451\n"
     ]
    },
    {
     "name": "stdout",
     "output_type": "stream",
     "text": [
      "\th0_b: 0.0500000007451\n"
     ]
    },
    {
     "name": "stderr",
     "output_type": "stream",
     "text": [
      "INFO:pylearn2.training_algorithms.sgd:\th1_W: 0.0500000007451\n"
     ]
    },
    {
     "name": "stdout",
     "output_type": "stream",
     "text": [
      "\th1_W: 0.0500000007451\n"
     ]
    },
    {
     "name": "stderr",
     "output_type": "stream",
     "text": [
      "INFO:pylearn2.training_algorithms.sgd:\th1_b: 0.0500000007451\n"
     ]
    },
    {
     "name": "stdout",
     "output_type": "stream",
     "text": [
      "\th1_b: 0.0500000007451\n"
     ]
    },
    {
     "name": "stderr",
     "output_type": "stream",
     "text": [
      "INFO:pylearn2.training_algorithms.sgd:\th2_W: 0.0500000007451\n"
     ]
    },
    {
     "name": "stdout",
     "output_type": "stream",
     "text": [
      "\th2_W: 0.0500000007451\n"
     ]
    },
    {
     "name": "stderr",
     "output_type": "stream",
     "text": [
      "INFO:pylearn2.training_algorithms.sgd:\th2_b: 0.0500000007451\n"
     ]
    },
    {
     "name": "stdout",
     "output_type": "stream",
     "text": [
      "\th2_b: 0.0500000007451\n"
     ]
    },
    {
     "name": "stderr",
     "output_type": "stream",
     "text": [
      "INFO:pylearn2.training_algorithms.sgd:\tsoftmax_b: 0.0500000007451\n"
     ]
    },
    {
     "name": "stdout",
     "output_type": "stream",
     "text": [
      "\tsoftmax_b: 0.0500000007451\n"
     ]
    },
    {
     "name": "stderr",
     "output_type": "stream",
     "text": [
      "INFO:pylearn2.training_algorithms.sgd:\tsoftmax_W: 0.0500000007451\n"
     ]
    },
    {
     "name": "stdout",
     "output_type": "stream",
     "text": [
      "\tsoftmax_W: 0.0500000007451\n"
     ]
    },
    {
     "name": "stderr",
     "output_type": "stream",
     "text": [
      "/afs/inf.ed.ac.uk/user/s08/s0805516/repos/pylearn2/pylearn2/utils/iteration.py:783: UserWarning: dataset is using the old iterator interface which is deprecated and will become officially unsupported as of July 28, 2015. The dataset should implement a `get` method respecting the new interface.\n",
      "  warnings.warn(\"dataset is using the old iterator interface which \"\n",
      "INFO:pylearn2.training_algorithms.sgd:Compiling sgd_update...\n"
     ]
    },
    {
     "name": "stdout",
     "output_type": "stream",
     "text": [
      "Compiling sgd_update...\n"
     ]
    },
    {
     "name": "stderr",
     "output_type": "stream",
     "text": [
      "INFO:pylearn2.training_algorithms.sgd:Compiling sgd_update done. Time elapsed: 0:04:01.617780\n"
     ]
    },
    {
     "name": "stdout",
     "output_type": "stream",
     "text": [
      "Compiling sgd_update done. Time elapsed: 0:04:01.617780\n"
     ]
    },
    {
     "name": "stderr",
     "output_type": "stream",
     "text": [
      "INFO:pylearn2.monitor:compiling begin_record_entry...\n"
     ]
    },
    {
     "name": "stdout",
     "output_type": "stream",
     "text": [
      "compiling begin_record_entry...\n"
     ]
    },
    {
     "name": "stderr",
     "output_type": "stream",
     "text": [
      "INFO:pylearn2.monitor:compiling begin_record_entry done. Time elapsed: 3.089335 seconds\n"
     ]
    },
    {
     "name": "stdout",
     "output_type": "stream",
     "text": [
      "compiling begin_record_entry done. Time elapsed: 3.089335 seconds\n"
     ]
    },
    {
     "name": "stderr",
     "output_type": "stream",
     "text": [
      "INFO:pylearn2.monitor:Monitored channels: \n"
     ]
    },
    {
     "name": "stdout",
     "output_type": "stream",
     "text": [
      "Monitored channels: \n"
     ]
    },
    {
     "name": "stderr",
     "output_type": "stream",
     "text": [
      "INFO:pylearn2.monitor:\tlearning_rate\n"
     ]
    },
    {
     "name": "stdout",
     "output_type": "stream",
     "text": [
      "\tlearning_rate\n"
     ]
    },
    {
     "name": "stderr",
     "output_type": "stream",
     "text": [
      "INFO:pylearn2.monitor:\tmomentum\n"
     ]
    },
    {
     "name": "stdout",
     "output_type": "stream",
     "text": [
      "\tmomentum\n"
     ]
    },
    {
     "name": "stderr",
     "output_type": "stream",
     "text": [
      "INFO:pylearn2.monitor:\ttotal_seconds_last_epoch\n"
     ]
    },
    {
     "name": "stdout",
     "output_type": "stream",
     "text": [
      "\ttotal_seconds_last_epoch\n"
     ]
    },
    {
     "name": "stderr",
     "output_type": "stream",
     "text": [
      "INFO:pylearn2.monitor:\ttraining_seconds_this_epoch\n"
     ]
    },
    {
     "name": "stdout",
     "output_type": "stream",
     "text": [
      "\ttraining_seconds_this_epoch\n"
     ]
    },
    {
     "name": "stderr",
     "output_type": "stream",
     "text": [
      "INFO:pylearn2.monitor:\tvalid_h0_kernel_norms_max\n"
     ]
    },
    {
     "name": "stdout",
     "output_type": "stream",
     "text": [
      "\tvalid_h0_kernel_norms_max\n"
     ]
    },
    {
     "name": "stderr",
     "output_type": "stream",
     "text": [
      "INFO:pylearn2.monitor:\tvalid_h0_kernel_norms_mean\n"
     ]
    },
    {
     "name": "stdout",
     "output_type": "stream",
     "text": [
      "\tvalid_h0_kernel_norms_mean\n"
     ]
    },
    {
     "name": "stderr",
     "output_type": "stream",
     "text": [
      "INFO:pylearn2.monitor:\tvalid_h0_kernel_norms_min\n"
     ]
    },
    {
     "name": "stdout",
     "output_type": "stream",
     "text": [
      "\tvalid_h0_kernel_norms_min\n"
     ]
    },
    {
     "name": "stderr",
     "output_type": "stream",
     "text": [
      "INFO:pylearn2.monitor:\tvalid_h0_max_x.max_u\n"
     ]
    },
    {
     "name": "stdout",
     "output_type": "stream",
     "text": [
      "\tvalid_h0_max_x.max_u\n"
     ]
    },
    {
     "name": "stderr",
     "output_type": "stream",
     "text": [
      "INFO:pylearn2.monitor:\tvalid_h0_max_x.mean_u\n"
     ]
    },
    {
     "name": "stdout",
     "output_type": "stream",
     "text": [
      "\tvalid_h0_max_x.mean_u\n"
     ]
    },
    {
     "name": "stderr",
     "output_type": "stream",
     "text": [
      "INFO:pylearn2.monitor:\tvalid_h0_max_x.min_u\n"
     ]
    },
    {
     "name": "stdout",
     "output_type": "stream",
     "text": [
      "\tvalid_h0_max_x.min_u\n"
     ]
    },
    {
     "name": "stderr",
     "output_type": "stream",
     "text": [
      "INFO:pylearn2.monitor:\tvalid_h0_mean_x.max_u\n"
     ]
    },
    {
     "name": "stdout",
     "output_type": "stream",
     "text": [
      "\tvalid_h0_mean_x.max_u\n"
     ]
    },
    {
     "name": "stderr",
     "output_type": "stream",
     "text": [
      "INFO:pylearn2.monitor:\tvalid_h0_mean_x.mean_u\n"
     ]
    },
    {
     "name": "stdout",
     "output_type": "stream",
     "text": [
      "\tvalid_h0_mean_x.mean_u\n"
     ]
    },
    {
     "name": "stderr",
     "output_type": "stream",
     "text": [
      "INFO:pylearn2.monitor:\tvalid_h0_mean_x.min_u\n"
     ]
    },
    {
     "name": "stdout",
     "output_type": "stream",
     "text": [
      "\tvalid_h0_mean_x.min_u\n"
     ]
    },
    {
     "name": "stderr",
     "output_type": "stream",
     "text": [
      "INFO:pylearn2.monitor:\tvalid_h0_min_x.max_u\n"
     ]
    },
    {
     "name": "stdout",
     "output_type": "stream",
     "text": [
      "\tvalid_h0_min_x.max_u\n"
     ]
    },
    {
     "name": "stderr",
     "output_type": "stream",
     "text": [
      "INFO:pylearn2.monitor:\tvalid_h0_min_x.mean_u\n"
     ]
    },
    {
     "name": "stdout",
     "output_type": "stream",
     "text": [
      "\tvalid_h0_min_x.mean_u\n"
     ]
    },
    {
     "name": "stderr",
     "output_type": "stream",
     "text": [
      "INFO:pylearn2.monitor:\tvalid_h0_min_x.min_u\n"
     ]
    },
    {
     "name": "stdout",
     "output_type": "stream",
     "text": [
      "\tvalid_h0_min_x.min_u\n"
     ]
    },
    {
     "name": "stderr",
     "output_type": "stream",
     "text": [
      "INFO:pylearn2.monitor:\tvalid_h0_range_x.max_u\n"
     ]
    },
    {
     "name": "stdout",
     "output_type": "stream",
     "text": [
      "\tvalid_h0_range_x.max_u\n"
     ]
    },
    {
     "name": "stderr",
     "output_type": "stream",
     "text": [
      "INFO:pylearn2.monitor:\tvalid_h0_range_x.mean_u\n"
     ]
    },
    {
     "name": "stdout",
     "output_type": "stream",
     "text": [
      "\tvalid_h0_range_x.mean_u\n"
     ]
    },
    {
     "name": "stderr",
     "output_type": "stream",
     "text": [
      "INFO:pylearn2.monitor:\tvalid_h0_range_x.min_u\n"
     ]
    },
    {
     "name": "stdout",
     "output_type": "stream",
     "text": [
      "\tvalid_h0_range_x.min_u\n"
     ]
    },
    {
     "name": "stderr",
     "output_type": "stream",
     "text": [
      "INFO:pylearn2.monitor:\tvalid_h1_kernel_norms_max\n"
     ]
    },
    {
     "name": "stdout",
     "output_type": "stream",
     "text": [
      "\tvalid_h1_kernel_norms_max\n"
     ]
    },
    {
     "name": "stderr",
     "output_type": "stream",
     "text": [
      "INFO:pylearn2.monitor:\tvalid_h1_kernel_norms_mean\n"
     ]
    },
    {
     "name": "stdout",
     "output_type": "stream",
     "text": [
      "\tvalid_h1_kernel_norms_mean\n"
     ]
    },
    {
     "name": "stderr",
     "output_type": "stream",
     "text": [
      "INFO:pylearn2.monitor:\tvalid_h1_kernel_norms_min\n"
     ]
    },
    {
     "name": "stdout",
     "output_type": "stream",
     "text": [
      "\tvalid_h1_kernel_norms_min\n"
     ]
    },
    {
     "name": "stderr",
     "output_type": "stream",
     "text": [
      "INFO:pylearn2.monitor:\tvalid_h1_max_x.max_u\n"
     ]
    },
    {
     "name": "stdout",
     "output_type": "stream",
     "text": [
      "\tvalid_h1_max_x.max_u\n"
     ]
    },
    {
     "name": "stderr",
     "output_type": "stream",
     "text": [
      "INFO:pylearn2.monitor:\tvalid_h1_max_x.mean_u\n"
     ]
    },
    {
     "name": "stdout",
     "output_type": "stream",
     "text": [
      "\tvalid_h1_max_x.mean_u\n"
     ]
    },
    {
     "name": "stderr",
     "output_type": "stream",
     "text": [
      "INFO:pylearn2.monitor:\tvalid_h1_max_x.min_u\n"
     ]
    },
    {
     "name": "stdout",
     "output_type": "stream",
     "text": [
      "\tvalid_h1_max_x.min_u\n"
     ]
    },
    {
     "name": "stderr",
     "output_type": "stream",
     "text": [
      "INFO:pylearn2.monitor:\tvalid_h1_mean_x.max_u\n"
     ]
    },
    {
     "name": "stdout",
     "output_type": "stream",
     "text": [
      "\tvalid_h1_mean_x.max_u\n"
     ]
    },
    {
     "name": "stderr",
     "output_type": "stream",
     "text": [
      "INFO:pylearn2.monitor:\tvalid_h1_mean_x.mean_u\n"
     ]
    },
    {
     "name": "stdout",
     "output_type": "stream",
     "text": [
      "\tvalid_h1_mean_x.mean_u\n"
     ]
    },
    {
     "name": "stderr",
     "output_type": "stream",
     "text": [
      "INFO:pylearn2.monitor:\tvalid_h1_mean_x.min_u\n"
     ]
    },
    {
     "name": "stdout",
     "output_type": "stream",
     "text": [
      "\tvalid_h1_mean_x.min_u\n"
     ]
    },
    {
     "name": "stderr",
     "output_type": "stream",
     "text": [
      "INFO:pylearn2.monitor:\tvalid_h1_min_x.max_u\n"
     ]
    },
    {
     "name": "stdout",
     "output_type": "stream",
     "text": [
      "\tvalid_h1_min_x.max_u\n"
     ]
    },
    {
     "name": "stderr",
     "output_type": "stream",
     "text": [
      "INFO:pylearn2.monitor:\tvalid_h1_min_x.mean_u\n"
     ]
    },
    {
     "name": "stdout",
     "output_type": "stream",
     "text": [
      "\tvalid_h1_min_x.mean_u\n"
     ]
    },
    {
     "name": "stderr",
     "output_type": "stream",
     "text": [
      "INFO:pylearn2.monitor:\tvalid_h1_min_x.min_u\n"
     ]
    },
    {
     "name": "stdout",
     "output_type": "stream",
     "text": [
      "\tvalid_h1_min_x.min_u\n"
     ]
    },
    {
     "name": "stderr",
     "output_type": "stream",
     "text": [
      "INFO:pylearn2.monitor:\tvalid_h1_range_x.max_u\n"
     ]
    },
    {
     "name": "stdout",
     "output_type": "stream",
     "text": [
      "\tvalid_h1_range_x.max_u\n"
     ]
    },
    {
     "name": "stderr",
     "output_type": "stream",
     "text": [
      "INFO:pylearn2.monitor:\tvalid_h1_range_x.mean_u\n"
     ]
    },
    {
     "name": "stdout",
     "output_type": "stream",
     "text": [
      "\tvalid_h1_range_x.mean_u\n"
     ]
    },
    {
     "name": "stderr",
     "output_type": "stream",
     "text": [
      "INFO:pylearn2.monitor:\tvalid_h1_range_x.min_u\n"
     ]
    },
    {
     "name": "stdout",
     "output_type": "stream",
     "text": [
      "\tvalid_h1_range_x.min_u\n"
     ]
    },
    {
     "name": "stderr",
     "output_type": "stream",
     "text": [
      "INFO:pylearn2.monitor:\tvalid_h2_kernel_norms_max\n"
     ]
    },
    {
     "name": "stdout",
     "output_type": "stream",
     "text": [
      "\tvalid_h2_kernel_norms_max\n"
     ]
    },
    {
     "name": "stderr",
     "output_type": "stream",
     "text": [
      "INFO:pylearn2.monitor:\tvalid_h2_kernel_norms_mean\n"
     ]
    },
    {
     "name": "stdout",
     "output_type": "stream",
     "text": [
      "\tvalid_h2_kernel_norms_mean\n"
     ]
    },
    {
     "name": "stderr",
     "output_type": "stream",
     "text": [
      "INFO:pylearn2.monitor:\tvalid_h2_kernel_norms_min\n"
     ]
    },
    {
     "name": "stdout",
     "output_type": "stream",
     "text": [
      "\tvalid_h2_kernel_norms_min\n"
     ]
    },
    {
     "name": "stderr",
     "output_type": "stream",
     "text": [
      "INFO:pylearn2.monitor:\tvalid_h2_max_x.max_u\n"
     ]
    },
    {
     "name": "stdout",
     "output_type": "stream",
     "text": [
      "\tvalid_h2_max_x.max_u\n"
     ]
    },
    {
     "name": "stderr",
     "output_type": "stream",
     "text": [
      "INFO:pylearn2.monitor:\tvalid_h2_max_x.mean_u\n"
     ]
    },
    {
     "name": "stdout",
     "output_type": "stream",
     "text": [
      "\tvalid_h2_max_x.mean_u\n"
     ]
    },
    {
     "name": "stderr",
     "output_type": "stream",
     "text": [
      "INFO:pylearn2.monitor:\tvalid_h2_max_x.min_u\n"
     ]
    },
    {
     "name": "stdout",
     "output_type": "stream",
     "text": [
      "\tvalid_h2_max_x.min_u\n"
     ]
    },
    {
     "name": "stderr",
     "output_type": "stream",
     "text": [
      "INFO:pylearn2.monitor:\tvalid_h2_mean_x.max_u\n"
     ]
    },
    {
     "name": "stdout",
     "output_type": "stream",
     "text": [
      "\tvalid_h2_mean_x.max_u\n"
     ]
    },
    {
     "name": "stderr",
     "output_type": "stream",
     "text": [
      "INFO:pylearn2.monitor:\tvalid_h2_mean_x.mean_u\n"
     ]
    },
    {
     "name": "stdout",
     "output_type": "stream",
     "text": [
      "\tvalid_h2_mean_x.mean_u\n"
     ]
    },
    {
     "name": "stderr",
     "output_type": "stream",
     "text": [
      "INFO:pylearn2.monitor:\tvalid_h2_mean_x.min_u\n"
     ]
    },
    {
     "name": "stdout",
     "output_type": "stream",
     "text": [
      "\tvalid_h2_mean_x.min_u\n"
     ]
    },
    {
     "name": "stderr",
     "output_type": "stream",
     "text": [
      "INFO:pylearn2.monitor:\tvalid_h2_min_x.max_u\n"
     ]
    },
    {
     "name": "stdout",
     "output_type": "stream",
     "text": [
      "\tvalid_h2_min_x.max_u\n"
     ]
    },
    {
     "name": "stderr",
     "output_type": "stream",
     "text": [
      "INFO:pylearn2.monitor:\tvalid_h2_min_x.mean_u\n"
     ]
    },
    {
     "name": "stdout",
     "output_type": "stream",
     "text": [
      "\tvalid_h2_min_x.mean_u\n"
     ]
    },
    {
     "name": "stderr",
     "output_type": "stream",
     "text": [
      "INFO:pylearn2.monitor:\tvalid_h2_min_x.min_u\n"
     ]
    },
    {
     "name": "stdout",
     "output_type": "stream",
     "text": [
      "\tvalid_h2_min_x.min_u\n"
     ]
    },
    {
     "name": "stderr",
     "output_type": "stream",
     "text": [
      "INFO:pylearn2.monitor:\tvalid_h2_range_x.max_u\n"
     ]
    },
    {
     "name": "stdout",
     "output_type": "stream",
     "text": [
      "\tvalid_h2_range_x.max_u\n"
     ]
    },
    {
     "name": "stderr",
     "output_type": "stream",
     "text": [
      "INFO:pylearn2.monitor:\tvalid_h2_range_x.mean_u\n"
     ]
    },
    {
     "name": "stdout",
     "output_type": "stream",
     "text": [
      "\tvalid_h2_range_x.mean_u\n"
     ]
    },
    {
     "name": "stderr",
     "output_type": "stream",
     "text": [
      "INFO:pylearn2.monitor:\tvalid_h2_range_x.min_u\n"
     ]
    },
    {
     "name": "stdout",
     "output_type": "stream",
     "text": [
      "\tvalid_h2_range_x.min_u\n"
     ]
    },
    {
     "name": "stderr",
     "output_type": "stream",
     "text": [
      "INFO:pylearn2.monitor:\tvalid_objective\n"
     ]
    },
    {
     "name": "stdout",
     "output_type": "stream",
     "text": [
      "\tvalid_objective\n"
     ]
    },
    {
     "name": "stderr",
     "output_type": "stream",
     "text": [
      "INFO:pylearn2.monitor:\tvalid_y_col_norms_max\n"
     ]
    },
    {
     "name": "stdout",
     "output_type": "stream",
     "text": [
      "\tvalid_y_col_norms_max\n"
     ]
    },
    {
     "name": "stderr",
     "output_type": "stream",
     "text": [
      "INFO:pylearn2.monitor:\tvalid_y_col_norms_mean\n"
     ]
    },
    {
     "name": "stdout",
     "output_type": "stream",
     "text": [
      "\tvalid_y_col_norms_mean\n"
     ]
    },
    {
     "name": "stderr",
     "output_type": "stream",
     "text": [
      "INFO:pylearn2.monitor:\tvalid_y_col_norms_min\n"
     ]
    },
    {
     "name": "stdout",
     "output_type": "stream",
     "text": [
      "\tvalid_y_col_norms_min\n"
     ]
    },
    {
     "name": "stderr",
     "output_type": "stream",
     "text": [
      "INFO:pylearn2.monitor:\tvalid_y_max_max_class\n"
     ]
    },
    {
     "name": "stdout",
     "output_type": "stream",
     "text": [
      "\tvalid_y_max_max_class\n"
     ]
    },
    {
     "name": "stderr",
     "output_type": "stream",
     "text": [
      "INFO:pylearn2.monitor:\tvalid_y_mean_max_class\n"
     ]
    },
    {
     "name": "stdout",
     "output_type": "stream",
     "text": [
      "\tvalid_y_mean_max_class\n"
     ]
    },
    {
     "name": "stderr",
     "output_type": "stream",
     "text": [
      "INFO:pylearn2.monitor:\tvalid_y_min_max_class\n"
     ]
    },
    {
     "name": "stdout",
     "output_type": "stream",
     "text": [
      "\tvalid_y_min_max_class\n"
     ]
    },
    {
     "name": "stderr",
     "output_type": "stream",
     "text": [
      "INFO:pylearn2.monitor:\tvalid_y_misclass\n"
     ]
    },
    {
     "name": "stdout",
     "output_type": "stream",
     "text": [
      "\tvalid_y_misclass\n"
     ]
    },
    {
     "name": "stderr",
     "output_type": "stream",
     "text": [
      "INFO:pylearn2.monitor:\tvalid_y_nll\n"
     ]
    },
    {
     "name": "stdout",
     "output_type": "stream",
     "text": [
      "\tvalid_y_nll\n"
     ]
    },
    {
     "name": "stderr",
     "output_type": "stream",
     "text": [
      "INFO:pylearn2.monitor:\tvalid_y_row_norms_max\n"
     ]
    },
    {
     "name": "stdout",
     "output_type": "stream",
     "text": [
      "\tvalid_y_row_norms_max\n"
     ]
    },
    {
     "name": "stderr",
     "output_type": "stream",
     "text": [
      "INFO:pylearn2.monitor:\tvalid_y_row_norms_mean\n"
     ]
    },
    {
     "name": "stdout",
     "output_type": "stream",
     "text": [
      "\tvalid_y_row_norms_mean\n"
     ]
    },
    {
     "name": "stderr",
     "output_type": "stream",
     "text": [
      "INFO:pylearn2.monitor:\tvalid_y_row_norms_min\n"
     ]
    },
    {
     "name": "stdout",
     "output_type": "stream",
     "text": [
      "\tvalid_y_row_norms_min\n"
     ]
    },
    {
     "name": "stderr",
     "output_type": "stream",
     "text": [
      "INFO:pylearn2.monitor:Compiling accum...\n"
     ]
    },
    {
     "name": "stdout",
     "output_type": "stream",
     "text": [
      "Compiling accum...\n"
     ]
    },
    {
     "name": "stderr",
     "output_type": "stream",
     "text": [
      "INFO:pylearn2.monitor:graph size: 387\n"
     ]
    },
    {
     "name": "stdout",
     "output_type": "stream",
     "text": [
      "graph size: 387\n"
     ]
    },
    {
     "name": "stderr",
     "output_type": "stream",
     "text": [
      "INFO:pylearn2.monitor:Compiling accum done. Time elapsed: 0:01:35.487712\n"
     ]
    },
    {
     "name": "stdout",
     "output_type": "stream",
     "text": [
      "Compiling accum done. Time elapsed: 0:01:35.487712\n"
     ]
    },
    {
     "name": "stderr",
     "output_type": "stream",
     "text": [
      "/afs/inf.ed.ac.uk/user/s08/s0805516/repos/pylearn2/pylearn2/datasets/dense_design_matrix.py:1465: UserWarning: It looks like DefaultViewConverter.axes has been changed directly, please use the set_axes() method instead.\n",
      "  \"instead.\" % self.__class__.__name__)\n",
      "INFO:pylearn2.monitor:Monitoring step:\n"
     ]
    },
    {
     "name": "stdout",
     "output_type": "stream",
     "text": [
      "Monitoring step:\n"
     ]
    },
    {
     "name": "stderr",
     "output_type": "stream",
     "text": [
      "INFO:pylearn2.monitor:\tEpochs seen: 0\n"
     ]
    },
    {
     "name": "stdout",
     "output_type": "stream",
     "text": [
      "\tEpochs seen: 0\n"
     ]
    },
    {
     "name": "stderr",
     "output_type": "stream",
     "text": [
      "INFO:pylearn2.monitor:\tBatches seen: 0\n"
     ]
    },
    {
     "name": "stdout",
     "output_type": "stream",
     "text": [
      "\tBatches seen: 0\n"
     ]
    },
    {
     "name": "stderr",
     "output_type": "stream",
     "text": [
      "INFO:pylearn2.monitor:\tExamples seen: 0\n"
     ]
    },
    {
     "name": "stdout",
     "output_type": "stream",
     "text": [
      "\tExamples seen: 0\n"
     ]
    },
    {
     "name": "stderr",
     "output_type": "stream",
     "text": [
      "INFO:pylearn2.monitor:\tlearning_rate: 0.0500000007451\n"
     ]
    },
    {
     "name": "stdout",
     "output_type": "stream",
     "text": [
      "\tlearning_rate: 0.0500000007451\n"
     ]
    },
    {
     "name": "stderr",
     "output_type": "stream",
     "text": [
      "INFO:pylearn2.monitor:\tmomentum: 0.500000536442\n"
     ]
    },
    {
     "name": "stdout",
     "output_type": "stream",
     "text": [
      "\tmomentum: 0.500000536442\n"
     ]
    },
    {
     "name": "stderr",
     "output_type": "stream",
     "text": [
      "INFO:pylearn2.monitor:\ttotal_seconds_last_epoch: 0.0\n"
     ]
    },
    {
     "name": "stdout",
     "output_type": "stream",
     "text": [
      "\ttotal_seconds_last_epoch: 0.0\n"
     ]
    },
    {
     "name": "stderr",
     "output_type": "stream",
     "text": [
      "INFO:pylearn2.monitor:\ttraining_seconds_this_epoch: 0.0\n"
     ]
    },
    {
     "name": "stdout",
     "output_type": "stream",
     "text": [
      "\ttraining_seconds_this_epoch: 0.0\n"
     ]
    },
    {
     "name": "stderr",
     "output_type": "stream",
     "text": [
      "INFO:pylearn2.monitor:\tvalid_h0_kernel_norms_max: 0.025620367378\n"
     ]
    },
    {
     "name": "stdout",
     "output_type": "stream",
     "text": [
      "\tvalid_h0_kernel_norms_max: 0.025620367378\n"
     ]
    },
    {
     "name": "stderr",
     "output_type": "stream",
     "text": [
      "INFO:pylearn2.monitor:\tvalid_h0_kernel_norms_mean: 0.0229787640274\n"
     ]
    },
    {
     "name": "stdout",
     "output_type": "stream",
     "text": [
      "\tvalid_h0_kernel_norms_mean: 0.0229787640274\n"
     ]
    },
    {
     "name": "stderr",
     "output_type": "stream",
     "text": [
      "INFO:pylearn2.monitor:\tvalid_h0_kernel_norms_min: 0.0195152796805\n"
     ]
    },
    {
     "name": "stdout",
     "output_type": "stream",
     "text": [
      "\tvalid_h0_kernel_norms_min: 0.0195152796805\n"
     ]
    },
    {
     "name": "stderr",
     "output_type": "stream",
     "text": [
      "INFO:pylearn2.monitor:\tvalid_h0_max_x.max_u: 0.0652698650956\n"
     ]
    },
    {
     "name": "stdout",
     "output_type": "stream",
     "text": [
      "\tvalid_h0_max_x.max_u: 0.0652698650956\n"
     ]
    },
    {
     "name": "stderr",
     "output_type": "stream",
     "text": [
      "INFO:pylearn2.monitor:\tvalid_h0_max_x.mean_u: 0.0386978723109\n"
     ]
    },
    {
     "name": "stdout",
     "output_type": "stream",
     "text": [
      "\tvalid_h0_max_x.mean_u: 0.0386978723109\n"
     ]
    },
    {
     "name": "stderr",
     "output_type": "stream",
     "text": [
      "INFO:pylearn2.monitor:\tvalid_h0_max_x.min_u: 0.0218468718231\n"
     ]
    },
    {
     "name": "stdout",
     "output_type": "stream",
     "text": [
      "\tvalid_h0_max_x.min_u: 0.0218468718231\n"
     ]
    },
    {
     "name": "stderr",
     "output_type": "stream",
     "text": [
      "INFO:pylearn2.monitor:\tvalid_h0_mean_x.max_u: 0.0253798943013\n"
     ]
    },
    {
     "name": "stdout",
     "output_type": "stream",
     "text": [
      "\tvalid_h0_mean_x.max_u: 0.0253798943013\n"
     ]
    },
    {
     "name": "stderr",
     "output_type": "stream",
     "text": [
      "INFO:pylearn2.monitor:\tvalid_h0_mean_x.mean_u: 0.0136951403692\n"
     ]
    },
    {
     "name": "stdout",
     "output_type": "stream",
     "text": [
      "\tvalid_h0_mean_x.mean_u: 0.0136951403692\n"
     ]
    },
    {
     "name": "stderr",
     "output_type": "stream",
     "text": [
      "INFO:pylearn2.monitor:\tvalid_h0_mean_x.min_u: 0.0048718447797\n"
     ]
    },
    {
     "name": "stdout",
     "output_type": "stream",
     "text": [
      "\tvalid_h0_mean_x.min_u: 0.0048718447797\n"
     ]
    },
    {
     "name": "stderr",
     "output_type": "stream",
     "text": [
      "INFO:pylearn2.monitor:\tvalid_h0_min_x.max_u: 0.0\n"
     ]
    },
    {
     "name": "stdout",
     "output_type": "stream",
     "text": [
      "\tvalid_h0_min_x.max_u: 0.0\n"
     ]
    },
    {
     "name": "stderr",
     "output_type": "stream",
     "text": [
      "INFO:pylearn2.monitor:\tvalid_h0_min_x.mean_u: -0.00278746383265\n"
     ]
    },
    {
     "name": "stdout",
     "output_type": "stream",
     "text": [
      "\tvalid_h0_min_x.mean_u: -0.00278746383265\n"
     ]
    },
    {
     "name": "stderr",
     "output_type": "stream",
     "text": [
      "INFO:pylearn2.monitor:\tvalid_h0_min_x.min_u: -0.0144370496273\n"
     ]
    },
    {
     "name": "stdout",
     "output_type": "stream",
     "text": [
      "\tvalid_h0_min_x.min_u: -0.0144370496273\n"
     ]
    },
    {
     "name": "stderr",
     "output_type": "stream",
     "text": [
      "INFO:pylearn2.monitor:\tvalid_h0_range_x.max_u: 0.0655676200986\n"
     ]
    },
    {
     "name": "stdout",
     "output_type": "stream",
     "text": [
      "\tvalid_h0_range_x.max_u: 0.0655676200986\n"
     ]
    },
    {
     "name": "stderr",
     "output_type": "stream",
     "text": [
      "INFO:pylearn2.monitor:\tvalid_h0_range_x.mean_u: 0.0414853394032\n"
     ]
    },
    {
     "name": "stdout",
     "output_type": "stream",
     "text": [
      "\tvalid_h0_range_x.mean_u: 0.0414853394032\n"
     ]
    },
    {
     "name": "stderr",
     "output_type": "stream",
     "text": [
      "INFO:pylearn2.monitor:\tvalid_h0_range_x.min_u: 0.0268564112484\n"
     ]
    },
    {
     "name": "stdout",
     "output_type": "stream",
     "text": [
      "\tvalid_h0_range_x.min_u: 0.0268564112484\n"
     ]
    },
    {
     "name": "stderr",
     "output_type": "stream",
     "text": [
      "INFO:pylearn2.monitor:\tvalid_h1_kernel_norms_max: 0.163002386689\n"
     ]
    },
    {
     "name": "stdout",
     "output_type": "stream",
     "text": [
      "\tvalid_h1_kernel_norms_max: 0.163002386689\n"
     ]
    },
    {
     "name": "stderr",
     "output_type": "stream",
     "text": [
      "INFO:pylearn2.monitor:\tvalid_h1_kernel_norms_mean: 0.160210162401\n"
     ]
    },
    {
     "name": "stdout",
     "output_type": "stream",
     "text": [
      "\tvalid_h1_kernel_norms_mean: 0.160210162401\n"
     ]
    },
    {
     "name": "stderr",
     "output_type": "stream",
     "text": [
      "INFO:pylearn2.monitor:\tvalid_h1_kernel_norms_min: 0.157817691565\n"
     ]
    },
    {
     "name": "stdout",
     "output_type": "stream",
     "text": [
      "\tvalid_h1_kernel_norms_min: 0.157817691565\n"
     ]
    },
    {
     "name": "stderr",
     "output_type": "stream",
     "text": [
      "INFO:pylearn2.monitor:\tvalid_h1_max_x.max_u: 0.0137262847275\n"
     ]
    },
    {
     "name": "stdout",
     "output_type": "stream",
     "text": [
      "\tvalid_h1_max_x.max_u: 0.0137262847275\n"
     ]
    },
    {
     "name": "stderr",
     "output_type": "stream",
     "text": [
      "INFO:pylearn2.monitor:\tvalid_h1_max_x.mean_u: 0.0059714531526\n"
     ]
    },
    {
     "name": "stdout",
     "output_type": "stream",
     "text": [
      "\tvalid_h1_max_x.mean_u: 0.0059714531526\n"
     ]
    },
    {
     "name": "stderr",
     "output_type": "stream",
     "text": [
      "INFO:pylearn2.monitor:\tvalid_h1_max_x.min_u: 0.000854207261\n"
     ]
    },
    {
     "name": "stdout",
     "output_type": "stream",
     "text": [
      "\tvalid_h1_max_x.min_u: 0.000854207261\n"
     ]
    },
    {
     "name": "stderr",
     "output_type": "stream",
     "text": [
      "INFO:pylearn2.monitor:\tvalid_h1_mean_x.max_u: 0.0092361625284\n"
     ]
    },
    {
     "name": "stdout",
     "output_type": "stream",
     "text": [
      "\tvalid_h1_mean_x.max_u: 0.0092361625284\n"
     ]
    },
    {
     "name": "stderr",
     "output_type": "stream",
     "text": [
      "INFO:pylearn2.monitor:\tvalid_h1_mean_x.mean_u: 0.00299484352581\n"
     ]
    },
    {
     "name": "stdout",
     "output_type": "stream",
     "text": [
      "\tvalid_h1_mean_x.mean_u: 0.00299484352581\n"
     ]
    },
    {
     "name": "stderr",
     "output_type": "stream",
     "text": [
      "INFO:pylearn2.monitor:\tvalid_h1_mean_x.min_u: -0.0014694359852\n"
     ]
    },
    {
     "name": "stdout",
     "output_type": "stream",
     "text": [
      "\tvalid_h1_mean_x.min_u: -0.0014694359852\n"
     ]
    },
    {
     "name": "stderr",
     "output_type": "stream",
     "text": [
      "INFO:pylearn2.monitor:\tvalid_h1_min_x.max_u: 0.00346925156191\n"
     ]
    },
    {
     "name": "stdout",
     "output_type": "stream",
     "text": [
      "\tvalid_h1_min_x.max_u: 0.00346925156191\n"
     ]
    },
    {
     "name": "stderr",
     "output_type": "stream",
     "text": [
      "INFO:pylearn2.monitor:\tvalid_h1_min_x.mean_u: -8.85072877281e-05\n"
     ]
    },
    {
     "name": "stdout",
     "output_type": "stream",
     "text": [
      "\tvalid_h1_min_x.mean_u: -8.85072877281e-05\n"
     ]
    },
    {
     "name": "stderr",
     "output_type": "stream",
     "text": [
      "INFO:pylearn2.monitor:\tvalid_h1_min_x.min_u: -0.00494840927422\n"
     ]
    },
    {
     "name": "stdout",
     "output_type": "stream",
     "text": [
      "\tvalid_h1_min_x.min_u: -0.00494840927422\n"
     ]
    },
    {
     "name": "stderr",
     "output_type": "stream",
     "text": [
      "INFO:pylearn2.monitor:\tvalid_h1_range_x.max_u: 0.0103944316506\n"
     ]
    },
    {
     "name": "stdout",
     "output_type": "stream",
     "text": [
      "\tvalid_h1_range_x.max_u: 0.0103944316506\n"
     ]
    },
    {
     "name": "stderr",
     "output_type": "stream",
     "text": [
      "INFO:pylearn2.monitor:\tvalid_h1_range_x.mean_u: 0.00605996139348\n"
     ]
    },
    {
     "name": "stdout",
     "output_type": "stream",
     "text": [
      "\tvalid_h1_range_x.mean_u: 0.00605996139348\n"
     ]
    },
    {
     "name": "stderr",
     "output_type": "stream",
     "text": [
      "INFO:pylearn2.monitor:\tvalid_h1_range_x.min_u: 0.00391950877383\n"
     ]
    },
    {
     "name": "stdout",
     "output_type": "stream",
     "text": [
      "\tvalid_h1_range_x.min_u: 0.00391950877383\n"
     ]
    },
    {
     "name": "stderr",
     "output_type": "stream",
     "text": [
      "INFO:pylearn2.monitor:\tvalid_h2_kernel_norms_max: 0.102913282812\n"
     ]
    },
    {
     "name": "stdout",
     "output_type": "stream",
     "text": [
      "\tvalid_h2_kernel_norms_max: 0.102913282812\n"
     ]
    },
    {
     "name": "stderr",
     "output_type": "stream",
     "text": [
      "INFO:pylearn2.monitor:\tvalid_h2_kernel_norms_mean: 0.0999668315053\n"
     ]
    },
    {
     "name": "stdout",
     "output_type": "stream",
     "text": [
      "\tvalid_h2_kernel_norms_mean: 0.0999668315053\n"
     ]
    },
    {
     "name": "stderr",
     "output_type": "stream",
     "text": [
      "INFO:pylearn2.monitor:\tvalid_h2_kernel_norms_min: 0.0971000865102\n"
     ]
    },
    {
     "name": "stdout",
     "output_type": "stream",
     "text": [
      "\tvalid_h2_kernel_norms_min: 0.0971000865102\n"
     ]
    },
    {
     "name": "stderr",
     "output_type": "stream",
     "text": [
      "INFO:pylearn2.monitor:\tvalid_h2_max_x.max_u: 0.00120490603149\n"
     ]
    },
    {
     "name": "stdout",
     "output_type": "stream",
     "text": [
      "\tvalid_h2_max_x.max_u: 0.00120490603149\n"
     ]
    },
    {
     "name": "stderr",
     "output_type": "stream",
     "text": [
      "INFO:pylearn2.monitor:\tvalid_h2_max_x.mean_u: 0.000702381425072\n"
     ]
    },
    {
     "name": "stdout",
     "output_type": "stream",
     "text": [
      "\tvalid_h2_max_x.mean_u: 0.000702381425072\n"
     ]
    },
    {
     "name": "stderr",
     "output_type": "stream",
     "text": [
      "INFO:pylearn2.monitor:\tvalid_h2_max_x.min_u: 0.000362753897207\n"
     ]
    },
    {
     "name": "stdout",
     "output_type": "stream",
     "text": [
      "\tvalid_h2_max_x.min_u: 0.000362753897207\n"
     ]
    },
    {
     "name": "stderr",
     "output_type": "stream",
     "text": [
      "INFO:pylearn2.monitor:\tvalid_h2_mean_x.max_u: 0.000555296079256\n"
     ]
    },
    {
     "name": "stdout",
     "output_type": "stream",
     "text": [
      "\tvalid_h2_mean_x.max_u: 0.000555296079256\n"
     ]
    },
    {
     "name": "stderr",
     "output_type": "stream",
     "text": [
      "INFO:pylearn2.monitor:\tvalid_h2_mean_x.mean_u: 0.000346901302692\n"
     ]
    },
    {
     "name": "stdout",
     "output_type": "stream",
     "text": [
      "\tvalid_h2_mean_x.mean_u: 0.000346901302692\n"
     ]
    },
    {
     "name": "stderr",
     "output_type": "stream",
     "text": [
      "INFO:pylearn2.monitor:\tvalid_h2_mean_x.min_u: 0.000127425795654\n"
     ]
    },
    {
     "name": "stdout",
     "output_type": "stream",
     "text": [
      "\tvalid_h2_mean_x.min_u: 0.000127425795654\n"
     ]
    },
    {
     "name": "stderr",
     "output_type": "stream",
     "text": [
      "INFO:pylearn2.monitor:\tvalid_h2_min_x.max_u: 0.000218161396333\n"
     ]
    },
    {
     "name": "stdout",
     "output_type": "stream",
     "text": [
      "\tvalid_h2_min_x.max_u: 0.000218161396333\n"
     ]
    },
    {
     "name": "stderr",
     "output_type": "stream",
     "text": [
      "INFO:pylearn2.monitor:\tvalid_h2_min_x.mean_u: 7.93216240709e-05\n"
     ]
    },
    {
     "name": "stdout",
     "output_type": "stream",
     "text": [
      "\tvalid_h2_min_x.mean_u: 7.93216240709e-05\n"
     ]
    },
    {
     "name": "stderr",
     "output_type": "stream",
     "text": [
      "INFO:pylearn2.monitor:\tvalid_h2_min_x.min_u: -0.00011806274415\n"
     ]
    },
    {
     "name": "stdout",
     "output_type": "stream",
     "text": [
      "\tvalid_h2_min_x.min_u: -0.00011806274415\n"
     ]
    },
    {
     "name": "stderr",
     "output_type": "stream",
     "text": [
      "INFO:pylearn2.monitor:\tvalid_h2_range_x.max_u: 0.00101337768137\n"
     ]
    },
    {
     "name": "stdout",
     "output_type": "stream",
     "text": [
      "\tvalid_h2_range_x.max_u: 0.00101337768137\n"
     ]
    },
    {
     "name": "stderr",
     "output_type": "stream",
     "text": [
      "INFO:pylearn2.monitor:\tvalid_h2_range_x.mean_u: 0.000623059808277\n"
     ]
    },
    {
     "name": "stdout",
     "output_type": "stream",
     "text": [
      "\tvalid_h2_range_x.mean_u: 0.000623059808277\n"
     ]
    },
    {
     "name": "stderr",
     "output_type": "stream",
     "text": [
      "INFO:pylearn2.monitor:\tvalid_h2_range_x.min_u: 0.000368585460819\n"
     ]
    },
    {
     "name": "stdout",
     "output_type": "stream",
     "text": [
      "\tvalid_h2_range_x.min_u: 0.000368585460819\n"
     ]
    },
    {
     "name": "stderr",
     "output_type": "stream",
     "text": [
      "INFO:pylearn2.monitor:\tvalid_objective: 2.30258369446\n"
     ]
    },
    {
     "name": "stdout",
     "output_type": "stream",
     "text": [
      "\tvalid_objective: 2.30258369446\n"
     ]
    },
    {
     "name": "stderr",
     "output_type": "stream",
     "text": [
      "INFO:pylearn2.monitor:\tvalid_y_col_norms_max: 0.0445158295333\n"
     ]
    },
    {
     "name": "stdout",
     "output_type": "stream",
     "text": [
      "\tvalid_y_col_norms_max: 0.0445158295333\n"
     ]
    },
    {
     "name": "stderr",
     "output_type": "stream",
     "text": [
      "INFO:pylearn2.monitor:\tvalid_y_col_norms_mean: 0.042573351413\n"
     ]
    },
    {
     "name": "stdout",
     "output_type": "stream",
     "text": [
      "\tvalid_y_col_norms_mean: 0.042573351413\n"
     ]
    },
    {
     "name": "stderr",
     "output_type": "stream",
     "text": [
      "INFO:pylearn2.monitor:\tvalid_y_col_norms_min: 0.0407793410122\n"
     ]
    },
    {
     "name": "stdout",
     "output_type": "stream",
     "text": [
      "\tvalid_y_col_norms_min: 0.0407793410122\n"
     ]
    },
    {
     "name": "stderr",
     "output_type": "stream",
     "text": [
      "INFO:pylearn2.monitor:\tvalid_y_max_max_class: 0.10000345856\n"
     ]
    },
    {
     "name": "stdout",
     "output_type": "stream",
     "text": [
      "\tvalid_y_max_max_class: 0.10000345856\n"
     ]
    },
    {
     "name": "stderr",
     "output_type": "stream",
     "text": [
      "INFO:pylearn2.monitor:\tvalid_y_mean_max_class: 0.100002683699\n"
     ]
    },
    {
     "name": "stdout",
     "output_type": "stream",
     "text": [
      "\tvalid_y_mean_max_class: 0.100002683699\n"
     ]
    },
    {
     "name": "stderr",
     "output_type": "stream",
     "text": [
      "INFO:pylearn2.monitor:\tvalid_y_min_max_class: 0.100001864135\n"
     ]
    },
    {
     "name": "stdout",
     "output_type": "stream",
     "text": [
      "\tvalid_y_min_max_class: 0.100001864135\n"
     ]
    },
    {
     "name": "stderr",
     "output_type": "stream",
     "text": [
      "INFO:pylearn2.monitor:\tvalid_y_misclass: 0.89683508873\n"
     ]
    },
    {
     "name": "stdout",
     "output_type": "stream",
     "text": [
      "\tvalid_y_misclass: 0.89683508873\n"
     ]
    },
    {
     "name": "stderr",
     "output_type": "stream",
     "text": [
      "INFO:pylearn2.monitor:\tvalid_y_nll: 2.30258369446\n"
     ]
    },
    {
     "name": "stdout",
     "output_type": "stream",
     "text": [
      "\tvalid_y_nll: 2.30258369446\n"
     ]
    },
    {
     "name": "stderr",
     "output_type": "stream",
     "text": [
      "INFO:pylearn2.monitor:\tvalid_y_row_norms_max: 0.0124877998605\n"
     ]
    },
    {
     "name": "stdout",
     "output_type": "stream",
     "text": [
      "\tvalid_y_row_norms_max: 0.0124877998605\n"
     ]
    },
    {
     "name": "stderr",
     "output_type": "stream",
     "text": [
      "INFO:pylearn2.monitor:\tvalid_y_row_norms_mean: 0.00906660128385\n"
     ]
    },
    {
     "name": "stdout",
     "output_type": "stream",
     "text": [
      "\tvalid_y_row_norms_mean: 0.00906660128385\n"
     ]
    },
    {
     "name": "stderr",
     "output_type": "stream",
     "text": [
      "INFO:pylearn2.monitor:\tvalid_y_row_norms_min: 0.00559448031709\n"
     ]
    },
    {
     "name": "stdout",
     "output_type": "stream",
     "text": [
      "\tvalid_y_row_norms_min: 0.00559448031709\n"
     ]
    },
    {
     "name": "stderr",
     "output_type": "stream",
     "text": [
      "INFO:pylearn2.train_extensions.best_params:Saving to /afs/inf.ed.ac.uk/user/s08/s0805516/repos/pylearn2/pylearn2/scripts/papers/maxout/mnist_best.pkl...\n"
     ]
    },
    {
     "name": "stdout",
     "output_type": "stream",
     "text": [
      "Saving to /afs/inf.ed.ac.uk/user/s08/s0805516/repos/pylearn2/pylearn2/scripts/papers/maxout/mnist_best.pkl...\n"
     ]
    },
    {
     "name": "stderr",
     "output_type": "stream",
     "text": [
      "INFO:pylearn2.train_extensions.best_params:Saving to /afs/inf.ed.ac.uk/user/s08/s0805516/repos/pylearn2/pylearn2/scripts/papers/maxout/mnist_best.pkl done. Time elapsed: 0.262466 seconds\n"
     ]
    },
    {
     "name": "stdout",
     "output_type": "stream",
     "text": [
      "Saving to /afs/inf.ed.ac.uk/user/s08/s0805516/repos/pylearn2/pylearn2/scripts/papers/maxout/mnist_best.pkl done. Time elapsed: 0.262466 seconds\n"
     ]
    },
    {
     "name": "stderr",
     "output_type": "stream",
     "text": [
      "INFO:pylearn2.train:Time this epoch: 26.324243 seconds\n"
     ]
    },
    {
     "name": "stdout",
     "output_type": "stream",
     "text": [
      "Time this epoch: 26.324243 seconds\n"
     ]
    },
    {
     "name": "stderr",
     "output_type": "stream",
     "text": [
      "INFO:pylearn2.monitor:Monitoring step:\n"
     ]
    },
    {
     "name": "stdout",
     "output_type": "stream",
     "text": [
      "Monitoring step:\n"
     ]
    },
    {
     "name": "stderr",
     "output_type": "stream",
     "text": [
      "INFO:pylearn2.monitor:\tEpochs seen: 1\n"
     ]
    },
    {
     "name": "stdout",
     "output_type": "stream",
     "text": [
      "\tEpochs seen: 1\n"
     ]
    },
    {
     "name": "stderr",
     "output_type": "stream",
     "text": [
      "INFO:pylearn2.monitor:\tBatches seen: 390\n"
     ]
    },
    {
     "name": "stdout",
     "output_type": "stream",
     "text": [
      "\tBatches seen: 390\n"
     ]
    },
    {
     "name": "stderr",
     "output_type": "stream",
     "text": [
      "INFO:pylearn2.monitor:\tExamples seen: 49920\n"
     ]
    },
    {
     "name": "stdout",
     "output_type": "stream",
     "text": [
      "\tExamples seen: 49920\n"
     ]
    },
    {
     "name": "stderr",
     "output_type": "stream",
     "text": [
      "INFO:pylearn2.monitor:\tlearning_rate: 0.0492261126637\n"
     ]
    },
    {
     "name": "stdout",
     "output_type": "stream",
     "text": [
      "\tlearning_rate: 0.0492261126637\n"
     ]
    },
    {
     "name": "stderr",
     "output_type": "stream",
     "text": [
      "INFO:pylearn2.monitor:\tmomentum: 0.500000536442\n"
     ]
    },
    {
     "name": "stdout",
     "output_type": "stream",
     "text": [
      "\tmomentum: 0.500000536442\n"
     ]
    },
    {
     "name": "stderr",
     "output_type": "stream",
     "text": [
      "INFO:pylearn2.monitor:\ttotal_seconds_last_epoch: 0.0\n"
     ]
    },
    {
     "name": "stdout",
     "output_type": "stream",
     "text": [
      "\ttotal_seconds_last_epoch: 0.0\n"
     ]
    },
    {
     "name": "stderr",
     "output_type": "stream",
     "text": [
      "INFO:pylearn2.monitor:\ttraining_seconds_this_epoch: 26.3242301941\n"
     ]
    },
    {
     "name": "stdout",
     "output_type": "stream",
     "text": [
      "\ttraining_seconds_this_epoch: 26.3242301941\n"
     ]
    },
    {
     "name": "stderr",
     "output_type": "stream",
     "text": [
      "INFO:pylearn2.monitor:\tvalid_h0_kernel_norms_max: 0.0256434287876\n"
     ]
    },
    {
     "name": "stdout",
     "output_type": "stream",
     "text": [
      "\tvalid_h0_kernel_norms_max: 0.0256434287876\n"
     ]
    },
    {
     "name": "stderr",
     "output_type": "stream",
     "text": [
      "INFO:pylearn2.monitor:\tvalid_h0_kernel_norms_mean: 0.0230193138123\n"
     ]
    },
    {
     "name": "stdout",
     "output_type": "stream",
     "text": [
      "\tvalid_h0_kernel_norms_mean: 0.0230193138123\n"
     ]
    },
    {
     "name": "stderr",
     "output_type": "stream",
     "text": [
      "INFO:pylearn2.monitor:\tvalid_h0_kernel_norms_min: 0.0194741655141\n"
     ]
    },
    {
     "name": "stdout",
     "output_type": "stream",
     "text": [
      "\tvalid_h0_kernel_norms_min: 0.0194741655141\n"
     ]
    },
    {
     "name": "stderr",
     "output_type": "stream",
     "text": [
      "INFO:pylearn2.monitor:\tvalid_h0_max_x.max_u: 0.0709188953042\n"
     ]
    },
    {
     "name": "stdout",
     "output_type": "stream",
     "text": [
      "\tvalid_h0_max_x.max_u: 0.0709188953042\n"
     ]
    },
    {
     "name": "stderr",
     "output_type": "stream",
     "text": [
      "INFO:pylearn2.monitor:\tvalid_h0_max_x.mean_u: 0.0410535447299\n"
     ]
    },
    {
     "name": "stdout",
     "output_type": "stream",
     "text": [
      "\tvalid_h0_max_x.mean_u: 0.0410535447299\n"
     ]
    },
    {
     "name": "stderr",
     "output_type": "stream",
     "text": [
      "INFO:pylearn2.monitor:\tvalid_h0_max_x.min_u: 0.0223912764341\n"
     ]
    },
    {
     "name": "stdout",
     "output_type": "stream",
     "text": [
      "\tvalid_h0_max_x.min_u: 0.0223912764341\n"
     ]
    },
    {
     "name": "stderr",
     "output_type": "stream",
     "text": [
      "INFO:pylearn2.monitor:\tvalid_h0_mean_x.max_u: 0.0274255033582\n"
     ]
    },
    {
     "name": "stdout",
     "output_type": "stream",
     "text": [
      "\tvalid_h0_mean_x.max_u: 0.0274255033582\n"
     ]
    },
    {
     "name": "stderr",
     "output_type": "stream",
     "text": [
      "INFO:pylearn2.monitor:\tvalid_h0_mean_x.mean_u: 0.0145971123129\n"
     ]
    },
    {
     "name": "stdout",
     "output_type": "stream",
     "text": [
      "\tvalid_h0_mean_x.mean_u: 0.0145971123129\n"
     ]
    },
    {
     "name": "stderr",
     "output_type": "stream",
     "text": [
      "INFO:pylearn2.monitor:\tvalid_h0_mean_x.min_u: 0.00533722015098\n"
     ]
    },
    {
     "name": "stdout",
     "output_type": "stream",
     "text": [
      "\tvalid_h0_mean_x.min_u: 0.00533722015098\n"
     ]
    },
    {
     "name": "stderr",
     "output_type": "stream",
     "text": [
      "INFO:pylearn2.monitor:\tvalid_h0_min_x.max_u: 6.3795062033e-07\n"
     ]
    },
    {
     "name": "stdout",
     "output_type": "stream",
     "text": [
      "\tvalid_h0_min_x.max_u: 6.3795062033e-07\n"
     ]
    },
    {
     "name": "stderr",
     "output_type": "stream",
     "text": [
      "INFO:pylearn2.monitor:\tvalid_h0_min_x.mean_u: -0.00241122534499\n"
     ]
    },
    {
     "name": "stdout",
     "output_type": "stream",
     "text": [
      "\tvalid_h0_min_x.mean_u: -0.00241122534499\n"
     ]
    },
    {
     "name": "stderr",
     "output_type": "stream",
     "text": [
      "INFO:pylearn2.monitor:\tvalid_h0_min_x.min_u: -0.0138033349067\n"
     ]
    },
    {
     "name": "stdout",
     "output_type": "stream",
     "text": [
      "\tvalid_h0_min_x.min_u: -0.0138033349067\n"
     ]
    },
    {
     "name": "stderr",
     "output_type": "stream",
     "text": [
      "INFO:pylearn2.monitor:\tvalid_h0_range_x.max_u: 0.0711643621325\n"
     ]
    },
    {
     "name": "stdout",
     "output_type": "stream",
     "text": [
      "\tvalid_h0_range_x.max_u: 0.0711643621325\n"
     ]
    },
    {
     "name": "stderr",
     "output_type": "stream",
     "text": [
      "INFO:pylearn2.monitor:\tvalid_h0_range_x.mean_u: 0.0434647910297\n"
     ]
    },
    {
     "name": "stdout",
     "output_type": "stream",
     "text": [
      "\tvalid_h0_range_x.mean_u: 0.0434647910297\n"
     ]
    },
    {
     "name": "stderr",
     "output_type": "stream",
     "text": [
      "INFO:pylearn2.monitor:\tvalid_h0_range_x.min_u: 0.0276648942381\n"
     ]
    },
    {
     "name": "stdout",
     "output_type": "stream",
     "text": [
      "\tvalid_h0_range_x.min_u: 0.0276648942381\n"
     ]
    },
    {
     "name": "stderr",
     "output_type": "stream",
     "text": [
      "INFO:pylearn2.monitor:\tvalid_h1_kernel_norms_max: 0.162974864244\n"
     ]
    },
    {
     "name": "stdout",
     "output_type": "stream",
     "text": [
      "\tvalid_h1_kernel_norms_max: 0.162974864244\n"
     ]
    },
    {
     "name": "stderr",
     "output_type": "stream",
     "text": [
      "INFO:pylearn2.monitor:\tvalid_h1_kernel_norms_mean: 0.160180360079\n"
     ]
    },
    {
     "name": "stdout",
     "output_type": "stream",
     "text": [
      "\tvalid_h1_kernel_norms_mean: 0.160180360079\n"
     ]
    },
    {
     "name": "stderr",
     "output_type": "stream",
     "text": [
      "INFO:pylearn2.monitor:\tvalid_h1_kernel_norms_min: 0.157781660557\n"
     ]
    },
    {
     "name": "stdout",
     "output_type": "stream",
     "text": [
      "\tvalid_h1_kernel_norms_min: 0.157781660557\n"
     ]
    },
    {
     "name": "stderr",
     "output_type": "stream",
     "text": [
      "INFO:pylearn2.monitor:\tvalid_h1_max_x.max_u: 0.0163575410843\n"
     ]
    },
    {
     "name": "stdout",
     "output_type": "stream",
     "text": [
      "\tvalid_h1_max_x.max_u: 0.0163575410843\n"
     ]
    },
    {
     "name": "stderr",
     "output_type": "stream",
     "text": [
      "INFO:pylearn2.monitor:\tvalid_h1_max_x.mean_u: 0.00687304697931\n"
     ]
    },
    {
     "name": "stdout",
     "output_type": "stream",
     "text": [
      "\tvalid_h1_max_x.mean_u: 0.00687304697931\n"
     ]
    },
    {
     "name": "stderr",
     "output_type": "stream",
     "text": [
      "INFO:pylearn2.monitor:\tvalid_h1_max_x.min_u: 0.000786889751907\n"
     ]
    },
    {
     "name": "stdout",
     "output_type": "stream",
     "text": [
      "\tvalid_h1_max_x.min_u: 0.000786889751907\n"
     ]
    },
    {
     "name": "stderr",
     "output_type": "stream",
     "text": [
      "INFO:pylearn2.monitor:\tvalid_h1_mean_x.max_u: 0.0108565771952\n"
     ]
    },
    {
     "name": "stdout",
     "output_type": "stream",
     "text": [
      "\tvalid_h1_mean_x.max_u: 0.0108565771952\n"
     ]
    },
    {
     "name": "stderr",
     "output_type": "stream",
     "text": [
      "INFO:pylearn2.monitor:\tvalid_h1_mean_x.mean_u: 0.00350710749626\n"
     ]
    },
    {
     "name": "stdout",
     "output_type": "stream",
     "text": [
      "\tvalid_h1_mean_x.mean_u: 0.00350710749626\n"
     ]
    },
    {
     "name": "stderr",
     "output_type": "stream",
     "text": [
      "INFO:pylearn2.monitor:\tvalid_h1_mean_x.min_u: -0.00171061477158\n"
     ]
    },
    {
     "name": "stdout",
     "output_type": "stream",
     "text": [
      "\tvalid_h1_mean_x.min_u: -0.00171061477158\n"
     ]
    },
    {
     "name": "stderr",
     "output_type": "stream",
     "text": [
      "INFO:pylearn2.monitor:\tvalid_h1_min_x.max_u: 0.00428505055606\n"
     ]
    },
    {
     "name": "stdout",
     "output_type": "stream",
     "text": [
      "\tvalid_h1_min_x.max_u: 0.00428505055606\n"
     ]
    },
    {
     "name": "stderr",
     "output_type": "stream",
     "text": [
      "INFO:pylearn2.monitor:\tvalid_h1_min_x.mean_u: 5.85763591516e-05\n"
     ]
    },
    {
     "name": "stdout",
     "output_type": "stream",
     "text": [
      "\tvalid_h1_min_x.mean_u: 5.85763591516e-05\n"
     ]
    },
    {
     "name": "stderr",
     "output_type": "stream",
     "text": [
      "INFO:pylearn2.monitor:\tvalid_h1_min_x.min_u: -0.00548096140847\n"
     ]
    },
    {
     "name": "stdout",
     "output_type": "stream",
     "text": [
      "\tvalid_h1_min_x.min_u: -0.00548096140847\n"
     ]
    },
    {
     "name": "stderr",
     "output_type": "stream",
     "text": [
      "INFO:pylearn2.monitor:\tvalid_h1_range_x.max_u: 0.0121795609593\n"
     ]
    },
    {
     "name": "stdout",
     "output_type": "stream",
     "text": [
      "\tvalid_h1_range_x.max_u: 0.0121795609593\n"
     ]
    },
    {
     "name": "stderr",
     "output_type": "stream",
     "text": [
      "INFO:pylearn2.monitor:\tvalid_h1_range_x.mean_u: 0.00681447191164\n"
     ]
    },
    {
     "name": "stdout",
     "output_type": "stream",
     "text": [
      "\tvalid_h1_range_x.mean_u: 0.00681447191164\n"
     ]
    },
    {
     "name": "stderr",
     "output_type": "stream",
     "text": [
      "INFO:pylearn2.monitor:\tvalid_h1_range_x.min_u: 0.0043019913137\n"
     ]
    },
    {
     "name": "stdout",
     "output_type": "stream",
     "text": [
      "\tvalid_h1_range_x.min_u: 0.0043019913137\n"
     ]
    },
    {
     "name": "stderr",
     "output_type": "stream",
     "text": [
      "INFO:pylearn2.monitor:\tvalid_h2_kernel_norms_max: 0.102895401418\n"
     ]
    },
    {
     "name": "stdout",
     "output_type": "stream",
     "text": [
      "\tvalid_h2_kernel_norms_max: 0.102895401418\n"
     ]
    },
    {
     "name": "stderr",
     "output_type": "stream",
     "text": [
      "INFO:pylearn2.monitor:\tvalid_h2_kernel_norms_mean: 0.0999478697777\n"
     ]
    },
    {
     "name": "stdout",
     "output_type": "stream",
     "text": [
      "\tvalid_h2_kernel_norms_mean: 0.0999478697777\n"
     ]
    },
    {
     "name": "stderr",
     "output_type": "stream",
     "text": [
      "INFO:pylearn2.monitor:\tvalid_h2_kernel_norms_min: 0.0972176119685\n"
     ]
    },
    {
     "name": "stdout",
     "output_type": "stream",
     "text": [
      "\tvalid_h2_kernel_norms_min: 0.0972176119685\n"
     ]
    },
    {
     "name": "stderr",
     "output_type": "stream",
     "text": [
      "INFO:pylearn2.monitor:\tvalid_h2_max_x.max_u: 0.00252992729656\n"
     ]
    },
    {
     "name": "stdout",
     "output_type": "stream",
     "text": [
      "\tvalid_h2_max_x.max_u: 0.00252992729656\n"
     ]
    },
    {
     "name": "stderr",
     "output_type": "stream",
     "text": [
      "INFO:pylearn2.monitor:\tvalid_h2_max_x.mean_u: 0.00189519173\n"
     ]
    },
    {
     "name": "stdout",
     "output_type": "stream",
     "text": [
      "\tvalid_h2_max_x.mean_u: 0.00189519173\n"
     ]
    },
    {
     "name": "stderr",
     "output_type": "stream",
     "text": [
      "INFO:pylearn2.monitor:\tvalid_h2_max_x.min_u: 0.00108730013017\n"
     ]
    },
    {
     "name": "stdout",
     "output_type": "stream",
     "text": [
      "\tvalid_h2_max_x.min_u: 0.00108730013017\n"
     ]
    },
    {
     "name": "stderr",
     "output_type": "stream",
     "text": [
      "INFO:pylearn2.monitor:\tvalid_h2_mean_x.max_u: 0.00119236833416\n"
     ]
    },
    {
     "name": "stdout",
     "output_type": "stream",
     "text": [
      "\tvalid_h2_mean_x.max_u: 0.00119236833416\n"
     ]
    },
    {
     "name": "stderr",
     "output_type": "stream",
     "text": [
      "INFO:pylearn2.monitor:\tvalid_h2_mean_x.mean_u: 0.000875162775628\n"
     ]
    },
    {
     "name": "stdout",
     "output_type": "stream",
     "text": [
      "\tvalid_h2_mean_x.mean_u: 0.000875162775628\n"
     ]
    },
    {
     "name": "stderr",
     "output_type": "stream",
     "text": [
      "INFO:pylearn2.monitor:\tvalid_h2_mean_x.min_u: 0.000523012480699\n"
     ]
    },
    {
     "name": "stdout",
     "output_type": "stream",
     "text": [
      "\tvalid_h2_mean_x.min_u: 0.000523012480699\n"
     ]
    },
    {
     "name": "stderr",
     "output_type": "stream",
     "text": [
      "INFO:pylearn2.monitor:\tvalid_h2_min_x.max_u: 0.00041963061085\n"
     ]
    },
    {
     "name": "stdout",
     "output_type": "stream",
     "text": [
      "\tvalid_h2_min_x.max_u: 0.00041963061085\n"
     ]
    },
    {
     "name": "stderr",
     "output_type": "stream",
     "text": [
      "INFO:pylearn2.monitor:\tvalid_h2_min_x.mean_u: 0.000191248822375\n"
     ]
    },
    {
     "name": "stdout",
     "output_type": "stream",
     "text": [
      "\tvalid_h2_min_x.mean_u: 0.000191248822375\n"
     ]
    },
    {
     "name": "stderr",
     "output_type": "stream",
     "text": [
      "INFO:pylearn2.monitor:\tvalid_h2_min_x.min_u: -8.59818610479e-05\n"
     ]
    },
    {
     "name": "stdout",
     "output_type": "stream",
     "text": [
      "\tvalid_h2_min_x.min_u: -8.59818610479e-05\n"
     ]
    },
    {
     "name": "stderr",
     "output_type": "stream",
     "text": [
      "INFO:pylearn2.monitor:\tvalid_h2_range_x.max_u: 0.00233255652711\n"
     ]
    },
    {
     "name": "stdout",
     "output_type": "stream",
     "text": [
      "\tvalid_h2_range_x.max_u: 0.00233255652711\n"
     ]
    },
    {
     "name": "stderr",
     "output_type": "stream",
     "text": [
      "INFO:pylearn2.monitor:\tvalid_h2_range_x.mean_u: 0.0017039431259\n"
     ]
    },
    {
     "name": "stdout",
     "output_type": "stream",
     "text": [
      "\tvalid_h2_range_x.mean_u: 0.0017039431259\n"
     ]
    },
    {
     "name": "stderr",
     "output_type": "stream",
     "text": [
      "INFO:pylearn2.monitor:\tvalid_h2_range_x.min_u: 0.000923208019231\n"
     ]
    },
    {
     "name": "stdout",
     "output_type": "stream",
     "text": [
      "\tvalid_h2_range_x.min_u: 0.000923208019231\n"
     ]
    },
    {
     "name": "stderr",
     "output_type": "stream",
     "text": [
      "INFO:pylearn2.monitor:\tvalid_objective: 2.30186033249\n"
     ]
    },
    {
     "name": "stdout",
     "output_type": "stream",
     "text": [
      "\tvalid_objective: 2.30186033249\n"
     ]
    },
    {
     "name": "stderr",
     "output_type": "stream",
     "text": [
      "INFO:pylearn2.monitor:\tvalid_y_col_norms_max: 0.0450761653483\n"
     ]
    },
    {
     "name": "stdout",
     "output_type": "stream",
     "text": [
      "\tvalid_y_col_norms_max: 0.0450761653483\n"
     ]
    },
    {
     "name": "stderr",
     "output_type": "stream",
     "text": [
      "INFO:pylearn2.monitor:\tvalid_y_col_norms_mean: 0.0430803783238\n"
     ]
    },
    {
     "name": "stdout",
     "output_type": "stream",
     "text": [
      "\tvalid_y_col_norms_mean: 0.0430803783238\n"
     ]
    },
    {
     "name": "stderr",
     "output_type": "stream",
     "text": [
      "INFO:pylearn2.monitor:\tvalid_y_col_norms_min: 0.0406586714089\n"
     ]
    },
    {
     "name": "stdout",
     "output_type": "stream",
     "text": [
      "\tvalid_y_col_norms_min: 0.0406586714089\n"
     ]
    },
    {
     "name": "stderr",
     "output_type": "stream",
     "text": [
      "INFO:pylearn2.monitor:\tvalid_y_max_max_class: 0.11318731308\n"
     ]
    },
    {
     "name": "stdout",
     "output_type": "stream",
     "text": [
      "\tvalid_y_max_max_class: 0.11318731308\n"
     ]
    },
    {
     "name": "stderr",
     "output_type": "stream",
     "text": [
      "INFO:pylearn2.monitor:\tvalid_y_mean_max_class: 0.113183416426\n"
     ]
    },
    {
     "name": "stdout",
     "output_type": "stream",
     "text": [
      "\tvalid_y_mean_max_class: 0.113183416426\n"
     ]
    },
    {
     "name": "stderr",
     "output_type": "stream",
     "text": [
      "INFO:pylearn2.monitor:\tvalid_y_min_max_class: 0.113179937005\n"
     ]
    },
    {
     "name": "stdout",
     "output_type": "stream",
     "text": [
      "\tvalid_y_min_max_class: 0.113179937005\n"
     ]
    },
    {
     "name": "stderr",
     "output_type": "stream",
     "text": [
      "INFO:pylearn2.monitor:\tvalid_y_misclass: 0.893629968166\n"
     ]
    },
    {
     "name": "stdout",
     "output_type": "stream",
     "text": [
      "\tvalid_y_misclass: 0.893629968166\n"
     ]
    },
    {
     "name": "stderr",
     "output_type": "stream",
     "text": [
      "INFO:pylearn2.monitor:\tvalid_y_nll: 2.30186486244\n"
     ]
    },
    {
     "name": "stdout",
     "output_type": "stream",
     "text": [
      "\tvalid_y_nll: 2.30186486244\n"
     ]
    },
    {
     "name": "stderr",
     "output_type": "stream",
     "text": [
      "INFO:pylearn2.monitor:\tvalid_y_row_norms_max: 0.0128184501082\n"
     ]
    },
    {
     "name": "stdout",
     "output_type": "stream",
     "text": [
      "\tvalid_y_row_norms_max: 0.0128184501082\n"
     ]
    },
    {
     "name": "stderr",
     "output_type": "stream",
     "text": [
      "INFO:pylearn2.monitor:\tvalid_y_row_norms_mean: 0.0091739911586\n"
     ]
    },
    {
     "name": "stdout",
     "output_type": "stream",
     "text": [
      "\tvalid_y_row_norms_mean: 0.0091739911586\n"
     ]
    },
    {
     "name": "stderr",
     "output_type": "stream",
     "text": [
      "INFO:pylearn2.monitor:\tvalid_y_row_norms_min: 0.00532714044675\n"
     ]
    },
    {
     "name": "stdout",
     "output_type": "stream",
     "text": [
      "\tvalid_y_row_norms_min: 0.00532714044675\n"
     ]
    },
    {
     "name": "stderr",
     "output_type": "stream",
     "text": [
      "INFO:pylearn2.train_extensions.best_params:Saving to /afs/inf.ed.ac.uk/user/s08/s0805516/repos/pylearn2/pylearn2/scripts/papers/maxout/mnist_best.pkl...\n"
     ]
    },
    {
     "name": "stdout",
     "output_type": "stream",
     "text": [
      "Saving to /afs/inf.ed.ac.uk/user/s08/s0805516/repos/pylearn2/pylearn2/scripts/papers/maxout/mnist_best.pkl...\n"
     ]
    },
    {
     "name": "stderr",
     "output_type": "stream",
     "text": [
      "INFO:pylearn2.train_extensions.best_params:Saving to /afs/inf.ed.ac.uk/user/s08/s0805516/repos/pylearn2/pylearn2/scripts/papers/maxout/mnist_best.pkl done. Time elapsed: 0.251855 seconds\n"
     ]
    },
    {
     "name": "stdout",
     "output_type": "stream",
     "text": [
      "Saving to /afs/inf.ed.ac.uk/user/s08/s0805516/repos/pylearn2/pylearn2/scripts/papers/maxout/mnist_best.pkl done. Time elapsed: 0.251855 seconds\n"
     ]
    },
    {
     "name": "stderr",
     "output_type": "stream",
     "text": [
      "INFO:pylearn2.train:Time this epoch: 36.090607 seconds\n"
     ]
    },
    {
     "name": "stdout",
     "output_type": "stream",
     "text": [
      "Time this epoch: 36.090607 seconds\n"
     ]
    },
    {
     "name": "stderr",
     "output_type": "stream",
     "text": [
      "INFO:pylearn2.monitor:Monitoring step:\n"
     ]
    },
    {
     "name": "stdout",
     "output_type": "stream",
     "text": [
      "Monitoring step:\n"
     ]
    },
    {
     "name": "stderr",
     "output_type": "stream",
     "text": [
      "INFO:pylearn2.monitor:\tEpochs seen: 2\n"
     ]
    },
    {
     "name": "stdout",
     "output_type": "stream",
     "text": [
      "\tEpochs seen: 2\n"
     ]
    },
    {
     "name": "stderr",
     "output_type": "stream",
     "text": [
      "INFO:pylearn2.monitor:\tBatches seen: 780\n"
     ]
    },
    {
     "name": "stdout",
     "output_type": "stream",
     "text": [
      "\tBatches seen: 780\n"
     ]
    },
    {
     "name": "stderr",
     "output_type": "stream",
     "text": [
      "INFO:pylearn2.monitor:\tExamples seen: 99840\n"
     ]
    },
    {
     "name": "stdout",
     "output_type": "stream",
     "text": [
      "\tExamples seen: 99840\n"
     ]
    },
    {
     "name": "stderr",
     "output_type": "stream",
     "text": [
      "INFO:pylearn2.monitor:\tlearning_rate: 0.0484641008079\n"
     ]
    },
    {
     "name": "stdout",
     "output_type": "stream",
     "text": [
      "\tlearning_rate: 0.0484641008079\n"
     ]
    },
    {
     "name": "stderr",
     "output_type": "stream",
     "text": [
      "INFO:pylearn2.monitor:\tmomentum: 0.500803172588\n"
     ]
    },
    {
     "name": "stdout",
     "output_type": "stream",
     "text": [
      "\tmomentum: 0.500803172588\n"
     ]
    },
    {
     "name": "stderr",
     "output_type": "stream",
     "text": [
      "INFO:pylearn2.monitor:\ttotal_seconds_last_epoch: 32.1846694946\n"
     ]
    },
    {
     "name": "stdout",
     "output_type": "stream",
     "text": [
      "\ttotal_seconds_last_epoch: 32.1846694946\n"
     ]
    },
    {
     "name": "stderr",
     "output_type": "stream",
     "text": [
      "INFO:pylearn2.monitor:\ttraining_seconds_this_epoch: 36.0905952454\n"
     ]
    },
    {
     "name": "stdout",
     "output_type": "stream",
     "text": [
      "\ttraining_seconds_this_epoch: 36.0905952454\n"
     ]
    },
    {
     "name": "stderr",
     "output_type": "stream",
     "text": [
      "INFO:pylearn2.monitor:\tvalid_h0_kernel_norms_max: 0.0277681369334\n"
     ]
    },
    {
     "name": "stdout",
     "output_type": "stream",
     "text": [
      "\tvalid_h0_kernel_norms_max: 0.0277681369334\n"
     ]
    },
    {
     "name": "stderr",
     "output_type": "stream",
     "text": [
      "INFO:pylearn2.monitor:\tvalid_h0_kernel_norms_mean: 0.023361897096\n"
     ]
    },
    {
     "name": "stdout",
     "output_type": "stream",
     "text": [
      "\tvalid_h0_kernel_norms_mean: 0.023361897096\n"
     ]
    },
    {
     "name": "stderr",
     "output_type": "stream",
     "text": [
      "INFO:pylearn2.monitor:\tvalid_h0_kernel_norms_min: 0.0194346066564\n"
     ]
    },
    {
     "name": "stdout",
     "output_type": "stream",
     "text": [
      "\tvalid_h0_kernel_norms_min: 0.0194346066564\n"
     ]
    },
    {
     "name": "stderr",
     "output_type": "stream",
     "text": [
      "INFO:pylearn2.monitor:\tvalid_h0_max_x.max_u: 0.0965623781085\n"
     ]
    },
    {
     "name": "stdout",
     "output_type": "stream",
     "text": [
      "\tvalid_h0_max_x.max_u: 0.0965623781085\n"
     ]
    },
    {
     "name": "stderr",
     "output_type": "stream",
     "text": [
      "INFO:pylearn2.monitor:\tvalid_h0_max_x.mean_u: 0.0513858608902\n"
     ]
    },
    {
     "name": "stdout",
     "output_type": "stream",
     "text": [
      "\tvalid_h0_max_x.mean_u: 0.0513858608902\n"
     ]
    },
    {
     "name": "stderr",
     "output_type": "stream",
     "text": [
      "INFO:pylearn2.monitor:\tvalid_h0_max_x.min_u: 0.0233043786138\n"
     ]
    },
    {
     "name": "stdout",
     "output_type": "stream",
     "text": [
      "\tvalid_h0_max_x.min_u: 0.0233043786138\n"
     ]
    },
    {
     "name": "stderr",
     "output_type": "stream",
     "text": [
      "INFO:pylearn2.monitor:\tvalid_h0_mean_x.max_u: 0.0360036641359\n"
     ]
    },
    {
     "name": "stdout",
     "output_type": "stream",
     "text": [
      "\tvalid_h0_mean_x.max_u: 0.0360036641359\n"
     ]
    },
    {
     "name": "stderr",
     "output_type": "stream",
     "text": [
      "INFO:pylearn2.monitor:\tvalid_h0_mean_x.mean_u: 0.0185865666717\n"
     ]
    },
    {
     "name": "stdout",
     "output_type": "stream",
     "text": [
      "\tvalid_h0_mean_x.mean_u: 0.0185865666717\n"
     ]
    },
    {
     "name": "stderr",
     "output_type": "stream",
     "text": [
      "INFO:pylearn2.monitor:\tvalid_h0_mean_x.min_u: 0.0069374977611\n"
     ]
    },
    {
     "name": "stdout",
     "output_type": "stream",
     "text": [
      "\tvalid_h0_mean_x.min_u: 0.0069374977611\n"
     ]
    },
    {
     "name": "stderr",
     "output_type": "stream",
     "text": [
      "INFO:pylearn2.monitor:\tvalid_h0_min_x.max_u: 2.43000840783e-06\n"
     ]
    },
    {
     "name": "stdout",
     "output_type": "stream",
     "text": [
      "\tvalid_h0_min_x.max_u: 2.43000840783e-06\n"
     ]
    },
    {
     "name": "stderr",
     "output_type": "stream",
     "text": [
      "INFO:pylearn2.monitor:\tvalid_h0_min_x.mean_u: -0.00151391839609\n"
     ]
    },
    {
     "name": "stdout",
     "output_type": "stream",
     "text": [
      "\tvalid_h0_min_x.mean_u: -0.00151391839609\n"
     ]
    },
    {
     "name": "stderr",
     "output_type": "stream",
     "text": [
      "INFO:pylearn2.monitor:\tvalid_h0_min_x.min_u: -0.0121674267575\n"
     ]
    },
    {
     "name": "stdout",
     "output_type": "stream",
     "text": [
      "\tvalid_h0_min_x.min_u: -0.0121674267575\n"
     ]
    },
    {
     "name": "stderr",
     "output_type": "stream",
     "text": [
      "INFO:pylearn2.monitor:\tvalid_h0_range_x.max_u: 0.0965964049101\n"
     ]
    },
    {
     "name": "stdout",
     "output_type": "stream",
     "text": [
      "\tvalid_h0_range_x.max_u: 0.0965964049101\n"
     ]
    },
    {
     "name": "stderr",
     "output_type": "stream",
     "text": [
      "INFO:pylearn2.monitor:\tvalid_h0_range_x.mean_u: 0.0528997778893\n"
     ]
    },
    {
     "name": "stdout",
     "output_type": "stream",
     "text": [
      "\tvalid_h0_range_x.mean_u: 0.0528997778893\n"
     ]
    },
    {
     "name": "stderr",
     "output_type": "stream",
     "text": [
      "INFO:pylearn2.monitor:\tvalid_h0_range_x.min_u: 0.0267550610006\n"
     ]
    },
    {
     "name": "stdout",
     "output_type": "stream",
     "text": [
      "\tvalid_h0_range_x.min_u: 0.0267550610006\n"
     ]
    },
    {
     "name": "stderr",
     "output_type": "stream",
     "text": [
      "INFO:pylearn2.monitor:\tvalid_h1_kernel_norms_max: 0.162957891822\n"
     ]
    },
    {
     "name": "stdout",
     "output_type": "stream",
     "text": [
      "\tvalid_h1_kernel_norms_max: 0.162957891822\n"
     ]
    },
    {
     "name": "stderr",
     "output_type": "stream",
     "text": [
      "INFO:pylearn2.monitor:\tvalid_h1_kernel_norms_mean: 0.160195469856\n"
     ]
    },
    {
     "name": "stdout",
     "output_type": "stream",
     "text": [
      "\tvalid_h1_kernel_norms_mean: 0.160195469856\n"
     ]
    },
    {
     "name": "stderr",
     "output_type": "stream",
     "text": [
      "INFO:pylearn2.monitor:\tvalid_h1_kernel_norms_min: 0.15775232017\n"
     ]
    },
    {
     "name": "stdout",
     "output_type": "stream",
     "text": [
      "\tvalid_h1_kernel_norms_min: 0.15775232017\n"
     ]
    },
    {
     "name": "stderr",
     "output_type": "stream",
     "text": [
      "INFO:pylearn2.monitor:\tvalid_h1_max_x.max_u: 0.0296910163015\n"
     ]
    },
    {
     "name": "stdout",
     "output_type": "stream",
     "text": [
      "\tvalid_h1_max_x.max_u: 0.0296910163015\n"
     ]
    },
    {
     "name": "stderr",
     "output_type": "stream",
     "text": [
      "INFO:pylearn2.monitor:\tvalid_h1_max_x.mean_u: 0.0120161408558\n"
     ]
    },
    {
     "name": "stdout",
     "output_type": "stream",
     "text": [
      "\tvalid_h1_max_x.mean_u: 0.0120161408558\n"
     ]
    },
    {
     "name": "stderr",
     "output_type": "stream",
     "text": [
      "INFO:pylearn2.monitor:\tvalid_h1_max_x.min_u: 0.000827515381388\n"
     ]
    },
    {
     "name": "stdout",
     "output_type": "stream",
     "text": [
      "\tvalid_h1_max_x.min_u: 0.000827515381388\n"
     ]
    },
    {
     "name": "stderr",
     "output_type": "stream",
     "text": [
      "INFO:pylearn2.monitor:\tvalid_h1_mean_x.max_u: 0.0187264680862\n"
     ]
    },
    {
     "name": "stdout",
     "output_type": "stream",
     "text": [
      "\tvalid_h1_mean_x.max_u: 0.0187264680862\n"
     ]
    },
    {
     "name": "stderr",
     "output_type": "stream",
     "text": [
      "INFO:pylearn2.monitor:\tvalid_h1_mean_x.mean_u: 0.00640774704516\n"
     ]
    },
    {
     "name": "stdout",
     "output_type": "stream",
     "text": [
      "\tvalid_h1_mean_x.mean_u: 0.00640774704516\n"
     ]
    },
    {
     "name": "stderr",
     "output_type": "stream",
     "text": [
      "INFO:pylearn2.monitor:\tvalid_h1_mean_x.min_u: -0.00252707581967\n"
     ]
    },
    {
     "name": "stdout",
     "output_type": "stream",
     "text": [
      "\tvalid_h1_mean_x.min_u: -0.00252707581967\n"
     ]
    },
    {
     "name": "stderr",
     "output_type": "stream",
     "text": [
      "INFO:pylearn2.monitor:\tvalid_h1_min_x.max_u: 0.00778808165342\n"
     ]
    },
    {
     "name": "stdout",
     "output_type": "stream",
     "text": [
      "\tvalid_h1_min_x.max_u: 0.00778808165342\n"
     ]
    },
    {
     "name": "stderr",
     "output_type": "stream",
     "text": [
      "INFO:pylearn2.monitor:\tvalid_h1_min_x.mean_u: 0.000887881265953\n"
     ]
    },
    {
     "name": "stdout",
     "output_type": "stream",
     "text": [
      "\tvalid_h1_min_x.mean_u: 0.000887881265953\n"
     ]
    },
    {
     "name": "stderr",
     "output_type": "stream",
     "text": [
      "INFO:pylearn2.monitor:\tvalid_h1_min_x.min_u: -0.00765997217968\n"
     ]
    },
    {
     "name": "stdout",
     "output_type": "stream",
     "text": [
      "\tvalid_h1_min_x.min_u: -0.00765997217968\n"
     ]
    },
    {
     "name": "stderr",
     "output_type": "stream",
     "text": [
      "INFO:pylearn2.monitor:\tvalid_h1_range_x.max_u: 0.0219162590802\n"
     ]
    },
    {
     "name": "stdout",
     "output_type": "stream",
     "text": [
      "\tvalid_h1_range_x.max_u: 0.0219162590802\n"
     ]
    },
    {
     "name": "stderr",
     "output_type": "stream",
     "text": [
      "INFO:pylearn2.monitor:\tvalid_h1_range_x.mean_u: 0.0111282551661\n"
     ]
    },
    {
     "name": "stdout",
     "output_type": "stream",
     "text": [
      "\tvalid_h1_range_x.mean_u: 0.0111282551661\n"
     ]
    },
    {
     "name": "stderr",
     "output_type": "stream",
     "text": [
      "INFO:pylearn2.monitor:\tvalid_h1_range_x.min_u: 0.00589572684839\n"
     ]
    },
    {
     "name": "stdout",
     "output_type": "stream",
     "text": [
      "\tvalid_h1_range_x.min_u: 0.00589572684839\n"
     ]
    },
    {
     "name": "stderr",
     "output_type": "stream",
     "text": [
      "INFO:pylearn2.monitor:\tvalid_h2_kernel_norms_max: 0.102884635329\n"
     ]
    },
    {
     "name": "stdout",
     "output_type": "stream",
     "text": [
      "\tvalid_h2_kernel_norms_max: 0.102884635329\n"
     ]
    },
    {
     "name": "stderr",
     "output_type": "stream",
     "text": [
      "INFO:pylearn2.monitor:\tvalid_h2_kernel_norms_mean: 0.100001916289\n"
     ]
    },
    {
     "name": "stdout",
     "output_type": "stream",
     "text": [
      "\tvalid_h2_kernel_norms_mean: 0.100001916289\n"
     ]
    },
    {
     "name": "stderr",
     "output_type": "stream",
     "text": [
      "INFO:pylearn2.monitor:\tvalid_h2_kernel_norms_min: 0.097670905292\n"
     ]
    },
    {
     "name": "stdout",
     "output_type": "stream",
     "text": [
      "\tvalid_h2_kernel_norms_min: 0.097670905292\n"
     ]
    },
    {
     "name": "stderr",
     "output_type": "stream",
     "text": [
      "INFO:pylearn2.monitor:\tvalid_h2_max_x.max_u: 0.00410067476332\n"
     ]
    },
    {
     "name": "stdout",
     "output_type": "stream",
     "text": [
      "\tvalid_h2_max_x.max_u: 0.00410067476332\n"
     ]
    },
    {
     "name": "stderr",
     "output_type": "stream",
     "text": [
      "INFO:pylearn2.monitor:\tvalid_h2_max_x.mean_u: 0.00295336940326\n"
     ]
    },
    {
     "name": "stdout",
     "output_type": "stream",
     "text": [
      "\tvalid_h2_max_x.mean_u: 0.00295336940326\n"
     ]
    },
    {
     "name": "stderr",
     "output_type": "stream",
     "text": [
      "INFO:pylearn2.monitor:\tvalid_h2_max_x.min_u: 0.0022234453354\n"
     ]
    },
    {
     "name": "stdout",
     "output_type": "stream",
     "text": [
      "\tvalid_h2_max_x.min_u: 0.0022234453354\n"
     ]
    },
    {
     "name": "stderr",
     "output_type": "stream",
     "text": [
      "INFO:pylearn2.monitor:\tvalid_h2_mean_x.max_u: 0.00211778911762\n"
     ]
    },
    {
     "name": "stdout",
     "output_type": "stream",
     "text": [
      "\tvalid_h2_mean_x.max_u: 0.00211778911762\n"
     ]
    },
    {
     "name": "stderr",
     "output_type": "stream",
     "text": [
      "INFO:pylearn2.monitor:\tvalid_h2_mean_x.mean_u: 0.00152561930008\n"
     ]
    },
    {
     "name": "stdout",
     "output_type": "stream",
     "text": [
      "\tvalid_h2_mean_x.mean_u: 0.00152561930008\n"
     ]
    },
    {
     "name": "stderr",
     "output_type": "stream",
     "text": [
      "INFO:pylearn2.monitor:\tvalid_h2_mean_x.min_u: 0.00115845981054\n"
     ]
    },
    {
     "name": "stdout",
     "output_type": "stream",
     "text": [
      "\tvalid_h2_mean_x.min_u: 0.00115845981054\n"
     ]
    },
    {
     "name": "stderr",
     "output_type": "stream",
     "text": [
      "INFO:pylearn2.monitor:\tvalid_h2_min_x.max_u: 0.000771897204686\n"
     ]
    },
    {
     "name": "stdout",
     "output_type": "stream",
     "text": [
      "\tvalid_h2_min_x.max_u: 0.000771897204686\n"
     ]
    },
    {
     "name": "stderr",
     "output_type": "stream",
     "text": [
      "INFO:pylearn2.monitor:\tvalid_h2_min_x.mean_u: 0.000396407820517\n"
     ]
    },
    {
     "name": "stdout",
     "output_type": "stream",
     "text": [
      "\tvalid_h2_min_x.mean_u: 0.000396407820517\n"
     ]
    },
    {
     "name": "stderr",
     "output_type": "stream",
     "text": [
      "INFO:pylearn2.monitor:\tvalid_h2_min_x.min_u: 0.000125015954836\n"
     ]
    },
    {
     "name": "stdout",
     "output_type": "stream",
     "text": [
      "\tvalid_h2_min_x.min_u: 0.000125015954836\n"
     ]
    },
    {
     "name": "stderr",
     "output_type": "stream",
     "text": [
      "INFO:pylearn2.monitor:\tvalid_h2_range_x.max_u: 0.00341824092902\n"
     ]
    },
    {
     "name": "stdout",
     "output_type": "stream",
     "text": [
      "\tvalid_h2_range_x.max_u: 0.00341824092902\n"
     ]
    },
    {
     "name": "stderr",
     "output_type": "stream",
     "text": [
      "INFO:pylearn2.monitor:\tvalid_h2_range_x.mean_u: 0.00255696172826\n"
     ]
    },
    {
     "name": "stdout",
     "output_type": "stream",
     "text": [
      "\tvalid_h2_range_x.mean_u: 0.00255696172826\n"
     ]
    },
    {
     "name": "stderr",
     "output_type": "stream",
     "text": [
      "INFO:pylearn2.monitor:\tvalid_h2_range_x.min_u: 0.0018752705073\n"
     ]
    },
    {
     "name": "stdout",
     "output_type": "stream",
     "text": [
      "\tvalid_h2_range_x.min_u: 0.0018752705073\n"
     ]
    },
    {
     "name": "stderr",
     "output_type": "stream",
     "text": [
      "INFO:pylearn2.monitor:\tvalid_objective: 2.30190706253\n"
     ]
    },
    {
     "name": "stdout",
     "output_type": "stream",
     "text": [
      "\tvalid_objective: 2.30190706253\n"
     ]
    },
    {
     "name": "stderr",
     "output_type": "stream",
     "text": [
      "INFO:pylearn2.monitor:\tvalid_y_col_norms_max: 0.0559279695153\n"
     ]
    },
    {
     "name": "stdout",
     "output_type": "stream",
     "text": [
      "\tvalid_y_col_norms_max: 0.0559279695153\n"
     ]
    },
    {
     "name": "stderr",
     "output_type": "stream",
     "text": [
      "INFO:pylearn2.monitor:\tvalid_y_col_norms_mean: 0.0449611544609\n"
     ]
    },
    {
     "name": "stdout",
     "output_type": "stream",
     "text": [
      "\tvalid_y_col_norms_mean: 0.0449611544609\n"
     ]
    },
    {
     "name": "stderr",
     "output_type": "stream",
     "text": [
      "INFO:pylearn2.monitor:\tvalid_y_col_norms_min: 0.0407343022525\n"
     ]
    },
    {
     "name": "stdout",
     "output_type": "stream",
     "text": [
      "\tvalid_y_col_norms_min: 0.0407343022525\n"
     ]
    },
    {
     "name": "stderr",
     "output_type": "stream",
     "text": [
      "INFO:pylearn2.monitor:\tvalid_y_max_max_class: 0.11370574683\n"
     ]
    },
    {
     "name": "stdout",
     "output_type": "stream",
     "text": [
      "\tvalid_y_max_max_class: 0.11370574683\n"
     ]
    },
    {
     "name": "stderr",
     "output_type": "stream",
     "text": [
      "INFO:pylearn2.monitor:\tvalid_y_mean_max_class: 0.113674215972\n"
     ]
    },
    {
     "name": "stdout",
     "output_type": "stream",
     "text": [
      "\tvalid_y_mean_max_class: 0.113674215972\n"
     ]
    },
    {
     "name": "stderr",
     "output_type": "stream",
     "text": [
      "INFO:pylearn2.monitor:\tvalid_y_min_max_class: 0.113645642996\n"
     ]
    },
    {
     "name": "stdout",
     "output_type": "stream",
     "text": [
      "\tvalid_y_min_max_class: 0.113645642996\n"
     ]
    },
    {
     "name": "stderr",
     "output_type": "stream",
     "text": [
      "INFO:pylearn2.monitor:\tvalid_y_misclass: 0.893629968166\n"
     ]
    },
    {
     "name": "stdout",
     "output_type": "stream",
     "text": [
      "\tvalid_y_misclass: 0.893629968166\n"
     ]
    },
    {
     "name": "stderr",
     "output_type": "stream",
     "text": [
      "INFO:pylearn2.monitor:\tvalid_y_nll: 2.30192613602\n"
     ]
    },
    {
     "name": "stdout",
     "output_type": "stream",
     "text": [
      "\tvalid_y_nll: 2.30192613602\n"
     ]
    },
    {
     "name": "stderr",
     "output_type": "stream",
     "text": [
      "INFO:pylearn2.monitor:\tvalid_y_row_norms_max: 0.0145381530747\n"
     ]
    },
    {
     "name": "stdout",
     "output_type": "stream",
     "text": [
      "\tvalid_y_row_norms_max: 0.0145381530747\n"
     ]
    },
    {
     "name": "stderr",
     "output_type": "stream",
     "text": [
      "INFO:pylearn2.monitor:\tvalid_y_row_norms_mean: 0.00958941318095\n"
     ]
    },
    {
     "name": "stdout",
     "output_type": "stream",
     "text": [
      "\tvalid_y_row_norms_mean: 0.00958941318095\n"
     ]
    },
    {
     "name": "stderr",
     "output_type": "stream",
     "text": [
      "INFO:pylearn2.monitor:\tvalid_y_row_norms_min: 0.0051019503735\n"
     ]
    },
    {
     "name": "stdout",
     "output_type": "stream",
     "text": [
      "\tvalid_y_row_norms_min: 0.0051019503735\n"
     ]
    },
    {
     "name": "stderr",
     "output_type": "stream",
     "text": [
      "INFO:pylearn2.train:Time this epoch: 36.149635 seconds\n"
     ]
    },
    {
     "name": "stdout",
     "output_type": "stream",
     "text": [
      "Time this epoch: 36.149635 seconds\n"
     ]
    },
    {
     "name": "stderr",
     "output_type": "stream",
     "text": [
      "INFO:pylearn2.monitor:Monitoring step:\n"
     ]
    },
    {
     "name": "stdout",
     "output_type": "stream",
     "text": [
      "Monitoring step:\n"
     ]
    },
    {
     "name": "stderr",
     "output_type": "stream",
     "text": [
      "INFO:pylearn2.monitor:\tEpochs seen: 3\n"
     ]
    },
    {
     "name": "stdout",
     "output_type": "stream",
     "text": [
      "\tEpochs seen: 3\n"
     ]
    },
    {
     "name": "stderr",
     "output_type": "stream",
     "text": [
      "INFO:pylearn2.monitor:\tBatches seen: 1170\n"
     ]
    },
    {
     "name": "stdout",
     "output_type": "stream",
     "text": [
      "\tBatches seen: 1170\n"
     ]
    },
    {
     "name": "stderr",
     "output_type": "stream",
     "text": [
      "INFO:pylearn2.monitor:\tExamples seen: 149760\n"
     ]
    },
    {
     "name": "stdout",
     "output_type": "stream",
     "text": [
      "\tExamples seen: 149760\n"
     ]
    },
    {
     "name": "stderr",
     "output_type": "stream",
     "text": [
      "INFO:pylearn2.monitor:\tlearning_rate: 0.047713983804\n"
     ]
    },
    {
     "name": "stdout",
     "output_type": "stream",
     "text": [
      "\tlearning_rate: 0.047713983804\n"
     ]
    },
    {
     "name": "stderr",
     "output_type": "stream",
     "text": [
      "INFO:pylearn2.monitor:\tmomentum: 0.501606822014\n"
     ]
    },
    {
     "name": "stdout",
     "output_type": "stream",
     "text": [
      "\tmomentum: 0.501606822014\n"
     ]
    },
    {
     "name": "stderr",
     "output_type": "stream",
     "text": [
      "INFO:pylearn2.monitor:\ttotal_seconds_last_epoch: 41.6957740784\n"
     ]
    },
    {
     "name": "stdout",
     "output_type": "stream",
     "text": [
      "\ttotal_seconds_last_epoch: 41.6957740784\n"
     ]
    },
    {
     "name": "stderr",
     "output_type": "stream",
     "text": [
      "INFO:pylearn2.monitor:\ttraining_seconds_this_epoch: 36.1496353149\n"
     ]
    },
    {
     "name": "stdout",
     "output_type": "stream",
     "text": [
      "\ttraining_seconds_this_epoch: 36.1496353149\n"
     ]
    },
    {
     "name": "stderr",
     "output_type": "stream",
     "text": [
      "INFO:pylearn2.monitor:\tvalid_h0_kernel_norms_max: 0.0771777778864\n"
     ]
    },
    {
     "name": "stdout",
     "output_type": "stream",
     "text": [
      "\tvalid_h0_kernel_norms_max: 0.0771777778864\n"
     ]
    },
    {
     "name": "stderr",
     "output_type": "stream",
     "text": [
      "INFO:pylearn2.monitor:\tvalid_h0_kernel_norms_mean: 0.0317367836833\n"
     ]
    },
    {
     "name": "stdout",
     "output_type": "stream",
     "text": [
      "\tvalid_h0_kernel_norms_mean: 0.0317367836833\n"
     ]
    },
    {
     "name": "stderr",
     "output_type": "stream",
     "text": [
      "INFO:pylearn2.monitor:\tvalid_h0_kernel_norms_min: 0.0193819180131\n"
     ]
    },
    {
     "name": "stdout",
     "output_type": "stream",
     "text": [
      "\tvalid_h0_kernel_norms_min: 0.0193819180131\n"
     ]
    },
    {
     "name": "stderr",
     "output_type": "stream",
     "text": [
      "INFO:pylearn2.monitor:\tvalid_h0_max_x.max_u: 0.466251194477\n"
     ]
    },
    {
     "name": "stdout",
     "output_type": "stream",
     "text": [
      "\tvalid_h0_max_x.max_u: 0.466251194477\n"
     ]
    },
    {
     "name": "stderr",
     "output_type": "stream",
     "text": [
      "INFO:pylearn2.monitor:\tvalid_h0_max_x.mean_u: 0.193814352155\n"
     ]
    },
    {
     "name": "stdout",
     "output_type": "stream",
     "text": [
      "\tvalid_h0_max_x.mean_u: 0.193814352155\n"
     ]
    },
    {
     "name": "stderr",
     "output_type": "stream",
     "text": [
      "INFO:pylearn2.monitor:\tvalid_h0_max_x.min_u: 0.0304251872003\n"
     ]
    },
    {
     "name": "stdout",
     "output_type": "stream",
     "text": [
      "\tvalid_h0_max_x.min_u: 0.0304251872003\n"
     ]
    },
    {
     "name": "stderr",
     "output_type": "stream",
     "text": [
      "INFO:pylearn2.monitor:\tvalid_h0_mean_x.max_u: 0.171378090978\n"
     ]
    },
    {
     "name": "stdout",
     "output_type": "stream",
     "text": [
      "\tvalid_h0_mean_x.max_u: 0.171378090978\n"
     ]
    },
    {
     "name": "stderr",
     "output_type": "stream",
     "text": [
      "INFO:pylearn2.monitor:\tvalid_h0_mean_x.mean_u: 0.0722309425473\n"
     ]
    },
    {
     "name": "stdout",
     "output_type": "stream",
     "text": [
      "\tvalid_h0_mean_x.mean_u: 0.0722309425473\n"
     ]
    },
    {
     "name": "stderr",
     "output_type": "stream",
     "text": [
      "INFO:pylearn2.monitor:\tvalid_h0_mean_x.min_u: 0.0120129259303\n"
     ]
    },
    {
     "name": "stdout",
     "output_type": "stream",
     "text": [
      "\tvalid_h0_mean_x.min_u: 0.0120129259303\n"
     ]
    },
    {
     "name": "stderr",
     "output_type": "stream",
     "text": [
      "INFO:pylearn2.monitor:\tvalid_h0_min_x.max_u: 6.84473945967e-07\n"
     ]
    },
    {
     "name": "stdout",
     "output_type": "stream",
     "text": [
      "\tvalid_h0_min_x.max_u: 6.84473945967e-07\n"
     ]
    },
    {
     "name": "stderr",
     "output_type": "stream",
     "text": [
      "INFO:pylearn2.monitor:\tvalid_h0_min_x.mean_u: -0.000213643332245\n"
     ]
    },
    {
     "name": "stdout",
     "output_type": "stream",
     "text": [
      "\tvalid_h0_min_x.mean_u: -0.000213643332245\n"
     ]
    },
    {
     "name": "stderr",
     "output_type": "stream",
     "text": [
      "INFO:pylearn2.monitor:\tvalid_h0_min_x.min_u: -0.00658553326502\n"
     ]
    },
    {
     "name": "stdout",
     "output_type": "stream",
     "text": [
      "\tvalid_h0_min_x.min_u: -0.00658553326502\n"
     ]
    },
    {
     "name": "stderr",
     "output_type": "stream",
     "text": [
      "INFO:pylearn2.monitor:\tvalid_h0_range_x.max_u: 0.466253131628\n"
     ]
    },
    {
     "name": "stdout",
     "output_type": "stream",
     "text": [
      "\tvalid_h0_range_x.max_u: 0.466253131628\n"
     ]
    },
    {
     "name": "stderr",
     "output_type": "stream",
     "text": [
      "INFO:pylearn2.monitor:\tvalid_h0_range_x.mean_u: 0.194028005004\n"
     ]
    },
    {
     "name": "stdout",
     "output_type": "stream",
     "text": [
      "\tvalid_h0_range_x.mean_u: 0.194028005004\n"
     ]
    },
    {
     "name": "stderr",
     "output_type": "stream",
     "text": [
      "INFO:pylearn2.monitor:\tvalid_h0_range_x.min_u: 0.0304278042167\n"
     ]
    },
    {
     "name": "stdout",
     "output_type": "stream",
     "text": [
      "\tvalid_h0_range_x.min_u: 0.0304278042167\n"
     ]
    },
    {
     "name": "stderr",
     "output_type": "stream",
     "text": [
      "INFO:pylearn2.monitor:\tvalid_h1_kernel_norms_max: 0.176333740354\n"
     ]
    },
    {
     "name": "stdout",
     "output_type": "stream",
     "text": [
      "\tvalid_h1_kernel_norms_max: 0.176333740354\n"
     ]
    },
    {
     "name": "stderr",
     "output_type": "stream",
     "text": [
      "INFO:pylearn2.monitor:\tvalid_h1_kernel_norms_mean: 0.162074357271\n"
     ]
    },
    {
     "name": "stdout",
     "output_type": "stream",
     "text": [
      "\tvalid_h1_kernel_norms_mean: 0.162074357271\n"
     ]
    },
    {
     "name": "stderr",
     "output_type": "stream",
     "text": [
      "INFO:pylearn2.monitor:\tvalid_h1_kernel_norms_min: 0.157940521836\n"
     ]
    },
    {
     "name": "stdout",
     "output_type": "stream",
     "text": [
      "\tvalid_h1_kernel_norms_min: 0.157940521836\n"
     ]
    },
    {
     "name": "stderr",
     "output_type": "stream",
     "text": [
      "INFO:pylearn2.monitor:\tvalid_h1_max_x.max_u: 0.564908146858\n"
     ]
    },
    {
     "name": "stdout",
     "output_type": "stream",
     "text": [
      "\tvalid_h1_max_x.max_u: 0.564908146858\n"
     ]
    },
    {
     "name": "stderr",
     "output_type": "stream",
     "text": [
      "INFO:pylearn2.monitor:\tvalid_h1_max_x.mean_u: 0.230425924063\n"
     ]
    },
    {
     "name": "stdout",
     "output_type": "stream",
     "text": [
      "\tvalid_h1_max_x.mean_u: 0.230425924063\n"
     ]
    },
    {
     "name": "stderr",
     "output_type": "stream",
     "text": [
      "INFO:pylearn2.monitor:\tvalid_h1_max_x.min_u: 0.000174194545252\n"
     ]
    },
    {
     "name": "stdout",
     "output_type": "stream",
     "text": [
      "\tvalid_h1_max_x.min_u: 0.000174194545252\n"
     ]
    },
    {
     "name": "stderr",
     "output_type": "stream",
     "text": [
      "INFO:pylearn2.monitor:\tvalid_h1_mean_x.max_u: 0.298074603081\n"
     ]
    },
    {
     "name": "stdout",
     "output_type": "stream",
     "text": [
      "\tvalid_h1_mean_x.max_u: 0.298074603081\n"
     ]
    },
    {
     "name": "stderr",
     "output_type": "stream",
     "text": [
      "INFO:pylearn2.monitor:\tvalid_h1_mean_x.mean_u: 0.121077299118\n"
     ]
    },
    {
     "name": "stdout",
     "output_type": "stream",
     "text": [
      "\tvalid_h1_mean_x.mean_u: 0.121077299118\n"
     ]
    },
    {
     "name": "stderr",
     "output_type": "stream",
     "text": [
      "INFO:pylearn2.monitor:\tvalid_h1_mean_x.min_u: -0.0194995123893\n"
     ]
    },
    {
     "name": "stdout",
     "output_type": "stream",
     "text": [
      "\tvalid_h1_mean_x.min_u: -0.0194995123893\n"
     ]
    },
    {
     "name": "stderr",
     "output_type": "stream",
     "text": [
      "INFO:pylearn2.monitor:\tvalid_h1_min_x.max_u: 0.0953140854836\n"
     ]
    },
    {
     "name": "stdout",
     "output_type": "stream",
     "text": [
      "\tvalid_h1_min_x.max_u: 0.0953140854836\n"
     ]
    },
    {
     "name": "stderr",
     "output_type": "stream",
     "text": [
      "INFO:pylearn2.monitor:\tvalid_h1_min_x.mean_u: 0.0348803289235\n"
     ]
    },
    {
     "name": "stdout",
     "output_type": "stream",
     "text": [
      "\tvalid_h1_min_x.mean_u: 0.0348803289235\n"
     ]
    },
    {
     "name": "stderr",
     "output_type": "stream",
     "text": [
      "INFO:pylearn2.monitor:\tvalid_h1_min_x.min_u: -0.0585624650121\n"
     ]
    },
    {
     "name": "stdout",
     "output_type": "stream",
     "text": [
      "\tvalid_h1_min_x.min_u: -0.0585624650121\n"
     ]
    },
    {
     "name": "stderr",
     "output_type": "stream",
     "text": [
      "INFO:pylearn2.monitor:\tvalid_h1_range_x.max_u: 0.469594061375\n"
     ]
    },
    {
     "name": "stdout",
     "output_type": "stream",
     "text": [
      "\tvalid_h1_range_x.max_u: 0.469594061375\n"
     ]
    },
    {
     "name": "stderr",
     "output_type": "stream",
     "text": [
      "INFO:pylearn2.monitor:\tvalid_h1_range_x.mean_u: 0.195545583963\n"
     ]
    },
    {
     "name": "stdout",
     "output_type": "stream",
     "text": [
      "\tvalid_h1_range_x.mean_u: 0.195545583963\n"
     ]
    },
    {
     "name": "stderr",
     "output_type": "stream",
     "text": [
      "INFO:pylearn2.monitor:\tvalid_h1_range_x.min_u: 0.0270121470094\n"
     ]
    },
    {
     "name": "stdout",
     "output_type": "stream",
     "text": [
      "\tvalid_h1_range_x.min_u: 0.0270121470094\n"
     ]
    },
    {
     "name": "stderr",
     "output_type": "stream",
     "text": [
      "INFO:pylearn2.monitor:\tvalid_h2_kernel_norms_max: 0.133079320192\n"
     ]
    },
    {
     "name": "stdout",
     "output_type": "stream",
     "text": [
      "\tvalid_h2_kernel_norms_max: 0.133079320192\n"
     ]
    },
    {
     "name": "stderr",
     "output_type": "stream",
     "text": [
      "INFO:pylearn2.monitor:\tvalid_h2_kernel_norms_mean: 0.102876827121\n"
     ]
    },
    {
     "name": "stdout",
     "output_type": "stream",
     "text": [
      "\tvalid_h2_kernel_norms_mean: 0.102876827121\n"
     ]
    },
    {
     "name": "stderr",
     "output_type": "stream",
     "text": [
      "INFO:pylearn2.monitor:\tvalid_h2_kernel_norms_min: 0.0979020446539\n"
     ]
    },
    {
     "name": "stdout",
     "output_type": "stream",
     "text": [
      "\tvalid_h2_kernel_norms_min: 0.0979020446539\n"
     ]
    },
    {
     "name": "stderr",
     "output_type": "stream",
     "text": [
      "INFO:pylearn2.monitor:\tvalid_h2_max_x.max_u: 0.543279349804\n"
     ]
    },
    {
     "name": "stdout",
     "output_type": "stream",
     "text": [
      "\tvalid_h2_max_x.max_u: 0.543279349804\n"
     ]
    },
    {
     "name": "stderr",
     "output_type": "stream",
     "text": [
      "INFO:pylearn2.monitor:\tvalid_h2_max_x.mean_u: 0.263537824154\n"
     ]
    },
    {
     "name": "stdout",
     "output_type": "stream",
     "text": [
      "\tvalid_h2_max_x.mean_u: 0.263537824154\n"
     ]
    },
    {
     "name": "stderr",
     "output_type": "stream",
     "text": [
      "INFO:pylearn2.monitor:\tvalid_h2_max_x.min_u: 0.0247215051204\n"
     ]
    },
    {
     "name": "stdout",
     "output_type": "stream",
     "text": [
      "\tvalid_h2_max_x.min_u: 0.0247215051204\n"
     ]
    },
    {
     "name": "stderr",
     "output_type": "stream",
     "text": [
      "INFO:pylearn2.monitor:\tvalid_h2_mean_x.max_u: 0.211639106274\n"
     ]
    },
    {
     "name": "stdout",
     "output_type": "stream",
     "text": [
      "\tvalid_h2_mean_x.max_u: 0.211639106274\n"
     ]
    },
    {
     "name": "stderr",
     "output_type": "stream",
     "text": [
      "INFO:pylearn2.monitor:\tvalid_h2_mean_x.mean_u: 0.0978276729584\n"
     ]
    },
    {
     "name": "stdout",
     "output_type": "stream",
     "text": [
      "\tvalid_h2_mean_x.mean_u: 0.0978276729584\n"
     ]
    },
    {
     "name": "stderr",
     "output_type": "stream",
     "text": [
      "INFO:pylearn2.monitor:\tvalid_h2_mean_x.min_u: 0.00580511195585\n"
     ]
    },
    {
     "name": "stdout",
     "output_type": "stream",
     "text": [
      "\tvalid_h2_mean_x.min_u: 0.00580511195585\n"
     ]
    },
    {
     "name": "stderr",
     "output_type": "stream",
     "text": [
      "INFO:pylearn2.monitor:\tvalid_h2_min_x.max_u: 0.0538118109107\n"
     ]
    },
    {
     "name": "stdout",
     "output_type": "stream",
     "text": [
      "\tvalid_h2_min_x.max_u: 0.0538118109107\n"
     ]
    },
    {
     "name": "stderr",
     "output_type": "stream",
     "text": [
      "INFO:pylearn2.monitor:\tvalid_h2_min_x.mean_u: 0.019486406818\n"
     ]
    },
    {
     "name": "stdout",
     "output_type": "stream",
     "text": [
      "\tvalid_h2_min_x.mean_u: 0.019486406818\n"
     ]
    },
    {
     "name": "stderr",
     "output_type": "stream",
     "text": [
      "INFO:pylearn2.monitor:\tvalid_h2_min_x.min_u: -0.00249058939517\n"
     ]
    },
    {
     "name": "stdout",
     "output_type": "stream",
     "text": [
      "\tvalid_h2_min_x.min_u: -0.00249058939517\n"
     ]
    },
    {
     "name": "stderr",
     "output_type": "stream",
     "text": [
      "INFO:pylearn2.monitor:\tvalid_h2_range_x.max_u: 0.489467382431\n"
     ]
    },
    {
     "name": "stdout",
     "output_type": "stream",
     "text": [
      "\tvalid_h2_range_x.max_u: 0.489467382431\n"
     ]
    },
    {
     "name": "stderr",
     "output_type": "stream",
     "text": [
      "INFO:pylearn2.monitor:\tvalid_h2_range_x.mean_u: 0.244051471353\n"
     ]
    },
    {
     "name": "stdout",
     "output_type": "stream",
     "text": [
      "\tvalid_h2_range_x.mean_u: 0.244051471353\n"
     ]
    },
    {
     "name": "stderr",
     "output_type": "stream",
     "text": [
      "INFO:pylearn2.monitor:\tvalid_h2_range_x.min_u: 0.0237142611295\n"
     ]
    },
    {
     "name": "stdout",
     "output_type": "stream",
     "text": [
      "\tvalid_h2_range_x.min_u: 0.0237142611295\n"
     ]
    },
    {
     "name": "stderr",
     "output_type": "stream",
     "text": [
      "INFO:pylearn2.monitor:\tvalid_objective: 2.28461241722\n"
     ]
    },
    {
     "name": "stdout",
     "output_type": "stream",
     "text": [
      "\tvalid_objective: 2.28461241722\n"
     ]
    },
    {
     "name": "stderr",
     "output_type": "stream",
     "text": [
      "INFO:pylearn2.monitor:\tvalid_y_col_norms_max: 0.206165865064\n"
     ]
    },
    {
     "name": "stdout",
     "output_type": "stream",
     "text": [
      "\tvalid_y_col_norms_max: 0.206165865064\n"
     ]
    },
    {
     "name": "stderr",
     "output_type": "stream",
     "text": [
      "INFO:pylearn2.monitor:\tvalid_y_col_norms_mean: 0.0880369246006\n"
     ]
    },
    {
     "name": "stdout",
     "output_type": "stream",
     "text": [
      "\tvalid_y_col_norms_mean: 0.0880369246006\n"
     ]
    },
    {
     "name": "stderr",
     "output_type": "stream",
     "text": [
      "INFO:pylearn2.monitor:\tvalid_y_col_norms_min: 0.0502431206405\n"
     ]
    },
    {
     "name": "stdout",
     "output_type": "stream",
     "text": [
      "\tvalid_y_col_norms_min: 0.0502431206405\n"
     ]
    },
    {
     "name": "stderr",
     "output_type": "stream",
     "text": [
      "INFO:pylearn2.monitor:\tvalid_y_max_max_class: 0.121731005609\n"
     ]
    },
    {
     "name": "stdout",
     "output_type": "stream",
     "text": [
      "\tvalid_y_max_max_class: 0.121731005609\n"
     ]
    },
    {
     "name": "stderr",
     "output_type": "stream",
     "text": [
      "INFO:pylearn2.monitor:\tvalid_y_mean_max_class: 0.112214207649\n"
     ]
    },
    {
     "name": "stdout",
     "output_type": "stream",
     "text": [
      "\tvalid_y_mean_max_class: 0.112214207649\n"
     ]
    },
    {
     "name": "stderr",
     "output_type": "stream",
     "text": [
      "INFO:pylearn2.monitor:\tvalid_y_min_max_class: 0.106254786253\n"
     ]
    },
    {
     "name": "stdout",
     "output_type": "stream",
     "text": [
      "\tvalid_y_min_max_class: 0.106254786253\n"
     ]
    },
    {
     "name": "stderr",
     "output_type": "stream",
     "text": [
      "INFO:pylearn2.monitor:\tvalid_y_misclass: 0.83834117651\n"
     ]
    },
    {
     "name": "stdout",
     "output_type": "stream",
     "text": [
      "\tvalid_y_misclass: 0.83834117651\n"
     ]
    },
    {
     "name": "stderr",
     "output_type": "stream",
     "text": [
      "INFO:pylearn2.monitor:\tvalid_y_nll: 2.28146314621\n"
     ]
    },
    {
     "name": "stdout",
     "output_type": "stream",
     "text": [
      "\tvalid_y_nll: 2.28146314621\n"
     ]
    },
    {
     "name": "stderr",
     "output_type": "stream",
     "text": [
      "INFO:pylearn2.monitor:\tvalid_y_row_norms_max: 0.053204510361\n"
     ]
    },
    {
     "name": "stdout",
     "output_type": "stream",
     "text": [
      "\tvalid_y_row_norms_max: 0.053204510361\n"
     ]
    },
    {
     "name": "stderr",
     "output_type": "stream",
     "text": [
      "INFO:pylearn2.monitor:\tvalid_y_row_norms_mean: 0.0190178379416\n"
     ]
    },
    {
     "name": "stdout",
     "output_type": "stream",
     "text": [
      "\tvalid_y_row_norms_mean: 0.0190178379416\n"
     ]
    },
    {
     "name": "stderr",
     "output_type": "stream",
     "text": [
      "INFO:pylearn2.monitor:\tvalid_y_row_norms_min: 0.00622199522331\n"
     ]
    },
    {
     "name": "stdout",
     "output_type": "stream",
     "text": [
      "\tvalid_y_row_norms_min: 0.00622199522331\n"
     ]
    },
    {
     "name": "stderr",
     "output_type": "stream",
     "text": [
      "INFO:pylearn2.train_extensions.best_params:Saving to /afs/inf.ed.ac.uk/user/s08/s0805516/repos/pylearn2/pylearn2/scripts/papers/maxout/mnist_best.pkl...\n"
     ]
    },
    {
     "name": "stdout",
     "output_type": "stream",
     "text": [
      "Saving to /afs/inf.ed.ac.uk/user/s08/s0805516/repos/pylearn2/pylearn2/scripts/papers/maxout/mnist_best.pkl...\n"
     ]
    },
    {
     "name": "stderr",
     "output_type": "stream",
     "text": [
      "INFO:pylearn2.train_extensions.best_params:Saving to /afs/inf.ed.ac.uk/user/s08/s0805516/repos/pylearn2/pylearn2/scripts/papers/maxout/mnist_best.pkl done. Time elapsed: 0.252964 seconds\n"
     ]
    },
    {
     "name": "stdout",
     "output_type": "stream",
     "text": [
      "Saving to /afs/inf.ed.ac.uk/user/s08/s0805516/repos/pylearn2/pylearn2/scripts/papers/maxout/mnist_best.pkl done. Time elapsed: 0.252964 seconds\n"
     ]
    },
    {
     "name": "stderr",
     "output_type": "stream",
     "text": [
      "INFO:pylearn2.train:Time this epoch: 36.114048 seconds\n"
     ]
    },
    {
     "name": "stdout",
     "output_type": "stream",
     "text": [
      "Time this epoch: 36.114048 seconds\n"
     ]
    },
    {
     "name": "stderr",
     "output_type": "stream",
     "text": [
      "INFO:pylearn2.monitor:Monitoring step:\n"
     ]
    },
    {
     "name": "stdout",
     "output_type": "stream",
     "text": [
      "Monitoring step:\n"
     ]
    },
    {
     "name": "stderr",
     "output_type": "stream",
     "text": [
      "INFO:pylearn2.monitor:\tEpochs seen: 4\n"
     ]
    },
    {
     "name": "stdout",
     "output_type": "stream",
     "text": [
      "\tEpochs seen: 4\n"
     ]
    },
    {
     "name": "stderr",
     "output_type": "stream",
     "text": [
      "INFO:pylearn2.monitor:\tBatches seen: 1560\n"
     ]
    },
    {
     "name": "stdout",
     "output_type": "stream",
     "text": [
      "\tBatches seen: 1560\n"
     ]
    },
    {
     "name": "stderr",
     "output_type": "stream",
     "text": [
      "INFO:pylearn2.monitor:\tExamples seen: 199680\n"
     ]
    },
    {
     "name": "stdout",
     "output_type": "stream",
     "text": [
      "\tExamples seen: 199680\n"
     ]
    },
    {
     "name": "stderr",
     "output_type": "stream",
     "text": [
      "INFO:pylearn2.monitor:\tlearning_rate: 0.0469754226506\n"
     ]
    },
    {
     "name": "stdout",
     "output_type": "stream",
     "text": [
      "\tlearning_rate: 0.0469754226506\n"
     ]
    },
    {
     "name": "stderr",
     "output_type": "stream",
     "text": [
      "INFO:pylearn2.monitor:\tmomentum: 0.50240945816\n"
     ]
    },
    {
     "name": "stdout",
     "output_type": "stream",
     "text": [
      "\tmomentum: 0.50240945816\n"
     ]
    },
    {
     "name": "stderr",
     "output_type": "stream",
     "text": [
      "INFO:pylearn2.monitor:\ttotal_seconds_last_epoch: 42.0013465881\n"
     ]
    },
    {
     "name": "stdout",
     "output_type": "stream",
     "text": [
      "\ttotal_seconds_last_epoch: 42.0013465881\n"
     ]
    },
    {
     "name": "stderr",
     "output_type": "stream",
     "text": [
      "INFO:pylearn2.monitor:\ttraining_seconds_this_epoch: 36.1140708923\n"
     ]
    },
    {
     "name": "stdout",
     "output_type": "stream",
     "text": [
      "\ttraining_seconds_this_epoch: 36.1140708923\n"
     ]
    },
    {
     "name": "stderr",
     "output_type": "stream",
     "text": [
      "INFO:pylearn2.monitor:\tvalid_h0_kernel_norms_max: 0.722327649593\n"
     ]
    },
    {
     "name": "stdout",
     "output_type": "stream",
     "text": [
      "\tvalid_h0_kernel_norms_max: 0.722327649593\n"
     ]
    },
    {
     "name": "stderr",
     "output_type": "stream",
     "text": [
      "INFO:pylearn2.monitor:\tvalid_h0_kernel_norms_mean: 0.173145368695\n"
     ]
    },
    {
     "name": "stdout",
     "output_type": "stream",
     "text": [
      "\tvalid_h0_kernel_norms_mean: 0.173145368695\n"
     ]
    },
    {
     "name": "stderr",
     "output_type": "stream",
     "text": [
      "INFO:pylearn2.monitor:\tvalid_h0_kernel_norms_min: 0.0222138036042\n"
     ]
    },
    {
     "name": "stdout",
     "output_type": "stream",
     "text": [
      "\tvalid_h0_kernel_norms_min: 0.0222138036042\n"
     ]
    },
    {
     "name": "stderr",
     "output_type": "stream",
     "text": [
      "INFO:pylearn2.monitor:\tvalid_h0_max_x.max_u: 1.44579732418\n"
     ]
    },
    {
     "name": "stdout",
     "output_type": "stream",
     "text": [
      "\tvalid_h0_max_x.max_u: 1.44579732418\n"
     ]
    },
    {
     "name": "stderr",
     "output_type": "stream",
     "text": [
      "INFO:pylearn2.monitor:\tvalid_h0_max_x.mean_u: 0.762387812138\n"
     ]
    },
    {
     "name": "stdout",
     "output_type": "stream",
     "text": [
      "\tvalid_h0_max_x.mean_u: 0.762387812138\n"
     ]
    },
    {
     "name": "stderr",
     "output_type": "stream",
     "text": [
      "INFO:pylearn2.monitor:\tvalid_h0_max_x.min_u: 0.305321782827\n"
     ]
    },
    {
     "name": "stdout",
     "output_type": "stream",
     "text": [
      "\tvalid_h0_max_x.min_u: 0.305321782827\n"
     ]
    },
    {
     "name": "stderr",
     "output_type": "stream",
     "text": [
      "INFO:pylearn2.monitor:\tvalid_h0_mean_x.max_u: 0.393265932798\n"
     ]
    },
    {
     "name": "stdout",
     "output_type": "stream",
     "text": [
      "\tvalid_h0_mean_x.max_u: 0.393265932798\n"
     ]
    },
    {
     "name": "stderr",
     "output_type": "stream",
     "text": [
      "INFO:pylearn2.monitor:\tvalid_h0_mean_x.mean_u: 0.181332632899\n"
     ]
    },
    {
     "name": "stdout",
     "output_type": "stream",
     "text": [
      "\tvalid_h0_mean_x.mean_u: 0.181332632899\n"
     ]
    },
    {
     "name": "stderr",
     "output_type": "stream",
     "text": [
      "INFO:pylearn2.monitor:\tvalid_h0_mean_x.min_u: 0.0574394278228\n"
     ]
    },
    {
     "name": "stdout",
     "output_type": "stream",
     "text": [
      "\tvalid_h0_mean_x.min_u: 0.0574394278228\n"
     ]
    },
    {
     "name": "stderr",
     "output_type": "stream",
     "text": [
      "INFO:pylearn2.monitor:\tvalid_h0_min_x.max_u: 0.00023661031446\n"
     ]
    },
    {
     "name": "stdout",
     "output_type": "stream",
     "text": [
      "\tvalid_h0_min_x.max_u: 0.00023661031446\n"
     ]
    },
    {
     "name": "stderr",
     "output_type": "stream",
     "text": [
      "INFO:pylearn2.monitor:\tvalid_h0_min_x.mean_u: -0.165435597301\n"
     ]
    },
    {
     "name": "stdout",
     "output_type": "stream",
     "text": [
      "\tvalid_h0_min_x.mean_u: -0.165435597301\n"
     ]
    },
    {
     "name": "stderr",
     "output_type": "stream",
     "text": [
      "INFO:pylearn2.monitor:\tvalid_h0_min_x.min_u: -1.59743654728\n"
     ]
    },
    {
     "name": "stdout",
     "output_type": "stream",
     "text": [
      "\tvalid_h0_min_x.min_u: -1.59743654728\n"
     ]
    },
    {
     "name": "stderr",
     "output_type": "stream",
     "text": [
      "INFO:pylearn2.monitor:\tvalid_h0_range_x.max_u: 3.0432343483\n"
     ]
    },
    {
     "name": "stdout",
     "output_type": "stream",
     "text": [
      "\tvalid_h0_range_x.max_u: 3.0432343483\n"
     ]
    },
    {
     "name": "stderr",
     "output_type": "stream",
     "text": [
      "INFO:pylearn2.monitor:\tvalid_h0_range_x.mean_u: 0.927823424339\n"
     ]
    },
    {
     "name": "stdout",
     "output_type": "stream",
     "text": [
      "\tvalid_h0_range_x.mean_u: 0.927823424339\n"
     ]
    },
    {
     "name": "stderr",
     "output_type": "stream",
     "text": [
      "INFO:pylearn2.monitor:\tvalid_h0_range_x.min_u: 0.420111089945\n"
     ]
    },
    {
     "name": "stdout",
     "output_type": "stream",
     "text": [
      "\tvalid_h0_range_x.min_u: 0.420111089945\n"
     ]
    },
    {
     "name": "stderr",
     "output_type": "stream",
     "text": [
      "INFO:pylearn2.monitor:\tvalid_h1_kernel_norms_max: 0.625050485134\n"
     ]
    },
    {
     "name": "stdout",
     "output_type": "stream",
     "text": [
      "\tvalid_h1_kernel_norms_max: 0.625050485134\n"
     ]
    },
    {
     "name": "stderr",
     "output_type": "stream",
     "text": [
      "INFO:pylearn2.monitor:\tvalid_h1_kernel_norms_mean: 0.296093463898\n"
     ]
    },
    {
     "name": "stdout",
     "output_type": "stream",
     "text": [
      "\tvalid_h1_kernel_norms_mean: 0.296093463898\n"
     ]
    },
    {
     "name": "stderr",
     "output_type": "stream",
     "text": [
      "INFO:pylearn2.monitor:\tvalid_h1_kernel_norms_min: 0.158789798617\n"
     ]
    },
    {
     "name": "stdout",
     "output_type": "stream",
     "text": [
      "\tvalid_h1_kernel_norms_min: 0.158789798617\n"
     ]
    },
    {
     "name": "stderr",
     "output_type": "stream",
     "text": [
      "INFO:pylearn2.monitor:\tvalid_h1_max_x.max_u: 4.33207941055\n"
     ]
    },
    {
     "name": "stdout",
     "output_type": "stream",
     "text": [
      "\tvalid_h1_max_x.max_u: 4.33207941055\n"
     ]
    },
    {
     "name": "stderr",
     "output_type": "stream",
     "text": [
      "INFO:pylearn2.monitor:\tvalid_h1_max_x.mean_u: 2.3402633667\n"
     ]
    },
    {
     "name": "stdout",
     "output_type": "stream",
     "text": [
      "\tvalid_h1_max_x.mean_u: 2.3402633667\n"
     ]
    },
    {
     "name": "stderr",
     "output_type": "stream",
     "text": [
      "INFO:pylearn2.monitor:\tvalid_h1_max_x.min_u: 1.21104609966\n"
     ]
    },
    {
     "name": "stdout",
     "output_type": "stream",
     "text": [
      "\tvalid_h1_max_x.min_u: 1.21104609966\n"
     ]
    },
    {
     "name": "stderr",
     "output_type": "stream",
     "text": [
      "INFO:pylearn2.monitor:\tvalid_h1_mean_x.max_u: 1.21665096283\n"
     ]
    },
    {
     "name": "stdout",
     "output_type": "stream",
     "text": [
      "\tvalid_h1_mean_x.max_u: 1.21665096283\n"
     ]
    },
    {
     "name": "stderr",
     "output_type": "stream",
     "text": [
      "INFO:pylearn2.monitor:\tvalid_h1_mean_x.mean_u: 0.516009092331\n"
     ]
    },
    {
     "name": "stdout",
     "output_type": "stream",
     "text": [
      "\tvalid_h1_mean_x.mean_u: 0.516009092331\n"
     ]
    },
    {
     "name": "stderr",
     "output_type": "stream",
     "text": [
      "INFO:pylearn2.monitor:\tvalid_h1_mean_x.min_u: -0.13811828196\n"
     ]
    },
    {
     "name": "stdout",
     "output_type": "stream",
     "text": [
      "\tvalid_h1_mean_x.min_u: -0.13811828196\n"
     ]
    },
    {
     "name": "stderr",
     "output_type": "stream",
     "text": [
      "INFO:pylearn2.monitor:\tvalid_h1_min_x.max_u: 0.213648930192\n"
     ]
    },
    {
     "name": "stdout",
     "output_type": "stream",
     "text": [
      "\tvalid_h1_min_x.max_u: 0.213648930192\n"
     ]
    },
    {
     "name": "stderr",
     "output_type": "stream",
     "text": [
      "INFO:pylearn2.monitor:\tvalid_h1_min_x.mean_u: -0.530420780182\n"
     ]
    },
    {
     "name": "stdout",
     "output_type": "stream",
     "text": [
      "\tvalid_h1_min_x.mean_u: -0.530420780182\n"
     ]
    },
    {
     "name": "stderr",
     "output_type": "stream",
     "text": [
      "INFO:pylearn2.monitor:\tvalid_h1_min_x.min_u: -1.49102556705\n"
     ]
    },
    {
     "name": "stdout",
     "output_type": "stream",
     "text": [
      "\tvalid_h1_min_x.min_u: -1.49102556705\n"
     ]
    },
    {
     "name": "stderr",
     "output_type": "stream",
     "text": [
      "INFO:pylearn2.monitor:\tvalid_h1_range_x.max_u: 4.90883684158\n"
     ]
    },
    {
     "name": "stdout",
     "output_type": "stream",
     "text": [
      "\tvalid_h1_range_x.max_u: 4.90883684158\n"
     ]
    },
    {
     "name": "stderr",
     "output_type": "stream",
     "text": [
      "INFO:pylearn2.monitor:\tvalid_h1_range_x.mean_u: 2.87068343163\n"
     ]
    },
    {
     "name": "stdout",
     "output_type": "stream",
     "text": [
      "\tvalid_h1_range_x.mean_u: 2.87068343163\n"
     ]
    },
    {
     "name": "stderr",
     "output_type": "stream",
     "text": [
      "INFO:pylearn2.monitor:\tvalid_h1_range_x.min_u: 1.17628407478\n"
     ]
    },
    {
     "name": "stdout",
     "output_type": "stream",
     "text": [
      "\tvalid_h1_range_x.min_u: 1.17628407478\n"
     ]
    },
    {
     "name": "stderr",
     "output_type": "stream",
     "text": [
      "INFO:pylearn2.monitor:\tvalid_h2_kernel_norms_max: 0.640996813774\n"
     ]
    },
    {
     "name": "stdout",
     "output_type": "stream",
     "text": [
      "\tvalid_h2_kernel_norms_max: 0.640996813774\n"
     ]
    },
    {
     "name": "stderr",
     "output_type": "stream",
     "text": [
      "INFO:pylearn2.monitor:\tvalid_h2_kernel_norms_mean: 0.246636912227\n"
     ]
    },
    {
     "name": "stdout",
     "output_type": "stream",
     "text": [
      "\tvalid_h2_kernel_norms_mean: 0.246636912227\n"
     ]
    },
    {
     "name": "stderr",
     "output_type": "stream",
     "text": [
      "INFO:pylearn2.monitor:\tvalid_h2_kernel_norms_min: 0.0984345674515\n"
     ]
    },
    {
     "name": "stdout",
     "output_type": "stream",
     "text": [
      "\tvalid_h2_kernel_norms_min: 0.0984345674515\n"
     ]
    },
    {
     "name": "stderr",
     "output_type": "stream",
     "text": [
      "INFO:pylearn2.monitor:\tvalid_h2_max_x.max_u: 7.12524986267\n"
     ]
    },
    {
     "name": "stdout",
     "output_type": "stream",
     "text": [
      "\tvalid_h2_max_x.max_u: 7.12524986267\n"
     ]
    },
    {
     "name": "stderr",
     "output_type": "stream",
     "text": [
      "INFO:pylearn2.monitor:\tvalid_h2_max_x.mean_u: 4.66245031357\n"
     ]
    },
    {
     "name": "stdout",
     "output_type": "stream",
     "text": [
      "\tvalid_h2_max_x.mean_u: 4.66245031357\n"
     ]
    },
    {
     "name": "stderr",
     "output_type": "stream",
     "text": [
      "INFO:pylearn2.monitor:\tvalid_h2_max_x.min_u: 2.12647914886\n"
     ]
    },
    {
     "name": "stdout",
     "output_type": "stream",
     "text": [
      "\tvalid_h2_max_x.min_u: 2.12647914886\n"
     ]
    },
    {
     "name": "stderr",
     "output_type": "stream",
     "text": [
      "INFO:pylearn2.monitor:\tvalid_h2_mean_x.max_u: 0.715863704681\n"
     ]
    },
    {
     "name": "stdout",
     "output_type": "stream",
     "text": [
      "\tvalid_h2_mean_x.max_u: 0.715863704681\n"
     ]
    },
    {
     "name": "stderr",
     "output_type": "stream",
     "text": [
      "INFO:pylearn2.monitor:\tvalid_h2_mean_x.mean_u: 0.435067504644\n"
     ]
    },
    {
     "name": "stdout",
     "output_type": "stream",
     "text": [
      "\tvalid_h2_mean_x.mean_u: 0.435067504644\n"
     ]
    },
    {
     "name": "stderr",
     "output_type": "stream",
     "text": [
      "INFO:pylearn2.monitor:\tvalid_h2_mean_x.min_u: 0.102857254446\n"
     ]
    },
    {
     "name": "stdout",
     "output_type": "stream",
     "text": [
      "\tvalid_h2_mean_x.min_u: 0.102857254446\n"
     ]
    },
    {
     "name": "stderr",
     "output_type": "stream",
     "text": [
      "INFO:pylearn2.monitor:\tvalid_h2_min_x.max_u: -0.0666022077203\n"
     ]
    },
    {
     "name": "stdout",
     "output_type": "stream",
     "text": [
      "\tvalid_h2_min_x.max_u: -0.0666022077203\n"
     ]
    },
    {
     "name": "stderr",
     "output_type": "stream",
     "text": [
      "INFO:pylearn2.monitor:\tvalid_h2_min_x.mean_u: -1.57689130306\n"
     ]
    },
    {
     "name": "stdout",
     "output_type": "stream",
     "text": [
      "\tvalid_h2_min_x.mean_u: -1.57689130306\n"
     ]
    },
    {
     "name": "stderr",
     "output_type": "stream",
     "text": [
      "INFO:pylearn2.monitor:\tvalid_h2_min_x.min_u: -2.53723287582\n"
     ]
    },
    {
     "name": "stdout",
     "output_type": "stream",
     "text": [
      "\tvalid_h2_min_x.min_u: -2.53723287582\n"
     ]
    },
    {
     "name": "stderr",
     "output_type": "stream",
     "text": [
      "INFO:pylearn2.monitor:\tvalid_h2_range_x.max_u: 8.89019012451\n"
     ]
    },
    {
     "name": "stdout",
     "output_type": "stream",
     "text": [
      "\tvalid_h2_range_x.max_u: 8.89019012451\n"
     ]
    },
    {
     "name": "stderr",
     "output_type": "stream",
     "text": [
      "INFO:pylearn2.monitor:\tvalid_h2_range_x.mean_u: 6.23934268951\n"
     ]
    },
    {
     "name": "stdout",
     "output_type": "stream",
     "text": [
      "\tvalid_h2_range_x.mean_u: 6.23934268951\n"
     ]
    },
    {
     "name": "stderr",
     "output_type": "stream",
     "text": [
      "INFO:pylearn2.monitor:\tvalid_h2_range_x.min_u: 2.22104120255\n"
     ]
    },
    {
     "name": "stdout",
     "output_type": "stream",
     "text": [
      "\tvalid_h2_range_x.min_u: 2.22104120255\n"
     ]
    },
    {
     "name": "stderr",
     "output_type": "stream",
     "text": [
      "INFO:pylearn2.monitor:\tvalid_objective: 0.314877778292\n"
     ]
    },
    {
     "name": "stdout",
     "output_type": "stream",
     "text": [
      "\tvalid_objective: 0.314877778292\n"
     ]
    },
    {
     "name": "stderr",
     "output_type": "stream",
     "text": [
      "INFO:pylearn2.monitor:\tvalid_y_col_norms_max: 1.0531141758\n"
     ]
    },
    {
     "name": "stdout",
     "output_type": "stream",
     "text": [
      "\tvalid_y_col_norms_max: 1.0531141758\n"
     ]
    },
    {
     "name": "stderr",
     "output_type": "stream",
     "text": [
      "INFO:pylearn2.monitor:\tvalid_y_col_norms_mean: 0.894145429134\n"
     ]
    },
    {
     "name": "stdout",
     "output_type": "stream",
     "text": [
      "\tvalid_y_col_norms_mean: 0.894145429134\n"
     ]
    },
    {
     "name": "stderr",
     "output_type": "stream",
     "text": [
      "INFO:pylearn2.monitor:\tvalid_y_col_norms_min: 0.757939100266\n"
     ]
    },
    {
     "name": "stdout",
     "output_type": "stream",
     "text": [
      "\tvalid_y_col_norms_min: 0.757939100266\n"
     ]
    },
    {
     "name": "stderr",
     "output_type": "stream",
     "text": [
      "INFO:pylearn2.monitor:\tvalid_y_max_max_class: 0.999985873699\n"
     ]
    },
    {
     "name": "stdout",
     "output_type": "stream",
     "text": [
      "\tvalid_y_max_max_class: 0.999985873699\n"
     ]
    },
    {
     "name": "stderr",
     "output_type": "stream",
     "text": [
      "INFO:pylearn2.monitor:\tvalid_y_mean_max_class: 0.939149975777\n"
     ]
    },
    {
     "name": "stdout",
     "output_type": "stream",
     "text": [
      "\tvalid_y_mean_max_class: 0.939149975777\n"
     ]
    },
    {
     "name": "stderr",
     "output_type": "stream",
     "text": [
      "INFO:pylearn2.monitor:\tvalid_y_min_max_class: 0.405493080616\n"
     ]
    },
    {
     "name": "stdout",
     "output_type": "stream",
     "text": [
      "\tvalid_y_min_max_class: 0.405493080616\n"
     ]
    },
    {
     "name": "stderr",
     "output_type": "stream",
     "text": [
      "INFO:pylearn2.monitor:\tvalid_y_misclass: 0.0538862347603\n"
     ]
    },
    {
     "name": "stdout",
     "output_type": "stream",
     "text": [
      "\tvalid_y_misclass: 0.0538862347603\n"
     ]
    },
    {
     "name": "stderr",
     "output_type": "stream",
     "text": [
      "INFO:pylearn2.monitor:\tvalid_y_nll: 0.179397597909\n"
     ]
    },
    {
     "name": "stdout",
     "output_type": "stream",
     "text": [
      "\tvalid_y_nll: 0.179397597909\n"
     ]
    },
    {
     "name": "stderr",
     "output_type": "stream",
     "text": [
      "INFO:pylearn2.monitor:\tvalid_y_row_norms_max: 0.315414071083\n"
     ]
    },
    {
     "name": "stdout",
     "output_type": "stream",
     "text": [
      "\tvalid_y_row_norms_max: 0.315414071083\n"
     ]
    },
    {
     "name": "stderr",
     "output_type": "stream",
     "text": [
      "INFO:pylearn2.monitor:\tvalid_y_row_norms_mean: 0.180640086532\n"
     ]
    },
    {
     "name": "stdout",
     "output_type": "stream",
     "text": [
      "\tvalid_y_row_norms_mean: 0.180640086532\n"
     ]
    },
    {
     "name": "stderr",
     "output_type": "stream",
     "text": [
      "INFO:pylearn2.monitor:\tvalid_y_row_norms_min: 0.0242856703699\n"
     ]
    },
    {
     "name": "stdout",
     "output_type": "stream",
     "text": [
      "\tvalid_y_row_norms_min: 0.0242856703699\n"
     ]
    },
    {
     "name": "stderr",
     "output_type": "stream",
     "text": [
      "INFO:pylearn2.train_extensions.best_params:Saving to /afs/inf.ed.ac.uk/user/s08/s0805516/repos/pylearn2/pylearn2/scripts/papers/maxout/mnist_best.pkl...\n"
     ]
    },
    {
     "name": "stdout",
     "output_type": "stream",
     "text": [
      "Saving to /afs/inf.ed.ac.uk/user/s08/s0805516/repos/pylearn2/pylearn2/scripts/papers/maxout/mnist_best.pkl...\n"
     ]
    },
    {
     "name": "stderr",
     "output_type": "stream",
     "text": [
      "INFO:pylearn2.train_extensions.best_params:Saving to /afs/inf.ed.ac.uk/user/s08/s0805516/repos/pylearn2/pylearn2/scripts/papers/maxout/mnist_best.pkl done. Time elapsed: 0.260041 seconds\n"
     ]
    },
    {
     "name": "stdout",
     "output_type": "stream",
     "text": [
      "Saving to /afs/inf.ed.ac.uk/user/s08/s0805516/repos/pylearn2/pylearn2/scripts/papers/maxout/mnist_best.pkl done. Time elapsed: 0.260041 seconds\n"
     ]
    },
    {
     "name": "stderr",
     "output_type": "stream",
     "text": [
      "INFO:pylearn2.train:Time this epoch: 36.099575 seconds\n"
     ]
    },
    {
     "name": "stdout",
     "output_type": "stream",
     "text": [
      "Time this epoch: 36.099575 seconds\n"
     ]
    },
    {
     "name": "stderr",
     "output_type": "stream",
     "text": [
      "INFO:pylearn2.monitor:Monitoring step:\n"
     ]
    },
    {
     "name": "stdout",
     "output_type": "stream",
     "text": [
      "Monitoring step:\n"
     ]
    },
    {
     "name": "stderr",
     "output_type": "stream",
     "text": [
      "INFO:pylearn2.monitor:\tEpochs seen: 5\n"
     ]
    },
    {
     "name": "stdout",
     "output_type": "stream",
     "text": [
      "\tEpochs seen: 5\n"
     ]
    },
    {
     "name": "stderr",
     "output_type": "stream",
     "text": [
      "INFO:pylearn2.monitor:\tBatches seen: 1950\n"
     ]
    },
    {
     "name": "stdout",
     "output_type": "stream",
     "text": [
      "\tBatches seen: 1950\n"
     ]
    },
    {
     "name": "stderr",
     "output_type": "stream",
     "text": [
      "INFO:pylearn2.monitor:\tExamples seen: 249600\n"
     ]
    },
    {
     "name": "stdout",
     "output_type": "stream",
     "text": [
      "\tExamples seen: 249600\n"
     ]
    },
    {
     "name": "stderr",
     "output_type": "stream",
     "text": [
      "INFO:pylearn2.monitor:\tlearning_rate: 0.0462483204901\n"
     ]
    },
    {
     "name": "stdout",
     "output_type": "stream",
     "text": [
      "\tlearning_rate: 0.0462483204901\n"
     ]
    },
    {
     "name": "stderr",
     "output_type": "stream",
     "text": [
      "INFO:pylearn2.monitor:\tmomentum: 0.503213226795\n"
     ]
    },
    {
     "name": "stdout",
     "output_type": "stream",
     "text": [
      "\tmomentum: 0.503213226795\n"
     ]
    },
    {
     "name": "stderr",
     "output_type": "stream",
     "text": [
      "INFO:pylearn2.monitor:\ttotal_seconds_last_epoch: 41.9746818542\n"
     ]
    },
    {
     "name": "stdout",
     "output_type": "stream",
     "text": [
      "\ttotal_seconds_last_epoch: 41.9746818542\n"
     ]
    },
    {
     "name": "stderr",
     "output_type": "stream",
     "text": [
      "INFO:pylearn2.monitor:\ttraining_seconds_this_epoch: 36.0995483398\n"
     ]
    },
    {
     "name": "stdout",
     "output_type": "stream",
     "text": [
      "\ttraining_seconds_this_epoch: 36.0995483398\n"
     ]
    },
    {
     "name": "stderr",
     "output_type": "stream",
     "text": [
      "INFO:pylearn2.monitor:\tvalid_h0_kernel_norms_max: 0.79072034359\n"
     ]
    },
    {
     "name": "stdout",
     "output_type": "stream",
     "text": [
      "\tvalid_h0_kernel_norms_max: 0.79072034359\n"
     ]
    },
    {
     "name": "stderr",
     "output_type": "stream",
     "text": [
      "INFO:pylearn2.monitor:\tvalid_h0_kernel_norms_mean: 0.234426960349\n"
     ]
    },
    {
     "name": "stdout",
     "output_type": "stream",
     "text": [
      "\tvalid_h0_kernel_norms_mean: 0.234426960349\n"
     ]
    },
    {
     "name": "stderr",
     "output_type": "stream",
     "text": [
      "INFO:pylearn2.monitor:\tvalid_h0_kernel_norms_min: 0.0224606376141\n"
     ]
    },
    {
     "name": "stdout",
     "output_type": "stream",
     "text": [
      "\tvalid_h0_kernel_norms_min: 0.0224606376141\n"
     ]
    },
    {
     "name": "stderr",
     "output_type": "stream",
     "text": [
      "INFO:pylearn2.monitor:\tvalid_h0_max_x.max_u: 1.24653208256\n"
     ]
    },
    {
     "name": "stdout",
     "output_type": "stream",
     "text": [
      "\tvalid_h0_max_x.max_u: 1.24653208256\n"
     ]
    },
    {
     "name": "stderr",
     "output_type": "stream",
     "text": [
      "INFO:pylearn2.monitor:\tvalid_h0_max_x.mean_u: 0.801713585854\n"
     ]
    },
    {
     "name": "stdout",
     "output_type": "stream",
     "text": [
      "\tvalid_h0_max_x.mean_u: 0.801713585854\n"
     ]
    },
    {
     "name": "stderr",
     "output_type": "stream",
     "text": [
      "INFO:pylearn2.monitor:\tvalid_h0_max_x.min_u: 0.353657454252\n"
     ]
    },
    {
     "name": "stdout",
     "output_type": "stream",
     "text": [
      "\tvalid_h0_max_x.min_u: 0.353657454252\n"
     ]
    },
    {
     "name": "stderr",
     "output_type": "stream",
     "text": [
      "INFO:pylearn2.monitor:\tvalid_h0_mean_x.max_u: 0.289873421192\n"
     ]
    },
    {
     "name": "stdout",
     "output_type": "stream",
     "text": [
      "\tvalid_h0_mean_x.max_u: 0.289873421192\n"
     ]
    },
    {
     "name": "stderr",
     "output_type": "stream",
     "text": [
      "INFO:pylearn2.monitor:\tvalid_h0_mean_x.mean_u: 0.155703037977\n"
     ]
    },
    {
     "name": "stdout",
     "output_type": "stream",
     "text": [
      "\tvalid_h0_mean_x.mean_u: 0.155703037977\n"
     ]
    },
    {
     "name": "stderr",
     "output_type": "stream",
     "text": [
      "INFO:pylearn2.monitor:\tvalid_h0_mean_x.min_u: 0.067341580987\n"
     ]
    },
    {
     "name": "stdout",
     "output_type": "stream",
     "text": [
      "\tvalid_h0_mean_x.min_u: 0.067341580987\n"
     ]
    },
    {
     "name": "stderr",
     "output_type": "stream",
     "text": [
      "INFO:pylearn2.monitor:\tvalid_h0_min_x.max_u: 1.33834728331e-05\n"
     ]
    },
    {
     "name": "stdout",
     "output_type": "stream",
     "text": [
      "\tvalid_h0_min_x.max_u: 1.33834728331e-05\n"
     ]
    },
    {
     "name": "stderr",
     "output_type": "stream",
     "text": [
      "INFO:pylearn2.monitor:\tvalid_h0_min_x.mean_u: -0.274617999792\n"
     ]
    },
    {
     "name": "stdout",
     "output_type": "stream",
     "text": [
      "\tvalid_h0_min_x.mean_u: -0.274617999792\n"
     ]
    },
    {
     "name": "stderr",
     "output_type": "stream",
     "text": [
      "INFO:pylearn2.monitor:\tvalid_h0_min_x.min_u: -2.03115916252\n"
     ]
    },
    {
     "name": "stdout",
     "output_type": "stream",
     "text": [
      "\tvalid_h0_min_x.min_u: -2.03115916252\n"
     ]
    },
    {
     "name": "stderr",
     "output_type": "stream",
     "text": [
      "INFO:pylearn2.monitor:\tvalid_h0_range_x.max_u: 3.14129543304\n"
     ]
    },
    {
     "name": "stdout",
     "output_type": "stream",
     "text": [
      "\tvalid_h0_range_x.max_u: 3.14129543304\n"
     ]
    },
    {
     "name": "stderr",
     "output_type": "stream",
     "text": [
      "INFO:pylearn2.monitor:\tvalid_h0_range_x.mean_u: 1.07633173466\n"
     ]
    },
    {
     "name": "stdout",
     "output_type": "stream",
     "text": [
      "\tvalid_h0_range_x.mean_u: 1.07633173466\n"
     ]
    },
    {
     "name": "stderr",
     "output_type": "stream",
     "text": [
      "INFO:pylearn2.monitor:\tvalid_h0_range_x.min_u: 0.369760274887\n"
     ]
    },
    {
     "name": "stdout",
     "output_type": "stream",
     "text": [
      "\tvalid_h0_range_x.min_u: 0.369760274887\n"
     ]
    },
    {
     "name": "stderr",
     "output_type": "stream",
     "text": [
      "INFO:pylearn2.monitor:\tvalid_h1_kernel_norms_max: 0.812757611275\n"
     ]
    },
    {
     "name": "stdout",
     "output_type": "stream",
     "text": [
      "\tvalid_h1_kernel_norms_max: 0.812757611275\n"
     ]
    },
    {
     "name": "stderr",
     "output_type": "stream",
     "text": [
      "INFO:pylearn2.monitor:\tvalid_h1_kernel_norms_mean: 0.376733213663\n"
     ]
    },
    {
     "name": "stdout",
     "output_type": "stream",
     "text": [
      "\tvalid_h1_kernel_norms_mean: 0.376733213663\n"
     ]
    },
    {
     "name": "stderr",
     "output_type": "stream",
     "text": [
      "INFO:pylearn2.monitor:\tvalid_h1_kernel_norms_min: 0.160231769085\n"
     ]
    },
    {
     "name": "stdout",
     "output_type": "stream",
     "text": [
      "\tvalid_h1_kernel_norms_min: 0.160231769085\n"
     ]
    },
    {
     "name": "stderr",
     "output_type": "stream",
     "text": [
      "INFO:pylearn2.monitor:\tvalid_h1_max_x.max_u: 4.75283622742\n"
     ]
    },
    {
     "name": "stdout",
     "output_type": "stream",
     "text": [
      "\tvalid_h1_max_x.max_u: 4.75283622742\n"
     ]
    },
    {
     "name": "stderr",
     "output_type": "stream",
     "text": [
      "INFO:pylearn2.monitor:\tvalid_h1_max_x.mean_u: 2.34672021866\n"
     ]
    },
    {
     "name": "stdout",
     "output_type": "stream",
     "text": [
      "\tvalid_h1_max_x.mean_u: 2.34672021866\n"
     ]
    },
    {
     "name": "stderr",
     "output_type": "stream",
     "text": [
      "INFO:pylearn2.monitor:\tvalid_h1_max_x.min_u: 1.26844036579\n"
     ]
    },
    {
     "name": "stdout",
     "output_type": "stream",
     "text": [
      "\tvalid_h1_max_x.min_u: 1.26844036579\n"
     ]
    },
    {
     "name": "stderr",
     "output_type": "stream",
     "text": [
      "INFO:pylearn2.monitor:\tvalid_h1_mean_x.max_u: 1.19252133369\n"
     ]
    },
    {
     "name": "stdout",
     "output_type": "stream",
     "text": [
      "\tvalid_h1_mean_x.max_u: 1.19252133369\n"
     ]
    },
    {
     "name": "stderr",
     "output_type": "stream",
     "text": [
      "INFO:pylearn2.monitor:\tvalid_h1_mean_x.mean_u: 0.355703651905\n"
     ]
    },
    {
     "name": "stdout",
     "output_type": "stream",
     "text": [
      "\tvalid_h1_mean_x.mean_u: 0.355703651905\n"
     ]
    },
    {
     "name": "stderr",
     "output_type": "stream",
     "text": [
      "INFO:pylearn2.monitor:\tvalid_h1_mean_x.min_u: -0.067130215466\n"
     ]
    },
    {
     "name": "stdout",
     "output_type": "stream",
     "text": [
      "\tvalid_h1_mean_x.min_u: -0.067130215466\n"
     ]
    },
    {
     "name": "stderr",
     "output_type": "stream",
     "text": [
      "INFO:pylearn2.monitor:\tvalid_h1_min_x.max_u: 0.129600062966\n"
     ]
    },
    {
     "name": "stdout",
     "output_type": "stream",
     "text": [
      "\tvalid_h1_min_x.max_u: 0.129600062966\n"
     ]
    },
    {
     "name": "stderr",
     "output_type": "stream",
     "text": [
      "INFO:pylearn2.monitor:\tvalid_h1_min_x.mean_u: -0.653524935246\n"
     ]
    },
    {
     "name": "stdout",
     "output_type": "stream",
     "text": [
      "\tvalid_h1_min_x.mean_u: -0.653524935246\n"
     ]
    },
    {
     "name": "stderr",
     "output_type": "stream",
     "text": [
      "INFO:pylearn2.monitor:\tvalid_h1_min_x.min_u: -1.55448579788\n"
     ]
    },
    {
     "name": "stdout",
     "output_type": "stream",
     "text": [
      "\tvalid_h1_min_x.min_u: -1.55448579788\n"
     ]
    },
    {
     "name": "stderr",
     "output_type": "stream",
     "text": [
      "INFO:pylearn2.monitor:\tvalid_h1_range_x.max_u: 5.89756536484\n"
     ]
    },
    {
     "name": "stdout",
     "output_type": "stream",
     "text": [
      "\tvalid_h1_range_x.max_u: 5.89756536484\n"
     ]
    },
    {
     "name": "stderr",
     "output_type": "stream",
     "text": [
      "INFO:pylearn2.monitor:\tvalid_h1_range_x.mean_u: 3.00024557114\n"
     ]
    },
    {
     "name": "stdout",
     "output_type": "stream",
     "text": [
      "\tvalid_h1_range_x.mean_u: 3.00024557114\n"
     ]
    },
    {
     "name": "stderr",
     "output_type": "stream",
     "text": [
      "INFO:pylearn2.monitor:\tvalid_h1_range_x.min_u: 1.41475522518\n"
     ]
    },
    {
     "name": "stdout",
     "output_type": "stream",
     "text": [
      "\tvalid_h1_range_x.min_u: 1.41475522518\n"
     ]
    },
    {
     "name": "stderr",
     "output_type": "stream",
     "text": [
      "INFO:pylearn2.monitor:\tvalid_h2_kernel_norms_max: 0.771396875381\n"
     ]
    },
    {
     "name": "stdout",
     "output_type": "stream",
     "text": [
      "\tvalid_h2_kernel_norms_max: 0.771396875381\n"
     ]
    },
    {
     "name": "stderr",
     "output_type": "stream",
     "text": [
      "INFO:pylearn2.monitor:\tvalid_h2_kernel_norms_mean: 0.313487440348\n"
     ]
    },
    {
     "name": "stdout",
     "output_type": "stream",
     "text": [
      "\tvalid_h2_kernel_norms_mean: 0.313487440348\n"
     ]
    },
    {
     "name": "stderr",
     "output_type": "stream",
     "text": [
      "INFO:pylearn2.monitor:\tvalid_h2_kernel_norms_min: 0.102460697293\n"
     ]
    },
    {
     "name": "stdout",
     "output_type": "stream",
     "text": [
      "\tvalid_h2_kernel_norms_min: 0.102460697293\n"
     ]
    },
    {
     "name": "stderr",
     "output_type": "stream",
     "text": [
      "INFO:pylearn2.monitor:\tvalid_h2_max_x.max_u: 6.51273345947\n"
     ]
    },
    {
     "name": "stdout",
     "output_type": "stream",
     "text": [
      "\tvalid_h2_max_x.max_u: 6.51273345947\n"
     ]
    },
    {
     "name": "stderr",
     "output_type": "stream",
     "text": [
      "INFO:pylearn2.monitor:\tvalid_h2_max_x.mean_u: 4.39955377579\n"
     ]
    },
    {
     "name": "stdout",
     "output_type": "stream",
     "text": [
      "\tvalid_h2_max_x.mean_u: 4.39955377579\n"
     ]
    },
    {
     "name": "stderr",
     "output_type": "stream",
     "text": [
      "INFO:pylearn2.monitor:\tvalid_h2_max_x.min_u: 2.94254589081\n"
     ]
    },
    {
     "name": "stdout",
     "output_type": "stream",
     "text": [
      "\tvalid_h2_max_x.min_u: 2.94254589081\n"
     ]
    },
    {
     "name": "stderr",
     "output_type": "stream",
     "text": [
      "INFO:pylearn2.monitor:\tvalid_h2_mean_x.max_u: 0.851254761219\n"
     ]
    },
    {
     "name": "stdout",
     "output_type": "stream",
     "text": [
      "\tvalid_h2_mean_x.max_u: 0.851254761219\n"
     ]
    },
    {
     "name": "stderr",
     "output_type": "stream",
     "text": [
      "INFO:pylearn2.monitor:\tvalid_h2_mean_x.mean_u: 0.346943378448\n"
     ]
    },
    {
     "name": "stdout",
     "output_type": "stream",
     "text": [
      "\tvalid_h2_mean_x.mean_u: 0.346943378448\n"
     ]
    },
    {
     "name": "stderr",
     "output_type": "stream",
     "text": [
      "INFO:pylearn2.monitor:\tvalid_h2_mean_x.min_u: -0.16730299592\n"
     ]
    },
    {
     "name": "stdout",
     "output_type": "stream",
     "text": [
      "\tvalid_h2_mean_x.min_u: -0.16730299592\n"
     ]
    },
    {
     "name": "stderr",
     "output_type": "stream",
     "text": [
      "INFO:pylearn2.monitor:\tvalid_h2_min_x.max_u: -0.2498036623\n"
     ]
    },
    {
     "name": "stdout",
     "output_type": "stream",
     "text": [
      "\tvalid_h2_min_x.max_u: -0.2498036623\n"
     ]
    },
    {
     "name": "stderr",
     "output_type": "stream",
     "text": [
      "INFO:pylearn2.monitor:\tvalid_h2_min_x.mean_u: -1.96489655972\n"
     ]
    },
    {
     "name": "stdout",
     "output_type": "stream",
     "text": [
      "\tvalid_h2_min_x.mean_u: -1.96489655972\n"
     ]
    },
    {
     "name": "stderr",
     "output_type": "stream",
     "text": [
      "INFO:pylearn2.monitor:\tvalid_h2_min_x.min_u: -2.84469294548\n"
     ]
    },
    {
     "name": "stdout",
     "output_type": "stream",
     "text": [
      "\tvalid_h2_min_x.min_u: -2.84469294548\n"
     ]
    },
    {
     "name": "stderr",
     "output_type": "stream",
     "text": [
      "INFO:pylearn2.monitor:\tvalid_h2_range_x.max_u: 8.44579410553\n"
     ]
    },
    {
     "name": "stdout",
     "output_type": "stream",
     "text": [
      "\tvalid_h2_range_x.max_u: 8.44579410553\n"
     ]
    },
    {
     "name": "stderr",
     "output_type": "stream",
     "text": [
      "INFO:pylearn2.monitor:\tvalid_h2_range_x.mean_u: 6.36444950104\n"
     ]
    },
    {
     "name": "stdout",
     "output_type": "stream",
     "text": [
      "\tvalid_h2_range_x.mean_u: 6.36444950104\n"
     ]
    },
    {
     "name": "stderr",
     "output_type": "stream",
     "text": [
      "INFO:pylearn2.monitor:\tvalid_h2_range_x.min_u: 3.6334426403\n"
     ]
    },
    {
     "name": "stdout",
     "output_type": "stream",
     "text": [
      "\tvalid_h2_range_x.min_u: 3.6334426403\n"
     ]
    },
    {
     "name": "stderr",
     "output_type": "stream",
     "text": [
      "INFO:pylearn2.monitor:\tvalid_objective: 0.157433494925\n"
     ]
    },
    {
     "name": "stdout",
     "output_type": "stream",
     "text": [
      "\tvalid_objective: 0.157433494925\n"
     ]
    },
    {
     "name": "stderr",
     "output_type": "stream",
     "text": [
      "INFO:pylearn2.monitor:\tvalid_y_col_norms_max: 1.23267877102\n"
     ]
    },
    {
     "name": "stdout",
     "output_type": "stream",
     "text": [
      "\tvalid_y_col_norms_max: 1.23267877102\n"
     ]
    },
    {
     "name": "stderr",
     "output_type": "stream",
     "text": [
      "INFO:pylearn2.monitor:\tvalid_y_col_norms_mean: 1.08009660244\n"
     ]
    },
    {
     "name": "stdout",
     "output_type": "stream",
     "text": [
      "\tvalid_y_col_norms_mean: 1.08009660244\n"
     ]
    },
    {
     "name": "stderr",
     "output_type": "stream",
     "text": [
      "INFO:pylearn2.monitor:\tvalid_y_col_norms_min: 0.989951074123\n"
     ]
    },
    {
     "name": "stdout",
     "output_type": "stream",
     "text": [
      "\tvalid_y_col_norms_min: 0.989951074123\n"
     ]
    },
    {
     "name": "stderr",
     "output_type": "stream",
     "text": [
      "INFO:pylearn2.monitor:\tvalid_y_max_max_class: 0.999998092651\n"
     ]
    },
    {
     "name": "stdout",
     "output_type": "stream",
     "text": [
      "\tvalid_y_max_max_class: 0.999998092651\n"
     ]
    },
    {
     "name": "stderr",
     "output_type": "stream",
     "text": [
      "INFO:pylearn2.monitor:\tvalid_y_mean_max_class: 0.978539168835\n"
     ]
    },
    {
     "name": "stdout",
     "output_type": "stream",
     "text": [
      "\tvalid_y_mean_max_class: 0.978539168835\n"
     ]
    },
    {
     "name": "stderr",
     "output_type": "stream",
     "text": [
      "INFO:pylearn2.monitor:\tvalid_y_min_max_class: 0.519389212132\n"
     ]
    },
    {
     "name": "stdout",
     "output_type": "stream",
     "text": [
      "\tvalid_y_min_max_class: 0.519389212132\n"
     ]
    },
    {
     "name": "stderr",
     "output_type": "stream",
     "text": [
      "INFO:pylearn2.monitor:\tvalid_y_misclass: 0.0216346178204\n"
     ]
    },
    {
     "name": "stdout",
     "output_type": "stream",
     "text": [
      "\tvalid_y_misclass: 0.0216346178204\n"
     ]
    },
    {
     "name": "stderr",
     "output_type": "stream",
     "text": [
      "INFO:pylearn2.monitor:\tvalid_y_nll: 0.0756546407938\n"
     ]
    },
    {
     "name": "stdout",
     "output_type": "stream",
     "text": [
      "\tvalid_y_nll: 0.0756546407938\n"
     ]
    },
    {
     "name": "stderr",
     "output_type": "stream",
     "text": [
      "INFO:pylearn2.monitor:\tvalid_y_row_norms_max: 0.365562856197\n"
     ]
    },
    {
     "name": "stdout",
     "output_type": "stream",
     "text": [
      "\tvalid_y_row_norms_max: 0.365562856197\n"
     ]
    },
    {
     "name": "stderr",
     "output_type": "stream",
     "text": [
      "INFO:pylearn2.monitor:\tvalid_y_row_norms_mean: 0.221725210547\n"
     ]
    },
    {
     "name": "stdout",
     "output_type": "stream",
     "text": [
      "\tvalid_y_row_norms_mean: 0.221725210547\n"
     ]
    },
    {
     "name": "stderr",
     "output_type": "stream",
     "text": [
      "INFO:pylearn2.monitor:\tvalid_y_row_norms_min: 0.0390614829957\n"
     ]
    },
    {
     "name": "stdout",
     "output_type": "stream",
     "text": [
      "\tvalid_y_row_norms_min: 0.0390614829957\n"
     ]
    },
    {
     "name": "stderr",
     "output_type": "stream",
     "text": [
      "INFO:pylearn2.train_extensions.best_params:Saving to /afs/inf.ed.ac.uk/user/s08/s0805516/repos/pylearn2/pylearn2/scripts/papers/maxout/mnist_best.pkl...\n"
     ]
    },
    {
     "name": "stdout",
     "output_type": "stream",
     "text": [
      "Saving to /afs/inf.ed.ac.uk/user/s08/s0805516/repos/pylearn2/pylearn2/scripts/papers/maxout/mnist_best.pkl...\n"
     ]
    },
    {
     "name": "stderr",
     "output_type": "stream",
     "text": [
      "INFO:pylearn2.train_extensions.best_params:Saving to /afs/inf.ed.ac.uk/user/s08/s0805516/repos/pylearn2/pylearn2/scripts/papers/maxout/mnist_best.pkl done. Time elapsed: 0.265562 seconds\n"
     ]
    },
    {
     "name": "stdout",
     "output_type": "stream",
     "text": [
      "Saving to /afs/inf.ed.ac.uk/user/s08/s0805516/repos/pylearn2/pylearn2/scripts/papers/maxout/mnist_best.pkl done. Time elapsed: 0.265562 seconds\n"
     ]
    },
    {
     "name": "stderr",
     "output_type": "stream",
     "text": [
      "INFO:pylearn2.train:Time this epoch: 36.106271 seconds\n"
     ]
    },
    {
     "name": "stdout",
     "output_type": "stream",
     "text": [
      "Time this epoch: 36.106271 seconds\n"
     ]
    },
    {
     "name": "stderr",
     "output_type": "stream",
     "text": [
      "INFO:pylearn2.monitor:Monitoring step:\n"
     ]
    },
    {
     "name": "stdout",
     "output_type": "stream",
     "text": [
      "Monitoring step:\n"
     ]
    },
    {
     "name": "stderr",
     "output_type": "stream",
     "text": [
      "INFO:pylearn2.monitor:\tEpochs seen: 6\n"
     ]
    },
    {
     "name": "stdout",
     "output_type": "stream",
     "text": [
      "\tEpochs seen: 6\n"
     ]
    },
    {
     "name": "stderr",
     "output_type": "stream",
     "text": [
      "INFO:pylearn2.monitor:\tBatches seen: 2340\n"
     ]
    },
    {
     "name": "stdout",
     "output_type": "stream",
     "text": [
      "\tBatches seen: 2340\n"
     ]
    },
    {
     "name": "stderr",
     "output_type": "stream",
     "text": [
      "INFO:pylearn2.monitor:\tExamples seen: 299520\n"
     ]
    },
    {
     "name": "stdout",
     "output_type": "stream",
     "text": [
      "\tExamples seen: 299520\n"
     ]
    },
    {
     "name": "stderr",
     "output_type": "stream",
     "text": [
      "INFO:pylearn2.monitor:\tlearning_rate: 0.045532438904\n"
     ]
    },
    {
     "name": "stdout",
     "output_type": "stream",
     "text": [
      "\tlearning_rate: 0.045532438904\n"
     ]
    },
    {
     "name": "stderr",
     "output_type": "stream",
     "text": [
      "INFO:pylearn2.monitor:\tmomentum: 0.504015803337\n"
     ]
    },
    {
     "name": "stdout",
     "output_type": "stream",
     "text": [
      "\tmomentum: 0.504015803337\n"
     ]
    },
    {
     "name": "stderr",
     "output_type": "stream",
     "text": [
      "INFO:pylearn2.monitor:\ttotal_seconds_last_epoch: 41.9678344727\n"
     ]
    },
    {
     "name": "stdout",
     "output_type": "stream",
     "text": [
      "\ttotal_seconds_last_epoch: 41.9678344727\n"
     ]
    },
    {
     "name": "stderr",
     "output_type": "stream",
     "text": [
      "INFO:pylearn2.monitor:\ttraining_seconds_this_epoch: 36.1062583923\n"
     ]
    },
    {
     "name": "stdout",
     "output_type": "stream",
     "text": [
      "\ttraining_seconds_this_epoch: 36.1062583923\n"
     ]
    },
    {
     "name": "stderr",
     "output_type": "stream",
     "text": [
      "INFO:pylearn2.monitor:\tvalid_h0_kernel_norms_max: 0.819090723991\n"
     ]
    },
    {
     "name": "stdout",
     "output_type": "stream",
     "text": [
      "\tvalid_h0_kernel_norms_max: 0.819090723991\n"
     ]
    },
    {
     "name": "stderr",
     "output_type": "stream",
     "text": [
      "INFO:pylearn2.monitor:\tvalid_h0_kernel_norms_mean: 0.266360014677\n"
     ]
    },
    {
     "name": "stdout",
     "output_type": "stream",
     "text": [
      "\tvalid_h0_kernel_norms_mean: 0.266360014677\n"
     ]
    },
    {
     "name": "stderr",
     "output_type": "stream",
     "text": [
      "INFO:pylearn2.monitor:\tvalid_h0_kernel_norms_min: 0.0234560873359\n"
     ]
    },
    {
     "name": "stdout",
     "output_type": "stream",
     "text": [
      "\tvalid_h0_kernel_norms_min: 0.0234560873359\n"
     ]
    },
    {
     "name": "stderr",
     "output_type": "stream",
     "text": [
      "INFO:pylearn2.monitor:\tvalid_h0_max_x.max_u: 1.1194986105\n"
     ]
    },
    {
     "name": "stdout",
     "output_type": "stream",
     "text": [
      "\tvalid_h0_max_x.max_u: 1.1194986105\n"
     ]
    },
    {
     "name": "stderr",
     "output_type": "stream",
     "text": [
      "INFO:pylearn2.monitor:\tvalid_h0_max_x.mean_u: 0.794362306595\n"
     ]
    },
    {
     "name": "stdout",
     "output_type": "stream",
     "text": [
      "\tvalid_h0_max_x.mean_u: 0.794362306595\n"
     ]
    },
    {
     "name": "stderr",
     "output_type": "stream",
     "text": [
      "INFO:pylearn2.monitor:\tvalid_h0_max_x.min_u: 0.434105366468\n"
     ]
    },
    {
     "name": "stdout",
     "output_type": "stream",
     "text": [
      "\tvalid_h0_max_x.min_u: 0.434105366468\n"
     ]
    },
    {
     "name": "stderr",
     "output_type": "stream",
     "text": [
      "INFO:pylearn2.monitor:\tvalid_h0_mean_x.max_u: 0.265150278807\n"
     ]
    },
    {
     "name": "stdout",
     "output_type": "stream",
     "text": [
      "\tvalid_h0_mean_x.max_u: 0.265150278807\n"
     ]
    },
    {
     "name": "stderr",
     "output_type": "stream",
     "text": [
      "INFO:pylearn2.monitor:\tvalid_h0_mean_x.mean_u: 0.14097854495\n"
     ]
    },
    {
     "name": "stdout",
     "output_type": "stream",
     "text": [
      "\tvalid_h0_mean_x.mean_u: 0.14097854495\n"
     ]
    },
    {
     "name": "stderr",
     "output_type": "stream",
     "text": [
      "INFO:pylearn2.monitor:\tvalid_h0_mean_x.min_u: 0.0407675877213\n"
     ]
    },
    {
     "name": "stdout",
     "output_type": "stream",
     "text": [
      "\tvalid_h0_mean_x.min_u: 0.0407675877213\n"
     ]
    },
    {
     "name": "stderr",
     "output_type": "stream",
     "text": [
      "INFO:pylearn2.monitor:\tvalid_h0_min_x.max_u: 4.3874631956e-05\n"
     ]
    },
    {
     "name": "stdout",
     "output_type": "stream",
     "text": [
      "\tvalid_h0_min_x.max_u: 4.3874631956e-05\n"
     ]
    },
    {
     "name": "stderr",
     "output_type": "stream",
     "text": [
      "INFO:pylearn2.monitor:\tvalid_h0_min_x.mean_u: -0.331941515207\n"
     ]
    },
    {
     "name": "stdout",
     "output_type": "stream",
     "text": [
      "\tvalid_h0_min_x.mean_u: -0.331941515207\n"
     ]
    },
    {
     "name": "stderr",
     "output_type": "stream",
     "text": [
      "INFO:pylearn2.monitor:\tvalid_h0_min_x.min_u: -1.98202872276\n"
     ]
    },
    {
     "name": "stdout",
     "output_type": "stream",
     "text": [
      "\tvalid_h0_min_x.min_u: -1.98202872276\n"
     ]
    },
    {
     "name": "stderr",
     "output_type": "stream",
     "text": [
      "INFO:pylearn2.monitor:\tvalid_h0_range_x.max_u: 3.09845900536\n"
     ]
    },
    {
     "name": "stdout",
     "output_type": "stream",
     "text": [
      "\tvalid_h0_range_x.max_u: 3.09845900536\n"
     ]
    },
    {
     "name": "stderr",
     "output_type": "stream",
     "text": [
      "INFO:pylearn2.monitor:\tvalid_h0_range_x.mean_u: 1.12630355358\n"
     ]
    },
    {
     "name": "stdout",
     "output_type": "stream",
     "text": [
      "\tvalid_h0_range_x.mean_u: 1.12630355358\n"
     ]
    },
    {
     "name": "stderr",
     "output_type": "stream",
     "text": [
      "INFO:pylearn2.monitor:\tvalid_h0_range_x.min_u: 0.448768764734\n"
     ]
    },
    {
     "name": "stdout",
     "output_type": "stream",
     "text": [
      "\tvalid_h0_range_x.min_u: 0.448768764734\n"
     ]
    },
    {
     "name": "stderr",
     "output_type": "stream",
     "text": [
      "INFO:pylearn2.monitor:\tvalid_h1_kernel_norms_max: 0.910650312901\n"
     ]
    },
    {
     "name": "stdout",
     "output_type": "stream",
     "text": [
      "\tvalid_h1_kernel_norms_max: 0.910650312901\n"
     ]
    },
    {
     "name": "stderr",
     "output_type": "stream",
     "text": [
      "INFO:pylearn2.monitor:\tvalid_h1_kernel_norms_mean: 0.424247533083\n"
     ]
    },
    {
     "name": "stdout",
     "output_type": "stream",
     "text": [
      "\tvalid_h1_kernel_norms_mean: 0.424247533083\n"
     ]
    },
    {
     "name": "stderr",
     "output_type": "stream",
     "text": [
      "INFO:pylearn2.monitor:\tvalid_h1_kernel_norms_min: 0.161410033703\n"
     ]
    },
    {
     "name": "stdout",
     "output_type": "stream",
     "text": [
      "\tvalid_h1_kernel_norms_min: 0.161410033703\n"
     ]
    },
    {
     "name": "stderr",
     "output_type": "stream",
     "text": [
      "INFO:pylearn2.monitor:\tvalid_h1_max_x.max_u: 4.49278879166\n"
     ]
    },
    {
     "name": "stdout",
     "output_type": "stream",
     "text": [
      "\tvalid_h1_max_x.max_u: 4.49278879166\n"
     ]
    },
    {
     "name": "stderr",
     "output_type": "stream",
     "text": [
      "INFO:pylearn2.monitor:\tvalid_h1_max_x.mean_u: 2.39413166046\n"
     ]
    },
    {
     "name": "stdout",
     "output_type": "stream",
     "text": [
      "\tvalid_h1_max_x.mean_u: 2.39413166046\n"
     ]
    },
    {
     "name": "stderr",
     "output_type": "stream",
     "text": [
      "INFO:pylearn2.monitor:\tvalid_h1_max_x.min_u: 1.30733573437\n"
     ]
    },
    {
     "name": "stdout",
     "output_type": "stream",
     "text": [
      "\tvalid_h1_max_x.min_u: 1.30733573437\n"
     ]
    },
    {
     "name": "stderr",
     "output_type": "stream",
     "text": [
      "INFO:pylearn2.monitor:\tvalid_h1_mean_x.max_u: 1.02295434475\n"
     ]
    },
    {
     "name": "stdout",
     "output_type": "stream",
     "text": [
      "\tvalid_h1_mean_x.max_u: 1.02295434475\n"
     ]
    },
    {
     "name": "stderr",
     "output_type": "stream",
     "text": [
      "INFO:pylearn2.monitor:\tvalid_h1_mean_x.mean_u: 0.364295601845\n"
     ]
    },
    {
     "name": "stdout",
     "output_type": "stream",
     "text": [
      "\tvalid_h1_mean_x.mean_u: 0.364295601845\n"
     ]
    },
    {
     "name": "stderr",
     "output_type": "stream",
     "text": [
      "INFO:pylearn2.monitor:\tvalid_h1_mean_x.min_u: 0.0108966771513\n"
     ]
    },
    {
     "name": "stdout",
     "output_type": "stream",
     "text": [
      "\tvalid_h1_mean_x.min_u: 0.0108966771513\n"
     ]
    },
    {
     "name": "stderr",
     "output_type": "stream",
     "text": [
      "INFO:pylearn2.monitor:\tvalid_h1_min_x.max_u: 0.114199914038\n"
     ]
    },
    {
     "name": "stdout",
     "output_type": "stream",
     "text": [
      "\tvalid_h1_min_x.max_u: 0.114199914038\n"
     ]
    },
    {
     "name": "stderr",
     "output_type": "stream",
     "text": [
      "INFO:pylearn2.monitor:\tvalid_h1_min_x.mean_u: -0.703905105591\n"
     ]
    },
    {
     "name": "stdout",
     "output_type": "stream",
     "text": [
      "\tvalid_h1_min_x.mean_u: -0.703905105591\n"
     ]
    },
    {
     "name": "stderr",
     "output_type": "stream",
     "text": [
      "INFO:pylearn2.monitor:\tvalid_h1_min_x.min_u: -1.30138123035\n"
     ]
    },
    {
     "name": "stdout",
     "output_type": "stream",
     "text": [
      "\tvalid_h1_min_x.min_u: -1.30138123035\n"
     ]
    },
    {
     "name": "stderr",
     "output_type": "stream",
     "text": [
      "INFO:pylearn2.monitor:\tvalid_h1_range_x.max_u: 5.39968442917\n"
     ]
    },
    {
     "name": "stdout",
     "output_type": "stream",
     "text": [
      "\tvalid_h1_range_x.max_u: 5.39968442917\n"
     ]
    },
    {
     "name": "stderr",
     "output_type": "stream",
     "text": [
      "INFO:pylearn2.monitor:\tvalid_h1_range_x.mean_u: 3.0980360508\n"
     ]
    },
    {
     "name": "stdout",
     "output_type": "stream",
     "text": [
      "\tvalid_h1_range_x.mean_u: 3.0980360508\n"
     ]
    },
    {
     "name": "stderr",
     "output_type": "stream",
     "text": [
      "INFO:pylearn2.monitor:\tvalid_h1_range_x.min_u: 1.50967144966\n"
     ]
    },
    {
     "name": "stdout",
     "output_type": "stream",
     "text": [
      "\tvalid_h1_range_x.min_u: 1.50967144966\n"
     ]
    },
    {
     "name": "stderr",
     "output_type": "stream",
     "text": [
      "INFO:pylearn2.monitor:\tvalid_h2_kernel_norms_max: 0.832981228828\n"
     ]
    },
    {
     "name": "stdout",
     "output_type": "stream",
     "text": [
      "\tvalid_h2_kernel_norms_max: 0.832981228828\n"
     ]
    },
    {
     "name": "stderr",
     "output_type": "stream",
     "text": [
      "INFO:pylearn2.monitor:\tvalid_h2_kernel_norms_mean: 0.346081286669\n"
     ]
    },
    {
     "name": "stdout",
     "output_type": "stream",
     "text": [
      "\tvalid_h2_kernel_norms_mean: 0.346081286669\n"
     ]
    },
    {
     "name": "stderr",
     "output_type": "stream",
     "text": [
      "INFO:pylearn2.monitor:\tvalid_h2_kernel_norms_min: 0.108712531626\n"
     ]
    },
    {
     "name": "stdout",
     "output_type": "stream",
     "text": [
      "\tvalid_h2_kernel_norms_min: 0.108712531626\n"
     ]
    },
    {
     "name": "stderr",
     "output_type": "stream",
     "text": [
      "INFO:pylearn2.monitor:\tvalid_h2_max_x.max_u: 6.00907659531\n"
     ]
    },
    {
     "name": "stdout",
     "output_type": "stream",
     "text": [
      "\tvalid_h2_max_x.max_u: 6.00907659531\n"
     ]
    },
    {
     "name": "stderr",
     "output_type": "stream",
     "text": [
      "INFO:pylearn2.monitor:\tvalid_h2_max_x.mean_u: 4.25149965286\n"
     ]
    },
    {
     "name": "stdout",
     "output_type": "stream",
     "text": [
      "\tvalid_h2_max_x.mean_u: 4.25149965286\n"
     ]
    },
    {
     "name": "stderr",
     "output_type": "stream",
     "text": [
      "INFO:pylearn2.monitor:\tvalid_h2_max_x.min_u: 3.05563521385\n"
     ]
    },
    {
     "name": "stdout",
     "output_type": "stream",
     "text": [
      "\tvalid_h2_max_x.min_u: 3.05563521385\n"
     ]
    },
    {
     "name": "stderr",
     "output_type": "stream",
     "text": [
      "INFO:pylearn2.monitor:\tvalid_h2_mean_x.max_u: 0.568969786167\n"
     ]
    },
    {
     "name": "stdout",
     "output_type": "stream",
     "text": [
      "\tvalid_h2_mean_x.max_u: 0.568969786167\n"
     ]
    },
    {
     "name": "stderr",
     "output_type": "stream",
     "text": [
      "INFO:pylearn2.monitor:\tvalid_h2_mean_x.mean_u: 0.243508979678\n"
     ]
    },
    {
     "name": "stdout",
     "output_type": "stream",
     "text": [
      "\tvalid_h2_mean_x.mean_u: 0.243508979678\n"
     ]
    },
    {
     "name": "stderr",
     "output_type": "stream",
     "text": [
      "INFO:pylearn2.monitor:\tvalid_h2_mean_x.min_u: -0.098829433322\n"
     ]
    },
    {
     "name": "stdout",
     "output_type": "stream",
     "text": [
      "\tvalid_h2_mean_x.min_u: -0.098829433322\n"
     ]
    },
    {
     "name": "stderr",
     "output_type": "stream",
     "text": [
      "INFO:pylearn2.monitor:\tvalid_h2_min_x.max_u: -0.489753186703\n"
     ]
    },
    {
     "name": "stdout",
     "output_type": "stream",
     "text": [
      "\tvalid_h2_min_x.max_u: -0.489753186703\n"
     ]
    },
    {
     "name": "stderr",
     "output_type": "stream",
     "text": [
      "INFO:pylearn2.monitor:\tvalid_h2_min_x.mean_u: -2.11399626732\n"
     ]
    },
    {
     "name": "stdout",
     "output_type": "stream",
     "text": [
      "\tvalid_h2_min_x.mean_u: -2.11399626732\n"
     ]
    },
    {
     "name": "stderr",
     "output_type": "stream",
     "text": [
      "INFO:pylearn2.monitor:\tvalid_h2_min_x.min_u: -3.14183878899\n"
     ]
    },
    {
     "name": "stdout",
     "output_type": "stream",
     "text": [
      "\tvalid_h2_min_x.min_u: -3.14183878899\n"
     ]
    },
    {
     "name": "stderr",
     "output_type": "stream",
     "text": [
      "INFO:pylearn2.monitor:\tvalid_h2_range_x.max_u: 8.44336986542\n"
     ]
    },
    {
     "name": "stdout",
     "output_type": "stream",
     "text": [
      "\tvalid_h2_range_x.max_u: 8.44336986542\n"
     ]
    },
    {
     "name": "stderr",
     "output_type": "stream",
     "text": [
      "INFO:pylearn2.monitor:\tvalid_h2_range_x.mean_u: 6.36549568176\n"
     ]
    },
    {
     "name": "stdout",
     "output_type": "stream",
     "text": [
      "\tvalid_h2_range_x.mean_u: 6.36549568176\n"
     ]
    },
    {
     "name": "stderr",
     "output_type": "stream",
     "text": [
      "INFO:pylearn2.monitor:\tvalid_h2_range_x.min_u: 3.82472348213\n"
     ]
    },
    {
     "name": "stdout",
     "output_type": "stream",
     "text": [
      "\tvalid_h2_range_x.min_u: 3.82472348213\n"
     ]
    },
    {
     "name": "stderr",
     "output_type": "stream",
     "text": [
      "INFO:pylearn2.monitor:\tvalid_objective: 0.107189886272\n"
     ]
    },
    {
     "name": "stdout",
     "output_type": "stream",
     "text": [
      "\tvalid_objective: 0.107189886272\n"
     ]
    },
    {
     "name": "stderr",
     "output_type": "stream",
     "text": [
      "INFO:pylearn2.monitor:\tvalid_y_col_norms_max: 1.30210864544\n"
     ]
    },
    {
     "name": "stdout",
     "output_type": "stream",
     "text": [
      "\tvalid_y_col_norms_max: 1.30210864544\n"
     ]
    },
    {
     "name": "stderr",
     "output_type": "stream",
     "text": [
      "INFO:pylearn2.monitor:\tvalid_y_col_norms_mean: 1.16264927387\n"
     ]
    },
    {
     "name": "stdout",
     "output_type": "stream",
     "text": [
      "\tvalid_y_col_norms_mean: 1.16264927387\n"
     ]
    },
    {
     "name": "stderr",
     "output_type": "stream",
     "text": [
      "INFO:pylearn2.monitor:\tvalid_y_col_norms_min: 1.06924128532\n"
     ]
    },
    {
     "name": "stdout",
     "output_type": "stream",
     "text": [
      "\tvalid_y_col_norms_min: 1.06924128532\n"
     ]
    },
    {
     "name": "stderr",
     "output_type": "stream",
     "text": [
      "INFO:pylearn2.monitor:\tvalid_y_max_max_class: 0.999998986721\n"
     ]
    },
    {
     "name": "stdout",
     "output_type": "stream",
     "text": [
      "\tvalid_y_max_max_class: 0.999998986721\n"
     ]
    },
    {
     "name": "stderr",
     "output_type": "stream",
     "text": [
      "INFO:pylearn2.monitor:\tvalid_y_mean_max_class: 0.984750509262\n"
     ]
    },
    {
     "name": "stdout",
     "output_type": "stream",
     "text": [
      "\tvalid_y_mean_max_class: 0.984750509262\n"
     ]
    },
    {
     "name": "stderr",
     "output_type": "stream",
     "text": [
      "INFO:pylearn2.monitor:\tvalid_y_min_max_class: 0.560395240784\n"
     ]
    },
    {
     "name": "stdout",
     "output_type": "stream",
     "text": [
      "\tvalid_y_min_max_class: 0.560395240784\n"
     ]
    },
    {
     "name": "stderr",
     "output_type": "stream",
     "text": [
      "INFO:pylearn2.monitor:\tvalid_y_misclass: 0.0183293297887\n"
     ]
    },
    {
     "name": "stdout",
     "output_type": "stream",
     "text": [
      "\tvalid_y_misclass: 0.0183293297887\n"
     ]
    },
    {
     "name": "stderr",
     "output_type": "stream",
     "text": [
      "INFO:pylearn2.monitor:\tvalid_y_nll: 0.0652837082744\n"
     ]
    },
    {
     "name": "stdout",
     "output_type": "stream",
     "text": [
      "\tvalid_y_nll: 0.0652837082744\n"
     ]
    },
    {
     "name": "stderr",
     "output_type": "stream",
     "text": [
      "INFO:pylearn2.monitor:\tvalid_y_row_norms_max: 0.395480304956\n"
     ]
    },
    {
     "name": "stdout",
     "output_type": "stream",
     "text": [
      "\tvalid_y_row_norms_max: 0.395480304956\n"
     ]
    },
    {
     "name": "stderr",
     "output_type": "stream",
     "text": [
      "INFO:pylearn2.monitor:\tvalid_y_row_norms_mean: 0.239963307977\n"
     ]
    },
    {
     "name": "stdout",
     "output_type": "stream",
     "text": [
      "\tvalid_y_row_norms_mean: 0.239963307977\n"
     ]
    },
    {
     "name": "stderr",
     "output_type": "stream",
     "text": [
      "INFO:pylearn2.monitor:\tvalid_y_row_norms_min: 0.0457712672651\n"
     ]
    },
    {
     "name": "stdout",
     "output_type": "stream",
     "text": [
      "\tvalid_y_row_norms_min: 0.0457712672651\n"
     ]
    },
    {
     "name": "stderr",
     "output_type": "stream",
     "text": [
      "INFO:pylearn2.train_extensions.best_params:Saving to /afs/inf.ed.ac.uk/user/s08/s0805516/repos/pylearn2/pylearn2/scripts/papers/maxout/mnist_best.pkl...\n"
     ]
    },
    {
     "name": "stdout",
     "output_type": "stream",
     "text": [
      "Saving to /afs/inf.ed.ac.uk/user/s08/s0805516/repos/pylearn2/pylearn2/scripts/papers/maxout/mnist_best.pkl...\n"
     ]
    },
    {
     "name": "stderr",
     "output_type": "stream",
     "text": [
      "INFO:pylearn2.train_extensions.best_params:Saving to /afs/inf.ed.ac.uk/user/s08/s0805516/repos/pylearn2/pylearn2/scripts/papers/maxout/mnist_best.pkl done. Time elapsed: 0.265917 seconds\n"
     ]
    },
    {
     "name": "stdout",
     "output_type": "stream",
     "text": [
      "Saving to /afs/inf.ed.ac.uk/user/s08/s0805516/repos/pylearn2/pylearn2/scripts/papers/maxout/mnist_best.pkl done. Time elapsed: 0.265917 seconds\n"
     ]
    },
    {
     "name": "stderr",
     "output_type": "stream",
     "text": [
      "INFO:pylearn2.train:Time this epoch: 36.090845 seconds\n"
     ]
    },
    {
     "name": "stdout",
     "output_type": "stream",
     "text": [
      "Time this epoch: 36.090845 seconds\n"
     ]
    },
    {
     "name": "stderr",
     "output_type": "stream",
     "text": [
      "INFO:pylearn2.monitor:Monitoring step:\n"
     ]
    },
    {
     "name": "stdout",
     "output_type": "stream",
     "text": [
      "Monitoring step:\n"
     ]
    },
    {
     "name": "stderr",
     "output_type": "stream",
     "text": [
      "INFO:pylearn2.monitor:\tEpochs seen: 7\n"
     ]
    },
    {
     "name": "stdout",
     "output_type": "stream",
     "text": [
      "\tEpochs seen: 7\n"
     ]
    },
    {
     "name": "stderr",
     "output_type": "stream",
     "text": [
      "INFO:pylearn2.monitor:\tBatches seen: 2730\n"
     ]
    },
    {
     "name": "stdout",
     "output_type": "stream",
     "text": [
      "\tBatches seen: 2730\n"
     ]
    },
    {
     "name": "stderr",
     "output_type": "stream",
     "text": [
      "INFO:pylearn2.monitor:\tExamples seen: 349440\n"
     ]
    },
    {
     "name": "stdout",
     "output_type": "stream",
     "text": [
      "\tExamples seen: 349440\n"
     ]
    },
    {
     "name": "stderr",
     "output_type": "stream",
     "text": [
      "INFO:pylearn2.monitor:\tlearning_rate: 0.0448276139796\n"
     ]
    },
    {
     "name": "stdout",
     "output_type": "stream",
     "text": [
      "\tlearning_rate: 0.0448276139796\n"
     ]
    },
    {
     "name": "stderr",
     "output_type": "stream",
     "text": [
      "INFO:pylearn2.monitor:\tmomentum: 0.504819512367\n"
     ]
    },
    {
     "name": "stdout",
     "output_type": "stream",
     "text": [
      "\tmomentum: 0.504819512367\n"
     ]
    },
    {
     "name": "stderr",
     "output_type": "stream",
     "text": [
      "INFO:pylearn2.monitor:\ttotal_seconds_last_epoch: 41.9819221497\n"
     ]
    },
    {
     "name": "stdout",
     "output_type": "stream",
     "text": [
      "\ttotal_seconds_last_epoch: 41.9819221497\n"
     ]
    },
    {
     "name": "stderr",
     "output_type": "stream",
     "text": [
      "INFO:pylearn2.monitor:\ttraining_seconds_this_epoch: 36.0908622742\n"
     ]
    },
    {
     "name": "stdout",
     "output_type": "stream",
     "text": [
      "\ttraining_seconds_this_epoch: 36.0908622742\n"
     ]
    },
    {
     "name": "stderr",
     "output_type": "stream",
     "text": [
      "INFO:pylearn2.monitor:\tvalid_h0_kernel_norms_max: 0.812064886093\n"
     ]
    },
    {
     "name": "stdout",
     "output_type": "stream",
     "text": [
      "\tvalid_h0_kernel_norms_max: 0.812064886093\n"
     ]
    },
    {
     "name": "stderr",
     "output_type": "stream",
     "text": [
      "INFO:pylearn2.monitor:\tvalid_h0_kernel_norms_mean: 0.288997918367\n"
     ]
    },
    {
     "name": "stdout",
     "output_type": "stream",
     "text": [
      "\tvalid_h0_kernel_norms_mean: 0.288997918367\n"
     ]
    },
    {
     "name": "stderr",
     "output_type": "stream",
     "text": [
      "INFO:pylearn2.monitor:\tvalid_h0_kernel_norms_min: 0.0236668493599\n"
     ]
    },
    {
     "name": "stdout",
     "output_type": "stream",
     "text": [
      "\tvalid_h0_kernel_norms_min: 0.0236668493599\n"
     ]
    },
    {
     "name": "stderr",
     "output_type": "stream",
     "text": [
      "INFO:pylearn2.monitor:\tvalid_h0_max_x.max_u: 1.14284479618\n"
     ]
    },
    {
     "name": "stdout",
     "output_type": "stream",
     "text": [
      "\tvalid_h0_max_x.max_u: 1.14284479618\n"
     ]
    },
    {
     "name": "stderr",
     "output_type": "stream",
     "text": [
      "INFO:pylearn2.monitor:\tvalid_h0_max_x.mean_u: 0.799123704433\n"
     ]
    },
    {
     "name": "stdout",
     "output_type": "stream",
     "text": [
      "\tvalid_h0_max_x.mean_u: 0.799123704433\n"
     ]
    },
    {
     "name": "stderr",
     "output_type": "stream",
     "text": [
      "INFO:pylearn2.monitor:\tvalid_h0_max_x.min_u: 0.373483389616\n"
     ]
    },
    {
     "name": "stdout",
     "output_type": "stream",
     "text": [
      "\tvalid_h0_max_x.min_u: 0.373483389616\n"
     ]
    },
    {
     "name": "stderr",
     "output_type": "stream",
     "text": [
      "INFO:pylearn2.monitor:\tvalid_h0_mean_x.max_u: 0.261414080858\n"
     ]
    },
    {
     "name": "stdout",
     "output_type": "stream",
     "text": [
      "\tvalid_h0_mean_x.max_u: 0.261414080858\n"
     ]
    },
    {
     "name": "stderr",
     "output_type": "stream",
     "text": [
      "INFO:pylearn2.monitor:\tvalid_h0_mean_x.mean_u: 0.130941092968\n"
     ]
    },
    {
     "name": "stdout",
     "output_type": "stream",
     "text": [
      "\tvalid_h0_mean_x.mean_u: 0.130941092968\n"
     ]
    },
    {
     "name": "stderr",
     "output_type": "stream",
     "text": [
      "INFO:pylearn2.monitor:\tvalid_h0_mean_x.min_u: 0.0481543503702\n"
     ]
    },
    {
     "name": "stdout",
     "output_type": "stream",
     "text": [
      "\tvalid_h0_mean_x.min_u: 0.0481543503702\n"
     ]
    },
    {
     "name": "stderr",
     "output_type": "stream",
     "text": [
      "INFO:pylearn2.monitor:\tvalid_h0_min_x.max_u: -0.022609917447\n"
     ]
    },
    {
     "name": "stdout",
     "output_type": "stream",
     "text": [
      "\tvalid_h0_min_x.max_u: -0.022609917447\n"
     ]
    },
    {
     "name": "stderr",
     "output_type": "stream",
     "text": [
      "INFO:pylearn2.monitor:\tvalid_h0_min_x.mean_u: -0.366401493549\n"
     ]
    },
    {
     "name": "stdout",
     "output_type": "stream",
     "text": [
      "\tvalid_h0_min_x.mean_u: -0.366401493549\n"
     ]
    },
    {
     "name": "stderr",
     "output_type": "stream",
     "text": [
      "INFO:pylearn2.monitor:\tvalid_h0_min_x.min_u: -1.93226706982\n"
     ]
    },
    {
     "name": "stdout",
     "output_type": "stream",
     "text": [
      "\tvalid_h0_min_x.min_u: -1.93226706982\n"
     ]
    },
    {
     "name": "stderr",
     "output_type": "stream",
     "text": [
      "INFO:pylearn2.monitor:\tvalid_h0_range_x.max_u: 2.95308661461\n"
     ]
    },
    {
     "name": "stdout",
     "output_type": "stream",
     "text": [
      "\tvalid_h0_range_x.max_u: 2.95308661461\n"
     ]
    },
    {
     "name": "stderr",
     "output_type": "stream",
     "text": [
      "INFO:pylearn2.monitor:\tvalid_h0_range_x.mean_u: 1.16552519798\n"
     ]
    },
    {
     "name": "stdout",
     "output_type": "stream",
     "text": [
      "\tvalid_h0_range_x.mean_u: 1.16552519798\n"
     ]
    },
    {
     "name": "stderr",
     "output_type": "stream",
     "text": [
      "INFO:pylearn2.monitor:\tvalid_h0_range_x.min_u: 0.400785803795\n"
     ]
    },
    {
     "name": "stdout",
     "output_type": "stream",
     "text": [
      "\tvalid_h0_range_x.min_u: 0.400785803795\n"
     ]
    },
    {
     "name": "stderr",
     "output_type": "stream",
     "text": [
      "INFO:pylearn2.monitor:\tvalid_h1_kernel_norms_max: 0.974981665611\n"
     ]
    },
    {
     "name": "stdout",
     "output_type": "stream",
     "text": [
      "\tvalid_h1_kernel_norms_max: 0.974981665611\n"
     ]
    },
    {
     "name": "stderr",
     "output_type": "stream",
     "text": [
      "INFO:pylearn2.monitor:\tvalid_h1_kernel_norms_mean: 0.46086961031\n"
     ]
    },
    {
     "name": "stdout",
     "output_type": "stream",
     "text": [
      "\tvalid_h1_kernel_norms_mean: 0.46086961031\n"
     ]
    },
    {
     "name": "stderr",
     "output_type": "stream",
     "text": [
      "INFO:pylearn2.monitor:\tvalid_h1_kernel_norms_min: 0.161946594715\n"
     ]
    },
    {
     "name": "stdout",
     "output_type": "stream",
     "text": [
      "\tvalid_h1_kernel_norms_min: 0.161946594715\n"
     ]
    },
    {
     "name": "stderr",
     "output_type": "stream",
     "text": [
      "INFO:pylearn2.monitor:\tvalid_h1_max_x.max_u: 3.85647296906\n"
     ]
    },
    {
     "name": "stdout",
     "output_type": "stream",
     "text": [
      "\tvalid_h1_max_x.max_u: 3.85647296906\n"
     ]
    },
    {
     "name": "stderr",
     "output_type": "stream",
     "text": [
      "INFO:pylearn2.monitor:\tvalid_h1_max_x.mean_u: 2.2985663414\n"
     ]
    },
    {
     "name": "stdout",
     "output_type": "stream",
     "text": [
      "\tvalid_h1_max_x.mean_u: 2.2985663414\n"
     ]
    },
    {
     "name": "stderr",
     "output_type": "stream",
     "text": [
      "INFO:pylearn2.monitor:\tvalid_h1_max_x.min_u: 1.48609316349\n"
     ]
    },
    {
     "name": "stdout",
     "output_type": "stream",
     "text": [
      "\tvalid_h1_max_x.min_u: 1.48609316349\n"
     ]
    },
    {
     "name": "stderr",
     "output_type": "stream",
     "text": [
      "INFO:pylearn2.monitor:\tvalid_h1_mean_x.max_u: 0.707763493061\n"
     ]
    },
    {
     "name": "stdout",
     "output_type": "stream",
     "text": [
      "\tvalid_h1_mean_x.max_u: 0.707763493061\n"
     ]
    },
    {
     "name": "stderr",
     "output_type": "stream",
     "text": [
      "INFO:pylearn2.monitor:\tvalid_h1_mean_x.mean_u: 0.307959198952\n"
     ]
    },
    {
     "name": "stdout",
     "output_type": "stream",
     "text": [
      "\tvalid_h1_mean_x.mean_u: 0.307959198952\n"
     ]
    },
    {
     "name": "stderr",
     "output_type": "stream",
     "text": [
      "INFO:pylearn2.monitor:\tvalid_h1_mean_x.min_u: -0.0097123477608\n"
     ]
    },
    {
     "name": "stdout",
     "output_type": "stream",
     "text": [
      "\tvalid_h1_mean_x.min_u: -0.0097123477608\n"
     ]
    },
    {
     "name": "stderr",
     "output_type": "stream",
     "text": [
      "INFO:pylearn2.monitor:\tvalid_h1_min_x.max_u: 0.0593514814973\n"
     ]
    },
    {
     "name": "stdout",
     "output_type": "stream",
     "text": [
      "\tvalid_h1_min_x.max_u: 0.0593514814973\n"
     ]
    },
    {
     "name": "stderr",
     "output_type": "stream",
     "text": [
      "INFO:pylearn2.monitor:\tvalid_h1_min_x.mean_u: -0.714572250843\n"
     ]
    },
    {
     "name": "stdout",
     "output_type": "stream",
     "text": [
      "\tvalid_h1_min_x.mean_u: -0.714572250843\n"
     ]
    },
    {
     "name": "stderr",
     "output_type": "stream",
     "text": [
      "INFO:pylearn2.monitor:\tvalid_h1_min_x.min_u: -1.43437886238\n"
     ]
    },
    {
     "name": "stdout",
     "output_type": "stream",
     "text": [
      "\tvalid_h1_min_x.min_u: -1.43437886238\n"
     ]
    },
    {
     "name": "stderr",
     "output_type": "stream",
     "text": [
      "INFO:pylearn2.monitor:\tvalid_h1_range_x.max_u: 4.87294960022\n"
     ]
    },
    {
     "name": "stdout",
     "output_type": "stream",
     "text": [
      "\tvalid_h1_range_x.max_u: 4.87294960022\n"
     ]
    },
    {
     "name": "stderr",
     "output_type": "stream",
     "text": [
      "INFO:pylearn2.monitor:\tvalid_h1_range_x.mean_u: 3.0131380558\n"
     ]
    },
    {
     "name": "stdout",
     "output_type": "stream",
     "text": [
      "\tvalid_h1_range_x.mean_u: 3.0131380558\n"
     ]
    },
    {
     "name": "stderr",
     "output_type": "stream",
     "text": [
      "INFO:pylearn2.monitor:\tvalid_h1_range_x.min_u: 1.6042984724\n"
     ]
    },
    {
     "name": "stdout",
     "output_type": "stream",
     "text": [
      "\tvalid_h1_range_x.min_u: 1.6042984724\n"
     ]
    },
    {
     "name": "stderr",
     "output_type": "stream",
     "text": [
      "INFO:pylearn2.monitor:\tvalid_h2_kernel_norms_max: 0.880443394184\n"
     ]
    },
    {
     "name": "stdout",
     "output_type": "stream",
     "text": [
      "\tvalid_h2_kernel_norms_max: 0.880443394184\n"
     ]
    },
    {
     "name": "stderr",
     "output_type": "stream",
     "text": [
      "INFO:pylearn2.monitor:\tvalid_h2_kernel_norms_mean: 0.369259923697\n"
     ]
    },
    {
     "name": "stdout",
     "output_type": "stream",
     "text": [
      "\tvalid_h2_kernel_norms_mean: 0.369259923697\n"
     ]
    },
    {
     "name": "stderr",
     "output_type": "stream",
     "text": [
      "INFO:pylearn2.monitor:\tvalid_h2_kernel_norms_min: 0.117143787444\n"
     ]
    },
    {
     "name": "stdout",
     "output_type": "stream",
     "text": [
      "\tvalid_h2_kernel_norms_min: 0.117143787444\n"
     ]
    },
    {
     "name": "stderr",
     "output_type": "stream",
     "text": [
      "INFO:pylearn2.monitor:\tvalid_h2_max_x.max_u: 5.74927282333\n"
     ]
    },
    {
     "name": "stdout",
     "output_type": "stream",
     "text": [
      "\tvalid_h2_max_x.max_u: 5.74927282333\n"
     ]
    },
    {
     "name": "stderr",
     "output_type": "stream",
     "text": [
      "INFO:pylearn2.monitor:\tvalid_h2_max_x.mean_u: 4.23042631149\n"
     ]
    },
    {
     "name": "stdout",
     "output_type": "stream",
     "text": [
      "\tvalid_h2_max_x.mean_u: 4.23042631149\n"
     ]
    },
    {
     "name": "stderr",
     "output_type": "stream",
     "text": [
      "INFO:pylearn2.monitor:\tvalid_h2_max_x.min_u: 2.90393185616\n"
     ]
    },
    {
     "name": "stdout",
     "output_type": "stream",
     "text": [
      "\tvalid_h2_max_x.min_u: 2.90393185616\n"
     ]
    },
    {
     "name": "stderr",
     "output_type": "stream",
     "text": [
      "INFO:pylearn2.monitor:\tvalid_h2_mean_x.max_u: 0.6088976264\n"
     ]
    },
    {
     "name": "stdout",
     "output_type": "stream",
     "text": [
      "\tvalid_h2_mean_x.max_u: 0.6088976264\n"
     ]
    },
    {
     "name": "stderr",
     "output_type": "stream",
     "text": [
      "INFO:pylearn2.monitor:\tvalid_h2_mean_x.mean_u: 0.326521039009\n"
     ]
    },
    {
     "name": "stdout",
     "output_type": "stream",
     "text": [
      "\tvalid_h2_mean_x.mean_u: 0.326521039009\n"
     ]
    },
    {
     "name": "stderr",
     "output_type": "stream",
     "text": [
      "INFO:pylearn2.monitor:\tvalid_h2_mean_x.min_u: 0.00657832156867\n"
     ]
    },
    {
     "name": "stdout",
     "output_type": "stream",
     "text": [
      "\tvalid_h2_mean_x.min_u: 0.00657832156867\n"
     ]
    },
    {
     "name": "stderr",
     "output_type": "stream",
     "text": [
      "INFO:pylearn2.monitor:\tvalid_h2_min_x.max_u: -0.592217028141\n"
     ]
    },
    {
     "name": "stdout",
     "output_type": "stream",
     "text": [
      "\tvalid_h2_min_x.max_u: -0.592217028141\n"
     ]
    },
    {
     "name": "stderr",
     "output_type": "stream",
     "text": [
      "INFO:pylearn2.monitor:\tvalid_h2_min_x.mean_u: -1.85787940025\n"
     ]
    },
    {
     "name": "stdout",
     "output_type": "stream",
     "text": [
      "\tvalid_h2_min_x.mean_u: -1.85787940025\n"
     ]
    },
    {
     "name": "stderr",
     "output_type": "stream",
     "text": [
      "INFO:pylearn2.monitor:\tvalid_h2_min_x.min_u: -2.84205007553\n"
     ]
    },
    {
     "name": "stdout",
     "output_type": "stream",
     "text": [
      "\tvalid_h2_min_x.min_u: -2.84205007553\n"
     ]
    },
    {
     "name": "stderr",
     "output_type": "stream",
     "text": [
      "INFO:pylearn2.monitor:\tvalid_h2_range_x.max_u: 7.75442886353\n"
     ]
    },
    {
     "name": "stdout",
     "output_type": "stream",
     "text": [
      "\tvalid_h2_range_x.max_u: 7.75442886353\n"
     ]
    },
    {
     "name": "stderr",
     "output_type": "stream",
     "text": [
      "INFO:pylearn2.monitor:\tvalid_h2_range_x.mean_u: 6.08830785751\n"
     ]
    },
    {
     "name": "stdout",
     "output_type": "stream",
     "text": [
      "\tvalid_h2_range_x.mean_u: 6.08830785751\n"
     ]
    },
    {
     "name": "stderr",
     "output_type": "stream",
     "text": [
      "INFO:pylearn2.monitor:\tvalid_h2_range_x.min_u: 3.55484294891\n"
     ]
    },
    {
     "name": "stdout",
     "output_type": "stream",
     "text": [
      "\tvalid_h2_range_x.min_u: 3.55484294891\n"
     ]
    },
    {
     "name": "stderr",
     "output_type": "stream",
     "text": [
      "INFO:pylearn2.monitor:\tvalid_objective: 0.0918980836868\n"
     ]
    },
    {
     "name": "stdout",
     "output_type": "stream",
     "text": [
      "\tvalid_objective: 0.0918980836868\n"
     ]
    },
    {
     "name": "stderr",
     "output_type": "stream",
     "text": [
      "INFO:pylearn2.monitor:\tvalid_y_col_norms_max: 1.34723103046\n"
     ]
    },
    {
     "name": "stdout",
     "output_type": "stream",
     "text": [
      "\tvalid_y_col_norms_max: 1.34723103046\n"
     ]
    },
    {
     "name": "stderr",
     "output_type": "stream",
     "text": [
      "INFO:pylearn2.monitor:\tvalid_y_col_norms_mean: 1.22044801712\n"
     ]
    },
    {
     "name": "stdout",
     "output_type": "stream",
     "text": [
      "\tvalid_y_col_norms_mean: 1.22044801712\n"
     ]
    },
    {
     "name": "stderr",
     "output_type": "stream",
     "text": [
      "INFO:pylearn2.monitor:\tvalid_y_col_norms_min: 1.13524496555\n"
     ]
    },
    {
     "name": "stdout",
     "output_type": "stream",
     "text": [
      "\tvalid_y_col_norms_min: 1.13524496555\n"
     ]
    },
    {
     "name": "stderr",
     "output_type": "stream",
     "text": [
      "INFO:pylearn2.monitor:\tvalid_y_max_max_class: 1.0\n"
     ]
    },
    {
     "name": "stdout",
     "output_type": "stream",
     "text": [
      "\tvalid_y_max_max_class: 1.0\n"
     ]
    },
    {
     "name": "stderr",
     "output_type": "stream",
     "text": [
      "INFO:pylearn2.monitor:\tvalid_y_mean_max_class: 0.987926542759\n"
     ]
    },
    {
     "name": "stdout",
     "output_type": "stream",
     "text": [
      "\tvalid_y_mean_max_class: 0.987926542759\n"
     ]
    },
    {
     "name": "stderr",
     "output_type": "stream",
     "text": [
      "INFO:pylearn2.monitor:\tvalid_y_min_max_class: 0.578431546688\n"
     ]
    },
    {
     "name": "stdout",
     "output_type": "stream",
     "text": [
      "\tvalid_y_min_max_class: 0.578431546688\n"
     ]
    },
    {
     "name": "stderr",
     "output_type": "stream",
     "text": [
      "INFO:pylearn2.monitor:\tvalid_y_misclass: 0.0155248455703\n"
     ]
    },
    {
     "name": "stdout",
     "output_type": "stream",
     "text": [
      "\tvalid_y_misclass: 0.0155248455703\n"
     ]
    },
    {
     "name": "stderr",
     "output_type": "stream",
     "text": [
      "INFO:pylearn2.monitor:\tvalid_y_nll: 0.0513485185802\n"
     ]
    },
    {
     "name": "stdout",
     "output_type": "stream",
     "text": [
      "\tvalid_y_nll: 0.0513485185802\n"
     ]
    },
    {
     "name": "stderr",
     "output_type": "stream",
     "text": [
      "INFO:pylearn2.monitor:\tvalid_y_row_norms_max: 0.413898706436\n"
     ]
    },
    {
     "name": "stdout",
     "output_type": "stream",
     "text": [
      "\tvalid_y_row_norms_max: 0.413898706436\n"
     ]
    },
    {
     "name": "stderr",
     "output_type": "stream",
     "text": [
      "INFO:pylearn2.monitor:\tvalid_y_row_norms_mean: 0.252843290567\n"
     ]
    },
    {
     "name": "stdout",
     "output_type": "stream",
     "text": [
      "\tvalid_y_row_norms_mean: 0.252843290567\n"
     ]
    },
    {
     "name": "stderr",
     "output_type": "stream",
     "text": [
      "INFO:pylearn2.monitor:\tvalid_y_row_norms_min: 0.0549342893064\n"
     ]
    },
    {
     "name": "stdout",
     "output_type": "stream",
     "text": [
      "\tvalid_y_row_norms_min: 0.0549342893064\n"
     ]
    },
    {
     "name": "stderr",
     "output_type": "stream",
     "text": [
      "INFO:pylearn2.train_extensions.best_params:Saving to /afs/inf.ed.ac.uk/user/s08/s0805516/repos/pylearn2/pylearn2/scripts/papers/maxout/mnist_best.pkl...\n"
     ]
    },
    {
     "name": "stdout",
     "output_type": "stream",
     "text": [
      "Saving to /afs/inf.ed.ac.uk/user/s08/s0805516/repos/pylearn2/pylearn2/scripts/papers/maxout/mnist_best.pkl...\n"
     ]
    },
    {
     "name": "stderr",
     "output_type": "stream",
     "text": [
      "INFO:pylearn2.train_extensions.best_params:Saving to /afs/inf.ed.ac.uk/user/s08/s0805516/repos/pylearn2/pylearn2/scripts/papers/maxout/mnist_best.pkl done. Time elapsed: 0.267191 seconds\n"
     ]
    },
    {
     "name": "stdout",
     "output_type": "stream",
     "text": [
      "Saving to /afs/inf.ed.ac.uk/user/s08/s0805516/repos/pylearn2/pylearn2/scripts/papers/maxout/mnist_best.pkl done. Time elapsed: 0.267191 seconds\n"
     ]
    },
    {
     "name": "stderr",
     "output_type": "stream",
     "text": [
      "WARNING:pylearn2.train:Time budget exceeded (632.513/600 seconds).\n",
      "WARNING (pylearn2.train): Time budget exceeded (632.513/600 seconds).\n"
     ]
    }
   ],
   "source": [
    "%run /afs/inf.ed.ac.uk/user/s08/s0805516/repos/pylearn2/pylearn2/scripts/train.py --time-budget 600 ~/repos/pylearn2/pylearn2/scripts/papers/maxout/mnist.yaml"
   ]
  },
  {
   "cell_type": "code",
   "execution_count": 45,
   "metadata": {
    "collapsed": false
   },
   "outputs": [
    {
     "name": "stdout",
     "output_type": "stream",
     "text": [
      "5.4M\t/afs/inf.ed.ac.uk/user/s08/s0805516/repos/pylearn2/pylearn2/scripts/papers/maxout/mnist_best.pkl\r\n"
     ]
    }
   ],
   "source": [
    "!du -h /afs/inf.ed.ac.uk/user/s08/s0805516/repos/pylearn2/pylearn2/scripts/papers/maxout/mnist_best.pkl"
   ]
  },
  {
   "cell_type": "code",
   "execution_count": 46,
   "metadata": {
    "collapsed": true
   },
   "outputs": [],
   "source": [
    "!rm /afs/inf.ed.ac.uk/user/s08/s0805516/repos/pylearn2/pylearn2/scripts/papers/maxout/mnist_best.pkl"
   ]
  },
  {
   "cell_type": "markdown",
   "metadata": {},
   "source": [
    "Compiling the theano functions used to run the network will take a long time for this example. This is because the number of theano variables and ops used to specify the computation is relatively large. There is no single theano op for doing max pooling with overlapping pooling windows, so pylearn2 builds a large expression graph using indexing operations to accomplish the max pooling."
   ]
  },
  {
   "cell_type": "markdown",
   "metadata": {},
   "source": [
    "After the model is trained, we can use the print_monitor script to print the last monitoring entry of a saved model. By running it on \"convolutional_network_best.pkl\", we can see the performance of the model at the point where it did the best on the validation set."
   ]
  },
  {
   "cell_type": "code",
   "execution_count": null,
   "metadata": {
    "collapsed": false
   },
   "outputs": [],
   "source": [
    "!print_monitor.py convolutional_network_best.pkl | grep test_y_misclass"
   ]
  },
  {
   "cell_type": "markdown",
   "metadata": {},
   "source": [
    "The test set error has dropped to 0.74%! This is a big improvement over the standard MLP.\n",
    "\n",
    "We can also look at the convolution kernels learned by the first layer, to see that the network is looking for shifted versions of small pieces of penstrokes."
   ]
  },
  {
   "cell_type": "code",
   "execution_count": null,
   "metadata": {
    "collapsed": false
   },
   "outputs": [],
   "source": [
    "!show_weights.py convolutional_network_best.pkl"
   ]
  },
  {
   "cell_type": "markdown",
   "metadata": {},
   "source": [
    "## Further reading\n",
    "\n",
    "You can find more information on convolutional networks from the following sources:\n",
    "\n",
    "[LISA lab's Deep Learning Tutorials: Convolutional Neural Networks (LeNet)](http://deeplearning.net/tutorial/lenet.html)\n",
    "\n",
    "\n",
    "This is by no means a complete list."
   ]
  }
 ],
 "metadata": {
  "kernelspec": {
   "display_name": "Python 2",
   "language": "python",
   "name": "python2"
  },
  "language_info": {
   "codemirror_mode": {
    "name": "ipython",
    "version": 2
   },
   "file_extension": ".py",
   "mimetype": "text/x-python",
   "name": "python",
   "nbconvert_exporter": "python",
   "pygments_lexer": "ipython2",
   "version": "2.7.8"
  }
 },
 "nbformat": 4,
 "nbformat_minor": 0
}
