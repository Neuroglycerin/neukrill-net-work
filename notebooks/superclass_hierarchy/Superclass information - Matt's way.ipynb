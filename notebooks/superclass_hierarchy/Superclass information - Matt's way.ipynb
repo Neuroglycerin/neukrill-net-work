{
 "cells": [
  {
   "cell_type": "code",
   "execution_count": 6,
   "metadata": {
    "collapsed": false
   },
   "outputs": [
    {
     "name": "stdout",
     "output_type": "stream",
     "text": [
      "/afs/inf.ed.ac.uk/user/s13/s1320903/Neuroglycerin/neukrill-net-work\n"
     ]
    }
   ],
   "source": [
    "cd .."
   ]
  },
  {
   "cell_type": "code",
   "execution_count": 7,
   "metadata": {
    "collapsed": false
   },
   "outputs": [
    {
     "name": "stdout",
     "output_type": "stream",
     "text": [
      "env: THEANO_FLAGS=device=gpu3,floatX=float32,base_compiledir=~/.theano/stonesoup3\n"
     ]
    }
   ],
   "source": [
    "%env THEANO_FLAGS = device=gpu3,floatX=float32,base_compiledir=~/.theano/stonesoup3"
   ]
  },
  {
   "cell_type": "code",
   "execution_count": 8,
   "metadata": {
    "collapsed": false,
    "scrolled": true
   },
   "outputs": [
    {
     "name": "stdout",
     "output_type": "stream",
     "text": [
      "Welcome to the HoloViews IPython extension! (http://ioam.github.io/holoviews/)\n",
      "Available magics: %compositor, %opts, %params, %view, %%labels, %%opts, %%view\n"
     ]
    },
    {
     "name": "stderr",
     "output_type": "stream",
     "text": [
      ":0: FutureWarning: IPython widgets are experimental and may change in the future.\n"
     ]
    },
    {
     "data": {
      "text/plain": [
       "<matplotlib.figure.Figure at 0x7f91b442f510>"
      ]
     },
     "metadata": {},
     "output_type": "display_data"
    },
    {
     "data": {
      "text/plain": [
       "<matplotlib.figure.Figure at 0x7f91b442fc10>"
      ]
     },
     "metadata": {},
     "output_type": "display_data"
    },
    {
     "data": {
      "text/plain": [
       "<matplotlib.figure.Figure at 0x7f91b442fa10>"
      ]
     },
     "metadata": {},
     "output_type": "display_data"
    }
   ],
   "source": [
    "import pylearn2.utils\n",
    "import pylearn2.config\n",
    "import theano\n",
    "import neukrill_net.utils\n",
    "import numpy as np\n",
    "%matplotlib inline\n",
    "import matplotlib.pyplot as plt\n",
    "import holoviews as hl\n",
    "%load_ext holoviews.ipython\n",
    "import sklearn.metrics\n",
    "import pickle\n",
    "import neukrill_net.utils\n",
    "import neukrill_net.encoding as enc\n",
    "import neukrill_net.taxonomy as t"
   ]
  },
  {
   "cell_type": "code",
   "execution_count": 9,
   "metadata": {
    "collapsed": true
   },
   "outputs": [],
   "source": [
    "settings = neukrill_net.utils.Settings(\"settings.json\")\n",
    "run_settings = neukrill_net.utils.load_run_settings('run_settings/experiment_setting_colnorms_higher_aug.json', \n",
    "            settings, force=True)\n",
    "model = pylearn2.utils.serial.load(run_settings['pickle abspath'])"
   ]
  },
  {
   "cell_type": "code",
   "execution_count": 10,
   "metadata": {
    "collapsed": true
   },
   "outputs": [],
   "source": [
    "# format the YAML\n",
    "yaml_string = neukrill_net.utils.format_yaml(run_settings, settings)\n",
    "# load proxied objects\n",
    "proxied = pylearn2.config.yaml_parse.load(yaml_string, instantiate=False)\n",
    "# pull out proxied dataset\n",
    "proxdata = proxied.keywords['dataset']\n",
    "# force loading of dataset and switch to test dataset\n",
    "proxdata.keywords['force'] = True\n",
    "proxdata.keywords['training_set_mode'] = 'test'\n",
    "proxdata.keywords['verbose'] = False\n",
    "# then instantiate the dataset\n",
    "dataset = pylearn2.config.yaml_parse._instantiate(proxdata)"
   ]
  },
  {
   "cell_type": "code",
   "execution_count": 11,
   "metadata": {
    "collapsed": true
   },
   "outputs": [],
   "source": [
    "if hasattr(dataset.X, 'shape'):\n",
    "    N_examples = dataset.X.shape[0]\n",
    "else:\n",
    "    N_examples = len(dataset.X)\n",
    "batch_size = 500\n",
    "while N_examples%batch_size != 0:\n",
    "    batch_size += 1\n",
    "n_batches = int(N_examples/batch_size)\n",
    "#n_classes = len(settings.classes)"
   ]
  },
  {
   "cell_type": "code",
   "execution_count": 12,
   "metadata": {
    "collapsed": true
   },
   "outputs": [],
   "source": [
    "model.set_batch_size(batch_size)\n",
    "X = model.get_input_space().make_batch_theano()\n",
    "Y = model.fprop(X)\n",
    "if type(X) == tuple:\n",
    "    f = theano.function(X,Y)\n",
    "else:\n",
    "    f = theano.function([X],Y)"
   ]
  },
  {
   "cell_type": "code",
   "execution_count": 13,
   "metadata": {
    "collapsed": true
   },
   "outputs": [],
   "source": [
    "augment = 1\n",
    "y = np.zeros((N_examples*augment,188))\n",
    "# get the data specs from the cost function using the model\n",
    "pcost = proxied.keywords['algorithm'].keywords['cost']\n",
    "cost = pylearn2.config.yaml_parse._instantiate(pcost)\n",
    "data_specs = cost.get_data_specs(model)\n",
    "i = 0\n",
    "\n",
    "for _ in range(augment):\n",
    "    # make sequential iterator\n",
    "    iterator = dataset.iterator(batch_size=batch_size,num_batches=n_batches,\n",
    "                        mode='even_sequential', data_specs=data_specs)\n",
    "    for batch in iterator:\n",
    "        if type(X) == tuple:\n",
    "            y[i*batch_size:(i+1)*batch_size,:] = f(batch[0],batch[1])\n",
    "        else:\n",
    "            y[i*batch_size:(i+1)*batch_size,:] = f(batch[0])\n",
    "        i += 1\n",
    "        \n",
    "af = run_settings.get(\"augmentation_factor\",1)\n",
    "if af > 1:\n",
    "    y_collapsed = np.zeros((int(N_examples/af), 188)) \n",
    "    for i,(low,high) in enumerate(zip(range(0,dataset.y.shape[0],af),\n",
    "                                range(af,dataset.y.shape[0]+af,af))):\n",
    "        y_collapsed[i,:] = np.mean(y[low:high,:], axis=0)\n",
    "    y = y_collapsed\n",
    "    # and collapse labels\n",
    "    labels = dataset.y[range(0,dataset.y.shape[0],af)]\n",
    "elif augment > 1:\n",
    "    y_collapsed = np.zeros((N_examples,188))\n",
    "    # different kind of augmentation, has to be collapsed differently\n",
    "    for row in range(N_examples):\n",
    "        y_collapsed[row,:] = np.mean(np.vstack([r for r in \n",
    "            y[[i for i in range(row,N_examples*augment,N_examples)],:]]), \n",
    "            axis=0)\n",
    "    y = y_collapsed            \n",
    "    labels = dataset.y\n",
    "else:\n",
    "    labels = dataset.y"
   ]
  },
  {
   "cell_type": "markdown",
   "metadata": {},
   "source": [
    "Get y."
   ]
  },
  {
   "cell_type": "code",
   "execution_count": 14,
   "metadata": {
    "collapsed": false
   },
   "outputs": [
    {
     "data": {
      "text/plain": [
       "(3089, 188)"
      ]
     },
     "execution_count": 14,
     "metadata": {},
     "output_type": "execute_result"
    }
   ],
   "source": [
    "y.shape"
   ]
  },
  {
   "cell_type": "markdown",
   "metadata": {},
   "source": [
    "Copy it into predictions, make class_predictions and superclass predictions (first parent)."
   ]
  },
  {
   "cell_type": "code",
   "execution_count": 15,
   "metadata": {
    "collapsed": false
   },
   "outputs": [
    {
     "data": {
      "text/plain": [
       "(3089, 188)"
      ]
     },
     "execution_count": 15,
     "metadata": {},
     "output_type": "execute_result"
    }
   ],
   "source": [
    "predictions = np.zeros(y.shape)\n",
    "np.copyto(predictions, y)\n",
    "predictions.shape"
   ]
  },
  {
   "cell_type": "code",
   "execution_count": 17,
   "metadata": {
    "collapsed": false
   },
   "outputs": [
    {
     "data": {
      "text/plain": [
       "(3089, 121)"
      ]
     },
     "execution_count": 17,
     "metadata": {},
     "output_type": "execute_result"
    }
   ],
   "source": [
    "class_predictions = np.zeros((y.shape[0], 121))\n",
    "np.copyto(class_predictions, predictions[:, :121])\n",
    "class_predictions.shape"
   ]
  },
  {
   "cell_type": "code",
   "execution_count": 18,
   "metadata": {
    "collapsed": false
   },
   "outputs": [
    {
     "data": {
      "text/plain": [
       "(3089, 38)"
      ]
     },
     "execution_count": 18,
     "metadata": {},
     "output_type": "execute_result"
    }
   ],
   "source": [
    "superclasses = np.zeros((y.shape[0], 38))\n",
    "np.copyto(superclasses, predictions[:,121:(121+38)])\n",
    "superclasses.shape"
   ]
  },
  {
   "cell_type": "code",
   "execution_count": 19,
   "metadata": {
    "collapsed": true
   },
   "outputs": [],
   "source": [
    "layer = t.TaxonomyLayer(1)\n",
    "hier = enc.get_hierarchy(settings)\n",
    "priors = np.zeros(len(hier[1]))\n",
    "#superclass_children = [[] for k in range(len(hier[1]))]\n",
    "\n",
    "# For each class\n",
    "for i, c in enumerate(settings.classes):\n",
    "    # Find index of its first parent in the 1-of-k encoding array\n",
    "    j = int(np.where(np.array(hier[1]) == layer[c])[0])\n",
    "    # Add class's prior for that superclass group\n",
    "    priors[j] += settings.class_priors[i]\n",
    "    # Record index of this class as a child or superclass\n",
    "    #superclass_children[j].append(i)"
   ]
  },
  {
   "cell_type": "code",
   "execution_count": 20,
   "metadata": {
    "collapsed": false
   },
   "outputs": [
    {
     "data": {
      "text/plain": [
       "array([ 0.0320741 ,  0.0489847 ,  0.05745649,  0.0069884 ,  0.11349552,\n",
       "        0.00903217,  0.00497758,  0.00098892,  0.00313159,  0.01420754,\n",
       "        0.07192774,  0.03359045,  0.00316456,  0.00573576,  0.01054852,\n",
       "        0.00032964,  0.00510944,  0.01855881,  0.06882911,  0.04608386,\n",
       "        0.00346123,  0.00491166,  0.00685654,  0.01064742,  0.02060258,\n",
       "        0.00613133,  0.01466904,  0.02037184,  0.03035997,  0.00171414,\n",
       "        0.00194488,  0.01592168,  0.01265823,  0.04341377,  0.0581817 ,\n",
       "        0.11270438,  0.05000659,  0.03022811])"
      ]
     },
     "execution_count": 20,
     "metadata": {},
     "output_type": "execute_result"
    }
   ],
   "source": [
    "priors"
   ]
  },
  {
   "cell_type": "code",
   "execution_count": 21,
   "metadata": {
    "collapsed": false
   },
   "outputs": [
    {
     "data": {
      "text/plain": [
       "(3089, 121)"
      ]
     },
     "execution_count": 21,
     "metadata": {},
     "output_type": "execute_result"
    }
   ],
   "source": [
    "new_class_predictions = np.zeros(class_predictions.shape)\n",
    "new_class_predictions.shape"
   ]
  },
  {
   "cell_type": "code",
   "execution_count": 22,
   "metadata": {
    "collapsed": true
   },
   "outputs": [],
   "source": [
    "for index, row in enumerate(class_predictions):\n",
    "    for i, c in enumerate(settings.classes):\n",
    "        j = int(np.where(np.array(hier[1]) == layer[c])[0])\n",
    "        new_class_predictions[index, i] = superclasses[index, j] * (settings.class_priors[i] / priors[j])"
   ]
  },
  {
   "cell_type": "markdown",
   "metadata": {},
   "source": [
    "Try with different weights."
   ]
  },
  {
   "cell_type": "code",
   "execution_count": 27,
   "metadata": {
    "collapsed": false
   },
   "outputs": [],
   "source": [
    "labels = labels[:, :121]\n",
    "\n",
    "results = []\n",
    "weights = np.logspace(-5,-1, 20)\n",
    "for weight in weights:\n",
    "    updated_predictions = np.zeros(class_predictions.shape)\n",
    "    updated_predictions = class_predictions * (1-weight) + weight * new_class_predictions\n",
    "    logloss = sklearn.metrics.log_loss(labels, updated_predictions)\n",
    "    results.append(logloss)"
   ]
  },
  {
   "cell_type": "code",
   "execution_count": 28,
   "metadata": {
    "collapsed": false
   },
   "outputs": [
    {
     "data": {
      "text/plain": [
       "[0.93532807287028685,\n",
       " 0.93532380674921556,\n",
       " 0.93531690318819105,\n",
       " 0.93530575523596571,\n",
       " 0.93528781447747555,\n",
       " 0.93525909830576115,\n",
       " 0.93521352888105802,\n",
       " 0.93514218153182349,\n",
       " 0.9350327533300572,\n",
       " 0.93487000533804321,\n",
       " 0.93463851464994019,\n",
       " 0.93432941445079354,\n",
       " 0.93395248184095403,\n",
       " 0.93355463437203612,\n",
       " 0.93324793276374252,\n",
       " 0.93325625037706783,\n",
       " 0.93399910962887434,\n",
       " 0.93624466111408577,\n",
       " 0.94139048222136512,\n",
       " 0.95199455923379972]"
      ]
     },
     "execution_count": 28,
     "metadata": {},
     "output_type": "execute_result"
    }
   ],
   "source": [
    "results"
   ]
  },
  {
   "cell_type": "code",
   "execution_count": 29,
   "metadata": {
    "collapsed": false
   },
   "outputs": [
    {
     "data": {
      "text/plain": [
       "[<matplotlib.lines.Line2D at 0x7f9197b8cd90>]"
      ]
     },
     "execution_count": 29,
     "metadata": {},
     "output_type": "execute_result"
    },
    {
     "data": {
      "image/png": "[encoded data removed]",
      "text/plain": [
       "<matplotlib.figure.Figure at 0x7f9197c1dbd0>"
      ]
     },
     "metadata": {},
     "output_type": "display_data"
    }
   ],
   "source": [
    "plt.semilogx(weights, results)"
   ]
  },
  {
   "cell_type": "code",
   "execution_count": 32,
   "metadata": {
    "collapsed": false
   },
   "outputs": [
    {
     "data": {
      "text/plain": [
       "(3089, 121)"
      ]
     },
     "execution_count": 32,
     "metadata": {},
     "output_type": "execute_result"
    }
   ],
   "source": [
    "class_predictions.shape"
   ]
  },
  {
   "cell_type": "markdown",
   "metadata": {},
   "source": [
    "Now process all vectors. Make a big list with predictions for each vector."
   ]
  },
  {
   "cell_type": "code",
   "execution_count": 33,
   "metadata": {
    "collapsed": true
   },
   "outputs": [],
   "source": [
    "all_predictions = [[] for k in range(len(hier))]\n",
    "start = 0\n",
    "\n",
    "for i in range(len(hier)):\n",
    "    end = len(hier[i])\n",
    "    all_predictions[i] = predictions[:, start:(start + end)]\n",
    "    start = start + end"
   ]
  },
  {
   "cell_type": "markdown",
   "metadata": {},
   "source": [
    "Check the dimensions are right."
   ]
  },
  {
   "cell_type": "code",
   "execution_count": 34,
   "metadata": {
    "collapsed": false
   },
   "outputs": [
    {
     "data": {
      "text/plain": [
       "[(3089, 121), (3089, 38), (3089, 16), (3089, 7), (3089, 4), (3089, 2)]"
      ]
     },
     "execution_count": 34,
     "metadata": {},
     "output_type": "execute_result"
    }
   ],
   "source": [
    "[z.shape for z in all_predictions]"
   ]
  },
  {
   "cell_type": "markdown",
   "metadata": {},
   "source": [
    "Make a list for priors for all vectors. Set it with class priors in the zeroth vector."
   ]
  },
  {
   "cell_type": "code",
   "execution_count": 36,
   "metadata": {
    "collapsed": true
   },
   "outputs": [],
   "source": [
    "priors = [[] for k in range(len(hier))]\n",
    "\n",
    "for i in range(len(hier)):\n",
    "    priors[i] = np.zeros(len(hier[i])) \n",
    "\n",
    "priors[0] = settings.class_priors"
   ]
  },
  {
   "cell_type": "code",
   "execution_count": 37,
   "metadata": {
    "collapsed": false
   },
   "outputs": [
    {
     "data": {
      "text/plain": [
       "[array([ 0.02930512,  0.00042853,  0.00234045,  0.00161524,  0.00052743,\n",
       "         0.01753692,  0.02294304,  0.00797732,  0.01295491,  0.0056039 ,\n",
       "         0.02686577,  0.06375264,  0.02287711,  0.00253824,  0.02244858,\n",
       "         0.0057028 ,  0.00316456,  0.00586762,  0.00207674,  0.00942774,\n",
       "         0.0034942 ,  0.00161524,  0.00286788,  0.00098892,  0.02963476,\n",
       "         0.03919436,  0.00079114,  0.00662579,  0.00372495,  0.00138449,\n",
       "         0.0017471 ,  0.00125264,  0.00181303,  0.01196598,  0.01298787,\n",
       "         0.03012922,  0.01710839,  0.01648207,  0.00118671,  0.0030327 ,\n",
       "         0.00263713,  0.00290084,  0.01269119,  0.01766878,  0.00316456,\n",
       "         0.00089003,  0.0004615 ,  0.00448312,  0.00125264,  0.01684467,\n",
       "         0.00032964,  0.00102189,  0.00280195,  0.00375791,  0.0021097 ,\n",
       "         0.00052743,  0.00032964,  0.00418645,  0.00247231,  0.00115374,\n",
       "         0.00754879,  0.00029668,  0.00062632,  0.00075818,  0.00435127,\n",
       "         0.01107595,  0.00039557,  0.00626319,  0.01358122,  0.00903217,\n",
       "         0.00494462,  0.00250527,  0.02317379,  0.00405459,  0.00141746,\n",
       "         0.00184599,  0.0004615 ,  0.00201081,  0.0004615 ,  0.00079114,\n",
       "         0.00464794,  0.0043183 ,  0.00356013,  0.01226266,  0.02060258,\n",
       "         0.03863397,  0.00372495,  0.00356013,  0.00042853,  0.00214267,\n",
       "         0.00946071,  0.00520833,  0.00161524,  0.00171414,  0.00504351,\n",
       "         0.00573576,  0.0069884 ,  0.00445016,  0.01592168,  0.00590058,\n",
       "         0.00187896,  0.00814214,  0.00095596,  0.00098892,  0.00421941,\n",
       "         0.00069225,  0.00079114,  0.00125264,  0.02333861,  0.00178006,\n",
       "         0.06523602,  0.02234968,  0.00095596,  0.01447126,  0.01374604,\n",
       "         0.01160338,  0.00777954,  0.00240638,  0.01044963,  0.00576872,\n",
       "         0.01400976]),\n",
       " array([ 0.,  0.,  0.,  0.,  0.,  0.,  0.,  0.,  0.,  0.,  0.,  0.,  0.,\n",
       "         0.,  0.,  0.,  0.,  0.,  0.,  0.,  0.,  0.,  0.,  0.,  0.,  0.,\n",
       "         0.,  0.,  0.,  0.,  0.,  0.,  0.,  0.,  0.,  0.,  0.,  0.]),\n",
       " array([ 0.,  0.,  0.,  0.,  0.,  0.,  0.,  0.,  0.,  0.,  0.,  0.,  0.,\n",
       "         0.,  0.,  0.]),\n",
       " array([ 0.,  0.,  0.,  0.,  0.,  0.,  0.]),\n",
       " array([ 0.,  0.,  0.,  0.]),\n",
       " array([ 0.,  0.])]"
      ]
     },
     "execution_count": 37,
     "metadata": {},
     "output_type": "execute_result"
    }
   ],
   "source": [
    "priors"
   ]
  },
  {
   "cell_type": "markdown",
   "metadata": {},
   "source": [
    "Propagate up to compute superclass group priors in all vectors."
   ]
  },
  {
   "cell_type": "code",
   "execution_count": 38,
   "metadata": {
    "collapsed": true
   },
   "outputs": [],
   "source": [
    "# For each class\n",
    "for index, h in enumerate(hier):\n",
    "    if (index < 5):\n",
    "        layer = t.TaxonomyLayer(index + 1)\n",
    "\n",
    "        for i, c in enumerate(settings.classes):    \n",
    "            # Find index of its parent in 1-of-k encodings\n",
    "            j = int(np.where(np.array(hier[index + 1]) == layer[c])[0])\n",
    "\n",
    "            # Add class's prior for that superclass group\n",
    "            priors[index + 1][j] += settings.class_priors[i]"
   ]
  },
  {
   "cell_type": "code",
   "execution_count": 39,
   "metadata": {
    "collapsed": false
   },
   "outputs": [
    {
     "data": {
      "text/plain": [
       "[array([ 0.02930512,  0.00042853,  0.00234045,  0.00161524,  0.00052743,\n",
       "         0.01753692,  0.02294304,  0.00797732,  0.01295491,  0.0056039 ,\n",
       "         0.02686577,  0.06375264,  0.02287711,  0.00253824,  0.02244858,\n",
       "         0.0057028 ,  0.00316456,  0.00586762,  0.00207674,  0.00942774,\n",
       "         0.0034942 ,  0.00161524,  0.00286788,  0.00098892,  0.02963476,\n",
       "         0.03919436,  0.00079114,  0.00662579,  0.00372495,  0.00138449,\n",
       "         0.0017471 ,  0.00125264,  0.00181303,  0.01196598,  0.01298787,\n",
       "         0.03012922,  0.01710839,  0.01648207,  0.00118671,  0.0030327 ,\n",
       "         0.00263713,  0.00290084,  0.01269119,  0.01766878,  0.00316456,\n",
       "         0.00089003,  0.0004615 ,  0.00448312,  0.00125264,  0.01684467,\n",
       "         0.00032964,  0.00102189,  0.00280195,  0.00375791,  0.0021097 ,\n",
       "         0.00052743,  0.00032964,  0.00418645,  0.00247231,  0.00115374,\n",
       "         0.00754879,  0.00029668,  0.00062632,  0.00075818,  0.00435127,\n",
       "         0.01107595,  0.00039557,  0.00626319,  0.01358122,  0.00903217,\n",
       "         0.00494462,  0.00250527,  0.02317379,  0.00405459,  0.00141746,\n",
       "         0.00184599,  0.0004615 ,  0.00201081,  0.0004615 ,  0.00079114,\n",
       "         0.00464794,  0.0043183 ,  0.00356013,  0.01226266,  0.02060258,\n",
       "         0.03863397,  0.00372495,  0.00356013,  0.00042853,  0.00214267,\n",
       "         0.00946071,  0.00520833,  0.00161524,  0.00171414,  0.00504351,\n",
       "         0.00573576,  0.0069884 ,  0.00445016,  0.01592168,  0.00590058,\n",
       "         0.00187896,  0.00814214,  0.00095596,  0.00098892,  0.00421941,\n",
       "         0.00069225,  0.00079114,  0.00125264,  0.02333861,  0.00178006,\n",
       "         0.06523602,  0.02234968,  0.00095596,  0.01447126,  0.01374604,\n",
       "         0.01160338,  0.00777954,  0.00240638,  0.01044963,  0.00576872,\n",
       "         0.01400976]),\n",
       " array([ 0.0320741 ,  0.0489847 ,  0.05745649,  0.0069884 ,  0.11349552,\n",
       "         0.00903217,  0.00497758,  0.00098892,  0.00313159,  0.01420754,\n",
       "         0.07192774,  0.03359045,  0.00316456,  0.00573576,  0.01054852,\n",
       "         0.00032964,  0.00510944,  0.01855881,  0.06882911,  0.04608386,\n",
       "         0.00346123,  0.00491166,  0.00685654,  0.01064742,  0.02060258,\n",
       "         0.00613133,  0.01466904,  0.02037184,  0.03035997,  0.00171414,\n",
       "         0.00194488,  0.01592168,  0.01265823,  0.04341377,  0.0581817 ,\n",
       "         0.11270438,  0.05000659,  0.03022811]),\n",
       " array([ 0.03629351,  0.05844541,  0.00171414,  0.00313159,  0.06882911,\n",
       "         0.04100738,  0.00613133,  0.00692247,  0.10215585,  0.01855881,\n",
       "         0.00316456,  0.0989913 ,  0.41788634,  0.10492484,  0.0199433 ,\n",
       "         0.01190005]),\n",
       " array([ 0.06882911,  0.07838871,  0.2161788 ,  0.01855881,  0.04100738,\n",
       "         0.54074367,  0.03629351]),\n",
       " array([ 0.06882911,  0.03629351,  0.01855881,  0.87631857]),\n",
       " array([ 0.01855881,  0.98144119])]"
      ]
     },
     "execution_count": 39,
     "metadata": {},
     "output_type": "execute_result"
    }
   ],
   "source": [
    "priors"
   ]
  },
  {
   "cell_type": "markdown",
   "metadata": {},
   "source": [
    "Check they sum to 1."
   ]
  },
  {
   "cell_type": "code",
   "execution_count": 40,
   "metadata": {
    "collapsed": false,
    "scrolled": true
   },
   "outputs": [
    {
     "data": {
      "text/plain": [
       "[0.99999999999999978, 0.99999999999999989, 1.0, 1.0, 1.0, 0.99999999999999978]"
      ]
     },
     "execution_count": 40,
     "metadata": {},
     "output_type": "execute_result"
    }
   ],
   "source": [
    "[sum(q) for q in priors]"
   ]
  },
  {
   "cell_type": "markdown",
   "metadata": {},
   "source": [
    "Make a big list for all new predictions."
   ]
  },
  {
   "cell_type": "code",
   "execution_count": 41,
   "metadata": {
    "collapsed": true
   },
   "outputs": [],
   "source": [
    "new_predictions = [np.zeros(class_predictions.shape) for k in range(len(hier))]\n",
    "new_predictions[0] = class_predictions"
   ]
  },
  {
   "cell_type": "code",
   "execution_count": 42,
   "metadata": {
    "collapsed": false,
    "scrolled": false
   },
   "outputs": [
    {
     "data": {
      "text/plain": [
       "[array([[  9.99387145e-01,   6.10206451e-04,   4.26387174e-07, ...,\n",
       "           5.54376206e-13,   1.65371735e-16,   3.49470248e-08],\n",
       "        [  9.99947071e-01,   5.03214542e-05,   2.10997632e-06, ...,\n",
       "           2.14432869e-13,   1.17589905e-16,   4.98193042e-09],\n",
       "        [  9.91560280e-01,   8.43962282e-03,   4.58615190e-08, ...,\n",
       "           2.34763855e-14,   1.16694699e-19,   6.70220546e-10],\n",
       "        ..., \n",
       "        [  1.56537055e-07,   1.68523400e-07,   7.05214909e-09, ...,\n",
       "           5.59777301e-03,   1.80633634e-03,   1.74993405e-03],\n",
       "        [  1.91399234e-03,   6.32083276e-04,   1.26820625e-04, ...,\n",
       "           6.61337897e-02,   1.59019802e-03,   2.37437367e-01],\n",
       "        [  1.72780656e-05,   5.68424040e-12,   2.82246387e-04, ...,\n",
       "           1.14716023e-07,   1.05788604e-04,   2.46290383e-05]]),\n",
       " array([[ 0.,  0.,  0., ...,  0.,  0.,  0.],\n",
       "        [ 0.,  0.,  0., ...,  0.,  0.,  0.],\n",
       "        [ 0.,  0.,  0., ...,  0.,  0.,  0.],\n",
       "        ..., \n",
       "        [ 0.,  0.,  0., ...,  0.,  0.,  0.],\n",
       "        [ 0.,  0.,  0., ...,  0.,  0.,  0.],\n",
       "        [ 0.,  0.,  0., ...,  0.,  0.,  0.]]),\n",
       " array([[ 0.,  0.,  0., ...,  0.,  0.,  0.],\n",
       "        [ 0.,  0.,  0., ...,  0.,  0.,  0.],\n",
       "        [ 0.,  0.,  0., ...,  0.,  0.,  0.],\n",
       "        ..., \n",
       "        [ 0.,  0.,  0., ...,  0.,  0.,  0.],\n",
       "        [ 0.,  0.,  0., ...,  0.,  0.,  0.],\n",
       "        [ 0.,  0.,  0., ...,  0.,  0.,  0.]]),\n",
       " array([[ 0.,  0.,  0., ...,  0.,  0.,  0.],\n",
       "        [ 0.,  0.,  0., ...,  0.,  0.,  0.],\n",
       "        [ 0.,  0.,  0., ...,  0.,  0.,  0.],\n",
       "        ..., \n",
       "        [ 0.,  0.,  0., ...,  0.,  0.,  0.],\n",
       "        [ 0.,  0.,  0., ...,  0.,  0.,  0.],\n",
       "        [ 0.,  0.,  0., ...,  0.,  0.,  0.]]),\n",
       " array([[ 0.,  0.,  0., ...,  0.,  0.,  0.],\n",
       "        [ 0.,  0.,  0., ...,  0.,  0.,  0.],\n",
       "        [ 0.,  0.,  0., ...,  0.,  0.,  0.],\n",
       "        ..., \n",
       "        [ 0.,  0.,  0., ...,  0.,  0.,  0.],\n",
       "        [ 0.,  0.,  0., ...,  0.,  0.,  0.],\n",
       "        [ 0.,  0.,  0., ...,  0.,  0.,  0.]]),\n",
       " array([[ 0.,  0.,  0., ...,  0.,  0.,  0.],\n",
       "        [ 0.,  0.,  0., ...,  0.,  0.,  0.],\n",
       "        [ 0.,  0.,  0., ...,  0.,  0.,  0.],\n",
       "        ..., \n",
       "        [ 0.,  0.,  0., ...,  0.,  0.,  0.],\n",
       "        [ 0.,  0.,  0., ...,  0.,  0.,  0.],\n",
       "        [ 0.,  0.,  0., ...,  0.,  0.,  0.]])]"
      ]
     },
     "execution_count": 42,
     "metadata": {},
     "output_type": "execute_result"
    }
   ],
   "source": [
    "new_predictions"
   ]
  },
  {
   "cell_type": "code",
   "execution_count": 43,
   "metadata": {
    "collapsed": true
   },
   "outputs": [],
   "source": [
    "# For each array of new predictions\n",
    "for pred in range(len(new_predictions)):\n",
    "    # No need to update the zeroth one\n",
    "    if pred > 0:\n",
    "        layer = t.TaxonomyLayer(pred)\n",
    "        # For each image\n",
    "        for index, row in enumerate(new_predictions[pred]):\n",
    "            # For each class\n",
    "            for i, c in enumerate(settings.classes):\n",
    "                # Find the parent\n",
    "                j = int(np.where(np.array(hier[pred]) == layer[c])[0])\n",
    "                new_predictions[pred][index, i] = all_predictions[pred][index, j] * (settings.class_priors[i] / priors[pred][j])"
   ]
  },
  {
   "cell_type": "code",
   "execution_count": 44,
   "metadata": {
    "collapsed": false
   },
   "outputs": [
    {
     "data": {
      "text/plain": [
       "[array([[  9.99387145e-01,   6.10206451e-04,   4.26387174e-07, ...,\n",
       "           5.54376206e-13,   1.65371735e-16,   3.49470248e-08],\n",
       "        [  9.99947071e-01,   5.03214542e-05,   2.10997632e-06, ...,\n",
       "           2.14432869e-13,   1.17589905e-16,   4.98193042e-09],\n",
       "        [  9.91560280e-01,   8.43962282e-03,   4.58615190e-08, ...,\n",
       "           2.34763855e-14,   1.16694699e-19,   6.70220546e-10],\n",
       "        ..., \n",
       "        [  1.56537055e-07,   1.68523400e-07,   7.05214909e-09, ...,\n",
       "           5.59777301e-03,   1.80633634e-03,   1.74993405e-03],\n",
       "        [  1.91399234e-03,   6.32083276e-04,   1.26820625e-04, ...,\n",
       "           6.61337897e-02,   1.59019802e-03,   2.37437367e-01],\n",
       "        [  1.72780656e-05,   5.68424040e-12,   2.82246387e-04, ...,\n",
       "           1.14716023e-07,   1.05788604e-04,   2.46290383e-05]]),\n",
       " array([[  9.13668193e-01,   1.33607272e-02,   7.29701257e-02, ...,\n",
       "           1.53098840e-09,   8.45182872e-10,   2.05258697e-09],\n",
       "        [  9.13668411e-01,   1.33607304e-02,   7.29701431e-02, ...,\n",
       "           1.37019274e-10,   7.56415551e-11,   1.83700920e-10],\n",
       "        [  9.13668956e-01,   1.33607384e-02,   7.29701866e-02, ...,\n",
       "           3.78720911e-11,   2.09073058e-11,   5.07748855e-11],\n",
       "        ..., \n",
       "        [  1.76323761e-07,   2.57841270e-09,   1.40821002e-08, ...,\n",
       "           2.69165229e-03,   1.48592792e-03,   3.60868210e-03],\n",
       "        [  1.48264888e-03,   2.16810298e-05,   1.18411778e-04, ...,\n",
       "           1.22754298e-01,   6.77665681e-02,   1.64575951e-01],\n",
       "        [  1.95187018e-04,   2.85425336e-06,   1.55886145e-05, ...,\n",
       "           2.64220174e-05,   1.45862872e-05,   3.54238403e-05]]),\n",
       " array([[  2.79293698e-01,   4.08415981e-03,   2.23057959e-02, ...,\n",
       "           1.60488980e-07,   8.85980171e-08,   2.15166613e-07],\n",
       "        [  2.79296228e-01,   4.08419681e-03,   2.23059980e-02, ...,\n",
       "           4.63913909e-10,   2.56103893e-10,   6.21966598e-10],\n",
       "        [  2.79292865e-01,   4.08414764e-03,   2.23057294e-02, ...,\n",
       "           3.04472341e-07,   1.68084100e-07,   4.08204243e-07],\n",
       "        ..., \n",
       "        [  2.40876443e-06,   3.52237769e-08,   1.92376012e-07, ...,\n",
       "           3.14758845e-04,   1.73762769e-04,   4.21995297e-04],\n",
       "        [  3.94268165e-03,   5.76545124e-05,   3.14882337e-04, ...,\n",
       "           1.06213054e-02,   5.86349667e-03,   1.42399205e-02],\n",
       "        [  7.19018487e-04,   1.05143311e-05,   5.74244236e-05, ...,\n",
       "           2.49413909e-02,   1.37689066e-02,   3.34387732e-02]]),\n",
       " array([[  5.41880520e-02,   7.92401211e-04,   4.32772969e-03, ...,\n",
       "           1.93223988e-02,   1.06669394e-02,   2.59054242e-02],\n",
       "        [  5.41940344e-02,   7.92488692e-04,   4.32820747e-03, ...,\n",
       "           1.93245319e-02,   1.06681170e-02,   2.59082842e-02],\n",
       "        [  5.41940990e-02,   7.92489637e-04,   4.32821263e-03, ...,\n",
       "           1.93245550e-02,   1.06681297e-02,   2.59083150e-02],\n",
       "        ..., \n",
       "        [  2.99958796e-03,   4.38634910e-05,   2.39562143e-04, ...,\n",
       "           1.06959436e-03,   5.90470072e-04,   1.43399875e-03],\n",
       "        [  2.03352638e-02,   2.97366063e-04,   1.62407619e-03, ...,\n",
       "           7.25115708e-03,   4.00300469e-03,   9.72158283e-03],\n",
       "        [  5.41938858e-02,   7.92486519e-04,   4.32819560e-03, ...,\n",
       "           1.93244790e-02,   1.06680878e-02,   2.59082131e-02]]),\n",
       " array([[  3.34411676e-02,   4.89015949e-04,   2.67077942e-03, ...,\n",
       "           1.19244658e-02,   6.58290701e-03,   1.59870599e-02],\n",
       "        [  3.34411676e-02,   4.89015949e-04,   2.67077942e-03, ...,\n",
       "           1.19244658e-02,   6.58290701e-03,   1.59870599e-02],\n",
       "        [  3.34411676e-02,   4.89015949e-04,   2.67077942e-03, ...,\n",
       "           1.19244658e-02,   6.58290701e-03,   1.59870599e-02],\n",
       "        ..., \n",
       "        [  1.57213413e-04,   2.29895879e-06,   1.25558519e-05, ...,\n",
       "           5.60592259e-05,   3.09475222e-05,   7.51582682e-05],\n",
       "        [  1.09993545e-02,   1.60845453e-04,   8.78463630e-04, ...,\n",
       "           3.92215452e-03,   2.16522726e-03,   5.25840905e-03],\n",
       "        [  3.34411357e-02,   4.89015483e-04,   2.67077687e-03, ...,\n",
       "           1.19244545e-02,   6.58290073e-03,   1.59870446e-02]]),\n",
       " array([[ 0.02985927,  0.00043664,  0.00238471, ...,  0.01064723,\n",
       "          0.00587781,  0.01427468],\n",
       "        [ 0.02985927,  0.00043664,  0.00238471, ...,  0.01064723,\n",
       "          0.00587781,  0.01427468],\n",
       "        [ 0.02985927,  0.00043664,  0.00238471, ...,  0.01064723,\n",
       "          0.00587781,  0.01427468],\n",
       "        ..., \n",
       "        [ 0.02985927,  0.00043664,  0.00238471, ...,  0.01064723,\n",
       "          0.00587781,  0.01427468],\n",
       "        [ 0.02985926,  0.00043664,  0.00238471, ...,  0.01064723,\n",
       "          0.00587781,  0.01427467],\n",
       "        [ 0.02985927,  0.00043664,  0.00238471, ...,  0.01064723,\n",
       "          0.00587781,  0.01427468]])]"
      ]
     },
     "execution_count": 44,
     "metadata": {},
     "output_type": "execute_result"
    }
   ],
   "source": [
    "new_predictions"
   ]
  }
 ],
 "metadata": {
  "kernelspec": {
   "display_name": "Python 2",
   "language": "python",
   "name": "python2"
  },
  "language_info": {
   "codemirror_mode": {
    "name": "ipython",
    "version": 2
   },
   "file_extension": ".py",
   "mimetype": "text/x-python",
   "name": "python",
   "nbconvert_exporter": "python",
   "pygments_lexer": "ipython2",
   "version": "2.7.8"
  }
 },
 "nbformat": 4,
 "nbformat_minor": 0
}
