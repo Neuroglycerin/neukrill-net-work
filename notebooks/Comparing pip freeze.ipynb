{
 "cells": [
  {
   "cell_type": "markdown",
   "metadata": {},
   "source": [
    "Comparing the output of pip in the magical venv that can run the `alexnet_based` and a fresh install that can't. Have saved both of these to different text files:"
   ]
  },
  {
   "cell_type": "code",
   "execution_count": 1,
   "metadata": {
    "collapsed": false
   },
   "outputs": [
    {
     "name": "stdout",
     "output_type": "stream",
     "text": [
      "/afs/inf.ed.ac.uk/user/s08/s0805516/repos/neukrill-net-work\n"
     ]
    }
   ],
   "source": [
    "cd .."
   ]
  },
  {
   "cell_type": "code",
   "execution_count": 2,
   "metadata": {
    "collapsed": false
   },
   "outputs": [
    {
     "name": "stdout",
     "output_type": "stream",
     "text": [
      "Jinja2==2.7.3\r\n",
      "MarkupSafe==0.23\r\n",
      "Pillow==2.7.0\r\n",
      "PyYAML==3.11\r\n",
      "Pygments==2.0.2\r\n",
      "Theano==0.6.0\r\n",
      "argparse==1.3.0\r\n",
      "backports.ssl-match-hostname==3.4.0.2\r\n",
      "certifi==14.05.14\r\n",
      "distribute==0.6.34\r\n",
      "holoviews==0.7\r\n",
      "ipython==3.0.0-rc1\r\n",
      "jsonschema==2.4.0\r\n",
      "matplotlib==1.4.3\r\n",
      "mistune==0.5\r\n",
      "mock==1.0.1\r\n",
      "-e git+git@github.com:Neuroglycerin/neukrill-net-tools.git@7b7eef9c3f9b5ba681f6d3ca55a4b457bc325a37#egg=neukrill_net-dev\r\n",
      "nose==1.3.4\r\n",
      "numpy==1.9.1\r\n",
      "param==1.2.1\r\n",
      "ptyprocess==0.4\r\n",
      "py==1.4.26\r\n",
      "-e git+git@github.com:lisa-lab/pylearn2.git@9a04142875779077b1c276c3e5db7de8c8257773#egg=pylearn2-dev\r\n",
      "pyparsing==2.0.3\r\n",
      "pytest==2.6.4\r\n",
      "python-dateutil==2.4.0\r\n",
      "pytz==2014.10\r\n",
      "pyzmq==14.5.0\r\n",
      "scikit-image==0.10.1\r\n",
      "scikit-learn==0.15.2\r\n",
      "scipy==0.14.0\r\n",
      "six==1.8.0\r\n",
      "terminado==0.4\r\n",
      "tornado==4.1\r\n",
      "wsgiref==0.1.2\r\n"
     ]
    }
   ],
   "source": [
    "!cat magical.freeze"
   ]
  },
  {
   "cell_type": "code",
   "execution_count": 3,
   "metadata": {
    "collapsed": false
   },
   "outputs": [
    {
     "name": "stdout",
     "output_type": "stream",
     "text": [
      "Jinja2==2.7.3\r\n",
      "MarkupSafe==0.23\r\n",
      "Pillow==2.7.0\r\n",
      "PyYAML==3.11\r\n",
      "Pygments==2.0.2\r\n",
      "Theano==0.6.0\r\n",
      "argparse==1.3.0\r\n",
      "backports.ssl-match-hostname==3.4.0.2\r\n",
      "certifi==14.05.14\r\n",
      "distribute==0.6.34\r\n",
      "ipython==3.0.0-rc1\r\n",
      "jsonschema==2.4.0\r\n",
      "mistune==0.5\r\n",
      "-e git+git@github.com:Neuroglycerin/neukrill-net-tools.git@7b7eef9c3f9b5ba681f6d3ca55a4b457bc325a37#egg=neukrill_net-dev\r\n",
      "nose==1.3.4\r\n",
      "numpy==1.9.1\r\n",
      "ptyprocess==0.4\r\n",
      "py==1.4.26\r\n",
      "-e git+git@github.com:lisa-lab/pylearn2.git@9a04142875779077b1c276c3e5db7de8c8257773#egg=pylearn2-dev\r\n",
      "pytest==2.6.4\r\n",
      "pyzmq==14.5.0\r\n",
      "scikit-image==0.10.1\r\n",
      "scikit-learn==0.15.2\r\n",
      "scipy==0.14.0\r\n",
      "six==1.8.0\r\n",
      "terminado==0.5\r\n",
      "tornado==4.1\r\n",
      "wsgiref==0.1.2\r\n"
     ]
    }
   ],
   "source": [
    "!cat fresh.freeze"
   ]
  },
  {
   "cell_type": "markdown",
   "metadata": {},
   "source": [
    "Comparing line by line by eye is a bit annoying, so using Python:"
   ]
  },
  {
   "cell_type": "code",
   "execution_count": 4,
   "metadata": {
    "collapsed": true
   },
   "outputs": [],
   "source": [
    "magical = []\n",
    "with open(\"magical.freeze\") as f:\n",
    "    for l in f:\n",
    "        magical.append(l)\n",
    "fresh = []\n",
    "with open(\"fresh.freeze\") as f:\n",
    "    for l in f:\n",
    "        fresh.append(l)"
   ]
  },
  {
   "cell_type": "markdown",
   "metadata": {},
   "source": [
    "Then we can just use sets to compare:"
   ]
  },
  {
   "cell_type": "code",
   "execution_count": 5,
   "metadata": {
    "collapsed": false
   },
   "outputs": [
    {
     "data": {
      "text/plain": [
       "{'holoviews==0.7\\n',\n",
       " 'matplotlib==1.4.3\\n',\n",
       " 'mock==1.0.1\\n',\n",
       " 'param==1.2.1\\n',\n",
       " 'pyparsing==2.0.3\\n',\n",
       " 'python-dateutil==2.4.0\\n',\n",
       " 'pytz==2014.10\\n',\n",
       " 'terminado==0.4\\n'}"
      ]
     },
     "execution_count": 5,
     "metadata": {},
     "output_type": "execute_result"
    }
   ],
   "source": [
    "set(magical) - set(fresh)"
   ]
  },
  {
   "cell_type": "markdown",
   "metadata": {},
   "source": [
    "Installing just those in the fresh and trying again. Installing in this order:\n",
    "\n",
    "* installed mock: __errors__"
   ]
  },
  {
   "cell_type": "code",
   "execution_count": 7,
   "metadata": {
    "collapsed": false
   },
   "outputs": [
    {
     "data": {
      "text/plain": [
       "{'holoviews==0.7\\n',\n",
       " 'matplotlib==1.4.3\\n',\n",
       " 'param==1.2.1\\n',\n",
       " 'pyparsing==2.0.3\\n',\n",
       " 'python-dateutil==2.4.0\\n',\n",
       " 'pytz==2014.10\\n',\n",
       " 'terminado==0.4\\n'}"
      ]
     },
     "execution_count": 7,
     "metadata": {},
     "output_type": "execute_result"
    }
   ],
   "source": [
    "fresh = []\n",
    "with open(\"fresh.freeze\") as f:\n",
    "    for l in f:\n",
    "        fresh.append(l)\n",
    "set(magical) - set(fresh)"
   ]
  },
  {
   "cell_type": "markdown",
   "metadata": {},
   "source": [
    "* installed pyparsing: __errors__"
   ]
  },
  {
   "cell_type": "code",
   "execution_count": 8,
   "metadata": {
    "collapsed": false
   },
   "outputs": [
    {
     "data": {
      "text/plain": [
       "{'holoviews==0.7\\n',\n",
       " 'matplotlib==1.4.3\\n',\n",
       " 'param==1.2.1\\n',\n",
       " 'pyparsing==2.0.3\\n',\n",
       " 'python-dateutil==2.4.0\\n',\n",
       " 'pytz==2014.10\\n',\n",
       " 'terminado==0.4\\n'}"
      ]
     },
     "execution_count": 8,
     "metadata": {},
     "output_type": "execute_result"
    }
   ],
   "source": [
    "fresh = []\n",
    "with open(\"fresh.freeze\") as f:\n",
    "    for l in f:\n",
    "        fresh.append(l)\n",
    "set(magical) - set(fresh)"
   ]
  },
  {
   "cell_type": "markdown",
   "metadata": {},
   "source": [
    "* installed pytz: __errors__"
   ]
  },
  {
   "cell_type": "code",
   "execution_count": 10,
   "metadata": {
    "collapsed": false
   },
   "outputs": [
    {
     "data": {
      "text/plain": [
       "{'holoviews==0.7\\n',\n",
       " 'matplotlib==1.4.3\\n',\n",
       " 'param==1.2.1\\n',\n",
       " 'python-dateutil==2.4.0\\n',\n",
       " 'terminado==0.4\\n'}"
      ]
     },
     "execution_count": 10,
     "metadata": {},
     "output_type": "execute_result"
    }
   ],
   "source": [
    "fresh = []\n",
    "with open(\"fresh.freeze\") as f:\n",
    "    for l in f:\n",
    "        fresh.append(l)\n",
    "set(magical) - set(fresh)"
   ]
  },
  {
   "cell_type": "markdown",
   "metadata": {},
   "source": [
    "* installed `terminado==0.4`: __errors__"
   ]
  },
  {
   "cell_type": "code",
   "execution_count": 13,
   "metadata": {
    "collapsed": false
   },
   "outputs": [
    {
     "data": {
      "text/plain": [
       "{'holoviews==0.7\\n',\n",
       " 'matplotlib==1.4.3\\n',\n",
       " 'param==1.2.1\\n',\n",
       " 'python-dateutil==2.4.0\\n'}"
      ]
     },
     "execution_count": 13,
     "metadata": {},
     "output_type": "execute_result"
    }
   ],
   "source": [
    "fresh = []\n",
    "with open(\"fresh.freeze\") as f:\n",
    "    for l in f:\n",
    "        fresh.append(l)\n",
    "set(magical) - set(fresh)"
   ]
  },
  {
   "cell_type": "markdown",
   "metadata": {},
   "source": [
    "* installed matplotlib: __errors__"
   ]
  },
  {
   "cell_type": "code",
   "execution_count": 14,
   "metadata": {
    "collapsed": false
   },
   "outputs": [
    {
     "data": {
      "text/plain": [
       "{'holoviews==0.7\\n', 'param==1.2.1\\n'}"
      ]
     },
     "execution_count": 14,
     "metadata": {},
     "output_type": "execute_result"
    }
   ],
   "source": [
    "fresh = []\n",
    "with open(\"fresh.freeze\") as f:\n",
    "    for l in f:\n",
    "        fresh.append(l)\n",
    "set(magical) - set(fresh)"
   ]
  },
  {
   "cell_type": "markdown",
   "metadata": {},
   "source": [
    "* installed param: __errors__"
   ]
  },
  {
   "cell_type": "code",
   "execution_count": 15,
   "metadata": {
    "collapsed": false
   },
   "outputs": [
    {
     "data": {
      "text/plain": [
       "{'holoviews==0.7\\n'}"
      ]
     },
     "execution_count": 15,
     "metadata": {},
     "output_type": "execute_result"
    }
   ],
   "source": [
    "fresh = []\n",
    "with open(\"fresh.freeze\") as f:\n",
    "    for l in f:\n",
    "        fresh.append(l)\n",
    "set(magical) - set(fresh)"
   ]
  },
  {
   "cell_type": "markdown",
   "metadata": {},
   "source": [
    "* installed holoviews: __errors__"
   ]
  },
  {
   "cell_type": "code",
   "execution_count": 18,
   "metadata": {
    "collapsed": false
   },
   "outputs": [
    {
     "data": {
      "text/plain": [
       "set()"
      ]
     },
     "execution_count": 18,
     "metadata": {},
     "output_type": "execute_result"
    }
   ],
   "source": [
    "fresh = []\n",
    "with open(\"fresh.freeze\") as f:\n",
    "    for l in f:\n",
    "        fresh.append(l)\n",
    "set(magical) - set(fresh)"
   ]
  },
  {
   "cell_type": "markdown",
   "metadata": {},
   "source": [
    "Freeze results now match exactly. Must be some other difference in the virtualenv."
   ]
  }
 ],
 "metadata": {
  "kernelspec": {
   "display_name": "Python 2",
   "language": "python",
   "name": "python2"
  },
  "language_info": {
   "codemirror_mode": {
    "name": "ipython",
    "version": 2
   },
   "file_extension": ".py",
   "mimetype": "text/x-python",
   "name": "python",
   "nbconvert_exporter": "python",
   "pygments_lexer": "ipython2",
   "version": "2.7.8"
  }
 },
 "nbformat": 4,
 "nbformat_minor": 0
}
