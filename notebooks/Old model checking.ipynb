{
 "cells": [
  {
   "cell_type": "code",
   "execution_count": 1,
   "metadata": {
    "collapsed": false
   },
   "outputs": [
    {
     "name": "stderr",
     "output_type": "stream",
     "text": [
      "Using gpu device 0: Tesla K40c\n",
      ":0: FutureWarning: IPython widgets are experimental and may change in the future.\n"
     ]
    },
    {
     "name": "stdout",
     "output_type": "stream",
     "text": [
      "Welcome to the HoloViews IPython extension! (http://ioam.github.io/holoviews/)\n",
      "Available magics: %compositor, %opts, %params, %view, %%labels, %%opts, %%view\n"
     ]
    },
    {
     "data": {
      "text/plain": [
       "<matplotlib.figure.Figure at 0x7fe4a3685510>"
      ]
     },
     "metadata": {},
     "output_type": "display_data"
    },
    {
     "data": {
      "text/plain": [
       "<matplotlib.figure.Figure at 0x7fe4a3685bd0>"
      ]
     },
     "metadata": {},
     "output_type": "display_data"
    },
    {
     "data": {
      "text/plain": [
       "<matplotlib.figure.Figure at 0x7fe4a36859d0>"
      ]
     },
     "metadata": {},
     "output_type": "display_data"
    }
   ],
   "source": [
    "import pylearn2.utils\n",
    "import pylearn2.config\n",
    "import theano\n",
    "import neukrill_net.dense_dataset\n",
    "import neukrill_net.utils\n",
    "import numpy as np\n",
    "%matplotlib inline\n",
    "import matplotlib.pyplot as plt\n",
    "import holoviews as hl\n",
    "%load_ext holoviews.ipython\n",
    "import sklearn.metrics"
   ]
  },
  {
   "cell_type": "markdown",
   "metadata": {},
   "source": [
    "Replicate 8aug\n",
    "=====\n",
    "\n",
    "We saw this score a very respectable 0.75 on `check_test_score.py`, but then repeating this test later could not reproduce the score."
   ]
  },
  {
   "cell_type": "code",
   "execution_count": 3,
   "metadata": {
    "collapsed": true
   },
   "outputs": [],
   "source": [
    "m = pylearn2.utils.serial.load(\n",
    "    \"/disk/scratch/neuroglycerin/models/replicate_8aug.pkl\")"
   ]
  },
  {
   "cell_type": "code",
   "execution_count": 5,
   "metadata": {
    "collapsed": false
   },
   "outputs": [
    {
     "name": "stdout",
     "output_type": "stream",
     "text": [
      "h1\n",
      "\tInput space: Conv2DSpace(shape=(48, 48), num_channels=1, axes=('b', 0, 1, 'c'), dtype=float32)\n",
      "\tTotal input dimension: 2304\n",
      "h2\n",
      "\tInput space: Conv2DSpace(shape=(21, 21), num_channels=48, axes=('b', 'c', 0, 1), dtype=float32)\n",
      "\tTotal input dimension: 21168\n",
      "h3\n",
      "\tInput space: Conv2DSpace(shape=(9, 9), num_channels=96, axes=('b', 'c', 0, 1), dtype=float32)\n",
      "\tTotal input dimension: 7776\n",
      "h4\n",
      "\tInput space: Conv2DSpace(shape=(11, 11), num_channels=128, axes=('b', 'c', 0, 1), dtype=float32)\n",
      "\tTotal input dimension: 15488\n",
      "h5\n",
      "\tInput space: Conv2DSpace(shape=(7, 7), num_channels=128, axes=('b', 'c', 0, 1), dtype=float32)\n",
      "\tTotal input dimension: 6272\n",
      "y\n",
      "\tInput space: VectorSpace(dim=1024, dtype=float32)\n",
      "\tTotal input dimension: 1024\n"
     ]
    }
   ],
   "source": [
    "print(m)"
   ]
  },
  {
   "cell_type": "code",
   "execution_count": 6,
   "metadata": {
    "collapsed": true
   },
   "outputs": [],
   "source": [
    "nll_channels = [c for c in m.monitor.channels.keys() if 'nll' in c]"
   ]
  },
  {
   "cell_type": "code",
   "execution_count": 7,
   "metadata": {
    "collapsed": true
   },
   "outputs": [],
   "source": [
    "import neukrill_net.plotting as pl"
   ]
  },
  {
   "cell_type": "code",
   "execution_count": 10,
   "metadata": {
    "collapsed": false
   },
   "outputs": [
    {
     "data": {
      "text/html": [
       "<center><img src='data:image/png;base64,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' style='max-width:100%'/><center/>"
      ],
      "text/plain": [
       "   Train_y_nll\n",
       "      I : Curve.Train_y_nll   (y)\n",
       "   Valid_y_nll\n",
       "      I : Curve.Valid_y_nll   (y)"
      ]
     },
     "execution_count": 10,
     "metadata": {},
     "output_type": "execute_result"
    }
   ],
   "source": [
    "pl.monitor_channels(m, nll_channels, x_axis='time')"
   ]
  },
  {
   "cell_type": "code",
   "execution_count": 11,
   "metadata": {
    "collapsed": false
   },
   "outputs": [
    {
     "data": {
      "text/plain": [
       "86400"
      ]
     },
     "execution_count": 11,
     "metadata": {},
     "output_type": "execute_result"
    }
   ],
   "source": [
    "24*60*60"
   ]
  },
  {
   "cell_type": "code",
   "execution_count": 13,
   "metadata": {
    "collapsed": false
   },
   "outputs": [
    {
     "name": "stdout",
     "output_type": "stream",
     "text": [
      "epochs seen:  500\n",
      "time trained:  116198.584227\n",
      "learning_rate : 0.00246499781497\n",
      "momentum : 0.950000703335\n",
      "total_seconds_last_epoch : 234.423736572\n",
      "train_h1_kernel_norms_max : 1.93650114536\n",
      "train_h1_kernel_norms_mean : 1.11308705807\n",
      "train_h1_kernel_norms_min : 0.288871735334\n",
      "train_h1_max_x_max_u : 21.2930374146\n",
      "train_h1_max_x_mean_u : 3.37690377235\n",
      "train_h1_max_x_min_u : 0.0281044077128\n",
      "train_h1_mean_x_max_u : 6.79862976074\n",
      "train_h1_mean_x_mean_u : 0.561039626598\n",
      "train_h1_mean_x_min_u : 0.00111330486834\n",
      "train_h1_min_x_max_u : 1.32200133801\n",
      "train_h1_min_x_mean_u : 0.0251323096454\n",
      "train_h1_min_x_min_u : 0.0\n",
      "train_h1_range_x_max_u : 21.2657623291\n",
      "train_h1_range_x_mean_u : 3.35177087784\n",
      "train_h1_range_x_min_u : 0.0278045255691\n",
      "train_h2_kernel_norms_max : 1.93650114536\n",
      "train_h2_kernel_norms_mean : 1.92801177502\n",
      "train_h2_kernel_norms_min : 1.78207170963\n",
      "train_h2_max_x_max_u : 35.5317726135\n",
      "train_h2_max_x_mean_u : 7.22665548325\n",
      "train_h2_max_x_min_u : 0.0\n",
      "train_h2_mean_x_max_u : 7.86044692993\n",
      "train_h2_mean_x_mean_u : 0.582683205605\n",
      "train_h2_mean_x_min_u : 0.0\n",
      "train_h2_min_x_max_u : 0.308276355267\n",
      "train_h2_min_x_mean_u : 9.20934398891e-05\n",
      "train_h2_min_x_min_u : 0.0\n",
      "train_h2_range_x_max_u : 35.5317726135\n",
      "train_h2_range_x_mean_u : 7.2265625\n",
      "train_h2_range_x_min_u : 0.0\n",
      "train_h3_kernel_norms_max : 1.93650114536\n",
      "train_h3_kernel_norms_mean : 1.64769792557\n",
      "train_h3_kernel_norms_min : 0.176338449121\n",
      "train_h3_max_x_max_u : 33.3718070984\n",
      "train_h3_max_x_mean_u : 3.96520900726\n",
      "train_h3_max_x_min_u : 0.0\n",
      "train_h3_mean_x_max_u : 6.55444574356\n",
      "train_h3_mean_x_mean_u : 0.283982664347\n",
      "train_h3_mean_x_min_u : 0.0\n",
      "train_h3_min_x_max_u : 0.961489021778\n",
      "train_h3_min_x_mean_u : 0.000388652755646\n",
      "train_h3_min_x_min_u : 0.0\n",
      "train_h3_range_x_max_u : 33.3718070984\n",
      "train_h3_range_x_mean_u : 3.96482205391\n",
      "train_h3_range_x_min_u : 0.0\n",
      "train_h4_kernel_norms_max : 1.93650114536\n",
      "train_h4_kernel_norms_mean : 1.78286504745\n",
      "train_h4_kernel_norms_min : 1.12213635445\n",
      "train_h4_max_x_max_u : 17.3449306488\n",
      "train_h4_max_x_mean_u : 2.344653368\n",
      "train_h4_max_x_min_u : 0.0\n",
      "train_h4_mean_x_max_u : 3.90936183929\n",
      "train_h4_mean_x_mean_u : 0.203701034188\n",
      "train_h4_mean_x_min_u : 0.0\n",
      "train_h4_min_x_max_u : 0.18093931675\n",
      "train_h4_min_x_mean_u : 0.000186214063433\n",
      "train_h4_min_x_min_u : 0.0\n",
      "train_h4_range_x_max_u : 17.342086792\n",
      "train_h4_range_x_mean_u : 2.34446763992\n",
      "train_h4_range_x_min_u : 0.0\n",
      "train_h5_col_norms_max : 1.76101565361\n",
      "train_h5_col_norms_mean : 1.58509230614\n",
      "train_h5_col_norms_min : 1.49481832981\n",
      "train_h5_max_x_max_u : 12.7619743347\n",
      "train_h5_max_x_mean_u : 2.09902739525\n",
      "train_h5_max_x_min_u : 0.0\n",
      "train_h5_mean_x_max_u : 4.70505046844\n",
      "train_h5_mean_x_mean_u : 0.270678699017\n",
      "train_h5_mean_x_min_u : 0.0\n",
      "train_h5_min_x_max_u : 0.291980475187\n",
      "train_h5_min_x_mean_u : 0.000761754694395\n",
      "train_h5_min_x_min_u : 0.0\n",
      "train_h5_range_x_max_u : 12.7124509811\n",
      "train_h5_range_x_mean_u : 2.09826588631\n",
      "train_h5_range_x_min_u : 0.0\n",
      "train_h5_row_norms_max : 0.878125965595\n",
      "train_h5_row_norms_mean : 0.639623522758\n",
      "train_h5_row_norms_min : 0.5652115345\n",
      "train_objective : 0.756708323956\n",
      "train_term_0 : 0.56581568718\n",
      "train_term_1_weight_decay : 0.190048232675\n",
      "train_y_col_norms_max : 1.93658566475\n",
      "train_y_col_norms_mean : 1.9063782692\n",
      "train_y_col_norms_min : 1.72910737991\n",
      "train_y_max_max_class : 0.994940757751\n",
      "train_y_mean_max_class : 0.808819115162\n",
      "train_y_min_max_class : 0.284907847643\n",
      "train_y_misclass : 0.119460858405\n",
      "train_y_nll : 0.376931220293\n",
      "train_y_row_norms_max : 1.1036041975\n",
      "train_y_row_norms_mean : 0.638323545456\n",
      "train_y_row_norms_min : 0.421794861555\n",
      "training_seconds_this_epoch : 121.919075012\n",
      "valid_h1_kernel_norms_max : 1.93649935722\n",
      "valid_h1_kernel_norms_mean : 1.11308765411\n",
      "valid_h1_kernel_norms_min : 0.288871347904\n",
      "valid_h1_max_x_max_u : 21.9791412354\n",
      "valid_h1_max_x_mean_u : 3.71347975731\n",
      "valid_h1_max_x_min_u : 0.0598256438971\n",
      "valid_h1_mean_x_max_u : 6.5739197731\n",
      "valid_h1_mean_x_mean_u : 0.562204480171\n",
      "valid_h1_mean_x_min_u : 0.00217976444401\n",
      "valid_h1_min_x_max_u : 0.951017916203\n",
      "valid_h1_min_x_mean_u : 0.0173420961946\n",
      "valid_h1_min_x_min_u : 0.0\n",
      "valid_h1_range_x_max_u : 21.9537410736\n",
      "valid_h1_range_x_mean_u : 3.69613742828\n",
      "valid_h1_range_x_min_u : 0.0598256438971\n",
      "valid_h2_kernel_norms_max : 1.93649971485\n",
      "valid_h2_kernel_norms_mean : 1.92801344395\n",
      "valid_h2_kernel_norms_min : 1.78206908703\n",
      "valid_h2_max_x_max_u : 37.8174438477\n",
      "valid_h2_max_x_mean_u : 8.10381507874\n",
      "valid_h2_max_x_min_u : 0.0\n",
      "valid_h2_mean_x_max_u : 6.91406440735\n",
      "valid_h2_mean_x_mean_u : 0.585217535496\n",
      "valid_h2_mean_x_min_u : 0.0\n",
      "valid_h2_min_x_max_u : 0.0993008315563\n",
      "valid_h2_min_x_mean_u : 2.43044160015e-05\n",
      "valid_h2_min_x_min_u : 0.0\n",
      "valid_h2_range_x_max_u : 37.8174438477\n",
      "valid_h2_range_x_mean_u : 8.10379123688\n",
      "valid_h2_range_x_min_u : 0.0\n",
      "valid_h3_kernel_norms_max : 1.93649971485\n",
      "valid_h3_kernel_norms_mean : 1.64769494534\n",
      "valid_h3_kernel_norms_min : 0.176338732243\n",
      "valid_h3_max_x_max_u : 35.5169258118\n",
      "valid_h3_max_x_mean_u : 4.46435785294\n",
      "valid_h3_max_x_min_u : 0.0\n",
      "valid_h3_mean_x_max_u : 5.43393850327\n",
      "valid_h3_mean_x_mean_u : 0.284983724356\n",
      "valid_h3_mean_x_min_u : 0.0\n",
      "valid_h3_min_x_max_u : 0.980133354664\n",
      "valid_h3_min_x_mean_u : 0.000275172758847\n",
      "valid_h3_min_x_min_u : 0.0\n",
      "valid_h3_range_x_max_u : 35.5169258118\n",
      "valid_h3_range_x_mean_u : 4.46408319473\n",
      "valid_h3_range_x_min_u : 0.0\n",
      "valid_h4_kernel_norms_max : 1.93649971485\n",
      "valid_h4_kernel_norms_mean : 1.78286409378\n",
      "valid_h4_kernel_norms_min : 1.122138381\n",
      "valid_h4_max_x_max_u : 19.5059318542\n",
      "valid_h4_max_x_mean_u : 2.65247559547\n",
      "valid_h4_max_x_min_u : 0.0\n",
      "valid_h4_mean_x_max_u : 3.10162758827\n",
      "valid_h4_mean_x_mean_u : 0.202698975801\n",
      "valid_h4_mean_x_min_u : 0.0\n",
      "valid_h4_min_x_max_u : 0.0986142158508\n",
      "valid_h4_min_x_mean_u : 0.000115503193229\n",
      "valid_h4_min_x_min_u : 0.0\n",
      "valid_h4_range_x_max_u : 19.5059318542\n",
      "valid_h4_range_x_mean_u : 2.65235996246\n",
      "valid_h4_range_x_min_u : 0.0\n",
      "valid_h5_col_norms_max : 1.76101768017\n",
      "valid_h5_col_norms_mean : 1.58509266376\n",
      "valid_h5_col_norms_min : 1.49482023716\n",
      "valid_h5_max_x_max_u : 14.3120355606\n",
      "valid_h5_max_x_mean_u : 2.87534594536\n",
      "valid_h5_max_x_min_u : 0.0\n",
      "valid_h5_mean_x_max_u : 3.59147238731\n",
      "valid_h5_mean_x_mean_u : 0.270471811295\n",
      "valid_h5_mean_x_min_u : 0.0\n",
      "valid_h5_min_x_max_u : 0.042152069509\n",
      "valid_h5_min_x_mean_u : 6.2061692006e-05\n",
      "valid_h5_min_x_min_u : 0.0\n",
      "valid_h5_range_x_max_u : 14.3120355606\n",
      "valid_h5_range_x_mean_u : 2.87528395653\n",
      "valid_h5_range_x_min_u : 0.0\n",
      "valid_h5_row_norms_max : 0.878125071526\n",
      "valid_h5_row_norms_mean : 0.6396240592\n",
      "valid_h5_row_norms_min : 0.565209984779\n",
      "valid_objective : 1.35425674915\n",
      "valid_term_0 : 1.20305752754\n",
      "valid_term_1_weight_decay : 0.190048485994\n",
      "valid_y_col_norms_max : 1.93658077717\n",
      "valid_y_col_norms_mean : 1.90638029575\n",
      "valid_y_col_norms_min : 1.72910773754\n",
      "valid_y_max_max_class : 0.998773038387\n",
      "valid_y_mean_max_class : 0.768327474594\n",
      "valid_y_min_max_class : 0.210101738572\n",
      "valid_y_misclass : 0.267323374748\n",
      "valid_y_nll : 0.930146455765\n",
      "valid_y_row_norms_max : 1.10360431671\n",
      "valid_y_row_norms_mean : 0.638322591782\n",
      "valid_y_row_norms_min : 0.421795189381\n"
     ]
    }
   ],
   "source": [
    "%run ~/repos/pylearn2/pylearn2/scripts/print_monitor.py /disk/scratch/neuroglycerin/models/replicate_8aug_recent.pkl"
   ]
  },
  {
   "cell_type": "markdown",
   "metadata": {},
   "source": [
    "40aug\n",
    "===\n",
    "\n",
    "This currently produced our best score on the leaderboard, can reproduce a `check_test_score` of 0.73. Trying to run it again to improve on its score we want to know how long an epoch takes, because it seems like it's taking far too long now:"
   ]
  },
  {
   "cell_type": "code",
   "execution_count": 14,
   "metadata": {
    "collapsed": false
   },
   "outputs": [
    {
     "name": "stdout",
     "output_type": "stream",
     "text": [
      "epochs seen:  17\n",
      "time trained:  60084.537869\n",
      "learning_rate : 0.0336977280676\n",
      "momentum : 0.799990355968\n",
      "total_seconds_last_epoch : 3460.70043945\n",
      "train_h1_kernel_norms_max : 1.93638002872\n",
      "train_h1_kernel_norms_mean : 1.35616624355\n",
      "train_h1_kernel_norms_min : 0.596906483173\n",
      "train_h1_max_x_max_u : 13.6937503815\n",
      "train_h1_max_x_mean_u : 3.1057240963\n",
      "train_h1_max_x_min_u : 0.0213607456535\n",
      "train_h1_mean_x_max_u : 2.93430781364\n",
      "train_h1_mean_x_mean_u : 0.595335006714\n",
      "train_h1_mean_x_min_u : 0.00120134581812\n",
      "train_h1_min_x_max_u : 1.22280919552\n",
      "train_h1_min_x_mean_u : 0.0397124737501\n",
      "train_h1_min_x_min_u : 0.0\n",
      "train_h1_range_x_max_u : 13.6927280426\n",
      "train_h1_range_x_mean_u : 3.06600475311\n",
      "train_h1_range_x_min_u : 0.0213216785342\n",
      "train_h2_kernel_norms_max : 1.93638002872\n",
      "train_h2_kernel_norms_mean : 1.92026364803\n",
      "train_h2_kernel_norms_min : 1.53414034843\n",
      "train_h2_max_x_max_u : 26.5702266693\n",
      "train_h2_max_x_mean_u : 5.99680089951\n",
      "train_h2_max_x_min_u : 0.0\n",
      "train_h2_mean_x_max_u : 6.19980716705\n",
      "train_h2_mean_x_mean_u : 0.475431472063\n",
      "train_h2_mean_x_min_u : 0.0\n",
      "train_h2_min_x_max_u : 0.836956202984\n",
      "train_h2_min_x_mean_u : 0.000608802016359\n",
      "train_h2_min_x_min_u : 0.0\n",
      "train_h2_range_x_max_u : 26.569984436\n",
      "train_h2_range_x_mean_u : 5.99619340897\n",
      "train_h2_range_x_min_u : 0.0\n",
      "train_h3_kernel_norms_max : 1.93638002872\n",
      "train_h3_kernel_norms_mean : 1.62886679173\n",
      "train_h3_kernel_norms_min : 0.0505870878696\n",
      "train_h3_max_x_max_u : 33.9597854614\n",
      "train_h3_max_x_mean_u : 3.78859257698\n",
      "train_h3_max_x_min_u : 0.0\n",
      "train_h3_mean_x_max_u : 5.42204046249\n",
      "train_h3_mean_x_mean_u : 0.235156401992\n",
      "train_h3_mean_x_min_u : 0.0\n",
      "train_h3_min_x_max_u : 0.640100717545\n",
      "train_h3_min_x_mean_u : 0.000289711373625\n",
      "train_h3_min_x_min_u : 0.0\n",
      "train_h3_range_x_max_u : 33.9597854614\n",
      "train_h3_range_x_mean_u : 3.78830170631\n",
      "train_h3_range_x_min_u : 0.0\n",
      "train_h4_kernel_norms_max : 1.93638002872\n",
      "train_h4_kernel_norms_mean : 1.90925300121\n",
      "train_h4_kernel_norms_min : 1.6956154108\n",
      "train_h4_max_x_max_u : 26.0810832977\n",
      "train_h4_max_x_mean_u : 2.00663924217\n",
      "train_h4_max_x_min_u : 0.0\n",
      "train_h4_mean_x_max_u : 4.55424356461\n",
      "train_h4_mean_x_mean_u : 0.130693122745\n",
      "train_h4_mean_x_min_u : 0.0\n",
      "train_h4_min_x_max_u : 1.31998848915\n",
      "train_h4_min_x_mean_u : 0.00137632351834\n",
      "train_h4_min_x_min_u : 0.0\n",
      "train_h4_range_x_max_u : 26.0810260773\n",
      "train_h4_range_x_mean_u : 2.00526547432\n",
      "train_h4_range_x_min_u : 0.0\n",
      "train_h5_kernel_norms_max : 1.93638002872\n",
      "train_h5_kernel_norms_mean : 1.93380451202\n",
      "train_h5_kernel_norms_min : 1.92012882233\n",
      "train_h5_max_x_max_u : 13.17395401\n",
      "train_h5_max_x_mean_u : 1.37474024296\n",
      "train_h5_max_x_min_u : 0.0\n",
      "train_h5_mean_x_max_u : 4.09551715851\n",
      "train_h5_mean_x_mean_u : 0.130941078067\n",
      "train_h5_mean_x_min_u : 0.0\n",
      "train_h5_min_x_max_u : 0.483860075474\n",
      "train_h5_min_x_mean_u : 0.00117333873641\n",
      "train_h5_min_x_min_u : 0.0\n",
      "train_h5_range_x_max_u : 13.1613893509\n",
      "train_h5_range_x_mean_u : 1.37356984615\n",
      "train_h5_range_x_min_u : 0.0\n",
      "train_h6_col_norms_max : 1.60248053074\n",
      "train_h6_col_norms_mean : 1.28792405128\n",
      "train_h6_col_norms_min : 1.04528415203\n",
      "train_h6_max_x_max_u : 8.44171142578\n",
      "train_h6_max_x_mean_u : 1.08287870884\n",
      "train_h6_max_x_min_u : 0.0\n",
      "train_h6_mean_x_max_u : 3.97602248192\n",
      "train_h6_mean_x_mean_u : 0.220121502876\n",
      "train_h6_mean_x_min_u : 0.0\n",
      "train_h6_min_x_max_u : 1.22485494614\n",
      "train_h6_min_x_mean_u : 0.00907312147319\n",
      "train_h6_min_x_min_u : 0.0\n",
      "train_h6_range_x_max_u : 8.20148468018\n",
      "train_h6_range_x_mean_u : 1.07380461693\n",
      "train_h6_range_x_min_u : 0.0\n",
      "train_h6_row_norms_max : 0.786944627762\n",
      "train_h6_row_norms_mean : 0.450649410486\n",
      "train_h6_row_norms_min : 0.345433861017\n",
      "train_objective : 0.84613275528\n",
      "train_term_0 : 0.659224331379\n",
      "train_term_1_weight_decay : 0.187527149916\n",
      "train_y_col_norms_max : 1.93700659275\n",
      "train_y_col_norms_mean : 1.9262098074\n",
      "train_y_col_norms_min : 1.90836548805\n",
      "train_y_max_max_class : 0.978743433952\n",
      "train_y_mean_max_class : 0.784286081791\n",
      "train_y_min_max_class : 0.392142772675\n",
      "train_y_misclass : 0.175745591521\n",
      "train_y_nll : 0.510856807232\n",
      "train_y_row_norms_max : 1.25182676315\n",
      "train_y_row_norms_mean : 0.632678091526\n",
      "train_y_row_norms_min : 0.356613516808\n",
      "training_seconds_this_epoch : 2196.15625\n",
      "valid_h1_kernel_norms_max : 1.93650114536\n",
      "valid_h1_kernel_norms_mean : 1.35622668266\n",
      "valid_h1_kernel_norms_min : 0.59694737196\n",
      "valid_h1_max_x_max_u : 13.7206487656\n",
      "valid_h1_max_x_mean_u : 3.11965560913\n",
      "valid_h1_max_x_min_u : 0.021165728569\n",
      "valid_h1_mean_x_max_u : 2.90783452988\n",
      "valid_h1_mean_x_mean_u : 0.595590949059\n",
      "valid_h1_mean_x_min_u : 0.00114858790766\n",
      "valid_h1_min_x_max_u : 1.23822116852\n",
      "valid_h1_min_x_mean_u : 0.0402010977268\n",
      "valid_h1_min_x_min_u : 0.0\n",
      "valid_h1_range_x_max_u : 13.7185506821\n",
      "valid_h1_range_x_mean_u : 3.07945036888\n",
      "valid_h1_range_x_min_u : 0.021165728569\n",
      "valid_h2_kernel_norms_max : 1.93650114536\n",
      "valid_h2_kernel_norms_mean : 1.920368433\n",
      "valid_h2_kernel_norms_min : 1.53422045708\n",
      "valid_h2_max_x_max_u : 26.5482730865\n",
      "valid_h2_max_x_mean_u : 6.02183151245\n",
      "valid_h2_max_x_min_u : 0.0\n",
      "valid_h2_mean_x_max_u : 6.17868995667\n",
      "valid_h2_mean_x_mean_u : 0.474142670631\n",
      "valid_h2_mean_x_min_u : 0.0\n",
      "valid_h2_min_x_max_u : 0.836830914021\n",
      "valid_h2_min_x_mean_u : 0.000649648776744\n",
      "valid_h2_min_x_min_u : 0.0\n",
      "valid_h2_range_x_max_u : 26.5482730865\n",
      "valid_h2_range_x_mean_u : 6.02118015289\n",
      "valid_h2_range_x_min_u : 0.0\n",
      "valid_h3_kernel_norms_max : 1.93650114536\n",
      "valid_h3_kernel_norms_mean : 1.62895929813\n",
      "valid_h3_kernel_norms_min : 0.0505916513503\n",
      "valid_h3_max_x_max_u : 34.1666259766\n",
      "valid_h3_max_x_mean_u : 3.80540680885\n",
      "valid_h3_max_x_min_u : 0.0\n",
      "valid_h3_mean_x_max_u : 5.39168071747\n",
      "valid_h3_mean_x_mean_u : 0.234537094831\n",
      "valid_h3_mean_x_min_u : 0.0\n",
      "valid_h3_min_x_max_u : 0.638080120087\n",
      "valid_h3_min_x_mean_u : 0.000308986345772\n",
      "valid_h3_min_x_min_u : 0.0\n",
      "valid_h3_range_x_max_u : 34.1653251648\n",
      "valid_h3_range_x_mean_u : 3.80509710312\n",
      "valid_h3_range_x_min_u : 0.0\n",
      "valid_h4_kernel_norms_max : 1.93650114536\n",
      "valid_h4_kernel_norms_mean : 1.90923202038\n",
      "valid_h4_kernel_norms_min : 1.69567453861\n",
      "valid_h4_max_x_max_u : 26.0974369049\n",
      "valid_h4_max_x_mean_u : 2.01534891129\n",
      "valid_h4_max_x_min_u : 0.0\n",
      "valid_h4_mean_x_max_u : 4.54664421082\n",
      "valid_h4_mean_x_mean_u : 0.130625426769\n",
      "valid_h4_mean_x_min_u : 0.0\n",
      "valid_h4_min_x_max_u : 1.32924878597\n",
      "valid_h4_min_x_mean_u : 0.00139644113369\n",
      "valid_h4_min_x_min_u : 0.0\n",
      "valid_h4_range_x_max_u : 26.0949039459\n",
      "valid_h4_range_x_mean_u : 2.0139529705\n",
      "valid_h4_range_x_min_u : 0.0\n",
      "valid_h5_kernel_norms_max : 1.93650114536\n",
      "valid_h5_kernel_norms_mean : 1.93391013145\n",
      "valid_h5_kernel_norms_min : 1.92019450665\n",
      "valid_h5_max_x_max_u : 13.2602205276\n",
      "valid_h5_max_x_mean_u : 1.38517105579\n",
      "valid_h5_max_x_min_u : 0.0\n",
      "valid_h5_mean_x_max_u : 4.03805446625\n",
      "valid_h5_mean_x_mean_u : 0.130840376019\n",
      "valid_h5_mean_x_min_u : 0.0\n",
      "valid_h5_min_x_max_u : 0.503250002861\n",
      "valid_h5_min_x_mean_u : 0.0012131575495\n",
      "valid_h5_min_x_min_u : 0.0\n",
      "valid_h5_range_x_max_u : 13.2500104904\n",
      "valid_h5_range_x_mean_u : 1.38395893574\n",
      "valid_h5_range_x_min_u : 0.0\n",
      "valid_h6_col_norms_max : 1.60251915455\n",
      "valid_h6_col_norms_mean : 1.28799462318\n",
      "valid_h6_col_norms_min : 1.0452644825\n",
      "valid_h6_max_x_max_u : 8.41934204102\n",
      "valid_h6_max_x_mean_u : 1.11460709572\n",
      "valid_h6_max_x_min_u : 0.0\n",
      "valid_h6_mean_x_max_u : 3.90538525581\n",
      "valid_h6_mean_x_mean_u : 0.220577970147\n",
      "valid_h6_mean_x_min_u : 0.0\n",
      "valid_h6_min_x_max_u : 1.1610366106\n",
      "valid_h6_min_x_mean_u : 0.00926616601646\n",
      "valid_h6_min_x_min_u : 0.0\n",
      "valid_h6_range_x_max_u : 8.18502426147\n",
      "valid_h6_range_x_mean_u : 1.10534024239\n",
      "valid_h6_range_x_min_u : 0.0\n",
      "valid_h6_row_norms_max : 0.787031650543\n",
      "valid_h6_row_norms_mean : 0.450638890266\n",
      "valid_h6_row_norms_min : 0.345452129841\n",
      "valid_objective : 1.24309790134\n",
      "valid_term_0 : 1.05572426319\n",
      "valid_term_1_weight_decay : 0.187510609627\n",
      "valid_y_col_norms_max : 1.93684518337\n",
      "valid_y_col_norms_mean : 1.9260481596\n",
      "valid_y_col_norms_min : 1.90844333172\n",
      "valid_y_max_max_class : 0.978767514229\n",
      "valid_y_mean_max_class : 0.766849458218\n",
      "valid_y_min_max_class : 0.368054032326\n",
      "valid_y_misclass : 0.264732033014\n",
      "valid_y_nll : 0.885051608086\n",
      "valid_y_row_norms_max : 1.25187587738\n",
      "valid_y_row_norms_mean : 0.632696509361\n",
      "valid_y_row_norms_min : 0.356583625078\n"
     ]
    }
   ],
   "source": [
    "%run ~/repos/pylearn2/pylearn2/scripts/print_monitor.py /disk/scratch/neuroglycerin/models/alexnet_based_40aug.pkl"
   ]
  },
  {
   "cell_type": "code",
   "execution_count": 16,
   "metadata": {
    "collapsed": false
   },
   "outputs": [
    {
     "data": {
      "text/plain": [
       "58.906409675490195"
      ]
     },
     "execution_count": 16,
     "metadata": {},
     "output_type": "execute_result"
    }
   ],
   "source": [
    "60084.537869/(17*60)"
   ]
  },
  {
   "cell_type": "code",
   "execution_count": 17,
   "metadata": {
    "collapsed": true
   },
   "outputs": [],
   "source": [
    "m = pylearn2.utils.serial.load(\n",
    "        \"/disk/scratch/neuroglycerin/models/alexnet_based_40aug.pkl\")"
   ]
  },
  {
   "cell_type": "code",
   "execution_count": 18,
   "metadata": {
    "collapsed": false
   },
   "outputs": [
    {
     "data": {
      "text/html": [
       "<center><img src='data:image/png;base64,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' style='max-width:100%'/><center/>"
      ],
      "text/plain": [
       "   Train_y_nll\n",
       "      I : Curve.Train_y_nll   (y)\n",
       "   Valid_y_nll\n",
       "      I : Curve.Valid_y_nll   (y)"
      ]
     },
     "execution_count": 18,
     "metadata": {},
     "output_type": "execute_result"
    }
   ],
   "source": [
    "pl.monitor_channels(m, nll_channels, x_axis='time')"
   ]
  },
  {
   "cell_type": "code",
   "execution_count": 22,
   "metadata": {
    "collapsed": false
   },
   "outputs": [
    {
     "data": {
      "text/html": [
       "<center><img src='data:image/png;base64,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' style='max-width:100%'/><center/>"
      ],
      "text/plain": [
       "Curve.Learning_rate   (y)"
      ]
     },
     "execution_count": 22,
     "metadata": {},
     "output_type": "execute_result"
    }
   ],
   "source": [
    "pl.monitor_channels(m,['learning_rate'], x_axis='epoch')"
   ]
  },
  {
   "cell_type": "markdown",
   "metadata": {},
   "source": [
    "Continuing 40aug\n",
    "--------------\n",
    "\n",
    "Tried continuing this model with a different learning rate schedule."
   ]
  },
  {
   "cell_type": "code",
   "execution_count": 23,
   "metadata": {
    "collapsed": true
   },
   "outputs": [],
   "source": [
    "m = pylearn2.utils.serial.load(\n",
    "        \"/disk/scratch/neuroglycerin/models/resume_40aug_recent.pkl\")"
   ]
  },
  {
   "cell_type": "code",
   "execution_count": 24,
   "metadata": {
    "collapsed": false
   },
   "outputs": [
    {
     "data": {
      "text/html": [
       "<center><img src='data:image/png;base64,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' style='max-width:100%'/><center/>"
      ],
      "text/plain": [
       "   Train_y_nll\n",
       "      I : Curve.Train_y_nll   (y)\n",
       "   Valid_y_nll\n",
       "      I : Curve.Valid_y_nll   (y)"
      ]
     },
     "execution_count": 24,
     "metadata": {},
     "output_type": "execute_result"
    }
   ],
   "source": [
    "pl.monitor_channels(m, nll_channels, x_axis='time')"
   ]
  },
  {
   "cell_type": "code",
   "execution_count": 25,
   "metadata": {
    "collapsed": false
   },
   "outputs": [
    {
     "data": {
      "text/html": [
       "<center><img src='data:image/png;base64,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' style='max-width:100%'/><center/>"
      ],
      "text/plain": [
       "Curve.Learning_rate   (y)"
      ]
     },
     "execution_count": 25,
     "metadata": {},
     "output_type": "execute_result"
    }
   ],
   "source": [
    "pl.monitor_channels(m,['learning_rate'], x_axis='epoch')"
   ]
  },
  {
   "cell_type": "markdown",
   "metadata": {},
   "source": [
    "Looks like something about the model is definitely broken."
   ]
  },
  {
   "cell_type": "markdown",
   "metadata": {},
   "source": [
    "Replicate 8aug with LR tuning\n",
    "==========\n",
    "\n",
    "These settings were badly written, and I didn't check just after starting it, so it was very unlikely to work, but might as well look at how bad it was:"
   ]
  },
  {
   "cell_type": "code",
   "execution_count": 26,
   "metadata": {
    "collapsed": true
   },
   "outputs": [],
   "source": [
    "m = pylearn2.utils.serial.load(\n",
    "        \"/disk/scratch/neuroglycerin/models/replicate_8aug_lrschedule.pkl\")"
   ]
  },
  {
   "cell_type": "code",
   "execution_count": 27,
   "metadata": {
    "collapsed": false
   },
   "outputs": [
    {
     "data": {
      "text/html": [
       "<center><img src='data:image/png;base64,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' style='max-width:100%'/><center/>"
      ],
      "text/plain": [
       "   Train_y_nll\n",
       "      I : Curve.Train_y_nll   (y)\n",
       "   Valid_y_nll\n",
       "      I : Curve.Valid_y_nll   (y)"
      ]
     },
     "execution_count": 27,
     "metadata": {},
     "output_type": "execute_result"
    }
   ],
   "source": [
    "pl.monitor_channels(m, nll_channels, x_axis='time')"
   ]
  },
  {
   "cell_type": "markdown",
   "metadata": {},
   "source": [
    "Validation score failed to reach anywhere what it manages above, with only a slight change to the learning rate schedule. Could be something else is going wrong somewhere. Could try rolling back changes to the state we were at when running replicate 8aug originally."
   ]
  }
 ],
 "metadata": {
  "kernelspec": {
   "display_name": "Python 2",
   "language": "python",
   "name": "python2"
  },
  "language_info": {
   "codemirror_mode": {
    "name": "ipython",
    "version": 2
   },
   "file_extension": ".py",
   "mimetype": "text/x-python",
   "name": "python",
   "nbconvert_exporter": "python",
   "pygments_lexer": "ipython2",
   "version": "2.7.8"
  }
 },
 "nbformat": 4,
 "nbformat_minor": 0
}
