{
 "cells": [
  {
   "cell_type": "code",
   "execution_count": 1,
   "metadata": {
    "collapsed": false
   },
   "outputs": [
    {
     "name": "stdout",
     "output_type": "stream",
     "text": [
      "Using matplotlib backend: TkAgg\n",
      "Populating the interactive namespace from numpy and matplotlib\n"
     ]
    }
   ],
   "source": [
    "%pylab\n",
    "%matplotlib inline"
   ]
  },
  {
   "cell_type": "code",
   "execution_count": 2,
   "metadata": {
    "collapsed": false
   },
   "outputs": [
    {
     "name": "stdout",
     "output_type": "stream",
     "text": [
      "/afs/inf.ed.ac.uk/user/s11/s1145806/Documents/git/neukrill-net-work\n"
     ]
    }
   ],
   "source": [
    "cd .."
   ]
  },
  {
   "cell_type": "code",
   "execution_count": 3,
   "metadata": {
    "collapsed": true
   },
   "outputs": [],
   "source": [
    "import sys\n",
    "import numpy as np\n",
    "import skimage\n",
    "import cv2\n",
    "import sklearn\n",
    "import imp"
   ]
  },
  {
   "cell_type": "code",
   "execution_count": 4,
   "metadata": {
    "collapsed": false
   },
   "outputs": [
    {
     "name": "stderr",
     "output_type": "stream",
     "text": [
      ":0: FutureWarning: IPython widgets are experimental and may change in the future.\n"
     ]
    }
   ],
   "source": [
    "import holoviews"
   ]
  },
  {
   "cell_type": "code",
   "execution_count": 5,
   "metadata": {
    "collapsed": false
   },
   "outputs": [],
   "source": [
    "import neukrill_net.utils\n",
    "import neukrill_net.highlevelfeatures\n",
    "import neukrill_net.stacked"
   ]
  },
  {
   "cell_type": "code",
   "execution_count": 6,
   "metadata": {
    "collapsed": true
   },
   "outputs": [],
   "source": [
    "import time"
   ]
  },
  {
   "cell_type": "code",
   "execution_count": 54,
   "metadata": {
    "collapsed": false
   },
   "outputs": [
    {
     "name": "stdout",
     "output_type": "stream",
     "text": [
      "Automatic pdb calling has been turned OFF\n"
     ]
    }
   ],
   "source": [
    "#%pdb"
   ]
  },
  {
   "cell_type": "code",
   "execution_count": 7,
   "metadata": {
    "collapsed": true
   },
   "outputs": [],
   "source": [
    "settings = neukrill_net.utils.Settings('settings.json')"
   ]
  },
  {
   "cell_type": "code",
   "execution_count": 8,
   "metadata": {
    "collapsed": true
   },
   "outputs": [],
   "source": [
    "X,y = settings.flattened_train_paths(settings.classes)"
   ]
  },
  {
   "cell_type": "code",
   "execution_count": 9,
   "metadata": {
    "collapsed": true
   },
   "outputs": [],
   "source": [
    "pkl_names = ['pftas.pkl','contourhistogram.pkl','contourmoments.pkl','haralick.pkl']"
   ]
  },
  {
   "cell_type": "code",
   "execution_count": 10,
   "metadata": {
    "collapsed": false
   },
   "outputs": [
    {
     "name": "stdout",
     "output_type": "stream",
     "text": [
      "Loading features took 0.26828289032\n"
     ]
    }
   ],
   "source": [
    "t0 = time.time()\n",
    "hlf = []\n",
    "XF_list = []\n",
    "for pkl_name in pkl_names:\n",
    "    tmp = sklearn.externals.joblib.load('cache/'+pkl_name)\n",
    "    hlf += [tmp[0]]\n",
    "    XF_list += [tmp[1]]\n",
    "print(\"Loading features took {}\".format(time.time()-t0))"
   ]
  },
  {
   "cell_type": "code",
   "execution_count": 11,
   "metadata": {
    "collapsed": false
   },
   "outputs": [],
   "source": [
    "XF = np.concatenate(XF_list,2)"
   ]
  },
  {
   "cell_type": "code",
   "execution_count": 12,
   "metadata": {
    "collapsed": false
   },
   "outputs": [
    {
     "data": {
      "text/plain": [
       "(1, 30336, 366)"
      ]
     },
     "execution_count": 12,
     "metadata": {},
     "output_type": "execute_result"
    }
   ],
   "source": [
    "XF.shape"
   ]
  },
  {
   "cell_type": "code",
   "execution_count": 13,
   "metadata": {
    "collapsed": false
   },
   "outputs": [
    {
     "data": {
      "text/plain": [
       "array([  9.27835052e-02,   8.24742268e-02,   1.28865979e-01,\n",
       "         2.57731959e-01,   2.21649485e-01,   1.23711340e-01,\n",
       "         5.67010309e-02,   1.03092784e-02,   2.57731959e-02,\n",
       "         9.27835052e-02,   8.24742268e-02,   1.28865979e-01,\n",
       "         2.57731959e-01,   2.21649485e-01,   1.23711340e-01,\n",
       "         5.67010309e-02,   1.03092784e-02,   2.57731959e-02,\n",
       "         7.88043478e-02,   8.69565217e-02,   1.35869565e-01,\n",
       "         1.87500000e-01,   1.19565217e-01,   8.15217391e-02,\n",
       "         1.22282609e-01,   1.03260870e-01,   8.42391304e-02,\n",
       "         9.22432432e-01,   2.94594595e-02,   1.89189189e-02,\n",
       "         1.70270270e-02,   1.00000000e-02,   1.62162162e-03,\n",
       "         5.40540541e-04,   0.00000000e+00,   0.00000000e+00,\n",
       "         9.22432432e-01,   2.94594595e-02,   1.89189189e-02,\n",
       "         1.70270270e-02,   1.00000000e-02,   1.62162162e-03,\n",
       "         5.40540541e-04,   0.00000000e+00,   0.00000000e+00,\n",
       "         8.10550199e-01,   8.11117413e-02,   4.42427680e-02,\n",
       "         3.14804311e-02,   1.95689166e-02,   1.04934770e-02,\n",
       "         1.70164492e-03,   8.50822462e-04,   0.00000000e+00,\n",
       "         0.00000000e+00,   0.00000000e+00,   0.00000000e+00,\n",
       "         0.00000000e+00,   0.00000000e+00,   0.00000000e+00,\n",
       "         0.00000000e+00,   0.00000000e+00,   0.00000000e+00,\n",
       "         0.00000000e+00,   0.00000000e+00,   0.00000000e+00,\n",
       "         0.00000000e+00,   0.00000000e+00,   0.00000000e+00,\n",
       "         0.00000000e+00,   0.00000000e+00,   0.00000000e+00,\n",
       "         0.00000000e+00,   0.00000000e+00,   0.00000000e+00,\n",
       "         0.00000000e+00,   0.00000000e+00,   0.00000000e+00,\n",
       "         0.00000000e+00,   0.00000000e+00,   0.00000000e+00,\n",
       "         0.00000000e+00,   0.00000000e+00,   0.00000000e+00,\n",
       "         1.03626940e-02,   0.00000000e+00,   1.55440411e-02,\n",
       "         0.00000000e+00,   5.18134702e-03,   0.00000000e+00,\n",
       "         5.18134702e-03,   0.00000000e+00,   1.03626940e-02,\n",
       "         0.00000000e+00,   0.00000000e+00,   0.00000000e+00,\n",
       "         1.03626940e-02,   5.18134702e-03,   5.18134702e-03,\n",
       "         0.00000000e+00,   5.18134702e-03,   5.18134702e-03,\n",
       "         5.18134702e-03,   0.00000000e+00,   0.00000000e+00,\n",
       "         0.00000000e+00,   5.18134702e-03,   0.00000000e+00,\n",
       "         0.00000000e+00,   1.03626940e-02,   5.18134702e-03,\n",
       "         0.00000000e+00,   5.18134702e-03,   0.00000000e+00,\n",
       "         0.00000000e+00,   0.00000000e+00,   5.18134702e-03,\n",
       "         0.00000000e+00,   0.00000000e+00,   0.00000000e+00,\n",
       "         0.00000000e+00,   0.00000000e+00,   0.00000000e+00,\n",
       "         0.00000000e+00,   5.18134702e-03,   0.00000000e+00,\n",
       "         0.00000000e+00,   0.00000000e+00,   0.00000000e+00,\n",
       "         0.00000000e+00,   0.00000000e+00,   0.00000000e+00,\n",
       "         0.00000000e+00,   0.00000000e+00,   0.00000000e+00,\n",
       "         0.00000000e+00,   0.00000000e+00,   0.00000000e+00,\n",
       "         0.00000000e+00,   0.00000000e+00,   1.03626940e-02,\n",
       "         0.00000000e+00,   0.00000000e+00,   0.00000000e+00,\n",
       "         0.00000000e+00,   0.00000000e+00,   0.00000000e+00,\n",
       "         0.00000000e+00,   0.00000000e+00,   5.18134702e-03,\n",
       "         0.00000000e+00,   0.00000000e+00,   0.00000000e+00,\n",
       "         0.00000000e+00,   0.00000000e+00,   0.00000000e+00,\n",
       "         0.00000000e+00,   5.18134702e-03,   0.00000000e+00,\n",
       "         5.18134702e-03,   0.00000000e+00,   0.00000000e+00,\n",
       "         5.18134702e-03,   0.00000000e+00,   0.00000000e+00,\n",
       "         5.18134702e-03,   0.00000000e+00,   0.00000000e+00,\n",
       "         0.00000000e+00,   0.00000000e+00,   0.00000000e+00,\n",
       "         0.00000000e+00,   0.00000000e+00,   5.18134702e-03,\n",
       "         0.00000000e+00,   0.00000000e+00,   0.00000000e+00,\n",
       "         0.00000000e+00,   5.18134702e-03,   0.00000000e+00,\n",
       "         0.00000000e+00,   0.00000000e+00,   0.00000000e+00,\n",
       "         0.00000000e+00,   0.00000000e+00,   0.00000000e+00,\n",
       "         0.00000000e+00,   0.00000000e+00,   5.18134702e-03,\n",
       "         0.00000000e+00,   5.18134702e-03,   0.00000000e+00,\n",
       "         0.00000000e+00,   0.00000000e+00,   0.00000000e+00,\n",
       "         0.00000000e+00,   0.00000000e+00,   0.00000000e+00,\n",
       "         0.00000000e+00,   0.00000000e+00,   0.00000000e+00,\n",
       "         0.00000000e+00,   0.00000000e+00,   0.00000000e+00,\n",
       "         0.00000000e+00,   0.00000000e+00,   0.00000000e+00,\n",
       "         0.00000000e+00,   5.18134702e-03,   0.00000000e+00,\n",
       "         0.00000000e+00,   0.00000000e+00,   0.00000000e+00,\n",
       "         0.00000000e+00,   0.00000000e+00,   0.00000000e+00,\n",
       "         0.00000000e+00,   0.00000000e+00,   0.00000000e+00,\n",
       "         0.00000000e+00,   0.00000000e+00,   0.00000000e+00,\n",
       "         0.00000000e+00,   0.00000000e+00,   0.00000000e+00,\n",
       "         0.00000000e+00,   0.00000000e+00,   0.00000000e+00,\n",
       "         0.00000000e+00,   5.18134702e-03,   0.00000000e+00,\n",
       "         0.00000000e+00,   0.00000000e+00,   0.00000000e+00,\n",
       "         0.00000000e+00,   0.00000000e+00,   5.18134702e-03,\n",
       "         0.00000000e+00,   5.18134702e-03,   0.00000000e+00,\n",
       "         0.00000000e+00,   0.00000000e+00,   5.18134702e-03,\n",
       "         5.18134702e-03,   0.00000000e+00,   0.00000000e+00,\n",
       "         5.18134702e-03,   0.00000000e+00,   0.00000000e+00,\n",
       "         0.00000000e+00,   0.00000000e+00,   0.00000000e+00,\n",
       "         0.00000000e+00,   5.18134702e-03,   0.00000000e+00,\n",
       "         0.00000000e+00,   0.00000000e+00,   0.00000000e+00,\n",
       "         5.18134702e-03,   5.18134702e-03,   0.00000000e+00,\n",
       "         1.55440411e-02,   5.18134702e-03,   0.00000000e+00,\n",
       "         0.00000000e+00,   5.18134702e-03,   5.18134702e-03,\n",
       "         1.03626940e-02,   2.59067360e-02,   1.55440411e-02,\n",
       "         1.55440411e-02,   1.03626940e-02,   1.03626940e-02,\n",
       "         0.00000000e+00,   1.03626940e-02,   1.03626940e-02,\n",
       "         1.03626940e-02,   3.10880821e-02,   2.07253881e-02,\n",
       "         1.55440411e-02,   2.07253881e-02,   1.55440411e-02,\n",
       "         2.07253881e-02,   1.03626940e-02,   2.07253881e-02,\n",
       "         3.10880821e-02,   2.07253881e-02,   1.55440411e-02,\n",
       "         1.55440411e-02,   2.07253881e-02,   2.07253881e-02,\n",
       "         2.59067360e-02,   1.55440411e-02,   2.59067360e-02,\n",
       "         3.62694301e-02,   5.18134721e-02,   5.18134721e-02,\n",
       "         3.62694301e-02,   3.10880821e-02,   2.59067360e-02,\n",
       "         2.07253881e-02,   2.07253881e-02,   2.07253881e-02,\n",
       "         4.14507762e-02,   4.14507762e-02,   9.32642519e-02,\n",
       "         1.65803105e-01,   3.52331609e-01,   8.96373034e-01,\n",
       "         3.26424867e-01,   2.55193896e-01,   2.04862918e+00,\n",
       "         1.44272580e+00,   2.12646011e+00,  -4.62433192e+00,\n",
       "         3.15379871e+00,   3.07003271e+04,   1.39122141e+05,\n",
       "         2.54433417e+05,   2.35574674e-01,   8.21080723e+06,\n",
       "        -1.02133457e+05,   4.17133345e+04,   3.20081449e-01,\n",
       "         8.22184495e+06,  -4.12477274e-02,   2.76398107e+03,\n",
       "         1.50253777e+04,   2.12090229e-02,   6.06816516e-03,\n",
       "         3.34214333e+05,   1.16103130e+07,   3.61000000e+02,\n",
       "         1.04675000e+04,   1.95815874e+05,   7.90824091e-02,\n",
       "         5.61860172e-02,   8.67950000e+03,   2.50394000e+05,\n",
       "         7.29116057e+06,   5.92909729e-01,   1.17428038e+02,\n",
       "         8.37376309e-01,   3.60378916e+02,   8.37396275e-01,\n",
       "         5.04056774e+02,   1.32408763e+03,   1.77634694e+00,\n",
       "         2.17408130e+00,   2.42847737e-03,   1.54530917e+00,\n",
       "        -2.79362396e-01,   7.10802264e-01,   8.44503234e-03,\n",
       "         8.02833026e+01,   1.08540997e-01,   6.01075856e+00,\n",
       "         7.49707356e-03,   9.91907566e-02,   5.62402684e+01,\n",
       "         7.00702220e-02,   9.22398670e-02,   4.07591384e-05,\n",
       "         1.03418161e-01,   5.27140192e-02,   4.48146178e-02])"
      ]
     },
     "execution_count": 13,
     "metadata": {},
     "output_type": "execute_result"
    }
   ],
   "source": [
    "XF[0,0,:]"
   ]
  },
  {
   "cell_type": "markdown",
   "metadata": {},
   "source": [
    "## Naive Bayes"
   ]
  },
  {
   "cell_type": "code",
   "execution_count": 14,
   "metadata": {
    "collapsed": true
   },
   "outputs": [],
   "source": [
    "import sklearn.naive_bayes"
   ]
  },
  {
   "cell_type": "code",
   "execution_count": 15,
   "metadata": {
    "collapsed": true
   },
   "outputs": [],
   "source": [
    "clf = sklearn.naive_bayes.GaussianNB()"
   ]
  },
  {
   "cell_type": "code",
   "execution_count": 16,
   "metadata": {
    "collapsed": false
   },
   "outputs": [
    {
     "name": "stdout",
     "output_type": "stream",
     "text": [
      "Time=0.395761013031\n",
      "Accuracy=0.185917721519\n",
      "Logloss=26.1907140911\n"
     ]
    }
   ],
   "source": [
    "t0 = time.time()\n",
    "X_train, X_test, y_train, y_test = sklearn.cross_validation.train_test_split(\n",
    "    sklearn.preprocessing.StandardScaler().fit_transform(XF.squeeze(0)), y, test_size=0.5, random_state=42)\n",
    "clf.fit(X_train, y_train)\n",
    "\n",
    "t1 = time.time()\n",
    "total = t1-t0\n",
    "print(\"Time={}\".format(total))\n",
    "\n",
    "print(\"Accuracy={}\".format(clf.score(X_test, y_test)))\n",
    "print(\"Logloss={}\".format(sklearn.metrics.log_loss(y_test, clf.predict_proba(X_test))))"
   ]
  },
  {
   "cell_type": "markdown",
   "metadata": {},
   "source": [
    "### Reduce with Feature selection"
   ]
  },
  {
   "cell_type": "code",
   "execution_count": 17,
   "metadata": {
    "collapsed": false
   },
   "outputs": [],
   "source": [
    "X_new = sklearn.feature_selection.SelectKBest(sklearn.feature_selection.f_classif, k=45).fit_transform(XF.squeeze(0), y)"
   ]
  },
  {
   "cell_type": "code",
   "execution_count": 18,
   "metadata": {
    "collapsed": false
   },
   "outputs": [
    {
     "name": "stdout",
     "output_type": "stream",
     "text": [
      "Time=0.0630669593811\n",
      "Accuracy=0.308742088608\n",
      "Logloss=10.6894260686\n"
     ]
    }
   ],
   "source": [
    "my_X = X_new\n",
    "clf = sklearn.naive_bayes.GaussianNB()\n",
    "\n",
    "t0 = time.time()\n",
    "X_train, X_test, y_train, y_test = sklearn.cross_validation.train_test_split(\n",
    "    sklearn.preprocessing.StandardScaler().fit_transform(my_X), y, test_size=0.5, random_state=42)\n",
    "clf.fit(X_train, y_train)\n",
    "\n",
    "t1 = time.time()\n",
    "total = t1-t0\n",
    "print(\"Time={}\".format(total))\n",
    "\n",
    "print(\"Accuracy={}\".format(clf.score(X_test, y_test)))\n",
    "print(\"Logloss={}\".format(sklearn.metrics.log_loss(y_test, clf.predict_proba(X_test))))"
   ]
  },
  {
   "cell_type": "markdown",
   "metadata": {},
   "source": [
    "## Random Forest"
   ]
  },
  {
   "cell_type": "markdown",
   "metadata": {},
   "source": [
    "On original"
   ]
  },
  {
   "cell_type": "code",
   "execution_count": 19,
   "metadata": {
    "collapsed": true
   },
   "outputs": [],
   "source": [
    "import sklearn.ensemble"
   ]
  },
  {
   "cell_type": "code",
   "execution_count": 21,
   "metadata": {
    "collapsed": false
   },
   "outputs": [
    {
     "name": "stdout",
     "output_type": "stream",
     "text": [
      "Time=50.592176199\n",
      "Accuracy=0.525250527426\n",
      "Logloss=1.91537714433\n"
     ]
    }
   ],
   "source": [
    "clf = sklearn.ensemble.RandomForestClassifier(n_estimators=1000, max_depth=20, min_samples_leaf=5, n_jobs=12, random_state=42)\n",
    "\n",
    "t0 = time.time()\n",
    "X_train, X_test, y_train, y_test = sklearn.cross_validation.train_test_split(\n",
    "    sklearn.preprocessing.StandardScaler().fit_transform(XF.squeeze(0)), y, test_size=0.5, random_state=42)\n",
    "clf.fit(X_train, y_train)\n",
    "\n",
    "t1 = time.time()\n",
    "total = t1-t0\n",
    "print(\"Time={}\".format(total))\n",
    "\n",
    "print(\"Accuracy={}\".format(clf.score(X_test, y_test)))\n",
    "print(\"Logloss={}\".format(sklearn.metrics.log_loss(y_test, clf.predict_proba(X_test))))"
   ]
  },
  {
   "cell_type": "markdown",
   "metadata": {},
   "source": [
    "This is similar to just the Contour Moments and Haralick features"
   ]
  },
  {
   "cell_type": "markdown",
   "metadata": {},
   "source": [
    "On reduced"
   ]
  },
  {
   "cell_type": "code",
   "execution_count": 22,
   "metadata": {
    "collapsed": false
   },
   "outputs": [
    {
     "name": "stdout",
     "output_type": "stream",
     "text": [
      "Time=23.738656044\n",
      "Accuracy=0.502505274262\n",
      "Logloss=1.94713154469\n"
     ]
    }
   ],
   "source": [
    "my_X = X_new\n",
    "\n",
    "clf = sklearn.ensemble.RandomForestClassifier(n_estimators=1000, max_depth=20, min_samples_leaf=5, n_jobs=12, random_state=42)\n",
    "\n",
    "t0 = time.time()\n",
    "X_train, X_test, y_train, y_test = sklearn.cross_validation.train_test_split(\n",
    "    sklearn.preprocessing.StandardScaler().fit_transform(my_X), y, test_size=0.5, random_state=42)\n",
    "clf.fit(X_train, y_train)\n",
    "\n",
    "t1 = time.time()\n",
    "total = t1-t0\n",
    "print(\"Time={}\".format(total))\n",
    "\n",
    "print(\"Accuracy={}\".format(clf.score(X_test, y_test)))\n",
    "print(\"Logloss={}\".format(sklearn.metrics.log_loss(y_test, clf.predict_proba(X_test))))"
   ]
  },
  {
   "cell_type": "markdown",
   "metadata": {},
   "source": [
    "Does slightly worse with fewer features.\n",
    "\n",
    "Maybe it was too few?"
   ]
  },
  {
   "cell_type": "code",
   "execution_count": 23,
   "metadata": {
    "collapsed": false,
    "scrolled": true
   },
   "outputs": [
    {
     "name": "stdout",
     "output_type": "stream",
     "text": [
      "Time=35.6933050156\n",
      "Accuracy=0.529733649789\n",
      "Logloss=1.86473985616\n"
     ]
    }
   ],
   "source": [
    "my_X = sklearn.feature_selection.SelectKBest(sklearn.feature_selection.f_classif, k=100).fit_transform(XF.squeeze(0), y)\n",
    "\n",
    "clf = sklearn.ensemble.RandomForestClassifier(n_estimators=1000, max_depth=20, min_samples_leaf=5, n_jobs=12, random_state=42)\n",
    "\n",
    "t0 = time.time()\n",
    "X_train, X_test, y_train, y_test = sklearn.cross_validation.train_test_split(\n",
    "    sklearn.preprocessing.StandardScaler().fit_transform(my_X), y, test_size=0.5, random_state=42)\n",
    "clf.fit(X_train, y_train)\n",
    "\n",
    "t1 = time.time()\n",
    "total = t1-t0\n",
    "print(\"Time={}\".format(total))\n",
    "\n",
    "print(\"Accuracy={}\".format(clf.score(X_test, y_test)))\n",
    "print(\"Logloss={}\".format(sklearn.metrics.log_loss(y_test, clf.predict_proba(X_test))))"
   ]
  },
  {
   "cell_type": "markdown",
   "metadata": {},
   "source": [
    "### Hierarchical classifier"
   ]
  },
  {
   "cell_type": "code",
   "execution_count": 24,
   "metadata": {
    "collapsed": true
   },
   "outputs": [],
   "source": [
    "import neukrill_net.taxonomy"
   ]
  },
  {
   "cell_type": "code",
   "execution_count": 29,
   "metadata": {
    "collapsed": false
   },
   "outputs": [
    {
     "data": {
      "text/plain": [
       "<module 'neukrill_net.stacked' from '/afs/inf.ed.ac.uk/user/s11/s1145806/Documents/git/neukrill-net-tools/neukrill_net/stacked.py'>"
      ]
     },
     "execution_count": 29,
     "metadata": {},
     "output_type": "execute_result"
    }
   ],
   "source": [
    "reload(neukrill_net.stacked)"
   ]
  },
  {
   "cell_type": "code",
   "execution_count": 36,
   "metadata": {
    "collapsed": false
   },
   "outputs": [
    {
     "data": {
      "text/plain": [
       "<module 'neukrill_net.taxonomy' from '/afs/inf.ed.ac.uk/user/s11/s1145806/Documents/git/neukrill-net-tools/neukrill_net/taxonomy.py'>"
      ]
     },
     "execution_count": 36,
     "metadata": {},
     "output_type": "execute_result"
    }
   ],
   "source": [
    "reload(neukrill_net.taxonomy)"
   ]
  },
  {
   "cell_type": "code",
   "execution_count": 37,
   "metadata": {
    "collapsed": false,
    "scrolled": true
   },
   "outputs": [
    {
     "data": {
      "text/plain": [
       "{'no_class': {'artifacts': {}, 'artifacts_edge': {}},\n",
       " 'plankton': {'chaetognaths': {'chaetognath_non_sagitta': {},\n",
       "   'chaetognath_other': {},\n",
       "   'chaetognath_sagitta': {}},\n",
       "  'chordate_type1': {},\n",
       "  'crustaceans': {'amphipods': {},\n",
       "   'copepods': {'calanoid': {'copepod_calanoid': {},\n",
       "     'copepod_calanoid_eggs': {},\n",
       "     'copepod_calanoid_eucalanus': {},\n",
       "     'copepod_calanoid_flatheads': {},\n",
       "     'copepod_calanoid_frillyAntennae': {},\n",
       "     'copepod_calanoid_large': {},\n",
       "     'copepod_calanoid_large_side_antennatucked': {},\n",
       "     'copepod_calanoid_octomoms': {},\n",
       "     'copepod_calanoid_small_longantennae': {},\n",
       "     'copepod_other': {}},\n",
       "    'cyclopoid_copepods': {'copepod_cyclopoid_copilia': {},\n",
       "     'oithona': {'copepod_cyclopoid_oithona': {},\n",
       "      'copepod_cyclopoid_oithona_eggs': {}}}},\n",
       "   'crustacean_other': {},\n",
       "   'shrimp_like': {'decapods_all': {'decapods': {},\n",
       "     'shrimp_caridean': {},\n",
       "     'shrimp_sergestidae': {},\n",
       "     'shrimp_zoea': {}},\n",
       "    'euphausiids_all_ages': {'euphausiids': {}, 'euphausiids_young': {}},\n",
       "    'shrimp-like_other': {}},\n",
       "   'stomatopod': {}},\n",
       "  'detritus': {'detritus_blob': {},\n",
       "   'detritus_filamentous': {},\n",
       "   'detritus_other': {},\n",
       "   'fecal_pellet': {}},\n",
       "  'diatoms': {'diatom_chain_string': {}, 'diatom_chain_tube': {}},\n",
       "  'fish': {'fish_larvae_deep_body': {},\n",
       "   'fish_larvae_leptocephali': {},\n",
       "   'fish_larvae_medium_body': {},\n",
       "   'fish_larvae_myctophids': {},\n",
       "   'fish_larvae_thin_body': {},\n",
       "   'fish_larvae_very_thin_body': {}},\n",
       "  'gastropods': {'heteropod': {},\n",
       "   'pteropods': {'pteropod_butterfly': {},\n",
       "    'pteropod_theco_dev_seq': {},\n",
       "    'pteropod_triangle': {}}},\n",
       "  'gelatinous zooplankton': {'ctenophores': {'ctenophore_cestid': {},\n",
       "    'ctenophore_lobate': {},\n",
       "    'cydippid': {'ctenophore_cydippid_no_tentacles': {},\n",
       "     'ctenophore_cydippid_tentacles': {}}},\n",
       "   'ephyra': {},\n",
       "   'hydromedusae': {'other_hydromedusae': {'hydromedusae_bell_and_tentacles': {},\n",
       "     'hydromedusae_h15': {},\n",
       "     'hydromedusae_other': {},\n",
       "     'hydromedusae_partial_dark': {},\n",
       "     'hydromedusae_shapeA': {},\n",
       "     'hydromedusae_shapeA_sideview_small': {},\n",
       "     'hydromedusae_shapeB': {},\n",
       "     'hydromedusae_sideview_big': {},\n",
       "     'hydromedusae_typeD': {},\n",
       "     'hydromedusae_typeD_bell_and_tentacles': {},\n",
       "     'hydromedusae_typeE': {},\n",
       "     'hydromedusae_typeF': {}},\n",
       "    'sub_hydromedusae1': {'hydromedusae_aglaura': {},\n",
       "     'hydromedusae_haliscera': {},\n",
       "     'hydromedusae_haliscera_small_sideview': {},\n",
       "     'hydromedusae_liriope': {}},\n",
       "    'sub_hydromedusae2': {'hydromedusae_narco_dark': {},\n",
       "     'hydromedusae_narco_young': {},\n",
       "     'hydromedusae_narcomedusae': {},\n",
       "     'hydromedusae_solmaris': {},\n",
       "     'hydromedusae_solmundella': {}}},\n",
       "   'jellies_tentacles': {},\n",
       "   'pelagic_tunicates': {'appendicularians': {'appendicularian_fritillaridae': {},\n",
       "     'appendicularian_s_shape': {},\n",
       "     'appendicularian_slight_curve': {},\n",
       "     'appendicularian_straight': {}},\n",
       "    'tunicate': {'tunicate_doliolid': {},\n",
       "     'tunicate_doliolid_nurse': {},\n",
       "     'tunicate_partial': {},\n",
       "     'tunicate_salp': {},\n",
       "     'tunicate_salp_chains': {}}},\n",
       "   'siphonophores': {'calycophoran_siphonophores': {'rocketship': {'siphonophore_calycophoran_rocketship_adult': {},\n",
       "      'siphonophore_calycophoran_rocketship_young': {}},\n",
       "     'siphonophore_calycophoran_abylidae': {},\n",
       "     'sphaeronectes': {'siphonophore_calycophoran_sphaeronectes': {},\n",
       "      'siphonophore_calycophoran_sphaeronectes_stem': {},\n",
       "      'siphonophore_calycophoran_sphaeronectes_young': {}}},\n",
       "    'physonect': {'siphonophore_physonect': {},\n",
       "     'siphonophore_physonect_young': {}},\n",
       "    'siphonophore_other_parts': {},\n",
       "    'siphonophore_partial': {}}},\n",
       "  'other_invert_larvae': {'echinoderm': {'echinoderm_seacucumber_auricularia_larva': {},\n",
       "    'pluteus': {'echinoderm_larva_pluteus_brittlestar': {},\n",
       "     'echinoderm_larva_pluteus_early': {},\n",
       "     'echinoderm_larva_pluteus_typeC': {},\n",
       "     'echinoderm_larva_pluteus_urchin': {},\n",
       "     'echinopluteus': {}},\n",
       "    'seastar': {'echinoderm_larva_seastar_bipinnaria': {},\n",
       "     'echinoderm_larva_seastar_brachiolaria': {}}},\n",
       "   'invertebrate_larvae_other_A': {},\n",
       "   'invertebrate_larvae_other_B': {},\n",
       "   'tornaria_acorn_worm_larvae': {},\n",
       "   'trochophore_larvae': {}},\n",
       "  'polychaete': {},\n",
       "  'protists': {'acantharia': {'acantharia_protist': {},\n",
       "    'acantharia_protist_big_center': {},\n",
       "    'acantharia_protist_halo': {}},\n",
       "   'protist_noctiluca': {},\n",
       "   'radiolarian': {'radiolarian_chain': {}, 'radiolarian_colony': {}},\n",
       "   'sub_protists': {'protist_dark_center': {},\n",
       "    'protist_fuzzy_olive': {},\n",
       "    'protist_other': {},\n",
       "    'protist_star': {}}},\n",
       "  'trichodesmium': {'trichodesmium_bowtie': {},\n",
       "   'trichodesmium_multiple': {},\n",
       "   'trichodesmium_puff': {},\n",
       "   'trichodesmium_tuft': {}},\n",
       "  'unknown': {'unknown_blobs_and_smudges': {},\n",
       "   'unknown_sticks': {},\n",
       "   'unknown_unclassified': {}}}}"
      ]
     },
     "execution_count": 37,
     "metadata": {},
     "output_type": "execute_result"
    }
   ],
   "source": [
    "neukrill_net.taxonomy.taxonomy"
   ]
  },
  {
   "cell_type": "code",
   "execution_count": 38,
   "metadata": {
    "collapsed": false,
    "scrolled": true
   },
   "outputs": [
    {
     "data": {
      "text/plain": [
       "[u'acantharia_protist',\n",
       " u'acantharia_protist_big_center',\n",
       " u'acantharia_protist_halo',\n",
       " u'amphipods',\n",
       " u'appendicularian_fritillaridae',\n",
       " u'appendicularian_slight_curve',\n",
       " u'appendicularian_s_shape',\n",
       " u'appendicularian_straight',\n",
       " u'artifacts',\n",
       " u'artifacts_edge',\n",
       " u'chaetognath_non_sagitta',\n",
       " u'chaetognath_other',\n",
       " u'chaetognath_sagitta',\n",
       " u'chordate_type1',\n",
       " u'copepod_calanoid',\n",
       " u'copepod_calanoid_eggs',\n",
       " u'copepod_calanoid_eucalanus',\n",
       " u'copepod_calanoid_flatheads',\n",
       " u'copepod_calanoid_frillyAntennae',\n",
       " u'copepod_calanoid_large',\n",
       " u'copepod_calanoid_large_side_antennatucked',\n",
       " u'copepod_calanoid_octomoms',\n",
       " u'copepod_calanoid_small_longantennae',\n",
       " u'copepod_cyclopoid_copilia',\n",
       " u'copepod_cyclopoid_oithona',\n",
       " u'copepod_cyclopoid_oithona_eggs',\n",
       " u'copepod_other',\n",
       " u'crustacean_other',\n",
       " u'ctenophore_cestid',\n",
       " u'ctenophore_cydippid_no_tentacles',\n",
       " u'ctenophore_cydippid_tentacles',\n",
       " u'ctenophore_lobate',\n",
       " u'decapods',\n",
       " u'detritus_blob',\n",
       " u'detritus_filamentous',\n",
       " u'detritus_other',\n",
       " u'diatom_chain_string',\n",
       " u'diatom_chain_tube',\n",
       " u'echinoderm_larva_pluteus_brittlestar',\n",
       " u'echinoderm_larva_pluteus_early',\n",
       " u'echinoderm_larva_pluteus_typeC',\n",
       " u'echinoderm_larva_pluteus_urchin',\n",
       " u'echinoderm_larva_seastar_bipinnaria',\n",
       " u'echinoderm_larva_seastar_brachiolaria',\n",
       " u'echinoderm_seacucumber_auricularia_larva',\n",
       " u'echinopluteus',\n",
       " u'ephyra',\n",
       " u'euphausiids',\n",
       " u'euphausiids_young',\n",
       " u'fecal_pellet',\n",
       " u'fish_larvae_deep_body',\n",
       " u'fish_larvae_leptocephali',\n",
       " u'fish_larvae_medium_body',\n",
       " u'fish_larvae_myctophids',\n",
       " u'fish_larvae_thin_body',\n",
       " u'fish_larvae_very_thin_body',\n",
       " u'heteropod',\n",
       " u'hydromedusae_aglaura',\n",
       " u'hydromedusae_bell_and_tentacles',\n",
       " u'hydromedusae_h15',\n",
       " u'hydromedusae_haliscera',\n",
       " u'hydromedusae_haliscera_small_sideview',\n",
       " u'hydromedusae_liriope',\n",
       " u'hydromedusae_narco_dark',\n",
       " u'hydromedusae_narcomedusae',\n",
       " u'hydromedusae_narco_young',\n",
       " u'hydromedusae_other',\n",
       " u'hydromedusae_partial_dark',\n",
       " u'hydromedusae_shapeA',\n",
       " u'hydromedusae_shapeA_sideview_small',\n",
       " u'hydromedusae_shapeB',\n",
       " u'hydromedusae_sideview_big',\n",
       " u'hydromedusae_solmaris',\n",
       " u'hydromedusae_solmundella',\n",
       " u'hydromedusae_typeD',\n",
       " u'hydromedusae_typeD_bell_and_tentacles',\n",
       " u'hydromedusae_typeE',\n",
       " u'hydromedusae_typeF',\n",
       " u'invertebrate_larvae_other_A',\n",
       " u'invertebrate_larvae_other_B',\n",
       " u'jellies_tentacles',\n",
       " u'polychaete',\n",
       " u'protist_dark_center',\n",
       " u'protist_fuzzy_olive',\n",
       " u'protist_noctiluca',\n",
       " u'protist_other',\n",
       " u'protist_star',\n",
       " u'pteropod_butterfly',\n",
       " u'pteropod_theco_dev_seq',\n",
       " u'pteropod_triangle',\n",
       " u'radiolarian_chain',\n",
       " u'radiolarian_colony',\n",
       " u'shrimp_caridean',\n",
       " u'shrimp-like_other',\n",
       " u'shrimp_sergestidae',\n",
       " u'shrimp_zoea',\n",
       " u'siphonophore_calycophoran_abylidae',\n",
       " u'siphonophore_calycophoran_rocketship_adult',\n",
       " u'siphonophore_calycophoran_rocketship_young',\n",
       " u'siphonophore_calycophoran_sphaeronectes',\n",
       " u'siphonophore_calycophoran_sphaeronectes_stem',\n",
       " u'siphonophore_calycophoran_sphaeronectes_young',\n",
       " u'siphonophore_other_parts',\n",
       " u'siphonophore_partial',\n",
       " u'siphonophore_physonect',\n",
       " u'siphonophore_physonect_young',\n",
       " u'stomatopod',\n",
       " u'tornaria_acorn_worm_larvae',\n",
       " u'trichodesmium_bowtie',\n",
       " u'trichodesmium_multiple',\n",
       " u'trichodesmium_puff',\n",
       " u'trichodesmium_tuft',\n",
       " u'trochophore_larvae',\n",
       " u'tunicate_doliolid',\n",
       " u'tunicate_doliolid_nurse',\n",
       " u'tunicate_partial',\n",
       " u'tunicate_salp',\n",
       " u'tunicate_salp_chains',\n",
       " u'unknown_blobs_and_smudges',\n",
       " u'unknown_sticks',\n",
       " u'unknown_unclassified']"
      ]
     },
     "execution_count": 38,
     "metadata": {},
     "output_type": "execute_result"
    }
   ],
   "source": [
    "settings.classes"
   ]
  },
  {
   "cell_type": "code",
   "execution_count": 39,
   "metadata": {
    "collapsed": true
   },
   "outputs": [],
   "source": [
    "marked_taxonomy = neukrill_net.stacked.propagate_labels_to_leaves(neukrill_net.taxonomy.taxonomy, settings.classes)"
   ]
  },
  {
   "cell_type": "code",
   "execution_count": 40,
   "metadata": {
    "collapsed": false,
    "scrolled": true
   },
   "outputs": [
    {
     "data": {
      "text/plain": [
       "{'no_class': {'artifacts': 8, 'artifacts_edge': 9},\n",
       " 'plankton': {'chaetognaths': {'chaetognath_non_sagitta': 10,\n",
       "   'chaetognath_other': 11,\n",
       "   'chaetognath_sagitta': 12},\n",
       "  'chordate_type1': 13,\n",
       "  'crustaceans': {'amphipods': 3,\n",
       "   'copepods': {'calanoid': {'copepod_calanoid': 14,\n",
       "     'copepod_calanoid_eggs': 15,\n",
       "     'copepod_calanoid_eucalanus': 16,\n",
       "     'copepod_calanoid_flatheads': 17,\n",
       "     'copepod_calanoid_frillyAntennae': 18,\n",
       "     'copepod_calanoid_large': 19,\n",
       "     'copepod_calanoid_large_side_antennatucked': 20,\n",
       "     'copepod_calanoid_octomoms': 21,\n",
       "     'copepod_calanoid_small_longantennae': 22,\n",
       "     'copepod_other': 26},\n",
       "    'cyclopoid_copepods': {'copepod_cyclopoid_copilia': 23,\n",
       "     'oithona': {'copepod_cyclopoid_oithona': 24,\n",
       "      'copepod_cyclopoid_oithona_eggs': 25}}},\n",
       "   'crustacean_other': 27,\n",
       "   'shrimp_like': {'decapods_all': {'decapods': 32,\n",
       "     'shrimp_caridean': 92,\n",
       "     'shrimp_sergestidae': 94,\n",
       "     'shrimp_zoea': 95},\n",
       "    'euphausiids_all_ages': {'euphausiids': 47, 'euphausiids_young': 48},\n",
       "    'shrimp-like_other': 93},\n",
       "   'stomatopod': 106},\n",
       "  'detritus': {'detritus_blob': 33,\n",
       "   'detritus_filamentous': 34,\n",
       "   'detritus_other': 35,\n",
       "   'fecal_pellet': 49},\n",
       "  'diatoms': {'diatom_chain_string': 36, 'diatom_chain_tube': 37},\n",
       "  'fish': {'fish_larvae_deep_body': 50,\n",
       "   'fish_larvae_leptocephali': 51,\n",
       "   'fish_larvae_medium_body': 52,\n",
       "   'fish_larvae_myctophids': 53,\n",
       "   'fish_larvae_thin_body': 54,\n",
       "   'fish_larvae_very_thin_body': 55},\n",
       "  'gastropods': {'heteropod': 56,\n",
       "   'pteropods': {'pteropod_butterfly': 87,\n",
       "    'pteropod_theco_dev_seq': 88,\n",
       "    'pteropod_triangle': 89}},\n",
       "  'gelatinous zooplankton': {'ctenophores': {'ctenophore_cestid': 28,\n",
       "    'ctenophore_lobate': 31,\n",
       "    'cydippid': {'ctenophore_cydippid_no_tentacles': 29,\n",
       "     'ctenophore_cydippid_tentacles': 30}},\n",
       "   'ephyra': 46,\n",
       "   'hydromedusae': {'other_hydromedusae': {'hydromedusae_bell_and_tentacles': 58,\n",
       "     'hydromedusae_h15': 59,\n",
       "     'hydromedusae_other': 66,\n",
       "     'hydromedusae_partial_dark': 67,\n",
       "     'hydromedusae_shapeA': 68,\n",
       "     'hydromedusae_shapeA_sideview_small': 69,\n",
       "     'hydromedusae_shapeB': 70,\n",
       "     'hydromedusae_sideview_big': 71,\n",
       "     'hydromedusae_typeD': 74,\n",
       "     'hydromedusae_typeD_bell_and_tentacles': 75,\n",
       "     'hydromedusae_typeE': 76,\n",
       "     'hydromedusae_typeF': 77},\n",
       "    'sub_hydromedusae1': {'hydromedusae_aglaura': 57,\n",
       "     'hydromedusae_haliscera': 60,\n",
       "     'hydromedusae_haliscera_small_sideview': 61,\n",
       "     'hydromedusae_liriope': 62},\n",
       "    'sub_hydromedusae2': {'hydromedusae_narco_dark': 63,\n",
       "     'hydromedusae_narco_young': 65,\n",
       "     'hydromedusae_narcomedusae': 64,\n",
       "     'hydromedusae_solmaris': 72,\n",
       "     'hydromedusae_solmundella': 73}},\n",
       "   'jellies_tentacles': 80,\n",
       "   'pelagic_tunicates': {'appendicularians': {'appendicularian_fritillaridae': 4,\n",
       "     'appendicularian_s_shape': 6,\n",
       "     'appendicularian_slight_curve': 5,\n",
       "     'appendicularian_straight': 7},\n",
       "    'tunicate': {'tunicate_doliolid': 113,\n",
       "     'tunicate_doliolid_nurse': 114,\n",
       "     'tunicate_partial': 115,\n",
       "     'tunicate_salp': 116,\n",
       "     'tunicate_salp_chains': 117}},\n",
       "   'siphonophores': {'calycophoran_siphonophores': {'rocketship': {'siphonophore_calycophoran_rocketship_adult': 97,\n",
       "      'siphonophore_calycophoran_rocketship_young': 98},\n",
       "     'siphonophore_calycophoran_abylidae': 96,\n",
       "     'sphaeronectes': {'siphonophore_calycophoran_sphaeronectes': 99,\n",
       "      'siphonophore_calycophoran_sphaeronectes_stem': 100,\n",
       "      'siphonophore_calycophoran_sphaeronectes_young': 101}},\n",
       "    'physonect': {'siphonophore_physonect': 104,\n",
       "     'siphonophore_physonect_young': 105},\n",
       "    'siphonophore_other_parts': 102,\n",
       "    'siphonophore_partial': 103}},\n",
       "  'other_invert_larvae': {'echinoderm': {'echinoderm_seacucumber_auricularia_larva': 44,\n",
       "    'pluteus': {'echinoderm_larva_pluteus_brittlestar': 38,\n",
       "     'echinoderm_larva_pluteus_early': 39,\n",
       "     'echinoderm_larva_pluteus_typeC': 40,\n",
       "     'echinoderm_larva_pluteus_urchin': 41,\n",
       "     'echinopluteus': 45},\n",
       "    'seastar': {'echinoderm_larva_seastar_bipinnaria': 42,\n",
       "     'echinoderm_larva_seastar_brachiolaria': 43}},\n",
       "   'invertebrate_larvae_other_A': 78,\n",
       "   'invertebrate_larvae_other_B': 79,\n",
       "   'tornaria_acorn_worm_larvae': 107,\n",
       "   'trochophore_larvae': 112},\n",
       "  'polychaete': 81,\n",
       "  'protists': {'acantharia': {'acantharia_protist': 0,\n",
       "    'acantharia_protist_big_center': 1,\n",
       "    'acantharia_protist_halo': 2},\n",
       "   'protist_noctiluca': 84,\n",
       "   'radiolarian': {'radiolarian_chain': 90, 'radiolarian_colony': 91},\n",
       "   'sub_protists': {'protist_dark_center': 82,\n",
       "    'protist_fuzzy_olive': 83,\n",
       "    'protist_other': 85,\n",
       "    'protist_star': 86}},\n",
       "  'trichodesmium': {'trichodesmium_bowtie': 108,\n",
       "   'trichodesmium_multiple': 109,\n",
       "   'trichodesmium_puff': 110,\n",
       "   'trichodesmium_tuft': 111},\n",
       "  'unknown': {'unknown_blobs_and_smudges': 118,\n",
       "   'unknown_sticks': 119,\n",
       "   'unknown_unclassified': 120}}}"
      ]
     },
     "execution_count": 40,
     "metadata": {},
     "output_type": "execute_result"
    }
   ],
   "source": [
    "marked_taxonomy"
   ]
  },
  {
   "cell_type": "code",
   "execution_count": 41,
   "metadata": {
    "collapsed": false
   },
   "outputs": [
    {
     "name": "stdout",
     "output_type": "stream",
     "text": [
      "Time=70.759239912\n",
      "Logloss=1.8479429741\n",
      "Time=17.3513498306\n",
      "Accuracy=0.530129219409\n"
     ]
    }
   ],
   "source": [
    "base_clf = sklearn.ensemble.RandomForestClassifier(n_estimators=1000, max_depth=20, min_samples_leaf=5, n_jobs=12, random_state=42)\n",
    "\n",
    "hier_clf = neukrill_net.stacked.HierarchyClassifier(marked_taxonomy, base_clf)\n",
    "\n",
    "t0 = time.time()\n",
    "hier_clf.fit(X_train, y_train)\n",
    "\n",
    "t1 = time.time()\n",
    "total = t1-t0\n",
    "print(\"Time={}\".format(total))\n",
    "\n",
    "t0 = time.time()\n",
    "p = hier_clf.predict_proba(X_test)\n",
    "print(\"Logloss={}\".format(sklearn.metrics.log_loss(y_test, p)))\n",
    "print(\"Time={}\".format(time.time()-t0))\n",
    "\n",
    "print(\"Accuracy={}\".format(sklearn.metrics.accuracy_score(y_test,np.argmax(p,1))))"
   ]
  },
  {
   "cell_type": "markdown",
   "metadata": {},
   "source": [
    "### With all the features left in"
   ]
  },
  {
   "cell_type": "code",
   "execution_count": 42,
   "metadata": {
    "collapsed": false
   },
   "outputs": [
    {
     "name": "stdout",
     "output_type": "stream",
     "text": [
      "Time=87.1275148392\n",
      "Logloss=1.91641586977\n",
      "Time=20.142124176\n",
      "Accuracy=0.526305379747\n"
     ]
    }
   ],
   "source": [
    "base_clf = sklearn.ensemble.RandomForestClassifier(n_estimators=1000, max_depth=20, min_samples_leaf=5, n_jobs=12, random_state=42)\n",
    "\n",
    "hier_clf = neukrill_net.stacked.HierarchyClassifier(marked_taxonomy, base_clf)\n",
    "\n",
    "X_train, X_test, y_train, y_test = sklearn.cross_validation.train_test_split(\n",
    "    sklearn.preprocessing.StandardScaler().fit_transform(XF.squeeze(0)), y, test_size=0.5, random_state=42)\n",
    "\n",
    "t0 = time.time()\n",
    "hier_clf.fit(X_train, y_train)\n",
    "\n",
    "t1 = time.time()\n",
    "total = t1-t0\n",
    "print(\"Time={}\".format(total))\n",
    "\n",
    "t0 = time.time()\n",
    "p = hier_clf.predict_proba(X_test)\n",
    "print(\"Logloss={}\".format(sklearn.metrics.log_loss(y_test, p)))\n",
    "print(\"Time={}\".format(time.time()-t0))\n",
    "\n",
    "print(\"Accuracy={}\".format(sklearn.metrics.accuracy_score(y_test,np.argmax(p,1))))"
   ]
  },
  {
   "cell_type": "markdown",
   "metadata": {},
   "source": [
    "Try with a pipline to reduce the number of features at each level"
   ]
  },
  {
   "cell_type": "code",
   "execution_count": 44,
   "metadata": {
    "collapsed": false
   },
   "outputs": [],
   "source": [
    "import sklearn.pipeline"
   ]
  },
  {
   "cell_type": "code",
   "execution_count": 47,
   "metadata": {
    "collapsed": false
   },
   "outputs": [
    {
     "name": "stdout",
     "output_type": "stream",
     "text": [
      "Time=68.5872459412\n",
      "Logloss=1.8722423589\n",
      "Time=18.8261601925\n",
      "Accuracy=0.520767405063\n"
     ]
    },
    {
     "name": "stderr",
     "output_type": "stream",
     "text": [
      "/afs/inf.ed.ac.uk/user/s11/s1145806/Documents/git/neukrill-venv-auto/lib/python2.7/site-packages/sklearn/feature_selection/univariate_selection.py:106: RuntimeWarning: divide by zero encountered in divide\n",
      "  f = msb / msw\n",
      "/afs/inf.ed.ac.uk/user/s11/s1145806/Documents/git/neukrill-venv-auto/lib/python2.7/site-packages/sklearn/feature_selection/univariate_selection.py:106: RuntimeWarning: invalid value encountered in divide\n",
      "  f = msb / msw\n"
     ]
    }
   ],
   "source": [
    "base_clf = sklearn.ensemble.RandomForestClassifier(n_estimators=1000, max_depth=20, min_samples_leaf=5, n_jobs=12, random_state=42)\n",
    "best_filter = sklearn.feature_selection.SelectKBest(sklearn.feature_selection.f_classif, k=100)\n",
    "\n",
    "base_pipe = sklearn.pipeline.Pipeline([('filter', best_filter), ('clf', base_clf)])\n",
    "\n",
    "hier_clf = neukrill_net.stacked.HierarchyClassifier(marked_taxonomy, base_pipe)\n",
    "\n",
    "my_X = sklearn.preprocessing.StandardScaler().fit_transform(XF.squeeze(0))\n",
    "X_train, X_test, y_train, y_test = sklearn.cross_validation.train_test_split(my_X, y, test_size=0.5, random_state=42)\n",
    "\n",
    "t0 = time.time()\n",
    "hier_clf.fit(X_train, y_train)\n",
    "\n",
    "t1 = time.time()\n",
    "total = t1-t0\n",
    "print(\"Time={}\".format(total))\n",
    "\n",
    "t0 = time.time()\n",
    "p = hier_clf.predict_proba(X_test)\n",
    "print(\"Logloss={}\".format(sklearn.metrics.log_loss(y_test, p)))\n",
    "print(\"Time={}\".format(time.time()-t0))\n",
    "\n",
    "print(\"Accuracy={}\".format(sklearn.metrics.accuracy_score(y_test,np.argmax(p,1))))"
   ]
  },
  {
   "cell_type": "code",
   "execution_count": 47,
   "metadata": {
    "collapsed": false
   },
   "outputs": [
    {
     "name": "stdout",
     "output_type": "stream",
     "text": [
      "Time=68.5872459412\n",
      "Logloss=1.8722423589\n",
      "Time=18.8261601925\n",
      "Accuracy=0.520767405063\n"
     ]
    },
    {
     "name": "stderr",
     "output_type": "stream",
     "text": [
      "/afs/inf.ed.ac.uk/user/s11/s1145806/Documents/git/neukrill-venv-auto/lib/python2.7/site-packages/sklearn/feature_selection/univariate_selection.py:106: RuntimeWarning: divide by zero encountered in divide\n",
      "  f = msb / msw\n",
      "/afs/inf.ed.ac.uk/user/s11/s1145806/Documents/git/neukrill-venv-auto/lib/python2.7/site-packages/sklearn/feature_selection/univariate_selection.py:106: RuntimeWarning: invalid value encountered in divide\n",
      "  f = msb / msw\n"
     ]
    }
   ],
   "source": [
    "base_clf = sklearn.ensemble.RandomForestClassifier(n_estimators=1000, max_depth=20, min_samples_leaf=5, n_jobs=12, random_state=42)\n",
    "best_filter = sklearn.feature_selection.SelectKBest(sklearn.feature_selection.f_classif, k=100)\n",
    "\n",
    "base_pipe = sklearn.pipeline.Pipeline([('filter', best_filter), ('clf', base_clf)])\n",
    "\n",
    "hier_clf = neukrill_net.stacked.HierarchyClassifier(marked_taxonomy, base_pipe)\n",
    "\n",
    "my_X = sklearn.preprocessing.StandardScaler().fit_transform(XF.squeeze(0))\n",
    "X_train, X_test, y_train, y_test = sklearn.cross_validation.train_test_split(my_X, y, test_size=0.5, random_state=42)\n",
    "\n",
    "t0 = time.time()\n",
    "hier_clf.fit(X_train, y_train)\n",
    "\n",
    "t1 = time.time()\n",
    "total = t1-t0\n",
    "print(\"Time={}\".format(total))\n",
    "\n",
    "t0 = time.time()\n",
    "p = hier_clf.predict_proba(X_test)\n",
    "print(\"Logloss={}\".format(sklearn.metrics.log_loss(y_test, p)))\n",
    "print(\"Time={}\".format(time.time()-t0))\n",
    "\n",
    "print(\"Accuracy={}\".format(sklearn.metrics.accuracy_score(y_test,np.argmax(p,1))))"
   ]
  },
  {
   "cell_type": "markdown",
   "metadata": {},
   "source": [
    "## Logistic Regression"
   ]
  },
  {
   "cell_type": "code",
   "execution_count": 48,
   "metadata": {
    "collapsed": true
   },
   "outputs": [],
   "source": [
    "clf = sklearn.linear_model.LogisticRegression(random_state=42)"
   ]
  },
  {
   "cell_type": "code",
   "execution_count": 49,
   "metadata": {
    "collapsed": false
   },
   "outputs": [
    {
     "name": "stdout",
     "output_type": "stream",
     "text": [
      "Time=748.569411993\n",
      "Accuracy=0.470266350211\n",
      "Logloss=2.16218685973\n"
     ]
    }
   ],
   "source": [
    "t0 = time.time()\n",
    "X_train, X_test, y_train, y_test = sklearn.cross_validation.train_test_split(\n",
    "    sklearn.preprocessing.StandardScaler().fit_transform(XF.squeeze(0)), y, test_size=0.5, random_state=42)\n",
    "clf.fit(X_train, y_train)\n",
    "\n",
    "t1 = time.time()\n",
    "total = t1-t0\n",
    "print(\"Time={}\".format(total))\n",
    "\n",
    "print(\"Accuracy={}\".format(clf.score(X_test, y_test)))\n",
    "print(\"Logloss={}\".format(sklearn.metrics.log_loss(y_test, clf.predict_proba(X_test))))"
   ]
  },
  {
   "cell_type": "code",
   "execution_count": 50,
   "metadata": {
    "collapsed": false
   },
   "outputs": [
    {
     "name": "stdout",
     "output_type": "stream",
     "text": [
      "Time=145.000400066\n",
      "Accuracy=0.527030590717\n",
      "Logloss=1.83400284889\n"
     ]
    }
   ],
   "source": [
    "clf = sklearn.linear_model.LogisticRegression(random_state=42)\n",
    "\n",
    "my_X = sklearn.feature_selection.SelectKBest(sklearn.feature_selection.f_classif, k=100).fit_transform(XF.squeeze(0), y)\n",
    "\n",
    "t0 = time.time()\n",
    "X_train, X_test, y_train, y_test = sklearn.cross_validation.train_test_split(\n",
    "    sklearn.preprocessing.StandardScaler().fit_transform(my_X), y, test_size=0.5, random_state=42)\n",
    "clf.fit(X_train, y_train)\n",
    "\n",
    "t1 = time.time()\n",
    "total = t1-t0\n",
    "print(\"Time={}\".format(total))\n",
    "\n",
    "print(\"Accuracy={}\".format(clf.score(X_test, y_test)))\n",
    "print(\"Logloss={}\".format(sklearn.metrics.log_loss(y_test, clf.predict_proba(X_test))))"
   ]
  },
  {
   "cell_type": "code",
   "execution_count": 55,
   "metadata": {
    "collapsed": false
   },
   "outputs": [
    {
     "name": "stdout",
     "output_type": "stream",
     "text": [
      "Time=123.477735996\n",
      "Logloss=2.53232405225\n",
      "Time=0.659505844116\n",
      "Accuracy=0.448641877637\n"
     ]
    }
   ],
   "source": [
    "base_clf = sklearn.linear_model.LogisticRegression(random_state=42)\n",
    "\n",
    "hier_clf = neukrill_net.stacked.HierarchyClassifier(marked_taxonomy, base_clf)\n",
    "\n",
    "my_X = sklearn.preprocessing.StandardScaler().fit_transform(XF.squeeze(0))\n",
    "X_train, X_test, y_train, y_test = sklearn.cross_validation.train_test_split(my_X, y, test_size=0.5, random_state=42)\n",
    "\n",
    "t0 = time.time()\n",
    "hier_clf.fit(X_train, y_train)\n",
    "\n",
    "t1 = time.time()\n",
    "total = t1-t0\n",
    "print(\"Time={}\".format(total))\n",
    "\n",
    "t0 = time.time()\n",
    "p = hier_clf.predict_proba(X_test)\n",
    "print(\"Logloss={}\".format(sklearn.metrics.log_loss(y_test, p)))\n",
    "print(\"Time={}\".format(time.time()-t0))\n",
    "\n",
    "print(\"Accuracy={}\".format(sklearn.metrics.accuracy_score(y_test,np.argmax(p,1))))"
   ]
  },
  {
   "cell_type": "code",
   "execution_count": 52,
   "metadata": {
    "collapsed": false
   },
   "outputs": [
    {
     "name": "stdout",
     "output_type": "stream",
     "text": [
      "Time=21.4947209358\n",
      "Logloss=2.04123557253\n",
      "Time=1.12955403328\n",
      "Accuracy=0.476331751055\n"
     ]
    }
   ],
   "source": [
    "base_clf = sklearn.linear_model.LogisticRegression(random_state=42)\n",
    "best_filter = sklearn.feature_selection.SelectKBest(sklearn.feature_selection.f_classif, k=100)\n",
    "\n",
    "base_pipe = sklearn.pipeline.Pipeline([('filter', best_filter), ('clf', base_clf)])\n",
    "\n",
    "hier_clf = neukrill_net.stacked.HierarchyClassifier(marked_taxonomy, base_pipe)\n",
    "\n",
    "my_X = sklearn.preprocessing.StandardScaler().fit_transform(XF.squeeze(0))\n",
    "X_train, X_test, y_train, y_test = sklearn.cross_validation.train_test_split(my_X, y, test_size=0.5, random_state=42)\n",
    "\n",
    "t0 = time.time()\n",
    "hier_clf.fit(X_train, y_train)\n",
    "\n",
    "t1 = time.time()\n",
    "total = t1-t0\n",
    "print(\"Time={}\".format(total))\n",
    "\n",
    "t0 = time.time()\n",
    "p = hier_clf.predict_proba(X_test)\n",
    "print(\"Logloss={}\".format(sklearn.metrics.log_loss(y_test, p)))\n",
    "print(\"Time={}\".format(time.time()-t0))\n",
    "\n",
    "print(\"Accuracy={}\".format(sklearn.metrics.accuracy_score(y_test,np.argmax(p,1))))"
   ]
  },
  {
   "cell_type": "markdown",
   "metadata": {
    "collapsed": true
   },
   "source": [
    "## Linear SVC"
   ]
  },
  {
   "cell_type": "code",
   "execution_count": 56,
   "metadata": {
    "collapsed": false
   },
   "outputs": [
    {
     "name": "stdout",
     "output_type": "stream",
     "text": [
      "Time=337.150140047\n",
      "Accuracy=0.452202004219\n",
      "Logloss=2.14135559841\n"
     ]
    }
   ],
   "source": [
    "clf = sklearn.svm.SVC(kernel='linear', probability=True, random_state=42)\n",
    "\n",
    "t0 = time.time()\n",
    "X_train, X_test, y_train, y_test = sklearn.cross_validation.train_test_split(\n",
    "    sklearn.preprocessing.StandardScaler().fit_transform(XF.squeeze(0)), y, test_size=0.5, random_state=42)\n",
    "clf.fit(X_train, y_train)\n",
    "\n",
    "t1 = time.time()\n",
    "total = t1-t0\n",
    "print(\"Time={}\".format(total))\n",
    "\n",
    "print(\"Accuracy={}\".format(clf.score(X_test, y_test)))\n",
    "print(\"Logloss={}\".format(sklearn.metrics.log_loss(y_test, clf.predict_proba(X_test))))"
   ]
  },
  {
   "cell_type": "code",
   "execution_count": 57,
   "metadata": {
    "collapsed": false
   },
   "outputs": [
    {
     "name": "stdout",
     "output_type": "stream",
     "text": [
      "Time=86.2040469646\n",
      "Accuracy=0.553270042194\n",
      "Logloss=1.7817047324\n"
     ]
    }
   ],
   "source": [
    "clf = sklearn.svm.SVC(kernel='linear', probability=True, random_state=42)\n",
    "\n",
    "my_X = sklearn.feature_selection.SelectKBest(sklearn.feature_selection.f_classif, k=100).fit_transform(XF.squeeze(0), y)\n",
    "\n",
    "t0 = time.time()\n",
    "X_train, X_test, y_train, y_test = sklearn.cross_validation.train_test_split(\n",
    "    sklearn.preprocessing.StandardScaler().fit_transform(my_X), y, test_size=0.5, random_state=42)\n",
    "clf.fit(X_train, y_train)\n",
    "\n",
    "t1 = time.time()\n",
    "total = t1-t0\n",
    "print(\"Time={}\".format(total))\n",
    "\n",
    "print(\"Accuracy={}\".format(clf.score(X_test, y_test)))\n",
    "print(\"Logloss={}\".format(sklearn.metrics.log_loss(y_test, clf.predict_proba(X_test))))"
   ]
  },
  {
   "cell_type": "code",
   "execution_count": 58,
   "metadata": {
    "collapsed": false
   },
   "outputs": [
    {
     "name": "stdout",
     "output_type": "stream",
     "text": [
      "Time=1202.48394012\n",
      "Logloss=2.14906265613\n",
      "Time=122.273081064\n",
      "Accuracy=0.434665084388\n"
     ]
    }
   ],
   "source": [
    "base_clf = sklearn.svm.SVC(kernel='linear', probability=True, random_state=42)\n",
    "\n",
    "hier_clf = neukrill_net.stacked.HierarchyClassifier(marked_taxonomy, base_clf)\n",
    "\n",
    "my_X = sklearn.preprocessing.StandardScaler().fit_transform(XF.squeeze(0))\n",
    "X_train, X_test, y_train, y_test = sklearn.cross_validation.train_test_split(my_X, y, test_size=0.5, random_state=42)\n",
    "\n",
    "t0 = time.time()\n",
    "hier_clf.fit(X_train, y_train)\n",
    "\n",
    "t1 = time.time()\n",
    "total = t1-t0\n",
    "print(\"Time={}\".format(total))\n",
    "\n",
    "t0 = time.time()\n",
    "p = hier_clf.predict_proba(X_test)\n",
    "print(\"Logloss={}\".format(sklearn.metrics.log_loss(y_test, p)))\n",
    "print(\"Time={}\".format(time.time()-t0))\n",
    "\n",
    "print(\"Accuracy={}\".format(sklearn.metrics.accuracy_score(y_test,np.argmax(p,1))))"
   ]
  },
  {
   "cell_type": "code",
   "execution_count": 59,
   "metadata": {
    "collapsed": false
   },
   "outputs": [
    {
     "name": "stdout",
     "output_type": "stream",
     "text": [
      "Time=177.089457035\n",
      "Logloss=1.91130093883\n",
      "Time=34.1300561428\n",
      "Accuracy=0.488528481013\n"
     ]
    }
   ],
   "source": [
    "base_clf = sklearn.svm.SVC(kernel='linear', probability=True, random_state=42)\n",
    "best_filter = sklearn.feature_selection.SelectKBest(sklearn.feature_selection.f_classif, k=100)\n",
    "\n",
    "base_pipe = sklearn.pipeline.Pipeline([('filter', best_filter), ('clf', base_clf)])\n",
    "\n",
    "hier_clf = neukrill_net.stacked.HierarchyClassifier(marked_taxonomy, base_pipe)\n",
    "\n",
    "my_X = sklearn.preprocessing.StandardScaler().fit_transform(XF.squeeze(0))\n",
    "X_train, X_test, y_train, y_test = sklearn.cross_validation.train_test_split(my_X, y, test_size=0.5, random_state=42)\n",
    "\n",
    "t0 = time.time()\n",
    "hier_clf.fit(X_train, y_train)\n",
    "\n",
    "t1 = time.time()\n",
    "total = t1-t0\n",
    "print(\"Time={}\".format(total))\n",
    "\n",
    "t0 = time.time()\n",
    "p = hier_clf.predict_proba(X_test)\n",
    "print(\"Logloss={}\".format(sklearn.metrics.log_loss(y_test, p)))\n",
    "print(\"Time={}\".format(time.time()-t0))\n",
    "\n",
    "print(\"Accuracy={}\".format(sklearn.metrics.accuracy_score(y_test,np.argmax(p,1))))"
   ]
  },
  {
   "cell_type": "markdown",
   "metadata": {
    "collapsed": true
   },
   "source": [
    "## Non-linear SVC"
   ]
  },
  {
   "cell_type": "markdown",
   "metadata": {},
   "source": [
    "one-vs-one"
   ]
  },
  {
   "cell_type": "code",
   "execution_count": 60,
   "metadata": {
    "collapsed": false
   },
   "outputs": [
    {
     "name": "stdout",
     "output_type": "stream",
     "text": [
      "Time=518.949584007\n",
      "Accuracy=0.494857594937\n",
      "Logloss=1.82661110623\n"
     ]
    }
   ],
   "source": [
    "clf = sklearn.svm.SVC(probability=True, random_state=42)\n",
    "\n",
    "t0 = time.time()\n",
    "X_train, X_test, y_train, y_test = sklearn.cross_validation.train_test_split(\n",
    "    sklearn.preprocessing.StandardScaler().fit_transform(XF.squeeze(0)), y, test_size=0.5, random_state=42)\n",
    "clf.fit(X_train, y_train)\n",
    "\n",
    "t1 = time.time()\n",
    "total = t1-t0\n",
    "print(\"Time={}\".format(total))\n",
    "\n",
    "print(\"Accuracy={}\".format(clf.score(X_test, y_test)))\n",
    "print(\"Logloss={}\".format(sklearn.metrics.log_loss(y_test, clf.predict_proba(X_test))))"
   ]
  },
  {
   "cell_type": "code",
   "execution_count": 61,
   "metadata": {
    "collapsed": false
   },
   "outputs": [
    {
     "name": "stdout",
     "output_type": "stream",
     "text": [
      "Time=121.488356829\n",
      "Accuracy=0.522679324895\n",
      "Logloss=1.70179310087\n"
     ]
    }
   ],
   "source": [
    "clf = sklearn.svm.SVC(kernel='rbf', probability=True, random_state=42)\n",
    "\n",
    "my_X = sklearn.feature_selection.SelectKBest(sklearn.feature_selection.f_classif, k=100).fit_transform(XF.squeeze(0), y)\n",
    "\n",
    "t0 = time.time()\n",
    "X_train, X_test, y_train, y_test = sklearn.cross_validation.train_test_split(\n",
    "    sklearn.preprocessing.StandardScaler().fit_transform(my_X), y, test_size=0.5, random_state=42)\n",
    "clf.fit(X_train, y_train)\n",
    "\n",
    "t1 = time.time()\n",
    "total = t1-t0\n",
    "print(\"Time={}\".format(total))\n",
    "\n",
    "print(\"Accuracy={}\".format(clf.score(X_test, y_test)))\n",
    "print(\"Logloss={}\".format(sklearn.metrics.log_loss(y_test, clf.predict_proba(X_test))))"
   ]
  },
  {
   "cell_type": "code",
   "execution_count": 62,
   "metadata": {
    "collapsed": false
   },
   "outputs": [
    {
     "name": "stdout",
     "output_type": "stream",
     "text": [
      "Time=446.839751005\n",
      "Logloss=1.85225221785\n",
      "Time=184.890357971\n",
      "Accuracy=0.50039556962\n"
     ]
    }
   ],
   "source": [
    "base_clf = sklearn.svm.SVC(kernel='rbf', probability=True, random_state=42)\n",
    "\n",
    "hier_clf = neukrill_net.stacked.HierarchyClassifier(marked_taxonomy, base_clf)\n",
    "\n",
    "my_X = sklearn.preprocessing.StandardScaler().fit_transform(XF.squeeze(0))\n",
    "X_train, X_test, y_train, y_test = sklearn.cross_validation.train_test_split(my_X, y, test_size=0.5, random_state=42)\n",
    "\n",
    "t0 = time.time()\n",
    "hier_clf.fit(X_train, y_train)\n",
    "\n",
    "t1 = time.time()\n",
    "total = t1-t0\n",
    "print(\"Time={}\".format(total))\n",
    "\n",
    "t0 = time.time()\n",
    "p = hier_clf.predict_proba(X_test)\n",
    "print(\"Logloss={}\".format(sklearn.metrics.log_loss(y_test, p)))\n",
    "print(\"Time={}\".format(time.time()-t0))\n",
    "\n",
    "print(\"Accuracy={}\".format(sklearn.metrics.accuracy_score(y_test,np.argmax(p,1))))"
   ]
  },
  {
   "cell_type": "code",
   "execution_count": 63,
   "metadata": {
    "collapsed": false
   },
   "outputs": [
    {
     "name": "stdout",
     "output_type": "stream",
     "text": [
      "Time=128.495127916\n",
      "Logloss=1.79123650959\n",
      "Time=55.6328210831\n",
      "Accuracy=0.507318037975\n"
     ]
    }
   ],
   "source": [
    "base_clf = sklearn.svm.SVC(kernel='rbf', probability=True, random_state=42)\n",
    "best_filter = sklearn.feature_selection.SelectKBest(sklearn.feature_selection.f_classif, k=100)\n",
    "\n",
    "base_pipe = sklearn.pipeline.Pipeline([('filter', best_filter), ('clf', base_clf)])\n",
    "\n",
    "hier_clf = neukrill_net.stacked.HierarchyClassifier(marked_taxonomy, base_pipe)\n",
    "\n",
    "my_X = sklearn.preprocessing.StandardScaler().fit_transform(XF.squeeze(0))\n",
    "X_train, X_test, y_train, y_test = sklearn.cross_validation.train_test_split(my_X, y, test_size=0.5, random_state=42)\n",
    "\n",
    "t0 = time.time()\n",
    "hier_clf.fit(X_train, y_train)\n",
    "\n",
    "t1 = time.time()\n",
    "total = t1-t0\n",
    "print(\"Time={}\".format(total))\n",
    "\n",
    "t0 = time.time()\n",
    "p = hier_clf.predict_proba(X_test)\n",
    "print(\"Logloss={}\".format(sklearn.metrics.log_loss(y_test, p)))\n",
    "print(\"Time={}\".format(time.time()-t0))\n",
    "\n",
    "print(\"Accuracy={}\".format(sklearn.metrics.accuracy_score(y_test,np.argmax(p,1))))"
   ]
  },
  {
   "cell_type": "code",
   "execution_count": null,
   "metadata": {
    "collapsed": true
   },
   "outputs": [],
   "source": []
  }
 ],
 "metadata": {
  "kernelspec": {
   "display_name": "Python 2",
   "language": "python",
   "name": "python2"
  },
  "language_info": {
   "codemirror_mode": {
    "name": "ipython",
    "version": 2
   },
   "file_extension": ".py",
   "mimetype": "text/x-python",
   "name": "python",
   "nbconvert_exporter": "python",
   "pygments_lexer": "ipython2",
   "version": "2.7.8"
  }
 },
 "nbformat": 4,
 "nbformat_minor": 0
}
