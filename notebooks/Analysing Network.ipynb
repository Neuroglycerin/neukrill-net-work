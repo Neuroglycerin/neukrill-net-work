{
 "cells": [
  {
   "cell_type": "markdown",
   "metadata": {},
   "source": [
    "Goals of this notebook. Take our best model file:\n",
    "\n",
    "* plot weights\n",
    "* look at number of parameters\n",
    "* ..."
   ]
  },
  {
   "cell_type": "code",
   "execution_count": 1,
   "metadata": {
    "collapsed": false
   },
   "outputs": [
    {
     "name": "stderr",
     "output_type": "stream",
     "text": [
      "Using gpu device 0: Tesla K40c\n",
      ":0: FutureWarning: IPython widgets are experimental and may change in the future.\n"
     ]
    },
    {
     "name": "stdout",
     "output_type": "stream",
     "text": [
      "Welcome to the HoloViews IPython extension! (http://ioam.github.io/holoviews/)\n",
      "Available magics: %compositor, %opts, %params, %view, %%labels, %%opts, %%view\n"
     ]
    },
    {
     "data": {
      "text/plain": [
       "<matplotlib.figure.Figure at 0x7effe70cd310>"
      ]
     },
     "metadata": {},
     "output_type": "display_data"
    },
    {
     "data": {
      "text/plain": [
       "<matplotlib.figure.Figure at 0x7effe70cdcd0>"
      ]
     },
     "metadata": {},
     "output_type": "display_data"
    },
    {
     "data": {
      "text/plain": [
       "<matplotlib.figure.Figure at 0x7effe70cdad0>"
      ]
     },
     "metadata": {},
     "output_type": "display_data"
    }
   ],
   "source": [
    "import pylearn2.utils\n",
    "import pylearn2.config\n",
    "import theano\n",
    "import neukrill_net.dense_dataset\n",
    "import neukrill_net.utils\n",
    "import numpy as np\n",
    "%matplotlib inline\n",
    "import matplotlib.pyplot as plt\n",
    "import holoviews as hl\n",
    "%load_ext holoviews.ipython\n",
    "import sklearn.metrics"
   ]
  },
  {
   "cell_type": "markdown",
   "metadata": {},
   "source": [
    "At the time of writing our best model is defined by the run settings file `alexnet_based_40aug.json`, basically taking the AlexNet based architecture with an extra convolutional layer and using more augmentation. Full details are in the following YAML file:"
   ]
  },
  {
   "cell_type": "code",
   "execution_count": 2,
   "metadata": {
    "collapsed": false
   },
   "outputs": [
    {
     "name": "stdout",
     "output_type": "stream",
     "text": [
      "/afs/inf.ed.ac.uk/user/s08/s0805516/repos/neukrill-net-work\n"
     ]
    }
   ],
   "source": [
    "cd .."
   ]
  },
  {
   "cell_type": "code",
   "execution_count": 4,
   "metadata": {
    "collapsed": false,
    "scrolled": false
   },
   "outputs": [
    {
     "name": "stdout",
     "output_type": "stream",
     "text": [
      "!obj:pylearn2.train.Train {\r\n",
      "    dataset: &train !obj:neukrill_net.dense_dataset.DensePNGDataset {\r\n",
      "        settings_path: %(settings_path)s,\r\n",
      "        run_settings: %(run_settings_path)s,\r\n",
      "        training_set_mode: \"train\"\r\n",
      "    },\r\n",
      "    model: !obj:pylearn2.models.mlp.MLP {\r\n",
      "        batch_size: &batch_size 128,\r\n",
      "        input_space: !obj:pylearn2.space.Conv2DSpace {\r\n",
      "            shape: %(final_shape)s,\r\n",
      "            num_channels: 1,\r\n",
      "            axes: ['c', 0, 1, 'b'],\r\n",
      "        },\r\n",
      "        layers: [ !obj:pylearn2.models.mlp.ConvRectifiedLinear {\r\n",
      "                     layer_name: h1,\r\n",
      "                     output_channels: 48,\r\n",
      "                     irange: .025,\r\n",
      "                     init_bias: 0,\r\n",
      "                     kernel_shape: [8, 8],\r\n",
      "                     pool_shape: [2, 2],\r\n",
      "                     pool_stride: [2, 2],\r\n",
      "                     max_kernel_norm: 1.9365\r\n",
      "                 },!obj:pylearn2.models.mlp.ConvRectifiedLinear {\r\n",
      "                     layer_name: h2,\r\n",
      "                     output_channels: 96,\r\n",
      "                     irange: .025,\r\n",
      "                     init_bias: 1,\r\n",
      "                     kernel_shape: [5, 5],\r\n",
      "                     pool_shape: [2, 2],\r\n",
      "                     pool_stride: [2, 2],\r\n",
      "                     max_kernel_norm: 1.9365\r\n",
      "                 }, !obj:pylearn2.models.mlp.ConvRectifiedLinear {\r\n",
      "                     layer_name: h3,\r\n",
      "                     output_channels: 128,\r\n",
      "                     irange: .025,\r\n",
      "                     init_bias: 0,\r\n",
      "                     kernel_shape: [3, 3],\r\n",
      "                     border_mode: full,\r\n",
      "                     pool_shape: [1, 1],\r\n",
      "                     pool_stride: [1, 1],\r\n",
      "                     max_kernel_norm: 1.9365\r\n",
      "                  }, !obj:pylearn2.models.mlp.ConvRectifiedLinear {\r\n",
      "                     layer_name: h4,\r\n",
      "                     output_channels: 192,\r\n",
      "                     irange: .025,\r\n",
      "                     init_bias: 0,\r\n",
      "                     kernel_shape: [3, 3],\r\n",
      "                     border_mode: full,\r\n",
      "                     pool_shape: [1, 1],\r\n",
      "                     pool_stride: [1, 1],\r\n",
      "                     max_kernel_norm: 1.9365\r\n",
      "                 }, !obj:pylearn2.models.mlp.ConvRectifiedLinear {\r\n",
      "                     layer_name: 'h5',\r\n",
      "                     output_channels: 128,\r\n",
      "                     irange: .025,\r\n",
      "                     init_bias: 1,\r\n",
      "                     kernel_shape: [3, 3],\r\n",
      "                     border_mode: full,\r\n",
      "                     pool_shape: [2, 2],\r\n",
      "                     pool_stride: [2, 2],\r\n",
      "                     max_kernel_norm: 1.9365\r\n",
      "                 }, !obj:pylearn2.models.mlp.RectifiedLinear {\r\n",
      "                     dim: 1024,\r\n",
      "                     max_col_norm: 1.9,\r\n",
      "                     layer_name: h6,\r\n",
      "                     istdev: .05,\r\n",
      "                     W_lr_scale: .25,\r\n",
      "                     b_lr_scale: .25\r\n",
      "                 }, !obj:pylearn2.models.mlp.Softmax {\r\n",
      "                     n_classes: %(n_classes)i,\r\n",
      "                     max_col_norm: 1.9365,\r\n",
      "                     layer_name: y,\r\n",
      "                     istdev: .05,\r\n",
      "                     W_lr_scale: .25,\r\n",
      "                     b_lr_scale: .25\r\n",
      "                 }\r\n",
      "                ],\r\n",
      "    },\r\n",
      "    algorithm: !obj:pylearn2.training_algorithms.sgd.SGD {\r\n",
      "        train_iteration_mode: even_shuffled_sequential,\r\n",
      "        monitor_iteration_mode: even_sequential,\r\n",
      "        batch_size: *batch_size,\r\n",
      "        learning_rate: .1,\r\n",
      "        learning_rule: !obj:pylearn2.training_algorithms.learning_rule.Momentum {\r\n",
      "            init_momentum: 0.5\r\n",
      "        },\r\n",
      "        monitoring_dataset: {\r\n",
      "                'train': *train,\r\n",
      "                'valid' : !obj:neukrill_net.dense_dataset.DensePNGDataset  {\r\n",
      "                                settings_path: %(settings_path)s,\r\n",
      "                                run_settings: %(run_settings_path)s,\r\n",
      "                                training_set_mode: \"validation\"\r\n",
      "            },\r\n",
      "        },\r\n",
      "        cost: !obj:pylearn2.costs.cost.SumOfCosts { costs: [ \r\n",
      "            !obj:pylearn2.costs.mlp.dropout.Dropout {\r\n",
      "                input_include_probs: {\r\n",
      "                    h1 : 1.,\r\n",
      "                    h2 : 1.,\r\n",
      "                    h3 : 1.,\r\n",
      "                    h4 : 1.,\r\n",
      "                    h5 : 1.,\r\n",
      "                    h6 : 0.5\r\n",
      "                },\r\n",
      "                input_scales: {\r\n",
      "                    h1 : 1.,\r\n",
      "                    h2 : 1.,\r\n",
      "                    h3 : 1.,\r\n",
      "                    h4 : 1.,\r\n",
      "                    h5 : 1.,\r\n",
      "                    h6 : 2.\r\n",
      "                }\r\n",
      "             },\r\n",
      "             !obj:pylearn2.costs.mlp.WeightDecay {\r\n",
      "                 coeffs : {\r\n",
      "                     h1 : .00005,\r\n",
      "                     h2 : .00005,\r\n",
      "                     h3 : .00005,\r\n",
      "                     h4 : .00005,\r\n",
      "                     h5 : .00005,\r\n",
      "                     h6 : .00005\r\n",
      "                 }\r\n",
      "             }\r\n",
      "             ]\r\n",
      "        },\r\n",
      "        termination_criterion: !obj:pylearn2.termination_criteria.And {\r\n",
      "            criteria: [\r\n",
      "                !obj:pylearn2.termination_criteria.EpochCounter {\r\n",
      "                    max_epochs: 500\r\n",
      "                },\r\n",
      "            ]\r\n",
      "        }\r\n",
      "    },\r\n",
      "    extensions: [\r\n",
      "        !obj:pylearn2.training_algorithms.learning_rule.MomentumAdjustor {\r\n",
      "            start: 1,\r\n",
      "            saturate: 25,\r\n",
      "            final_momentum: 0.95\r\n",
      "        },\r\n",
      "        !obj:pylearn2.training_algorithms.sgd.LinearDecayOverEpoch {\r\n",
      "            start: 1,\r\n",
      "            saturate: 25,\r\n",
      "            decay_factor: 0.025\r\n",
      "        },\r\n",
      "        !obj:pylearn2.train_extensions.best_params.MonitorBasedSaveBest {\r\n",
      "             channel_name: valid_objective,\r\n",
      "             save_path: '%(save_path)s'\r\n",
      "        },\r\n",
      "        !obj:pylearn2.training_algorithms.sgd.MonitorBasedLRAdjuster {\r\n",
      "            high_trigger: 1.,\r\n",
      "            low_trigger: 0.999,\r\n",
      "            grow_amt: 1.1,\r\n",
      "            shrink_amt: 0.9,\r\n",
      "            max_lr: 0.2,\r\n",
      "            min_lr: 1e-5,\r\n",
      "            channel_name: valid_y_misclass\r\n",
      "        }\r\n",
      "    ],\r\n",
      "    save_path: '%(alt_picklepath)s',\r\n",
      "    save_freq: 1\r\n",
      "}\r\n"
     ]
    }
   ],
   "source": [
    "cat yaml_templates/alexnet_based_extra_convlayer.yaml"
   ]
  },
  {
   "cell_type": "markdown",
   "metadata": {},
   "source": [
    "It has relatively few MLP layers, so maybe we should look at where the parameters in our model are distributed; comparing the MLP layers to the convolutional ones."
   ]
  },
  {
   "cell_type": "code",
   "execution_count": 7,
   "metadata": {
    "collapsed": true
   },
   "outputs": [],
   "source": [
    "settings = neukrill_net.utils.Settings(\"settings.json\")\n",
    "run_settings = neukrill_net.utils.load_run_settings(\n",
    "    \"run_settings/alexnet_based_40aug.json\", settings, force=True)"
   ]
  },
  {
   "cell_type": "code",
   "execution_count": 8,
   "metadata": {
    "collapsed": false
   },
   "outputs": [],
   "source": [
    "model = pylearn2.utils.serial.load(run_settings[\"pickle abspath\"])"
   ]
  },
  {
   "cell_type": "code",
   "execution_count": 9,
   "metadata": {
    "collapsed": true
   },
   "outputs": [],
   "source": [
    "params = model.get_params()"
   ]
  },
  {
   "cell_type": "code",
   "execution_count": 14,
   "metadata": {
    "collapsed": false
   },
   "outputs": [
    {
     "data": {
      "text/plain": [
       "'h1_W'"
      ]
     },
     "execution_count": 14,
     "metadata": {},
     "output_type": "execute_result"
    }
   ],
   "source": [
    "params[0].name"
   ]
  },
  {
   "cell_type": "code",
   "execution_count": 25,
   "metadata": {
    "collapsed": false
   },
   "outputs": [
    {
     "name": "stdout",
     "output_type": "stream",
     "text": [
      "Total parameters: 9370057\n"
     ]
    }
   ],
   "source": [
    "total_params = sum(map(lambda x: x.get_value().size,params))\n",
    "print(\"Total parameters: {0}\".format(total_params))"
   ]
  },
  {
   "cell_type": "code",
   "execution_count": 16,
   "metadata": {
    "collapsed": false
   },
   "outputs": [
    {
     "name": "stdout",
     "output_type": "stream",
     "text": [
      "Layer h1_W: 3072 parameters\n",
      "Layer h1_b: 80688 parameters\n",
      "Layer h2_W: 115200 parameters\n",
      "Layer h2_b: 27744 parameters\n",
      "Layer h3_W: 110592 parameters\n",
      "Layer h3_b: 15488 parameters\n",
      "Layer h4_W: 221184 parameters\n",
      "Layer h4_b: 32448 parameters\n",
      "Layer h5_W: 221184 parameters\n",
      "Layer h5_b: 28800 parameters\n",
      "Layer h6_W: 8388608 parameters\n",
      "Layer h6_b: 1024 parameters\n",
      "Layer softmax_b: 121 parameters\n",
      "Layer softmax_W: 123904 parameters\n"
     ]
    }
   ],
   "source": [
    "for l in params:\n",
    "    print(\"Layer {0}: {1} parameters\".format(l.name,l.get_value().size))"
   ]
  },
  {
   "cell_type": "code",
   "execution_count": 19,
   "metadata": {
    "collapsed": false
   },
   "outputs": [
    {
     "name": "stdout",
     "output_type": "stream",
     "text": [
      "Layer h1_W: 0.0327852861514% of the parameters.\n",
      "Layer h1_b: 0.861126031571% of the parameters.\n",
      "Layer h2_W: 1.22944823068% of the parameters.\n",
      "Layer h2_b: 0.296092115555% of the parameters.\n",
      "Layer h3_W: 1.18027030145% of the parameters.\n",
      "Layer h3_b: 0.165292484347% of the parameters.\n",
      "Layer h4_W: 2.3605406029% of the parameters.\n",
      "Layer h4_b: 0.346294584974% of the parameters.\n",
      "Layer h5_W: 2.3605406029% of the parameters.\n",
      "Layer h5_b: 0.307362057669% of the parameters.\n",
      "Layer h6_W: 89.5256880508% of the parameters.\n",
      "Layer h6_b: 0.0109284287171% of the parameters.\n",
      "Layer softmax_b: 0.00129134753396% of the parameters.\n",
      "Layer softmax_W: 1.32233987477% of the parameters.\n"
     ]
    }
   ],
   "source": [
    "for l in params:\n",
    "    print(\"Layer {0}: {1}% of the parameters.\".format(l.name,\n",
    "                        100*(float(l.get_value().size)/total_params)))"
   ]
  },
  {
   "cell_type": "markdown",
   "metadata": {},
   "source": [
    "So most of the parameters are in the weight matrix for layer 6? That's probably not a good idea."
   ]
  },
  {
   "cell_type": "markdown",
   "metadata": {},
   "source": [
    "Receptive Fields/Kernels\n",
    "========\n",
    "\n",
    "Looking at the Kernels we've learnt using the script provided by Pylearn2."
   ]
  },
  {
   "cell_type": "code",
   "execution_count": 20,
   "metadata": {
    "collapsed": false
   },
   "outputs": [
    {
     "name": "stdout",
     "output_type": "stream",
     "text": [
      "env: PYLEARN2_VIEWER_COMMAND=/afs/inf.ed.ac.uk/user/s08/s0805516/repos/neukrill-net-work/image_hack.sh\n"
     ]
    }
   ],
   "source": [
    "%env PYLEARN2_VIEWER_COMMAND=/afs/inf.ed.ac.uk/user/s08/s0805516/repos/neukrill-net-work/image_hack.sh"
   ]
  },
  {
   "cell_type": "code",
   "execution_count": 21,
   "metadata": {
    "collapsed": false
   },
   "outputs": [
    {
     "name": "stdout",
     "output_type": "stream",
     "text": [
      "making weights report\n",
      "loading model\n",
      "loading done\n",
      "smallest enc weight magnitude: 1.92526167666e-05\n",
      "mean enc weight magnitude: 0.11875539273\n",
      "max enc weight magnitude: 1.09314000607\n"
     ]
    }
   ],
   "source": [
    "%run ~/repos/pylearn2/pylearn2/scripts/show_weights.py /disk/scratch/neuroglycerin/models/alexnet_based_40aug.pkl"
   ]
  },
  {
   "cell_type": "code",
   "execution_count": 23,
   "metadata": {
    "collapsed": true
   },
   "outputs": [],
   "source": [
    "from IPython.display import Image"
   ]
  },
  {
   "cell_type": "code",
   "execution_count": 24,
   "metadata": {
    "collapsed": false
   },
   "outputs": [
    {
     "data": {
      "image/png": "[encoded data removed]",
      "text/plain": [
       "<IPython.core.display.Image object>"
      ]
     },
     "execution_count": 24,
     "metadata": {
      "image/png": {
       "width": 500
      }
     },
     "output_type": "execute_result"
    }
   ],
   "source": [
    "def plot_recent_pylearn2():\n",
    "    pl2plt = Image(filename=\"/afs/inf.ed.ac.uk/user/s08/s0805516/tmp/pylearnplot.png\", width=500)\n",
    "    return pl2plt\n",
    "plot_recent_pylearn2()"
   ]
  },
  {
   "cell_type": "markdown",
   "metadata": {},
   "source": [
    "I think that's just the weights from the kernels in the first layer. The script is not specific about it though."
   ]
  }
 ],
 "metadata": {
  "kernelspec": {
   "display_name": "Python 2",
   "language": "python",
   "name": "python2"
  },
  "language_info": {
   "codemirror_mode": {
    "name": "ipython",
    "version": 2
   },
   "file_extension": ".py",
   "mimetype": "text/x-python",
   "name": "python",
   "nbconvert_exporter": "python",
   "pygments_lexer": "ipython2",
   "version": "2.7.8"
  }
 },
 "nbformat": 4,
 "nbformat_minor": 0
}
