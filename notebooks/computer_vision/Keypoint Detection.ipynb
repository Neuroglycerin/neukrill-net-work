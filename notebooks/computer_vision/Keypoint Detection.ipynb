{
 "metadata": {
  "name": "",
  "signature": "sha256:86e23a086a1d1df2aacbb4d904f8c6b0eb4662d80efcfcbf4b348ce145c5e613"
 },
 "nbformat": 3,
 "nbformat_minor": 0,
 "worksheets": [
  {
   "cells": [
    {
     "cell_type": "markdown",
     "metadata": {},
     "source": [
      "In this notebook, we're looking at keypoint detection, specifically:\n",
      "\n",
      "- plot a histogram for the no of detected keypoints for each detector, for all images, to get a rough idea of what the default detector thresholds produce."
     ]
    },
    {
     "cell_type": "code",
     "collapsed": false,
     "input": [
      "import neukrill_net.utils\n",
      "import neukrill_net.image_features\n",
      "import sys\n",
      "import numpy as np\n",
      "import skimage\n",
      "import PIL.Image\n",
      "import cv2\n",
      "from IPython.display import display\n",
      "from IPython.display import Image\n",
      "import matplotlib.cm as cm"
     ],
     "language": "python",
     "metadata": {},
     "outputs": [],
     "prompt_number": 1
    },
    {
     "cell_type": "code",
     "collapsed": false,
     "input": [
      "%matplotlib inline\n",
      "import matplotlib.pyplot as plt"
     ],
     "language": "python",
     "metadata": {},
     "outputs": [],
     "prompt_number": 2
    },
    {
     "cell_type": "code",
     "collapsed": false,
     "input": [
      "cd .."
     ],
     "language": "python",
     "metadata": {},
     "outputs": [
      {
       "output_type": "stream",
       "stream": "stdout",
       "text": [
        "/media/dragos/6c25c80a-cce2-4fc8-97ae-fdc11725c266/Projects/Neuroglycerine/NDSB/neukrill-net-work\n"
       ]
      }
     ],
     "prompt_number": 3
    },
    {
     "cell_type": "code",
     "collapsed": false,
     "input": [
      "# Load the settings \n",
      "settings = neukrill_net.utils.Settings(\"settings.json\")"
     ],
     "language": "python",
     "metadata": {},
     "outputs": [],
     "prompt_number": 4
    },
    {
     "cell_type": "code",
     "collapsed": false,
     "input": [
      "# Load raw training data\n",
      "rawdata, labels = neukrill_net.utils.load_rawdata(settings.image_fnames, classes=settings.classes)"
     ],
     "language": "python",
     "metadata": {},
     "outputs": [],
     "prompt_number": 5
    },
    {
     "cell_type": "code",
     "collapsed": false,
     "input": [
      "# Test the images are loaded\n",
      "plt.imshow(rawdata[0], cmap = plt.get_cmap('gray'))"
     ],
     "language": "python",
     "metadata": {},
     "outputs": [
      {
       "metadata": {},
       "output_type": "pyout",
       "prompt_number": 7,
       "text": [
        "<matplotlib.image.AxesImage at 0x7ffd0195e9d0>"
       ]
      },
      {
       "metadata": {},
       "output_type": "display_data",
       "png": "[encoded data removed]",
       "text": [
        "<matplotlib.figure.Figure at 0x7ffd01a74990>"
       ]
      }
     ],
     "prompt_number": 7
    },
    {
     "cell_type": "markdown",
     "metadata": {},
     "source": [
      "### Keypoint Detectors\n",
      "Loop through images, detect keypoints, output histogram with no of keypoints detected"
     ]
    },
    {
     "cell_type": "markdown",
     "metadata": {},
     "source": [
      "#### FAST"
     ]
    },
    {
     "cell_type": "code",
     "collapsed": false,
     "input": [
      "# FAST detector\n",
      "no_of_keypoints = []\n",
      "for image in rawdata:\n",
      "    no_of_keypoints.append(len(neukrill_net.image_features.get_FAST_keypoints(image)))\n",
      "no_of_keypoints = np.array(no_of_keypoints)"
     ],
     "language": "python",
     "metadata": {},
     "outputs": [],
     "prompt_number": 19
    },
    {
     "cell_type": "code",
     "collapsed": false,
     "input": [
      "x = np.where(no_of_keypoints==0)\n",
      "print \"Number of images with no keypoints:\", len(x)\n",
      "plt.imshow(rawdata[x[0]], cmap = plt.get_cmap('gray'))"
     ],
     "language": "python",
     "metadata": {},
     "outputs": [
      {
       "output_type": "stream",
       "stream": "stdout",
       "text": [
        "Number of images with no keypoints: 1\n"
       ]
      },
      {
       "metadata": {},
       "output_type": "pyout",
       "prompt_number": 27,
       "text": [
        "<matplotlib.image.AxesImage at 0x7ffcfaadec10>"
       ]
      },
      {
       "metadata": {},
       "output_type": "display_data",
       "png": "[encoded data removed]",
       "text": [
        "<matplotlib.figure.Figure at 0x7ffcfac95550>"
       ]
      }
     ],
     "prompt_number": 27
    },
    {
     "cell_type": "code",
     "collapsed": false,
     "input": [
      "no_of_keypoints = no_of_keypoints[no_of_keypoints>0]\n",
      "#_=plt.hist(no_of_keypoints, bins= 100)\n",
      "_=plt.hist((no_of_keypoints), bins=np.logspace(0,6,50))\n",
      "plt.xscale(\"log\")"
     ],
     "language": "python",
     "metadata": {},
     "outputs": [
      {
       "metadata": {},
       "output_type": "display_data",
       "png": "[encoded data removed]",
       "text": [
        "<matplotlib.figure.Figure at 0x7ffcfa778f50>"
       ]
      }
     ],
     "prompt_number": 38
    },
    {
     "cell_type": "markdown",
     "metadata": {},
     "source": [
      "#### ORB"
     ]
    },
    {
     "cell_type": "code",
     "collapsed": false,
     "input": [
      "# ORB detector\n",
      "no_of_keypoints = []\n",
      "for image in rawdata:\n",
      "    no_of_keypoints.append(len(neukrill_net.image_features.get_ORB_keypoints(image)))"
     ],
     "language": "python",
     "metadata": {},
     "outputs": [
      {
       "ename": "AttributeError",
       "evalue": "'int' object has no attribute 'size'",
       "output_type": "pyerr",
       "traceback": [
        "\u001b[1;31m---------------------------------------------------------------------------\u001b[0m\n\u001b[1;31mAttributeError\u001b[0m                            Traceback (most recent call last)",
        "\u001b[1;32m<ipython-input-54-e4a684b4bb31>\u001b[0m in \u001b[0;36m<module>\u001b[1;34m()\u001b[0m\n\u001b[0;32m      5\u001b[0m \u001b[1;33m\u001b[0m\u001b[0m\n\u001b[0;32m      6\u001b[0m \u001b[0mno_of_keypoints\u001b[0m \u001b[1;33m=\u001b[0m \u001b[0mno_of_keypoints\u001b[0m\u001b[1;33m[\u001b[0m\u001b[0mno_of_keypoints\u001b[0m\u001b[1;33m>\u001b[0m\u001b[1;36m0\u001b[0m\u001b[1;33m]\u001b[0m\u001b[1;33m\u001b[0m\u001b[0m\n\u001b[1;32m----> 7\u001b[1;33m \u001b[1;32mprint\u001b[0m\u001b[1;33m(\u001b[0m\u001b[0mno_of_keypoints\u001b[0m\u001b[1;33m.\u001b[0m\u001b[0msize\u001b[0m\u001b[1;33m)\u001b[0m\u001b[1;33m\u001b[0m\u001b[0m\n\u001b[0m",
        "\u001b[1;31mAttributeError\u001b[0m: 'int' object has no attribute 'size'"
       ]
      }
     ],
     "prompt_number": 54
    },
    {
     "cell_type": "code",
     "collapsed": false,
     "input": [
      "no_of_keypoints = no_of_keypoints[no_of_keypoints>0]\n",
      "\n",
      "no_of_keypoints = np.array(no_of_keypoints)\n",
      "x = np.where(no_of_keypoints==0)\n",
      "print x[0]\n",
      "print \"Number of images with no keypoints:\", len(x)\n",
      "plt.imshow(rawdata[x[0]], cmap = plt.get_cmap('gray'))"
     ],
     "language": "python",
     "metadata": {},
     "outputs": [
      {
       "output_type": "stream",
       "stream": "stdout",
       "text": [
        "[]\n",
        "Number of images with no keypoints: 1\n"
       ]
      },
      {
       "ename": "TypeError",
       "evalue": "only integer arrays with one element can be converted to an index",
       "output_type": "pyerr",
       "traceback": [
        "\u001b[1;31m---------------------------------------------------------------------------\u001b[0m\n\u001b[1;31mTypeError\u001b[0m                                 Traceback (most recent call last)",
        "\u001b[1;32m<ipython-input-51-4d680105c3d2>\u001b[0m in \u001b[0;36m<module>\u001b[1;34m()\u001b[0m\n\u001b[0;32m      3\u001b[0m \u001b[1;32mprint\u001b[0m \u001b[0mx\u001b[0m\u001b[1;33m[\u001b[0m\u001b[1;36m0\u001b[0m\u001b[1;33m]\u001b[0m\u001b[1;33m\u001b[0m\u001b[0m\n\u001b[0;32m      4\u001b[0m \u001b[1;32mprint\u001b[0m \u001b[1;34m\"Number of images with no keypoints:\"\u001b[0m\u001b[1;33m,\u001b[0m \u001b[0mlen\u001b[0m\u001b[1;33m(\u001b[0m\u001b[0mx\u001b[0m\u001b[1;33m)\u001b[0m\u001b[1;33m\u001b[0m\u001b[0m\n\u001b[1;32m----> 5\u001b[1;33m \u001b[0mplt\u001b[0m\u001b[1;33m.\u001b[0m\u001b[0mimshow\u001b[0m\u001b[1;33m(\u001b[0m\u001b[0mrawdata\u001b[0m\u001b[1;33m[\u001b[0m\u001b[0mx\u001b[0m\u001b[1;33m[\u001b[0m\u001b[1;36m0\u001b[0m\u001b[1;33m]\u001b[0m\u001b[1;33m]\u001b[0m\u001b[1;33m,\u001b[0m \u001b[0mcmap\u001b[0m \u001b[1;33m=\u001b[0m \u001b[0mplt\u001b[0m\u001b[1;33m.\u001b[0m\u001b[0mget_cmap\u001b[0m\u001b[1;33m(\u001b[0m\u001b[1;34m'gray'\u001b[0m\u001b[1;33m)\u001b[0m\u001b[1;33m)\u001b[0m\u001b[1;33m\u001b[0m\u001b[0m\n\u001b[0m",
        "\u001b[1;31mTypeError\u001b[0m: only integer arrays with one element can be converted to an index"
       ]
      }
     ],
     "prompt_number": 51
    },
    {
     "cell_type": "code",
     "collapsed": false,
     "input": [
      "no_of_keypoints = no_of_keypoints[no_of_keypoints>0]\n",
      "#_=plt.hist(no_of_keypoints, bins= 100)\n",
      "_=plt.hist((no_of_keypoints), bins=np.logspace(0,6,50))\n",
      "plt.xscale(\"log\")"
     ],
     "language": "python",
     "metadata": {},
     "outputs": [
      {
       "metadata": {},
       "output_type": "display_data",
       "png": "[encoded data removed]",
       "text": [
        "<matplotlib.figure.Figure at 0x7ffcfa291c90>"
       ]
      }
     ],
     "prompt_number": 46
    },
    {
     "cell_type": "code",
     "collapsed": false,
     "input": [],
     "language": "python",
     "metadata": {},
     "outputs": []
    }
   ],
   "metadata": {}
  }
 ]
}