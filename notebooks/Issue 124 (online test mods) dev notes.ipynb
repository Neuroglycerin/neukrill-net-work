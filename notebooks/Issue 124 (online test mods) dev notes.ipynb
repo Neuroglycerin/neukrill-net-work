{
 "cells": [
  {
   "cell_type": "code",
   "execution_count": 1,
   "metadata": {
    "collapsed": true
   },
   "outputs": [],
   "source": [
    "import yaml"
   ]
  },
  {
   "cell_type": "code",
   "execution_count": 2,
   "metadata": {
    "collapsed": false
   },
   "outputs": [
    {
     "name": "stderr",
     "output_type": "stream",
     "text": [
      "Using gpu device 0: Tesla K40c\n",
      ":0: FutureWarning: IPython widgets are experimental and may change in the future.\n"
     ]
    },
    {
     "name": "stdout",
     "output_type": "stream",
     "text": [
      "Welcome to the HoloViews IPython extension! (http://ioam.github.io/holoviews/)\n",
      "Available magics: %compositor, %opts, %params, %view, %%labels, %%opts, %%view\n"
     ]
    },
    {
     "data": {
      "text/plain": [
       "<matplotlib.figure.Figure at 0x7f5adede11d0>"
      ]
     },
     "metadata": {},
     "output_type": "display_data"
    },
    {
     "data": {
      "text/plain": [
       "<matplotlib.figure.Figure at 0x7f5adede18d0>"
      ]
     },
     "metadata": {},
     "output_type": "display_data"
    },
    {
     "data": {
      "text/plain": [
       "<matplotlib.figure.Figure at 0x7f5adede16d0>"
      ]
     },
     "metadata": {},
     "output_type": "display_data"
    }
   ],
   "source": [
    "import pylearn2.utils\n",
    "import pylearn2.config\n",
    "import theano\n",
    "import neukrill_net.dense_dataset\n",
    "import neukrill_net.utils\n",
    "import numpy as np\n",
    "%matplotlib inline\n",
    "import matplotlib.pyplot as plt\n",
    "import holoviews as hl\n",
    "%load_ext holoviews.ipython\n",
    "import sklearn.metrics"
   ]
  },
  {
   "cell_type": "code",
   "execution_count": 3,
   "metadata": {
    "collapsed": false
   },
   "outputs": [
    {
     "name": "stdout",
     "output_type": "stream",
     "text": [
      "/afs/inf.ed.ac.uk/user/s08/s0805516/repos/neukrill-net-work\n"
     ]
    }
   ],
   "source": [
    "cd .."
   ]
  },
  {
   "cell_type": "code",
   "execution_count": 9,
   "metadata": {
    "collapsed": true
   },
   "outputs": [],
   "source": [
    "stream = open(\n",
    "    '/disk/scratch/neuroglycerin/yaml_settings/replicate_8augreplicate_8aug_online.yaml')\n",
    "string = stream.read()"
   ]
  },
  {
   "cell_type": "code",
   "execution_count": 12,
   "metadata": {
    "collapsed": true
   },
   "outputs": [],
   "source": [
    "import pylearn2.config.yaml_parse"
   ]
  },
  {
   "cell_type": "markdown",
   "metadata": {},
   "source": [
    "You have to use the yaml imported into the `pylearn2.config.yaml_parse` namespace because it has to be initialised in there as follows:"
   ]
  },
  {
   "cell_type": "code",
   "execution_count": 13,
   "metadata": {
    "collapsed": true
   },
   "outputs": [],
   "source": [
    "pylearn2.config.yaml_parse.initialize()"
   ]
  },
  {
   "cell_type": "markdown",
   "metadata": {},
   "source": [
    "Then, we can load a proxied version of the code, where nothing has been initialised yet and pull out the dataset."
   ]
  },
  {
   "cell_type": "code",
   "execution_count": 15,
   "metadata": {
    "collapsed": false
   },
   "outputs": [],
   "source": [
    "proxied = pylearn2.config.yaml_parse.yaml.load(string)"
   ]
  },
  {
   "cell_type": "code",
   "execution_count": 19,
   "metadata": {
    "collapsed": false
   },
   "outputs": [
    {
     "data": {
      "text/plain": [
       "BaseProxy(callable=<class 'neukrill_net.image_directory_dataset.ListDataset'>, positionals=(), keywords={'run_settings_path': '/afs/inf.ed.ac.uk/user/s08/s0805516/repos/neukrill-net-work/run_settings/replicate_8aug.json', 'transformer': BaseProxy(callable=<class 'neukrill_net.augment.RandomAugment'>, positionals=(), keywords={'rotate': [0, 90, 180, 270], 'rotate_is_resizable': 0, 'normalise': {'mu': 0.957271277905, 'global_or_pixel': 'global', 'sigma': 0.142253264785}, 'flip': 1, 'units': 'float', 'resize': [48, 48]}, yaml_src=\"!obj:neukrill_net.augment.RandomAugment {units: 'float', rotate: [0, 90, 180, 270],\\n  rotate_is_resizable: 0, flip: 1, resize: [48, 48], normalise: {global_or_pixel: 'global',\\n    mu: 0.957271277905, sigma: 0.142253264785}}\\n\"), 'settings_path': '/afs/inf.ed.ac.uk/user/s08/s0805516/repos/neukrill-net-work/settings.json'}, yaml_src=\"!obj:neukrill_net.image_directory_dataset.ListDataset {transformer: !obj:neukrill_net.augment.RandomAugment {\\n    units: 'float', rotate: [0, 90, 180, 270], rotate_is_resizable: 0, flip: 1, resize: [\\n      48, 48], normalise: {global_or_pixel: 'global', mu: 0.957271277905, sigma: 0.142253264785}},\\n  settings_path: /afs/inf.ed.ac.uk/user/s08/s0805516/repos/neukrill-net-work/settings.json,\\n  run_settings_path: /afs/inf.ed.ac.uk/user/s08/s0805516/repos/neukrill-net-work/run_settings/replicate_8aug.json}\\n\")"
      ]
     },
     "execution_count": 19,
     "metadata": {},
     "output_type": "execute_result"
    }
   ],
   "source": [
    "proxied.keywords['dataset']"
   ]
  },
  {
   "cell_type": "markdown",
   "metadata": {},
   "source": [
    "Then, we can modify this so that it'll force loading the dataset even though it expects to overwrite the run files."
   ]
  },
  {
   "cell_type": "code",
   "execution_count": 21,
   "metadata": {
    "collapsed": false
   },
   "outputs": [],
   "source": [
    "proxdata = proxied.keywords['dataset']\n",
    "proxdata.keywords['force'] = True"
   ]
  },
  {
   "cell_type": "code",
   "execution_count": 22,
   "metadata": {
    "collapsed": false
   },
   "outputs": [
    {
     "data": {
      "text/plain": [
       "BaseProxy(callable=<class 'neukrill_net.image_directory_dataset.ListDataset'>, positionals=(), keywords={'run_settings_path': '/afs/inf.ed.ac.uk/user/s08/s0805516/repos/neukrill-net-work/run_settings/replicate_8aug.json', 'transformer': BaseProxy(callable=<class 'neukrill_net.augment.RandomAugment'>, positionals=(), keywords={'rotate': [0, 90, 180, 270], 'rotate_is_resizable': 0, 'normalise': {'mu': 0.957271277905, 'global_or_pixel': 'global', 'sigma': 0.142253264785}, 'flip': 1, 'units': 'float', 'resize': [48, 48]}, yaml_src=\"!obj:neukrill_net.augment.RandomAugment {units: 'float', rotate: [0, 90, 180, 270],\\n  rotate_is_resizable: 0, flip: 1, resize: [48, 48], normalise: {global_or_pixel: 'global',\\n    mu: 0.957271277905, sigma: 0.142253264785}}\\n\"), 'force': True, 'settings_path': '/afs/inf.ed.ac.uk/user/s08/s0805516/repos/neukrill-net-work/settings.json'}, yaml_src=\"!obj:neukrill_net.image_directory_dataset.ListDataset {transformer: !obj:neukrill_net.augment.RandomAugment {\\n    units: 'float', rotate: [0, 90, 180, 270], rotate_is_resizable: 0, flip: 1, resize: [\\n      48, 48], normalise: {global_or_pixel: 'global', mu: 0.957271277905, sigma: 0.142253264785}},\\n  settings_path: /afs/inf.ed.ac.uk/user/s08/s0805516/repos/neukrill-net-work/settings.json,\\n  run_settings_path: /afs/inf.ed.ac.uk/user/s08/s0805516/repos/neukrill-net-work/run_settings/replicate_8aug.json}\\n\")"
      ]
     },
     "execution_count": 22,
     "metadata": {},
     "output_type": "execute_result"
    }
   ],
   "source": [
    "proxdata"
   ]
  },
  {
   "cell_type": "markdown",
   "metadata": {},
   "source": [
    "Then we can use the intstantiate function to load the dataset:"
   ]
  },
  {
   "cell_type": "code",
   "execution_count": 23,
   "metadata": {
    "collapsed": true
   },
   "outputs": [],
   "source": [
    "dataset = pylearn2.config.yaml_parse._instantiate(proxdata)"
   ]
  },
  {
   "cell_type": "code",
   "execution_count": 32,
   "metadata": {
    "collapsed": false
   },
   "outputs": [
    {
     "data": {
      "text/html": [
       "<center><img src='data:image/png;base64,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' style='max-width:100%'/><center/>"
      ],
      "text/plain": [
       "   Image\n",
       "      I    : Image.Image   (z)\n",
       "      II   : Image.Image   (z)\n",
       "      III  : Image.Image   (z)\n",
       "      IV   : Image.Image   (z)\n",
       "      V    : Image.Image   (z)\n",
       "      VI   : Image.Image   (z)\n",
       "      VII  : Image.Image   (z)\n",
       "      VIII : Image.Image   (z)\n",
       "      IX   : Image.Image   (z)\n",
       "      X    : Image.Image   (z)"
      ]
     },
     "execution_count": 32,
     "metadata": {},
     "output_type": "execute_result"
    }
   ],
   "source": [
    "%opts Image style(cmap=\"gray\")\n",
    "# plot some images to show that it worked\n",
    "i = dataset.iterator(mode='even_shuffled_sequential',batch_size=128)\n",
    "b = i.next()\n",
    "channels = None\n",
    "for ex in range(10):\n",
    "    if not channels:\n",
    "        channels = hl.Image(b[0][ex,:].squeeze())\n",
    "    else:\n",
    "        channels += hl.Image(b[0][ex,:].squeeze())\n",
    "channels"
   ]
  },
  {
   "cell_type": "markdown",
   "metadata": {},
   "source": [
    "Checking input space\n",
    "=======\n",
    "\n",
    "We also want to know what kind of input space we're dealing with, because that varies between models as well."
   ]
  },
  {
   "cell_type": "code",
   "execution_count": 33,
   "metadata": {
    "collapsed": false
   },
   "outputs": [
    {
     "data": {
      "text/plain": [
       "['b', 0, 1, 'c']"
      ]
     },
     "execution_count": 33,
     "metadata": {},
     "output_type": "execute_result"
    }
   ],
   "source": [
    "proxied.keywords['model'].keywords['input_space'].keywords['axes']"
   ]
  },
  {
   "cell_type": "markdown",
   "metadata": {},
   "source": [
    "Then, we can just use an if statement to check for the two cases."
   ]
  },
  {
   "cell_type": "markdown",
   "metadata": {},
   "source": [
    "Using an iterator\n",
    "======\n",
    "\n",
    "Now I'm probably familiar enough with how the iterators are supposed to work I can use an iterator to loop over the dataset and generate minibatches for prediction rather than the hacky way we're doing it at the moment.\n",
    "\n",
    "Unfortunately, it does mean we'll have to pull the data specs out of the cost object as in the Transformer Dataset notebook."
   ]
  },
  {
   "cell_type": "code",
   "execution_count": 36,
   "metadata": {
    "collapsed": true
   },
   "outputs": [],
   "source": [
    "pcost = proxied.keywords['algorithm'].keywords['cost']"
   ]
  },
  {
   "cell_type": "code",
   "execution_count": 37,
   "metadata": {
    "collapsed": false
   },
   "outputs": [],
   "source": [
    "cost = pylearn2.config.yaml_parse._instantiate(pcost)"
   ]
  },
  {
   "cell_type": "code",
   "execution_count": 38,
   "metadata": {
    "collapsed": true
   },
   "outputs": [],
   "source": [
    "model = pylearn2.utils.serial.load(\"/disk/scratch/neuroglycerin/models/replicate_8aug.pkl\")"
   ]
  },
  {
   "cell_type": "code",
   "execution_count": 41,
   "metadata": {
    "collapsed": false
   },
   "outputs": [
    {
     "data": {
      "text/plain": [
       "(CompositeSpace(Conv2DSpace(shape=(48, 48), num_channels=1, axes=('b', 0, 1, 'c'), dtype=float32), VectorSpace(dim=121, dtype=float32)),\n",
       " ('features', 'targets'))"
      ]
     },
     "execution_count": 41,
     "metadata": {},
     "output_type": "execute_result"
    }
   ],
   "source": [
    "data_specs = cost.get_data_specs(model)\n",
    "data_specs"
   ]
  },
  {
   "cell_type": "code",
   "execution_count": null,
   "metadata": {
    "collapsed": true
   },
   "outputs": [],
   "source": [
    "alg.cost"
   ]
  },
  {
   "cell_type": "code",
   "execution_count": 43,
   "metadata": {
    "collapsed": true
   },
   "outputs": [],
   "source": [
    "x = range(10)"
   ]
  },
  {
   "cell_type": "code",
   "execution_count": 44,
   "metadata": {
    "collapsed": false
   },
   "outputs": [
    {
     "data": {
      "text/plain": [
       "[0, 1, 2, 3, 4, 5, 6, 7, 8, 9]"
      ]
     },
     "execution_count": 44,
     "metadata": {},
     "output_type": "execute_result"
    }
   ],
   "source": [
    "x"
   ]
  },
  {
   "cell_type": "markdown",
   "metadata": {},
   "source": [
    "Collapsing predictions\n",
    "========\n",
    "\n",
    "Now we have a big stacked array of predictions, it's just a matter of collapsing the predictions into a single array."
   ]
  },
  {
   "cell_type": "code",
   "execution_count": 53,
   "metadata": {
    "collapsed": true
   },
   "outputs": [],
   "source": [
    "x = np.random.randn(100,10)"
   ]
  },
  {
   "cell_type": "code",
   "execution_count": 57,
   "metadata": {
    "collapsed": false
   },
   "outputs": [
    {
     "data": {
      "text/plain": [
       "(10,)"
      ]
     },
     "execution_count": 57,
     "metadata": {},
     "output_type": "execute_result"
    }
   ],
   "source": [
    "np.mean(x,axis=0).shape"
   ]
  }
 ],
 "metadata": {
  "kernelspec": {
   "display_name": "Python 2",
   "language": "python",
   "name": "python2"
  },
  "language_info": {
   "codemirror_mode": {
    "name": "ipython",
    "version": 2
   },
   "file_extension": ".py",
   "mimetype": "text/x-python",
   "name": "python",
   "nbconvert_exporter": "python",
   "pygments_lexer": "ipython2",
   "version": "2.7.8"
  }
 },
 "nbformat": 4,
 "nbformat_minor": 0
}
