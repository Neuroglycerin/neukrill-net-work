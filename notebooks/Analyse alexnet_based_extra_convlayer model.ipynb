{
 "cells": [
  {
   "cell_type": "markdown",
   "metadata": {},
   "source": [
    "This notebook investigates the alexnet-based model with 8-augmentation with an extra convolutional layer with 192 output channels (as in the original paper by Krizhevsky et al). "
   ]
  },
  {
   "cell_type": "markdown",
   "metadata": {},
   "source": [
    "When training the model, we saved both files from the best and most recent epoch. First plot the most recent file, to see the evolution of parameters."
   ]
  },
  {
   "cell_type": "code",
   "execution_count": 1,
   "metadata": {
    "collapsed": false
   },
   "outputs": [
    {
     "name": "stderr",
     "output_type": "stream",
     "text": [
      "Using gpu device 0: Tesla K40c\n",
      ":0: FutureWarning: IPython widgets are experimental and may change in the future.\n"
     ]
    },
    {
     "name": "stdout",
     "output_type": "stream",
     "text": [
      "Welcome to the HoloViews IPython extension! (http://ioam.github.io/holoviews/)\n",
      "Available magics: %compositor, %opts, %params, %view, %%labels, %%opts, %%view\n"
     ]
    },
    {
     "data": {
      "text/plain": [
       "<matplotlib.figure.Figure at 0x7ffd505f5310>"
      ]
     },
     "metadata": {},
     "output_type": "display_data"
    },
    {
     "data": {
      "text/plain": [
       "<matplotlib.figure.Figure at 0x7ffd505f5cd0>"
      ]
     },
     "metadata": {},
     "output_type": "display_data"
    },
    {
     "data": {
      "text/plain": [
       "<matplotlib.figure.Figure at 0x7ffd505f5ad0>"
      ]
     },
     "metadata": {},
     "output_type": "display_data"
    }
   ],
   "source": [
    "import pylearn2.utils\n",
    "import pylearn2.config\n",
    "import theano\n",
    "import neukrill_net.dense_dataset\n",
    "import neukrill_net.utils\n",
    "import numpy as np\n",
    "%matplotlib inline\n",
    "import matplotlib.pyplot as plt\n",
    "import holoviews as hl\n",
    "%load_ext holoviews.ipython\n",
    "import sklearn.metrics"
   ]
  },
  {
   "cell_type": "code",
   "execution_count": 44,
   "metadata": {
    "collapsed": true
   },
   "outputs": [],
   "source": [
    "m = pylearn2.utils.serial.load(\n",
    "    \"/disk/scratch/neuroglycerin/models/alexnet_based_extra_convlayer.pkl.recent\")"
   ]
  },
  {
   "cell_type": "code",
   "execution_count": 45,
   "metadata": {
    "collapsed": false
   },
   "outputs": [
    {
     "data": {
      "text/html": [
       "<center><img src='data:image/png;base64,iVBORw0KGgoAAAANSUhEUgAAAQEAAAEBCAYAAAB47BD9AAAABHNCSVQICAgIfAhkiAAAAAlwSFlzAAALEgAACxIB0t1+/AAAIABJREFUeJzt3XtUVPX6P/D33nNhuIMgV0EwlYuCjpdMMLU0L3iSxlxf82iGmZ4KLTPtq31XpemSLud3+lbH0zGPpZZ58khQ6fGrpql565ihKQheQRJBBFGBgbnsz++PgUmC4Saw9579vNZyrWZmz57no80zz/PsvWc4xhgDIUSxeLEDIISIi5IAIQpHSYAQhaMkQIjCURIgROEoCRCicJQECFE4SgIKMXr0aOzYsQMA8MYbb2Dr1q1Nbrd8+XIsWbKkXa+xf/9+DB06tMnHTpw4gZkzZ7ZrvwBw69YtvPPOOw3umzt3Lg4fPtzufRIbtdgBkK7BcRw4jgMArFixotntOsPgwYPx+eeft/v5N2/exLvvvotXXnnFft+6des6IjTFo0pAZlatWoVFixbZb5eVlaF79+4wGo347rvvMHz4cOj1ekRFRWHjxo1N7iMlJQVr1qwBAFRUVGDSpEmIjo7G2LFjcfHixRZjyMzMRFxcHOLj4zFixAjk5eXZHzObzUhJSYFer8eAAQNw6tQpAI2rhK+++gpDhgxBfHw8Bg8ejEOHDtkfW7NmDfr16we9Xo8hQ4bg+vXrSE1NRUVFBfR6PUaMGAHgt+rmypUrCA4OhsVise9j6tSp+Oyzz1p8LQKAEVm5cuUKCw4OZlarlTHG2AcffMDmzJnDGGPs1q1b9u2Ki4tZcHAwKysrY4wxNnr0aLZjxw7GGGMpKSlszZo1jDHGUlNT2bx58xhjjFVUVLDw8HC2ZMkSh69fVFTEfHx82Llz5xhjjG3YsIENGDCAMcbY999/zziOY4cPH2aMMfb555+zuLg4+2NDhgxhjDGWk5PDhg4dym7fvs0YY+zMmTMsODiYCYLAdu7cyaKjo+1xG41GVltby/Lz85m/v3+DWO5e09ixY9k333zDGGPsxo0bzN/fn1VXVzf7WsSGKgGZCQsLQ79+/ez9/caNG5GSkgIAKCwsxKRJk9CvXz9MmDABt27dQm5ubrP7279/v/353t7emDJlClgzl5McOnQIQ4cORZ8+fQAATz75JHJzc1FeXg4A6N27NxISEgAA06dPx7lz5+yP1du5cycKCgowcuRI6PV6zJw5EzzPo7i4GDt27MBTTz2Fbt26AQB0Oh20Wm2zMQG26mbDhg0AgC+++ALJyclwdXV1+FolJSXN7k9JaCYgQykpKdi4cSMiIiJw69Yte3n8pz/9CdOnT0dqaioAICoqqkGJ7Mjdb7CW3mwcx7W4TWteb/LkyU329O3dv8FgwEsvvYTy8nJs2LABH3zwQYuvRWyoEpChKVOm4ODBg/jLX/6C2bNn2++vrKxEWFgYAGDfvn24cOGCw33Uv9EeeughbNq0CYBtAp+RkdHscDAxMRE//fSTfd+bN29GTEyM/ZP74sWLOHbsGADgyy+/RFRUlP2xehMnTsS3336L8+fP2+/LysoCAEyaNAmbNm2yVw/V1dUwmUxwc3OD0WiEIAhNrsPNzQ3JyclYunQpKisrkZiYCABISkpy+FrEhioBGXJ1dUVycjI2bNiAy5cv2+9fvXo1UlNT8eabb2LQoEEYMGCAw33Uv9FXrVqFP/7xj4iOjkZYWBhGjx7d7GsHBwdjw4YNMBgM4HkeXl5e+Oc//2nfZ1xcHNauXYvnnnsOjDH7cO7u14yNjcXHH3+MadOmQRAEmM1mPPDAA1i/fj3Gjx+P1NRUJCYmQqfTQa1W49///jcCAgIwZcoUREdHIyAgwD7cuzthpaSk4MEHH8SqVavs98XExDh8LWLDsXut7QhphfT0dKxduxa7d+8WOxTyO1QJkE63du1avPXWW/bDkkRaqBIgTVq5ciW++uqrRvfv2bMH/v7+IkREOotTJAGO41BRUSF2GIRIlre3t8PH6OiABKSlpYkdwj2Re/yA/NdwL/FTEiBE4agdIEQBqB0ghDhESUAClNyPSoXc10AzAUJIu9FMgBAFoJkAIcQhSgISoOR+VCrkvgaaCRBC2o1mAoQoAM0ECCEOURKQACX3o1Ih9zXQTIAQ0m40EyBEAWgmQAhxiJKABCi5H5UKua+BZgKEkHajmQAhCkAzAUKIQ5QEJEDJ/ahUyH0NNBMghLQbzQQIUQCaCRBCHHKaJCDngkbJ/ahUyH0NNBMAILS8CSGkCU4zE7hedhNaFdfyxoQokCJmAlbZpzJCxOE0SUCQcUGj5H5UKuS+BpoJgCoBQtrLaWYCl0vK4eviNDmNkA4lykxg8eLF6NWrF3ieR05Ojv3+c+fOISEhAQMHDkRiYiIuXLjQ5POtVitSU1MRGxuL2NhYrF+/vtnXs8o/lxEiik5LAgaDAQcPHkTPnj0b3D9r1iwsXrwYJ0+exEsvvYRZs2Y1+fx169bh6tWryMnJwZEjR7By5UqcPXvW4etZZXyMUMn9qFTIfQ2SnAkkJiaiR48eDe4rKirC+fPnMWXKFADA448/jry8PBQXFzd6fkZGBubMmQMA8PHxgcFgQGZmpsPXE6gQIKRdurSJLigoQHh4uP02x3EICwtDQUFBk9veXUX07Nmzye3qybkdWLZsmdgh3BO5xw/Ifw33Er/TTNL++v/etv93Wlpag/KIbtNtpd9uTqcfHYiMjMSOHTsQGxuLq1evIj4+HmVlZQBs5/v7+/sjOzsbQUFBDZ43btw4zJ8/H5MnTwYALFy4EEFBQVi6dGnjRXAcfr5yA7281J25lE6TlpYm608iuccPyH8NLcUv+hmD9XkmNDQUvXv3Rnp6OgAgPT0dffv2bZQAANtgcf369WCMoaKiApmZmUhOTnb4GnJuBwgRU6dVAi+88AIyMjJQUlICPz8/+Pv74/Tp08jLy8Ps2bNRVVUFDw8PbNiwAX369AEATJo0CStXrsSgQYMgCALmz5+P/fv3AwAWLVqEZ555pulFcByOXS5FtK+mM5ZCiOw1Vwk4zclChy+Vol83SgKENEX0dqAryLkdUPIxaqmQ+xokeZ5AV6NrBwhpH6dpB747fx1DumvFDoUQSaJ2gBDikNMkATmfNqzkflQq5L4GmglA3hcQESImp5kJfJ1TjFEhOrFDIUSSFDITEDsCQuSJkoAEKLkflQq5r4FmApD3F40SIianmQl88cs1JIW7ih0KIZKkjJkAHR0gpF2cJwnIuKBRcj8qFXJfA80EIO/BICFicpqZwMcnivBf97mJHQohkqSImQAdHSCkfZwmCci5HVByPyoVcl8DzQRARwcIaS+nmQm8d+xXzI72EDsUQiRJETMBObcDhIiJkoAEKLkflQq5r4FmApD3yUKEiMlpZgIrDxViQX9PsUMhRJKUMROgowOEtIvzJAEZFzRK7kelQu5roJkA5D0YJERMTjMTWPr9FSzVe4kdCiGSpIyZgPxzGSGicKIkIHYE7afkflQq5L4GmgmAjg4Q0l5OMxOYvzsfq+73ETsUQiRJETMBOf8MGSFicpokQDMB8cg9fkD+a6CZAOjoACHt5TQzgdn/voz3EnzFDoUQSVLETICODhDSPk6TBOQ8GFRyPyoVcl8DzQRAMwFC2stpZgL/9fUlfDyqm9ihECJJkpsJ5OfnQ6/X2/9ERETAz8+v0XbLly9HYGCgfbsFCxY43KecDxESIiZRkkBERASysrLsfwwGA2bMmNFoO47j8NRTT9m3+/DDDx3uU87tgJL7UamQ+xruJX51B8bRLiaTCZs3b8bu3bubfLy13QodHSCkfUSfCWzbtg2rV6/Gzz//3OixFStW4B//+Ae8vLwQEBCAFStWYOTIkY224zgOSdsu4ouxjVsKQogEZwJ3++STT/D00083+djzzz+PgoICZGdn47XXXoPBYEBpaWmT2+Z9+b/2/05LS2tQHtFtuq30280RtRK4evUqoqKiUFhYCF/fls/2S0hIwMqVKzFmzJgG93Mch7FbL2DbOP/OCrVTpaWlYdmyZWKH0W5yjx+Q/xpail+ylcDGjRvxhz/8wWECKC4utv/36dOnkZubi+jo6Ca3paMDhLSPqJVAVFQUPvzwQ4wbN85+36RJk7By5UoMGjQIs2bNwsmTJyEIAtRqNZYvX47HHnus0X44jsPIf57HNxO6d2X4hMhGc5WA6IPBjsBxHEZsOY/tEykJENIUybYDHUnOhwiVfIxaKuS+Brp2API+WYgQMTlNOzD4s3PY+2iA2KEQIknKaAdkn8oIEYfTJAEAEGRa1Ci5H5UKua+BZgJ1qBogpO2cZiYwcNM5/F9Sd+jUnNjhECI5ipgJAHSEgJD2cLIkIHYE7aPkflQq5L4GmgnUkWsSIERMLc4EampqoNPpuiqedqmfCaSP84OfTiV2OIRIzj3NBCIiIvDyyy/j4sWLHRpUZ6BKgJC2azEJnDp1Cj4+Pnj44YcxceJEbN++vSviahe5Xj+g5H5UKuS+hk6dCQQGBuK1117DxYsX8cwzz+D5559HZGQk3n33XRiNxna/cGegowOEtF2rzhOorq7Gpk2b8NFHH8HPzw9z5szBgQMHkJeXhwMHDnRFnM2qnwlsfKgbenqK/t2phEhOczOBFt8x8+fPR3p6OiZPnozNmzejf//+AIAZM2YgLi6u46LsADQTIKTtWmwHevbsiZycHKxdu9aeAOrt2rWr0wJrD7m2A0ruR6VC7mvo1N8dWLJkicPHQkJC2v3CnYEqAULazqmuHVgzwhf9umnEDocQyaFrBwghDjlZEhA7gvZRcj8qFXJfA107UEeQaRIgRExONRN45wFv3B/gInY4hEiOgmYCYkdAiPw4VxKgawdEIff4AfmvgWYCdejoACFt51QzgTcGe+GhUGl/9wEhYqCZACHEISdLAvLMAkruR6VC7mugmUAdqgQIaTunmgm8HO+JRyNcxQ6HEMlRzExArj9DRoiYnCoJyLUdUHI/KhVyXwPNBOrINQkQIianmgk8G+uOJ3q7ix0OIZKjmJkAVQKEtJ1zJQG6dkAUco8fkP8aaCZQR64nCxEiJqeaCczs44ZnYjzEDocQyZHkTCAiIgIxMTHQ6/XQ6/XYs2dPo22qq6sxbdo09O/fH3FxcdixY0ez+6SZACFtJ1oS4DgO6enpyMrKQlZWFh555JFG27z55psIDAzEmTNnsH37dsyZMwfl5eUO9ynXdkDJ/ahUyH0Nsp0JtNSJZGRkYO7cuQBsP4IyfPjwZn/whCoBQtpOtJlAZGQkvL29UVNTgxEjRuDdd9+Fr69vg210Oh2uX78OLy8vAMDChQsRFBSEpUuXNtiufiZgiHTFi3GeXbYGQuRCkjOBo0eP4uTJk/jll1/g6uqKefPm3dP+rn31gf0QYVpaWoPyiG7TbaXfbo4kjg7k5eVhzJgx+PXXXxvc37dvX2zbtg3x8fEAgMceewxPPPEEnnjiiQbb1VcCk8J1WDLQq8vi7ihpaWlYtmyZ2GG0m9zjB+S/hpbil1wlUF1djcrKSgC2ucCWLVvsb/S7GQwGrFu3DgBQUFCAY8eOYdy4cQ73SzMBQtpOlErg8uXLMBgMAGwJITY2Fn/7298QEhICvV6PnTt3IigoCNXV1UhJSUFOTg4AW7Z79NFHG+2vvhJ4pIcL/meQ44xHiFI1VwlIoh24V/VJYEyoC14bTEmAkN+TXDvQWeTaDij5GLVUyH0Nsj1PoKPJ9QIiQsTkVO1AQqAWq4f5iB0OIZJD7QAhxCEnSwLyzAJK7kelQu5roJlAHUGeOYAQUTnVTGCAnwbvJ/q2/ARCFEY5MwE6OkBImzlXEpBpUaPkflQq5L4GmgnUoaMDhLSdU80E7vNSY/3obmKHQ4jkKGcmIP98RkiXc7IkIHYE7aPkflQq5L4GmgnUoaMDhLSdU80EAl15fPmIv9jhECI5CpoJiB0BIfLjVElArqcNK7kflQq5r4FmAnXo6AAhbedUMwEPDYftE7uLHQ4hkqOcmQAdHSCkzZwqCZgF1uJPm0mRkvtRqZD7GmgmAMBdzcHCgFsm+SUBQsTkNDOBKRkXcemOFR+P9EVfH43YIREiKYqYCQS4qQAA1400GCCkLZwnCejqk4BV5EjaTsn9qFTIfQ00EwAQ6GZbClUChLSN08wEtp4uxuqs23goxAVvDKGfIiPkboqYCdRXAqVUCRDSJk6TBOpnAiU0E+hyco8fkP8aaCYAwN+VBwegrEaARa5XEhEiAqeZCVRUVODxXTdQVivgy7F+CKw7ZEgIUchMAAAC6uYCcmwJCBGLcyWBurmA3IaDSu5HpULua6CZQJ1AV6oECGkrp5oJ/OtiNdZkV+KxCFcsjPcUOyxCJEMxM4H6SkCOpw4TIhanSgIBrvK8iEjJ/ahUyH0NNBOo81sSoEqAkNZyqpmAwBjG7yiFWQB2JnWHq5oTOzRCJEFyM4Hy8nKMHz8esbGxiImJwaOPPori4uJG26WkpCAsLAx6vR56vb7FkofnOHSX8SXFhIhBlCTA8zxWrFiBnJwcnD17FjExMVi8eHGj7TiOw7Jly5CVlYWsrCwsW7asxX0H1A0Hi2WUBJTcj0qF3Ncgu5mAj48PHnjgAfvtESNGoLCwsMlt29qt9PVRAwBOlJraHyAhCiL6TEAQBIwbNw7JyclYsGBBg8dmz56NH374ARqNBr169cLbb7+N/v37N9pH/UwAAE6VmfDi4QqEuqvw+cPdwHE0FyBEcjOBu73wwgvw9PRslAAAW4lz4cIFnD17FjNmzMD48eNhtTZd5teXQ/18NSj/+kP89Nl7KKi02h+7u1yi23RbabebI2olsHjxYpw+fRrbt2+HRtPyNwSHhITghx9+wH333dfg/rsrAQBIy7qNXYU1mBvjjhl93Ds87o6WlpbWqnmHVMk9fkD+a2gpfklWAq+++ip+/vlnZGZmOkwAdx8x2Lt3L8xmM3r06NHivkcEuQAADhXXdkywhDgxUSqB7OxsxMXFISoqCjqdDgDQq1cvpKenQ6/XY+fOnQgKCsKYMWNw48YNmM1meHl54c9//jNGjBjReBG/qwSMFobk/yuFSQC2jfODv46+W4AoW3OVgOiDwY7w+yQAAK/+WIEjJSYsivfE5AhXkSIjRBok2Q50thHBtpbg2wIjBInnOSUfo5YKua9BducJdIUxoTr463icv2XB3qs0GyDEEadtBwBg5xUj3j55B4GuPD572A9aFZ0zQJRJke0AAIwL0yHSU4USo4DMfKPY4RAiSU6dBFQch2djPQAAn+ZW4WeJnkqs5H5UKuS+BpoJNOP+AC3G9dDBaGV45VgF9l2tETskQiTFqWcC9QTGsCa7EumXjOAAzI52x8w+buDpugKiEIqdCdTjOQ7z+3ng2VjbKcSf5FbhjeO3UW2R19eQEdIZFJEEAFu18ERvd6QN84a7msMPxbVYcKgCZTXif++AkvtRqZD7Gmgm0AYPBLpg7UhfhLmrcPG2BfMP3UT+HUubv7eAEGehiJlAUypqBfz3jxXIq7AAAHQqINRdjam9XDEuTAcVzQuIBDDGUFojQMtz8NZyKKsVkH7JiBOlJgzursXjvVxRZWb4tsCIC7cs0Kk5uKs59PXWYIC/Bt1ceNRaGfqH+jl8DcUmAQCotgj486k7+LHEhCrLb38NvTxVmNbbDQlBLvDUKK5YUqwaC0NZrRWVZoZqC4OfjkewmwoavvEHAmMMxXVfbR/kyjf48pqiKisOFNXg8h0r7pgF1FoZfF14+Ol4aHkODEB5jYALty0orraih7sK93mr4aPlwXOAwIAaK8PNWgGny832r9D30nAwWhnMd42yVBxgbcU7OOvJPg4fU3QSuFulWcCRYhPW51aipO4vXc0Ben8tBnfXoK+3BsVGK65WWRHjo0FikLbDvrXI2a9lv1cWwfZpGODKQ8VxYIzh8h3bv4W/jkeAKw9vLQ81z8EiMNyoEVBhEsAYYBYYSowCrlZZUVRlRVG1FZVmAb4uPHy0PKotDGU1Ao5/9h58kxt/sQ3P2d7kIe4q+LmoUGkRUF4roOCOFdV1HxxeWg4RHmoIDLhjFuxfZtNRPDUcrAyotjBwAEYGu+DhUBfsu1qLg9dqoVNx0OxZg/95dRmsAlBhEnCm3IxfyswwWhh0ag7bp/RyuH91h0YrYx4aHuPCdBgV4oJdhTX4vqgGp26YcbzUhONNnGQU7aPGYxGu8NLycFVz6ObCw9eFR4nRirwKCxgDRoa4wFur3ErCLDDwnO2kLYHZPtmuVllxptyM3AoLtDwQ5qEGzwG5FWYUVVkR5aPBsAAtGIALtyzIrTDj7E0LjFYGdzWHOD8NrlVZm3yj6VQcTAKD0IqPtfw7DZ9fY2VQc4CfjoeXlodOxeFGjRXF1QKK6v4A5gbP8XXhwRhDhYnhl/LfHnNVcUgM0kLvr4W3lodWZWs/b9QIsDCAA+Ch4dDbS41gdxUKK624fNuCKguDldkGdfVlfbSPBpFeKnAAymttH05+dZfGjwrR4bZJgIbn8L+/uGBYgIs9hqTw1l85S5VAM27WCjhRasLPN0y4fMeCEDcVuutU2PVrDW7Wtnx4UcMDwwNd4OvCgwNQXzjwHKDlOehUHCI8VejrrUGAG99pcwgrY7huFHDdaIWnhkegKw8BQEm1FRUm2//8Gp6Dh8b2p9ZqK2lLa6wwWhlqLQysLm6TANwxCaiy2N5sDLaSVMtzMFoYio1WlBituFXLYKyrU3UqW8lqvocjsl4aDrfNrMHtGF8Nymtt67pjYhBge4P56WwJmedsMQfoVAh1VyHEXYUQNxW8tBxu1gq4WcvgoeHQTcfDX8ejmwvf6NyRWitDcbWt6rhZK8BLy8Nby6GHuxrddLYkUGIU8GuVFVoecFFxiPBUw0Vi16ko8vsEOpPRwvBNvhE5N82oFRiqzQzltQLKagT46XhE+ahx28TwU6kJbfnL1al+eyN6aHgEu/Ho4a5GoCuPbjoeHhoeFsH25rpWZcWvVVYY60pSCwNu1Qq4ZRZgsto+hWutDDVWhkoza1Xf2NFUdf1t/Ut7aTkEuaoQ7aNB/25qWBhQWGmFRWDo66NBsJsKv5SZcKLUBI2KQx9vNfp6axDrq4afToXiaitOl5vhreUwyF8L9V29usBsfbyW5+hCsSY4dRKora2FTqfr0iTQWsXVVvxUaoJZYLj7b9nKAJNge3Oev1GFPZ++j26GhW1KGG3lr7NVAHfMDCVGKzhwCHKzfWJaBVs8VWaGO2YBap5DqLsKga4quKk5uKg4+8BKzQOeGh7uag4qHrCYarFt7XswPP/f0PIcgtxUCHS17ddNbRuC1VgZOHCS/UWo2tpavPPOO3jttdfEDqVdWhO/UycBAPS14oS0gqO3ulMMBp0gjxEiGuWOrgkhACgJEKJ4lAQIUTjZJIFz584hISEBAwcORGJiIi5cuNBoG6vVitTUVMTGxiI2Nhbr168XIdKmtSb+enl5eXBzc8OSJUu6MMKWtWYN+fn5ePjhhxEbG4s+ffpg7ty5MJnE/0anxYsXo1evXuB5Hjk5OU1us3z5cvTr1w/x8fGIj4/Ht99+28VRNq81awCArVu3YtCgQdDr9YiLi8P169eb3zGTiWHDhrH09HTGGGP/+te/2PDhwxtt89FHH7Hk5GTGGGM3b95kPXv2ZDk5OV0apyOtiZ8xxiwWCxs1ahSbMWMGW7x4cVeG2KLWrGHOnDlsyZIljDHGzGYzGzZsGNu8eXOXxtmUQ4cOscLCQhYREcGys7Ob3Gbfvn2spqaGMcbYqVOnmKenJ7tz505Xhtms1qxh//79bMCAAay8vJwxxlhVVZV9TY7IohIoKirC+fPnMWXKFADA448/jry8vAY/UwYAGRkZmDNnDgDbz58bDAZkZmZ2eby/19r4AeCtt97C5MmT0aeP4ws+xNDaNURGRuL27dtgjMFoNMJkMiEyMlKMkBtITExs8SfsHnroIbi42E69jY+Ph1arxY0bN7oivFZpzRr++te/4pVXXoGvry8AwM3Nzb4mR2SRBAoKChAeHm6/zXEcwsLCUFBQ0Gi7nj172m/37Nmz0TZiaG38p06dwp49e/DSSy91dYgtau0alixZgpycHAQHByMkJAQTJkzA8OHDuzrce7Zx40ZEREQgIiJC7FDaJDs7G2fOnMH999+PuLg4vP766y0eQpdFElACs9mMefPm4aOPPgJXd6WcHC1atAh6vR7FxcW4evUqDhw4gPT0dLHDapODBw/i9ddfx5YtW8QOpc0EQUBOTg4OHz6Mo0ePYt++fS3OxmSRBMLDw3HlyhX7bcYYCgsLG3zq12+Xn59vv52fny+JTN6a+K9du4ZLly4hKSkJkZGReP/997Fu3To8++yzYoTcSGv/Dfbu3Ysnn3wSAODl5YXk5GTs3bu3S2O9F0ePHsXMmTPx9ddfS64la42IiAhMnToVGo0GHh4eSE5OxvHjx5t9jiySQGhoKHr37m3/RElPT0ffvn0RFBTUYDuDwYD169fbLu+sqEBmZiaSk5PFCLmB1sQfHh6O0tJSXL58GZcvX8bChQsxb948/P3vfxcr7AZa+2/Qt29f7Ny5EwBgMpmwZ88eREVFdXm8zXFUZR0/fhzTpk1Deno6Bg4c2MVRtY2jNUydOhW7du0CYKsuv/vuO8THx7e4M1nIzc1lw4cPZ/Hx8SwhIYGdO3eOMcZYUlISO3HiBGOMMavVyp577jkWExPDYmJi2Lp168QMuYHWxH+35cuX26fsUtGaNeTn57MxY8aw6Ohodt9997G5c+cyk8kkZtiMMcYWLFjAevTowTQaDQsKCmL9+/dnjDWMfejQoSwgIIANHDjQ/ufMmTNiht1Aa9YgCAJbtGgRi4mJYX369GHz589nVqu12f06xQVEhJD2k0U7QAjpPJQECFE4SgKEKBwlAUIUjpIAIRLW2ouG6h05cgR6vd7+JzQ0FIMHD272OU7xzUKEOCuDwYCFCxfiwQcfbNX2CQkJyMrKavD8lp5LlQAhEubooqGDBw8iMTERAwYMQFxcHDKV+VtNAAABr0lEQVQyMhptc/36dezevdt+BqcjVAkQIjNlZWV47rnnsG/fPgQGBuLatWsYNGgQRo4cCT+/335zcNOmTRg/fjy6d+/e7P6oEiAdIjc3t8H1BStWrMD06dNFjso5HThwAEVFRZgwYQL0ej2SkpKg1Wpx6dKlBtt9+umnePrpp1vcH1UCpENER0dj9erVmDZtGlasWIEtW7bgp59+Ejssp8QYw5AhQ7Bnzx6H2xw7dgw3b95EUlJSi/ujSoB0mJkzZyIqKgoGgwFbtmyBh4eH2CE5lfoz/EeNGoWTJ0/i6NGj9sdOnjzZYNtPPvkEs2bNAs+3/BanSoB0GJPJhOzsbPj6+jb5rUmk7V544QVkZGSgpKQEY8eOhb+/P06fPo2vv/4aL7/8MiorKyEIAsLDw7Fjxw5wHAej0YitW7fiP//5T6tegy4gIh3mxRdfhNlsxvz58zFx4kQcOXIEoaGhYodFWkCVAOkQmZmZOHjwIH788UdotVq88cYbmD59Ovbv39+qkpSIhyoBQhSOUjQhCkdJgBCFoyRAiMJREiBE4SgJEKJwlAQIUThKAoQo3P8HimJsiuiki1AAAAAASUVORK5CYII=' style='max-width:100%'/><center/>"
      ],
      "text/plain": [
       "Curve.Curve.valid_objective   (y)"
      ]
     },
     "execution_count": 45,
     "metadata": {},
     "output_type": "execute_result"
    }
   ],
   "source": [
    "channel = m.monitor.channels[\"valid_objective\"]\n",
    "hl.Curve(zip(channel.example_record,channel.val_record),label=\"valid_objective\")"
   ]
  },
  {
   "cell_type": "code",
   "execution_count": 46,
   "metadata": {
    "collapsed": false
   },
   "outputs": [
    {
     "data": {
      "text/plain": [
       "[<matplotlib.lines.Line2D at 0x7ffd4dbf1a50>]"
      ]
     },
     "execution_count": 46,
     "metadata": {},
     "output_type": "execute_result"
    },
    {
     "data": {
      "image/png": "[encoded data removed]",
      "text/plain": [
       "<matplotlib.figure.Figure at 0x7ffd4e5ace90>"
      ]
     },
     "metadata": {},
     "output_type": "display_data"
    }
   ],
   "source": [
    "plt.plot(channel.example_record,channel.val_record)"
   ]
  },
  {
   "cell_type": "code",
   "execution_count": 47,
   "metadata": {
    "collapsed": false
   },
   "outputs": [],
   "source": [
    "def make_curves(model, *args):\n",
    "    curves = None\n",
    "    for c in args:\n",
    "        channel = m.monitor.channels[c]\n",
    "        c = c[0].upper() + c[1:]\n",
    "        if not curves:\n",
    "            curves = hl.Curve(zip(channel.example_record,channel.val_record),group=c)\n",
    "        else:\n",
    "            curves += hl.Curve(zip(channel.example_record,channel.val_record),group=c)\n",
    "    return curves"
   ]
  },
  {
   "cell_type": "code",
   "execution_count": 48,
   "metadata": {
    "collapsed": false
   },
   "outputs": [
    {
     "data": {
      "text/html": [
       "<center><img src='data:image/png;base64,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' style='max-width:100%'/><center/>"
      ],
      "text/plain": [
       "   Valid_objective\n",
       "      I : Curve.Valid_objective   (y)\n",
       "   Valid_y_nll    \n",
       "      I : Curve.Valid_y_nll   (y)\n",
       "   Train_y_nll    \n",
       "      I : Curve.Train_y_nll   (y)"
      ]
     },
     "execution_count": 48,
     "metadata": {},
     "output_type": "execute_result"
    }
   ],
   "source": [
    "make_curves(m,\"valid_objective\",\"valid_y_nll\",\"train_y_nll\")"
   ]
  },
  {
   "cell_type": "markdown",
   "metadata": {},
   "source": [
    "The graph keeps going down for the `train_y_nll` while it is sort of stable and slightly sloping upwards for `valid_y_nll` and `valid_objective`. We think it suggests that we are overfitting."
   ]
  },
  {
   "cell_type": "markdown",
   "metadata": {},
   "source": [
    "Let's now see the best parameter values."
   ]
  },
  {
   "cell_type": "code",
   "execution_count": 49,
   "metadata": {
    "collapsed": true
   },
   "outputs": [],
   "source": [
    "m = pylearn2.utils.serial.load(\n",
    "    \"/disk/scratch/neuroglycerin/models/alexnet_based_extra_convlayer.pkl\")"
   ]
  },
  {
   "cell_type": "markdown",
   "metadata": {},
   "source": [
    "Holoviews appears to be letting me down below. The plot for `Train_y_nll` appears to show it going down to zero due to it cutting off the bottom of the y axis..."
   ]
  },
  {
   "cell_type": "code",
   "execution_count": 50,
   "metadata": {
    "collapsed": false
   },
   "outputs": [
    {
     "data": {
      "text/html": [
       "<center><img src='data:image/png;base64,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' style='max-width:100%'/><center/>"
      ],
      "text/plain": [
       "   Valid_y_nll    \n",
       "      I : Curve.Valid_y_nll   (y)\n",
       "   Valid_objective\n",
       "      I : Curve.Valid_objective   (y)\n",
       "   Train_y_nll    \n",
       "      I : Curve.Train_y_nll   (y)"
      ]
     },
     "execution_count": 50,
     "metadata": {},
     "output_type": "execute_result"
    }
   ],
   "source": [
    "make_curves(m,\"valid_y_nll\",\"valid_objective\",\"train_y_nll\")"
   ]
  },
  {
   "cell_type": "markdown",
   "metadata": {},
   "source": [
    "The scale of the graphs is 10^6 not 10^7, so supposedly this is the best value of `valid_objective` before we started overfitting."
   ]
  },
  {
   "cell_type": "markdown",
   "metadata": {},
   "source": [
    "Let's now see what score we get with the best parameter values from this model."
   ]
  },
  {
   "cell_type": "code",
   "execution_count": 5,
   "metadata": {
    "collapsed": false
   },
   "outputs": [
    {
     "name": "stdout",
     "output_type": "stream",
     "text": [
      "/afs/inf.ed.ac.uk/user/s13/s1320903/Neuroglycerin/neukrill-net-work\n"
     ]
    }
   ],
   "source": [
    "cd .."
   ]
  },
  {
   "cell_type": "code",
   "execution_count": 6,
   "metadata": {
    "collapsed": false
   },
   "outputs": [
    {
     "name": "stdout",
     "output_type": "stream",
     "text": [
      "Loading settings..\n",
      "Loading model...\n",
      "Loading data...\n",
      "Applying normalisation: global\n",
      "Finding batch size...\n",
      "    chosen batch size 3089 for 8 batches\n",
      "Compiling forward prop...\n",
      "Making predictions...\n",
      "    Batch 1 of 8\n",
      "    Batch 2 of 8\n",
      "    Batch 3 of 8\n",
      "    Batch 4 of 8\n",
      "    Batch 5 of 8\n",
      "    Batch 6 of 8\n",
      "    Batch 7 of 8\n",
      "    Batch 8 of 8\n",
      "Collapsing predictions...\n",
      "Log loss: 0.805021153139\n"
     ]
    }
   ],
   "source": [
    "%run check_test_score.py -v run_settings/alexnet_based_extra_convlayer.json"
   ]
  },
  {
   "cell_type": "markdown",
   "metadata": {},
   "source": [
    "Looks like a better score than the current best! Let's submit it to the leaderboard. Write a submisstion file:"
   ]
  },
  {
   "cell_type": "code",
   "execution_count": 8,
   "metadata": {
    "collapsed": false
   },
   "outputs": [
    {
     "name": "stdout",
     "output_type": "stream",
     "text": [
      "Using gpu device 1: Tesla K40c\n",
      "Loading model...\n",
      "Loading data...\n",
      "Compiling Theano function...\n",
      "Processing batch 1 of 256\n",
      "Processing batch 2 of 256\n",
      "Processing batch 3 of 256\n",
      "Processing batch 4 of 256\n",
      "Processing batch 5 of 256\n",
      "Processing batch 6 of 256\n",
      "Processing batch 7 of 256\n",
      "Processing batch 8 of 256\n",
      "Processing batch 9 of 256\n",
      "Processing batch 10 of 256\n",
      "Processing batch 11 of 256\n",
      "Processing batch 12 of 256\n",
      "Processing batch 13 of 256\n",
      "Processing batch 14 of 256\n",
      "Processing batch 15 of 256\n",
      "Processing batch 16 of 256\n",
      "Processing batch 17 of 256\n",
      "Processing batch 18 of 256\n",
      "Processing batch 19 of 256\n",
      "Processing batch 20 of 256\n",
      "Processing batch 21 of 256\n",
      "Processing batch 22 of 256\n",
      "Processing batch 23 of 256\n",
      "Processing batch 24 of 256\n",
      "Processing batch 25 of 256\n",
      "Processing batch 26 of 256\n",
      "Processing batch 27 of 256\n",
      "Processing batch 28 of 256\n",
      "Processing batch 29 of 256\n",
      "Processing batch 30 of 256\n",
      "Processing batch 31 of 256\n",
      "Processing batch 32 of 256\n",
      "Processing batch 33 of 256\n",
      "Processing batch 34 of 256\n",
      "Processing batch 35 of 256\n",
      "Processing batch 36 of 256\n",
      "Processing batch 37 of 256\n",
      "Processing batch 38 of 256\n",
      "Processing batch 39 of 256\n",
      "Processing batch 40 of 256\n",
      "Processing batch 41 of 256\n",
      "Processing batch 42 of 256\n",
      "Processing batch 43 of 256\n",
      "Processing batch 44 of 256\n",
      "Processing batch 45 of 256\n",
      "Processing batch 46 of 256\n",
      "Processing batch 47 of 256\n",
      "Processing batch 48 of 256\n",
      "Processing batch 49 of 256\n",
      "Processing batch 50 of 256\n",
      "Processing batch 51 of 256\n",
      "Processing batch 52 of 256\n",
      "Processing batch 53 of 256\n",
      "Processing batch 54 of 256\n",
      "Processing batch 55 of 256\n",
      "Processing batch 56 of 256\n",
      "Processing batch 57 of 256\n",
      "Processing batch 58 of 256\n",
      "Processing batch 59 of 256\n",
      "Processing batch 60 of 256\n",
      "Processing batch 61 of 256\n",
      "Processing batch 62 of 256\n",
      "Processing batch 63 of 256\n",
      "Processing batch 64 of 256\n",
      "Processing batch 65 of 256\n",
      "Processing batch 66 of 256\n",
      "Processing batch 67 of 256\n",
      "Processing batch 68 of 256\n",
      "Processing batch 69 of 256\n",
      "Processing batch 70 of 256\n",
      "Processing batch 71 of 256\n",
      "Processing batch 72 of 256\n",
      "Processing batch 73 of 256\n",
      "Processing batch 74 of 256\n",
      "Processing batch 75 of 256\n",
      "Processing batch 76 of 256\n",
      "Processing batch 77 of 256\n",
      "Processing batch 78 of 256\n",
      "Processing batch 79 of 256\n",
      "Processing batch 80 of 256\n",
      "Processing batch 81 of 256\n",
      "Processing batch 82 of 256\n",
      "Processing batch 83 of 256\n",
      "Processing batch 84 of 256\n",
      "Processing batch 85 of 256\n",
      "Processing batch 86 of 256\n",
      "Processing batch 87 of 256\n",
      "Processing batch 88 of 256\n",
      "Processing batch 89 of 256\n",
      "Processing batch 90 of 256\n",
      "Processing batch 91 of 256\n",
      "Processing batch 92 of 256\n",
      "Processing batch 93 of 256\n",
      "Processing batch 94 of 256\n",
      "Processing batch 95 of 256\n",
      "Processing batch 96 of 256\n",
      "Processing batch 97 of 256\n",
      "Processing batch 98 of 256\n",
      "Processing batch 99 of 256\n",
      "Processing batch 100 of 256\n",
      "Processing batch 101 of 256\n",
      "Processing batch 102 of 256\n",
      "Processing batch 103 of 256\n",
      "Processing batch 104 of 256\n",
      "Processing batch 105 of 256\n",
      "Processing batch 106 of 256\n",
      "Processing batch 107 of 256\n",
      "Processing batch 108 of 256\n",
      "Processing batch 109 of 256\n",
      "Processing batch 110 of 256\n",
      "Processing batch 111 of 256\n",
      "Processing batch 112 of 256\n",
      "Processing batch 113 of 256\n",
      "Processing batch 114 of 256\n",
      "Processing batch 115 of 256\n",
      "Processing batch 116 of 256\n",
      "Processing batch 117 of 256\n",
      "Processing batch 118 of 256\n",
      "Processing batch 119 of 256\n",
      "Processing batch 120 of 256\n",
      "Processing batch 121 of 256\n",
      "Processing batch 122 of 256\n",
      "Processing batch 123 of 256\n",
      "Processing batch 124 of 256\n",
      "Processing batch 125 of 256\n",
      "Processing batch 126 of 256\n",
      "Processing batch 127 of 256\n",
      "Processing batch 128 of 256\n",
      "Processing batch 129 of 256\n",
      "Processing batch 130 of 256\n",
      "Processing batch 131 of 256\n",
      "Processing batch 132 of 256\n",
      "Processing batch 133 of 256\n",
      "Processing batch 134 of 256\n",
      "Processing batch 135 of 256\n",
      "Processing batch 136 of 256\n",
      "Processing batch 137 of 256\n",
      "Processing batch 138 of 256\n",
      "Processing batch 139 of 256\n",
      "Processing batch 140 of 256\n",
      "Processing batch 141 of 256\n",
      "Processing batch 142 of 256\n",
      "Processing batch 143 of 256\n",
      "Processing batch 144 of 256\n",
      "Processing batch 145 of 256\n",
      "Processing batch 146 of 256\n",
      "Processing batch 147 of 256\n",
      "Processing batch 148 of 256\n",
      "Processing batch 149 of 256\n",
      "Processing batch 150 of 256\n",
      "Processing batch 151 of 256\n",
      "Processing batch 152 of 256\n",
      "Processing batch 153 of 256\n",
      "Processing batch 154 of 256\n",
      "Processing batch 155 of 256\n",
      "Processing batch 156 of 256\n",
      "Processing batch 157 of 256\n",
      "Processing batch 158 of 256\n",
      "Processing batch 159 of 256\n",
      "Processing batch 160 of 256\n",
      "Processing batch 161 of 256\n",
      "Processing batch 162 of 256\n",
      "Processing batch 163 of 256\n",
      "Processing batch 164 of 256\n",
      "Processing batch 165 of 256\n",
      "Processing batch 166 of 256\n",
      "Processing batch 167 of 256\n",
      "Processing batch 168 of 256\n",
      "Processing batch 169 of 256\n",
      "Processing batch 170 of 256\n",
      "Processing batch 171 of 256\n",
      "Processing batch 172 of 256\n",
      "Processing batch 173 of 256\n",
      "Processing batch 174 of 256\n",
      "Processing batch 175 of 256\n",
      "Processing batch 176 of 256\n",
      "Processing batch 177 of 256\n",
      "Processing batch 178 of 256\n",
      "Processing batch 179 of 256\n",
      "Processing batch 180 of 256\n",
      "Processing batch 181 of 256\n",
      "Processing batch 182 of 256\n",
      "Processing batch 183 of 256\n",
      "Processing batch 184 of 256\n",
      "Processing batch 185 of 256\n",
      "Processing batch 186 of 256\n",
      "Processing batch 187 of 256\n",
      "Processing batch 188 of 256\n",
      "Processing batch 189 of 256\n",
      "Processing batch 190 of 256\n",
      "Processing batch 191 of 256\n",
      "Processing batch 192 of 256\n",
      "Processing batch 193 of 256\n",
      "Processing batch 194 of 256\n",
      "Processing batch 195 of 256\n",
      "Processing batch 196 of 256\n",
      "Processing batch 197 of 256\n",
      "Processing batch 198 of 256\n",
      "Processing batch 199 of 256\n",
      "Processing batch 200 of 256\n",
      "Processing batch 201 of 256\n",
      "Processing batch 202 of 256\n",
      "Processing batch 203 of 256\n",
      "Processing batch 204 of 256\n",
      "Processing batch 205 of 256\n",
      "Processing batch 206 of 256\n",
      "Processing batch 207 of 256\n",
      "Processing batch 208 of 256\n",
      "Processing batch 209 of 256\n",
      "Processing batch 210 of 256\n",
      "Processing batch 211 of 256\n",
      "Processing batch 212 of 256\n",
      "Processing batch 213 of 256\n",
      "Processing batch 214 of 256\n",
      "Processing batch 215 of 256\n",
      "Processing batch 216 of 256\n",
      "Processing batch 217 of 256\n",
      "Processing batch 218 of 256\n",
      "Processing batch 219 of 256\n",
      "Processing batch 220 of 256\n",
      "Processing batch 221 of 256\n",
      "Processing batch 222 of 256\n",
      "Processing batch 223 of 256\n",
      "Processing batch 224 of 256\n",
      "Processing batch 225 of 256\n",
      "Processing batch 226 of 256\n",
      "Processing batch 227 of 256\n",
      "Processing batch 228 of 256\n",
      "Processing batch 229 of 256\n",
      "Processing batch 230 of 256\n",
      "Processing batch 231 of 256\n",
      "Processing batch 232 of 256\n",
      "Processing batch 233 of 256\n",
      "Processing batch 234 of 256\n",
      "Processing batch 235 of 256\n",
      "Processing batch 236 of 256\n",
      "Processing batch 237 of 256\n",
      "Processing batch 238 of 256\n",
      "Processing batch 239 of 256\n",
      "Processing batch 240 of 256\n",
      "Processing batch 241 of 256\n",
      "Processing batch 242 of 256\n",
      "Processing batch 243 of 256\n",
      "Processing batch 244 of 256\n",
      "Processing batch 245 of 256\n",
      "Processing batch 246 of 256\n",
      "Processing batch 247 of 256\n",
      "Processing batch 248 of 256\n",
      "Processing batch 249 of 256\n",
      "Processing batch 250 of 256\n",
      "Processing batch 251 of 256\n",
      "Processing batch 252 of 256\n",
      "Processing batch 253 of 256\n",
      "Processing batch 254 of 256\n",
      "Processing batch 255 of 256\n",
      "Processing batch 256 of 256\n",
      "Writing csv\n"
     ]
    }
   ],
   "source": [
    "!python test.py -v run_settings/alexnet_based_extra_convlayer.json"
   ]
  },
  {
   "cell_type": "markdown",
   "metadata": {},
   "source": [
    "Copy the file to your local machine:"
   ]
  },
  {
   "cell_type": "code",
   "execution_count": null,
   "metadata": {
    "collapsed": true
   },
   "outputs": [],
   "source": [
    "scp s1320903@stonesoup:/disk/scratch/neuroglycerin/submissions/alexnet_based_extra_convlayer.csv.gz /home/aselega/Neuroglycerin/submissions/"
   ]
  },
  {
   "cell_type": "markdown",
   "metadata": {},
   "source": [
    "And now we are ready to submit it."
   ]
  }
 ],
 "metadata": {
  "kernelspec": {
   "display_name": "Python 2",
   "language": "python",
   "name": "python2"
  },
  "language_info": {
   "codemirror_mode": {
    "name": "ipython",
    "version": 2
   },
   "file_extension": ".py",
   "mimetype": "text/x-python",
   "name": "python",
   "nbconvert_exporter": "python",
   "pygments_lexer": "ipython2",
   "version": "2.7.8"
  }
 },
 "nbformat": 4,
 "nbformat_minor": 0
}
