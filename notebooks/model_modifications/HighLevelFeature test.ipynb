{
 "metadata": {
  "name": "",
  "signature": "sha256:78fce528e8a2d72b92d12962b937ea73a2c6283fd6aa0f100a1cf190cc416b66"
 },
 "nbformat": 3,
 "nbformat_minor": 0,
 "worksheets": [
  {
   "cells": [
    {
     "cell_type": "code",
     "collapsed": false,
     "input": [
      "import neukrill_net.highlevelfeatures as hlf"
     ],
     "language": "python",
     "metadata": {},
     "outputs": [],
     "prompt_number": 2
    },
    {
     "cell_type": "code",
     "collapsed": false,
     "input": [
      "import neukrill_net.utils"
     ],
     "language": "python",
     "metadata": {},
     "outputs": [],
     "prompt_number": 4
    },
    {
     "cell_type": "code",
     "collapsed": false,
     "input": [
      "import numpy as np"
     ],
     "language": "python",
     "metadata": {},
     "outputs": [],
     "prompt_number": 18
    },
    {
     "cell_type": "code",
     "collapsed": false,
     "input": [
      "import imp"
     ],
     "language": "python",
     "metadata": {},
     "outputs": [],
     "prompt_number": 10
    },
    {
     "cell_type": "code",
     "collapsed": false,
     "input": [
      "cd .."
     ],
     "language": "python",
     "metadata": {},
     "outputs": [
      {
       "output_type": "stream",
       "stream": "stdout",
       "text": [
        "/home/scott/Documents/git/neukrill-net-work\n"
       ]
      }
     ],
     "prompt_number": 6
    },
    {
     "cell_type": "code",
     "collapsed": false,
     "input": [
      "# Load the settings \n",
      "settings = neukrill_net.utils.Settings(\"settings.json\")\n",
      "# Load raw training data\n",
      "rawdata, labels = neukrill_net.utils.load_rawdata(settings.image_fnames, classes=settings.classes)"
     ],
     "language": "python",
     "metadata": {},
     "outputs": [],
     "prompt_number": 7
    },
    {
     "cell_type": "code",
     "collapsed": false,
     "input": [
      "imp.reload(hlf)\n",
      "foo = hlf.HighLevelFeatureBase(preprocessing_func=lambda x:np.array([1]))"
     ],
     "language": "python",
     "metadata": {},
     "outputs": [],
     "prompt_number": 48
    },
    {
     "cell_type": "code",
     "collapsed": false,
     "input": [
      "imp.reload(hlf)\n",
      "attrlist = ['mean','std']\n",
      "boa = hlf.BasicAttributes(attrlist, preprocessing_func=None, augment_func=None)"
     ],
     "language": "python",
     "metadata": {},
     "outputs": [],
     "prompt_number": 104
    },
    {
     "cell_type": "code",
     "collapsed": false,
     "input": [
      "X1 = boa.transform(rawdata)"
     ],
     "language": "python",
     "metadata": {},
     "outputs": [],
     "prompt_number": 46
    },
    {
     "cell_type": "code",
     "collapsed": false,
     "input": [
      "pths = [pth for k in settings.image_fnames['train'].keys() for pth in settings.image_fnames['train'][k]]\n",
      "X2 = boa.transform(pths)"
     ],
     "language": "python",
     "metadata": {},
     "outputs": [],
     "prompt_number": 55
    },
    {
     "cell_type": "code",
     "collapsed": false,
     "input": [
      "X3 = boa.transform(settings.image_fnames['test'])"
     ],
     "language": "python",
     "metadata": {},
     "outputs": [],
     "prompt_number": 50
    },
    {
     "cell_type": "code",
     "collapsed": false,
     "input": [
      "print X1.shape\n",
      "print X2.shape\n",
      "print X3.shape"
     ],
     "language": "python",
     "metadata": {},
     "outputs": [
      {
       "output_type": "stream",
       "stream": "stdout",
       "text": [
        "(1, 30336, 2)\n",
        "(1, 30336, 2)\n",
        "(1, 130400, 2)\n"
       ]
      }
     ],
     "prompt_number": 56
    },
    {
     "cell_type": "code",
     "collapsed": false,
     "input": [
      "X1"
     ],
     "language": "python",
     "metadata": {},
     "outputs": [
      {
       "metadata": {},
       "output_type": "pyout",
       "prompt_number": 57,
       "text": [
        "array([[[ 252.09887006,   18.75980781],\n",
        "        [ 251.92009494,   15.17674691],\n",
        "        [ 252.98199609,   13.28779985],\n",
        "        ..., \n",
        "        [ 239.72400932,   45.8527623 ],\n",
        "        [ 245.21540179,   32.74163994],\n",
        "        [ 247.25510923,   31.15009075]]])"
       ]
      }
     ],
     "prompt_number": 57
    },
    {
     "cell_type": "code",
     "collapsed": false,
     "input": [
      "X2"
     ],
     "language": "python",
     "metadata": {},
     "outputs": [
      {
       "metadata": {},
       "output_type": "pyout",
       "prompt_number": 58,
       "text": [
        "array([[[ 229.07122093,   57.79984397],\n",
        "        [ 231.68031746,   54.6052125 ],\n",
        "        [ 207.62609477,   78.85547567],\n",
        "        ..., \n",
        "        [ 247.        ,   27.79786523],\n",
        "        [ 245.49945652,   28.53548515],\n",
        "        [ 236.45587302,   44.96691329]]])"
       ]
      }
     ],
     "prompt_number": 58
    },
    {
     "cell_type": "code",
     "collapsed": false,
     "input": [
      "X3"
     ],
     "language": "python",
     "metadata": {},
     "outputs": [
      {
       "metadata": {},
       "output_type": "pyout",
       "prompt_number": 59,
       "text": [
        "array([[[ 249.4874552 ,   17.94672583],\n",
        "        [ 248.13024476,   28.05088087],\n",
        "        [ 239.21591784,   38.27541707],\n",
        "        ..., \n",
        "        [ 231.95572917,   57.2911238 ],\n",
        "        [ 245.4853364 ,   27.88387132],\n",
        "        [ 249.08700322,   24.41380314]]])"
       ]
      }
     ],
     "prompt_number": 59
    },
    {
     "cell_type": "code",
     "collapsed": false,
     "input": [
      "imp.reload(hlf)\n",
      "boa2 = hlf.BasicAttributes(['mean','height'])\n",
      "mHLF1 = hlf.MultiHighLevelFeature([boa,boa2])\n",
      "mHLF2 = boa + boa2"
     ],
     "language": "python",
     "metadata": {},
     "outputs": [],
     "prompt_number": 116
    },
    {
     "cell_type": "code",
     "collapsed": false,
     "input": [
      "print boa.transform(rawdata[:10])\n",
      "print boa2.transform(rawdata[:10])\n",
      "print mHLF1.transform(rawdata[:10])\n",
      "print mHLF2.transform(rawdata[:10])"
     ],
     "language": "python",
     "metadata": {},
     "outputs": [
      {
       "output_type": "stream",
       "stream": "stdout",
       "text": [
        "[[[ 252.09887006   18.75980781]\n",
        "  [ 251.92009494   15.17674691]\n",
        "  [ 252.98199609   13.28779985]\n",
        "  [ 253.21413341    9.97854024]\n",
        "  [ 252.51965786   15.4812235 ]\n",
        "  [ 253.16030093   11.06280986]\n",
        "  [ 251.54252137   17.85879765]\n",
        "  [ 251.76464047   18.43928537]\n",
        "  [ 251.89041096   19.29495914]\n",
        "  [ 252.8630925    14.96741775]]]\n",
        "[[[ 252.09887006   66.        ]\n",
        "  [ 251.92009494   80.        ]\n",
        "  [ 252.98199609   70.        ]\n",
        "  [ 253.21413341   67.        ]\n",
        "  [ 252.51965786   98.        ]\n",
        "  [ 253.16030093   48.        ]\n",
        "  [ 251.54252137   78.        ]\n",
        "  [ 251.76464047   71.        ]\n",
        "  [ 251.89041096   73.        ]\n",
        "  [ 252.8630925    82.        ]]]\n",
        "[[[ 252.09887006   18.75980781  252.09887006   66.        ]\n",
        "  [ 251.92009494   15.17674691  251.92009494   80.        ]\n",
        "  [ 252.98199609   13.28779985  252.98199609   70.        ]\n",
        "  [ 253.21413341    9.97854024  253.21413341   67.        ]\n",
        "  [ 252.51965786   15.4812235   252.51965786   98.        ]\n",
        "  [ 253.16030093   11.06280986  253.16030093   48.        ]\n",
        "  [ 251.54252137   17.85879765  251.54252137   78.        ]\n",
        "  [ 251.76464047   18.43928537  251.76464047   71.        ]\n",
        "  [ 251.89041096   19.29495914  251.89041096   73.        ]\n",
        "  [ 252.8630925    14.96741775  252.8630925    82.        ]]]\n",
        "[[[ 252.09887006   18.75980781  252.09887006   66.        ]\n",
        "  [ 251.92009494   15.17674691  251.92009494   80.        ]\n",
        "  [ 252.98199609   13.28779985  252.98199609   70.        ]\n",
        "  [ 253.21413341    9.97854024  253.21413341   67.        ]\n",
        "  [ 252.51965786   15.4812235   252.51965786   98.        ]\n",
        "  [ 253.16030093   11.06280986  253.16030093   48.        ]\n",
        "  [ 251.54252137   17.85879765  251.54252137   78.        ]\n",
        "  [ 251.76464047   18.43928537  251.76464047   71.        ]\n",
        "  [ 251.89041096   19.29495914  251.89041096   73.        ]\n",
        "  [ 252.8630925    14.96741775  252.8630925    82.        ]]]\n"
       ]
      }
     ],
     "prompt_number": 106
    },
    {
     "cell_type": "code",
     "collapsed": false,
     "input": [
      "mHLF2._childHLFs"
     ],
     "language": "python",
     "metadata": {},
     "outputs": [
      {
       "metadata": {},
       "output_type": "pyout",
       "prompt_number": 107,
       "text": [
        "[<neukrill_net.highlevelfeatures.BasicAttributes instance at 0x7fc5517a8c68>,\n",
        " <neukrill_net.highlevelfeatures.BasicAttributes instance at 0x7fc5517756c8>]"
       ]
      }
     ],
     "prompt_number": 107
    },
    {
     "cell_type": "code",
     "collapsed": false,
     "input": [
      "np.ravel(mHLF2._childHLFs[0]._preprocess_extract_image(rawdata[0]))"
     ],
     "language": "python",
     "metadata": {},
     "outputs": [
      {
       "metadata": {},
       "output_type": "pyout",
       "prompt_number": 108,
       "text": [
        "array([ 252.09887006,   18.75980781])"
       ]
      }
     ],
     "prompt_number": 108
    },
    {
     "cell_type": "code",
     "collapsed": false,
     "input": [
      "[child._preprocess_extract_image(rawdata[0]).ravel() for child in mHLF2._childHLFs]"
     ],
     "language": "python",
     "metadata": {},
     "outputs": [
      {
       "metadata": {},
       "output_type": "pyout",
       "prompt_number": 109,
       "text": [
        "[array([ 252.09887006,   18.75980781]), array([ 252.09887006,   66.        ])]"
       ]
      }
     ],
     "prompt_number": 109
    },
    {
     "cell_type": "code",
     "collapsed": false,
     "input": [
      "bow = hlf.BagOfWords(preprocessing_func= n_features_max=500, patch_size=17, clusteralgo='kmeans', n_clusters=10, random_seed=42)"
     ],
     "language": "python",
     "metadata": {},
     "outputs": [],
     "prompt_number": 121
    },
    {
     "cell_type": "code",
     "collapsed": false,
     "input": [
      "bow.transform(X1)"
     ],
     "language": "python",
     "metadata": {},
     "outputs": [
      {
       "ename": "error",
       "evalue": "/home/scott/Documents/git/opencv-3.0.0-beta/modules/imgproc/src/color.cpp:5511: error: (-215) depth == CV_8U || depth == CV_16U || depth == CV_32F in function cvtColor\n",
       "output_type": "pyerr",
       "traceback": [
        "\u001b[1;31m---------------------------------------------------------------------------\u001b[0m\n\u001b[1;31merror\u001b[0m                                     Traceback (most recent call last)",
        "\u001b[1;32m<ipython-input-123-2914307a1927>\u001b[0m in \u001b[0;36m<module>\u001b[1;34m()\u001b[0m\n\u001b[1;32m----> 1\u001b[1;33m \u001b[0mbow\u001b[0m\u001b[1;33m.\u001b[0m\u001b[0mtransform\u001b[0m\u001b[1;33m(\u001b[0m\u001b[0mX1\u001b[0m\u001b[1;33m)\u001b[0m\u001b[1;33m\u001b[0m\u001b[0m\n\u001b[0m",
        "\u001b[1;32m/home/scott/Documents/git/neukrill-net-tools/neukrill_net/highlevelfeatures.py\u001b[0m in \u001b[0;36mtransform\u001b[1;34m(self, images)\u001b[0m\n\u001b[0;32m    153\u001b[0m         \u001b[0mnum_augmentations\u001b[0m \u001b[1;33m=\u001b[0m \u001b[0mlen\u001b[0m\u001b[1;33m(\u001b[0m\u001b[0mself\u001b[0m\u001b[1;33m.\u001b[0m\u001b[0maugment_image\u001b[0m\u001b[1;33m(\u001b[0m\u001b[0mfirst_image\u001b[0m\u001b[1;33m)\u001b[0m\u001b[1;33m)\u001b[0m\u001b[1;33m\u001b[0m\u001b[0m\n\u001b[0;32m    154\u001b[0m         \u001b[1;31m# How many elements are in the feature vector from each image?\u001b[0m\u001b[1;33m\u001b[0m\u001b[1;33m\u001b[0m\u001b[0m\n\u001b[1;32m--> 155\u001b[1;33m         \u001b[0mnum_feature_elements\u001b[0m \u001b[1;33m=\u001b[0m \u001b[0mself\u001b[0m\u001b[1;33m.\u001b[0m\u001b[0m_preprocess_extract_image\u001b[0m\u001b[1;33m(\u001b[0m\u001b[0mfirst_image\u001b[0m\u001b[1;33m)\u001b[0m\u001b[1;33m.\u001b[0m\u001b[0msize\u001b[0m\u001b[1;33m\u001b[0m\u001b[0m\n\u001b[0m\u001b[0;32m    156\u001b[0m \u001b[1;33m\u001b[0m\u001b[0m\n\u001b[0;32m    157\u001b[0m         \u001b[1;31m# Initialise\u001b[0m\u001b[1;33m\u001b[0m\u001b[1;33m\u001b[0m\u001b[0m\n",
        "\u001b[1;32m/home/scott/Documents/git/neukrill-net-tools/neukrill_net/highlevelfeatures.py\u001b[0m in \u001b[0;36m_preprocess_extract_image\u001b[1;34m(self, image)\u001b[0m\n\u001b[0;32m    130\u001b[0m         \u001b[0mNOTE\u001b[0m\u001b[1;33m:\u001b[0m \u001b[0mSubclasses\u001b[0m \u001b[0mshould\u001b[0m \u001b[1;32mnot\u001b[0m \u001b[0mmodify\u001b[0m \u001b[0mthis\u001b[0m \u001b[0mfunction\u001b[0m\u001b[0;31m!\u001b[0m\u001b[1;33m\u001b[0m\u001b[0m\n\u001b[0;32m    131\u001b[0m         \"\"\"\n\u001b[1;32m--> 132\u001b[1;33m         \u001b[1;32mreturn\u001b[0m \u001b[0mself\u001b[0m\u001b[1;33m.\u001b[0m\u001b[0mpreprocess_image\u001b[0m\u001b[1;33m(\u001b[0m\u001b[0mself\u001b[0m\u001b[1;33m.\u001b[0m\u001b[0mextractfeatures_image\u001b[0m\u001b[1;33m(\u001b[0m\u001b[0mimage\u001b[0m\u001b[1;33m)\u001b[0m\u001b[1;33m)\u001b[0m\u001b[1;33m\u001b[0m\u001b[0m\n\u001b[0m\u001b[0;32m    133\u001b[0m \u001b[1;33m\u001b[0m\u001b[0m\n\u001b[0;32m    134\u001b[0m \u001b[1;33m\u001b[0m\u001b[0m\n",
        "\u001b[1;32m/home/scott/Documents/git/neukrill-net-tools/neukrill_net/highlevelfeatures.py\u001b[0m in \u001b[0;36mextractfeatures_image\u001b[1;34m(self, image)\u001b[0m\n\u001b[0;32m    380\u001b[0m         \"\"\"\n\u001b[0;32m    381\u001b[0m         \u001b[1;31m# Get the descriptions of every keypoint in the image\u001b[0m\u001b[1;33m\u001b[0m\u001b[1;33m\u001b[0m\u001b[0m\n\u001b[1;32m--> 382\u001b[1;33m         \u001b[0mX\u001b[0m \u001b[1;33m=\u001b[0m \u001b[0mself\u001b[0m\u001b[1;33m.\u001b[0m\u001b[0mdescribeImage\u001b[0m\u001b[1;33m(\u001b[0m\u001b[0mimage\u001b[0m\u001b[1;33m)\u001b[0m\u001b[1;33m\u001b[0m\u001b[0m\n\u001b[0m\u001b[0;32m    383\u001b[0m         \u001b[1;32mif\u001b[0m \u001b[0mX\u001b[0m \u001b[1;32mis\u001b[0m \u001b[0mNone\u001b[0m\u001b[1;33m:\u001b[0m\u001b[1;33m\u001b[0m\u001b[0m\n\u001b[0;32m    384\u001b[0m             \u001b[1;31m# No keypoints, so occurances of any words\u001b[0m\u001b[1;33m\u001b[0m\u001b[1;33m\u001b[0m\u001b[0m\n",
        "\u001b[1;32m/home/scott/Documents/git/neukrill-net-tools/neukrill_net/highlevelfeatures.py\u001b[0m in \u001b[0;36mdescribeImage\u001b[1;34m(self, image)\u001b[0m\n\u001b[0;32m    332\u001b[0m                       \u001b[0mwhich\u001b[0m \u001b[0mvaries\u001b[0m \u001b[0mbetween\u001b[0m \u001b[0mimages\u001b[0m\u001b[1;33m.\u001b[0m\u001b[1;33m\u001b[0m\u001b[0m\n\u001b[0;32m    333\u001b[0m         \"\"\"\n\u001b[1;32m--> 334\u001b[1;33m         \u001b[0m_\u001b[0m\u001b[1;33m,\u001b[0m \u001b[0mdes\u001b[0m \u001b[1;33m=\u001b[0m \u001b[0mself\u001b[0m\u001b[1;33m.\u001b[0m\u001b[0mdetector\u001b[0m\u001b[1;33m.\u001b[0m\u001b[0mdetectAndCompute\u001b[0m\u001b[1;33m(\u001b[0m\u001b[0mimage\u001b[0m\u001b[1;33m,\u001b[0m \u001b[0mNone\u001b[0m\u001b[1;33m)\u001b[0m\u001b[1;33m\u001b[0m\u001b[0m\n\u001b[0m\u001b[0;32m    335\u001b[0m         \u001b[1;32mreturn\u001b[0m \u001b[0mdes\u001b[0m\u001b[1;33m\u001b[0m\u001b[0m\n\u001b[0;32m    336\u001b[0m \u001b[1;33m\u001b[0m\u001b[0m\n",
        "\u001b[1;31merror\u001b[0m: /home/scott/Documents/git/opencv-3.0.0-beta/modules/imgproc/src/color.cpp:5511: error: (-215) depth == CV_8U || depth == CV_16U || depth == CV_32F in function cvtColor\n"
       ]
      }
     ],
     "prompt_number": 123
    }
   ],
   "metadata": {}
  }
 ]
}