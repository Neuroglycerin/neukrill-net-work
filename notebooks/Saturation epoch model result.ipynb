{
 "cells": [
  {
   "cell_type": "markdown",
   "metadata": {},
   "source": [
    "Compare the current best model (`alexnet_based_extra_convlayer`) with the model based on it but with saturating epoch set to 100 (slower decay for the learning rate)."
   ]
  },
  {
   "cell_type": "code",
   "execution_count": 2,
   "metadata": {
    "collapsed": false
   },
   "outputs": [],
   "source": [
    "import pylearn2.utils\n",
    "import pylearn2.config\n",
    "import theano\n",
    "import neukrill_net.dense_dataset\n",
    "import neukrill_net.utils\n",
    "import numpy as np\n",
    "%matplotlib inline\n",
    "import matplotlib.pyplot as plt\n",
    "#import holoviews as hl\n",
    "#%load_ext holoviews.ipython\n",
    "import sklearn.metrics"
   ]
  },
  {
   "cell_type": "code",
   "execution_count": 3,
   "metadata": {
    "collapsed": false
   },
   "outputs": [
    {
     "name": "stdout",
     "output_type": "stream",
     "text": [
      "/afs/inf.ed.ac.uk/user/s13/s1320903/Neuroglycerin/neukrill-net-work\n"
     ]
    }
   ],
   "source": [
    "cd .."
   ]
  },
  {
   "cell_type": "markdown",
   "metadata": {},
   "source": [
    "Load the current best model. Plot parameters."
   ]
  },
  {
   "cell_type": "code",
   "execution_count": 5,
   "metadata": {
    "collapsed": false
   },
   "outputs": [],
   "source": [
    "model = pylearn2.utils.serial.load('/disk/scratch/neuroglycerin/models/alexnet_based_extra_convlayer.pkl')"
   ]
  },
  {
   "cell_type": "code",
   "execution_count": 16,
   "metadata": {
    "collapsed": false
   },
   "outputs": [
    {
     "data": {
      "image/png": "[encoded data removed]",
      "text/plain": [
       "<matplotlib.figure.Figure at 0x7faaba827290>"
      ]
     },
     "metadata": {},
     "output_type": "display_data"
    }
   ],
   "source": [
    "def plot_monitor(c):\n",
    "    channel = model.monitor.channels[c]\n",
    "    plt.title(c)\n",
    "    plt.plot(channel.example_record,channel.val_record)\n",
    "    return None\n",
    "plot_monitor(\"valid_y_nll\")"
   ]
  },
  {
   "cell_type": "code",
   "execution_count": 17,
   "metadata": {
    "collapsed": false,
    "scrolled": true
   },
   "outputs": [
    {
     "data": {
      "image/png": "[encoded data removed]",
      "text/plain": [
       "<matplotlib.figure.Figure at 0x7faabc4f7490>"
      ]
     },
     "metadata": {},
     "output_type": "display_data"
    }
   ],
   "source": [
    "plot_monitor(c=\"valid_objective\")"
   ]
  },
  {
   "cell_type": "markdown",
   "metadata": {},
   "source": [
    "Go on a free core."
   ]
  },
  {
   "cell_type": "code",
   "execution_count": 19,
   "metadata": {
    "collapsed": false
   },
   "outputs": [
    {
     "name": "stdout",
     "output_type": "stream",
     "text": [
      "env: $THEANO_FLAGS=device=gpu2,floatX=float32,base_compiledir=~/.theano/stonesoup2\n"
     ]
    }
   ],
   "source": [
    "%env $THEANO_FLAGS = device=gpu2,floatX=float32,base_compiledir=~/.theano/stonesoup2"
   ]
  },
  {
   "cell_type": "markdown",
   "metadata": {},
   "source": [
    "Remind myself of the best model's score."
   ]
  },
  {
   "cell_type": "code",
   "execution_count": 21,
   "metadata": {
    "collapsed": false
   },
   "outputs": [
    {
     "name": "stdout",
     "output_type": "stream",
     "text": [
      "Log loss: 0.808881965028\n"
     ]
    }
   ],
   "source": [
    "%run check_test_score.py run_settings/alexnet_based_extra_convlayer.json"
   ]
  },
  {
   "cell_type": "markdown",
   "metadata": {},
   "source": [
    "Check the model we are running right now. It already saw 5 million samples (the same as the original model) so let's compare."
   ]
  },
  {
   "cell_type": "code",
   "execution_count": 22,
   "metadata": {
    "collapsed": false
   },
   "outputs": [
    {
     "name": "stdout",
     "output_type": "stream",
     "text": [
      "Loading settings..\n",
      "Loading model...\n",
      "Loading data...\n",
      "Applying normalisation: global\n",
      "Finding batch size...\n",
      "    chosen batch size 3089 for 8 batches\n",
      "Compiling forward prop...\n",
      "Making predictions...\n",
      "    Batch 1 of 8\n",
      "    Batch 2 of 8\n",
      "    Batch 3 of 8\n",
      "    Batch 4 of 8\n",
      "    Batch 5 of 8\n",
      "    Batch 6 of 8\n",
      "    Batch 7 of 8\n",
      "    Batch 8 of 8\n",
      "Collapsing predictions...\n",
      "Log loss: 0.864401240836\n"
     ]
    }
   ],
   "source": [
    "%run check_test_score.py -v run_settings/alexnet_extra_layer_learning_rate.json"
   ]
  },
  {
   "cell_type": "markdown",
   "metadata": {},
   "source": [
    "Not as good. But the learning rate will keep decaying until epoch 100, and it's only epoch 37 now...Let it train."
   ]
  },
  {
   "cell_type": "markdown",
   "metadata": {},
   "source": [
    "Some plots of the currently trained model."
   ]
  },
  {
   "cell_type": "code",
   "execution_count": 23,
   "metadata": {
    "collapsed": true
   },
   "outputs": [],
   "source": [
    "model = pylearn2.utils.serial.load('/disk/scratch/neuroglycerin/models/alexnet_extra_layer_learning_rate.pkl')"
   ]
  },
  {
   "cell_type": "code",
   "execution_count": 24,
   "metadata": {
    "collapsed": false
   },
   "outputs": [
    {
     "data": {
      "image/png": "[encoded data removed]",
      "text/plain": [
       "<matplotlib.figure.Figure at 0x7faa9c01de50>"
      ]
     },
     "metadata": {},
     "output_type": "display_data"
    }
   ],
   "source": [
    "plot_monitor(c=\"valid_objective\")"
   ]
  },
  {
   "cell_type": "code",
   "execution_count": 25,
   "metadata": {
    "collapsed": false
   },
   "outputs": [
    {
     "data": {
      "image/png": "[encoded data removed]",
      "text/plain": [
       "<matplotlib.figure.Figure at 0x7faab9b52450>"
      ]
     },
     "metadata": {},
     "output_type": "display_data"
    }
   ],
   "source": [
    "plot_monitor(c=\"valid_y_nll\")"
   ]
  },
  {
   "cell_type": "markdown",
   "metadata": {},
   "source": [
    "A new best pkl was saved. Check it:"
   ]
  },
  {
   "cell_type": "code",
   "execution_count": 26,
   "metadata": {
    "collapsed": false
   },
   "outputs": [
    {
     "name": "stdout",
     "output_type": "stream",
     "text": [
      "Loading settings..\n",
      "Loading model...\n",
      "Loading data...\n",
      "Applying normalisation: global\n",
      "Finding batch size...\n",
      "    chosen batch size 3089 for 8 batches\n",
      "Compiling forward prop...\n",
      "Making predictions...\n",
      "    Batch 1 of 8\n",
      "    Batch 2 of 8\n",
      "    Batch 3 of 8\n",
      "    Batch 4 of 8\n",
      "    Batch 5 of 8\n",
      "    Batch 6 of 8\n",
      "    Batch 7 of 8\n",
      "    Batch 8 of 8\n",
      "Collapsing predictions...\n",
      "Log loss: 0.855427228866\n"
     ]
    }
   ],
   "source": [
    "%run check_test_score.py -v run_settings/alexnet_extra_layer_learning_rate.json"
   ]
  },
  {
   "cell_type": "markdown",
   "metadata": {},
   "source": [
    "A little better. Why don't we check the most recent pkl too? Need to change the check_score function to do this."
   ]
  },
  {
   "cell_type": "code",
   "execution_count": 43,
   "metadata": {
    "collapsed": false
   },
   "outputs": [],
   "source": [
    "import numpy as np\n",
    "import pylearn2.utils\n",
    "import pylearn2.config\n",
    "import theano\n",
    "import neukrill_net.dense_dataset\n",
    "import neukrill_net.utils\n",
    "import sklearn.metrics\n",
    "import argparse\n",
    "import os\n",
    "\n",
    "def check_score(run_settings_path, recent_path, verbose=False):\n",
    "    \"\"\"\n",
    "    Single function, calculates score, prints and\n",
    "    returns it.\n",
    "    \"\"\"\n",
    "    # load settings\n",
    "    if verbose:\n",
    "        print(\"Loading settings..\")\n",
    "    settings = neukrill_net.utils.Settings(\"settings.json\")\n",
    "    run_settings = neukrill_net.utils.load_run_settings(run_settings_path, \n",
    "            settings, force=True)\n",
    "    \n",
    "    # load the model\n",
    "    if verbose:\n",
    "        print(\"Loading model...\")\n",
    "    if not recent_path:\n",
    "        recent_path=run_settings['pickle abspath']\n",
    "    model = pylearn2.utils.serial.load(recent_path)\n",
    "\n",
    "    # load the data\n",
    "    if verbose:\n",
    "        print(\"Loading data...\")\n",
    "    dataset = neukrill_net.dense_dataset.DensePNGDataset(\n",
    "            settings_path=run_settings['settings_path'],\n",
    "            run_settings=run_settings['run_settings_path'],\n",
    "            train_or_predict='train',\n",
    "            training_set_mode='test', force=True, verbose=verbose)\n",
    "\n",
    "    # find a good batch size \n",
    "    if verbose:\n",
    "        print(\"Finding batch size...\")\n",
    "    batch_size = 500\n",
    "    while dataset.X.shape[0]%batch_size != 0:\n",
    "        batch_size += 1\n",
    "    n_batches = int(dataset.X.shape[0]/batch_size)\n",
    "    if verbose:\n",
    "        print(\"    chosen batch size {0}\"\n",
    "                \" for {1} batches\".format(batch_size,n_batches))\n",
    "\n",
    "    # compiling theano forward propagation\n",
    "    if verbose:\n",
    "        print(\"Compiling forward prop...\")\n",
    "    model.set_batch_size(batch_size)\n",
    "    X = model.get_input_space().make_batch_theano()\n",
    "    Y = model.fprop(X)\n",
    "    f = theano.function([X],Y)\n",
    "\n",
    "    # compute probabilities\n",
    "    if verbose:\n",
    "        print(\"Making predictions...\")\n",
    "    y = np.zeros((dataset.X.shape[0],len(settings.classes)))\n",
    "    for i in xrange(n_batches):\n",
    "        if verbose:\n",
    "            print(\"    Batch {0} of {1}\".format(i+1,n_batches))\n",
    "        x_arg = dataset.X[i*batch_size:(i+1)*batch_size,:]\n",
    "        if X.ndim > 2:\n",
    "            x_arg = dataset.get_topological_view(x_arg)\n",
    "        y[i*batch_size:(i+1)*batch_size,:] = (f(x_arg.astype(X.dtype).T))\n",
    "\n",
    "    # find augmentation factor\n",
    "    af = run_settings.get(\"augmentation_factor\",1)\n",
    "    if af > 1:\n",
    "        if verbose:\n",
    "            print(\"Collapsing predictions...\")\n",
    "        y_collapsed = np.zeros((int(dataset.X.shape[0]/af), len(settings.classes))) \n",
    "        for i,(low,high) in enumerate(zip(range(0,dataset.y.shape[0],af),\n",
    "                                    range(af,dataset.y.shape[0]+af,af))):\n",
    "            y_collapsed[i,:] = np.mean(y[low:high,:], axis=0)\n",
    "        y = y_collapsed\n",
    "        # and collapse labels\n",
    "        labels = dataset.y[range(0,dataset.y.shape[0],af)]\n",
    "    else:\n",
    "        labels = dataset.y\n",
    "\n",
    "    # calculate score\n",
    "    logloss = sklearn.metrics.log_loss(labels,y)\n",
    "    print(\"Log loss: {0}\".format(logloss))\n",
    "\n",
    "    return logloss"
   ]
  },
  {
   "cell_type": "markdown",
   "metadata": {},
   "source": [
    "Run it:"
   ]
  },
  {
   "cell_type": "code",
   "execution_count": 45,
   "metadata": {
    "collapsed": false
   },
   "outputs": [
    {
     "name": "stdout",
     "output_type": "stream",
     "text": [
      "Loading settings..\n",
      "Loading model...\n",
      "Loading data...\n",
      "Applying normalisation: global\n",
      "Finding batch size...\n",
      "    chosen batch size 3089 for 8 batches\n",
      "Compiling forward prop...\n",
      "Making predictions...\n",
      "    Batch 1 of 8\n",
      "    Batch 2 of 8\n",
      "    Batch 3 of 8\n",
      "    Batch 4 of 8\n",
      "    Batch 5 of 8\n",
      "    Batch 6 of 8\n",
      "    Batch 7 of 8\n",
      "    Batch 8 of 8\n",
      "Collapsing predictions...\n",
      "Log loss: 0.828623822063\n"
     ]
    },
    {
     "data": {
      "text/plain": [
       "0.82862382206277641"
      ]
     },
     "execution_count": 45,
     "metadata": {},
     "output_type": "execute_result"
    }
   ],
   "source": [
    "check_score('run_settings/alexnet_extra_layer_learning_rate.json', '/disk/scratch/neuroglycerin/models/alexnet_extra_layer_learning_rate.pkl.recent') "
   ]
  },
  {
   "cell_type": "markdown",
   "metadata": {},
   "source": [
    "The best current pkl:"
   ]
  },
  {
   "cell_type": "code",
   "execution_count": 47,
   "metadata": {
    "collapsed": false
   },
   "outputs": [
    {
     "name": "stdout",
     "output_type": "stream",
     "text": [
      "Loading settings..\n",
      "Loading model...\n",
      "Loading data...\n",
      "Applying normalisation: global\n",
      "Finding batch size...\n",
      "    chosen batch size 3089 for 8 batches\n",
      "Compiling forward prop...\n",
      "Making predictions...\n",
      "    Batch 1 of 8\n",
      "    Batch 2 of 8\n",
      "    Batch 3 of 8\n",
      "    Batch 4 of 8\n",
      "    Batch 5 of 8\n",
      "    Batch 6 of 8\n",
      "    Batch 7 of 8\n",
      "    Batch 8 of 8\n",
      "Collapsing predictions...\n",
      "Log loss: 0.811846951148\n"
     ]
    }
   ],
   "source": [
    "%run check_test_score.py -v run_settings/alexnet_extra_layer_learning_rate.json"
   ]
  }
 ],
 "metadata": {
  "kernelspec": {
   "display_name": "Python 2",
   "language": "python",
   "name": "python2"
  },
  "language_info": {
   "codemirror_mode": {
    "name": "ipython",
    "version": 2
   },
   "file_extension": ".py",
   "mimetype": "text/x-python",
   "name": "python",
   "nbconvert_exporter": "python",
   "pygments_lexer": "ipython2",
   "version": "2.7.8"
  }
 },
 "nbformat": 4,
 "nbformat_minor": 0
}
