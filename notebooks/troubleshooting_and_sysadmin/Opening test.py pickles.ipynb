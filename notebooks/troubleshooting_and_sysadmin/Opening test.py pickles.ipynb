{
 "cells": [
  {
   "cell_type": "markdown",
   "metadata": {},
   "source": [
    "Two important submission csvs were written wrong, but in anticipation of this problem we pickled the results. Opening them now."
   ]
  },
  {
   "cell_type": "code",
   "execution_count": 1,
   "metadata": {
    "collapsed": true
   },
   "outputs": [],
   "source": [
    "import pickle"
   ]
  },
  {
   "cell_type": "code",
   "execution_count": 2,
   "metadata": {
    "collapsed": false
   },
   "outputs": [
    {
     "name": "stdout",
     "output_type": "stream",
     "text": [
      "/disk/scratch/neuroglycerin/dump\n"
     ]
    }
   ],
   "source": [
    "cd /disk/scratch/neuroglycerin/dump/"
   ]
  },
  {
   "cell_type": "code",
   "execution_count": 3,
   "metadata": {
    "collapsed": false
   },
   "outputs": [
    {
     "name": "stdout",
     "output_type": "stream",
     "text": [
      "test2.py.pkl  test.py.pkl\r\n"
     ]
    }
   ],
   "source": [
    "ls"
   ]
  },
  {
   "cell_type": "code",
   "execution_count": 4,
   "metadata": {
    "collapsed": true
   },
   "outputs": [],
   "source": [
    "with open(\"test.py.pkl\",\"rb\") as f:\n",
    "    p = pickle.load(f)"
   ]
  },
  {
   "cell_type": "code",
   "execution_count": 5,
   "metadata": {
    "collapsed": false
   },
   "outputs": [
    {
     "data": {
      "text/plain": [
       "80"
      ]
     },
     "execution_count": 5,
     "metadata": {},
     "output_type": "execute_result"
    }
   ],
   "source": [
    "len(p)"
   ]
  },
  {
   "cell_type": "code",
   "execution_count": 7,
   "metadata": {
    "collapsed": false
   },
   "outputs": [
    {
     "data": {
      "text/plain": [
       "130400"
      ]
     },
     "execution_count": 7,
     "metadata": {},
     "output_type": "execute_result"
    }
   ],
   "source": [
    "p[0].shape[0]*80"
   ]
  },
  {
   "cell_type": "markdown",
   "metadata": {},
   "source": [
    "Looks like everything should be there, just have to figure out why it didn't write these to the csv right. Next part was the stack:"
   ]
  },
  {
   "cell_type": "code",
   "execution_count": 8,
   "metadata": {
    "collapsed": true
   },
   "outputs": [],
   "source": [
    "import numpy as np"
   ]
  },
  {
   "cell_type": "code",
   "execution_count": 9,
   "metadata": {
    "collapsed": true
   },
   "outputs": [],
   "source": [
    "y = np.vstack(p)"
   ]
  },
  {
   "cell_type": "code",
   "execution_count": 10,
   "metadata": {
    "collapsed": false
   },
   "outputs": [
    {
     "data": {
      "text/plain": [
       "(130400, 121)"
      ]
     },
     "execution_count": 10,
     "metadata": {},
     "output_type": "execute_result"
    }
   ],
   "source": [
    "y.shape"
   ]
  },
  {
   "cell_type": "markdown",
   "metadata": {},
   "source": [
    "That worked, what about finding the name for the csv?"
   ]
  },
  {
   "cell_type": "code",
   "execution_count": 11,
   "metadata": {
    "collapsed": true
   },
   "outputs": [],
   "source": [
    "import neukrill_net.utils"
   ]
  },
  {
   "cell_type": "code",
   "execution_count": 13,
   "metadata": {
    "collapsed": false
   },
   "outputs": [
    {
     "name": "stdout",
     "output_type": "stream",
     "text": [
      "/afs/inf.ed.ac.uk/user/s08/s0805516/repos/neukrill-net-work\n"
     ]
    }
   ],
   "source": [
    "cd ~/repos/neukrill-net-work/"
   ]
  },
  {
   "cell_type": "code",
   "execution_count": 14,
   "metadata": {
    "collapsed": false
   },
   "outputs": [],
   "source": [
    "settings = neukrill_net.utils.Settings(\"settings.json\")"
   ]
  },
  {
   "cell_type": "code",
   "execution_count": 17,
   "metadata": {
    "collapsed": true
   },
   "outputs": [],
   "source": [
    "import os"
   ]
  },
  {
   "cell_type": "code",
   "execution_count": 18,
   "metadata": {
    "collapsed": false
   },
   "outputs": [],
   "source": [
    "names = [os.path.basename(n) for n in settings.image_fnames['test']]"
   ]
  },
  {
   "cell_type": "code",
   "execution_count": 19,
   "metadata": {
    "collapsed": false
   },
   "outputs": [
    {
     "data": {
      "text/plain": [
       "130400"
      ]
     },
     "execution_count": 19,
     "metadata": {},
     "output_type": "execute_result"
    }
   ],
   "source": [
    "len(names)"
   ]
  },
  {
   "cell_type": "markdown",
   "metadata": {},
   "source": [
    "That also seems to be fine...\n",
    "\n",
    "Only explanation I can think of at this point is that it somehow redefined the `image_fname` dict to be over one of the splits. But that makes no sense because the `image_fname` dictionary that gets modified is a different instance to that in the `test.py` script.\n",
    "\n",
    "Looking at the submission csvs:"
   ]
  },
  {
   "cell_type": "code",
   "execution_count": 22,
   "metadata": {
    "collapsed": false
   },
   "outputs": [
    {
     "name": "stdout",
     "output_type": "stream",
     "text": [
      "/disk/scratch/neuroglycerin/submissions\n"
     ]
    }
   ],
   "source": [
    "cd /disk/scratch/neuroglycerin/submissions/"
   ]
  },
  {
   "cell_type": "code",
   "execution_count": 23,
   "metadata": {
    "collapsed": false
   },
   "outputs": [
    {
     "name": "stdout",
     "output_type": "stream",
     "text": [
      "\u001b[0m\u001b[01;31malexnet_based_16aug.csv.gz\u001b[0m\r\n",
      "\u001b[01;31malexnet_based_40aug_backup.csv.gz\u001b[0m\r\n",
      "\u001b[01;31malexnet_based_40aug.csv.gz\u001b[0m\r\n",
      "\u001b[01;31malexnet_based_40aug_prior_weighted.csv.gz\u001b[0m\r\n",
      "\u001b[01;32malexnet_based.backup.csv\u001b[0m*\r\n",
      "alexnet_based.csv\r\n",
      "\u001b[01;32malexnet_based.csv.gz.backup\u001b[0m*\r\n",
      "\u001b[01;31malexnet_based_extra_convlayer.csv.gz\u001b[0m\r\n",
      "\u001b[01;31malexnet_based_fixed.csv.gz\u001b[0m\r\n",
      "\u001b[01;31malexnet_based_norm_global_8aug.csv.gz\u001b[0m\r\n",
      "\u001b[01;31malexnet_based_norm_global.csv.gz\u001b[0m\r\n",
      "\u001b[01;31malexnet_based_norm_pixel.csv.gz\u001b[0m\r\n",
      "\u001b[01;31malexnet_based_objective.csv.gz\u001b[0m\r\n",
      "alexnet_based_objective.csv.gz.backup\r\n",
      "\u001b[01;31mcombine_40aug_class_predictions.csv.gz\u001b[0m\r\n",
      "\u001b[01;31mcombine_disparate_models.csv.gz\u001b[0m\r\n",
      "\u001b[01;31mcombine_more_disparate_models.csv.gz\u001b[0m\r\n",
      "\u001b[01;31mfewer_conv_channels_with_dropout_resume.csv.gz\u001b[0m\r\n",
      "\u001b[01;31mparallel_conv.csv.gz\u001b[0m\r\n",
      "\u001b[01;31mreplicate_8aug.csv.gz\u001b[0m\r\n",
      "\u001b[01;31msuperclasses_online.csv.gz\u001b[0m\r\n",
      "\u001b[01;31mtesting_combiner.csv.gz\u001b[0m\r\n",
      "\u001b[m"
     ]
    }
   ],
   "source": [
    "ls"
   ]
  },
  {
   "cell_type": "code",
   "execution_count": 24,
   "metadata": {
    "collapsed": true
   },
   "outputs": [],
   "source": [
    "!gzip -d alexnet_based_40aug.csv.gz"
   ]
  },
  {
   "cell_type": "code",
   "execution_count": 26,
   "metadata": {
    "collapsed": false
   },
   "outputs": [
    {
     "name": "stdout",
     "output_type": "stream",
     "text": [
      "1631 alexnet_based_40aug.csv\r\n"
     ]
    }
   ],
   "source": [
    "!wc -l alexnet_based_40aug.csv"
   ]
  },
  {
   "cell_type": "markdown",
   "metadata": {},
   "source": [
    "The splits would have been equal to the full dataset divided by 80:"
   ]
  },
  {
   "cell_type": "code",
   "execution_count": 27,
   "metadata": {
    "collapsed": false
   },
   "outputs": [
    {
     "data": {
      "text/plain": [
       "1630"
      ]
     },
     "execution_count": 27,
     "metadata": {},
     "output_type": "execute_result"
    }
   ],
   "source": [
    "130400/80"
   ]
  },
  {
   "cell_type": "markdown",
   "metadata": {},
   "source": [
    "Including the header, that's exactly correct.\n",
    "\n",
    "All we can do now is rewrite the submission csv with the full names and submit it to check it's valid."
   ]
  },
  {
   "cell_type": "code",
   "execution_count": 34,
   "metadata": {
    "collapsed": true
   },
   "outputs": [],
   "source": [
    "neukrill_net.utils.write_predictions(\"alexnet_based_40aug.csv\",y,names,settings.classes)"
   ]
  },
  {
   "cell_type": "markdown",
   "metadata": {},
   "source": [
    "And we have to do the same for 16aug predictions."
   ]
  },
  {
   "cell_type": "code",
   "execution_count": 35,
   "metadata": {
    "collapsed": false
   },
   "outputs": [
    {
     "name": "stdout",
     "output_type": "stream",
     "text": [
      "/disk/scratch/neuroglycerin/dump\n"
     ]
    }
   ],
   "source": [
    "cd /disk/scratch/neuroglycerin/dump/"
   ]
  },
  {
   "cell_type": "code",
   "execution_count": 36,
   "metadata": {
    "collapsed": true
   },
   "outputs": [],
   "source": [
    "with open(\"test2.py.pkl\",\"rb\") as f:\n",
    "    p16aug = pickle.load(f)"
   ]
  },
  {
   "cell_type": "code",
   "execution_count": 37,
   "metadata": {
    "collapsed": false
   },
   "outputs": [
    {
     "data": {
      "text/plain": [
       "(130400, 121)"
      ]
     },
     "execution_count": 37,
     "metadata": {},
     "output_type": "execute_result"
    }
   ],
   "source": [
    "y16aug = np.vstack(p16aug)\n",
    "y16aug.shape"
   ]
  },
  {
   "cell_type": "code",
   "execution_count": 38,
   "metadata": {
    "collapsed": false
   },
   "outputs": [
    {
     "name": "stdout",
     "output_type": "stream",
     "text": [
      "/disk/scratch/neuroglycerin/submissions\n"
     ]
    }
   ],
   "source": [
    "cd /disk/scratch/neuroglycerin/submissions/"
   ]
  },
  {
   "cell_type": "code",
   "execution_count": 39,
   "metadata": {
    "collapsed": true
   },
   "outputs": [],
   "source": [
    "neukrill_net.utils.write_predictions(\"alexnet_based_16aug.csv.gz\",y16aug,names,settings.classes)"
   ]
  }
 ],
 "metadata": {
  "kernelspec": {
   "display_name": "Python 2",
   "language": "python",
   "name": "python2"
  },
  "language_info": {
   "codemirror_mode": {
    "name": "ipython",
    "version": 2
   },
   "file_extension": ".py",
   "mimetype": "text/x-python",
   "name": "python",
   "nbconvert_exporter": "python",
   "pygments_lexer": "ipython2",
   "version": "2.7.8"
  }
 },
 "nbformat": 4,
 "nbformat_minor": 0
}
