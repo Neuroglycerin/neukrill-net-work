{
 "metadata": {
  "name": "",
  "signature": "sha256:f4b476b2df00671614ad25d9f46b665721a76e04ef4453e1a37d120e0afa8ade"
 },
 "nbformat": 3,
 "nbformat_minor": 0,
 "worksheets": [
  {
   "cells": [
    {
     "cell_type": "markdown",
     "metadata": {},
     "source": [
      "As I've not used virtualenvs much before, making sure that it's working in the notebook:"
     ]
    },
    {
     "cell_type": "code",
     "collapsed": false,
     "input": [
      "!pip freeze"
     ],
     "language": "python",
     "metadata": {},
     "outputs": [
      {
       "output_type": "stream",
       "stream": "stdout",
       "text": [
        "numpy==1.9.1\r\n",
        "py==1.4.26\r\n",
        "pytest==2.6.4\r\n",
        "scikit-image==0.10.1\r\n",
        "scikit-learn==0.15.2\r\n",
        "scipy==0.14.0\r\n",
        "six==1.8.0\r\n",
        "tox==1.8.1\r\n",
        "virtualenv==12.0.4\r\n"
       ]
      }
     ],
     "prompt_number": 1
    },
    {
     "cell_type": "markdown",
     "metadata": {},
     "source": [
      "Looks good. Checking path:"
     ]
    },
    {
     "cell_type": "code",
     "collapsed": false,
     "input": [
      "import sys\n",
      "print(sys.path)"
     ],
     "language": "python",
     "metadata": {},
     "outputs": [
      {
       "output_type": "stream",
       "stream": "stdout",
       "text": [
        "['', '/home/gavin/repositories/neukrill_venv/lib/python3.4/site-packages', '', '/usr/lib/python34.zip', '/usr/lib/python3.4', '/usr/lib/python3.4/plat-linux', '/usr/lib/python3.4/lib-dynload', '/home/gavin/.local/lib/python3.4/site-packages', '/usr/lib/python3.4/site-packages', '/usr/lib/python3.4/site-packages/IPython/extensions', '/home/gavin/repositories/neukrill-net-tools']\n"
       ]
      }
     ],
     "prompt_number": 2
    },
    {
     "cell_type": "markdown",
     "metadata": {},
     "source": [
      "Tools repository has been added succesfully."
     ]
    },
    {
     "cell_type": "markdown",
     "metadata": {},
     "source": [
      "Aims\n",
      "====\n",
      "\n",
      "Want to investigate the images in various ways. Want to simply look at the different classes and make a record of the different sizes. Also would like to investigate other factors, like image statistics and visualize similarities using dimensionality reduction. Making a list:\n",
      "\n",
      "* List the classes and superclasses\n",
      "* Look at examples from different classes\n",
      "* Distribution of image dimensions (heatmap)\n",
      "* Image statistics (define more accurately when you get here)\n",
      "* Visualize similarities (dimensionality reduction etc)\n",
      "\n",
      "First, parsing the images:"
     ]
    },
    {
     "cell_type": "code",
     "collapsed": false,
     "input": [
      "cd .."
     ],
     "language": "python",
     "metadata": {},
     "outputs": [
      {
       "output_type": "stream",
       "stream": "stdout",
       "text": [
        "/home/gavin/repositories/neukrill-net-work\n"
       ]
      }
     ],
     "prompt_number": 6
    },
    {
     "cell_type": "code",
     "collapsed": false,
     "input": [
      "import neukrill_net.utils"
     ],
     "language": "python",
     "metadata": {},
     "outputs": [],
     "prompt_number": 5
    },
    {
     "cell_type": "code",
     "collapsed": false,
     "input": [
      "settings = neukrill_net.utils.parse_settings('settings.json')"
     ],
     "language": "python",
     "metadata": {},
     "outputs": [],
     "prompt_number": 9
    },
    {
     "cell_type": "code",
     "collapsed": false,
     "input": [],
     "language": "python",
     "metadata": {},
     "outputs": [],
     "prompt_number": 8
    }
   ],
   "metadata": {}
  }
 ]
}