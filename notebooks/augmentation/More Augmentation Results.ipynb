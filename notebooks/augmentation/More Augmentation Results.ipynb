{
 "cells": [
  {
   "cell_type": "markdown",
   "metadata": {},
   "source": [
    "We wanted to check our hypothesis that increasing the augmentation will always give us a better score. Started two models, one with 8 rotations instead of 4 and one turning on random crops as well. These both used a very large proportion of RAM because of the high augmentation factor."
   ]
  },
  {
   "cell_type": "code",
   "execution_count": 1,
   "metadata": {
    "collapsed": false
   },
   "outputs": [
    {
     "name": "stdout",
     "output_type": "stream",
     "text": [
      "/afs/inf.ed.ac.uk/user/s08/s0805516/repos/neukrill-net-work\n"
     ]
    }
   ],
   "source": [
    "cd .."
   ]
  },
  {
   "cell_type": "code",
   "execution_count": 4,
   "metadata": {
    "collapsed": false
   },
   "outputs": [
    {
     "name": "stdout",
     "output_type": "stream",
     "text": [
      "Loading settings..\n",
      "Loading model...\n",
      "Loading data...\n",
      "Applying normalisation: global\n",
      "Finding batch size...\n",
      "    chosen batch size 3089 for 16 batches\n",
      "Compiling forward prop...\n",
      "Making predictions...\n",
      "    Batch 1 of 16\n",
      "    Batch 2 of 16\n",
      "    Batch 3 of 16\n",
      "    Batch 4 of 16\n",
      "    Batch 5 of 16\n",
      "    Batch 6 of 16\n",
      "    Batch 7 of 16\n",
      "    Batch 8 of 16\n",
      "    Batch 9 of 16\n",
      "    Batch 10 of 16\n",
      "    Batch 11 of 16\n",
      "    Batch 12 of 16\n",
      "    Batch 13 of 16\n",
      "    Batch 14 of 16\n",
      "    Batch 15 of 16\n",
      "    Batch 16 of 16\n",
      "Collapsing predictions...\n",
      "Log loss: 0.751659367652\n"
     ]
    }
   ],
   "source": [
    "%run check_test_score.py -v run_settings/alexnet_based_16aug.json"
   ]
  },
  {
   "cell_type": "code",
   "execution_count": 5,
   "metadata": {
    "collapsed": false
   },
   "outputs": [
    {
     "name": "stdout",
     "output_type": "stream",
     "text": [
      "Loading settings..\n",
      "Loading model...\n",
      "Loading data...\n",
      "Applying normalisation: global\n",
      "Finding batch size...\n",
      "    chosen batch size 3089 for 40 batches\n",
      "Compiling forward prop...\n",
      "Making predictions...\n",
      "    Batch 1 of 40\n",
      "    Batch 2 of 40\n",
      "    Batch 3 of 40\n",
      "    Batch 4 of 40\n",
      "    Batch 5 of 40\n",
      "    Batch 6 of 40\n",
      "    Batch 7 of 40\n",
      "    Batch 8 of 40\n",
      "    Batch 9 of 40\n",
      "    Batch 10 of 40\n",
      "    Batch 11 of 40\n",
      "    Batch 12 of 40\n",
      "    Batch 13 of 40\n",
      "    Batch 14 of 40\n",
      "    Batch 15 of 40\n",
      "    Batch 16 of 40\n",
      "    Batch 17 of 40\n",
      "    Batch 18 of 40\n",
      "    Batch 19 of 40\n",
      "    Batch 20 of 40\n",
      "    Batch 21 of 40\n",
      "    Batch 22 of 40\n",
      "    Batch 23 of 40\n",
      "    Batch 24 of 40\n",
      "    Batch 25 of 40\n",
      "    Batch 26 of 40\n",
      "    Batch 27 of 40\n",
      "    Batch 28 of 40\n",
      "    Batch 29 of 40\n",
      "    Batch 30 of 40\n",
      "    Batch 31 of 40\n",
      "    Batch 32 of 40\n",
      "    Batch 33 of 40\n",
      "    Batch 34 of 40\n",
      "    Batch 35 of 40\n",
      "    Batch 36 of 40\n",
      "    Batch 37 of 40\n",
      "    Batch 38 of 40\n",
      "    Batch 39 of 40\n",
      "    Batch 40 of 40\n",
      "Collapsing predictions...\n",
      "Log loss: 0.739534953247\n"
     ]
    }
   ],
   "source": [
    "%run check_test_score.py -v run_settings/alexnet_based_40aug.json"
   ]
  }
 ],
 "metadata": {
  "kernelspec": {
   "display_name": "Python 2",
   "language": "python",
   "name": "python2"
  },
  "language_info": {
   "codemirror_mode": {
    "name": "ipython",
    "version": 2
   },
   "file_extension": ".py",
   "mimetype": "text/x-python",
   "name": "python",
   "nbconvert_exporter": "python",
   "pygments_lexer": "ipython2",
   "version": "2.7.8"
  }
 },
 "nbformat": 4,
 "nbformat_minor": 0
}
