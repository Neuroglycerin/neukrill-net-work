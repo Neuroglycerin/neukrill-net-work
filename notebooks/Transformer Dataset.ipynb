{
 "cells": [
  {
   "cell_type": "markdown",
   "metadata": {},
   "source": [
    "Trying out the Transformer dataset class from Pylearn2 with our current dataset class as raw, should be able to make a block to apply to it using one of our processing functions that will produce a random combination of it's processing functions.\n",
    "\n",
    "Setting up\n",
    "====\n",
    "\n",
    "Loading the data and the model, the classic loosely AlexNet based model we've been using for a while."
   ]
  },
  {
   "cell_type": "code",
   "execution_count": 1,
   "metadata": {
    "collapsed": false
   },
   "outputs": [
    {
     "name": "stderr",
     "output_type": "stream",
     "text": [
      "Using gpu device 0: Tesla K40c\n",
      ":0: FutureWarning: IPython widgets are experimental and may change in the future.\n"
     ]
    },
    {
     "name": "stdout",
     "output_type": "stream",
     "text": [
      "Welcome to the HoloViews IPython extension! (http://ioam.github.io/holoviews/)\n",
      "Available magics: %compositor, %opts, %params, %view, %%labels, %%opts, %%view\n"
     ]
    },
    {
     "data": {
      "text/plain": [
       "<matplotlib.figure.Figure at 0x7f66024d8850>"
      ]
     },
     "metadata": {},
     "output_type": "display_data"
    },
    {
     "data": {
      "text/plain": [
       "<matplotlib.figure.Figure at 0x7f66024d8f10>"
      ]
     },
     "metadata": {},
     "output_type": "display_data"
    },
    {
     "data": {
      "text/plain": [
       "<matplotlib.figure.Figure at 0x7f66024d8d10>"
      ]
     },
     "metadata": {},
     "output_type": "display_data"
    }
   ],
   "source": [
    "import pylearn2.utils\n",
    "import pylearn2.config\n",
    "import theano\n",
    "import neukrill_net.dense_dataset\n",
    "import neukrill_net.utils\n",
    "import numpy as np\n",
    "%matplotlib inline\n",
    "import matplotlib.pyplot as plt\n",
    "import holoviews as hl\n",
    "%load_ext holoviews.ipython\n",
    "import sklearn.metrics"
   ]
  },
  {
   "cell_type": "code",
   "execution_count": 2,
   "metadata": {
    "collapsed": false
   },
   "outputs": [
    {
     "name": "stdout",
     "output_type": "stream",
     "text": [
      "/afs/inf.ed.ac.uk/user/s08/s0805516/repos/neukrill-net-work\n"
     ]
    }
   ],
   "source": [
    "cd .."
   ]
  },
  {
   "cell_type": "code",
   "execution_count": 3,
   "metadata": {
    "collapsed": false
   },
   "outputs": [],
   "source": [
    "settings = neukrill_net.utils.Settings(\"settings.json\")\n",
    "run_settings = neukrill_net.utils.load_run_settings(\n",
    "    \"run_settings/alexnet_based.json\", settings, force=True)"
   ]
  },
  {
   "cell_type": "code",
   "execution_count": 4,
   "metadata": {
    "collapsed": false
   },
   "outputs": [
    {
     "name": "stdout",
     "output_type": "stream",
     "text": [
      "(3026,)\n"
     ]
    }
   ],
   "source": [
    "# loading the model\n",
    "model = pylearn2.utils.serial.load(run_settings['pickle abspath'])\n",
    "# loading the data\n",
    "dataset = neukrill_net.dense_dataset.DensePNGDataset(settings_path=run_settings['settings_path'],\n",
    "                                            run_settings=run_settings['run_settings_path'],\n",
    "                                                     train_or_predict='train',\n",
    "                                                     training_set_mode='validation', force=True)"
   ]
  },
  {
   "cell_type": "markdown",
   "metadata": {},
   "source": [
    "Making a Block\n",
    "=====\n",
    "\n",
    "Pylearn2 uses [Blocks to apply the processing functions to the raw data][blockexample]. The Transformer class appears to be able to also take [model pickle files as transforms][ae]. Hopefully, we can just make an object that inherits the Block base class and supply it with a function to transform an image and that might work. The documentation doesn't really say one way or the other.\n",
    "\n",
    "[blockexample]: https://github.com/lisa-lab/pylearn2/blob/master/pylearn2/scripts/tutorials/deep_trainer/run_deep_trainer.py\n",
    "[ae]: http://nbviewer.ipython.org/github/lisa-lab/pylearn2/blob/master/pylearn2/scripts/tutorials/stacked_autoencoders/stacked_autoencoders.ipynb"
   ]
  },
  {
   "cell_type": "code",
   "execution_count": 5,
   "metadata": {
    "collapsed": true
   },
   "outputs": [],
   "source": [
    "import pylearn2.blocks\n",
    "import neukrill_net.image_processing"
   ]
  },
  {
   "cell_type": "code",
   "execution_count": 6,
   "metadata": {
    "collapsed": true
   },
   "outputs": [],
   "source": [
    "b = pylearn2.blocks.Block()"
   ]
  },
  {
   "cell_type": "code",
   "execution_count": 7,
   "metadata": {
    "collapsed": true
   },
   "outputs": [],
   "source": [
    "b.fn = lambda x: neukrill_net.image_processing.flip_image(x,flip_x=True)"
   ]
  },
  {
   "cell_type": "code",
   "execution_count": 8,
   "metadata": {
    "collapsed": false
   },
   "outputs": [],
   "source": [
    "t = dataset.get_topological_view(dataset.X[:1,:])"
   ]
  },
  {
   "cell_type": "code",
   "execution_count": 9,
   "metadata": {
    "collapsed": false
   },
   "outputs": [
    {
     "data": {
      "text/plain": [
       "(1, 48, 48, 1)"
      ]
     },
     "execution_count": 9,
     "metadata": {},
     "output_type": "execute_result"
    }
   ],
   "source": [
    "t.shape"
   ]
  },
  {
   "cell_type": "code",
   "execution_count": 10,
   "metadata": {
    "collapsed": false
   },
   "outputs": [
    {
     "data": {
      "text/html": [
       "<center><img src='data:image/png;base64,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' style='max-width:100%'/><center/>"
      ],
      "text/plain": [
       "Image.Image   (z)"
      ]
     },
     "execution_count": 10,
     "metadata": {},
     "output_type": "execute_result"
    }
   ],
   "source": [
    "%opts Image style(cmap='gray')\n",
    "i = hl.Image(t.reshape(t.shape[1:3]))\n",
    "i"
   ]
  },
  {
   "cell_type": "code",
   "execution_count": 11,
   "metadata": {
    "collapsed": true
   },
   "outputs": [],
   "source": [
    "import pdb"
   ]
  },
  {
   "cell_type": "code",
   "execution_count": 12,
   "metadata": {
    "collapsed": true
   },
   "outputs": [],
   "source": [
    "class SampleAugment(pylearn2.blocks.Block):\n",
    "    def __init__(self,fn,target_shape):\n",
    "        self._fn = fn\n",
    "        self.cpu_only=False\n",
    "        self.target_shape = target_shape\n",
    "    def __call__(self,inputs):\n",
    "        return self.fn(inputs)\n",
    "    def fn(self,inputs):\n",
    "        # prepare empty array same size as inputs\n",
    "        req = inputs.shape\n",
    "        sh = [inputs.shape[0]] + list(self.target_shape)\n",
    "        inputs = inputs.reshape(sh)\n",
    "        processed = np.zeros(sh)\n",
    "        # hand each image as a 2D array\n",
    "        for i in range(inputs.shape[0]):\n",
    "            processed[i] = self._fn(inputs[i].reshape(self.target_shape))\n",
    "        processed = processed.reshape(req)\n",
    "        return processed"
   ]
  },
  {
   "cell_type": "code",
   "execution_count": 13,
   "metadata": {
    "collapsed": true
   },
   "outputs": [],
   "source": [
    "b = SampleAugment(lambda x: neukrill_net.image_processing.flip_image(x,flip_x=True),(48,48))"
   ]
  },
  {
   "cell_type": "code",
   "execution_count": 14,
   "metadata": {
    "collapsed": false
   },
   "outputs": [
    {
     "data": {
      "text/html": [
       "<center><img src='data:image/png;base64,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' style='max-width:100%'/><center/>"
      ],
      "text/plain": [
       "Image.Image   (z)"
      ]
     },
     "execution_count": 14,
     "metadata": {},
     "output_type": "execute_result"
    }
   ],
   "source": [
    "hl.Image(b(t).reshape(t.shape[1:3]))"
   ]
  },
  {
   "cell_type": "markdown",
   "metadata": {},
   "source": [
    "So it flips images like it's supposed to. Now we can try to make a TransformerDataset using it:"
   ]
  },
  {
   "cell_type": "code",
   "execution_count": 15,
   "metadata": {
    "collapsed": false
   },
   "outputs": [],
   "source": [
    "# want to make sure the processing is obvious\n",
    "b = SampleAugment(lambda x: np.zeros(x.shape),(48,48))"
   ]
  },
  {
   "cell_type": "code",
   "execution_count": 16,
   "metadata": {
    "collapsed": true
   },
   "outputs": [],
   "source": [
    "import pylearn2.datasets.transformer_dataset"
   ]
  },
  {
   "cell_type": "code",
   "execution_count": 17,
   "metadata": {
    "collapsed": true
   },
   "outputs": [],
   "source": [
    "tdataset = pylearn2.datasets.transformer_dataset.TransformerDataset(dataset,b,\n",
    "                                                                    space_preserving=True)"
   ]
  },
  {
   "cell_type": "code",
   "execution_count": 18,
   "metadata": {
    "collapsed": false
   },
   "outputs": [
    {
     "data": {
      "text/html": [
       "<center><img src='data:image/png;base64,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' style='max-width:100%'/><center/>"
      ],
      "text/plain": [
       "Image.Image   (z)"
      ]
     },
     "execution_count": 18,
     "metadata": {},
     "output_type": "execute_result"
    }
   ],
   "source": [
    "hl.Image(dataset.get_batch_topo(1).reshape(t.shape[1:3]))"
   ]
  },
  {
   "cell_type": "code",
   "execution_count": 19,
   "metadata": {
    "collapsed": false
   },
   "outputs": [
    {
     "data": {
      "text/html": [
       "<center><img src='data:image/png;base64,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' style='max-width:100%'/><center/>"
      ],
      "text/plain": [
       "Image.Image   (z)"
      ]
     },
     "execution_count": 19,
     "metadata": {},
     "output_type": "execute_result"
    }
   ],
   "source": [
    "hl.Image(tdataset.get_batch_topo(1).reshape(t.shape[1:3]))"
   ]
  },
  {
   "cell_type": "markdown",
   "metadata": {},
   "source": [
    "Should be possible to hack together from here. Making a transformer dataset that takes a stochastic processing function in a block; sampling from a set of possible augmentations and applying them to the image.\n",
    "\n",
    "Stupid Transformer\n",
    "======\n",
    "\n",
    "The stupid transformer takes a dataset after preprocessing; after the dataset has been resized and normalised into a homogeneous numpy array. It then applies its processing function to each of the examples in the array when a batch is requested.\n",
    "\n",
    "This is pretty easy to make; in fact we've pretty much done it above. All we need is a stochastic augmentation function that will apply a random augmentation to the images supplied each time. Then, we'll have a potentially massive dataset."
   ]
  },
  {
   "cell_type": "code",
   "execution_count": 20,
   "metadata": {
    "collapsed": true
   },
   "outputs": [],
   "source": [
    "import neukrill_net.augment"
   ]
  },
  {
   "cell_type": "code",
   "execution_count": 21,
   "metadata": {
    "collapsed": false
   },
   "outputs": [
    {
     "data": {
      "text/plain": [
       "<module 'neukrill_net.augment' from '/afs/inf.ed.ac.uk/user/s08/s0805516/repos/neukrill-net-tools/neukrill_net/augment.pyc'>"
      ]
     },
     "execution_count": 21,
     "metadata": {},
     "output_type": "execute_result"
    }
   ],
   "source": [
    "reload(neukrill_net.augment)"
   ]
  },
  {
   "cell_type": "code",
   "execution_count": 22,
   "metadata": {
    "collapsed": false
   },
   "outputs": [
    {
     "data": {
      "text/plain": [
       "<module 'neukrill_net.blocks' from '/afs/inf.ed.ac.uk/user/s08/s0805516/repos/neukrill-net-tools/neukrill_net/blocks.pyc'>"
      ]
     },
     "execution_count": 22,
     "metadata": {},
     "output_type": "execute_result"
    }
   ],
   "source": [
    "import neukrill_net.blocks\n",
    "reload(neukrill_net.blocks)"
   ]
  },
  {
   "cell_type": "code",
   "execution_count": 23,
   "metadata": {
    "collapsed": false
   },
   "outputs": [],
   "source": [
    "fn = neukrill_net.augment.RandomAugment(**{\"units\":\"float64\",\n",
    "                                           \"rotate\":-1,\n",
    "                                           \"flip\":1,\n",
    "                                           \"rotate_is_resizable\":0,\n",
    "                                           \"shear\":[0,np.pi/4,np.pi/2],\n",
    "                                           \"crop\":[0.05,0.1,0.2],\n",
    "                                           \"noise\":0.001,\n",
    "                                           \"scale\":[0.9,1.0,1.1,1.5],\n",
    "                                           \"resize\":(48,48)\n",
    "                                           })"
   ]
  },
  {
   "cell_type": "code",
   "execution_count": 24,
   "metadata": {
    "collapsed": false
   },
   "outputs": [
    {
     "data": {
      "text/plain": [
       "(48, 48)"
      ]
     },
     "execution_count": 24,
     "metadata": {},
     "output_type": "execute_result"
    }
   ],
   "source": [
    "t.squeeze().shape"
   ]
  },
  {
   "cell_type": "code",
   "execution_count": 25,
   "metadata": {
    "collapsed": false
   },
   "outputs": [
    {
     "data": {
      "text/html": [
       "<center><img src='data:image/png;base64,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' style='max-width:100%'/><center/>"
      ],
      "text/plain": [
       "Image.Image   (z)"
      ]
     },
     "execution_count": 25,
     "metadata": {},
     "output_type": "execute_result"
    }
   ],
   "source": [
    "hl.Image(t.squeeze())"
   ]
  },
  {
   "cell_type": "code",
   "execution_count": 26,
   "metadata": {
    "collapsed": false
   },
   "outputs": [
    {
     "data": {
      "text/html": [
       "<center><img src='data:image/png;base64,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' style='max-width:100%'/><center/>"
      ],
      "text/plain": [
       "Image.Image   (z)"
      ]
     },
     "execution_count": 26,
     "metadata": {},
     "output_type": "execute_result"
    }
   ],
   "source": [
    "hl.Image(fn(t.squeeze()))"
   ]
  },
  {
   "cell_type": "code",
   "execution_count": 27,
   "metadata": {
    "collapsed": false
   },
   "outputs": [],
   "source": [
    "b = neukrill_net.blocks.SampleAugment(lambda x: fn(x),(48,48),(48,48))"
   ]
  },
  {
   "cell_type": "code",
   "execution_count": 28,
   "metadata": {
    "collapsed": false
   },
   "outputs": [],
   "source": [
    "tdataset = pylearn2.datasets.transformer_dataset.TransformerDataset(raw=dataset,transformer=b,\n",
    "                                                                   space_preserving=True)"
   ]
  },
  {
   "cell_type": "code",
   "execution_count": 29,
   "metadata": {
    "collapsed": false
   },
   "outputs": [
    {
     "data": {
      "text/plain": [
       "<module 'neukrill_net.image_processing' from '/afs/inf.ed.ac.uk/user/s08/s0805516/repos/neukrill-net-tools/neukrill_net/image_processing.pyc'>"
      ]
     },
     "execution_count": 29,
     "metadata": {},
     "output_type": "execute_result"
    }
   ],
   "source": [
    "reload(neukrill_net.image_processing)"
   ]
  },
  {
   "cell_type": "code",
   "execution_count": 30,
   "metadata": {
    "collapsed": false
   },
   "outputs": [
    {
     "data": {
      "text/plain": [
       "(2, 48, 48, 1)"
      ]
     },
     "execution_count": 30,
     "metadata": {},
     "output_type": "execute_result"
    }
   ],
   "source": [
    "tdataset.get_batch_topo(2).shape"
   ]
  },
  {
   "cell_type": "code",
   "execution_count": 31,
   "metadata": {
    "collapsed": false
   },
   "outputs": [
    {
     "data": {
      "text/html": [
       "<center><img src='data:image/png;base64,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' style='max-width:100%'/><center/>"
      ],
      "text/plain": [
       "Image.Image   (z)"
      ]
     },
     "execution_count": 31,
     "metadata": {},
     "output_type": "execute_result"
    }
   ],
   "source": [
    "hl.Image(tdataset.get_batch_topo(1).reshape((48,48)))"
   ]
  },
  {
   "cell_type": "code",
   "execution_count": 32,
   "metadata": {
    "collapsed": false
   },
   "outputs": [
    {
     "data": {
      "text/plain": [
       "3026"
      ]
     },
     "execution_count": 32,
     "metadata": {},
     "output_type": "execute_result"
    }
   ],
   "source": [
    "tdataset.get_num_examples()"
   ]
  },
  {
   "cell_type": "code",
   "execution_count": 33,
   "metadata": {
    "collapsed": false
   },
   "outputs": [],
   "source": [
    "batch_size = 128\n",
    "num_batches = int(tdataset.get_num_examples()/batch_size)"
   ]
  },
  {
   "cell_type": "markdown",
   "metadata": {},
   "source": [
    "Had to make some modifications to the Pylearn2 code to make this work:"
   ]
  },
  {
   "cell_type": "code",
   "execution_count": 34,
   "metadata": {
    "collapsed": false
   },
   "outputs": [
    {
     "data": {
      "text/plain": [
       "<module 'pylearn2.utils.iteration' from '/afs/inf.ed.ac.uk/user/s08/s0805516/repos/pylearn2/pylearn2/utils/iteration.pyc'>"
      ]
     },
     "execution_count": 34,
     "metadata": {},
     "output_type": "execute_result"
    }
   ],
   "source": [
    "import pylearn2.utils.iteration\n",
    "reload(pylearn2.utils.iteration)"
   ]
  },
  {
   "cell_type": "markdown",
   "metadata": {},
   "source": [
    "Iterator gets called during the SGD train loop, specifically on lines 445-464 in `pylearn2/training_algorithms/sgd.py`:\n",
    "\n",
    "```python\n",
    "        iterator = dataset.iterator(mode=self.train_iteration_mode,\n",
    "                                    batch_size=self.batch_size,\n",
    "                                    data_specs=flat_data_specs,\n",
    "                                    return_tuple=True, rng=rng,\n",
    "                                    num_batches=self.batches_per_iter)\n",
    "\n",
    "        on_load_batch = self.on_load_batch\n",
    "        for batch in iterator:\n",
    "            for callback in on_load_batch:\n",
    "                callback(*batch)\n",
    "            self.sgd_update(*batch)\n",
    "            # iterator might return a smaller batch if dataset size\n",
    "            # isn't divisible by batch_size\n",
    "            # Note: if data_specs[0] is a NullSpace, there is no way to know\n",
    "            # how many examples would actually have been in the batch,\n",
    "            # since it was empty, so actual_batch_size would be reported as 0.\n",
    "            actual_batch_size = flat_data_specs[0].np_batch_size(batch)\n",
    "            self.monitor.report_batch(actual_batch_size)\n",
    "            for callback in self.update_callbacks:\n",
    "                callback(self)\n",
    "```\n",
    "\n",
    "So we have to call the iterator the same way, specifically getting whatever `flat_data_specs` right."
   ]
  },
  {
   "cell_type": "code",
   "execution_count": 35,
   "metadata": {
    "collapsed": true
   },
   "outputs": [],
   "source": [
    "from pylearn2.space import CompositeSpace"
   ]
  },
  {
   "cell_type": "code",
   "execution_count": 36,
   "metadata": {
    "collapsed": true
   },
   "outputs": [],
   "source": [
    "from pylearn2.utils.data_specs import DataSpecsMapping"
   ]
  },
  {
   "cell_type": "code",
   "execution_count": 37,
   "metadata": {
    "collapsed": true
   },
   "outputs": [],
   "source": [
    "data_specs = (model.get_input_space(),model.get_input_source())"
   ]
  },
  {
   "cell_type": "code",
   "execution_count": 38,
   "metadata": {
    "collapsed": true
   },
   "outputs": [],
   "source": [
    "mapping = DataSpecsMapping(data_specs)"
   ]
  },
  {
   "cell_type": "code",
   "execution_count": 39,
   "metadata": {
    "collapsed": true
   },
   "outputs": [],
   "source": [
    "space_tuple = mapping.flatten(data_specs[0], return_tuple=True)\n",
    "source_tuple =  mapping.flatten(data_specs[1], return_tuple=True)"
   ]
  },
  {
   "cell_type": "code",
   "execution_count": 40,
   "metadata": {
    "collapsed": false
   },
   "outputs": [],
   "source": [
    "flat_data_specs = (CompositeSpace(space_tuple), source_tuple)"
   ]
  },
  {
   "cell_type": "code",
   "execution_count": 41,
   "metadata": {
    "collapsed": false
   },
   "outputs": [
    {
     "name": "stderr",
     "output_type": "stream",
     "text": [
      "/afs/inf.ed.ac.uk/user/s08/s0805516/repos/pylearn2/pylearn2/utils/iteration.py:783: UserWarning: dataset is using the old iterator interface which is deprecated and will become officially unsupported as of July 28, 2015. The dataset should implement a `get` method respecting the new interface.\n",
      "  warnings.warn(\"dataset is using the old iterator interface which \"\n"
     ]
    }
   ],
   "source": [
    "iterator = tdataset.iterator(mode='random_slice', data_specs=flat_data_specs,\n",
    "                             batch_size=batch_size,num_batches=num_batches)"
   ]
  },
  {
   "cell_type": "code",
   "execution_count": 42,
   "metadata": {
    "collapsed": false
   },
   "outputs": [
    {
     "name": "stdout",
     "output_type": "stream",
     "text": [
      "Automatic pdb calling has been turned ON\n"
     ]
    }
   ],
   "source": [
    "%pdb"
   ]
  },
  {
   "cell_type": "code",
   "execution_count": 43,
   "metadata": {
    "collapsed": false
   },
   "outputs": [
    {
     "data": {
      "text/plain": [
       "(1, 48, 48, 128)"
      ]
     },
     "execution_count": 43,
     "metadata": {},
     "output_type": "execute_result"
    }
   ],
   "source": [
    "iterator.next().shape"
   ]
  },
  {
   "cell_type": "markdown",
   "metadata": {},
   "source": [
    "So the iterators can't actually produce examples? In that case, what is it actually training on? Maybe it's failing over to the raw iterator silently? Would explain the lack of difference in actual performance."
   ]
  },
  {
   "cell_type": "code",
   "execution_count": 44,
   "metadata": {
    "collapsed": false
   },
   "outputs": [
    {
     "data": {
      "text/plain": [
       "(1, 48, 48, 128)"
      ]
     },
     "execution_count": 44,
     "metadata": {},
     "output_type": "execute_result"
    }
   ],
   "source": [
    "iterator.raw_iterator.next().shape"
   ]
  },
  {
   "cell_type": "code",
   "execution_count": 45,
   "metadata": {
    "collapsed": false
   },
   "outputs": [
    {
     "data": {
      "text/plain": [
       "2944"
      ]
     },
     "execution_count": 45,
     "metadata": {},
     "output_type": "execute_result"
    }
   ],
   "source": [
    "iterator.num_examples"
   ]
  },
  {
   "cell_type": "markdown",
   "metadata": {},
   "source": [
    "Smart Transformer\n",
    "======\n",
    "\n",
    "The big problem with the dataset before is that these transformations have to occur _after_ resizing, normalisation and loading all the images into this big numpy array. We might be able to hack our way round this by loading the images unprocessed into a very large numpy array and padding the spare area around most of the images with an indicator number; then shaving this off before augmentation and homogenisation back down to whatever size we're aiming for.\n",
    "\n",
    "It would be much better if the transformer dataset had a stochastic function which it applied whenever it needed a batch to a set of _raw images_ held in memory. To make this, first going to try to create a dummy raw dataset that simply loads the raw images as a list of numpy arrays and supports the expected interface that the Transformer class will be looking for. Then, we just need to initialise our Block class with a processing function that can support processing from raw images."
   ]
  },
  {
   "cell_type": "code",
   "execution_count": 46,
   "metadata": {
    "collapsed": true
   },
   "outputs": [],
   "source": [
    "import pylearn2.datasets"
   ]
  },
  {
   "cell_type": "code",
   "execution_count": 47,
   "metadata": {
    "collapsed": true
   },
   "outputs": [],
   "source": [
    "# don't have to think too hard about how to write this:\n",
    "# https://stackoverflow.com/questions/19151/build-a-basic-python-iterator\n",
    "class FlyIterator(object):\n",
    "    \"\"\"\n",
    "    Simple iterator class to take a dataset and iterate over\n",
    "    it's contents applying a processing function. Assuming\n",
    "    the dataset has a processing function to apply.\n",
    "    \n",
    "    It may have an issue of there being some leftover examples\n",
    "    that will never be shown on any epoch. Can avoid this by\n",
    "    seeding with sampled numbers from the dataset's own rng.\n",
    "    \"\"\"\n",
    "    def __init__(self, dataset, batch_size, num_batches,\n",
    "                 final_shape, seed=42):\n",
    "        self.dataset = dataset\n",
    "        self.batch_size = batch_size\n",
    "        self.num_batches = num_batches\n",
    "        self.final_shape = final_shape\n",
    "        # initialise rng\n",
    "        self.rng = np.random.RandomState(seed=seed)\n",
    "        # shuffle indices of size equal to number of examples\n",
    "        # in dataset\n",
    "        N = self.dataset.get_num_examples()\n",
    "        self.indices = range(N)\n",
    "        self.rng.shuffle(self.indices)\n",
    "        \n",
    "    def __iter__(self):\n",
    "        return self\n",
    "    \n",
    "    def next(self):\n",
    "        # return one batch\n",
    "        batch_indices = [self.indices.pop() for i in range(batch_size)]\n",
    "        # preallocate array\n",
    "        if len(self.final_shape) == 2: \n",
    "            batch = np.zeros([batch_size]+list(self.final_shape)+[1])\n",
    "        elif len(self.final_shape) == 3:\n",
    "            batch = np.zeros([batch_size]+list(self.final_shape))\n",
    "        # iterate over indices, applying the dataset's processing function\n",
    "        for i,j in enumerate(batch_indices):\n",
    "            batch[i] = self.dataset.fn(self.dataset.X[j]).reshape(batch.shape[1:])\n",
    "        return batch"
   ]
  },
  {
   "cell_type": "code",
   "execution_count": 48,
   "metadata": {
    "collapsed": false
   },
   "outputs": [],
   "source": [
    "class ListDataset(pylearn2.datasets.dataset.Dataset):\n",
    "    \"\"\"\n",
    "    Loads images as raw numpy arrays in a list, tries \n",
    "    its best to respect the interface expected of a \n",
    "    Pylearn2 Dataset.\n",
    "    \"\"\"\n",
    "    def __init__(self, transformer, settings_path=\"settings.json\", \n",
    "                 run_settings_path=\"run_settings/alexnet_based.json\",\n",
    "                 verbose=False, force=False, seed=42):\n",
    "        \"\"\"\n",
    "        Loads the images as a list of differently shaped\n",
    "        numpy arrays and loads the labels as a vector of \n",
    "        integers, mapped deterministically.\n",
    "        \"\"\"\n",
    "        self.fn = transformer\n",
    "        # load settings\n",
    "        self.settings = neukrill_net.utils.Settings(settings_path)\n",
    "        self.run_settings = neukrill_net.utils.load_run_settings(run_settings_path,\n",
    "                                                                 self.settings,\n",
    "                                                                 force=force)\n",
    "        self.X, labels = neukrill_net.utils.load_rawdata(self.settings.image_fnames,\n",
    "                                                 classes=self.settings.classes,\n",
    "                                                 verbose=verbose)\n",
    "        # transform labels from strings to integers\n",
    "        class_dictionary = {}\n",
    "        for i,c in enumerate(self.settings.classes):\n",
    "            class_dictionary[c] = i\n",
    "        self.y = np.array(map(lambda c: class_dictionary[c],labels))\n",
    "        \n",
    "        # set up the random state\n",
    "        self.rng = np.random.RandomState(seed)\n",
    "        \n",
    "        # shuffle a list of image indices\n",
    "        self.N = len(self.X)\n",
    "        self.indices = range(self.N)\n",
    "        self.rng.shuffle(self.indices)\n",
    "        \n",
    "    def iterator(self, mode=None, batch_size=None, num_batches=None, rng=None,\n",
    "                        data_specs=None, return_tuple=False):\n",
    "        \"\"\"\n",
    "        Returns iterator object with standard Pythonic interface; iterates\n",
    "        over the dataset over batches, popping off batches from a shuffled \n",
    "        list of indices.\n",
    "        \"\"\"\n",
    "        if not num_batches:\n",
    "            # guess that we want to use all of them\n",
    "            num_batches = int(len(dataset.X)/batch_size)\n",
    "        iterator = FlyIterator(dataset=self, batch_size=batch_size, \n",
    "                        num_batches=num_batches, final_shape=run_settings[\"final_shape\"],\n",
    "                               seed=self.rng.random_integers(low=0, high=256))\n",
    "        return iterator\n",
    "        \n",
    "    def adjust_to_be_viewed_with():\n",
    "        raise NotImplementedError(\"Didn't think this was important, so didn't write it.\")\n",
    "    \n",
    "    def get_batch_design(self, batch_size, include_labels=False):\n",
    "        \"\"\"\n",
    "        Will return a list of the size batch_size of carefully raveled arrays.\n",
    "        Optionally, will also include labels (using include_labels).\n",
    "        \"\"\"\n",
    "        selection = self.rng.random_integers(0,high=self.N,size=batch_size)\n",
    "        batch = [self.X[s].ravel() for s in selection]\n",
    "        return batch\n",
    "        \n",
    "    def get_batch_topo(self, batch_size, include_labels=False):\n",
    "        \"\"\"\n",
    "        Will return a list of the size batch_size of raw, unfiltered, artisan\n",
    "        numpy arrays. Optionally, will also include labels (using include_labels).\n",
    "        \n",
    "        Strongly discouraged to use this method for learning code, so I guess \n",
    "        this isn't so important?\n",
    "        \"\"\"\n",
    "        selection = self.rng.random_integers(0,high=self.N,size=batch_size)\n",
    "        batch = [self.X[s] for s in selection]\n",
    "        return batch\n",
    "        \n",
    "    def get_num_examples(self):\n",
    "        return self.N\n",
    "        \n",
    "    def get_topological_view():\n",
    "        raise NotImplementedError(\"Not written yet, not sure we need it\")\n",
    "        \n",
    "    def get_weights_view():\n",
    "        raise NotImplementedError(\"Not written yet, didn't think it was important\")\n",
    "        \n",
    "    def has_targets(self):\n",
    "        if self.y:\n",
    "            return True\n",
    "        else:\n",
    "            return False"
   ]
  },
  {
   "cell_type": "code",
   "execution_count": 49,
   "metadata": {
    "collapsed": false
   },
   "outputs": [],
   "source": [
    "lset = ListDataset(fn,force=True)"
   ]
  },
  {
   "cell_type": "code",
   "execution_count": 50,
   "metadata": {
    "collapsed": false
   },
   "outputs": [],
   "source": [
    "i = lset.iterator(batch_size=128)"
   ]
  },
  {
   "cell_type": "code",
   "execution_count": 51,
   "metadata": {
    "collapsed": false
   },
   "outputs": [
    {
     "name": "stdout",
     "output_type": "stream",
     "text": [
      "(128, 48, 48, 1)\n"
     ]
    }
   ],
   "source": [
    "for b in i:\n",
    "    print(b.shape)\n",
    "    t = b\n",
    "    break"
   ]
  },
  {
   "cell_type": "code",
   "execution_count": 52,
   "metadata": {
    "collapsed": false
   },
   "outputs": [
    {
     "data": {
      "text/html": [
       "<center><img src='data:image/png;base64,iVBORw0KGgoAAAANSUhEUgAAARYAAAD5CAYAAADiKBqsAAAABHNCSVQICAgIfAhkiAAAAAlwSFlzAAALEgAACxIB0t1+/AAAIABJREFUeJztnXtwVdX5/p+DgsqteCMWzAUMtwQOSUCujt8htqCmqAEvI9UIVccWtNOZVlqnIgh2sLUzdqb1Sp2itQ4oMVhrK1ZRoeVmZUQFScCaExTkKmKhXIT1+4Nyfmc/e5G1z2ElJ5DnM8MMK3ufvdfae+fNXs953nfFjDEGQgjhkTbZ7oAQ4tRDgUUI4R0FFiGEdxRYhBDeUWARQnhHgUUI4Z2sB5a6ujqMGDECJSUlGDlyJDZu3BjaZ8aMGcjJyUFpaSlKS0tx1113Jbft27cPN9xwA/r3748BAwbglVdeac7uCyEsnJ7tDlRVVWHq1KkYN24cFixYgKqqKixbtiywTywWwy233IJf/epXoc/PnDkTOTk5mD9/PhKJBIYOHYp169bhnHPOaa4hCCGIrL6xbN68GRs2bMC4ceMAAOPHj0dtbS0+//zz0L7H8/HV1NTg9ttvBwDk5+dj+PDhWLRoUdN1WgjhJKuBJZFIIC8vL9mOxWLIzc1FIpEI7Ttv3jwUFxdj1KhRWLJkSeAY+fn5yXZ+fr718wcOHPDceyHE8cj6VCgKkydPxrRp09CmTRssXrwYlZWVqK2txXnnnRf5GGeeeWYT9lCIUwNfGT5ZDSx5eXloaGhIto0x2LRpU+ANBADOP//85P/Ly8vRp08frFmzBpdddhny8vJQX1+PeDwOAKivr8ewYcOs59u1a1fy//wGc+6554b2b9u2baD9n//8J9A+44wzGt3/0KFDoWOefnrwksdiMWtfj7Fly5ZAu2PHjqF9+GHgINquXbtA+8svvwwd4xvf+Eaj/fjqq68C7b179wbaF1xwQaOft3HkyJFAu02b9F+g9+3bF2jzPTnttNMC7YMHD4aOwdeHOXz4cKC9Z8+eQPvss8929pOvH5/T9gvNz6jrHkWBx596D84666wTPv4xsjoV6t69OwoLC1FdXQ0AqK6uRu/evUMPaarm8sEHH2D9+vXo27cvAKCyshJz5swBcHRatGLFCowePbqZRiCEsBHLdnZzbW0tJk2ahL1796Jjx46YO3cuevXqhYqKCsyaNQtlZWWoqqrCe++9hyNHjuD000/HjBkzcM011wA4+hdr4sSJWLduHQBg9uzZGDt2bOg8sVgs8FfD9pef+eKLLwJt11+m/fv3B9q26Re/9fA+/Ebjg//+97+Btu0vE//lb9++faPHjPK28fXXXwfaPLaPPvoo0OY/KNxvAOjSpUuj+7i+DbRpbelOk3fv3u3ch68nvxHzm1UU+FeV34j5LYivP9D48xWLxbxNhbIeWJoLBZb/jwJLEAWWo/gMLFk3yAkhTj0UWIQQ3mlVU6HUobI67vpmAIg21Unlk08+Cf2sR48egbZrusDwFATI7NuUdOFvRvjbFt5u24cfNf5GjKeJHTp0CB2Tx8/n2LlzZ6Pn6NSpU+iY/G2ea+qY7nMAhKdgPBVK/cbyGPyMpn47CoSvZybT6NT7dvrpp2sqJIRouSiwCCG8o8AihPCOAosQwjutVrxlbFZvtm6zt4NFUxYSWRQE3AImi6C8nf0RQFhM5ByqrVu3Bto5OTmhYzDpiso2WATla+yyqNuSSTndg3GJzFFwCa2ZwN4XHjuLzkBYFI7ivUrFJvSz9yV1bPKxCCFaNAosQgjvKLAIIbzTajUWntPayiZEybFJxaWfAEer5qXSrVu3QJtNYunOq33Bc3GbXpQK6zyA2zjGmgvrODbjn0v/4OvLepJNd+BnwVUCgs1s2SqDyteCnz+bbsjXK/U+d+rUSRqLEKLlosAihPCOAosQwjsnRc1bX+zYsSP5f/Z6sGcFcNckcc33o/gweM6fiabC+gZrFdy21TlhPYPHwmNlDcbWb/bPsHeDNZhPP/000L7wwgtDx3RpAJxMyr4WW7IpayouLxFrKpmU+mSfkK2MqUvT4/N27do10LZpXHyeTHw+UdAbixDCOwosQgjvKLAIIbzTan0sqXoLEK6lCrjzY3iezFqHzTPRuXPnRo+ZSRGhdLHVfWWNiYsKuXwttvqqDD9qfAxeIsOmO7Duxf1mnYG3264/51/xfeN+sv5k+xVinSbdZ8n2M34WfHuelCskhGjRKLAIIbyjwCKE8I4CixDCO63KIJcqdrFBzpaw5SITc1u6yX3pLiRm+wyboGyFi2zV61NhoZAXb7OJkzxWNppt2rQp0GZTWZTkPpe47RLLgfA13bZtW6DNgjCLzDZ4rHyfebtNNHWNjUX4TMRbXpTPF3pjEUJ4R4FFCOEdBRYhhHdarUGOh20zs7E2weY1NjBlorHwMVyJZ5nASYe2eTVrJtwvvj5cHIkNdUBYt+Fjus5h04J4H76PnGToKoYEnLgJ0ZbA6lqwndu2olasy/DYXStg2pJNG3u+ZJATQrRoFFiEEN5RYBFCeKdVaSypc3qef9r0EdYiWIdg0vWoAGFPBPtB2D9i0zL4vHwMW1FvFy49xFVMyoarODlrFTbtwlb8qbF+8jldfh0gXECJ/TWZJIryZ1gfsWl8ruOm+3y6kMYihGjRKLAIIbyjwCKE8E6ryhXau3dv8v+cQ2JbcMs1Z+U5bpQ8HtZMeB7NukyUOa9L20nX/wC4NZQoha9ZP3JpPVH6tWXLlkD7m9/8ZqDNi69HyQljTwlrKpx7xQuW2XQv9uA0RcGuTI6ZSe5ZJuiNRQjhHQUWIYR3FFiEEN5RYBFCeKdVibeNFf2xCWFcaZ2TEln4siXNMSxQukx0UcQ1m7mqsXOygGfrBwuUbGbj4kc2OAGQV0bo27dvoM1ir00Q5uRH1z1ibCshMnxM1zGi3PcoYreL7du3B9o20TgVm/DP4nVTJL0CLeCNpa6uDiNGjEBJSQlGjhyJjRs3hvaZMWMGiouLEY/HEY/H8fLLLye3TZw4Ebm5uSgtLUVpaSlmz57dnN0XQljI+htLVVUVpk6dinHjxmHBggWoqqrCsmXLAvv83//9H+655x6cccYZeP/993HJJZdg8+bN6NixI2KxGO655x5Mnjw5SyMQQjBZfWPZvHkzNmzYgHHjxgEAxo8fj9raWnz++eeB/UaNGpV83YzH42jXrl3gtbqVpDsJcdKQ1TeWRCKBvLy8ZDsWiyE3NxeJRAIXXHCB9TNPP/00CgoKUFBQkPzZww8/jN/97nfo2bMnfvnLX6J///7Wz6YmqLHRyjbXZHMV4wpoW7duDf0sJycn0Ga9I9XEB4QLSrs0BCCsVbBOY9NtWA/hfvJ2Tvaz6TarV68OtF3XizUXl3YEhK8HmxqjJAzy2Pi8Ua4fwwmUfD1dBbttsJbD15x1MptWxM95JgmqUcj6VCgdlixZgvvuuw+vv/568mezZ89OBqHnnnsOY8aMQUNDQ6RfQCFE05DVqVBeXh4aGhqSbWMMNm3ahPz8/NC+y5cvx0033YSXXnoJvXr1Sv489c1mwoQJMMagvr6+SfsthGicrAaW7t27o7CwENXV1QCA6upq9O7dOzQNeuedd3DDDTeguroaJSUlgW2peswbb7yBQ4cOZfRVnhDCH1kv9FRbW4tJkyZh79696NixI+bOnYtevXqhoqICs2bNQllZGYYMGYJEIoFu3bolP/fss8+iuLgYl112GXbs2IFDhw6hc+fO+PWvf41LLrkkdB5XERv2CABhnwDPaV0LltnenFK1ISCsO3BhIp7Pc5IdENYZohQzcsFjc2kVixcvDh3j448/DrR5rN27dw+0x44dm3Y/XWSiZbhgL4jNG+PjvOkWDuNngz8PhBMsU7WyDh06ePsiJOsaS58+fUJfLwPAK6+8kvz/qlWrjvv5N954o0n6JYTInKwb5IQQpx4KLEII72RdY2kuYrFYQL/IpEiOa7Es1jq4qJPtM6yh8Lw4Sj/Zt8IekyhFll3FsnkBdzYxci4MEO4795N9QmVlZYG2LQeHfRjsFWK/SCa48o+4wFeXLl1Cx3AVSefrbctjSzcPylUE3IWKaQshWjQKLEII7yiwCCG806o0llQvBntSbMW0zz333EA7Si0PF6y7sPeF58nsmXDV4ADceglvt+3D5+XPsEWgR48eoWOyn6auri7Q5uvJWoXNt8HncY01XZ0CADZs2BBoFxYWNrq/Ld+G7zOfl8dmW/CNn0n+jCtfy6atNVZMWxqLEKJFo8AihPCOAosQwjsKLEII72Q9V6g5SRW/WDSNYiJjYxQXqY5iSLKJdOkcw1a8hxMXeWws8qWWqjhGaoKnDRZeeewsdANhMyCvWsjH5HrHbJizHdNVDIrvmat4F4BAWQ4biUQi0LYJ6q4EVS4sbusXH4NNd2yqi/IMsyHTtjKkD/TGIoTwjgKLEMI7CixCCO+0Ko0lVRdgjcBWFIcNSa4FylwLXQHupMJ0i/tEOS/rOj179gztw0WC2KzGGgybt2zaEO/D+ggb6KIkNrL+wfeR9SS+3rZjcsVB7gdXNOTSqax9AGH9g68Faypc3B0IF4fi5481GDbl2Z4dLtbuoyiYDb2xCCG8o8AihPCOAosQwjutSmNJhRcXb2zB+GPwXJo1FvaTZFJMyqWpcJIiEF7UzKXT2I7BmorLH8Kaiy0RjzUVnt+zJsA6j013uPTSSxs9JusQHTp0CB2D4cQ81j9cBb5s+hzDzwKP1aZ18PPG+7j0En4egbDeZltozgd6YxFCeEeBRQjhHQUWIYR3Wq3GwkWZuVg0EJ5rs2eC4XyQTHAthsV6CuDWVDhfxlbkm68Hj5U1KO6H7Zh8PVgzWbJkSaD9z3/+M9AuLi4OHfOTTz4JtFlD4bGzDma7R67C16yxcNGmTO4Ja1q2QmN8Hr5+nHvF57QVI2dNRT4WIcRJgwKLEMI7CixCCO8osAghvNOqxNtUUxKLZ5xoBoTFrygV3lOxGbxYcGO4ABBjK8jEwiCLkVwAyJYw6BKmXVX8bYmQ9fX1gfZHH30UaLOZbdeuXYG2rSDVqlWrAu3vfOc7jfaL2bNnT+hnLnOk69rYVj2Ikjyais3MxgY4Tpbk8/J9txXfilLoygd6YxFCeEeBRQjhHQUWIYR3WpXGkqqrcCIZz/cB+9y5MdiIZtNTbHP8VFxFrW1aBms/bHpyme5suBLg+Bg2HWLp0qWBNmsmmzdvDrTZvGY7JheyfvPNNwPtyy+/PNDme2i7/jw2Tqh0XQtbgXR+FjgJkcdmK4R94MCB0M8aOy9rKtu2bQt9hs18NmOeD/TGIoTwjgKLEMI7CixCCO+0Ko0ldX4dpbATF0TiuTUndPE82VYAiM9rS95LhQtS2bwJ6eohtuLPvA/Pz126jW0+/5e//CXQXrNmTaDNOgTrR/F4PHRM1hVcxaRYp2AvCBBOMnQV5GZsWkiUxcNcsObECZg9evQItPl5s+lxrgXzfKE3FiGEdxRYhBDeUWARQninVWksqfoGaxc8VwfCeRU8h+V8IyZKvghrGzwvtmkqTLrFeqLsf9FFFwXargXNbEWF2DOydu3aQLtPnz6BNnt4bAWUGO4Xa1YuHQII3yfWTLgI1vr16wPtvn37ho7JC6Oxp8lVPAoIPws8Fn6GuehVFJ3H5ZXJlKy/sdTV1WHEiBEoKSnByJEjsXHjxtA+hw8fxpQpU1BUVISioiI89dRTkbYJIbJD1t9YqqqqMHXqVIwbNw4LFixAVVUVli1bFthnzpw5+Oyzz7Bu3Trs3r0bJSUlGDFiBPr169foNiFEdnC+sTSV5Rc4aunesGEDxo0bBwAYP348amtrQ2vn1tTU4NZbbwVw9BW8srISCxcuBAC8+OKLx90mhMgOzsBSUFCAH//4x/j444+9nzyRSCAvLy/ZjsViyM3NDeWDJBKJwELc+fn5yX0aGhqOu00IkR2cU6E1a9bgySefRHl5OYqKijBlypRQcZ3mxhhjXXkvHaKIoiwMssDL4hiLlTYTnqs4TxTBkmGRjwVKNkXZ3kLZjMX72MTZVGxCNQu8bDR77733Au2ePXsG2mx2A4Du3bsH2ixEn3/++YG2q1q+DRZr+b7axFrGZsRLZevWrYG2LfmUC3KxKdFlhLSZL/mZjvJ7kAnON5acnBxMmzYNH3/8MW677TZMnjwZPXr0wEMPPWStepUOeXl5gYxXYww2bdoUeAM5tl9qNbLUNxjeVl9fj4KCghPqlxDixIj0rdC+ffvw+9//HjNnzkRhYSEeeOABbNiwIZSini7du3dHYWEhqqurAQDV1dXo3bt3qExkZWUlnnrqKRhjsHv3bixcuBBXX321c5sQIjs4p0J33nknqqurcdVVV+FPf/oT+vfvDwD47ne/iwEDBpxwB5555hlMmjQJM2fORMeOHfHMM88AACoqKjBr1iyUlZXhjjvuwAcffJBcwOree+9NfuvT2DYhRHaIGZszLIWHHnoIt912m9Vss3nzZmdhopZCLBbD9u3bk20fRYV5KshJdbZrw4Yk1i6i6DQMJ0vy3Jzn2ja9xKU9uJIhbYXD77nnnkB73rx5gTYXOxo5cmSgPWrUqNAxj/1hOwZfr6Kiokb3txW54gTKrl27BtpsZuN+2zQrV+KiD1zamq0PPJZU3eass86yGkUzwfnGcvfddx9328kSVIQQzUvWnbdCiFMPBRYhhHeybulvThr7zp7nnkDYc8LeGZ7j2hY9Y1jfYP3DpamwjgO4k82iFM92Jc3xtWN9iTUYIKz9sD+EPRVcOMvmw2A9g/UkPgffV5uGwFoEn4O38zFtWgY/O64CS7bC7a7PcOIiaz+2BEN+/lz+pEzRG4sQwjsKLEII7yiwCCG806o0ltT5NesltsWxWEdg/cPl/Yjib+AcHYZ1ikyKNPNYbf3m3BbWO3hBN75e7BcBwpoT6zS8vXfv3oG2TQ/h68X9TLcQtu2YPDbWenh/Wz/ZX5NJDpgL1tv42bDpJ/xM+vKtMHpjEUJ4R4FFCOEdBRYhhHdalcaS6j9g30Zqwalj8ByVtQqe4/Lc3LZglMsTwZoB+zRsi5qz/sGeEvax2HQaVz4RL+AeZSE1XnCMi4WtW7cu0I6y4NZnn30WaHMNF74WUeB7wPfZ5QOy1QZiTYU9JVxbxVZM21W90VXMfdeuXc5+NRV6YxFCeEeBRQjhHQUWIYR3FFiEEN5pVeJtalIXi7WZJPe5imlHEcpYjGQRlavh2ZIU2eSUk5PjPC/Dq+hxv7jwdZTVALnvPLbCwsJAm8VKW2IeJy6y4MuiMxcrt60C6Ur2c223wcZGNiXy9bbBXwa4RGbG9qyw6O4yaGaK3liEEN5RYBFCeEeBRQjhnValsaTOxznBMEpyHy/9ykl0URbDYj2EdQc2ha1evTrQthnReB0mhs1YNu2C+87zedY2eK6euj7UMa666qpAm8fKpjE+Jxe1BsKaCRek4kJPvD9vB8LmNFdBL9Y+bIl8vA8b9/geRFnK2KWHuBJHgfDz01RLKOuNRQjhHQUWIYR3FFiEEN5pVRpLqi4QpfA1exH4M6w7sEfCVgya596clMjn5EQyLoYUBT4mL5wOhHUELvzE/XQt6gWEvUGsEfBKmjxW9tIAwLe+9a1A+5NPPgm0e/ToEWizpmBL4mS/B4/FpZ3ZilbzWF2LykXxk7Bnh7Uh1lT4+bSdp6kWVtMbixDCOwosQgjvKLAIIbzTqjSWxuaxPAcG7HklqbgK7djOx/NezifieTIvXr9s2bLQMS+99NJAm+feNk2F4c9wPzn/iIs22bwxrJlcdNFFjZ6DdRub54Q1lZKSkkA7k/wZ7jt7dFy5V+yJAsLaRSYFqKLkOTWG7flkLU3FtIUQJw0KLEII7yiwCCG8o8AihPBOzDSVetPCiMViAaGKEwptCW+uQju8nUXAKAWCWPjjpDAuCGQza/GKA7m5uc7zuo5hM/elwsmR/HkgnCB4/fXXB9ostNbX1wfaLBADYeMei9t8Th6HrcASi6QuwxyLuzaRme89/5rxZ2y/hnxeWyX/VDjZ1La6AAvqqV8e8O/IiaA3FiGEdxRYhBDeUWARQninVWksqUlxbB6yXQbWAHjOy3pIFBPU9u3bA23WTFymuyhs2rQp0Gajnk0/4SLU//73vwNt7jeb7ubNmxc65mWXXRZo81iHDRsWaLNGYLsnfM3ZYMgmMtZtCgoKQsfk+8pJhdxm/SSTgtR8D2zH2Lp1a6DtMurxtYmSYJhqDO3SpYs0FiFEy0WBRQjhHQUWIYR3sqqx7Nu3D5MmTcLatWsRi8Xw4IMPoqKiIrTfwoULMXPmTHz99dc4cOAAqqqq8POf/xwAMHfuXPzoRz9KFvjp2bMnqqurQ8dwfUe/ZcuW0M9cc2eez7uKQwPh+TkXQ+ICQKx9RMGVvGbTWNjXs2HDhkCb/TasJy1ZsiR0TPZd8Ni4aFWfPn0CbZs/hBeaawnYClK79A1+Vmz3mZ/XHTt2BNr8fNquF9OY18WnjyWr2c0zZ85ETk4O5s+fj0QigaFDh2LdunUhQe7CCy/Ea6+9hvPOOw979uzBoEGDMHTo0GQ1sdGjR+P555/PxhCEEBayOhWqqanB7bffDuDoEhbDhw/HokWLQvsNHjw46bDs3Lkz4vF4wOnZSr7YEuKkIauBJZFIBNbEyc/PRyKRaPQz69evx9KlS3H55ZcDOPr69vbbbyMej2PYsGGoqalp0j4LIdw06VSorKws5KkAjgYDntNHYcuWLbjmmmvw6KOPJgtbjx07FhMmTEDbtm2xZs0ajBkzBoWFhaFCzUCwyM22bdsC22wLlnGuBS8Ixd4OPoYtV4O9MbYcpXRx5Rcxtn6xL4X1EL6P3B40aFDomFyUafPmzYE251axFmTTuLifLq8H6w5c6AgIa0GuReT42tj0FFdeGWsqNt2Lz+sq2BUlV8j2s6agSQMLJ6oxeXl5qK+vRzweB3DUzMSmqWNs27YNo0ePxtSpU3Httdcmf56qxwwcOBDl5eVYuXKlNbAIIZqHrE6FKisrMWfOHABHp0UrVqzA6NGjQ/vt3LkT3/72tzFlyhR873vfC2xL/YvV0NCApUuXJgOVECI7ZDWwTJ8+HVu3bkX//v1RUVGBOXPmJN9Apk+fjieeeAIA8OCDD2Ljxo144oknUFpaitLSUjz99NMAgN/85jcYMGAA4vE4rrjiCkybNg1DhgzJ2piEEK0sVyjVO+BjrunKn8kEVw6Jq04KEPbKsJZh89ewR4J9Kh999FGgzdoF5xYBwAcffNDoObiAORcFLy8vDx2TvS9Rat6kwpoM4M7B4V8RV8HuKPAxbdeP++XyVTVWa+V4pOpzZ511lnKFhBAtFwUWIYR3FFiEEN5RYBFCeKdVrYTYmGBrEzT5ZywUsljLwpdthTw2SnGbBToWOHl/wL1CnqtgNxAW+tavXx9oc5EmLjhtE0BZKGXxlk1ihw4dCrRtY3UVlGZTGd9DWyEt3ofvo+uctkLiXPSbYUGdV4m0wcI9C+h8D6MI1VGKQWWC3liEEN5RYBFCeEeBRQjhnValsaTOUVnL4ARDIFpx7FRcxbeB8Nyaz8Hze054ywSeR9sWPWPdxVU0iM1YDQ0NoX1WrFgRaLOmwufgAlVcbAo4WsgrFb7mrLGwPmIbO2s5rPW4NBaXnmKDCz3Z+sXws8JJh6yl2RJrGVtSpg/0xiKE8I4CixDCOwosQgjvtCqNJd2FpVgPYR8M+wpYy7DNzXmezNqOq4+2JDHWBHi+zjqELXGP5+e8sBcvhM6aik2P4mO4ii5xv2zlL1zJo1G0CiaT5L0TJZNFztjT5PLo2HxUfP34GfeF3liEEN5RYBFCeEeBRQjhnValsTSGzXPims/zPJnnq1EWkHLNcaMsHs59Z02Fz8F6CRDOIamrqwu0Oc+HawrbChVxLhX3k7WNwsLCQDt1BYfjwf4b9spEKcpkyx/yTSbFoviaH1sC53jwfY5SBCuTBfGioDcWIYR3FFiEEN5RYBFCeEeBRQjhnVZbpZ/Na65EMyCakJqKzaDE53EJxJyYZzunj6rxbNRjoXX37t2BNguD8+bNCx2Ti0HxCo2cUNi9e/dAu1u3bqFj7tmzJ9Bmkx0n3vHqi7Zj8n1yrVqYCZwwyOewCa38vPHqoSx2Z9KP1OcvFoupSr8QouWiwCKE8I4CixDCO63WIBdFU2HzVbqJYzyftZ2XTU2cROcqlB0F1ktsRa14bNu2bQu0OdGR6du3b+hn/Jlzzz030OZiRy4DGBDWJljHYb3EpqkwrCuwbsOGwiiai6uQGCesRtFYXCs2MrZ75mMF0CjojUUI4R0FFiGEdxRYhBDeaVUaiy3R8Bi2+eiJLuZkK4TN82b2ZbiKDLH2AYS1CfZu8LhtRZZZZ+B+sF7E7SgFlvr06RNos+YSBdYuXEWuGNZ1gLDuwDoN95O9RezPAcJFmfgce/fuDbRtz9oFF1wQaKdblMm24BuP33Y9fKA3FiGEdxRYhBDeUWARQninVeUKNTZUm+eE58XsReBCPHl5eWn3i/vkmvPaxsDeGJ7fc8ElG3xe1mXWrl0baLO2YfP48DE5F4j7zf1kHcJ2nnQLYbM3CXBraXwteFw2Dwp/hveJkt9l00hScT07Nt2Qi56nfqZDhw7KFRJCtFwUWIQQ3lFgEUJ4R4FFCOGdViveuhLPAHeVcz4Gi6a26u8sHvI5XIKczQDGx3AlWNpEPTZfcWGn7du3B9oskrJpDAB69erVaD/5mrNZ0Gbkc8ECO4uVtrHzNeWxu6r4RxH+mShFw/jes+DL5+Drxwmatr6q0JMQ4qRBgUUI4R0FFiGEd7Kmsezbtw+TJk3C2rVrEYvF8OCDD6KioiK031tvvYUrr7wymcB25plnYvny5cnts2bNwnPPPYdYLIYJEybg3nvvtZ4vk/ljusWzMyHdJDob3E/WGTgZkufiQNicxloQJ+a9++67gXY8Hg8ds2vXro0eM11jGhC+Xi5jH18LW+GndFcp5HO4jGw20r0WUWDNyqa18X1MXa3Tp8aStezmmTNnIicnB/Pnz0eVY5juAAAIMklEQVQikcDQoUOxbt06q3OyuLgY77zzTujnr776Kl566SW8//77MMZgxIgRGDJkCEaPHt0cQxBCHIesTYVqampw++23Azi6Ru/w4cOxaNGitI7x4osv4pZbbkHbtm3Rrl073Hzzzaiurm6K7goh0iBrgSWRSAQW/c7Pz0cikbDuW1dXh9LSUpSVleHJJ59M/ryhoSFwjLy8POsxmqrmRHNz4MABjaWFcSqNwydNNhUqKyvDpk2bQj+PxWKhhZcaY9CgQdiyZQvat2+P+vp6jBkzBt27d7fqMcfjWPFjHwt7CSHcNFlgWb16daPb8/LyUF9fnxT96uvrMWzYsNB+qVXqCwoKMH78eCxfvhwVFRXJYxwjkUigoKDAer5W4gMUokWQtalQZWUl5syZA+BoQFixYoVVdN22bVsyKOzatQuvvvpqMhhVVlbij3/8Iw4ePIgDBw7g2WefRWVlZfMNQghhJWvfCk2fPh0TJ05E//79AQBz5sxJfiM0ffp0dOvWDXfccQeef/55PP744zjttNOwf/9+3Hzzzbj++usBAFdccQVWrVqFgQMHAgBuvPFGjBkzJjsDEkIkaTW5QkKI5uOUcd7u27cPN9xwA/r3748BAwbglVdese731ltvoX379igtLUVpaSmGDx8e2D5r1iz069cPRUVFeOCBB5qj6yGijmXhwoUoKytDPB5Hnz598Itf/CK5be7cuejSpUtynOPHj2+WvtfV1WHEiBEoKSnByJEjsXHjxtA+hw8fxpQpU1BUVISioiI89dRTkbY1N1HGMmPGDBQXFyMejyMej+Pll19Obps4cSJyc3OT92D27NnN2f0kUceRk5OT7Otdd92V3Bb1eQxgThF++tOfmrvuussYY0x9fb3JyckxO3fuDO335ptvmsGDB1uP8be//c0MGjTIHDx40Bw4cMAMGjTILFq0qEn7bSPqWN555x2zfft2Y4wxX375pSksLDR///vfjTHG/OEPfzDXXXdd83X6fwwdOtRUV1cbY4x54YUXzPDhw0P7PPbYY+bqq682xhjzxRdfmPz8fLNu3TrntuYmylgWL15s9u/fb4wxZs2aNaZTp07mq6++MsYYM3HiRPPII480X4ePQ5RxzJgxw9x9993Wz0d9HlM5Zd5YTiXDXdSxDB48OLmmUOfOnRGPx/Hpp58mt5tmnuVu3rwZGzZswLhx4wAA48ePR21tbcheUFNTg1tvvRXA0ZIElZWVWLhwIYCj9+B425qTqGMZNWpU0s4Qj8fRrl27QC3k5r4HTNRxAMfvaya/W6dMYGlOw11Tk85YjrF+/XosXboUl19+OYCjnp23334b8Xgcw4YNQ01NTZP2GTja79SC4rFYDLm5uaG+NzY+vgdRxt4URB1LKk8//TQKCgoCloeHH34Y/fr1Q0VFBT788MOm7LKVdMYxb948FBcXY9SoUViyZEngGOnek5NmJcSWZLg7UXyN5RhbtmzBNddcg0cffTS5et7YsWMxYcIEtG3bFmvWrMGYMWNQWFiIAQMGnHD/fWOMOenNi0uWLMF9992H119/Pfmz2bNnJ+/Hc889hzFjxqChocFZiCsbTJ48GdOmTUObNm2wePFiVFZWora2NrTKZlROmjeW1atXY/v27aF/27ZtQ5s2bUJmufr6eqtZrlOnTsmqYqmGOwBpGe5awliAoz6f0aNHY+rUqbj22muTPz/nnHOSmdIDBw5EeXk5Vq5c6X0sqeTl5aGhoSHZNsZg06ZNgb92x/bj63xsn3TG3pREHQsALF++HDfddBNeeumlQNW81CVSJ0yYAGNMYGzNQdRxnH/++cks7fLycvTp0wdr1qxJHiPte5KhHtTimDp1qrnzzjuNMY0LTFu3bjVHjhwxxhizc+dOU1paaubPn2+MMeavf/2rGTx4sDlw4IDZv3+/GTRokHn11VebbxD/I+pYduzYYeLxuHnsscdC2z7//PPk/xOJhLnwwgvNypUrm67T/2PIkCFmwYIFxpijQuGwYcNC+zz66KPmqquuMkeOHAkJtI1ta26ijGXVqlUmNzfXrFq1KrRty5Ytyf+//vrr5rzzzksKvc1JlHGk9vX99983Z599tvn000+NMdGfx1ROmcCyd+9ec91115ni4mJTXFxs/vznPye33Xfffebxxx83xhjz29/+1hQXF5t4PG569+5tZs2aFTjOjBkzTN++fU3fvn3N/fff36xjOEbUsfzkJz8x7du3NyUlJcl/c+fONcYY87Of/cz079/fDBgwwBQVFZknnniiWfq+fv16M3z4cBOPx82IESNMXV2dMcaYK6+80rz77rvGGGMOHz5sfvCDH5h+/fqZfv36mTlz5iQ/39i25ibKWC6++GLTtWvXwD348MMPjTHGlJeXm3g8bvr162eGDh1qli5d2mLHcfPNN5sBAwaY4uJiM3DgQFNTU5P8fGPP4/GQQU4I4Z2TRmMRQpw8KLAIIbyjwCKE8I4CixDCOwosQgjvKLAIIbyjwCKE8I4CixDCOwosollZv359IH/l/vvvx4033pjlXgnfyHkrmp1nn30WjzzyCO6//3788Ic/xL/+9a8mWb5WZA8FFpEVJk6ciBdeeAH/+Mc/UFpamu3uCM9oKiSanYMHD2Lt2rU4++yzM6o/I1o+Ciyi2bn77rtx8cUX47XXXsP3v/99fPbZZ9nukvDMSVNBTpwaLFy4EEuWLMHKlSvRrl07TJ8+HTfeeCPeeuutZKEhcfIjjUUI4R39iRBCeEeBRQjhHQUWIYR3FFiEEN5RYBFCeEeBRQjhHQUWIYR3/h9j2rP1XhJMCAAAAABJRU5ErkJggg==' style='max-width:100%'/><center/>"
      ],
      "text/plain": [
       "Image.Image   (z)"
      ]
     },
     "execution_count": 52,
     "metadata": {},
     "output_type": "execute_result"
    }
   ],
   "source": [
    "hl.Image(t[1,:].squeeze())"
   ]
  },
  {
   "cell_type": "markdown",
   "metadata": {},
   "source": [
    "OK, so we've written a dataset that has an iterator that follows the standard Python conventions. Now, all we need to do is get Pylearn2 to accept this dataset. Easiest way to do this is to write it into a YAML file and run a training script. Writing the above into modules in our codebase and using the following YAML file:"
   ]
  },
  {
   "cell_type": "code",
   "execution_count": 53,
   "metadata": {
    "collapsed": false
   },
   "outputs": [
    {
     "name": "stdout",
     "output_type": "stream",
     "text": [
      "!obj:pylearn2.train.Train {\r\n",
      "    dataset: &train !obj:neukrill_net.image_directory_dataset.ListDataset {\r\n",
      "        transformer: !obj:neukrill_net.augment.RandomAugment {\r\n",
      "                units: 'float',\r\n",
      "                rotate: -1,\r\n",
      "                rotate_is_resizable: 0,\r\n",
      "                flip: 1,\r\n",
      "                resize: %(final_shape)s,\r\n",
      "                shunt: 0.075,\r\n",
      "                shear: 5\r\n",
      "            },\r\n",
      "        settings_path: %(settings_path)s,\r\n",
      "        run_settings_path: %(run_settings_path)s\r\n",
      "    },\r\n",
      "    model: !obj:pylearn2.models.mlp.MLP {\r\n",
      "        batch_size: &batch_size 128,\r\n",
      "        input_space: !obj:pylearn2.space.Conv2DSpace {\r\n",
      "            shape: %(final_shape)s,\r\n",
      "            num_channels: 1,\r\n",
      "            axes: ['b', 0, 1, 'c'],\r\n",
      "        },\r\n",
      "        layers: [ !obj:pylearn2.models.mlp.ConvRectifiedLinear {\r\n",
      "                     layer_name: h1,\r\n",
      "                     output_channels: 48,\r\n",
      "                     irange: .025,\r\n",
      "                     init_bias: 0,\r\n",
      "                     kernel_shape: [8, 8],\r\n",
      "                     pool_shape: [2, 2],\r\n",
      "                     pool_stride: [2, 2],\r\n",
      "                     max_kernel_norm: 1.9365\r\n",
      "                 },!obj:pylearn2.models.mlp.ConvRectifiedLinear {\r\n",
      "                     layer_name: h2,\r\n",
      "                     output_channels: 96,\r\n",
      "                     irange: .025,\r\n",
      "                     init_bias: 1,\r\n",
      "                     kernel_shape: [5, 5],\r\n",
      "                     pool_shape: [2, 2],\r\n",
      "                     pool_stride: [2, 2],\r\n",
      "                     max_kernel_norm: 1.9365\r\n",
      "                 }, !obj:pylearn2.models.mlp.ConvRectifiedLinear {\r\n",
      "                     layer_name: h3,\r\n",
      "                     output_channels: 128,\r\n",
      "                     irange: .025,\r\n",
      "                     init_bias: 0,\r\n",
      "                     kernel_shape: [3, 3],\r\n",
      "                     border_mode: full,\r\n",
      "                     pool_shape: [1, 1],\r\n",
      "                     pool_stride: [1, 1],\r\n",
      "                     max_kernel_norm: 1.9365\r\n",
      "                 }, !obj:pylearn2.models.mlp.ConvRectifiedLinear {\r\n",
      "                     layer_name: 'h4',\r\n",
      "                     output_channels: 128,\r\n",
      "                     irange: .025,\r\n",
      "                     init_bias: 1,\r\n",
      "                     kernel_shape: [3, 3],\r\n",
      "                     border_mode: full,\r\n",
      "                     pool_shape: [2, 2],\r\n",
      "                     pool_stride: [2, 2],\r\n",
      "                     max_kernel_norm: 1.9365\r\n",
      "                 }, !obj:pylearn2.models.mlp.RectifiedLinear {\r\n",
      "                     dim: 1024,\r\n",
      "                     max_col_norm: 1.9,\r\n",
      "                     layer_name: h5,\r\n",
      "                     istdev: .05,\r\n",
      "                     W_lr_scale: .25,\r\n",
      "                     b_lr_scale: .25\r\n",
      "                 }, !obj:pylearn2.models.mlp.Softmax {\r\n",
      "                     n_classes: %(n_classes)i,\r\n",
      "                     max_col_norm: 1.9365,\r\n",
      "                     layer_name: y,\r\n",
      "                     istdev: .05,\r\n",
      "                     W_lr_scale: .25,\r\n",
      "                     b_lr_scale: .25\r\n",
      "                 }\r\n",
      "                ],\r\n",
      "    },\r\n",
      "    algorithm: !obj:pylearn2.training_algorithms.sgd.SGD {\r\n",
      "        train_iteration_mode: even_shuffled_sequential,\r\n",
      "        monitor_iteration_mode: even_sequential,\r\n",
      "        batch_size: *batch_size,\r\n",
      "        learning_rate: .1,\r\n",
      "        learning_rule: !obj:pylearn2.training_algorithms.learning_rule.Momentum {\r\n",
      "            init_momentum: 0.5\r\n",
      "        },\r\n",
      "        monitoring_dataset: {\r\n",
      "                'train': *train,\r\n",
      "                'valid' : !obj:neukrill_net.dense_dataset.DensePNGDataset  {\r\n",
      "                                settings_path: %(settings_path)s,\r\n",
      "                                run_settings: %(run_settings_path)s,\r\n",
      "                                training_set_mode: \"validation\"\r\n",
      "            },\r\n",
      "        },\r\n",
      "        cost: !obj:pylearn2.costs.cost.SumOfCosts { costs: [ \r\n",
      "            !obj:pylearn2.costs.mlp.dropout.Dropout {\r\n",
      "                input_include_probs: {\r\n",
      "                    h1 : 1.,\r\n",
      "                    h2 : 1.,\r\n",
      "                    h3 : 1.,\r\n",
      "                    h4 : 1.,\r\n",
      "                    h5 : 0.5\r\n",
      "                },\r\n",
      "                input_scales: {\r\n",
      "                    h1 : 1.,\r\n",
      "                    h2 : 1.,\r\n",
      "                    h3 : 1.,\r\n",
      "                    h4 : 1.,\r\n",
      "                    h5 : 2.\r\n",
      "                }\r\n",
      "             },\r\n",
      "             !obj:pylearn2.costs.mlp.WeightDecay {\r\n",
      "                 coeffs : {\r\n",
      "                     h1 : .00005,\r\n",
      "                     h2 : .00005,\r\n",
      "                     h3 : .00005,\r\n",
      "                     h4 : .00005,\r\n",
      "                     h5 : .00005\r\n",
      "                 }\r\n",
      "             }\r\n",
      "             ]\r\n",
      "        },\r\n",
      "        termination_criterion: !obj:pylearn2.termination_criteria.And {\r\n",
      "            criteria: [\r\n",
      "                !obj:pylearn2.termination_criteria.EpochCounter {\r\n",
      "                    max_epochs: 500\r\n",
      "                },\r\n",
      "            ]\r\n",
      "        }\r\n",
      "    },\r\n",
      "    extensions: [\r\n",
      "        !obj:pylearn2.training_algorithms.learning_rule.MomentumAdjustor {\r\n",
      "            start: 1,\r\n",
      "            saturate: 250,\r\n",
      "            final_momentum: 0.95\r\n",
      "        },\r\n",
      "        !obj:pylearn2.training_algorithms.sgd.LinearDecayOverEpoch {\r\n",
      "            start: 1,\r\n",
      "            saturate: 250,\r\n",
      "            decay_factor: 0.025\r\n",
      "        },\r\n",
      "        !obj:pylearn2.train_extensions.best_params.MonitorBasedSaveBest {\r\n",
      "             channel_name: valid_y_misclass,\r\n",
      "             save_path: '%(save_path)s'\r\n",
      "        },\r\n",
      "        !obj:pylearn2.training_algorithms.sgd.MonitorBasedLRAdjuster {\r\n",
      "            high_trigger: 1.,\r\n",
      "            low_trigger: 0.999,\r\n",
      "            grow_amt: 1.02,\r\n",
      "            shrink_amt: 0.98,\r\n",
      "            max_lr: 0.4,\r\n",
      "            min_lr: 1e-5,\r\n",
      "            channel_name: valid_y_misclass\r\n",
      "        }\r\n",
      "    ],\r\n",
      "}\r\n"
     ]
    }
   ],
   "source": [
    "!cat yaml_templates/alexnet_based_listdataset.yaml"
   ]
  },
  {
   "cell_type": "markdown",
   "metadata": {},
   "source": [
    "Ran the model (many times) updating the code until it would work. Now the above YAML will train."
   ]
  },
  {
   "cell_type": "markdown",
   "metadata": {},
   "source": [
    "Bugs?\n",
    "===\n",
    "\n",
    "We might have bugs in the ListDataset as when running it with _the same_ augmentations as used in the traditional methods we don't see anywhere near the same performance increases. In fact, it was barely able to learn at all, so it's probably broken somehow. As it can't learn at all, it might be garbling the Images, producing batches that don't correspond to the targets.\n",
    "\n",
    "The following code checks that we don't have problems with our random number generators:"
   ]
  },
  {
   "cell_type": "code",
   "execution_count": 54,
   "metadata": {
    "collapsed": true
   },
   "outputs": [],
   "source": [
    "import neukrill_net.image_directory_dataset"
   ]
  },
  {
   "cell_type": "code",
   "execution_count": 55,
   "metadata": {
    "collapsed": false
   },
   "outputs": [],
   "source": [
    "fn = neukrill_net.augment.RandomAugment(**{\"units\":\"float64\",\n",
    "                                           \"rotate\":[0,90,180,270],\n",
    "                                           \"flip\":1,\n",
    "                                           \"rotate_is_resizable\":0,\n",
    "                                           \"normalise\":{\"global_or_pixel\":\"global\",\n",
    "                                \"mu\":0.95727,\"sigma\":0.1423},\n",
    "                                           \"resize\":(48,48)\n",
    "                                           })\n",
    "fn2 = neukrill_net.augment.RandomAugment(**{\"units\":\"float64\",\n",
    "                                           \"rotate\":[0,90,180,270],\n",
    "                                           \"flip\":1,\n",
    "                                           \"rotate_is_resizable\":0,\n",
    "                                           \"normalise\":{\"global_or_pixel\":\"global\",\n",
    "                                \"mu\":0.95727,\"sigma\":0.1423},\n",
    "                                           \"resize\":(48,48)\n",
    "                                           })"
   ]
  },
  {
   "cell_type": "code",
   "execution_count": 56,
   "metadata": {
    "collapsed": false
   },
   "outputs": [],
   "source": [
    "dataset = neukrill_net.image_directory_dataset.ListDataset(fn, force=True)\n",
    "dataset2 = neukrill_net.image_directory_dataset.ListDataset(fn2, force=True)"
   ]
  },
  {
   "cell_type": "code",
   "execution_count": 57,
   "metadata": {
    "collapsed": false
   },
   "outputs": [
    {
     "ename": "AssertionError",
     "evalue": "",
     "output_type": "error",
     "traceback": [
      "\u001b[1;31m---------------------------------------------------------------------------\u001b[0m",
      "\u001b[1;31mAssertionError\u001b[0m                            Traceback (most recent call last)",
      "\u001b[1;32m<ipython-input-57-421f6c05f8eb>\u001b[0m in \u001b[0;36m<module>\u001b[1;34m()\u001b[0m\n\u001b[1;32m----> 1\u001b[1;33m \u001b[0miterator\u001b[0m \u001b[1;33m=\u001b[0m \u001b[0mdataset\u001b[0m\u001b[1;33m.\u001b[0m\u001b[0miterator\u001b[0m\u001b[1;33m(\u001b[0m\u001b[0mbatch_size\u001b[0m\u001b[1;33m=\u001b[0m\u001b[1;36m128\u001b[0m\u001b[1;33m)\u001b[0m\u001b[1;33m\u001b[0m\u001b[0m\n\u001b[0m\u001b[0;32m      2\u001b[0m \u001b[0miterator2\u001b[0m \u001b[1;33m=\u001b[0m \u001b[0mdataset2\u001b[0m\u001b[1;33m.\u001b[0m\u001b[0miterator\u001b[0m\u001b[1;33m(\u001b[0m\u001b[0mbatch_size\u001b[0m\u001b[1;33m=\u001b[0m\u001b[1;36m128\u001b[0m\u001b[1;33m)\u001b[0m\u001b[1;33m\u001b[0m\u001b[0m\n",
      "\u001b[1;32m/afs/inf.ed.ac.uk/user/s08/s0805516/repos/neukrill-net-tools/neukrill_net/image_directory_dataset.pyc\u001b[0m in \u001b[0;36miterator\u001b[1;34m(self, mode, batch_size, num_batches, rng, data_specs, return_tuple)\u001b[0m\n\u001b[0;32m    163\u001b[0m                                 \u001b[0mnum_batches\u001b[0m\u001b[1;33m=\u001b[0m\u001b[0mnum_batches\u001b[0m\u001b[1;33m,\u001b[0m\u001b[1;33m\u001b[0m\u001b[0m\n\u001b[0;32m    164\u001b[0m                                 \u001b[0mfinal_shape\u001b[0m\u001b[1;33m=\u001b[0m\u001b[0mself\u001b[0m\u001b[1;33m.\u001b[0m\u001b[0mrun_settings\u001b[0m\u001b[1;33m[\u001b[0m\u001b[1;34m\"final_shape\"\u001b[0m\u001b[1;33m]\u001b[0m\u001b[1;33m,\u001b[0m\u001b[1;33m\u001b[0m\u001b[0m\n\u001b[1;32m--> 165\u001b[1;33m                                 rng=self.rng, mode=mode)\n\u001b[0m\u001b[0;32m    166\u001b[0m         \u001b[1;32mreturn\u001b[0m \u001b[0miterator\u001b[0m\u001b[1;33m\u001b[0m\u001b[0m\n\u001b[0;32m    167\u001b[0m \u001b[1;33m\u001b[0m\u001b[0m\n",
      "\u001b[1;32m/afs/inf.ed.ac.uk/user/s08/s0805516/repos/neukrill-net-tools/neukrill_net/image_directory_dataset.pyc\u001b[0m in \u001b[0;36m__init__\u001b[1;34m(self, dataset, batch_size, num_batches, final_shape, rng, mode)\u001b[0m\n\u001b[0;32m     51\u001b[0m             \u001b[0mself\u001b[0m\u001b[1;33m.\u001b[0m\u001b[0mrng\u001b[0m\u001b[1;33m.\u001b[0m\u001b[0mshuffle\u001b[0m\u001b[1;33m(\u001b[0m\u001b[0mself\u001b[0m\u001b[1;33m.\u001b[0m\u001b[0mindices\u001b[0m\u001b[1;33m)\u001b[0m\u001b[1;33m\u001b[0m\u001b[0m\n\u001b[0;32m     52\u001b[0m         \u001b[1;32melse\u001b[0m\u001b[1;33m:\u001b[0m\u001b[1;33m\u001b[0m\u001b[0m\n\u001b[1;32m---> 53\u001b[1;33m             \u001b[1;32massert\u001b[0m \u001b[0mmode\u001b[0m \u001b[1;33m==\u001b[0m \u001b[1;34m'even_sequential'\u001b[0m\u001b[1;33m\u001b[0m\u001b[0m\n\u001b[0m\u001b[0;32m     54\u001b[0m         \u001b[1;31m# have to add this for checks during training\u001b[0m\u001b[1;33m\u001b[0m\u001b[1;33m\u001b[0m\u001b[0m\n\u001b[0;32m     55\u001b[0m         \u001b[1;31m# bit of a lie\u001b[0m\u001b[1;33m\u001b[0m\u001b[1;33m\u001b[0m\u001b[0m\n",
      "\u001b[1;31mAssertionError\u001b[0m: "
     ]
    },
    {
     "name": "stdout",
     "output_type": "stream",
     "text": [
      "> \u001b[1;32m/afs/inf.ed.ac.uk/user/s08/s0805516/repos/neukrill-net-tools/neukrill_net/image_directory_dataset.py\u001b[0m(53)\u001b[0;36m__init__\u001b[1;34m()\u001b[0m\n",
      "\u001b[1;32m     52 \u001b[1;33m        \u001b[1;32melse\u001b[0m\u001b[1;33m:\u001b[0m\u001b[1;33m\u001b[0m\u001b[0m\n",
      "\u001b[0m\u001b[1;32m---> 53 \u001b[1;33m            \u001b[1;32massert\u001b[0m \u001b[0mmode\u001b[0m \u001b[1;33m==\u001b[0m \u001b[1;34m'even_sequential'\u001b[0m\u001b[1;33m\u001b[0m\u001b[0m\n",
      "\u001b[0m\u001b[1;32m     54 \u001b[1;33m        \u001b[1;31m# have to add this for checks during training\u001b[0m\u001b[1;33m\u001b[0m\u001b[1;33m\u001b[0m\u001b[0m\n",
      "\u001b[0m\n",
      "ipdb> exit\n"
     ]
    }
   ],
   "source": [
    "iterator = dataset.iterator(batch_size=128)\n",
    "iterator2 = dataset2.iterator(batch_size=128)"
   ]
  },
  {
   "cell_type": "code",
   "execution_count": null,
   "metadata": {
    "collapsed": false
   },
   "outputs": [],
   "source": [
    "for a,b in zip(iterator,iterator2):\n",
    "    if (not np.allclose(a[0],b[0]) or not np.allclose(a[1],b[1])):\n",
    "        print(\"Shit.\")"
   ]
  },
  {
   "cell_type": "code",
   "execution_count": null,
   "metadata": {
    "collapsed": false
   },
   "outputs": [],
   "source": [
    "not np.allclose(a[0],b[0])"
   ]
  },
  {
   "cell_type": "code",
   "execution_count": null,
   "metadata": {
    "collapsed": false
   },
   "outputs": [],
   "source": [
    "not np.allclose(a[0],b[0]) or not np.allclose(a[1],b[1])"
   ]
  },
  {
   "cell_type": "markdown",
   "metadata": {},
   "source": [
    "Checking Against Dense\n",
    "-------------------\n",
    "\n",
    "The DensePNGDataset doesn't appear to have the problems we're seeing with the ListDataset. If we load the _exact same processing_ in both and iterate over the minibatches sequentially we should see _exactly the same_ minibatches being produced."
   ]
  },
  {
   "cell_type": "code",
   "execution_count": null,
   "metadata": {
    "collapsed": false
   },
   "outputs": [],
   "source": [
    "reload(neukrill_net.image_directory_dataset)"
   ]
  },
  {
   "cell_type": "code",
   "execution_count": null,
   "metadata": {
    "collapsed": false
   },
   "outputs": [],
   "source": [
    "dense = neukrill_net.dense_dataset.DensePNGDataset(\n",
    "                            run_settings=run_settings['run_settings_path'],\n",
    "                                        force=True, verbose=True)"
   ]
  },
  {
   "cell_type": "code",
   "execution_count": null,
   "metadata": {
    "collapsed": false
   },
   "outputs": [],
   "source": [
    "run_settings['run_settings_path']"
   ]
  },
  {
   "cell_type": "code",
   "execution_count": null,
   "metadata": {
    "collapsed": true
   },
   "outputs": [],
   "source": [
    "fn = neukrill_net.augment.RandomAugment(**{\"units\":\"float64\",\n",
    "                                           \"normalise\":{\"global_or_pixel\":\"global\",\n",
    "                                                \"mu\":0.95727,\"sigma\":0.1423},\n",
    "                                           \"resize\":(48,48)})"
   ]
  },
  {
   "cell_type": "code",
   "execution_count": null,
   "metadata": {
    "collapsed": false
   },
   "outputs": [],
   "source": [
    "lists = neukrill_net.image_directory_dataset.ListDataset(fn,\n",
    "                    run_settings_path=run_settings['run_settings_path'], force=True)"
   ]
  },
  {
   "cell_type": "code",
   "execution_count": null,
   "metadata": {
    "collapsed": false
   },
   "outputs": [],
   "source": [
    "run_settings = neukrill_net.utils.load_run_settings(\n",
    "            \"run_settings/alexnet_based_runtest.json\",settings,\n",
    "                                                   force=True)\n",
    "ystring = neukrill_net.utils.format_yaml(run_settings,settings)\n",
    "train = pylearn2.config.yaml_parse.load(ystring)"
   ]
  },
  {
   "cell_type": "code",
   "execution_count": null,
   "metadata": {
    "collapsed": false
   },
   "outputs": [],
   "source": [
    "data_specs = train.algorithm.cost.get_data_specs(train.model)"
   ]
  },
  {
   "cell_type": "code",
   "execution_count": null,
   "metadata": {
    "collapsed": true
   },
   "outputs": [],
   "source": [
    "mapping = DataSpecsMapping(data_specs)\n",
    "space_tuple = mapping.flatten(data_specs[0], return_tuple=True)\n",
    "source_tuple =  mapping.flatten(data_specs[1], return_tuple=True)\n",
    "flat_data_specs = (CompositeSpace(space_tuple), source_tuple)"
   ]
  },
  {
   "cell_type": "code",
   "execution_count": null,
   "metadata": {
    "collapsed": false
   },
   "outputs": [],
   "source": [
    "dense_iterator = dense.iterator(mode='even_sequential',batch_size=128,\n",
    "                                data_specs=flat_data_specs,return_tuple=True)"
   ]
  },
  {
   "cell_type": "code",
   "execution_count": null,
   "metadata": {
    "collapsed": true
   },
   "outputs": [],
   "source": [
    "list_iterator = lists.iterator(mode='sequential',batch_size=128)"
   ]
  },
  {
   "cell_type": "code",
   "execution_count": null,
   "metadata": {
    "collapsed": true
   },
   "outputs": [],
   "source": [
    "a = dense_iterator.next()\n",
    "b = list_iterator.next()"
   ]
  },
  {
   "cell_type": "code",
   "execution_count": null,
   "metadata": {
    "collapsed": false
   },
   "outputs": [],
   "source": [
    "print(a[0].shape,a[1].shape)"
   ]
  },
  {
   "cell_type": "code",
   "execution_count": null,
   "metadata": {
    "collapsed": false
   },
   "outputs": [],
   "source": [
    "print(b[0].shape,b[1].shape)"
   ]
  },
  {
   "cell_type": "markdown",
   "metadata": {},
   "source": [
    "Recent tests indicate __it is working after all__, so I'm neglecting these tests."
   ]
  },
  {
   "cell_type": "markdown",
   "metadata": {},
   "source": [
    "Hierarchical Models\n",
    "=======\n",
    "\n",
    "We want to be able to represent some of taxonomic tree information in the labels, in order to hopefully propagate some more useful information from these additional labels. This amounts to having multiple softmax layers in our output layer. These are wrapped in a FlattenerLayer so expect to see a big n-of-k encoded vector indicator the class and superclasses as targets for every data point.\n",
    "\n",
    "Unfortunately, we've got some bugs with how this is working, so going to look at how to debug these."
   ]
  },
  {
   "cell_type": "code",
   "execution_count": null,
   "metadata": {
    "collapsed": true
   },
   "outputs": [],
   "source": [
    "import neukrill_net.image_directory_dataset"
   ]
  },
  {
   "cell_type": "code",
   "execution_count": null,
   "metadata": {
    "collapsed": false
   },
   "outputs": [],
   "source": [
    "dataset = neukrill_net.image_directory_dataset.ListDataset(transformer=fn,\n",
    "    run_settings_path=\"run_settings/alexnet_based_extra_convlayer_with_superclasses.json\",\n",
    "                                                           force=True)"
   ]
  },
  {
   "cell_type": "code",
   "execution_count": 82,
   "metadata": {
    "collapsed": true
   },
   "outputs": [],
   "source": [
    "import neukrill_net.encoding"
   ]
  },
  {
   "cell_type": "code",
   "execution_count": 168,
   "metadata": {
    "collapsed": false
   },
   "outputs": [],
   "source": [
    "hier = neukrill_net.encoding.get_hierarchy()"
   ]
  },
  {
   "cell_type": "code",
   "execution_count": 169,
   "metadata": {
    "collapsed": false
   },
   "outputs": [
    {
     "data": {
      "text/plain": [
       "[['acantharia_protist',\n",
       "  'acantharia_protist_big_center',\n",
       "  'acantharia_protist_halo',\n",
       "  'amphipods',\n",
       "  'appendicularian_fritillaridae',\n",
       "  'appendicularian_s_shape',\n",
       "  'appendicularian_slight_curve',\n",
       "  'appendicularian_straight',\n",
       "  'artifacts',\n",
       "  'artifacts_edge',\n",
       "  'chaetognath_non_sagitta',\n",
       "  'chaetognath_other',\n",
       "  'chaetognath_sagitta',\n",
       "  'chordate_type1',\n",
       "  'copepod_calanoid',\n",
       "  'copepod_calanoid_eggs',\n",
       "  'copepod_calanoid_eucalanus',\n",
       "  'copepod_calanoid_flatheads',\n",
       "  'copepod_calanoid_frillyAntennae',\n",
       "  'copepod_calanoid_large',\n",
       "  'copepod_calanoid_large_side_antennatucked',\n",
       "  'copepod_calanoid_octomoms',\n",
       "  'copepod_calanoid_small_longantennae',\n",
       "  'copepod_cyclopoid_copilia',\n",
       "  'copepod_cyclopoid_oithona',\n",
       "  'copepod_cyclopoid_oithona_eggs',\n",
       "  'copepod_other',\n",
       "  'crustacean_other',\n",
       "  'ctenophore_cestid',\n",
       "  'ctenophore_cydippid_no_tentacles',\n",
       "  'ctenophore_cydippid_tentacles',\n",
       "  'ctenophore_lobate',\n",
       "  'decapods',\n",
       "  'detritus_blob',\n",
       "  'detritus_filamentous',\n",
       "  'detritus_other',\n",
       "  'diatom_chain_string',\n",
       "  'diatom_chain_tube',\n",
       "  'echinoderm_larva_pluteus_brittlestar',\n",
       "  'echinoderm_larva_pluteus_early',\n",
       "  'echinoderm_larva_pluteus_typeC',\n",
       "  'echinoderm_larva_pluteus_urchin',\n",
       "  'echinoderm_larva_seastar_bipinnaria',\n",
       "  'echinoderm_larva_seastar_brachiolaria',\n",
       "  'echinoderm_seacucumber_auricularia_larva',\n",
       "  'echinopluteus',\n",
       "  'ephyra',\n",
       "  'euphausiids',\n",
       "  'euphausiids_young',\n",
       "  'fecal_pellet',\n",
       "  'fish_larvae_deep_body',\n",
       "  'fish_larvae_leptocephali',\n",
       "  'fish_larvae_medium_body',\n",
       "  'fish_larvae_myctophids',\n",
       "  'fish_larvae_thin_body',\n",
       "  'fish_larvae_very_thin_body',\n",
       "  'heteropod',\n",
       "  'hydromedusae_aglaura',\n",
       "  'hydromedusae_bell_and_tentacles',\n",
       "  'hydromedusae_h15',\n",
       "  'hydromedusae_haliscera',\n",
       "  'hydromedusae_haliscera_small_sideview',\n",
       "  'hydromedusae_liriope',\n",
       "  'hydromedusae_narco_dark',\n",
       "  'hydromedusae_narco_young',\n",
       "  'hydromedusae_narcomedusae',\n",
       "  'hydromedusae_other',\n",
       "  'hydromedusae_partial_dark',\n",
       "  'hydromedusae_shapeA',\n",
       "  'hydromedusae_shapeA_sideview_small',\n",
       "  'hydromedusae_shapeB',\n",
       "  'hydromedusae_sideview_big',\n",
       "  'hydromedusae_solmaris',\n",
       "  'hydromedusae_solmundella',\n",
       "  'hydromedusae_typeD',\n",
       "  'hydromedusae_typeD_bell_and_tentacles',\n",
       "  'hydromedusae_typeE',\n",
       "  'hydromedusae_typeF',\n",
       "  'invertebrate_larvae_other_A',\n",
       "  'invertebrate_larvae_other_B',\n",
       "  'jellies_tentacles',\n",
       "  'polychaete',\n",
       "  'protist_dark_center',\n",
       "  'protist_fuzzy_olive',\n",
       "  'protist_noctiluca',\n",
       "  'protist_other',\n",
       "  'protist_star',\n",
       "  'pteropod_butterfly',\n",
       "  'pteropod_theco_dev_seq',\n",
       "  'pteropod_triangle',\n",
       "  'radiolarian_chain',\n",
       "  'radiolarian_colony',\n",
       "  'shrimp-like_other',\n",
       "  'shrimp_caridean',\n",
       "  'shrimp_sergestidae',\n",
       "  'shrimp_zoea',\n",
       "  'siphonophore_calycophoran_abylidae',\n",
       "  'siphonophore_calycophoran_rocketship_adult',\n",
       "  'siphonophore_calycophoran_rocketship_young',\n",
       "  'siphonophore_calycophoran_sphaeronectes',\n",
       "  'siphonophore_calycophoran_sphaeronectes_stem',\n",
       "  'siphonophore_calycophoran_sphaeronectes_young',\n",
       "  'siphonophore_other_parts',\n",
       "  'siphonophore_partial',\n",
       "  'siphonophore_physonect',\n",
       "  'siphonophore_physonect_young',\n",
       "  'stomatopod',\n",
       "  'tornaria_acorn_worm_larvae',\n",
       "  'trichodesmium_bowtie',\n",
       "  'trichodesmium_multiple',\n",
       "  'trichodesmium_puff',\n",
       "  'trichodesmium_tuft',\n",
       "  'trochophore_larvae',\n",
       "  'tunicate_doliolid',\n",
       "  'tunicate_doliolid_nurse',\n",
       "  'tunicate_partial',\n",
       "  'tunicate_salp',\n",
       "  'tunicate_salp_chains',\n",
       "  'unknown_blobs_and_smudges',\n",
       "  'unknown_sticks',\n",
       "  'unknown_unclassified'],\n",
       " ['acantharia',\n",
       "  'appendicularians',\n",
       "  'calanoid',\n",
       "  'calycophoran_siphonophores',\n",
       "  'chaetognaths',\n",
       "  'crustaceans',\n",
       "  'ctenophores',\n",
       "  'cyclopoid_copepods',\n",
       "  'cydippid',\n",
       "  'decapods_all',\n",
       "  'detritus',\n",
       "  'diatoms',\n",
       "  'echinoderm',\n",
       "  'euphausiids_all_ages',\n",
       "  'fish',\n",
       "  'gastropods',\n",
       "  'gelatinous zooplankton',\n",
       "  'no_class',\n",
       "  'oithona',\n",
       "  'other_hydromedusae',\n",
       "  'other_invert_larvae',\n",
       "  'physonect',\n",
       "  'plankton',\n",
       "  'pluteus',\n",
       "  'protists',\n",
       "  'pteropods',\n",
       "  'radiolarian',\n",
       "  'rocketship',\n",
       "  'seastar',\n",
       "  'shrimp_like',\n",
       "  'siphonophores',\n",
       "  'sphaeronectes',\n",
       "  'sub_hydromedusae1',\n",
       "  'sub_hydromedusae2',\n",
       "  'sub_protists',\n",
       "  'trichodesmium',\n",
       "  'tunicate',\n",
       "  'unknown'],\n",
       " ['calycophoran_siphonophores',\n",
       "  'copepods',\n",
       "  'crustaceans',\n",
       "  'ctenophores',\n",
       "  'cyclopoid_copepods',\n",
       "  'echinoderm',\n",
       "  'gastropods',\n",
       "  'gelatinous zooplankton',\n",
       "  'hydromedusae',\n",
       "  'no_class',\n",
       "  'other_invert_larvae',\n",
       "  'pelagic_tunicates',\n",
       "  'plankton',\n",
       "  'protists',\n",
       "  'shrimp_like',\n",
       "  'siphonophores'],\n",
       " ['copepods',\n",
       "  'crustaceans',\n",
       "  'gelatinous zooplankton',\n",
       "  'no_class',\n",
       "  'other_invert_larvae',\n",
       "  'plankton',\n",
       "  'siphonophores'],\n",
       " ['crustaceans', 'gelatinous zooplankton', 'no_class', 'plankton'],\n",
       " ['no_class', 'plankton']]"
      ]
     },
     "execution_count": 169,
     "metadata": {},
     "output_type": "execute_result"
    }
   ],
   "source": [
    "hier"
   ]
  },
  {
   "cell_type": "code",
   "execution_count": 170,
   "metadata": {
    "collapsed": true
   },
   "outputs": [],
   "source": [
    "l = sum([1 for a in hier for b in a])"
   ]
  },
  {
   "cell_type": "code",
   "execution_count": 171,
   "metadata": {
    "collapsed": false
   },
   "outputs": [
    {
     "data": {
      "text/plain": [
       "188"
      ]
     },
     "execution_count": 171,
     "metadata": {},
     "output_type": "execute_result"
    }
   ],
   "source": [
    "l"
   ]
  },
  {
   "cell_type": "code",
   "execution_count": 172,
   "metadata": {
    "collapsed": false
   },
   "outputs": [
    {
     "data": {
      "text/plain": [
       "188"
      ]
     },
     "execution_count": 172,
     "metadata": {},
     "output_type": "execute_result"
    }
   ],
   "source": [
    "sum([len(a) for a in hier])"
   ]
  },
  {
   "cell_type": "code",
   "execution_count": 173,
   "metadata": {
    "collapsed": true
   },
   "outputs": [],
   "source": [
    "x = settings.classes[1]"
   ]
  },
  {
   "cell_type": "code",
   "execution_count": 174,
   "metadata": {
    "collapsed": true
   },
   "outputs": [],
   "source": [
    "class_dictionary = {}\n",
    "for i,c in enumerate(settings.classes):\n",
    "    class_dictionary[c] = i"
   ]
  },
  {
   "cell_type": "code",
   "execution_count": 175,
   "metadata": {
    "collapsed": false
   },
   "outputs": [
    {
     "name": "stdout",
     "output_type": "stream",
     "text": [
      "appendicularian_slight_curve\n",
      "appendicularian_s_shape\n",
      "hydromedusae_narcomedusae\n",
      "hydromedusae_narco_young\n",
      "shrimp_caridean\n",
      "shrimp-like_other\n"
     ]
    }
   ],
   "source": [
    "conflicted = []\n",
    "for x in settings.classes:\n",
    "    v1 = np.array(neukrill_net.encoding.get_encoding(x,hier)[0])\n",
    "    v2 = np.zeros(len(settings.classes))\n",
    "    v2[class_dictionary[x]] = 1\n",
    "    if not np.allclose(v1,v2):\n",
    "        print(x)\n",
    "        conflicted.append(x)"
   ]
  },
  {
   "cell_type": "code",
   "execution_count": 176,
   "metadata": {
    "collapsed": false
   },
   "outputs": [],
   "source": [
    "hier[0] = [str(c) for c in settings.classes]"
   ]
  },
  {
   "cell_type": "code",
   "execution_count": 177,
   "metadata": {
    "collapsed": true
   },
   "outputs": [],
   "source": [
    "for x in settings.classes:\n",
    "    v1 = np.array(neukrill_net.encoding.get_encoding(x,hier)[0])\n",
    "    v2 = np.zeros(len(settings.classes))\n",
    "    v2[class_dictionary[x]] = 1\n",
    "    if not np.allclose(v1,v2):\n",
    "        print(x)"
   ]
  },
  {
   "cell_type": "code",
   "execution_count": 178,
   "metadata": {
    "collapsed": false
   },
   "outputs": [
    {
     "data": {
      "text/plain": [
       "[120, 37, 12, 5, 3, 1]"
      ]
     },
     "execution_count": 178,
     "metadata": {},
     "output_type": "execute_result"
    }
   ],
   "source": [
    "[np.where(np.array(a)==1)[0][0] for a in neukrill_net.encoding.get_encoding(x,hier)]"
   ]
  },
  {
   "cell_type": "code",
   "execution_count": 179,
   "metadata": {
    "collapsed": false
   },
   "outputs": [],
   "source": [
    "class_dictionary = {}\n",
    "for c in hier[0]:\n",
    "    class_dictionary[c] = np.where(np.array([a \n",
    "                           for l in neukrill_net.encoding.get_encoding(c,hier)\n",
    "                           for a in l])==1)[0]"
   ]
  },
  {
   "cell_type": "code",
   "execution_count": 180,
   "metadata": {
    "collapsed": false
   },
   "outputs": [
    {
     "data": {
      "text/plain": [
       "{'acantharia_protist': array([  0, 121, 172, 180, 185, 187]),\n",
       " 'acantharia_protist_big_center': array([  1, 121, 172, 180, 185, 187]),\n",
       " 'acantharia_protist_halo': array([  2, 121, 172, 180, 185, 187]),\n",
       " 'amphipods': array([  3, 126, 161, 176, 182, 187]),\n",
       " 'appendicularian_fritillaridae': array([  4, 122, 170, 177, 183, 187]),\n",
       " 'appendicularian_s_shape': array([  6, 122, 170, 177, 183, 187]),\n",
       " 'appendicularian_slight_curve': array([  5, 122, 170, 177, 183, 187]),\n",
       " 'appendicularian_straight': array([  7, 122, 170, 177, 183, 187]),\n",
       " 'artifacts': array([  8, 138, 168, 178, 184, 186]),\n",
       " 'artifacts_edge': array([  9, 138, 168, 178, 184, 186]),\n",
       " 'chaetognath_non_sagitta': array([ 10, 125, 171, 180, 185, 187]),\n",
       " 'chaetognath_other': array([ 11, 125, 171, 180, 185, 187]),\n",
       " 'chaetognath_sagitta': array([ 12, 125, 171, 180, 185, 187]),\n",
       " 'chordate_type1': array([ 13, 143, 171, 180, 185, 187]),\n",
       " 'copepod_calanoid': array([ 14, 123, 160, 175, 182, 187]),\n",
       " 'copepod_calanoid_eggs': array([ 15, 123, 160, 175, 182, 187]),\n",
       " 'copepod_calanoid_eucalanus': array([ 16, 123, 160, 175, 182, 187]),\n",
       " 'copepod_calanoid_flatheads': array([ 17, 123, 160, 175, 182, 187]),\n",
       " 'copepod_calanoid_frillyAntennae': array([ 18, 123, 160, 175, 182, 187]),\n",
       " 'copepod_calanoid_large': array([ 19, 123, 160, 175, 182, 187]),\n",
       " 'copepod_calanoid_large_side_antennatucked': array([ 20, 123, 160, 175, 182, 187]),\n",
       " 'copepod_calanoid_octomoms': array([ 21, 123, 160, 175, 182, 187]),\n",
       " 'copepod_calanoid_small_longantennae': array([ 22, 123, 160, 175, 182, 187]),\n",
       " 'copepod_cyclopoid_copilia': array([ 23, 128, 163, 175, 182, 187]),\n",
       " 'copepod_cyclopoid_oithona': array([ 24, 139, 163, 175, 182, 187]),\n",
       " 'copepod_cyclopoid_oithona_eggs': array([ 25, 139, 163, 175, 182, 187]),\n",
       " 'copepod_other': array([ 26, 123, 160, 175, 182, 187]),\n",
       " 'crustacean_other': array([ 27, 126, 161, 176, 182, 187]),\n",
       " 'ctenophore_cestid': array([ 28, 127, 162, 177, 183, 187]),\n",
       " 'ctenophore_cydippid_no_tentacles': array([ 29, 129, 162, 177, 183, 187]),\n",
       " 'ctenophore_cydippid_tentacles': array([ 30, 129, 162, 177, 183, 187]),\n",
       " 'ctenophore_lobate': array([ 31, 127, 162, 177, 183, 187]),\n",
       " 'decapods': array([ 32, 130, 173, 176, 182, 187]),\n",
       " 'detritus_blob': array([ 33, 131, 171, 180, 185, 187]),\n",
       " 'detritus_filamentous': array([ 34, 131, 171, 180, 185, 187]),\n",
       " 'detritus_other': array([ 35, 131, 171, 180, 185, 187]),\n",
       " 'diatom_chain_string': array([ 36, 132, 171, 180, 185, 187]),\n",
       " 'diatom_chain_tube': array([ 37, 132, 171, 180, 185, 187]),\n",
       " 'echinoderm_larva_pluteus_brittlestar': array([ 38, 144, 164, 179, 185, 187]),\n",
       " 'echinoderm_larva_pluteus_early': array([ 39, 144, 164, 179, 185, 187]),\n",
       " 'echinoderm_larva_pluteus_typeC': array([ 40, 144, 164, 179, 185, 187]),\n",
       " 'echinoderm_larva_pluteus_urchin': array([ 41, 144, 164, 179, 185, 187]),\n",
       " 'echinoderm_larva_seastar_bipinnaria': array([ 42, 149, 164, 179, 185, 187]),\n",
       " 'echinoderm_larva_seastar_brachiolaria': array([ 43, 149, 164, 179, 185, 187]),\n",
       " 'echinoderm_seacucumber_auricularia_larva': array([ 44, 133, 164, 179, 185, 187]),\n",
       " 'echinopluteus': array([ 45, 144, 164, 179, 185, 187]),\n",
       " 'ephyra': array([ 46, 137, 166, 177, 183, 187]),\n",
       " 'euphausiids': array([ 47, 134, 173, 176, 182, 187]),\n",
       " 'euphausiids_young': array([ 48, 134, 173, 176, 182, 187]),\n",
       " 'fecal_pellet': array([ 49, 131, 171, 180, 185, 187]),\n",
       " 'fish_larvae_deep_body': array([ 50, 135, 171, 180, 185, 187]),\n",
       " 'fish_larvae_leptocephali': array([ 51, 135, 171, 180, 185, 187]),\n",
       " 'fish_larvae_medium_body': array([ 52, 135, 171, 180, 185, 187]),\n",
       " 'fish_larvae_myctophids': array([ 53, 135, 171, 180, 185, 187]),\n",
       " 'fish_larvae_thin_body': array([ 54, 135, 171, 180, 185, 187]),\n",
       " 'fish_larvae_very_thin_body': array([ 55, 135, 171, 180, 185, 187]),\n",
       " 'heteropod': array([ 56, 136, 165, 180, 185, 187]),\n",
       " 'hydromedusae_aglaura': array([ 57, 153, 167, 177, 183, 187]),\n",
       " 'hydromedusae_bell_and_tentacles': array([ 58, 140, 167, 177, 183, 187]),\n",
       " 'hydromedusae_h15': array([ 59, 140, 167, 177, 183, 187]),\n",
       " 'hydromedusae_haliscera': array([ 60, 153, 167, 177, 183, 187]),\n",
       " 'hydromedusae_haliscera_small_sideview': array([ 61, 153, 167, 177, 183, 187]),\n",
       " 'hydromedusae_liriope': array([ 62, 153, 167, 177, 183, 187]),\n",
       " 'hydromedusae_narco_dark': array([ 63, 154, 167, 177, 183, 187]),\n",
       " 'hydromedusae_narco_young': array([ 65, 154, 167, 177, 183, 187]),\n",
       " 'hydromedusae_narcomedusae': array([ 64, 154, 167, 177, 183, 187]),\n",
       " 'hydromedusae_other': array([ 66, 140, 167, 177, 183, 187]),\n",
       " 'hydromedusae_partial_dark': array([ 67, 140, 167, 177, 183, 187]),\n",
       " 'hydromedusae_shapeA': array([ 68, 140, 167, 177, 183, 187]),\n",
       " 'hydromedusae_shapeA_sideview_small': array([ 69, 140, 167, 177, 183, 187]),\n",
       " 'hydromedusae_shapeB': array([ 70, 140, 167, 177, 183, 187]),\n",
       " 'hydromedusae_sideview_big': array([ 71, 140, 167, 177, 183, 187]),\n",
       " 'hydromedusae_solmaris': array([ 72, 154, 167, 177, 183, 187]),\n",
       " 'hydromedusae_solmundella': array([ 73, 154, 167, 177, 183, 187]),\n",
       " 'hydromedusae_typeD': array([ 74, 140, 167, 177, 183, 187]),\n",
       " 'hydromedusae_typeD_bell_and_tentacles': array([ 75, 140, 167, 177, 183, 187]),\n",
       " 'hydromedusae_typeE': array([ 76, 140, 167, 177, 183, 187]),\n",
       " 'hydromedusae_typeF': array([ 77, 140, 167, 177, 183, 187]),\n",
       " 'invertebrate_larvae_other_A': array([ 78, 141, 169, 179, 185, 187]),\n",
       " 'invertebrate_larvae_other_B': array([ 79, 141, 169, 179, 185, 187]),\n",
       " 'jellies_tentacles': array([ 80, 137, 166, 177, 183, 187]),\n",
       " 'polychaete': array([ 81, 143, 171, 180, 185, 187]),\n",
       " 'protist_dark_center': array([ 82, 155, 172, 180, 185, 187]),\n",
       " 'protist_fuzzy_olive': array([ 83, 155, 172, 180, 185, 187]),\n",
       " 'protist_noctiluca': array([ 84, 145, 172, 180, 185, 187]),\n",
       " 'protist_other': array([ 85, 155, 172, 180, 185, 187]),\n",
       " 'protist_star': array([ 86, 155, 172, 180, 185, 187]),\n",
       " 'pteropod_butterfly': array([ 87, 146, 165, 180, 185, 187]),\n",
       " 'pteropod_theco_dev_seq': array([ 88, 146, 165, 180, 185, 187]),\n",
       " 'pteropod_triangle': array([ 89, 146, 165, 180, 185, 187]),\n",
       " 'radiolarian_chain': array([ 90, 147, 172, 180, 185, 187]),\n",
       " 'radiolarian_colony': array([ 91, 147, 172, 180, 185, 187]),\n",
       " 'shrimp-like_other': array([ 93, 150, 173, 176, 182, 187]),\n",
       " 'shrimp_caridean': array([ 92, 130, 173, 176, 182, 187]),\n",
       " 'shrimp_sergestidae': array([ 94, 130, 173, 176, 182, 187]),\n",
       " 'shrimp_zoea': array([ 95, 130, 173, 176, 182, 187]),\n",
       " 'siphonophore_calycophoran_abylidae': array([ 96, 124, 159, 181, 183, 187]),\n",
       " 'siphonophore_calycophoran_rocketship_adult': array([ 97, 148, 159, 181, 183, 187]),\n",
       " 'siphonophore_calycophoran_rocketship_young': array([ 98, 148, 159, 181, 183, 187]),\n",
       " 'siphonophore_calycophoran_sphaeronectes': array([ 99, 152, 159, 181, 183, 187]),\n",
       " 'siphonophore_calycophoran_sphaeronectes_stem': array([100, 152, 159, 181, 183, 187]),\n",
       " 'siphonophore_calycophoran_sphaeronectes_young': array([101, 152, 159, 181, 183, 187]),\n",
       " 'siphonophore_other_parts': array([102, 151, 174, 181, 183, 187]),\n",
       " 'siphonophore_partial': array([103, 151, 174, 181, 183, 187]),\n",
       " 'siphonophore_physonect': array([104, 142, 174, 181, 183, 187]),\n",
       " 'siphonophore_physonect_young': array([105, 142, 174, 181, 183, 187]),\n",
       " 'stomatopod': array([106, 126, 161, 176, 182, 187]),\n",
       " 'tornaria_acorn_worm_larvae': array([107, 141, 169, 179, 185, 187]),\n",
       " 'trichodesmium_bowtie': array([108, 156, 171, 180, 185, 187]),\n",
       " 'trichodesmium_multiple': array([109, 156, 171, 180, 185, 187]),\n",
       " 'trichodesmium_puff': array([110, 156, 171, 180, 185, 187]),\n",
       " 'trichodesmium_tuft': array([111, 156, 171, 180, 185, 187]),\n",
       " 'trochophore_larvae': array([112, 141, 169, 179, 185, 187]),\n",
       " 'tunicate_doliolid': array([113, 157, 170, 177, 183, 187]),\n",
       " 'tunicate_doliolid_nurse': array([114, 157, 170, 177, 183, 187]),\n",
       " 'tunicate_partial': array([115, 157, 170, 177, 183, 187]),\n",
       " 'tunicate_salp': array([116, 157, 170, 177, 183, 187]),\n",
       " 'tunicate_salp_chains': array([117, 157, 170, 177, 183, 187]),\n",
       " 'unknown_blobs_and_smudges': array([118, 158, 171, 180, 185, 187]),\n",
       " 'unknown_sticks': array([119, 158, 171, 180, 185, 187]),\n",
       " 'unknown_unclassified': array([120, 158, 171, 180, 185, 187])}"
      ]
     },
     "execution_count": 180,
     "metadata": {},
     "output_type": "execute_result"
    }
   ],
   "source": [
    "class_dictionary"
   ]
  },
  {
   "cell_type": "code",
   "execution_count": 181,
   "metadata": {
    "collapsed": false
   },
   "outputs": [],
   "source": [
    "y = np.zeros((len(settings.classes),188))"
   ]
  },
  {
   "cell_type": "code",
   "execution_count": 182,
   "metadata": {
    "collapsed": false
   },
   "outputs": [
    {
     "name": "stdout",
     "output_type": "stream",
     "text": [
      "(0, array([  0, 121, 172, 180, 185, 187]))\n",
      "(1, array([  1, 121, 172, 180, 185, 187]))\n",
      "(2, array([  2, 121, 172, 180, 185, 187]))\n",
      "(3, array([  3, 126, 161, 176, 182, 187]))\n",
      "(4, array([  4, 122, 170, 177, 183, 187]))\n",
      "(5, array([  5, 122, 170, 177, 183, 187]))\n",
      "(6, array([  6, 122, 170, 177, 183, 187]))\n",
      "(7, array([  7, 122, 170, 177, 183, 187]))\n",
      "(8, array([  8, 138, 168, 178, 184, 186]))\n",
      "(9, array([  9, 138, 168, 178, 184, 186]))\n",
      "(10, array([ 10, 125, 171, 180, 185, 187]))\n",
      "(11, array([ 11, 125, 171, 180, 185, 187]))\n",
      "(12, array([ 12, 125, 171, 180, 185, 187]))\n",
      "(13, array([ 13, 143, 171, 180, 185, 187]))\n",
      "(14, array([ 14, 123, 160, 175, 182, 187]))\n",
      "(15, array([ 15, 123, 160, 175, 182, 187]))\n",
      "(16, array([ 16, 123, 160, 175, 182, 187]))\n",
      "(17, array([ 17, 123, 160, 175, 182, 187]))\n",
      "(18, array([ 18, 123, 160, 175, 182, 187]))\n",
      "(19, array([ 19, 123, 160, 175, 182, 187]))\n",
      "(20, array([ 20, 123, 160, 175, 182, 187]))\n",
      "(21, array([ 21, 123, 160, 175, 182, 187]))\n",
      "(22, array([ 22, 123, 160, 175, 182, 187]))\n",
      "(23, array([ 23, 128, 163, 175, 182, 187]))\n",
      "(24, array([ 24, 139, 163, 175, 182, 187]))\n",
      "(25, array([ 25, 139, 163, 175, 182, 187]))\n",
      "(26, array([ 26, 123, 160, 175, 182, 187]))\n",
      "(27, array([ 27, 126, 161, 176, 182, 187]))\n",
      "(28, array([ 28, 127, 162, 177, 183, 187]))\n",
      "(29, array([ 29, 129, 162, 177, 183, 187]))\n",
      "(30, array([ 30, 129, 162, 177, 183, 187]))\n",
      "(31, array([ 31, 127, 162, 177, 183, 187]))\n",
      "(32, array([ 32, 130, 173, 176, 182, 187]))\n",
      "(33, array([ 33, 131, 171, 180, 185, 187]))\n",
      "(34, array([ 34, 131, 171, 180, 185, 187]))\n",
      "(35, array([ 35, 131, 171, 180, 185, 187]))\n",
      "(36, array([ 36, 132, 171, 180, 185, 187]))\n",
      "(37, array([ 37, 132, 171, 180, 185, 187]))\n",
      "(38, array([ 38, 144, 164, 179, 185, 187]))\n",
      "(39, array([ 39, 144, 164, 179, 185, 187]))\n",
      "(40, array([ 40, 144, 164, 179, 185, 187]))\n",
      "(41, array([ 41, 144, 164, 179, 185, 187]))\n",
      "(42, array([ 42, 149, 164, 179, 185, 187]))\n",
      "(43, array([ 43, 149, 164, 179, 185, 187]))\n",
      "(44, array([ 44, 133, 164, 179, 185, 187]))\n",
      "(45, array([ 45, 144, 164, 179, 185, 187]))\n",
      "(46, array([ 46, 137, 166, 177, 183, 187]))\n",
      "(47, array([ 47, 134, 173, 176, 182, 187]))\n",
      "(48, array([ 48, 134, 173, 176, 182, 187]))\n",
      "(49, array([ 49, 131, 171, 180, 185, 187]))\n",
      "(50, array([ 50, 135, 171, 180, 185, 187]))\n",
      "(51, array([ 51, 135, 171, 180, 185, 187]))\n",
      "(52, array([ 52, 135, 171, 180, 185, 187]))\n",
      "(53, array([ 53, 135, 171, 180, 185, 187]))\n",
      "(54, array([ 54, 135, 171, 180, 185, 187]))\n",
      "(55, array([ 55, 135, 171, 180, 185, 187]))\n",
      "(56, array([ 56, 136, 165, 180, 185, 187]))\n",
      "(57, array([ 57, 153, 167, 177, 183, 187]))\n",
      "(58, array([ 58, 140, 167, 177, 183, 187]))\n",
      "(59, array([ 59, 140, 167, 177, 183, 187]))\n",
      "(60, array([ 60, 153, 167, 177, 183, 187]))\n",
      "(61, array([ 61, 153, 167, 177, 183, 187]))\n",
      "(62, array([ 62, 153, 167, 177, 183, 187]))\n",
      "(63, array([ 63, 154, 167, 177, 183, 187]))\n",
      "(64, array([ 64, 154, 167, 177, 183, 187]))\n",
      "(65, array([ 65, 154, 167, 177, 183, 187]))\n",
      "(66, array([ 66, 140, 167, 177, 183, 187]))\n",
      "(67, array([ 67, 140, 167, 177, 183, 187]))\n",
      "(68, array([ 68, 140, 167, 177, 183, 187]))\n",
      "(69, array([ 69, 140, 167, 177, 183, 187]))\n",
      "(70, array([ 70, 140, 167, 177, 183, 187]))\n",
      "(71, array([ 71, 140, 167, 177, 183, 187]))\n",
      "(72, array([ 72, 154, 167, 177, 183, 187]))\n",
      "(73, array([ 73, 154, 167, 177, 183, 187]))\n",
      "(74, array([ 74, 140, 167, 177, 183, 187]))\n",
      "(75, array([ 75, 140, 167, 177, 183, 187]))\n",
      "(76, array([ 76, 140, 167, 177, 183, 187]))\n",
      "(77, array([ 77, 140, 167, 177, 183, 187]))\n",
      "(78, array([ 78, 141, 169, 179, 185, 187]))\n",
      "(79, array([ 79, 141, 169, 179, 185, 187]))\n",
      "(80, array([ 80, 137, 166, 177, 183, 187]))\n",
      "(81, array([ 81, 143, 171, 180, 185, 187]))\n",
      "(82, array([ 82, 155, 172, 180, 185, 187]))\n",
      "(83, array([ 83, 155, 172, 180, 185, 187]))\n",
      "(84, array([ 84, 145, 172, 180, 185, 187]))\n",
      "(85, array([ 85, 155, 172, 180, 185, 187]))\n",
      "(86, array([ 86, 155, 172, 180, 185, 187]))\n",
      "(87, array([ 87, 146, 165, 180, 185, 187]))\n",
      "(88, array([ 88, 146, 165, 180, 185, 187]))\n",
      "(89, array([ 89, 146, 165, 180, 185, 187]))\n",
      "(90, array([ 90, 147, 172, 180, 185, 187]))\n",
      "(91, array([ 91, 147, 172, 180, 185, 187]))\n",
      "(92, array([ 92, 130, 173, 176, 182, 187]))\n",
      "(93, array([ 93, 150, 173, 176, 182, 187]))\n",
      "(94, array([ 94, 130, 173, 176, 182, 187]))\n",
      "(95, array([ 95, 130, 173, 176, 182, 187]))\n",
      "(96, array([ 96, 124, 159, 181, 183, 187]))\n",
      "(97, array([ 97, 148, 159, 181, 183, 187]))\n",
      "(98, array([ 98, 148, 159, 181, 183, 187]))\n",
      "(99, array([ 99, 152, 159, 181, 183, 187]))\n",
      "(100, array([100, 152, 159, 181, 183, 187]))\n",
      "(101, array([101, 152, 159, 181, 183, 187]))\n",
      "(102, array([102, 151, 174, 181, 183, 187]))\n",
      "(103, array([103, 151, 174, 181, 183, 187]))\n",
      "(104, array([104, 142, 174, 181, 183, 187]))\n",
      "(105, array([105, 142, 174, 181, 183, 187]))\n",
      "(106, array([106, 126, 161, 176, 182, 187]))\n",
      "(107, array([107, 141, 169, 179, 185, 187]))\n",
      "(108, array([108, 156, 171, 180, 185, 187]))\n",
      "(109, array([109, 156, 171, 180, 185, 187]))\n",
      "(110, array([110, 156, 171, 180, 185, 187]))\n",
      "(111, array([111, 156, 171, 180, 185, 187]))\n",
      "(112, array([112, 141, 169, 179, 185, 187]))\n",
      "(113, array([113, 157, 170, 177, 183, 187]))\n",
      "(114, array([114, 157, 170, 177, 183, 187]))\n",
      "(115, array([115, 157, 170, 177, 183, 187]))\n",
      "(116, array([116, 157, 170, 177, 183, 187]))\n",
      "(117, array([117, 157, 170, 177, 183, 187]))\n",
      "(118, array([118, 158, 171, 180, 185, 187]))\n",
      "(119, array([119, 158, 171, 180, 185, 187]))\n",
      "(120, array([120, 158, 171, 180, 185, 187]))\n"
     ]
    }
   ],
   "source": [
    "for i,j in enumerate(map(lambda c: class_dictionary[c],settings.classes)):\n",
    "    y[i,j] = 1\n",
    "    print(i,j)"
   ]
  },
  {
   "cell_type": "code",
   "execution_count": 183,
   "metadata": {
    "collapsed": false
   },
   "outputs": [
    {
     "data": {
      "text/plain": [
       "<matplotlib.image.AxesImage at 0x7f731677fb10>"
      ]
     },
     "execution_count": 183,
     "metadata": {},
     "output_type": "execute_result"
    },
    {
     "data": {
      "image/png": "[encoded data removed]",
      "text/plain": [
       "<matplotlib.figure.Figure at 0x7f7314c4f2d0>"
      ]
     },
     "metadata": {},
     "output_type": "display_data"
    }
   ],
   "source": [
    "plt.imshow(y,cmap='Greys')"
   ]
  },
  {
   "cell_type": "code",
   "execution_count": 134,
   "metadata": {
    "collapsed": false
   },
   "outputs": [],
   "source": [
    "hier = neukrill_net.encoding.get_hierarchy()"
   ]
  },
  {
   "cell_type": "code",
   "execution_count": 135,
   "metadata": {
    "collapsed": true
   },
   "outputs": [],
   "source": [
    "class_dictionary2 = {}\n",
    "for c in hier[0]:\n",
    "    class_dictionary2[c] = np.where(np.array([a \n",
    "                           for l in neukrill_net.encoding.get_encoding(c,hier)\n",
    "                           for a in l])==1)[0]"
   ]
  },
  {
   "cell_type": "code",
   "execution_count": 161,
   "metadata": {
    "collapsed": true
   },
   "outputs": [],
   "source": [
    "yb = np.zeros((len(settings.classes),188))"
   ]
  },
  {
   "cell_type": "code",
   "execution_count": 166,
   "metadata": {
    "collapsed": true
   },
   "outputs": [],
   "source": [
    "for i,j in enumerate(map(lambda c: class_dictionary2[c],settings.classes)):\n",
    "    yb[i,j] = 1"
   ]
  },
  {
   "cell_type": "code",
   "execution_count": 167,
   "metadata": {
    "collapsed": false
   },
   "outputs": [
    {
     "data": {
      "text/plain": [
       "<matplotlib.image.AxesImage at 0x7f731688ba50>"
      ]
     },
     "execution_count": 167,
     "metadata": {},
     "output_type": "execute_result"
    },
    {
     "data": {
      "image/png": "[encoded data removed]",
      "text/plain": [
       "<matplotlib.figure.Figure at 0x7f7316b18b50>"
      ]
     },
     "metadata": {},
     "output_type": "display_data"
    }
   ],
   "source": [
    "plt.imshow(yb,cmap='Greys')"
   ]
  },
  {
   "cell_type": "code",
   "execution_count": 132,
   "metadata": {
    "collapsed": false
   },
   "outputs": [
    {
     "data": {
      "text/plain": [
       "True"
      ]
     },
     "execution_count": 132,
     "metadata": {},
     "output_type": "execute_result"
    }
   ],
   "source": [
    "np.allclose(y[121:],yb[121:])"
   ]
  },
  {
   "cell_type": "code",
   "execution_count": 184,
   "metadata": {
    "collapsed": false
   },
   "outputs": [
    {
     "name": "stdout",
     "output_type": "stream",
     "text": [
      "(u'appendicularian_slight_curve', array([  5, 122, 170, 177, 183, 187]), array([  6, 122, 170, 177, 183, 187]))\n",
      "(u'appendicularian_s_shape', array([  6, 122, 170, 177, 183, 187]), array([  5, 122, 170, 177, 183, 187]))\n",
      "(u'hydromedusae_narcomedusae', array([ 64, 154, 167, 177, 183, 187]), array([ 65, 154, 167, 177, 183, 187]))\n",
      "(u'hydromedusae_narco_young', array([ 65, 154, 167, 177, 183, 187]), array([ 64, 154, 167, 177, 183, 187]))\n",
      "(u'shrimp_caridean', array([ 92, 130, 173, 176, 182, 187]), array([ 93, 130, 173, 176, 182, 187]))\n",
      "(u'shrimp-like_other', array([ 93, 150, 173, 176, 182, 187]), array([ 92, 150, 173, 176, 182, 187]))\n"
     ]
    }
   ],
   "source": [
    "for c in conflicted:\n",
    "    print(c,class_dictionary[c],class_dictionary2[c])"
   ]
  },
  {
   "cell_type": "code",
   "execution_count": 187,
   "metadata": {
    "collapsed": true
   },
   "outputs": [],
   "source": [
    "oldy = y[:]"
   ]
  },
  {
   "cell_type": "markdown",
   "metadata": {},
   "source": [
    "Check for Heisenbugs:"
   ]
  },
  {
   "cell_type": "code",
   "execution_count": 189,
   "metadata": {
    "collapsed": false
   },
   "outputs": [],
   "source": [
    "for _ in range(100):\n",
    "    y = np.zeros((len(settings.classes),188))\n",
    "    for i,j in enumerate(map(lambda c: class_dictionary[c],settings.classes)):\n",
    "        y[i,j] = 1\n",
    "    if not np.allclose(y,oldy):\n",
    "        print(\"Arrays do not match.\")\n",
    "    oldy = y[:]"
   ]
  },
  {
   "cell_type": "code",
   "execution_count": 213,
   "metadata": {
    "collapsed": false
   },
   "outputs": [
    {
     "data": {
      "text/plain": [
       "<module 'neukrill_net.encoding' from '/afs/inf.ed.ac.uk/user/s08/s0805516/repos/neukrill-net-tools/neukrill_net/encoding.py'>"
      ]
     },
     "execution_count": 213,
     "metadata": {},
     "output_type": "execute_result"
    }
   ],
   "source": [
    "reload(neukrill_net.encoding)"
   ]
  },
  {
   "cell_type": "code",
   "execution_count": 214,
   "metadata": {
    "collapsed": false
   },
   "outputs": [],
   "source": [
    "hierarchy = neukrill_net.encoding.get_hierarchy(settings)"
   ]
  },
  {
   "cell_type": "code",
   "execution_count": 215,
   "metadata": {
    "collapsed": true
   },
   "outputs": [],
   "source": [
    "for i,j in zip(settings.classes,hierarchy[0]):\n",
    "    if i != j:\n",
    "        print(i,j)"
   ]
  },
  {
   "cell_type": "code",
   "execution_count": 216,
   "metadata": {
    "collapsed": false
   },
   "outputs": [],
   "source": [
    "class_dictionary = neukrill_net.encoding.make_class_dictionary(settings.classes,hierarchy)"
   ]
  },
  {
   "cell_type": "code",
   "execution_count": 218,
   "metadata": {
    "collapsed": false
   },
   "outputs": [
    {
     "data": {
      "text/plain": [
       "<matplotlib.image.AxesImage at 0x7f731604c810>"
      ]
     },
     "execution_count": 218,
     "metadata": {},
     "output_type": "execute_result"
    },
    {
     "data": {
      "image/png": "[encoded data removed]",
      "text/plain": [
       "<matplotlib.figure.Figure at 0x7f7316573210>"
      ]
     },
     "metadata": {},
     "output_type": "display_data"
    }
   ],
   "source": [
    "y = np.zeros((len(settings.classes),188))\n",
    "for i,j in enumerate(map(lambda c: class_dictionary[c],hierarchy[0])):\n",
    "    y[i,j] = 1\n",
    "plt.imshow(y,cmap='Greys')"
   ]
  }
 ],
 "metadata": {
  "kernelspec": {
   "display_name": "Python 2",
   "language": "python",
   "name": "python2"
  },
  "language_info": {
   "codemirror_mode": {
    "name": "ipython",
    "version": 2
   },
   "file_extension": ".py",
   "mimetype": "text/x-python",
   "name": "python",
   "nbconvert_exporter": "python",
   "pygments_lexer": "ipython2",
   "version": "2.7.8"
  }
 },
 "nbformat": 4,
 "nbformat_minor": 0
}
