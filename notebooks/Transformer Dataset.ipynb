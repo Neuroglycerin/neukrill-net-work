{
 "cells": [
  {
   "cell_type": "markdown",
   "metadata": {},
   "source": [
    "Trying out the Transformer dataset class from Pylearn2 with our current dataset class as raw, should be able to make a block to apply to it using one of our processing functions that will produce a random combination of it's processing functions.\n",
    "\n",
    "Setting up\n",
    "====\n",
    "\n",
    "Loading the data and the model, the classic loosely AlexNet based model we've been using for a while."
   ]
  },
  {
   "cell_type": "code",
   "execution_count": 1,
   "metadata": {
    "collapsed": false
   },
   "outputs": [
    {
     "name": "stderr",
     "output_type": "stream",
     "text": [
      "Using gpu device 0: Tesla K40c\n",
      ":0: FutureWarning: IPython widgets are experimental and may change in the future.\n"
     ]
    },
    {
     "name": "stdout",
     "output_type": "stream",
     "text": [
      "Welcome to the HoloViews IPython extension! (http://ioam.github.io/holoviews/)\n",
      "Available magics: %compositor, %opts, %params, %view, %%labels, %%opts, %%view\n"
     ]
    },
    {
     "data": {
      "text/plain": [
       "<matplotlib.figure.Figure at 0x7f84088082d0>"
      ]
     },
     "metadata": {},
     "output_type": "display_data"
    },
    {
     "data": {
      "text/plain": [
       "<matplotlib.figure.Figure at 0x7f8408808c90>"
      ]
     },
     "metadata": {},
     "output_type": "display_data"
    },
    {
     "data": {
      "text/plain": [
       "<matplotlib.figure.Figure at 0x7f8408808a90>"
      ]
     },
     "metadata": {},
     "output_type": "display_data"
    }
   ],
   "source": [
    "import pylearn2.utils\n",
    "import pylearn2.config\n",
    "import theano\n",
    "import neukrill_net.dense_dataset\n",
    "import neukrill_net.utils\n",
    "import numpy as np\n",
    "%matplotlib inline\n",
    "import matplotlib.pyplot as plt\n",
    "import holoviews as hl\n",
    "%load_ext holoviews.ipython\n",
    "import sklearn.metrics"
   ]
  },
  {
   "cell_type": "code",
   "execution_count": 2,
   "metadata": {
    "collapsed": false
   },
   "outputs": [
    {
     "name": "stdout",
     "output_type": "stream",
     "text": [
      "/afs/inf.ed.ac.uk/user/s08/s0805516/repos/neukrill-net-work\n"
     ]
    }
   ],
   "source": [
    "cd .."
   ]
  },
  {
   "cell_type": "code",
   "execution_count": 3,
   "metadata": {
    "collapsed": true
   },
   "outputs": [],
   "source": [
    "settings = neukrill_net.utils.Settings(\"settings.json\")\n",
    "run_settings = neukrill_net.utils.load_run_settings(\n",
    "    \"run_settings/alexnet_based.json\", settings, force=True)"
   ]
  },
  {
   "cell_type": "code",
   "execution_count": 4,
   "metadata": {
    "collapsed": true
   },
   "outputs": [],
   "source": [
    "# loading the model\n",
    "model = pylearn2.utils.serial.load(run_settings['pickle abspath'])\n",
    "# loading the data\n",
    "dataset = neukrill_net.dense_dataset.DensePNGDataset(settings_path=run_settings['settings_path'],\n",
    "                                            run_settings=run_settings['run_settings_path'],\n",
    "                                                     train_or_predict='train',\n",
    "                                                     training_set_mode='validation', force=True)"
   ]
  },
  {
   "cell_type": "markdown",
   "metadata": {},
   "source": [
    "Making a Block\n",
    "=====\n",
    "\n",
    "Pylearn2 uses [Blocks to apply the processing functions to the raw data][blockexample]. The Transformer class appears to be able to also take [model pickle files as transforms][ae]. Hopefully, we can just make an object that inherits the Block base class and supply it with a function to transform an image and that might work. The documentation doesn't really say one way or the other.\n",
    "\n",
    "[blockexample]: https://github.com/lisa-lab/pylearn2/blob/master/pylearn2/scripts/tutorials/deep_trainer/run_deep_trainer.py\n",
    "[ae]: http://nbviewer.ipython.org/github/lisa-lab/pylearn2/blob/master/pylearn2/scripts/tutorials/stacked_autoencoders/stacked_autoencoders.ipynb"
   ]
  },
  {
   "cell_type": "code",
   "execution_count": 5,
   "metadata": {
    "collapsed": true
   },
   "outputs": [],
   "source": [
    "import pylearn2.blocks\n",
    "import neukrill_net.image_processing"
   ]
  },
  {
   "cell_type": "code",
   "execution_count": 6,
   "metadata": {
    "collapsed": true
   },
   "outputs": [],
   "source": [
    "b = pylearn2.blocks.Block()"
   ]
  },
  {
   "cell_type": "code",
   "execution_count": 7,
   "metadata": {
    "collapsed": true
   },
   "outputs": [],
   "source": [
    "b.fn = lambda x: neukrill_net.image_processing.flip_image(x,flip_x=True)"
   ]
  },
  {
   "cell_type": "code",
   "execution_count": 8,
   "metadata": {
    "collapsed": false
   },
   "outputs": [],
   "source": [
    "t = dataset.get_topological_view(dataset.X[:1,:])"
   ]
  },
  {
   "cell_type": "code",
   "execution_count": 9,
   "metadata": {
    "collapsed": false
   },
   "outputs": [
    {
     "data": {
      "text/plain": [
       "(1, 48, 48, 1)"
      ]
     },
     "execution_count": 9,
     "metadata": {},
     "output_type": "execute_result"
    }
   ],
   "source": [
    "t.shape"
   ]
  },
  {
   "cell_type": "code",
   "execution_count": 10,
   "metadata": {
    "collapsed": false
   },
   "outputs": [
    {
     "data": {
      "text/html": [
       "<center><img src='data:image/png;base64,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' style='max-width:100%'/><center/>"
      ],
      "text/plain": [
       "Image.Image   (z)"
      ]
     },
     "execution_count": 10,
     "metadata": {},
     "output_type": "execute_result"
    }
   ],
   "source": [
    "%opts Image style(cmap='gray')\n",
    "i = hl.Image(t.reshape(t.shape[1:3]))\n",
    "i"
   ]
  },
  {
   "cell_type": "code",
   "execution_count": 11,
   "metadata": {
    "collapsed": true
   },
   "outputs": [],
   "source": [
    "import pdb"
   ]
  },
  {
   "cell_type": "code",
   "execution_count": 12,
   "metadata": {
    "collapsed": true
   },
   "outputs": [],
   "source": [
    "class SampleAugment(pylearn2.blocks.Block):\n",
    "    def __init__(self,fn,target_shape):\n",
    "        self._fn = fn\n",
    "        self.cpu_only=False\n",
    "        self.target_shape = target_shape\n",
    "    def __call__(self,inputs):\n",
    "        return self.fn(inputs)\n",
    "    def fn(self,inputs):\n",
    "        # prepare empty array same size as inputs\n",
    "        req = inputs.shape\n",
    "        sh = [inputs.shape[0]] + list(self.target_shape)\n",
    "        inputs = inputs.reshape(sh)\n",
    "        processed = np.zeros(sh)\n",
    "        # hand each image as a 2D array\n",
    "        for i in range(inputs.shape[0]):\n",
    "            processed[i] = self._fn(inputs[i].reshape(self.target_shape))\n",
    "        processed = processed.reshape(req)\n",
    "        return processed"
   ]
  },
  {
   "cell_type": "code",
   "execution_count": 13,
   "metadata": {
    "collapsed": true
   },
   "outputs": [],
   "source": [
    "b = SampleAugment(lambda x: neukrill_net.image_processing.flip_image(x,flip_x=True),(48,48))"
   ]
  },
  {
   "cell_type": "code",
   "execution_count": 14,
   "metadata": {
    "collapsed": false
   },
   "outputs": [
    {
     "data": {
      "text/html": [
       "<center><img src='data:image/png;base64,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' style='max-width:100%'/><center/>"
      ],
      "text/plain": [
       "Image.Image   (z)"
      ]
     },
     "execution_count": 14,
     "metadata": {},
     "output_type": "execute_result"
    }
   ],
   "source": [
    "hl.Image(b(t).reshape(t.shape[1:3]))"
   ]
  },
  {
   "cell_type": "markdown",
   "metadata": {},
   "source": [
    "So it flips images like it's supposed to. Now we can try to make a TransformerDataset using it:"
   ]
  },
  {
   "cell_type": "code",
   "execution_count": 15,
   "metadata": {
    "collapsed": false
   },
   "outputs": [],
   "source": [
    "# want to make sure the processing is obvious\n",
    "b = SampleAugment(lambda x: np.zeros(x.shape),(48,48))"
   ]
  },
  {
   "cell_type": "code",
   "execution_count": 16,
   "metadata": {
    "collapsed": true
   },
   "outputs": [],
   "source": [
    "import pylearn2.datasets.transformer_dataset"
   ]
  },
  {
   "cell_type": "code",
   "execution_count": 17,
   "metadata": {
    "collapsed": true
   },
   "outputs": [],
   "source": [
    "tdataset = pylearn2.datasets.transformer_dataset.TransformerDataset(dataset,b,\n",
    "                                                                    space_preserving=True)"
   ]
  },
  {
   "cell_type": "code",
   "execution_count": 18,
   "metadata": {
    "collapsed": false
   },
   "outputs": [
    {
     "data": {
      "text/html": [
       "<center><img src='data:image/png;base64,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' style='max-width:100%'/><center/>"
      ],
      "text/plain": [
       "Image.Image   (z)"
      ]
     },
     "execution_count": 18,
     "metadata": {},
     "output_type": "execute_result"
    }
   ],
   "source": [
    "hl.Image(dataset.get_batch_topo(1).reshape(t.shape[1:3]))"
   ]
  },
  {
   "cell_type": "code",
   "execution_count": 19,
   "metadata": {
    "collapsed": false
   },
   "outputs": [
    {
     "data": {
      "text/html": [
       "<center><img src='data:image/png;base64,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' style='max-width:100%'/><center/>"
      ],
      "text/plain": [
       "Image.Image   (z)"
      ]
     },
     "execution_count": 19,
     "metadata": {},
     "output_type": "execute_result"
    }
   ],
   "source": [
    "hl.Image(tdataset.get_batch_topo(1).reshape(t.shape[1:3]))"
   ]
  },
  {
   "cell_type": "markdown",
   "metadata": {},
   "source": [
    "Should be possible to hack together from here. Making a transformer dataset that takes a stochastic processing function in a block; sampling from a set of possible augmentations and applying them to the image.\n",
    "\n",
    "Stupid Transformer\n",
    "======\n",
    "\n",
    "The stupid transformer takes a dataset after preprocessing; after the dataset has been resized and normalised into a homogeneous numpy array. It then applies its processing function to each of the examples in the array when a batch is requested.\n",
    "\n",
    "This is pretty easy to make; in fact we've pretty much done it above. All we need is a stochastic augmentation function that will apply a random augmentation to the images supplied each time. Then, we'll have a potentially massive dataset."
   ]
  },
  {
   "cell_type": "code",
   "execution_count": 109,
   "metadata": {
    "collapsed": true
   },
   "outputs": [],
   "source": [
    "import neukrill_net.augment"
   ]
  },
  {
   "cell_type": "code",
   "execution_count": 110,
   "metadata": {
    "collapsed": false
   },
   "outputs": [
    {
     "data": {
      "text/plain": [
       "<module 'neukrill_net.augment' from '/afs/inf.ed.ac.uk/user/s08/s0805516/repos/neukrill-net-tools/neukrill_net/augment.pyc'>"
      ]
     },
     "execution_count": 110,
     "metadata": {},
     "output_type": "execute_result"
    }
   ],
   "source": [
    "reload(neukrill_net.augment)"
   ]
  },
  {
   "cell_type": "code",
   "execution_count": 111,
   "metadata": {
    "collapsed": false
   },
   "outputs": [
    {
     "data": {
      "text/plain": [
       "<module 'neukrill_net.blocks' from '/afs/inf.ed.ac.uk/user/s08/s0805516/repos/neukrill-net-tools/neukrill_net/blocks.py'>"
      ]
     },
     "execution_count": 111,
     "metadata": {},
     "output_type": "execute_result"
    }
   ],
   "source": [
    "import neukrill_net.blocks\n",
    "reload(neukrill_net.blocks)"
   ]
  },
  {
   "cell_type": "code",
   "execution_count": 112,
   "metadata": {
    "collapsed": false
   },
   "outputs": [],
   "source": [
    "fn = neukrill_net.augment.RandomAugment(**{\"units\":\"float64\",\n",
    "                                           \"rotate\":-1,\n",
    "                                           \"flip\":1,\n",
    "                                           \"rotate_is_resizable\":0,\n",
    "                                           \"shear\":[0,np.pi/4,np.pi/2],\n",
    "                                           \"crop\":[0.05,0.1,0.2],\n",
    "                                           \"noise\":0.001,\n",
    "                                           \"scale\":[0.9,1.0,1.1,1.5],\n",
    "                                           \"resize\":(48,48)\n",
    "                                           })"
   ]
  },
  {
   "cell_type": "code",
   "execution_count": 113,
   "metadata": {
    "collapsed": false
   },
   "outputs": [
    {
     "data": {
      "text/plain": [
       "(48, 48)"
      ]
     },
     "execution_count": 113,
     "metadata": {},
     "output_type": "execute_result"
    }
   ],
   "source": [
    "t.squeeze().shape"
   ]
  },
  {
   "cell_type": "code",
   "execution_count": 114,
   "metadata": {
    "collapsed": false
   },
   "outputs": [
    {
     "data": {
      "text/html": [
       "<center><img src='data:image/png;base64,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' style='max-width:100%'/><center/>"
      ],
      "text/plain": [
       "Image.Image   (z)"
      ]
     },
     "execution_count": 114,
     "metadata": {},
     "output_type": "execute_result"
    }
   ],
   "source": [
    "hl.Image(t.squeeze())"
   ]
  },
  {
   "cell_type": "code",
   "execution_count": 115,
   "metadata": {
    "collapsed": false
   },
   "outputs": [
    {
     "data": {
      "text/html": [
       "<center><img src='data:image/png;base64,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' style='max-width:100%'/><center/>"
      ],
      "text/plain": [
       "Image.Image   (z)"
      ]
     },
     "execution_count": 115,
     "metadata": {},
     "output_type": "execute_result"
    }
   ],
   "source": [
    "hl.Image(fn(t.squeeze()))"
   ]
  },
  {
   "cell_type": "code",
   "execution_count": 116,
   "metadata": {
    "collapsed": false
   },
   "outputs": [],
   "source": [
    "b = neukrill_net.blocks.SampleAugment(lambda x: fn(x),(48,48),(48,48))"
   ]
  },
  {
   "cell_type": "code",
   "execution_count": 117,
   "metadata": {
    "collapsed": false
   },
   "outputs": [],
   "source": [
    "tdataset = pylearn2.datasets.transformer_dataset.TransformerDataset(raw=dataset,transformer=b,\n",
    "                                                                   space_preserving=True)"
   ]
  },
  {
   "cell_type": "code",
   "execution_count": 118,
   "metadata": {
    "collapsed": false
   },
   "outputs": [
    {
     "data": {
      "text/plain": [
       "<module 'neukrill_net.image_processing' from '/afs/inf.ed.ac.uk/user/s08/s0805516/repos/neukrill-net-tools/neukrill_net/image_processing.pyc'>"
      ]
     },
     "execution_count": 118,
     "metadata": {},
     "output_type": "execute_result"
    }
   ],
   "source": [
    "reload(neukrill_net.image_processing)"
   ]
  },
  {
   "cell_type": "code",
   "execution_count": 119,
   "metadata": {
    "collapsed": false
   },
   "outputs": [
    {
     "data": {
      "text/plain": [
       "(2, 48, 48, 1)"
      ]
     },
     "execution_count": 119,
     "metadata": {},
     "output_type": "execute_result"
    }
   ],
   "source": [
    "tdataset.get_batch_topo(2).shape"
   ]
  },
  {
   "cell_type": "code",
   "execution_count": 120,
   "metadata": {
    "collapsed": false
   },
   "outputs": [
    {
     "data": {
      "text/html": [
       "<center><img src='data:image/png;base64,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' style='max-width:100%'/><center/>"
      ],
      "text/plain": [
       "Image.Image   (z)"
      ]
     },
     "execution_count": 120,
     "metadata": {},
     "output_type": "execute_result"
    }
   ],
   "source": [
    "hl.Image(tdataset.get_batch_topo(1).reshape((48,48)))"
   ]
  },
  {
   "cell_type": "code",
   "execution_count": 121,
   "metadata": {
    "collapsed": false
   },
   "outputs": [
    {
     "data": {
      "text/plain": [
       "3026"
      ]
     },
     "execution_count": 121,
     "metadata": {},
     "output_type": "execute_result"
    }
   ],
   "source": [
    "tdataset.get_num_examples()"
   ]
  },
  {
   "cell_type": "code",
   "execution_count": 122,
   "metadata": {
    "collapsed": false
   },
   "outputs": [],
   "source": [
    "batch_size = 128\n",
    "num_batches = int(tdataset.get_num_examples()/batch_size)"
   ]
  },
  {
   "cell_type": "markdown",
   "metadata": {},
   "source": [
    "Had to make some modifications to the Pylearn2 code to make this work:"
   ]
  },
  {
   "cell_type": "code",
   "execution_count": 123,
   "metadata": {
    "collapsed": false
   },
   "outputs": [
    {
     "data": {
      "text/plain": [
       "<module 'pylearn2.utils.iteration' from '/afs/inf.ed.ac.uk/user/s08/s0805516/repos/pylearn2/pylearn2/utils/iteration.pyc'>"
      ]
     },
     "execution_count": 123,
     "metadata": {},
     "output_type": "execute_result"
    }
   ],
   "source": [
    "import pylearn2.utils.iteration\n",
    "reload(pylearn2.utils.iteration)"
   ]
  },
  {
   "cell_type": "markdown",
   "metadata": {},
   "source": [
    "Iterator gets called during the SGD train loop, specifically on lines 445-464 in `pylearn2/training_algorithms/sgd.py`:\n",
    "\n",
    "```python\n",
    "        iterator = dataset.iterator(mode=self.train_iteration_mode,\n",
    "                                    batch_size=self.batch_size,\n",
    "                                    data_specs=flat_data_specs,\n",
    "                                    return_tuple=True, rng=rng,\n",
    "                                    num_batches=self.batches_per_iter)\n",
    "\n",
    "        on_load_batch = self.on_load_batch\n",
    "        for batch in iterator:\n",
    "            for callback in on_load_batch:\n",
    "                callback(*batch)\n",
    "            self.sgd_update(*batch)\n",
    "            # iterator might return a smaller batch if dataset size\n",
    "            # isn't divisible by batch_size\n",
    "            # Note: if data_specs[0] is a NullSpace, there is no way to know\n",
    "            # how many examples would actually have been in the batch,\n",
    "            # since it was empty, so actual_batch_size would be reported as 0.\n",
    "            actual_batch_size = flat_data_specs[0].np_batch_size(batch)\n",
    "            self.monitor.report_batch(actual_batch_size)\n",
    "            for callback in self.update_callbacks:\n",
    "                callback(self)\n",
    "```\n",
    "\n",
    "So we have to call the iterator the same way, specifically getting whatever `flat_data_specs` right."
   ]
  },
  {
   "cell_type": "code",
   "execution_count": 124,
   "metadata": {
    "collapsed": true
   },
   "outputs": [],
   "source": [
    "from pylearn2.space import CompositeSpace"
   ]
  },
  {
   "cell_type": "code",
   "execution_count": 125,
   "metadata": {
    "collapsed": true
   },
   "outputs": [],
   "source": [
    "from pylearn2.utils.data_specs import DataSpecsMapping"
   ]
  },
  {
   "cell_type": "code",
   "execution_count": 126,
   "metadata": {
    "collapsed": true
   },
   "outputs": [],
   "source": [
    "data_specs = (model.get_input_space(),model.get_input_source())"
   ]
  },
  {
   "cell_type": "code",
   "execution_count": 127,
   "metadata": {
    "collapsed": true
   },
   "outputs": [],
   "source": [
    "mapping = DataSpecsMapping(data_specs)"
   ]
  },
  {
   "cell_type": "code",
   "execution_count": 128,
   "metadata": {
    "collapsed": true
   },
   "outputs": [],
   "source": [
    "space_tuple = mapping.flatten(data_specs[0], return_tuple=True)\n",
    "source_tuple =  mapping.flatten(data_specs[1], return_tuple=True)"
   ]
  },
  {
   "cell_type": "code",
   "execution_count": 129,
   "metadata": {
    "collapsed": false
   },
   "outputs": [],
   "source": [
    "flat_data_specs = (CompositeSpace(space_tuple), source_tuple)"
   ]
  },
  {
   "cell_type": "code",
   "execution_count": 130,
   "metadata": {
    "collapsed": false
   },
   "outputs": [],
   "source": [
    "iterator = tdataset.iterator(mode='random_slice', data_specs=flat_data_specs,\n",
    "                             batch_size=batch_size,num_batches=num_batches)"
   ]
  },
  {
   "cell_type": "code",
   "execution_count": 93,
   "metadata": {
    "collapsed": false
   },
   "outputs": [
    {
     "name": "stdout",
     "output_type": "stream",
     "text": [
      "Automatic pdb calling has been turned ON\n"
     ]
    }
   ],
   "source": [
    "%pdb"
   ]
  },
  {
   "cell_type": "code",
   "execution_count": 133,
   "metadata": {
    "collapsed": false
   },
   "outputs": [
    {
     "data": {
      "text/plain": [
       "(1, 48, 48, 128)"
      ]
     },
     "execution_count": 133,
     "metadata": {},
     "output_type": "execute_result"
    }
   ],
   "source": [
    "iterator.next().shape"
   ]
  },
  {
   "cell_type": "markdown",
   "metadata": {},
   "source": [
    "So the iterators can't actually produce examples? In that case, what is it actually training on? Maybe it's failing over to the raw iterator silently? Would explain the lack of difference in actual performance."
   ]
  },
  {
   "cell_type": "code",
   "execution_count": 580,
   "metadata": {
    "collapsed": false
   },
   "outputs": [
    {
     "data": {
      "text/plain": [
       "(128, 2304)"
      ]
     },
     "execution_count": 580,
     "metadata": {},
     "output_type": "execute_result"
    }
   ],
   "source": [
    "iterator.raw_iterator.next().shape"
   ]
  },
  {
   "cell_type": "code",
   "execution_count": 190,
   "metadata": {
    "collapsed": false
   },
   "outputs": [
    {
     "data": {
      "text/plain": [
       "2944"
      ]
     },
     "execution_count": 190,
     "metadata": {},
     "output_type": "execute_result"
    }
   ],
   "source": [
    "iterator.num_examples"
   ]
  },
  {
   "cell_type": "markdown",
   "metadata": {},
   "source": [
    "Smart Transformer\n",
    "======\n",
    "\n",
    "The big problem with the dataset before is that these transformations have to occur _after_ resizing, normalisation and loading all the images into this big numpy array. We might be able to hack our way round this by loading the images unprocessed into a very large numpy array and padding the spare area around most of the images with an indicator number; then shaving this off before augmentation and homogenisation back down to whatever size we're aiming for.\n",
    "\n",
    "It would be much better if the transformer dataset had a stochastic function which it applied whenever it needed a batch to a set of _raw images_ held in memory. To make this, first going to try to create a dummy raw dataset that simply loads the raw images as a list of numpy arrays and supports the expected interface that the Transformer class will be looking for. Then, we just need to initialise our Block class with a processing function that can support processing from raw images."
   ]
  },
  {
   "cell_type": "code",
   "execution_count": 31,
   "metadata": {
    "collapsed": true
   },
   "outputs": [],
   "source": [
    "import pylearn2.datasets"
   ]
  },
  {
   "cell_type": "code",
   "execution_count": 180,
   "metadata": {
    "collapsed": true
   },
   "outputs": [],
   "source": [
    "# don't have to think too hard about how to write this:\n",
    "# https://stackoverflow.com/questions/19151/build-a-basic-python-iterator\n",
    "class FlyIterator(object):\n",
    "    \"\"\"\n",
    "    Simple iterator class to take a dataset and iterate over\n",
    "    it's contents applying a processing function. Assuming\n",
    "    the dataset has a processing function to apply.\n",
    "    \n",
    "    It may have an issue of there being some leftover examples\n",
    "    that will never be shown on any epoch. Can avoid this by\n",
    "    seeding with sampled numbers from the dataset's own rng.\n",
    "    \"\"\"\n",
    "    def __init__(self, dataset, batch_size, num_batches,\n",
    "                 final_shape, seed=42):\n",
    "        self.dataset = dataset\n",
    "        self.batch_size = batch_size\n",
    "        self.num_batches = num_batches\n",
    "        self.final_shape = final_shape\n",
    "        # initialise rng\n",
    "        self.rng = np.random.RandomState(seed=seed)\n",
    "        # shuffle indices of size equal to number of examples\n",
    "        # in dataset\n",
    "        N = self.dataset.get_num_examples()\n",
    "        self.indices = range(N)\n",
    "        self.rng.shuffle(self.indices)\n",
    "        \n",
    "    def __iter__(self):\n",
    "        return self\n",
    "    \n",
    "    def next(self):\n",
    "        # return one batch\n",
    "        batch_indices = [self.indices.pop() for i in range(batch_size)]\n",
    "        # preallocate array\n",
    "        if len(self.final_shape) == 2: \n",
    "            batch = np.zeros([batch_size]+list(self.final_shape)+[1])\n",
    "        elif len(self.final_shape) == 3:\n",
    "            batch = np.zeros([batch_size]+list(self.final_shape))\n",
    "        # iterate over indices, applying the dataset's processing function\n",
    "        for i,j in enumerate(batch_indices):\n",
    "            batch[i] = self.dataset.fn(self.dataset.X[j]).reshape(batch.shape[1:])\n",
    "        return batch"
   ]
  },
  {
   "cell_type": "code",
   "execution_count": 181,
   "metadata": {
    "collapsed": false
   },
   "outputs": [],
   "source": [
    "class ListDataset(pylearn2.datasets.dataset.Dataset):\n",
    "    \"\"\"\n",
    "    Loads images as raw numpy arrays in a list, tries \n",
    "    its best to respect the interface expected of a \n",
    "    Pylearn2 Dataset.\n",
    "    \"\"\"\n",
    "    def __init__(self, transformer, settings_path=\"settings.json\", \n",
    "                 run_settings_path=\"run_settings/alexnet_based.json\",\n",
    "                 verbose=False, force=False, seed=42):\n",
    "        \"\"\"\n",
    "        Loads the images as a list of differently shaped\n",
    "        numpy arrays and loads the labels as a vector of \n",
    "        integers, mapped deterministically.\n",
    "        \"\"\"\n",
    "        self.fn = transformer\n",
    "        # load settings\n",
    "        self.settings = neukrill_net.utils.Settings(settings_path)\n",
    "        self.run_settings = neukrill_net.utils.load_run_settings(run_settings_path,\n",
    "                                                                 self.settings,\n",
    "                                                                 force=force)\n",
    "        self.X, labels = neukrill_net.utils.load_rawdata(self.settings.image_fnames,\n",
    "                                                 classes=self.settings.classes,\n",
    "                                                 verbose=verbose)\n",
    "        # transform labels from strings to integers\n",
    "        class_dictionary = {}\n",
    "        for i,c in enumerate(self.settings.classes):\n",
    "            class_dictionary[c] = i\n",
    "        self.y = np.array(map(lambda c: class_dictionary[c],labels))\n",
    "        \n",
    "        # set up the random state\n",
    "        self.rng = np.random.RandomState(seed)\n",
    "        \n",
    "        # shuffle a list of image indices\n",
    "        self.N = len(self.X)\n",
    "        self.indices = range(self.N)\n",
    "        self.rng.shuffle(self.indices)\n",
    "        \n",
    "    def iterator(self, mode=None, batch_size=None, num_batches=None, rng=None,\n",
    "                        data_specs=None, return_tuple=False):\n",
    "        \"\"\"\n",
    "        Returns iterator object with standard Pythonic interface; iterates\n",
    "        over the dataset over batches, popping off batches from a shuffled \n",
    "        list of indices.\n",
    "        \"\"\"\n",
    "        if not num_batches:\n",
    "            # guess that we want to use all of them\n",
    "            num_batches = int(len(dataset.X)/batch_size)\n",
    "        iterator = FlyIterator(dataset=self, batch_size=batch_size, \n",
    "                        num_batches=num_batches, final_shape=run_settings[\"final_shape\"],\n",
    "                               seed=self.rng.random_integers(low=0, high=256))\n",
    "        return iterator\n",
    "        \n",
    "    def adjust_to_be_viewed_with():\n",
    "        raise NotImplementedError(\"Didn't think this was important, so didn't write it.\")\n",
    "    \n",
    "    def get_batch_design(self, batch_size, include_labels=False):\n",
    "        \"\"\"\n",
    "        Will return a list of the size batch_size of carefully raveled arrays.\n",
    "        Optionally, will also include labels (using include_labels).\n",
    "        \"\"\"\n",
    "        selection = self.rng.random_integers(0,high=self.N,size=batch_size)\n",
    "        batch = [self.X[s].ravel() for s in selection]\n",
    "        return batch\n",
    "        \n",
    "    def get_batch_topo(self, batch_size, include_labels=False):\n",
    "        \"\"\"\n",
    "        Will return a list of the size batch_size of raw, unfiltered, artisan\n",
    "        numpy arrays. Optionally, will also include labels (using include_labels).\n",
    "        \n",
    "        Strongly discouraged to use this method for learning code, so I guess \n",
    "        this isn't so important?\n",
    "        \"\"\"\n",
    "        selection = self.rng.random_integers(0,high=self.N,size=batch_size)\n",
    "        batch = [self.X[s] for s in selection]\n",
    "        return batch\n",
    "        \n",
    "    def get_num_examples(self):\n",
    "        return self.N\n",
    "        \n",
    "    def get_topological_view():\n",
    "        raise NotImplementedError(\"Not written yet, not sure we need it\")\n",
    "        \n",
    "    def get_weights_view():\n",
    "        raise NotImplementedError(\"Not written yet, didn't think it was important\")\n",
    "        \n",
    "    def has_targets(self):\n",
    "        if self.y:\n",
    "            return True\n",
    "        else:\n",
    "            return False"
   ]
  },
  {
   "cell_type": "code",
   "execution_count": 182,
   "metadata": {
    "collapsed": false
   },
   "outputs": [],
   "source": [
    "lset = ListDataset(fn,force=True)"
   ]
  },
  {
   "cell_type": "code",
   "execution_count": 183,
   "metadata": {
    "collapsed": false
   },
   "outputs": [],
   "source": [
    "i = lset.iterator(batch_size=128)"
   ]
  },
  {
   "cell_type": "code",
   "execution_count": 186,
   "metadata": {
    "collapsed": false
   },
   "outputs": [
    {
     "name": "stdout",
     "output_type": "stream",
     "text": [
      "(128, 48, 48, 1)\n"
     ]
    }
   ],
   "source": [
    "for b in i:\n",
    "    print(b.shape)\n",
    "    t = b\n",
    "    break"
   ]
  },
  {
   "cell_type": "code",
   "execution_count": 187,
   "metadata": {
    "collapsed": false
   },
   "outputs": [
    {
     "data": {
      "text/html": [
       "<center><img src='data:image/png;base64,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' style='max-width:100%'/><center/>"
      ],
      "text/plain": [
       "Image.Image   (z)"
      ]
     },
     "execution_count": 187,
     "metadata": {},
     "output_type": "execute_result"
    }
   ],
   "source": [
    "hl.Image(t[1,:].squeeze())"
   ]
  },
  {
   "cell_type": "markdown",
   "metadata": {},
   "source": [
    "OK, so we've written a dataset that has an iterator that follows the standard Python conventions. Now, all we need to do is get Pylearn2 to accept this dataset. Easiest way to do this is to write it into a YAML file and run a training script. Writing the above into modules in our codebase and using the following YAML file:"
   ]
  },
  {
   "cell_type": "code",
   "execution_count": 191,
   "metadata": {
    "collapsed": false
   },
   "outputs": [
    {
     "name": "stdout",
     "output_type": "stream",
     "text": [
      "!obj:pylearn2.train.Train {\r\n",
      "    dataset: &train !obj:neukrill_net.image_directory_dataset.ListDataset {\r\n",
      "        transformer: !obj:neukrill_net.augment.RandomAugment {\r\n",
      "                units: 'float',\r\n",
      "                rotate: -1,\r\n",
      "                rotate_is_resizable: 0,\r\n",
      "                flip: 1,\r\n",
      "                resize: %(final_shape)s,\r\n",
      "                shunt: 0.075,\r\n",
      "                shear: 5\r\n",
      "            },\r\n",
      "        settings_path: %(settings_path)s,\r\n",
      "        run_settings_path: %(run_settings_path)s\r\n",
      "    },\r\n",
      "    model: !obj:pylearn2.models.mlp.MLP {\r\n",
      "        batch_size: &batch_size 128,\r\n",
      "        input_space: !obj:pylearn2.space.Conv2DSpace {\r\n",
      "            shape: %(final_shape)s,\r\n",
      "            num_channels: 1,\r\n",
      "            axes: ['b', 0, 1, 'c'],\r\n",
      "        },\r\n",
      "        layers: [ !obj:pylearn2.models.mlp.ConvRectifiedLinear {\r\n",
      "                     layer_name: h1,\r\n",
      "                     output_channels: 48,\r\n",
      "                     irange: .025,\r\n",
      "                     init_bias: 0,\r\n",
      "                     kernel_shape: [8, 8],\r\n",
      "                     pool_shape: [2, 2],\r\n",
      "                     pool_stride: [2, 2],\r\n",
      "                     max_kernel_norm: 1.9365\r\n",
      "                 },!obj:pylearn2.models.mlp.ConvRectifiedLinear {\r\n",
      "                     layer_name: h2,\r\n",
      "                     output_channels: 96,\r\n",
      "                     irange: .025,\r\n",
      "                     init_bias: 1,\r\n",
      "                     kernel_shape: [5, 5],\r\n",
      "                     pool_shape: [2, 2],\r\n",
      "                     pool_stride: [2, 2],\r\n",
      "                     max_kernel_norm: 1.9365\r\n",
      "                 }, !obj:pylearn2.models.mlp.ConvRectifiedLinear {\r\n",
      "                     layer_name: h3,\r\n",
      "                     output_channels: 128,\r\n",
      "                     irange: .025,\r\n",
      "                     init_bias: 0,\r\n",
      "                     kernel_shape: [3, 3],\r\n",
      "                     border_mode: full,\r\n",
      "                     pool_shape: [1, 1],\r\n",
      "                     pool_stride: [1, 1],\r\n",
      "                     max_kernel_norm: 1.9365\r\n",
      "                 }, !obj:pylearn2.models.mlp.ConvRectifiedLinear {\r\n",
      "                     layer_name: 'h4',\r\n",
      "                     output_channels: 128,\r\n",
      "                     irange: .025,\r\n",
      "                     init_bias: 1,\r\n",
      "                     kernel_shape: [3, 3],\r\n",
      "                     border_mode: full,\r\n",
      "                     pool_shape: [2, 2],\r\n",
      "                     pool_stride: [2, 2],\r\n",
      "                     max_kernel_norm: 1.9365\r\n",
      "                 }, !obj:pylearn2.models.mlp.RectifiedLinear {\r\n",
      "                     dim: 1024,\r\n",
      "                     max_col_norm: 1.9,\r\n",
      "                     layer_name: h5,\r\n",
      "                     istdev: .05,\r\n",
      "                     W_lr_scale: .25,\r\n",
      "                     b_lr_scale: .25\r\n",
      "                 }, !obj:pylearn2.models.mlp.Softmax {\r\n",
      "                     n_classes: %(n_classes)i,\r\n",
      "                     max_col_norm: 1.9365,\r\n",
      "                     layer_name: y,\r\n",
      "                     istdev: .05,\r\n",
      "                     W_lr_scale: .25,\r\n",
      "                     b_lr_scale: .25\r\n",
      "                 }\r\n",
      "                ],\r\n",
      "    },\r\n",
      "    algorithm: !obj:pylearn2.training_algorithms.sgd.SGD {\r\n",
      "        train_iteration_mode: even_shuffled_sequential,\r\n",
      "        monitor_iteration_mode: even_sequential,\r\n",
      "        batch_size: *batch_size,\r\n",
      "        learning_rate: .1,\r\n",
      "        learning_rule: !obj:pylearn2.training_algorithms.learning_rule.Momentum {\r\n",
      "            init_momentum: 0.5\r\n",
      "        },\r\n",
      "        monitoring_dataset: {\r\n",
      "                'train': *train,\r\n",
      "                'valid' : !obj:neukrill_net.dense_dataset.DensePNGDataset  {\r\n",
      "                                settings_path: %(settings_path)s,\r\n",
      "                                run_settings: %(run_settings_path)s,\r\n",
      "                                training_set_mode: \"validation\"\r\n",
      "            },\r\n",
      "        },\r\n",
      "        cost: !obj:pylearn2.costs.cost.SumOfCosts { costs: [ \r\n",
      "            !obj:pylearn2.costs.mlp.dropout.Dropout {\r\n",
      "                input_include_probs: {\r\n",
      "                    h1 : 1.,\r\n",
      "                    h2 : 1.,\r\n",
      "                    h3 : 1.,\r\n",
      "                    h4 : 1.,\r\n",
      "                    h5 : 0.5\r\n",
      "                },\r\n",
      "                input_scales: {\r\n",
      "                    h1 : 1.,\r\n",
      "                    h2 : 1.,\r\n",
      "                    h3 : 1.,\r\n",
      "                    h4 : 1.,\r\n",
      "                    h5 : 2.\r\n",
      "                }\r\n",
      "             },\r\n",
      "             !obj:pylearn2.costs.mlp.WeightDecay {\r\n",
      "                 coeffs : {\r\n",
      "                     h1 : .00005,\r\n",
      "                     h2 : .00005,\r\n",
      "                     h3 : .00005,\r\n",
      "                     h4 : .00005,\r\n",
      "                     h5 : .00005\r\n",
      "                 }\r\n",
      "             }\r\n",
      "             ]\r\n",
      "        },\r\n",
      "        termination_criterion: !obj:pylearn2.termination_criteria.And {\r\n",
      "            criteria: [\r\n",
      "                !obj:pylearn2.termination_criteria.EpochCounter {\r\n",
      "                    max_epochs: 500\r\n",
      "                },\r\n",
      "            ]\r\n",
      "        }\r\n",
      "    },\r\n",
      "    extensions: [\r\n",
      "        !obj:pylearn2.training_algorithms.learning_rule.MomentumAdjustor {\r\n",
      "            start: 1,\r\n",
      "            saturate: 250,\r\n",
      "            final_momentum: 0.95\r\n",
      "        },\r\n",
      "        !obj:pylearn2.training_algorithms.sgd.LinearDecayOverEpoch {\r\n",
      "            start: 1,\r\n",
      "            saturate: 250,\r\n",
      "            decay_factor: 0.025\r\n",
      "        },\r\n",
      "        !obj:pylearn2.train_extensions.best_params.MonitorBasedSaveBest {\r\n",
      "             channel_name: valid_y_misclass,\r\n",
      "             save_path: '%(save_path)s'\r\n",
      "        },\r\n",
      "        !obj:pylearn2.training_algorithms.sgd.MonitorBasedLRAdjuster {\r\n",
      "            high_trigger: 1.,\r\n",
      "            low_trigger: 0.999,\r\n",
      "            grow_amt: 1.02,\r\n",
      "            shrink_amt: 0.98,\r\n",
      "            max_lr: 0.4,\r\n",
      "            min_lr: 1e-5,\r\n",
      "            channel_name: valid_y_misclass\r\n",
      "        }\r\n",
      "    ],\r\n",
      "}\r\n"
     ]
    }
   ],
   "source": [
    "!cat yaml_templates/alexnet_based_listdataset.yaml"
   ]
  },
  {
   "cell_type": "markdown",
   "metadata": {},
   "source": [
    "Ran the model (many times) updating the code until it would work. Now the above YAML will train."
   ]
  }
 ],
 "metadata": {
  "kernelspec": {
   "display_name": "Python 2",
   "language": "python",
   "name": "python2"
  },
  "language_info": {
   "codemirror_mode": {
    "name": "ipython",
    "version": 2
   },
   "file_extension": ".py",
   "mimetype": "text/x-python",
   "name": "python",
   "nbconvert_exporter": "python",
   "pygments_lexer": "ipython2",
   "version": "2.7.8"
  }
 },
 "nbformat": 4,
 "nbformat_minor": 0
}
