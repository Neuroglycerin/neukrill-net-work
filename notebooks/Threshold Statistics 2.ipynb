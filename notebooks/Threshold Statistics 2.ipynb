{
 "cells": [
  {
   "cell_type": "code",
   "execution_count": 1,
   "metadata": {
    "collapsed": false
   },
   "outputs": [
    {
     "name": "stdout",
     "output_type": "stream",
     "text": [
      "Using matplotlib backend: TkAgg\n",
      "Populating the interactive namespace from numpy and matplotlib\n"
     ]
    }
   ],
   "source": [
    "%pylab\n",
    "%matplotlib inline"
   ]
  },
  {
   "cell_type": "code",
   "execution_count": 2,
   "metadata": {
    "collapsed": false
   },
   "outputs": [
    {
     "name": "stdout",
     "output_type": "stream",
     "text": [
      "/afs/inf.ed.ac.uk/user/s11/s1145806/Documents/git/neukrill-net-work\n"
     ]
    }
   ],
   "source": [
    "cd .."
   ]
  },
  {
   "cell_type": "code",
   "execution_count": 3,
   "metadata": {
    "collapsed": true
   },
   "outputs": [],
   "source": [
    "import sys\n",
    "import numpy as np\n",
    "import skimage\n",
    "import cv2\n",
    "import sklearn\n",
    "import imp"
   ]
  },
  {
   "cell_type": "code",
   "execution_count": 4,
   "metadata": {
    "collapsed": false
   },
   "outputs": [
    {
     "name": "stderr",
     "output_type": "stream",
     "text": [
      ":0: FutureWarning: IPython widgets are experimental and may change in the future.\n"
     ]
    }
   ],
   "source": [
    "from holoviews import *"
   ]
  },
  {
   "cell_type": "code",
   "execution_count": 5,
   "metadata": {
    "collapsed": false
   },
   "outputs": [],
   "source": [
    "import neukrill_net.utils\n",
    "import neukrill_net.highlevelfeatures"
   ]
  },
  {
   "cell_type": "code",
   "execution_count": 6,
   "metadata": {
    "collapsed": true
   },
   "outputs": [],
   "source": [
    "import time"
   ]
  },
  {
   "cell_type": "code",
   "execution_count": 7,
   "metadata": {
    "collapsed": true
   },
   "outputs": [],
   "source": [
    "settings = neukrill_net.utils.Settings('settings.json')"
   ]
  },
  {
   "cell_type": "code",
   "execution_count": 8,
   "metadata": {
    "collapsed": true
   },
   "outputs": [],
   "source": [
    "X,y = settings.flattened_train_paths(settings.classes)"
   ]
  },
  {
   "cell_type": "code",
   "execution_count": 9,
   "metadata": {
    "collapsed": true
   },
   "outputs": [],
   "source": [
    "hlf = neukrill_net.highlevelfeatures.ThresholdAdjacency()"
   ]
  },
  {
   "cell_type": "code",
   "execution_count": 10,
   "metadata": {
    "collapsed": false
   },
   "outputs": [
    {
     "name": "stdout",
     "output_type": "stream",
     "text": [
      "Computing features took 85.849462986\n"
     ]
    }
   ],
   "source": [
    "t0 = time.time()\n",
    "XF = hlf.transform(X)\n",
    "print(\"Computing features took {}\".format(time.time()-t0))"
   ]
  },
  {
   "cell_type": "code",
   "execution_count": 20,
   "metadata": {
    "collapsed": false
   },
   "outputs": [
    {
     "data": {
      "text/plain": [
       "(1, 30336, 54)"
      ]
     },
     "execution_count": 20,
     "metadata": {},
     "output_type": "execute_result"
    }
   ],
   "source": [
    "XF.shape"
   ]
  },
  {
   "cell_type": "code",
   "execution_count": 24,
   "metadata": {
    "collapsed": false
   },
   "outputs": [
    {
     "data": {
      "text/plain": [
       "['cache/pftas.pkl', 'cache/pftas.pkl_01.npy']"
      ]
     },
     "execution_count": 24,
     "metadata": {},
     "output_type": "execute_result"
    }
   ],
   "source": [
    "sklearn.externals.joblib.dump((hlf,XF,y),'cache/pftas.pkl')"
   ]
  },
  {
   "cell_type": "markdown",
   "metadata": {},
   "source": [
    "## Naive Bayes"
   ]
  },
  {
   "cell_type": "code",
   "execution_count": 11,
   "metadata": {
    "collapsed": true
   },
   "outputs": [],
   "source": [
    "import sklearn.naive_bayes"
   ]
  },
  {
   "cell_type": "code",
   "execution_count": 12,
   "metadata": {
    "collapsed": true
   },
   "outputs": [],
   "source": [
    "clf = sklearn.naive_bayes.GaussianNB()"
   ]
  },
  {
   "cell_type": "code",
   "execution_count": 13,
   "metadata": {
    "collapsed": false
   },
   "outputs": [
    {
     "name": "stdout",
     "output_type": "stream",
     "text": [
      "Time=0.0756931304932\n",
      "Accuracy=0.191455696203\n",
      "Logloss=14.5961701725\n"
     ]
    }
   ],
   "source": [
    "t0 = time.time()\n",
    "X_train, X_test, y_train, y_test = sklearn.cross_validation.train_test_split(\n",
    "    sklearn.preprocessing.StandardScaler().fit_transform(XF.squeeze(0)), y, test_size=0.5, random_state=42)\n",
    "clf.fit(X_train, y_train)\n",
    "\n",
    "t1 = time.time()\n",
    "total = t1-t0\n",
    "print(\"Time={}\".format(total))\n",
    "\n",
    "print(\"Accuracy={}\".format(clf.score(X_test, y_test)))\n",
    "print(\"Logloss={}\".format(sklearn.metrics.log_loss(y_test, clf.predict_proba(X_test))))"
   ]
  },
  {
   "cell_type": "markdown",
   "metadata": {},
   "source": [
    "## Logistic Regression"
   ]
  },
  {
   "cell_type": "code",
   "execution_count": 14,
   "metadata": {
    "collapsed": true
   },
   "outputs": [],
   "source": [
    "clf = sklearn.linear_model.LogisticRegression(random_state=42)"
   ]
  },
  {
   "cell_type": "code",
   "execution_count": 15,
   "metadata": {
    "collapsed": false
   },
   "outputs": [
    {
     "name": "stdout",
     "output_type": "stream",
     "text": [
      "Time=97.2654531002\n",
      "Accuracy=0.32865242616\n",
      "Logloss=2.76713927682\n"
     ]
    }
   ],
   "source": [
    "t0 = time.time()\n",
    "X_train, X_test, y_train, y_test = sklearn.cross_validation.train_test_split(\n",
    "    sklearn.preprocessing.StandardScaler().fit_transform(XF.squeeze(0)), y, test_size=0.5, random_state=42)\n",
    "clf.fit(X_train, y_train)\n",
    "\n",
    "t1 = time.time()\n",
    "total = t1-t0\n",
    "print(\"Time={}\".format(total))\n",
    "\n",
    "print(\"Accuracy={}\".format(clf.score(X_test, y_test)))\n",
    "print(\"Logloss={}\".format(sklearn.metrics.log_loss(y_test, clf.predict_proba(X_test))))"
   ]
  },
  {
   "cell_type": "markdown",
   "metadata": {},
   "source": [
    "## Random Forest"
   ]
  },
  {
   "cell_type": "code",
   "execution_count": 16,
   "metadata": {
    "collapsed": true
   },
   "outputs": [],
   "source": [
    "import sklearn.ensemble"
   ]
  },
  {
   "cell_type": "code",
   "execution_count": 17,
   "metadata": {
    "collapsed": false
   },
   "outputs": [
    {
     "name": "stdout",
     "output_type": "stream",
     "text": [
      "Time=310.334695101\n",
      "Accuracy=0.404535864979\n",
      "Logloss=2.40882472837\n"
     ]
    }
   ],
   "source": [
    "clf = sklearn.ensemble.RandomForestClassifier(n_estimators=1000, max_depth=20, min_samples_leaf=5)\n",
    "\n",
    "t0 = time.time()\n",
    "X_train, X_test, y_train, y_test = sklearn.cross_validation.train_test_split(\n",
    "    sklearn.preprocessing.StandardScaler().fit_transform(XF.squeeze(0)), y, test_size=0.5, random_state=42)\n",
    "clf.fit(X_train, y_train)\n",
    "\n",
    "t1 = time.time()\n",
    "total = t1-t0\n",
    "print(\"Time={}\".format(total))\n",
    "\n",
    "print(\"Accuracy={}\".format(clf.score(X_test, y_test)))\n",
    "print(\"Logloss={}\".format(sklearn.metrics.log_loss(y_test, clf.predict_proba(X_test))))"
   ]
  },
  {
   "cell_type": "markdown",
   "metadata": {
    "collapsed": true
   },
   "source": [
    "## Linear SVC"
   ]
  },
  {
   "cell_type": "code",
   "execution_count": 18,
   "metadata": {
    "collapsed": false
   },
   "outputs": [
    {
     "name": "stdout",
     "output_type": "stream",
     "text": [
      "Time=106.997659206\n",
      "Accuracy=0.380472046414\n",
      "Logloss=2.49029657269\n"
     ]
    }
   ],
   "source": [
    "clf = sklearn.svm.SVC(kernel='linear', probability=True, random_state=42)\n",
    "\n",
    "t0 = time.time()\n",
    "X_train, X_test, y_train, y_test = sklearn.cross_validation.train_test_split(\n",
    "    sklearn.preprocessing.StandardScaler().fit_transform(XF.squeeze(0)), y, test_size=0.5, random_state=42)\n",
    "clf.fit(X_train, y_train)\n",
    "\n",
    "t1 = time.time()\n",
    "total = t1-t0\n",
    "print(\"Time={}\".format(total))\n",
    "\n",
    "print(\"Accuracy={}\".format(clf.score(X_test, y_test)))\n",
    "print(\"Logloss={}\".format(sklearn.metrics.log_loss(y_test, clf.predict_proba(X_test))))"
   ]
  },
  {
   "cell_type": "markdown",
   "metadata": {
    "collapsed": true
   },
   "source": [
    "## Non-linear SVC"
   ]
  },
  {
   "cell_type": "markdown",
   "metadata": {},
   "source": [
    "one-vs-one"
   ]
  },
  {
   "cell_type": "code",
   "execution_count": 19,
   "metadata": {
    "collapsed": false
   },
   "outputs": [
    {
     "name": "stdout",
     "output_type": "stream",
     "text": [
      "Time=113.672945023\n",
      "Accuracy=0.382977320675\n",
      "Logloss=2.36932021533\n"
     ]
    }
   ],
   "source": [
    "clf = sklearn.svm.SVC(probability=True, random_state=42)\n",
    "\n",
    "t0 = time.time()\n",
    "X_train, X_test, y_train, y_test = sklearn.cross_validation.train_test_split(\n",
    "    sklearn.preprocessing.StandardScaler().fit_transform(XF.squeeze(0)), y, test_size=0.5, random_state=42)\n",
    "clf.fit(X_train, y_train)\n",
    "\n",
    "t1 = time.time()\n",
    "total = t1-t0\n",
    "print(\"Time={}\".format(total))\n",
    "\n",
    "print(\"Accuracy={}\".format(clf.score(X_test, y_test)))\n",
    "print(\"Logloss={}\".format(sklearn.metrics.log_loss(y_test, clf.predict_proba(X_test))))"
   ]
  }
 ],
 "metadata": {
  "kernelspec": {
   "display_name": "Python 2",
   "language": "python",
   "name": "python2"
  },
  "language_info": {
   "codemirror_mode": {
    "name": "ipython",
    "version": 2
   },
   "file_extension": ".py",
   "mimetype": "text/x-python",
   "name": "python",
   "nbconvert_exporter": "python",
   "pygments_lexer": "ipython2",
   "version": "2.7.8"
  }
 },
 "nbformat": 4,
 "nbformat_minor": 0
}
